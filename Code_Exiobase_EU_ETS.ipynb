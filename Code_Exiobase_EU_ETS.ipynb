{
 "cells": [
  {
   "cell_type": "markdown",
   "id": "9f48d69c",
   "metadata": {},
   "source": [
    "# Code Exiobase_EU_ETS_2 by Martínez-Hernando\n",
    "\n",
    "\n",
    "This information is necessary in Python, for activate the funtions \n",
    "If they are not installed is necessary to do it, write pip install XXXXX. If pip doesn't work put pip3, or pip3.11 (search on internet)\n",
    "\n",
    "Activate generical information"
   ]
  },
  {
   "cell_type": "code",
   "execution_count": 1,
   "id": "b745d568",
   "metadata": {},
   "outputs": [],
   "source": [
    "import pandas as pd #To real CSV and dataframes\n",
    "import numpy as np #To work with matrix\n",
    "from scipy import io, integrate, linalg, signal #Google told me, I don´t know what is it\n",
    "from scipy.sparse.linalg import cg, eigs #Google told me, I don´t know what is it"
   ]
  },
  {
   "cell_type": "markdown",
   "id": "df08e621",
   "metadata": {},
   "source": [
    "To create list"
   ]
  },
  {
   "cell_type": "code",
   "execution_count": 2,
   "id": "df887be7",
   "metadata": {},
   "outputs": [],
   "source": [
    "from typing import List, Tuple, Dict, Callable, Iterable, Union"
   ]
  },
  {
   "cell_type": "markdown",
   "id": "275ea0b9",
   "metadata": {},
   "source": [
    " # To use pymrio"
   ]
  },
  {
   "cell_type": "code",
   "execution_count": 3,
   "id": "22d0a09d",
   "metadata": {},
   "outputs": [],
   "source": [
    "import pymrio as mr"
   ]
  },
  {
   "cell_type": "markdown",
   "id": "94623ff7",
   "metadata": {},
   "source": [
    "Declare new IO system"
   ]
  },
  {
   "cell_type": "code",
   "execution_count": 4,
   "id": "7fa8ffdd",
   "metadata": {},
   "outputs": [],
   "source": [
    "exio3318=mr.IOSystem()"
   ]
  },
  {
   "cell_type": "markdown",
   "id": "9631c786",
   "metadata": {},
   "source": [
    "## Importing EXIOBASE 3.3.18 data\n",
    "We will only import:\n",
    "- $Z$, the intermediate consumption,\n",
    "- $Y$, the final demand,\n",
    "- $F$ and $F_Y$, the environmental extensions, only for air emissions."
   ]
  },
  {
   "cell_type": "code",
   "execution_count": 5,
   "id": "fb1f435f",
   "metadata": {},
   "outputs": [],
   "source": [
    "exiobase_folder=\"P:/Universidad/Exiobase/\" #Put here your folder where you have download Exiobase with /, no with \\"
   ]
  },
  {
   "cell_type": "markdown",
   "id": "66011b83",
   "metadata": {},
   "source": [
    "Z (Intermediate products)"
   ]
  },
  {
   "cell_type": "code",
   "execution_count": 6,
   "id": "c0c8e717",
   "metadata": {},
   "outputs": [
    {
     "data": {
      "text/html": [
       "<div>\n",
       "<style scoped>\n",
       "    .dataframe tbody tr th:only-of-type {\n",
       "        vertical-align: middle;\n",
       "    }\n",
       "\n",
       "    .dataframe tbody tr th {\n",
       "        vertical-align: top;\n",
       "    }\n",
       "\n",
       "    .dataframe thead tr th {\n",
       "        text-align: left;\n",
       "    }\n",
       "</style>\n",
       "<table border=\"1\" class=\"dataframe\">\n",
       "  <thead>\n",
       "    <tr>\n",
       "      <th></th>\n",
       "      <th></th>\n",
       "      <th></th>\n",
       "      <th></th>\n",
       "      <th></th>\n",
       "      <th colspan=\"10\" halign=\"left\">AU</th>\n",
       "      <th>...</th>\n",
       "      <th colspan=\"10\" halign=\"left\">WM</th>\n",
       "    </tr>\n",
       "    <tr>\n",
       "      <th></th>\n",
       "      <th></th>\n",
       "      <th></th>\n",
       "      <th></th>\n",
       "      <th></th>\n",
       "      <th>Cultivation of paddy rice</th>\n",
       "      <th>Cultivation of wheat</th>\n",
       "      <th>Cultivation of cereal grains nec</th>\n",
       "      <th>Cultivation of vegetables, fruit, nuts</th>\n",
       "      <th>Cultivation of oil seeds</th>\n",
       "      <th>Cultivation of sugar cane, sugar beet</th>\n",
       "      <th>Cultivation of plant-based fibers</th>\n",
       "      <th>Cultivation of crops nec</th>\n",
       "      <th>Cattle farming</th>\n",
       "      <th>Pigs farming</th>\n",
       "      <th>...</th>\n",
       "      <th>Landfill of waste: Paper</th>\n",
       "      <th>Landfill of waste: Plastic</th>\n",
       "      <th>Landfill of waste: Inert/metal/hazardous</th>\n",
       "      <th>Landfill of waste: Textiles</th>\n",
       "      <th>Landfill of waste: Wood</th>\n",
       "      <th>Activities of membership organisation n.e.c. (91)</th>\n",
       "      <th>Recreational, cultural and sporting activities (92)</th>\n",
       "      <th>Other service activities (93)</th>\n",
       "      <th>Private households with employed persons (95)</th>\n",
       "      <th>Extra-territorial organizations and bodies</th>\n",
       "    </tr>\n",
       "    <tr>\n",
       "      <th></th>\n",
       "      <th></th>\n",
       "      <th></th>\n",
       "      <th></th>\n",
       "      <th></th>\n",
       "      <th>i01.a</th>\n",
       "      <th>i01.b</th>\n",
       "      <th>i01.c</th>\n",
       "      <th>i01.d</th>\n",
       "      <th>i01.e</th>\n",
       "      <th>i01.f</th>\n",
       "      <th>i01.g</th>\n",
       "      <th>i01.h</th>\n",
       "      <th>i01.i</th>\n",
       "      <th>i01.j</th>\n",
       "      <th>...</th>\n",
       "      <th>i90.5.b</th>\n",
       "      <th>i90.5.c</th>\n",
       "      <th>i90.5.d</th>\n",
       "      <th>i90.5.e</th>\n",
       "      <th>i90.5.f</th>\n",
       "      <th>i91</th>\n",
       "      <th>i92</th>\n",
       "      <th>i93</th>\n",
       "      <th>i95</th>\n",
       "      <th>i99</th>\n",
       "    </tr>\n",
       "    <tr>\n",
       "      <th></th>\n",
       "      <th></th>\n",
       "      <th></th>\n",
       "      <th></th>\n",
       "      <th></th>\n",
       "      <th>A_PARI</th>\n",
       "      <th>A_WHEA</th>\n",
       "      <th>A_OCER</th>\n",
       "      <th>A_FVEG</th>\n",
       "      <th>A_OILS</th>\n",
       "      <th>A_SUGB</th>\n",
       "      <th>A_FIBR</th>\n",
       "      <th>A_OTCR</th>\n",
       "      <th>A_CATL</th>\n",
       "      <th>A_PIGS</th>\n",
       "      <th>...</th>\n",
       "      <th>A_LANP</th>\n",
       "      <th>A_LANL</th>\n",
       "      <th>A_LANI</th>\n",
       "      <th>A_LANT</th>\n",
       "      <th>A_LANW</th>\n",
       "      <th>A_ORGA</th>\n",
       "      <th>A_RECR</th>\n",
       "      <th>A_OSER</th>\n",
       "      <th>A_PRHH</th>\n",
       "      <th>A_EXTO</th>\n",
       "    </tr>\n",
       "  </thead>\n",
       "  <tbody>\n",
       "    <tr>\n",
       "      <th rowspan=\"5\" valign=\"top\">AU</th>\n",
       "      <th>Paddy rice</th>\n",
       "      <th>p01.a</th>\n",
       "      <th>C_PARI</th>\n",
       "      <th>tonnes</th>\n",
       "      <td>0.0</td>\n",
       "      <td>0.0</td>\n",
       "      <td>0.00000</td>\n",
       "      <td>0.00000</td>\n",
       "      <td>0.0</td>\n",
       "      <td>0.0</td>\n",
       "      <td>0.00</td>\n",
       "      <td>0.0</td>\n",
       "      <td>0.000000e+00</td>\n",
       "      <td>0.000000</td>\n",
       "      <td>...</td>\n",
       "      <td>0.0</td>\n",
       "      <td>0.0</td>\n",
       "      <td>0.0</td>\n",
       "      <td>0.0</td>\n",
       "      <td>0.0</td>\n",
       "      <td>0.0</td>\n",
       "      <td>0.0</td>\n",
       "      <td>0.0</td>\n",
       "      <td>0.0</td>\n",
       "      <td>0</td>\n",
       "    </tr>\n",
       "    <tr>\n",
       "      <th>Wheat</th>\n",
       "      <th>p01.b</th>\n",
       "      <th>C_WHEA</th>\n",
       "      <th>tonnes</th>\n",
       "      <td>0.0</td>\n",
       "      <td>0.0</td>\n",
       "      <td>0.00000</td>\n",
       "      <td>0.00000</td>\n",
       "      <td>0.0</td>\n",
       "      <td>0.0</td>\n",
       "      <td>0.00</td>\n",
       "      <td>0.0</td>\n",
       "      <td>6.791574e+05</td>\n",
       "      <td>156083.893300</td>\n",
       "      <td>...</td>\n",
       "      <td>0.0</td>\n",
       "      <td>0.0</td>\n",
       "      <td>0.0</td>\n",
       "      <td>0.0</td>\n",
       "      <td>0.0</td>\n",
       "      <td>0.0</td>\n",
       "      <td>0.0</td>\n",
       "      <td>0.0</td>\n",
       "      <td>0.0</td>\n",
       "      <td>0</td>\n",
       "    </tr>\n",
       "    <tr>\n",
       "      <th>Cereal grains nec</th>\n",
       "      <th>p01.c</th>\n",
       "      <th>C_OCER</th>\n",
       "      <th>tonnes</th>\n",
       "      <td>0.0</td>\n",
       "      <td>0.0</td>\n",
       "      <td>70942.96547</td>\n",
       "      <td>0.00000</td>\n",
       "      <td>0.0</td>\n",
       "      <td>0.0</td>\n",
       "      <td>0.00</td>\n",
       "      <td>0.0</td>\n",
       "      <td>2.277000e+06</td>\n",
       "      <td>823314.442100</td>\n",
       "      <td>...</td>\n",
       "      <td>0.0</td>\n",
       "      <td>0.0</td>\n",
       "      <td>0.0</td>\n",
       "      <td>0.0</td>\n",
       "      <td>0.0</td>\n",
       "      <td>0.0</td>\n",
       "      <td>0.0</td>\n",
       "      <td>0.0</td>\n",
       "      <td>0.0</td>\n",
       "      <td>0</td>\n",
       "    </tr>\n",
       "    <tr>\n",
       "      <th>Vegetables, fruit, nuts</th>\n",
       "      <th>p01.d</th>\n",
       "      <th>C_FVEG</th>\n",
       "      <th>tonnes</th>\n",
       "      <td>0.0</td>\n",
       "      <td>0.0</td>\n",
       "      <td>0.00000</td>\n",
       "      <td>18266.75262</td>\n",
       "      <td>0.0</td>\n",
       "      <td>0.0</td>\n",
       "      <td>0.00</td>\n",
       "      <td>0.0</td>\n",
       "      <td>1.552051e+03</td>\n",
       "      <td>255.322381</td>\n",
       "      <td>...</td>\n",
       "      <td>0.0</td>\n",
       "      <td>0.0</td>\n",
       "      <td>0.0</td>\n",
       "      <td>0.0</td>\n",
       "      <td>0.0</td>\n",
       "      <td>0.0</td>\n",
       "      <td>0.0</td>\n",
       "      <td>0.0</td>\n",
       "      <td>0.0</td>\n",
       "      <td>0</td>\n",
       "    </tr>\n",
       "    <tr>\n",
       "      <th>Oil seeds</th>\n",
       "      <th>p01.e</th>\n",
       "      <th>C_OILS</th>\n",
       "      <th>tonnes</th>\n",
       "      <td>0.0</td>\n",
       "      <td>0.0</td>\n",
       "      <td>0.00000</td>\n",
       "      <td>0.00000</td>\n",
       "      <td>0.0</td>\n",
       "      <td>0.0</td>\n",
       "      <td>-1206065.87</td>\n",
       "      <td>0.0</td>\n",
       "      <td>0.000000e+00</td>\n",
       "      <td>0.000000</td>\n",
       "      <td>...</td>\n",
       "      <td>0.0</td>\n",
       "      <td>0.0</td>\n",
       "      <td>0.0</td>\n",
       "      <td>0.0</td>\n",
       "      <td>0.0</td>\n",
       "      <td>0.0</td>\n",
       "      <td>0.0</td>\n",
       "      <td>0.0</td>\n",
       "      <td>0.0</td>\n",
       "      <td>0</td>\n",
       "    </tr>\n",
       "  </tbody>\n",
       "</table>\n",
       "<p>5 rows × 7872 columns</p>\n",
       "</div>"
      ],
      "text/plain": [
       "                                                                      AU  \\\n",
       "                                               Cultivation of paddy rice   \n",
       "                                                                   i01.a   \n",
       "                                                                  A_PARI   \n",
       "AU Paddy rice              p01.a C_PARI tonnes                       0.0   \n",
       "   Wheat                   p01.b C_WHEA tonnes                       0.0   \n",
       "   Cereal grains nec       p01.c C_OCER tonnes                       0.0   \n",
       "   Vegetables, fruit, nuts p01.d C_FVEG tonnes                       0.0   \n",
       "   Oil seeds               p01.e C_OILS tonnes                       0.0   \n",
       "\n",
       "                                                                     \\\n",
       "                                               Cultivation of wheat   \n",
       "                                                              i01.b   \n",
       "                                                             A_WHEA   \n",
       "AU Paddy rice              p01.a C_PARI tonnes                  0.0   \n",
       "   Wheat                   p01.b C_WHEA tonnes                  0.0   \n",
       "   Cereal grains nec       p01.c C_OCER tonnes                  0.0   \n",
       "   Vegetables, fruit, nuts p01.d C_FVEG tonnes                  0.0   \n",
       "   Oil seeds               p01.e C_OILS tonnes                  0.0   \n",
       "\n",
       "                                                                                 \\\n",
       "                                               Cultivation of cereal grains nec   \n",
       "                                                                          i01.c   \n",
       "                                                                         A_OCER   \n",
       "AU Paddy rice              p01.a C_PARI tonnes                          0.00000   \n",
       "   Wheat                   p01.b C_WHEA tonnes                          0.00000   \n",
       "   Cereal grains nec       p01.c C_OCER tonnes                      70942.96547   \n",
       "   Vegetables, fruit, nuts p01.d C_FVEG tonnes                          0.00000   \n",
       "   Oil seeds               p01.e C_OILS tonnes                          0.00000   \n",
       "\n",
       "                                                                                       \\\n",
       "                                               Cultivation of vegetables, fruit, nuts   \n",
       "                                                                                i01.d   \n",
       "                                                                               A_FVEG   \n",
       "AU Paddy rice              p01.a C_PARI tonnes                                0.00000   \n",
       "   Wheat                   p01.b C_WHEA tonnes                                0.00000   \n",
       "   Cereal grains nec       p01.c C_OCER tonnes                                0.00000   \n",
       "   Vegetables, fruit, nuts p01.d C_FVEG tonnes                            18266.75262   \n",
       "   Oil seeds               p01.e C_OILS tonnes                                0.00000   \n",
       "\n",
       "                                                                         \\\n",
       "                                               Cultivation of oil seeds   \n",
       "                                                                  i01.e   \n",
       "                                                                 A_OILS   \n",
       "AU Paddy rice              p01.a C_PARI tonnes                      0.0   \n",
       "   Wheat                   p01.b C_WHEA tonnes                      0.0   \n",
       "   Cereal grains nec       p01.c C_OCER tonnes                      0.0   \n",
       "   Vegetables, fruit, nuts p01.d C_FVEG tonnes                      0.0   \n",
       "   Oil seeds               p01.e C_OILS tonnes                      0.0   \n",
       "\n",
       "                                                                                      \\\n",
       "                                               Cultivation of sugar cane, sugar beet   \n",
       "                                                                               i01.f   \n",
       "                                                                              A_SUGB   \n",
       "AU Paddy rice              p01.a C_PARI tonnes                                   0.0   \n",
       "   Wheat                   p01.b C_WHEA tonnes                                   0.0   \n",
       "   Cereal grains nec       p01.c C_OCER tonnes                                   0.0   \n",
       "   Vegetables, fruit, nuts p01.d C_FVEG tonnes                                   0.0   \n",
       "   Oil seeds               p01.e C_OILS tonnes                                   0.0   \n",
       "\n",
       "                                                                                  \\\n",
       "                                               Cultivation of plant-based fibers   \n",
       "                                                                           i01.g   \n",
       "                                                                          A_FIBR   \n",
       "AU Paddy rice              p01.a C_PARI tonnes                              0.00   \n",
       "   Wheat                   p01.b C_WHEA tonnes                              0.00   \n",
       "   Cereal grains nec       p01.c C_OCER tonnes                              0.00   \n",
       "   Vegetables, fruit, nuts p01.d C_FVEG tonnes                              0.00   \n",
       "   Oil seeds               p01.e C_OILS tonnes                       -1206065.87   \n",
       "\n",
       "                                                                         \\\n",
       "                                               Cultivation of crops nec   \n",
       "                                                                  i01.h   \n",
       "                                                                 A_OTCR   \n",
       "AU Paddy rice              p01.a C_PARI tonnes                      0.0   \n",
       "   Wheat                   p01.b C_WHEA tonnes                      0.0   \n",
       "   Cereal grains nec       p01.c C_OCER tonnes                      0.0   \n",
       "   Vegetables, fruit, nuts p01.d C_FVEG tonnes                      0.0   \n",
       "   Oil seeds               p01.e C_OILS tonnes                      0.0   \n",
       "\n",
       "                                                                              \\\n",
       "                                               Cattle farming   Pigs farming   \n",
       "                                                        i01.i          i01.j   \n",
       "                                                       A_CATL         A_PIGS   \n",
       "AU Paddy rice              p01.a C_PARI tonnes   0.000000e+00       0.000000   \n",
       "   Wheat                   p01.b C_WHEA tonnes   6.791574e+05  156083.893300   \n",
       "   Cereal grains nec       p01.c C_OCER tonnes   2.277000e+06  823314.442100   \n",
       "   Vegetables, fruit, nuts p01.d C_FVEG tonnes   1.552051e+03     255.322381   \n",
       "   Oil seeds               p01.e C_OILS tonnes   0.000000e+00       0.000000   \n",
       "\n",
       "                                                ...                       WM  \\\n",
       "                                                ... Landfill of waste: Paper   \n",
       "                                                ...                  i90.5.b   \n",
       "                                                ...                   A_LANP   \n",
       "AU Paddy rice              p01.a C_PARI tonnes  ...                      0.0   \n",
       "   Wheat                   p01.b C_WHEA tonnes  ...                      0.0   \n",
       "   Cereal grains nec       p01.c C_OCER tonnes  ...                      0.0   \n",
       "   Vegetables, fruit, nuts p01.d C_FVEG tonnes  ...                      0.0   \n",
       "   Oil seeds               p01.e C_OILS tonnes  ...                      0.0   \n",
       "\n",
       "                                                                           \\\n",
       "                                               Landfill of waste: Plastic   \n",
       "                                                                  i90.5.c   \n",
       "                                                                   A_LANL   \n",
       "AU Paddy rice              p01.a C_PARI tonnes                        0.0   \n",
       "   Wheat                   p01.b C_WHEA tonnes                        0.0   \n",
       "   Cereal grains nec       p01.c C_OCER tonnes                        0.0   \n",
       "   Vegetables, fruit, nuts p01.d C_FVEG tonnes                        0.0   \n",
       "   Oil seeds               p01.e C_OILS tonnes                        0.0   \n",
       "\n",
       "                                                                                         \\\n",
       "                                               Landfill of waste: Inert/metal/hazardous   \n",
       "                                                                                i90.5.d   \n",
       "                                                                                 A_LANI   \n",
       "AU Paddy rice              p01.a C_PARI tonnes                                      0.0   \n",
       "   Wheat                   p01.b C_WHEA tonnes                                      0.0   \n",
       "   Cereal grains nec       p01.c C_OCER tonnes                                      0.0   \n",
       "   Vegetables, fruit, nuts p01.d C_FVEG tonnes                                      0.0   \n",
       "   Oil seeds               p01.e C_OILS tonnes                                      0.0   \n",
       "\n",
       "                                                                            \\\n",
       "                                               Landfill of waste: Textiles   \n",
       "                                                                   i90.5.e   \n",
       "                                                                    A_LANT   \n",
       "AU Paddy rice              p01.a C_PARI tonnes                         0.0   \n",
       "   Wheat                   p01.b C_WHEA tonnes                         0.0   \n",
       "   Cereal grains nec       p01.c C_OCER tonnes                         0.0   \n",
       "   Vegetables, fruit, nuts p01.d C_FVEG tonnes                         0.0   \n",
       "   Oil seeds               p01.e C_OILS tonnes                         0.0   \n",
       "\n",
       "                                                                        \\\n",
       "                                               Landfill of waste: Wood   \n",
       "                                                               i90.5.f   \n",
       "                                                                A_LANW   \n",
       "AU Paddy rice              p01.a C_PARI tonnes                     0.0   \n",
       "   Wheat                   p01.b C_WHEA tonnes                     0.0   \n",
       "   Cereal grains nec       p01.c C_OCER tonnes                     0.0   \n",
       "   Vegetables, fruit, nuts p01.d C_FVEG tonnes                     0.0   \n",
       "   Oil seeds               p01.e C_OILS tonnes                     0.0   \n",
       "\n",
       "                                                                                                  \\\n",
       "                                               Activities of membership organisation n.e.c. (91)   \n",
       "                                                                                             i91   \n",
       "                                                                                          A_ORGA   \n",
       "AU Paddy rice              p01.a C_PARI tonnes                                               0.0   \n",
       "   Wheat                   p01.b C_WHEA tonnes                                               0.0   \n",
       "   Cereal grains nec       p01.c C_OCER tonnes                                               0.0   \n",
       "   Vegetables, fruit, nuts p01.d C_FVEG tonnes                                               0.0   \n",
       "   Oil seeds               p01.e C_OILS tonnes                                               0.0   \n",
       "\n",
       "                                                                                                    \\\n",
       "                                               Recreational, cultural and sporting activities (92)   \n",
       "                                                                                               i92   \n",
       "                                                                                            A_RECR   \n",
       "AU Paddy rice              p01.a C_PARI tonnes                                                0.0    \n",
       "   Wheat                   p01.b C_WHEA tonnes                                                0.0    \n",
       "   Cereal grains nec       p01.c C_OCER tonnes                                                0.0    \n",
       "   Vegetables, fruit, nuts p01.d C_FVEG tonnes                                                0.0    \n",
       "   Oil seeds               p01.e C_OILS tonnes                                                0.0    \n",
       "\n",
       "                                                                              \\\n",
       "                                               Other service activities (93)   \n",
       "                                                                         i93   \n",
       "                                                                      A_OSER   \n",
       "AU Paddy rice              p01.a C_PARI tonnes                           0.0   \n",
       "   Wheat                   p01.b C_WHEA tonnes                           0.0   \n",
       "   Cereal grains nec       p01.c C_OCER tonnes                           0.0   \n",
       "   Vegetables, fruit, nuts p01.d C_FVEG tonnes                           0.0   \n",
       "   Oil seeds               p01.e C_OILS tonnes                           0.0   \n",
       "\n",
       "                                                                                              \\\n",
       "                                               Private households with employed persons (95)   \n",
       "                                                                                         i95   \n",
       "                                                                                      A_PRHH   \n",
       "AU Paddy rice              p01.a C_PARI tonnes                                           0.0   \n",
       "   Wheat                   p01.b C_WHEA tonnes                                           0.0   \n",
       "   Cereal grains nec       p01.c C_OCER tonnes                                           0.0   \n",
       "   Vegetables, fruit, nuts p01.d C_FVEG tonnes                                           0.0   \n",
       "   Oil seeds               p01.e C_OILS tonnes                                           0.0   \n",
       "\n",
       "                                                                                           \n",
       "                                               Extra-territorial organizations and bodies  \n",
       "                                                                                      i99  \n",
       "                                                                                   A_EXTO  \n",
       "AU Paddy rice              p01.a C_PARI tonnes                                          0  \n",
       "   Wheat                   p01.b C_WHEA tonnes                                          0  \n",
       "   Cereal grains nec       p01.c C_OCER tonnes                                          0  \n",
       "   Vegetables, fruit, nuts p01.d C_FVEG tonnes                                          0  \n",
       "   Oil seeds               p01.e C_OILS tonnes                                          0  \n",
       "\n",
       "[5 rows x 7872 columns]"
      ]
     },
     "execution_count": 6,
     "metadata": {},
     "output_type": "execute_result"
    }
   ],
   "source": [
    "Z_raw=pd.read_csv(exiobase_folder + \"MR_HIOT_2011_v3_3_18_by_product_technology.csv\", #You should have this name of file, if not change it\n",
    "                    index_col = [0,1,2,3,4],\n",
    "                    header = [0,1,2,3])\n",
    "Z_raw.head() #To see the first lines"
   ]
  },
  {
   "cell_type": "code",
   "execution_count": 7,
   "id": "e00279ca",
   "metadata": {},
   "outputs": [
    {
     "data": {
      "text/html": [
       "<div>\n",
       "<style scoped>\n",
       "    .dataframe tbody tr th:only-of-type {\n",
       "        vertical-align: middle;\n",
       "    }\n",
       "\n",
       "    .dataframe tbody tr th {\n",
       "        vertical-align: top;\n",
       "    }\n",
       "\n",
       "    .dataframe thead tr th {\n",
       "        text-align: left;\n",
       "    }\n",
       "\n",
       "    .dataframe thead tr:last-of-type th {\n",
       "        text-align: right;\n",
       "    }\n",
       "</style>\n",
       "<table border=\"1\" class=\"dataframe\">\n",
       "  <thead>\n",
       "    <tr>\n",
       "      <th></th>\n",
       "      <th>region</th>\n",
       "      <th colspan=\"10\" halign=\"left\">AU</th>\n",
       "      <th>...</th>\n",
       "      <th colspan=\"10\" halign=\"left\">WM</th>\n",
       "    </tr>\n",
       "    <tr>\n",
       "      <th></th>\n",
       "      <th>sector</th>\n",
       "      <th>Paddy rice</th>\n",
       "      <th>Wheat</th>\n",
       "      <th>Cereal grains nec</th>\n",
       "      <th>Vegetables, fruit, nuts</th>\n",
       "      <th>Oil seeds</th>\n",
       "      <th>Sugar cane, sugar beet</th>\n",
       "      <th>Plant-based fibers</th>\n",
       "      <th>Crops nec</th>\n",
       "      <th>Cattle</th>\n",
       "      <th>Pigs</th>\n",
       "      <th>...</th>\n",
       "      <th>Paper for treatment: landfill</th>\n",
       "      <th>Plastic waste for treatment: landfill</th>\n",
       "      <th>Inert/metal/hazardous waste for treatment: landfill</th>\n",
       "      <th>Textiles waste for treatment: landfill</th>\n",
       "      <th>Wood waste for treatment: landfill</th>\n",
       "      <th>Membership organisation services n.e.c. (91)</th>\n",
       "      <th>Recreational, cultural and sporting services (92)</th>\n",
       "      <th>Other services (93)</th>\n",
       "      <th>Private households with employed persons (95)</th>\n",
       "      <th>Extra-territorial organizations and bodies</th>\n",
       "    </tr>\n",
       "    <tr>\n",
       "      <th>region</th>\n",
       "      <th>sector</th>\n",
       "      <th></th>\n",
       "      <th></th>\n",
       "      <th></th>\n",
       "      <th></th>\n",
       "      <th></th>\n",
       "      <th></th>\n",
       "      <th></th>\n",
       "      <th></th>\n",
       "      <th></th>\n",
       "      <th></th>\n",
       "      <th></th>\n",
       "      <th></th>\n",
       "      <th></th>\n",
       "      <th></th>\n",
       "      <th></th>\n",
       "      <th></th>\n",
       "      <th></th>\n",
       "      <th></th>\n",
       "      <th></th>\n",
       "      <th></th>\n",
       "      <th></th>\n",
       "    </tr>\n",
       "  </thead>\n",
       "  <tbody>\n",
       "    <tr>\n",
       "      <th rowspan=\"5\" valign=\"top\">AU</th>\n",
       "      <th>Paddy rice</th>\n",
       "      <td>0.0</td>\n",
       "      <td>0.0</td>\n",
       "      <td>0.00000</td>\n",
       "      <td>0.00000</td>\n",
       "      <td>0.0</td>\n",
       "      <td>0.0</td>\n",
       "      <td>0.00</td>\n",
       "      <td>0.0</td>\n",
       "      <td>0.000000e+00</td>\n",
       "      <td>0.000000</td>\n",
       "      <td>...</td>\n",
       "      <td>0.0</td>\n",
       "      <td>0.0</td>\n",
       "      <td>0.0</td>\n",
       "      <td>0.0</td>\n",
       "      <td>0.0</td>\n",
       "      <td>0.0</td>\n",
       "      <td>0.0</td>\n",
       "      <td>0.0</td>\n",
       "      <td>0.0</td>\n",
       "      <td>0</td>\n",
       "    </tr>\n",
       "    <tr>\n",
       "      <th>Wheat</th>\n",
       "      <td>0.0</td>\n",
       "      <td>0.0</td>\n",
       "      <td>0.00000</td>\n",
       "      <td>0.00000</td>\n",
       "      <td>0.0</td>\n",
       "      <td>0.0</td>\n",
       "      <td>0.00</td>\n",
       "      <td>0.0</td>\n",
       "      <td>6.791574e+05</td>\n",
       "      <td>156083.893300</td>\n",
       "      <td>...</td>\n",
       "      <td>0.0</td>\n",
       "      <td>0.0</td>\n",
       "      <td>0.0</td>\n",
       "      <td>0.0</td>\n",
       "      <td>0.0</td>\n",
       "      <td>0.0</td>\n",
       "      <td>0.0</td>\n",
       "      <td>0.0</td>\n",
       "      <td>0.0</td>\n",
       "      <td>0</td>\n",
       "    </tr>\n",
       "    <tr>\n",
       "      <th>Cereal grains nec</th>\n",
       "      <td>0.0</td>\n",
       "      <td>0.0</td>\n",
       "      <td>70942.96547</td>\n",
       "      <td>0.00000</td>\n",
       "      <td>0.0</td>\n",
       "      <td>0.0</td>\n",
       "      <td>0.00</td>\n",
       "      <td>0.0</td>\n",
       "      <td>2.277000e+06</td>\n",
       "      <td>823314.442100</td>\n",
       "      <td>...</td>\n",
       "      <td>0.0</td>\n",
       "      <td>0.0</td>\n",
       "      <td>0.0</td>\n",
       "      <td>0.0</td>\n",
       "      <td>0.0</td>\n",
       "      <td>0.0</td>\n",
       "      <td>0.0</td>\n",
       "      <td>0.0</td>\n",
       "      <td>0.0</td>\n",
       "      <td>0</td>\n",
       "    </tr>\n",
       "    <tr>\n",
       "      <th>Vegetables, fruit, nuts</th>\n",
       "      <td>0.0</td>\n",
       "      <td>0.0</td>\n",
       "      <td>0.00000</td>\n",
       "      <td>18266.75262</td>\n",
       "      <td>0.0</td>\n",
       "      <td>0.0</td>\n",
       "      <td>0.00</td>\n",
       "      <td>0.0</td>\n",
       "      <td>1.552051e+03</td>\n",
       "      <td>255.322381</td>\n",
       "      <td>...</td>\n",
       "      <td>0.0</td>\n",
       "      <td>0.0</td>\n",
       "      <td>0.0</td>\n",
       "      <td>0.0</td>\n",
       "      <td>0.0</td>\n",
       "      <td>0.0</td>\n",
       "      <td>0.0</td>\n",
       "      <td>0.0</td>\n",
       "      <td>0.0</td>\n",
       "      <td>0</td>\n",
       "    </tr>\n",
       "    <tr>\n",
       "      <th>Oil seeds</th>\n",
       "      <td>0.0</td>\n",
       "      <td>0.0</td>\n",
       "      <td>0.00000</td>\n",
       "      <td>0.00000</td>\n",
       "      <td>0.0</td>\n",
       "      <td>0.0</td>\n",
       "      <td>-1206065.87</td>\n",
       "      <td>0.0</td>\n",
       "      <td>0.000000e+00</td>\n",
       "      <td>0.000000</td>\n",
       "      <td>...</td>\n",
       "      <td>0.0</td>\n",
       "      <td>0.0</td>\n",
       "      <td>0.0</td>\n",
       "      <td>0.0</td>\n",
       "      <td>0.0</td>\n",
       "      <td>0.0</td>\n",
       "      <td>0.0</td>\n",
       "      <td>0.0</td>\n",
       "      <td>0.0</td>\n",
       "      <td>0</td>\n",
       "    </tr>\n",
       "  </tbody>\n",
       "</table>\n",
       "<p>5 rows × 7872 columns</p>\n",
       "</div>"
      ],
      "text/plain": [
       "region                                 AU                          \\\n",
       "sector                         Paddy rice Wheat Cereal grains nec   \n",
       "region sector                                                       \n",
       "AU     Paddy rice                     0.0   0.0           0.00000   \n",
       "       Wheat                          0.0   0.0           0.00000   \n",
       "       Cereal grains nec              0.0   0.0       70942.96547   \n",
       "       Vegetables, fruit, nuts        0.0   0.0           0.00000   \n",
       "       Oil seeds                      0.0   0.0           0.00000   \n",
       "\n",
       "region                                                            \\\n",
       "sector                         Vegetables, fruit, nuts Oil seeds   \n",
       "region sector                                                      \n",
       "AU     Paddy rice                              0.00000       0.0   \n",
       "       Wheat                                   0.00000       0.0   \n",
       "       Cereal grains nec                       0.00000       0.0   \n",
       "       Vegetables, fruit, nuts             18266.75262       0.0   \n",
       "       Oil seeds                               0.00000       0.0   \n",
       "\n",
       "region                                                                    \\\n",
       "sector                         Sugar cane, sugar beet Plant-based fibers   \n",
       "region sector                                                              \n",
       "AU     Paddy rice                                 0.0               0.00   \n",
       "       Wheat                                      0.0               0.00   \n",
       "       Cereal grains nec                          0.0               0.00   \n",
       "       Vegetables, fruit, nuts                    0.0               0.00   \n",
       "       Oil seeds                                  0.0        -1206065.87   \n",
       "\n",
       "region                                                                 ...  \\\n",
       "sector                         Crops nec        Cattle           Pigs  ...   \n",
       "region sector                                                          ...   \n",
       "AU     Paddy rice                    0.0  0.000000e+00       0.000000  ...   \n",
       "       Wheat                         0.0  6.791574e+05  156083.893300  ...   \n",
       "       Cereal grains nec             0.0  2.277000e+06  823314.442100  ...   \n",
       "       Vegetables, fruit, nuts       0.0  1.552051e+03     255.322381  ...   \n",
       "       Oil seeds                     0.0  0.000000e+00       0.000000  ...   \n",
       "\n",
       "region                                                    WM  \\\n",
       "sector                         Paper for treatment: landfill   \n",
       "region sector                                                  \n",
       "AU     Paddy rice                                        0.0   \n",
       "       Wheat                                             0.0   \n",
       "       Cereal grains nec                                 0.0   \n",
       "       Vegetables, fruit, nuts                           0.0   \n",
       "       Oil seeds                                         0.0   \n",
       "\n",
       "region                                                                \\\n",
       "sector                         Plastic waste for treatment: landfill   \n",
       "region sector                                                          \n",
       "AU     Paddy rice                                                0.0   \n",
       "       Wheat                                                     0.0   \n",
       "       Cereal grains nec                                         0.0   \n",
       "       Vegetables, fruit, nuts                                   0.0   \n",
       "       Oil seeds                                                 0.0   \n",
       "\n",
       "region                                                                              \\\n",
       "sector                         Inert/metal/hazardous waste for treatment: landfill   \n",
       "region sector                                                                        \n",
       "AU     Paddy rice                                                             0.0    \n",
       "       Wheat                                                                  0.0    \n",
       "       Cereal grains nec                                                      0.0    \n",
       "       Vegetables, fruit, nuts                                                0.0    \n",
       "       Oil seeds                                                              0.0    \n",
       "\n",
       "region                                                                 \\\n",
       "sector                         Textiles waste for treatment: landfill   \n",
       "region sector                                                           \n",
       "AU     Paddy rice                                                 0.0   \n",
       "       Wheat                                                      0.0   \n",
       "       Cereal grains nec                                          0.0   \n",
       "       Vegetables, fruit, nuts                                    0.0   \n",
       "       Oil seeds                                                  0.0   \n",
       "\n",
       "region                                                             \\\n",
       "sector                         Wood waste for treatment: landfill   \n",
       "region sector                                                       \n",
       "AU     Paddy rice                                             0.0   \n",
       "       Wheat                                                  0.0   \n",
       "       Cereal grains nec                                      0.0   \n",
       "       Vegetables, fruit, nuts                                0.0   \n",
       "       Oil seeds                                              0.0   \n",
       "\n",
       "region                                                                       \\\n",
       "sector                         Membership organisation services n.e.c. (91)   \n",
       "region sector                                                                 \n",
       "AU     Paddy rice                                                       0.0   \n",
       "       Wheat                                                            0.0   \n",
       "       Cereal grains nec                                                0.0   \n",
       "       Vegetables, fruit, nuts                                          0.0   \n",
       "       Oil seeds                                                        0.0   \n",
       "\n",
       "region                                                                            \\\n",
       "sector                         Recreational, cultural and sporting services (92)   \n",
       "region sector                                                                      \n",
       "AU     Paddy rice                                                            0.0   \n",
       "       Wheat                                                                 0.0   \n",
       "       Cereal grains nec                                                     0.0   \n",
       "       Vegetables, fruit, nuts                                               0.0   \n",
       "       Oil seeds                                                             0.0   \n",
       "\n",
       "region                                              \\\n",
       "sector                         Other services (93)   \n",
       "region sector                                        \n",
       "AU     Paddy rice                              0.0   \n",
       "       Wheat                                   0.0   \n",
       "       Cereal grains nec                       0.0   \n",
       "       Vegetables, fruit, nuts                 0.0   \n",
       "       Oil seeds                               0.0   \n",
       "\n",
       "region                                                                        \\\n",
       "sector                         Private households with employed persons (95)   \n",
       "region sector                                                                  \n",
       "AU     Paddy rice                                                        0.0   \n",
       "       Wheat                                                             0.0   \n",
       "       Cereal grains nec                                                 0.0   \n",
       "       Vegetables, fruit, nuts                                           0.0   \n",
       "       Oil seeds                                                         0.0   \n",
       "\n",
       "region                                                                     \n",
       "sector                         Extra-territorial organizations and bodies  \n",
       "region sector                                                              \n",
       "AU     Paddy rice                                                       0  \n",
       "       Wheat                                                            0  \n",
       "       Cereal grains nec                                                0  \n",
       "       Vegetables, fruit, nuts                                          0  \n",
       "       Oil seeds                                                        0  \n",
       "\n",
       "[5 rows x 7872 columns]"
      ]
     },
     "execution_count": 7,
     "metadata": {},
     "output_type": "execute_result"
    }
   ],
   "source": [
    "Z_reindexed=Z_raw.droplevel([2,3,4], axis=0).copy() #To remove useless rows\n",
    "Z_reindexed.index.names=[\"region\",\"sector\"]\n",
    "Z_reindexed.columns=Z_reindexed.index\n",
    "Z_reindexed.head()\n"
   ]
  },
  {
   "cell_type": "code",
   "execution_count": 8,
   "id": "c46f5dcb",
   "metadata": {},
   "outputs": [],
   "source": [
    "exio3318.Z=Z_reindexed"
   ]
  },
  {
   "cell_type": "markdown",
   "id": "aa7fb2af",
   "metadata": {},
   "source": [
    "Y (Final demand)"
   ]
  },
  {
   "cell_type": "code",
   "execution_count": 9,
   "id": "cd7b3385",
   "metadata": {},
   "outputs": [],
   "source": [
    "Y_raw = pd.read_csv(exiobase_folder + \"MR_HIOT_2011_v3_3_18_FD.csv\", #You should have this name of file, if not change it\n",
    "                    index_col = [0,1,2,3,4],\n",
    "                    header = [0,1,2,3])\n",
    "\n",
    "Y_reindexed=Y_raw.droplevel([2,3], axis=1).copy() #To remove useless columns\n",
    "Y_reindexed.index=Z_reindexed.index\n",
    "Y_reindexed.columns.names=[\"region\", \"sector\"] #To name the columns\n",
    "exio3318.Y=Y_reindexed"
   ]
  },
  {
   "cell_type": "code",
   "execution_count": 10,
   "id": "2f1b6f74",
   "metadata": {},
   "outputs": [
    {
     "data": {
      "text/html": [
       "<div>\n",
       "<style scoped>\n",
       "    .dataframe tbody tr th:only-of-type {\n",
       "        vertical-align: middle;\n",
       "    }\n",
       "\n",
       "    .dataframe tbody tr th {\n",
       "        vertical-align: top;\n",
       "    }\n",
       "\n",
       "    .dataframe thead tr th {\n",
       "        text-align: left;\n",
       "    }\n",
       "\n",
       "    .dataframe thead tr:last-of-type th {\n",
       "        text-align: right;\n",
       "    }\n",
       "</style>\n",
       "<table border=\"1\" class=\"dataframe\">\n",
       "  <thead>\n",
       "    <tr>\n",
       "      <th></th>\n",
       "      <th>region</th>\n",
       "      <th colspan=\"6\" halign=\"left\">AU</th>\n",
       "      <th colspan=\"4\" halign=\"left\">AT</th>\n",
       "      <th>...</th>\n",
       "      <th colspan=\"4\" halign=\"left\">WF</th>\n",
       "      <th colspan=\"6\" halign=\"left\">WM</th>\n",
       "    </tr>\n",
       "    <tr>\n",
       "      <th></th>\n",
       "      <th>sector</th>\n",
       "      <th>Final consumption expenditure by households</th>\n",
       "      <th>Final consumption expenditure by non-profit organisations serving households (NPISH)</th>\n",
       "      <th>Final consumption expenditure by government</th>\n",
       "      <th>Gross fixed capital formation</th>\n",
       "      <th>Changes in inventories</th>\n",
       "      <th>Changes in valuables</th>\n",
       "      <th>Final consumption expenditure by households</th>\n",
       "      <th>Final consumption expenditure by non-profit organisations serving households (NPISH)</th>\n",
       "      <th>Final consumption expenditure by government</th>\n",
       "      <th>Gross fixed capital formation</th>\n",
       "      <th>...</th>\n",
       "      <th>Final consumption expenditure by government</th>\n",
       "      <th>Gross fixed capital formation</th>\n",
       "      <th>Changes in inventories</th>\n",
       "      <th>Changes in valuables</th>\n",
       "      <th>Final consumption expenditure by households</th>\n",
       "      <th>Final consumption expenditure by non-profit organisations serving households (NPISH)</th>\n",
       "      <th>Final consumption expenditure by government</th>\n",
       "      <th>Gross fixed capital formation</th>\n",
       "      <th>Changes in inventories</th>\n",
       "      <th>Changes in valuables</th>\n",
       "    </tr>\n",
       "    <tr>\n",
       "      <th>region</th>\n",
       "      <th>sector</th>\n",
       "      <th></th>\n",
       "      <th></th>\n",
       "      <th></th>\n",
       "      <th></th>\n",
       "      <th></th>\n",
       "      <th></th>\n",
       "      <th></th>\n",
       "      <th></th>\n",
       "      <th></th>\n",
       "      <th></th>\n",
       "      <th></th>\n",
       "      <th></th>\n",
       "      <th></th>\n",
       "      <th></th>\n",
       "      <th></th>\n",
       "      <th></th>\n",
       "      <th></th>\n",
       "      <th></th>\n",
       "      <th></th>\n",
       "      <th></th>\n",
       "      <th></th>\n",
       "    </tr>\n",
       "  </thead>\n",
       "  <tbody>\n",
       "    <tr>\n",
       "      <th rowspan=\"5\" valign=\"top\">AU</th>\n",
       "      <th>Paddy rice</th>\n",
       "      <td>0.000000e+00</td>\n",
       "      <td>0.000000</td>\n",
       "      <td>0.000000</td>\n",
       "      <td>0.0</td>\n",
       "      <td>0.00000</td>\n",
       "      <td>0</td>\n",
       "      <td>0.000000</td>\n",
       "      <td>0.0</td>\n",
       "      <td>0.0</td>\n",
       "      <td>0.000000</td>\n",
       "      <td>...</td>\n",
       "      <td>0.000000</td>\n",
       "      <td>0.000000</td>\n",
       "      <td>0.0</td>\n",
       "      <td>0</td>\n",
       "      <td>0.000000</td>\n",
       "      <td>0.000000</td>\n",
       "      <td>0.000000</td>\n",
       "      <td>0.00000</td>\n",
       "      <td>0.0</td>\n",
       "      <td>0</td>\n",
       "    </tr>\n",
       "    <tr>\n",
       "      <th>Wheat</th>\n",
       "      <td>0.000000e+00</td>\n",
       "      <td>317232.259200</td>\n",
       "      <td>635980.576100</td>\n",
       "      <td>0.0</td>\n",
       "      <td>0.00000</td>\n",
       "      <td>0</td>\n",
       "      <td>0.000000</td>\n",
       "      <td>0.0</td>\n",
       "      <td>0.0</td>\n",
       "      <td>0.000000</td>\n",
       "      <td>...</td>\n",
       "      <td>1299.891228</td>\n",
       "      <td>0.000000</td>\n",
       "      <td>0.0</td>\n",
       "      <td>0</td>\n",
       "      <td>108912.695300</td>\n",
       "      <td>188.294944</td>\n",
       "      <td>483381.948000</td>\n",
       "      <td>0.00000</td>\n",
       "      <td>0.0</td>\n",
       "      <td>0</td>\n",
       "    </tr>\n",
       "    <tr>\n",
       "      <th>Cereal grains nec</th>\n",
       "      <td>0.000000e+00</td>\n",
       "      <td>20796.255720</td>\n",
       "      <td>43596.865240</td>\n",
       "      <td>0.0</td>\n",
       "      <td>0.00000</td>\n",
       "      <td>0</td>\n",
       "      <td>0.645819</td>\n",
       "      <td>0.0</td>\n",
       "      <td>0.0</td>\n",
       "      <td>0.000000</td>\n",
       "      <td>...</td>\n",
       "      <td>1.659671</td>\n",
       "      <td>0.000000</td>\n",
       "      <td>0.0</td>\n",
       "      <td>0</td>\n",
       "      <td>56.219835</td>\n",
       "      <td>0.057518</td>\n",
       "      <td>0.504418</td>\n",
       "      <td>0.00000</td>\n",
       "      <td>0.0</td>\n",
       "      <td>0</td>\n",
       "    </tr>\n",
       "    <tr>\n",
       "      <th>Vegetables, fruit, nuts</th>\n",
       "      <td>1.255628e+06</td>\n",
       "      <td>9066.727501</td>\n",
       "      <td>13660.087220</td>\n",
       "      <td>0.0</td>\n",
       "      <td>25217.20699</td>\n",
       "      <td>0</td>\n",
       "      <td>262.282173</td>\n",
       "      <td>0.0</td>\n",
       "      <td>0.0</td>\n",
       "      <td>0.000000</td>\n",
       "      <td>...</td>\n",
       "      <td>8.159667</td>\n",
       "      <td>0.000000</td>\n",
       "      <td>0.0</td>\n",
       "      <td>0</td>\n",
       "      <td>92564.499830</td>\n",
       "      <td>6.799605</td>\n",
       "      <td>8906.972561</td>\n",
       "      <td>0.00000</td>\n",
       "      <td>0.0</td>\n",
       "      <td>0</td>\n",
       "    </tr>\n",
       "    <tr>\n",
       "      <th>Oil seeds</th>\n",
       "      <td>7.501443e+02</td>\n",
       "      <td>414.340678</td>\n",
       "      <td>402.405072</td>\n",
       "      <td>0.0</td>\n",
       "      <td>11344.59956</td>\n",
       "      <td>0</td>\n",
       "      <td>0.000000</td>\n",
       "      <td>0.0</td>\n",
       "      <td>0.0</td>\n",
       "      <td>0.009475</td>\n",
       "      <td>...</td>\n",
       "      <td>0.000000</td>\n",
       "      <td>0.000258</td>\n",
       "      <td>0.0</td>\n",
       "      <td>0</td>\n",
       "      <td>0.000000</td>\n",
       "      <td>0.000000</td>\n",
       "      <td>0.000000</td>\n",
       "      <td>0.00171</td>\n",
       "      <td>0.0</td>\n",
       "      <td>0</td>\n",
       "    </tr>\n",
       "  </tbody>\n",
       "</table>\n",
       "<p>5 rows × 288 columns</p>\n",
       "</div>"
      ],
      "text/plain": [
       "region                                                                  AU  \\\n",
       "sector                         Final consumption expenditure by households   \n",
       "region sector                                                                \n",
       "AU     Paddy rice                                             0.000000e+00   \n",
       "       Wheat                                                  0.000000e+00   \n",
       "       Cereal grains nec                                      0.000000e+00   \n",
       "       Vegetables, fruit, nuts                                1.255628e+06   \n",
       "       Oil seeds                                              7.501443e+02   \n",
       "\n",
       "region                                                                                                               \\\n",
       "sector                         Final consumption expenditure by non-profit organisations serving households (NPISH)   \n",
       "region sector                                                                                                         \n",
       "AU     Paddy rice                                                        0.000000                                     \n",
       "       Wheat                                                        317232.259200                                     \n",
       "       Cereal grains nec                                             20796.255720                                     \n",
       "       Vegetables, fruit, nuts                                        9066.727501                                     \n",
       "       Oil seeds                                                       414.340678                                     \n",
       "\n",
       "region                                                                      \\\n",
       "sector                         Final consumption expenditure by government   \n",
       "region sector                                                                \n",
       "AU     Paddy rice                                                 0.000000   \n",
       "       Wheat                                                 635980.576100   \n",
       "       Cereal grains nec                                      43596.865240   \n",
       "       Vegetables, fruit, nuts                                13660.087220   \n",
       "       Oil seeds                                                402.405072   \n",
       "\n",
       "region                                                        \\\n",
       "sector                         Gross fixed capital formation   \n",
       "region sector                                                  \n",
       "AU     Paddy rice                                        0.0   \n",
       "       Wheat                                             0.0   \n",
       "       Cereal grains nec                                 0.0   \n",
       "       Vegetables, fruit, nuts                           0.0   \n",
       "       Oil seeds                                         0.0   \n",
       "\n",
       "region                                                                      \\\n",
       "sector                         Changes in inventories Changes in valuables   \n",
       "region sector                                                                \n",
       "AU     Paddy rice                             0.00000                    0   \n",
       "       Wheat                                  0.00000                    0   \n",
       "       Cereal grains nec                      0.00000                    0   \n",
       "       Vegetables, fruit, nuts            25217.20699                    0   \n",
       "       Oil seeds                          11344.59956                    0   \n",
       "\n",
       "region                                                                  AT  \\\n",
       "sector                         Final consumption expenditure by households   \n",
       "region sector                                                                \n",
       "AU     Paddy rice                                                 0.000000   \n",
       "       Wheat                                                      0.000000   \n",
       "       Cereal grains nec                                          0.645819   \n",
       "       Vegetables, fruit, nuts                                  262.282173   \n",
       "       Oil seeds                                                  0.000000   \n",
       "\n",
       "region                                                                                                               \\\n",
       "sector                         Final consumption expenditure by non-profit organisations serving households (NPISH)   \n",
       "region sector                                                                                                         \n",
       "AU     Paddy rice                                                             0.0                                     \n",
       "       Wheat                                                                  0.0                                     \n",
       "       Cereal grains nec                                                      0.0                                     \n",
       "       Vegetables, fruit, nuts                                                0.0                                     \n",
       "       Oil seeds                                                              0.0                                     \n",
       "\n",
       "region                                                                      \\\n",
       "sector                         Final consumption expenditure by government   \n",
       "region sector                                                                \n",
       "AU     Paddy rice                                                      0.0   \n",
       "       Wheat                                                           0.0   \n",
       "       Cereal grains nec                                               0.0   \n",
       "       Vegetables, fruit, nuts                                         0.0   \n",
       "       Oil seeds                                                       0.0   \n",
       "\n",
       "region                                                        ...  \\\n",
       "sector                         Gross fixed capital formation  ...   \n",
       "region sector                                                 ...   \n",
       "AU     Paddy rice                                   0.000000  ...   \n",
       "       Wheat                                        0.000000  ...   \n",
       "       Cereal grains nec                            0.000000  ...   \n",
       "       Vegetables, fruit, nuts                      0.000000  ...   \n",
       "       Oil seeds                                    0.009475  ...   \n",
       "\n",
       "region                                                                  WF  \\\n",
       "sector                         Final consumption expenditure by government   \n",
       "region sector                                                                \n",
       "AU     Paddy rice                                                 0.000000   \n",
       "       Wheat                                                   1299.891228   \n",
       "       Cereal grains nec                                          1.659671   \n",
       "       Vegetables, fruit, nuts                                    8.159667   \n",
       "       Oil seeds                                                  0.000000   \n",
       "\n",
       "region                                                        \\\n",
       "sector                         Gross fixed capital formation   \n",
       "region sector                                                  \n",
       "AU     Paddy rice                                   0.000000   \n",
       "       Wheat                                        0.000000   \n",
       "       Cereal grains nec                            0.000000   \n",
       "       Vegetables, fruit, nuts                      0.000000   \n",
       "       Oil seeds                                    0.000258   \n",
       "\n",
       "region                                                                      \\\n",
       "sector                         Changes in inventories Changes in valuables   \n",
       "region sector                                                                \n",
       "AU     Paddy rice                                 0.0                    0   \n",
       "       Wheat                                      0.0                    0   \n",
       "       Cereal grains nec                          0.0                    0   \n",
       "       Vegetables, fruit, nuts                    0.0                    0   \n",
       "       Oil seeds                                  0.0                    0   \n",
       "\n",
       "region                                                                  WM  \\\n",
       "sector                         Final consumption expenditure by households   \n",
       "region sector                                                                \n",
       "AU     Paddy rice                                                 0.000000   \n",
       "       Wheat                                                 108912.695300   \n",
       "       Cereal grains nec                                         56.219835   \n",
       "       Vegetables, fruit, nuts                                92564.499830   \n",
       "       Oil seeds                                                  0.000000   \n",
       "\n",
       "region                                                                                                               \\\n",
       "sector                         Final consumption expenditure by non-profit organisations serving households (NPISH)   \n",
       "region sector                                                                                                         \n",
       "AU     Paddy rice                                                        0.000000                                     \n",
       "       Wheat                                                           188.294944                                     \n",
       "       Cereal grains nec                                                 0.057518                                     \n",
       "       Vegetables, fruit, nuts                                           6.799605                                     \n",
       "       Oil seeds                                                         0.000000                                     \n",
       "\n",
       "region                                                                      \\\n",
       "sector                         Final consumption expenditure by government   \n",
       "region sector                                                                \n",
       "AU     Paddy rice                                                 0.000000   \n",
       "       Wheat                                                 483381.948000   \n",
       "       Cereal grains nec                                          0.504418   \n",
       "       Vegetables, fruit, nuts                                 8906.972561   \n",
       "       Oil seeds                                                  0.000000   \n",
       "\n",
       "region                                                        \\\n",
       "sector                         Gross fixed capital formation   \n",
       "region sector                                                  \n",
       "AU     Paddy rice                                    0.00000   \n",
       "       Wheat                                         0.00000   \n",
       "       Cereal grains nec                             0.00000   \n",
       "       Vegetables, fruit, nuts                       0.00000   \n",
       "       Oil seeds                                     0.00171   \n",
       "\n",
       "region                                                                      \n",
       "sector                         Changes in inventories Changes in valuables  \n",
       "region sector                                                               \n",
       "AU     Paddy rice                                 0.0                    0  \n",
       "       Wheat                                      0.0                    0  \n",
       "       Cereal grains nec                          0.0                    0  \n",
       "       Vegetables, fruit, nuts                    0.0                    0  \n",
       "       Oil seeds                                  0.0                    0  \n",
       "\n",
       "[5 rows x 288 columns]"
      ]
     },
     "execution_count": 10,
     "metadata": {},
     "output_type": "execute_result"
    }
   ],
   "source": [
    "exio3318.Y.head()"
   ]
  },
  {
   "cell_type": "markdown",
   "id": "792c67a1",
   "metadata": {},
   "source": [
    "Test that the core elements are well-parsed"
   ]
  },
  {
   "cell_type": "code",
   "execution_count": 11,
   "id": "2ea7138c",
   "metadata": {},
   "outputs": [
    {
     "data": {
      "text/html": [
       "<div>\n",
       "<style scoped>\n",
       "    .dataframe tbody tr th:only-of-type {\n",
       "        vertical-align: middle;\n",
       "    }\n",
       "\n",
       "    .dataframe tbody tr th {\n",
       "        vertical-align: top;\n",
       "    }\n",
       "\n",
       "    .dataframe thead tr th {\n",
       "        text-align: left;\n",
       "    }\n",
       "\n",
       "    .dataframe thead tr:last-of-type th {\n",
       "        text-align: right;\n",
       "    }\n",
       "</style>\n",
       "<table border=\"1\" class=\"dataframe\">\n",
       "  <thead>\n",
       "    <tr>\n",
       "      <th></th>\n",
       "      <th>region</th>\n",
       "      <th colspan=\"10\" halign=\"left\">AU</th>\n",
       "      <th>...</th>\n",
       "      <th colspan=\"10\" halign=\"left\">WM</th>\n",
       "    </tr>\n",
       "    <tr>\n",
       "      <th></th>\n",
       "      <th>sector</th>\n",
       "      <th>Paddy rice</th>\n",
       "      <th>Wheat</th>\n",
       "      <th>Cereal grains nec</th>\n",
       "      <th>Vegetables, fruit, nuts</th>\n",
       "      <th>Oil seeds</th>\n",
       "      <th>Sugar cane, sugar beet</th>\n",
       "      <th>Plant-based fibers</th>\n",
       "      <th>Crops nec</th>\n",
       "      <th>Cattle</th>\n",
       "      <th>Pigs</th>\n",
       "      <th>...</th>\n",
       "      <th>Paper for treatment: landfill</th>\n",
       "      <th>Plastic waste for treatment: landfill</th>\n",
       "      <th>Inert/metal/hazardous waste for treatment: landfill</th>\n",
       "      <th>Textiles waste for treatment: landfill</th>\n",
       "      <th>Wood waste for treatment: landfill</th>\n",
       "      <th>Membership organisation services n.e.c. (91)</th>\n",
       "      <th>Recreational, cultural and sporting services (92)</th>\n",
       "      <th>Other services (93)</th>\n",
       "      <th>Private households with employed persons (95)</th>\n",
       "      <th>Extra-territorial organizations and bodies</th>\n",
       "    </tr>\n",
       "    <tr>\n",
       "      <th>region</th>\n",
       "      <th>sector</th>\n",
       "      <th></th>\n",
       "      <th></th>\n",
       "      <th></th>\n",
       "      <th></th>\n",
       "      <th></th>\n",
       "      <th></th>\n",
       "      <th></th>\n",
       "      <th></th>\n",
       "      <th></th>\n",
       "      <th></th>\n",
       "      <th></th>\n",
       "      <th></th>\n",
       "      <th></th>\n",
       "      <th></th>\n",
       "      <th></th>\n",
       "      <th></th>\n",
       "      <th></th>\n",
       "      <th></th>\n",
       "      <th></th>\n",
       "      <th></th>\n",
       "      <th></th>\n",
       "    </tr>\n",
       "  </thead>\n",
       "  <tbody>\n",
       "    <tr>\n",
       "      <th rowspan=\"5\" valign=\"top\">AU</th>\n",
       "      <th>Paddy rice</th>\n",
       "      <td>1.000009</td>\n",
       "      <td>0.000008</td>\n",
       "      <td>0.000006</td>\n",
       "      <td>0.000049</td>\n",
       "      <td>0.000027</td>\n",
       "      <td>0.000004</td>\n",
       "      <td>0.000104</td>\n",
       "      <td>0.001503</td>\n",
       "      <td>0.005874</td>\n",
       "      <td>0.000821</td>\n",
       "      <td>...</td>\n",
       "      <td>3.028264e-08</td>\n",
       "      <td>1.159917e-08</td>\n",
       "      <td>2.102449e-09</td>\n",
       "      <td>7.836877e-08</td>\n",
       "      <td>3.018703e-07</td>\n",
       "      <td>0.000030</td>\n",
       "      <td>0.000034</td>\n",
       "      <td>0.000023</td>\n",
       "      <td>0.000037</td>\n",
       "      <td>0.0</td>\n",
       "    </tr>\n",
       "    <tr>\n",
       "      <th>Wheat</th>\n",
       "      <td>0.000216</td>\n",
       "      <td>1.000193</td>\n",
       "      <td>0.000137</td>\n",
       "      <td>0.001163</td>\n",
       "      <td>0.000679</td>\n",
       "      <td>0.000125</td>\n",
       "      <td>0.002369</td>\n",
       "      <td>0.062994</td>\n",
       "      <td>0.628912</td>\n",
       "      <td>0.714555</td>\n",
       "      <td>...</td>\n",
       "      <td>2.976197e-06</td>\n",
       "      <td>3.506702e-06</td>\n",
       "      <td>2.009846e-07</td>\n",
       "      <td>9.979293e-06</td>\n",
       "      <td>3.233507e-05</td>\n",
       "      <td>0.001707</td>\n",
       "      <td>0.010377</td>\n",
       "      <td>0.002109</td>\n",
       "      <td>0.001656</td>\n",
       "      <td>0.0</td>\n",
       "    </tr>\n",
       "    <tr>\n",
       "      <th>Cereal grains nec</th>\n",
       "      <td>0.000088</td>\n",
       "      <td>0.000081</td>\n",
       "      <td>1.007140</td>\n",
       "      <td>0.000583</td>\n",
       "      <td>0.000366</td>\n",
       "      <td>0.000041</td>\n",
       "      <td>0.000951</td>\n",
       "      <td>0.019043</td>\n",
       "      <td>2.059080</td>\n",
       "      <td>3.760873</td>\n",
       "      <td>...</td>\n",
       "      <td>3.354884e-06</td>\n",
       "      <td>2.519620e-07</td>\n",
       "      <td>5.861412e-08</td>\n",
       "      <td>4.815109e-06</td>\n",
       "      <td>3.370548e-05</td>\n",
       "      <td>0.000550</td>\n",
       "      <td>0.000662</td>\n",
       "      <td>0.000547</td>\n",
       "      <td>0.000643</td>\n",
       "      <td>0.0</td>\n",
       "    </tr>\n",
       "    <tr>\n",
       "      <th>Vegetables, fruit, nuts</th>\n",
       "      <td>0.000020</td>\n",
       "      <td>0.000019</td>\n",
       "      <td>0.000012</td>\n",
       "      <td>1.005752</td>\n",
       "      <td>0.000030</td>\n",
       "      <td>0.000009</td>\n",
       "      <td>0.000248</td>\n",
       "      <td>0.003652</td>\n",
       "      <td>0.065239</td>\n",
       "      <td>0.116988</td>\n",
       "      <td>...</td>\n",
       "      <td>1.959977e-07</td>\n",
       "      <td>1.428908e-07</td>\n",
       "      <td>1.290512e-08</td>\n",
       "      <td>5.981356e-07</td>\n",
       "      <td>2.100614e-06</td>\n",
       "      <td>0.000113</td>\n",
       "      <td>0.000274</td>\n",
       "      <td>0.000125</td>\n",
       "      <td>0.000117</td>\n",
       "      <td>0.0</td>\n",
       "    </tr>\n",
       "    <tr>\n",
       "      <th>Oil seeds</th>\n",
       "      <td>0.000009</td>\n",
       "      <td>0.000010</td>\n",
       "      <td>0.000024</td>\n",
       "      <td>0.000144</td>\n",
       "      <td>1.000765</td>\n",
       "      <td>0.000003</td>\n",
       "      <td>-1.552196</td>\n",
       "      <td>0.003211</td>\n",
       "      <td>0.068144</td>\n",
       "      <td>0.142334</td>\n",
       "      <td>...</td>\n",
       "      <td>-5.969246e-06</td>\n",
       "      <td>-1.526406e-06</td>\n",
       "      <td>-1.268768e-06</td>\n",
       "      <td>-2.166224e-05</td>\n",
       "      <td>-1.872916e-04</td>\n",
       "      <td>-0.004142</td>\n",
       "      <td>-0.006638</td>\n",
       "      <td>-0.004943</td>\n",
       "      <td>-0.002096</td>\n",
       "      <td>0.0</td>\n",
       "    </tr>\n",
       "  </tbody>\n",
       "</table>\n",
       "<p>5 rows × 7872 columns</p>\n",
       "</div>"
      ],
      "text/plain": [
       "region                                 AU                              \\\n",
       "sector                         Paddy rice     Wheat Cereal grains nec   \n",
       "region sector                                                           \n",
       "AU     Paddy rice                1.000009  0.000008          0.000006   \n",
       "       Wheat                     0.000216  1.000193          0.000137   \n",
       "       Cereal grains nec         0.000088  0.000081          1.007140   \n",
       "       Vegetables, fruit, nuts   0.000020  0.000019          0.000012   \n",
       "       Oil seeds                 0.000009  0.000010          0.000024   \n",
       "\n",
       "region                                                            \\\n",
       "sector                         Vegetables, fruit, nuts Oil seeds   \n",
       "region sector                                                      \n",
       "AU     Paddy rice                             0.000049  0.000027   \n",
       "       Wheat                                  0.001163  0.000679   \n",
       "       Cereal grains nec                      0.000583  0.000366   \n",
       "       Vegetables, fruit, nuts                1.005752  0.000030   \n",
       "       Oil seeds                              0.000144  1.000765   \n",
       "\n",
       "region                                                                    \\\n",
       "sector                         Sugar cane, sugar beet Plant-based fibers   \n",
       "region sector                                                              \n",
       "AU     Paddy rice                            0.000004           0.000104   \n",
       "       Wheat                                 0.000125           0.002369   \n",
       "       Cereal grains nec                     0.000041           0.000951   \n",
       "       Vegetables, fruit, nuts               0.000009           0.000248   \n",
       "       Oil seeds                             0.000003          -1.552196   \n",
       "\n",
       "region                                                        ...  \\\n",
       "sector                         Crops nec    Cattle      Pigs  ...   \n",
       "region sector                                                 ...   \n",
       "AU     Paddy rice               0.001503  0.005874  0.000821  ...   \n",
       "       Wheat                    0.062994  0.628912  0.714555  ...   \n",
       "       Cereal grains nec        0.019043  2.059080  3.760873  ...   \n",
       "       Vegetables, fruit, nuts  0.003652  0.065239  0.116988  ...   \n",
       "       Oil seeds                0.003211  0.068144  0.142334  ...   \n",
       "\n",
       "region                                                    WM  \\\n",
       "sector                         Paper for treatment: landfill   \n",
       "region sector                                                  \n",
       "AU     Paddy rice                               3.028264e-08   \n",
       "       Wheat                                    2.976197e-06   \n",
       "       Cereal grains nec                        3.354884e-06   \n",
       "       Vegetables, fruit, nuts                  1.959977e-07   \n",
       "       Oil seeds                               -5.969246e-06   \n",
       "\n",
       "region                                                                \\\n",
       "sector                         Plastic waste for treatment: landfill   \n",
       "region sector                                                          \n",
       "AU     Paddy rice                                       1.159917e-08   \n",
       "       Wheat                                            3.506702e-06   \n",
       "       Cereal grains nec                                2.519620e-07   \n",
       "       Vegetables, fruit, nuts                          1.428908e-07   \n",
       "       Oil seeds                                       -1.526406e-06   \n",
       "\n",
       "region                                                                              \\\n",
       "sector                         Inert/metal/hazardous waste for treatment: landfill   \n",
       "region sector                                                                        \n",
       "AU     Paddy rice                                                    2.102449e-09    \n",
       "       Wheat                                                         2.009846e-07    \n",
       "       Cereal grains nec                                             5.861412e-08    \n",
       "       Vegetables, fruit, nuts                                       1.290512e-08    \n",
       "       Oil seeds                                                    -1.268768e-06    \n",
       "\n",
       "region                                                                 \\\n",
       "sector                         Textiles waste for treatment: landfill   \n",
       "region sector                                                           \n",
       "AU     Paddy rice                                        7.836877e-08   \n",
       "       Wheat                                             9.979293e-06   \n",
       "       Cereal grains nec                                 4.815109e-06   \n",
       "       Vegetables, fruit, nuts                           5.981356e-07   \n",
       "       Oil seeds                                        -2.166224e-05   \n",
       "\n",
       "region                                                             \\\n",
       "sector                         Wood waste for treatment: landfill   \n",
       "region sector                                                       \n",
       "AU     Paddy rice                                    3.018703e-07   \n",
       "       Wheat                                         3.233507e-05   \n",
       "       Cereal grains nec                             3.370548e-05   \n",
       "       Vegetables, fruit, nuts                       2.100614e-06   \n",
       "       Oil seeds                                    -1.872916e-04   \n",
       "\n",
       "region                                                                       \\\n",
       "sector                         Membership organisation services n.e.c. (91)   \n",
       "region sector                                                                 \n",
       "AU     Paddy rice                                                  0.000030   \n",
       "       Wheat                                                       0.001707   \n",
       "       Cereal grains nec                                           0.000550   \n",
       "       Vegetables, fruit, nuts                                     0.000113   \n",
       "       Oil seeds                                                  -0.004142   \n",
       "\n",
       "region                                                                            \\\n",
       "sector                         Recreational, cultural and sporting services (92)   \n",
       "region sector                                                                      \n",
       "AU     Paddy rice                                                       0.000034   \n",
       "       Wheat                                                            0.010377   \n",
       "       Cereal grains nec                                                0.000662   \n",
       "       Vegetables, fruit, nuts                                          0.000274   \n",
       "       Oil seeds                                                       -0.006638   \n",
       "\n",
       "region                                              \\\n",
       "sector                         Other services (93)   \n",
       "region sector                                        \n",
       "AU     Paddy rice                         0.000023   \n",
       "       Wheat                              0.002109   \n",
       "       Cereal grains nec                  0.000547   \n",
       "       Vegetables, fruit, nuts            0.000125   \n",
       "       Oil seeds                         -0.004943   \n",
       "\n",
       "region                                                                        \\\n",
       "sector                         Private households with employed persons (95)   \n",
       "region sector                                                                  \n",
       "AU     Paddy rice                                                   0.000037   \n",
       "       Wheat                                                        0.001656   \n",
       "       Cereal grains nec                                            0.000643   \n",
       "       Vegetables, fruit, nuts                                      0.000117   \n",
       "       Oil seeds                                                   -0.002096   \n",
       "\n",
       "region                                                                     \n",
       "sector                         Extra-territorial organizations and bodies  \n",
       "region sector                                                              \n",
       "AU     Paddy rice                                                     0.0  \n",
       "       Wheat                                                          0.0  \n",
       "       Cereal grains nec                                              0.0  \n",
       "       Vegetables, fruit, nuts                                        0.0  \n",
       "       Oil seeds                                                      0.0  \n",
       "\n",
       "[5 rows x 7872 columns]"
      ]
     },
     "execution_count": 11,
     "metadata": {},
     "output_type": "execute_result"
    }
   ],
   "source": [
    "exio3318.calc_system() #To calculate the rest of matrix\n",
    "exio3318.A.head() #To show A (technical coefficients)\n",
    "exio3318.L.head() #To show L (Leontief matrix I-A)"
   ]
  },
  {
   "cell_type": "markdown",
   "id": "dd9b98a7",
   "metadata": {},
   "source": [
    "F and F_Y (Extensions, total emissions per activity)"
   ]
  },
  {
   "cell_type": "code",
   "execution_count": 12,
   "id": "48ed3b60",
   "metadata": {},
   "outputs": [],
   "source": [
    "exio3318.emissions=mr.Extension(\"emissions\")\n",
    "F_raw = pd.read_excel(exiobase_folder + \"MR_HIOT_2011_v3_3_18_extensions.xlsx\", #This data is emissions of intermediate production\n",
    "                      sheet_name=\"Emiss_act\", #You should have this name of file, if not change it.\n",
    "                      index_col=[0,1,2],\n",
    "                      header=[0,1,2,3])\n",
    "F_raw.columns=Z_reindexed.columns\n",
    "\n",
    "F_Y_raw=pd.read_excel(exiobase_folder + \"MR_HIOT_2011_v3_3_18_extensions.xlsx\", #This data is emissions of final demand\n",
    "                      sheet_name=\"Emiss_FD\", #You should have this name of file, if not change it.\n",
    "                      index_col=[0,1,2],\n",
    "                      header=[0,1,2,3])\n",
    "F_Y_raw.columns=Y_reindexed.columns\n",
    "\n",
    "F_raw.head()\n",
    "F_Y_raw.head()\n",
    "exio3318.emissions.F=F_raw\n",
    "exio3318.emissions.F_Y=F_Y_raw"
   ]
  },
  {
   "cell_type": "code",
   "execution_count": 13,
   "id": "ad45b2f8",
   "metadata": {},
   "outputs": [
    {
     "data": {
      "text/html": [
       "<div>\n",
       "<style scoped>\n",
       "    .dataframe tbody tr th:only-of-type {\n",
       "        vertical-align: middle;\n",
       "    }\n",
       "\n",
       "    .dataframe tbody tr th {\n",
       "        vertical-align: top;\n",
       "    }\n",
       "\n",
       "    .dataframe thead tr th {\n",
       "        text-align: left;\n",
       "    }\n",
       "</style>\n",
       "<table border=\"1\" class=\"dataframe\">\n",
       "  <thead>\n",
       "    <tr>\n",
       "      <th></th>\n",
       "      <th></th>\n",
       "      <th>region</th>\n",
       "      <th colspan=\"6\" halign=\"left\">AU</th>\n",
       "      <th colspan=\"4\" halign=\"left\">AT</th>\n",
       "      <th>...</th>\n",
       "      <th colspan=\"4\" halign=\"left\">WF</th>\n",
       "      <th colspan=\"6\" halign=\"left\">WM</th>\n",
       "    </tr>\n",
       "    <tr>\n",
       "      <th></th>\n",
       "      <th></th>\n",
       "      <th>sector</th>\n",
       "      <th>Final consumption expenditure by households</th>\n",
       "      <th>Final consumption expenditure by non-profit organisations serving households (NPISH)</th>\n",
       "      <th>Final consumption expenditure by government</th>\n",
       "      <th>Gross fixed capital formation</th>\n",
       "      <th>Changes in inventories</th>\n",
       "      <th>Changes in valuables</th>\n",
       "      <th>Final consumption expenditure by households</th>\n",
       "      <th>Final consumption expenditure by non-profit organisations serving households (NPISH)</th>\n",
       "      <th>Final consumption expenditure by government</th>\n",
       "      <th>Gross fixed capital formation</th>\n",
       "      <th>...</th>\n",
       "      <th>Final consumption expenditure by government</th>\n",
       "      <th>Gross fixed capital formation</th>\n",
       "      <th>Changes in inventories</th>\n",
       "      <th>Changes in valuables</th>\n",
       "      <th>Final consumption expenditure by households</th>\n",
       "      <th>Final consumption expenditure by non-profit organisations serving households (NPISH)</th>\n",
       "      <th>Final consumption expenditure by government</th>\n",
       "      <th>Gross fixed capital formation</th>\n",
       "      <th>Changes in inventories</th>\n",
       "      <th>Changes in valuables</th>\n",
       "    </tr>\n",
       "  </thead>\n",
       "  <tbody>\n",
       "    <tr>\n",
       "      <th>Carbon dioxide, fossil</th>\n",
       "      <th>tonnes</th>\n",
       "      <th>air</th>\n",
       "      <td>4.760370e+07</td>\n",
       "      <td>0.000000</td>\n",
       "      <td>0.000000</td>\n",
       "      <td>0</td>\n",
       "      <td>0</td>\n",
       "      <td>0</td>\n",
       "      <td>2.287570e+07</td>\n",
       "      <td>0</td>\n",
       "      <td>0.000000</td>\n",
       "      <td>0</td>\n",
       "      <td>...</td>\n",
       "      <td>0.000000</td>\n",
       "      <td>0</td>\n",
       "      <td>0</td>\n",
       "      <td>0</td>\n",
       "      <td>3.163465e+08</td>\n",
       "      <td>0.000000</td>\n",
       "      <td>0.000000</td>\n",
       "      <td>0</td>\n",
       "      <td>0</td>\n",
       "      <td>0</td>\n",
       "    </tr>\n",
       "    <tr>\n",
       "      <th>N2O</th>\n",
       "      <th>tonnes</th>\n",
       "      <th>air</th>\n",
       "      <td>9.248053e+02</td>\n",
       "      <td>0.000000</td>\n",
       "      <td>0.000000</td>\n",
       "      <td>0</td>\n",
       "      <td>0</td>\n",
       "      <td>0</td>\n",
       "      <td>6.054108e+02</td>\n",
       "      <td>0</td>\n",
       "      <td>0.000000</td>\n",
       "      <td>0</td>\n",
       "      <td>...</td>\n",
       "      <td>0.000000</td>\n",
       "      <td>0</td>\n",
       "      <td>0</td>\n",
       "      <td>0</td>\n",
       "      <td>2.905041e+03</td>\n",
       "      <td>0.000000</td>\n",
       "      <td>0.000000</td>\n",
       "      <td>0</td>\n",
       "      <td>0</td>\n",
       "      <td>0</td>\n",
       "    </tr>\n",
       "    <tr>\n",
       "      <th>CH4</th>\n",
       "      <th>tonnes</th>\n",
       "      <th>air</th>\n",
       "      <td>4.907784e+04</td>\n",
       "      <td>200.749203</td>\n",
       "      <td>343.422972</td>\n",
       "      <td>0</td>\n",
       "      <td>0</td>\n",
       "      <td>0</td>\n",
       "      <td>1.750280e+04</td>\n",
       "      <td>0</td>\n",
       "      <td>0.844495</td>\n",
       "      <td>0</td>\n",
       "      <td>...</td>\n",
       "      <td>201.966619</td>\n",
       "      <td>0</td>\n",
       "      <td>0</td>\n",
       "      <td>0</td>\n",
       "      <td>2.610805e+05</td>\n",
       "      <td>8.070029</td>\n",
       "      <td>4900.486609</td>\n",
       "      <td>0</td>\n",
       "      <td>0</td>\n",
       "      <td>0</td>\n",
       "    </tr>\n",
       "    <tr>\n",
       "      <th>HFCs</th>\n",
       "      <th>tonnes</th>\n",
       "      <th>air</th>\n",
       "      <td>0.000000e+00</td>\n",
       "      <td>0.000000</td>\n",
       "      <td>0.000000</td>\n",
       "      <td>0</td>\n",
       "      <td>0</td>\n",
       "      <td>0</td>\n",
       "      <td>0.000000e+00</td>\n",
       "      <td>0</td>\n",
       "      <td>0.000000</td>\n",
       "      <td>0</td>\n",
       "      <td>...</td>\n",
       "      <td>0.000000</td>\n",
       "      <td>0</td>\n",
       "      <td>0</td>\n",
       "      <td>0</td>\n",
       "      <td>0.000000e+00</td>\n",
       "      <td>0.000000</td>\n",
       "      <td>0.000000</td>\n",
       "      <td>0</td>\n",
       "      <td>0</td>\n",
       "      <td>0</td>\n",
       "    </tr>\n",
       "    <tr>\n",
       "      <th>PFCs</th>\n",
       "      <th>tonnes</th>\n",
       "      <th>air</th>\n",
       "      <td>0.000000e+00</td>\n",
       "      <td>0.000000</td>\n",
       "      <td>0.000000</td>\n",
       "      <td>0</td>\n",
       "      <td>0</td>\n",
       "      <td>0</td>\n",
       "      <td>0.000000e+00</td>\n",
       "      <td>0</td>\n",
       "      <td>0.000000</td>\n",
       "      <td>0</td>\n",
       "      <td>...</td>\n",
       "      <td>0.000000</td>\n",
       "      <td>0</td>\n",
       "      <td>0</td>\n",
       "      <td>0</td>\n",
       "      <td>0.000000e+00</td>\n",
       "      <td>0.000000</td>\n",
       "      <td>0.000000</td>\n",
       "      <td>0</td>\n",
       "      <td>0</td>\n",
       "      <td>0</td>\n",
       "    </tr>\n",
       "  </tbody>\n",
       "</table>\n",
       "<p>5 rows × 288 columns</p>\n",
       "</div>"
      ],
      "text/plain": [
       "region                                                                     AU  \\\n",
       "sector                            Final consumption expenditure by households   \n",
       "Carbon dioxide, fossil tonnes air                                4.760370e+07   \n",
       "N2O                    tonnes air                                9.248053e+02   \n",
       "CH4                    tonnes air                                4.907784e+04   \n",
       "HFCs                   tonnes air                                0.000000e+00   \n",
       "PFCs                   tonnes air                                0.000000e+00   \n",
       "\n",
       "region                                                                                                                  \\\n",
       "sector                            Final consumption expenditure by non-profit organisations serving households (NPISH)   \n",
       "Carbon dioxide, fossil tonnes air                                           0.000000                                     \n",
       "N2O                    tonnes air                                           0.000000                                     \n",
       "CH4                    tonnes air                                         200.749203                                     \n",
       "HFCs                   tonnes air                                           0.000000                                     \n",
       "PFCs                   tonnes air                                           0.000000                                     \n",
       "\n",
       "region                                                                         \\\n",
       "sector                            Final consumption expenditure by government   \n",
       "Carbon dioxide, fossil tonnes air                                    0.000000   \n",
       "N2O                    tonnes air                                    0.000000   \n",
       "CH4                    tonnes air                                  343.422972   \n",
       "HFCs                   tonnes air                                    0.000000   \n",
       "PFCs                   tonnes air                                    0.000000   \n",
       "\n",
       "region                                                           \\\n",
       "sector                            Gross fixed capital formation   \n",
       "Carbon dioxide, fossil tonnes air                             0   \n",
       "N2O                    tonnes air                             0   \n",
       "CH4                    tonnes air                             0   \n",
       "HFCs                   tonnes air                             0   \n",
       "PFCs                   tonnes air                             0   \n",
       "\n",
       "region                                                                         \\\n",
       "sector                            Changes in inventories Changes in valuables   \n",
       "Carbon dioxide, fossil tonnes air                      0                    0   \n",
       "N2O                    tonnes air                      0                    0   \n",
       "CH4                    tonnes air                      0                    0   \n",
       "HFCs                   tonnes air                      0                    0   \n",
       "PFCs                   tonnes air                      0                    0   \n",
       "\n",
       "region                                                                     AT  \\\n",
       "sector                            Final consumption expenditure by households   \n",
       "Carbon dioxide, fossil tonnes air                                2.287570e+07   \n",
       "N2O                    tonnes air                                6.054108e+02   \n",
       "CH4                    tonnes air                                1.750280e+04   \n",
       "HFCs                   tonnes air                                0.000000e+00   \n",
       "PFCs                   tonnes air                                0.000000e+00   \n",
       "\n",
       "region                                                                                                                  \\\n",
       "sector                            Final consumption expenditure by non-profit organisations serving households (NPISH)   \n",
       "Carbon dioxide, fossil tonnes air                                                  0                                     \n",
       "N2O                    tonnes air                                                  0                                     \n",
       "CH4                    tonnes air                                                  0                                     \n",
       "HFCs                   tonnes air                                                  0                                     \n",
       "PFCs                   tonnes air                                                  0                                     \n",
       "\n",
       "region                                                                         \\\n",
       "sector                            Final consumption expenditure by government   \n",
       "Carbon dioxide, fossil tonnes air                                    0.000000   \n",
       "N2O                    tonnes air                                    0.000000   \n",
       "CH4                    tonnes air                                    0.844495   \n",
       "HFCs                   tonnes air                                    0.000000   \n",
       "PFCs                   tonnes air                                    0.000000   \n",
       "\n",
       "region                                                           ...  \\\n",
       "sector                            Gross fixed capital formation  ...   \n",
       "Carbon dioxide, fossil tonnes air                             0  ...   \n",
       "N2O                    tonnes air                             0  ...   \n",
       "CH4                    tonnes air                             0  ...   \n",
       "HFCs                   tonnes air                             0  ...   \n",
       "PFCs                   tonnes air                             0  ...   \n",
       "\n",
       "region                                                                     WF  \\\n",
       "sector                            Final consumption expenditure by government   \n",
       "Carbon dioxide, fossil tonnes air                                    0.000000   \n",
       "N2O                    tonnes air                                    0.000000   \n",
       "CH4                    tonnes air                                  201.966619   \n",
       "HFCs                   tonnes air                                    0.000000   \n",
       "PFCs                   tonnes air                                    0.000000   \n",
       "\n",
       "region                                                           \\\n",
       "sector                            Gross fixed capital formation   \n",
       "Carbon dioxide, fossil tonnes air                             0   \n",
       "N2O                    tonnes air                             0   \n",
       "CH4                    tonnes air                             0   \n",
       "HFCs                   tonnes air                             0   \n",
       "PFCs                   tonnes air                             0   \n",
       "\n",
       "region                                                                         \\\n",
       "sector                            Changes in inventories Changes in valuables   \n",
       "Carbon dioxide, fossil tonnes air                      0                    0   \n",
       "N2O                    tonnes air                      0                    0   \n",
       "CH4                    tonnes air                      0                    0   \n",
       "HFCs                   tonnes air                      0                    0   \n",
       "PFCs                   tonnes air                      0                    0   \n",
       "\n",
       "region                                                                     WM  \\\n",
       "sector                            Final consumption expenditure by households   \n",
       "Carbon dioxide, fossil tonnes air                                3.163465e+08   \n",
       "N2O                    tonnes air                                2.905041e+03   \n",
       "CH4                    tonnes air                                2.610805e+05   \n",
       "HFCs                   tonnes air                                0.000000e+00   \n",
       "PFCs                   tonnes air                                0.000000e+00   \n",
       "\n",
       "region                                                                                                                  \\\n",
       "sector                            Final consumption expenditure by non-profit organisations serving households (NPISH)   \n",
       "Carbon dioxide, fossil tonnes air                                           0.000000                                     \n",
       "N2O                    tonnes air                                           0.000000                                     \n",
       "CH4                    tonnes air                                           8.070029                                     \n",
       "HFCs                   tonnes air                                           0.000000                                     \n",
       "PFCs                   tonnes air                                           0.000000                                     \n",
       "\n",
       "region                                                                         \\\n",
       "sector                            Final consumption expenditure by government   \n",
       "Carbon dioxide, fossil tonnes air                                    0.000000   \n",
       "N2O                    tonnes air                                    0.000000   \n",
       "CH4                    tonnes air                                 4900.486609   \n",
       "HFCs                   tonnes air                                    0.000000   \n",
       "PFCs                   tonnes air                                    0.000000   \n",
       "\n",
       "region                                                           \\\n",
       "sector                            Gross fixed capital formation   \n",
       "Carbon dioxide, fossil tonnes air                             0   \n",
       "N2O                    tonnes air                             0   \n",
       "CH4                    tonnes air                             0   \n",
       "HFCs                   tonnes air                             0   \n",
       "PFCs                   tonnes air                             0   \n",
       "\n",
       "region                                                                         \n",
       "sector                            Changes in inventories Changes in valuables  \n",
       "Carbon dioxide, fossil tonnes air                      0                    0  \n",
       "N2O                    tonnes air                      0                    0  \n",
       "CH4                    tonnes air                      0                    0  \n",
       "HFCs                   tonnes air                      0                    0  \n",
       "PFCs                   tonnes air                      0                    0  \n",
       "\n",
       "[5 rows x 288 columns]"
      ]
     },
     "execution_count": 13,
     "metadata": {},
     "output_type": "execute_result"
    }
   ],
   "source": [
    "F_Y_raw.head()"
   ]
  },
  {
   "cell_type": "markdown",
   "id": "a0012d82",
   "metadata": {},
   "source": [
    "# Updating the electricity mix"
   ]
  },
  {
   "cell_type": "markdown",
   "id": "908db94c",
   "metadata": {},
   "source": [
    "Vector of variation of electricity mix (lambda). Most numbers are ones because they are not electricity mix"
   ]
  },
  {
   "cell_type": "code",
   "execution_count": 14,
   "id": "41a107ac",
   "metadata": {},
   "outputs": [
    {
     "data": {
      "text/plain": [
       "region  sector                                           \n",
       "AU      Paddy rice                                           1.0\n",
       "        Wheat                                                1.0\n",
       "        Cereal grains nec                                    1.0\n",
       "        Vegetables, fruit, nuts                              1.0\n",
       "        Oil seeds                                            1.0\n",
       "                                                            ... \n",
       "WM      Membership organisation services n.e.c. (91)         1.0\n",
       "        Recreational, cultural and sporting services (92)    1.0\n",
       "        Other services (93)                                  1.0\n",
       "        Private households with employed persons (95)        1.0\n",
       "        Extra-territorial organizations and bodies           1.0\n",
       "Name: Value, Length: 7872, dtype: float64"
      ]
     },
     "execution_count": 14,
     "metadata": {},
     "output_type": "execute_result"
    }
   ],
   "source": [
    "vector_lambda=pd.read_csv(exiobase_folder + \"MR_2022_lambda_ember.csv\", #You should have this name of file, if not change it\n",
    "                    index_col = [0,1],\n",
    "                    header = [0])\n",
    "vector_lambda.index=exio3318.Z.index\n",
    "vector_lambda=vector_lambda.squeeze()\n",
    "vector_lambda"
   ]
  },
  {
   "cell_type": "markdown",
   "id": "8233c59e",
   "metadata": {},
   "source": [
    "Creation of new Z that multiplies columns and raws by lambda"
   ]
  },
  {
   "cell_type": "code",
   "execution_count": 16,
   "id": "db107590",
   "metadata": {},
   "outputs": [],
   "source": [
    "Z_1=exio3318.Z.mul(vector_lambda, axis=0)\n",
    "Z_1=Z_1.mul(vector_lambda, axis=1)"
   ]
  },
  {
   "cell_type": "markdown",
   "id": "f85ff181",
   "metadata": {},
   "source": [
    "Comprobation"
   ]
  },
  {
   "cell_type": "code",
   "execution_count": 17,
   "id": "b3697343",
   "metadata": {},
   "outputs": [
    {
     "name": "stdout",
     "output_type": "stream",
     "text": [
      "28.90295069\n",
      "0.170386975\n"
     ]
    },
    {
     "data": {
      "text/plain": [
       "4.924686336643263"
      ]
     },
     "execution_count": 17,
     "metadata": {},
     "output_type": "execute_result"
    }
   ],
   "source": [
    "print(exio3318.Z.loc[('ES','Electricity by coal'),('ES','Bottles for treatment, Recycling of bottles by direct reuse')])\n",
    "print(vector_lambda.loc[('ES','Electricity by coal')])\n",
    "Z_1.loc[('ES','Electricity by coal'),('ES','Bottles for treatment, Recycling of bottles by direct reuse')]\n"
   ]
  },
  {
   "cell_type": "markdown",
   "id": "6f2705bd",
   "metadata": {},
   "source": [
    "Z modified to update activities which in 2011 has no production of one type of electricity and in 2022 they have. It has been done using the proportion of rows and columns of the region where country is or a near country"
   ]
  },
  {
   "cell_type": "code",
   "execution_count": 18,
   "id": "999b11d6",
   "metadata": {},
   "outputs": [
    {
     "data": {
      "text/html": [
       "<div>\n",
       "<style scoped>\n",
       "    .dataframe tbody tr th:only-of-type {\n",
       "        vertical-align: middle;\n",
       "    }\n",
       "\n",
       "    .dataframe tbody tr th {\n",
       "        vertical-align: top;\n",
       "    }\n",
       "\n",
       "    .dataframe thead tr th {\n",
       "        text-align: left;\n",
       "    }\n",
       "\n",
       "    .dataframe thead tr:last-of-type th {\n",
       "        text-align: right;\n",
       "    }\n",
       "</style>\n",
       "<table border=\"1\" class=\"dataframe\">\n",
       "  <thead>\n",
       "    <tr>\n",
       "      <th></th>\n",
       "      <th>region</th>\n",
       "      <th colspan=\"10\" halign=\"left\">AU</th>\n",
       "      <th>...</th>\n",
       "      <th colspan=\"10\" halign=\"left\">WM</th>\n",
       "    </tr>\n",
       "    <tr>\n",
       "      <th></th>\n",
       "      <th>sector</th>\n",
       "      <th>Paddy rice</th>\n",
       "      <th>Wheat</th>\n",
       "      <th>Cereal grains nec</th>\n",
       "      <th>Vegetables, fruit, nuts</th>\n",
       "      <th>Oil seeds</th>\n",
       "      <th>Sugar cane, sugar beet</th>\n",
       "      <th>Plant-based fibers</th>\n",
       "      <th>Crops nec</th>\n",
       "      <th>Cattle</th>\n",
       "      <th>Pigs</th>\n",
       "      <th>...</th>\n",
       "      <th>Paper for treatment: landfill</th>\n",
       "      <th>Plastic waste for treatment: landfill</th>\n",
       "      <th>Inert/metal/hazardous waste for treatment: landfill</th>\n",
       "      <th>Textiles waste for treatment: landfill</th>\n",
       "      <th>Wood waste for treatment: landfill</th>\n",
       "      <th>Membership organisation services n.e.c. (91)</th>\n",
       "      <th>Recreational, cultural and sporting services (92)</th>\n",
       "      <th>Other services (93)</th>\n",
       "      <th>Private households with employed persons (95)</th>\n",
       "      <th>Extra-territorial organizations and bodies</th>\n",
       "    </tr>\n",
       "    <tr>\n",
       "      <th>region</th>\n",
       "      <th>sector</th>\n",
       "      <th></th>\n",
       "      <th></th>\n",
       "      <th></th>\n",
       "      <th></th>\n",
       "      <th></th>\n",
       "      <th></th>\n",
       "      <th></th>\n",
       "      <th></th>\n",
       "      <th></th>\n",
       "      <th></th>\n",
       "      <th></th>\n",
       "      <th></th>\n",
       "      <th></th>\n",
       "      <th></th>\n",
       "      <th></th>\n",
       "      <th></th>\n",
       "      <th></th>\n",
       "      <th></th>\n",
       "      <th></th>\n",
       "      <th></th>\n",
       "      <th></th>\n",
       "    </tr>\n",
       "  </thead>\n",
       "  <tbody>\n",
       "    <tr>\n",
       "      <th rowspan=\"5\" valign=\"top\">AU</th>\n",
       "      <th>Paddy rice</th>\n",
       "      <td>0</td>\n",
       "      <td>0</td>\n",
       "      <td>0</td>\n",
       "      <td>0</td>\n",
       "      <td>0</td>\n",
       "      <td>0</td>\n",
       "      <td>0</td>\n",
       "      <td>0</td>\n",
       "      <td>0</td>\n",
       "      <td>0</td>\n",
       "      <td>...</td>\n",
       "      <td>0</td>\n",
       "      <td>0</td>\n",
       "      <td>0</td>\n",
       "      <td>0</td>\n",
       "      <td>0</td>\n",
       "      <td>0.0</td>\n",
       "      <td>0.0</td>\n",
       "      <td>0.0</td>\n",
       "      <td>0.0</td>\n",
       "      <td>0</td>\n",
       "    </tr>\n",
       "    <tr>\n",
       "      <th>Wheat</th>\n",
       "      <td>0</td>\n",
       "      <td>0</td>\n",
       "      <td>0</td>\n",
       "      <td>0</td>\n",
       "      <td>0</td>\n",
       "      <td>0</td>\n",
       "      <td>0</td>\n",
       "      <td>0</td>\n",
       "      <td>0</td>\n",
       "      <td>0</td>\n",
       "      <td>...</td>\n",
       "      <td>0</td>\n",
       "      <td>0</td>\n",
       "      <td>0</td>\n",
       "      <td>0</td>\n",
       "      <td>0</td>\n",
       "      <td>0.0</td>\n",
       "      <td>0.0</td>\n",
       "      <td>0.0</td>\n",
       "      <td>0.0</td>\n",
       "      <td>0</td>\n",
       "    </tr>\n",
       "    <tr>\n",
       "      <th>Cereal grains nec</th>\n",
       "      <td>0</td>\n",
       "      <td>0</td>\n",
       "      <td>0</td>\n",
       "      <td>0</td>\n",
       "      <td>0</td>\n",
       "      <td>0</td>\n",
       "      <td>0</td>\n",
       "      <td>0</td>\n",
       "      <td>0</td>\n",
       "      <td>0</td>\n",
       "      <td>...</td>\n",
       "      <td>0</td>\n",
       "      <td>0</td>\n",
       "      <td>0</td>\n",
       "      <td>0</td>\n",
       "      <td>0</td>\n",
       "      <td>0.0</td>\n",
       "      <td>0.0</td>\n",
       "      <td>0.0</td>\n",
       "      <td>0.0</td>\n",
       "      <td>0</td>\n",
       "    </tr>\n",
       "    <tr>\n",
       "      <th>Vegetables, fruit, nuts</th>\n",
       "      <td>0</td>\n",
       "      <td>0</td>\n",
       "      <td>0</td>\n",
       "      <td>0</td>\n",
       "      <td>0</td>\n",
       "      <td>0</td>\n",
       "      <td>0</td>\n",
       "      <td>0</td>\n",
       "      <td>0</td>\n",
       "      <td>0</td>\n",
       "      <td>...</td>\n",
       "      <td>0</td>\n",
       "      <td>0</td>\n",
       "      <td>0</td>\n",
       "      <td>0</td>\n",
       "      <td>0</td>\n",
       "      <td>0.0</td>\n",
       "      <td>0.0</td>\n",
       "      <td>0.0</td>\n",
       "      <td>0.0</td>\n",
       "      <td>0</td>\n",
       "    </tr>\n",
       "    <tr>\n",
       "      <th>Oil seeds</th>\n",
       "      <td>0</td>\n",
       "      <td>0</td>\n",
       "      <td>0</td>\n",
       "      <td>0</td>\n",
       "      <td>0</td>\n",
       "      <td>0</td>\n",
       "      <td>0</td>\n",
       "      <td>0</td>\n",
       "      <td>0</td>\n",
       "      <td>0</td>\n",
       "      <td>...</td>\n",
       "      <td>0</td>\n",
       "      <td>0</td>\n",
       "      <td>0</td>\n",
       "      <td>0</td>\n",
       "      <td>0</td>\n",
       "      <td>0.0</td>\n",
       "      <td>0.0</td>\n",
       "      <td>0.0</td>\n",
       "      <td>0.0</td>\n",
       "      <td>0</td>\n",
       "    </tr>\n",
       "    <tr>\n",
       "      <th>...</th>\n",
       "      <th>...</th>\n",
       "      <td>...</td>\n",
       "      <td>...</td>\n",
       "      <td>...</td>\n",
       "      <td>...</td>\n",
       "      <td>...</td>\n",
       "      <td>...</td>\n",
       "      <td>...</td>\n",
       "      <td>...</td>\n",
       "      <td>...</td>\n",
       "      <td>...</td>\n",
       "      <td>...</td>\n",
       "      <td>...</td>\n",
       "      <td>...</td>\n",
       "      <td>...</td>\n",
       "      <td>...</td>\n",
       "      <td>...</td>\n",
       "      <td>...</td>\n",
       "      <td>...</td>\n",
       "      <td>...</td>\n",
       "      <td>...</td>\n",
       "      <td>...</td>\n",
       "    </tr>\n",
       "    <tr>\n",
       "      <th rowspan=\"5\" valign=\"top\">WM</th>\n",
       "      <th>Membership organisation services n.e.c. (91)</th>\n",
       "      <td>0</td>\n",
       "      <td>0</td>\n",
       "      <td>0</td>\n",
       "      <td>0</td>\n",
       "      <td>0</td>\n",
       "      <td>0</td>\n",
       "      <td>0</td>\n",
       "      <td>0</td>\n",
       "      <td>0</td>\n",
       "      <td>0</td>\n",
       "      <td>...</td>\n",
       "      <td>0</td>\n",
       "      <td>0</td>\n",
       "      <td>0</td>\n",
       "      <td>0</td>\n",
       "      <td>0</td>\n",
       "      <td>0.0</td>\n",
       "      <td>0.0</td>\n",
       "      <td>0.0</td>\n",
       "      <td>0.0</td>\n",
       "      <td>0</td>\n",
       "    </tr>\n",
       "    <tr>\n",
       "      <th>Recreational, cultural and sporting services (92)</th>\n",
       "      <td>0</td>\n",
       "      <td>0</td>\n",
       "      <td>0</td>\n",
       "      <td>0</td>\n",
       "      <td>0</td>\n",
       "      <td>0</td>\n",
       "      <td>0</td>\n",
       "      <td>0</td>\n",
       "      <td>0</td>\n",
       "      <td>0</td>\n",
       "      <td>...</td>\n",
       "      <td>0</td>\n",
       "      <td>0</td>\n",
       "      <td>0</td>\n",
       "      <td>0</td>\n",
       "      <td>0</td>\n",
       "      <td>0.0</td>\n",
       "      <td>0.0</td>\n",
       "      <td>0.0</td>\n",
       "      <td>0.0</td>\n",
       "      <td>0</td>\n",
       "    </tr>\n",
       "    <tr>\n",
       "      <th>Other services (93)</th>\n",
       "      <td>0</td>\n",
       "      <td>0</td>\n",
       "      <td>0</td>\n",
       "      <td>0</td>\n",
       "      <td>0</td>\n",
       "      <td>0</td>\n",
       "      <td>0</td>\n",
       "      <td>0</td>\n",
       "      <td>0</td>\n",
       "      <td>0</td>\n",
       "      <td>...</td>\n",
       "      <td>0</td>\n",
       "      <td>0</td>\n",
       "      <td>0</td>\n",
       "      <td>0</td>\n",
       "      <td>0</td>\n",
       "      <td>0.0</td>\n",
       "      <td>0.0</td>\n",
       "      <td>0.0</td>\n",
       "      <td>0.0</td>\n",
       "      <td>0</td>\n",
       "    </tr>\n",
       "    <tr>\n",
       "      <th>Private households with employed persons (95)</th>\n",
       "      <td>0</td>\n",
       "      <td>0</td>\n",
       "      <td>0</td>\n",
       "      <td>0</td>\n",
       "      <td>0</td>\n",
       "      <td>0</td>\n",
       "      <td>0</td>\n",
       "      <td>0</td>\n",
       "      <td>0</td>\n",
       "      <td>0</td>\n",
       "      <td>...</td>\n",
       "      <td>0</td>\n",
       "      <td>0</td>\n",
       "      <td>0</td>\n",
       "      <td>0</td>\n",
       "      <td>0</td>\n",
       "      <td>0.0</td>\n",
       "      <td>0.0</td>\n",
       "      <td>0.0</td>\n",
       "      <td>0.0</td>\n",
       "      <td>0</td>\n",
       "    </tr>\n",
       "    <tr>\n",
       "      <th>Extra-territorial organizations and bodies</th>\n",
       "      <td>0</td>\n",
       "      <td>0</td>\n",
       "      <td>0</td>\n",
       "      <td>0</td>\n",
       "      <td>0</td>\n",
       "      <td>0</td>\n",
       "      <td>0</td>\n",
       "      <td>0</td>\n",
       "      <td>0</td>\n",
       "      <td>0</td>\n",
       "      <td>...</td>\n",
       "      <td>0</td>\n",
       "      <td>0</td>\n",
       "      <td>0</td>\n",
       "      <td>0</td>\n",
       "      <td>0</td>\n",
       "      <td>0.0</td>\n",
       "      <td>0.0</td>\n",
       "      <td>0.0</td>\n",
       "      <td>0.0</td>\n",
       "      <td>0</td>\n",
       "    </tr>\n",
       "  </tbody>\n",
       "</table>\n",
       "<p>7872 rows × 7872 columns</p>\n",
       "</div>"
      ],
      "text/plain": [
       "region                                                           AU        \\\n",
       "sector                                                   Paddy rice Wheat   \n",
       "region sector                                                               \n",
       "AU     Paddy rice                                                 0     0   \n",
       "       Wheat                                                      0     0   \n",
       "       Cereal grains nec                                          0     0   \n",
       "       Vegetables, fruit, nuts                                    0     0   \n",
       "       Oil seeds                                                  0     0   \n",
       "...                                                             ...   ...   \n",
       "WM     Membership organisation services n.e.c. (91)               0     0   \n",
       "       Recreational, cultural and sporting services (92)          0     0   \n",
       "       Other services (93)                                        0     0   \n",
       "       Private households with employed persons (95)              0     0   \n",
       "       Extra-territorial organizations and bodies                 0     0   \n",
       "\n",
       "region                                                                      \\\n",
       "sector                                                   Cereal grains nec   \n",
       "region sector                                                                \n",
       "AU     Paddy rice                                                        0   \n",
       "       Wheat                                                             0   \n",
       "       Cereal grains nec                                                 0   \n",
       "       Vegetables, fruit, nuts                                           0   \n",
       "       Oil seeds                                                         0   \n",
       "...                                                                    ...   \n",
       "WM     Membership organisation services n.e.c. (91)                      0   \n",
       "       Recreational, cultural and sporting services (92)                 0   \n",
       "       Other services (93)                                               0   \n",
       "       Private households with employed persons (95)                     0   \n",
       "       Extra-territorial organizations and bodies                        0   \n",
       "\n",
       "region                                                                            \\\n",
       "sector                                                   Vegetables, fruit, nuts   \n",
       "region sector                                                                      \n",
       "AU     Paddy rice                                                              0   \n",
       "       Wheat                                                                   0   \n",
       "       Cereal grains nec                                                       0   \n",
       "       Vegetables, fruit, nuts                                                 0   \n",
       "       Oil seeds                                                               0   \n",
       "...                                                                          ...   \n",
       "WM     Membership organisation services n.e.c. (91)                            0   \n",
       "       Recreational, cultural and sporting services (92)                       0   \n",
       "       Other services (93)                                                     0   \n",
       "       Private households with employed persons (95)                           0   \n",
       "       Extra-territorial organizations and bodies                              0   \n",
       "\n",
       "region                                                              \\\n",
       "sector                                                   Oil seeds   \n",
       "region sector                                                        \n",
       "AU     Paddy rice                                                0   \n",
       "       Wheat                                                     0   \n",
       "       Cereal grains nec                                         0   \n",
       "       Vegetables, fruit, nuts                                   0   \n",
       "       Oil seeds                                                 0   \n",
       "...                                                            ...   \n",
       "WM     Membership organisation services n.e.c. (91)              0   \n",
       "       Recreational, cultural and sporting services (92)         0   \n",
       "       Other services (93)                                       0   \n",
       "       Private households with employed persons (95)             0   \n",
       "       Extra-territorial organizations and bodies                0   \n",
       "\n",
       "region                                                                           \\\n",
       "sector                                                   Sugar cane, sugar beet   \n",
       "region sector                                                                     \n",
       "AU     Paddy rice                                                             0   \n",
       "       Wheat                                                                  0   \n",
       "       Cereal grains nec                                                      0   \n",
       "       Vegetables, fruit, nuts                                                0   \n",
       "       Oil seeds                                                              0   \n",
       "...                                                                         ...   \n",
       "WM     Membership organisation services n.e.c. (91)                           0   \n",
       "       Recreational, cultural and sporting services (92)                      0   \n",
       "       Other services (93)                                                    0   \n",
       "       Private households with employed persons (95)                          0   \n",
       "       Extra-territorial organizations and bodies                             0   \n",
       "\n",
       "region                                                                       \\\n",
       "sector                                                   Plant-based fibers   \n",
       "region sector                                                                 \n",
       "AU     Paddy rice                                                         0   \n",
       "       Wheat                                                              0   \n",
       "       Cereal grains nec                                                  0   \n",
       "       Vegetables, fruit, nuts                                            0   \n",
       "       Oil seeds                                                          0   \n",
       "...                                                                     ...   \n",
       "WM     Membership organisation services n.e.c. (91)                       0   \n",
       "       Recreational, cultural and sporting services (92)                  0   \n",
       "       Other services (93)                                                0   \n",
       "       Private households with employed persons (95)                      0   \n",
       "       Extra-territorial organizations and bodies                         0   \n",
       "\n",
       "region                                                                     \\\n",
       "sector                                                   Crops nec Cattle   \n",
       "region sector                                                               \n",
       "AU     Paddy rice                                                0      0   \n",
       "       Wheat                                                     0      0   \n",
       "       Cereal grains nec                                         0      0   \n",
       "       Vegetables, fruit, nuts                                   0      0   \n",
       "       Oil seeds                                                 0      0   \n",
       "...                                                            ...    ...   \n",
       "WM     Membership organisation services n.e.c. (91)              0      0   \n",
       "       Recreational, cultural and sporting services (92)         0      0   \n",
       "       Other services (93)                                       0      0   \n",
       "       Private households with employed persons (95)             0      0   \n",
       "       Extra-territorial organizations and bodies                0      0   \n",
       "\n",
       "region                                                         ...  \\\n",
       "sector                                                   Pigs  ...   \n",
       "region sector                                                  ...   \n",
       "AU     Paddy rice                                           0  ...   \n",
       "       Wheat                                                0  ...   \n",
       "       Cereal grains nec                                    0  ...   \n",
       "       Vegetables, fruit, nuts                              0  ...   \n",
       "       Oil seeds                                            0  ...   \n",
       "...                                                       ...  ...   \n",
       "WM     Membership organisation services n.e.c. (91)         0  ...   \n",
       "       Recreational, cultural and sporting services (92)    0  ...   \n",
       "       Other services (93)                                  0  ...   \n",
       "       Private households with employed persons (95)        0  ...   \n",
       "       Extra-territorial organizations and bodies           0  ...   \n",
       "\n",
       "region                                                                              WM  \\\n",
       "sector                                                   Paper for treatment: landfill   \n",
       "region sector                                                                            \n",
       "AU     Paddy rice                                                                    0   \n",
       "       Wheat                                                                         0   \n",
       "       Cereal grains nec                                                             0   \n",
       "       Vegetables, fruit, nuts                                                       0   \n",
       "       Oil seeds                                                                     0   \n",
       "...                                                                                ...   \n",
       "WM     Membership organisation services n.e.c. (91)                                  0   \n",
       "       Recreational, cultural and sporting services (92)                             0   \n",
       "       Other services (93)                                                           0   \n",
       "       Private households with employed persons (95)                                 0   \n",
       "       Extra-territorial organizations and bodies                                    0   \n",
       "\n",
       "region                                                                                          \\\n",
       "sector                                                   Plastic waste for treatment: landfill   \n",
       "region sector                                                                                    \n",
       "AU     Paddy rice                                                                            0   \n",
       "       Wheat                                                                                 0   \n",
       "       Cereal grains nec                                                                     0   \n",
       "       Vegetables, fruit, nuts                                                               0   \n",
       "       Oil seeds                                                                             0   \n",
       "...                                                                                        ...   \n",
       "WM     Membership organisation services n.e.c. (91)                                          0   \n",
       "       Recreational, cultural and sporting services (92)                                     0   \n",
       "       Other services (93)                                                                   0   \n",
       "       Private households with employed persons (95)                                         0   \n",
       "       Extra-territorial organizations and bodies                                            0   \n",
       "\n",
       "region                                                                                                        \\\n",
       "sector                                                   Inert/metal/hazardous waste for treatment: landfill   \n",
       "region sector                                                                                                  \n",
       "AU     Paddy rice                                                                                         0    \n",
       "       Wheat                                                                                              0    \n",
       "       Cereal grains nec                                                                                  0    \n",
       "       Vegetables, fruit, nuts                                                                            0    \n",
       "       Oil seeds                                                                                          0    \n",
       "...                                                                                                     ...    \n",
       "WM     Membership organisation services n.e.c. (91)                                                       0    \n",
       "       Recreational, cultural and sporting services (92)                                                  0    \n",
       "       Other services (93)                                                                                0    \n",
       "       Private households with employed persons (95)                                                      0    \n",
       "       Extra-territorial organizations and bodies                                                         0    \n",
       "\n",
       "region                                                                                           \\\n",
       "sector                                                   Textiles waste for treatment: landfill   \n",
       "region sector                                                                                     \n",
       "AU     Paddy rice                                                                             0   \n",
       "       Wheat                                                                                  0   \n",
       "       Cereal grains nec                                                                      0   \n",
       "       Vegetables, fruit, nuts                                                                0   \n",
       "       Oil seeds                                                                              0   \n",
       "...                                                                                         ...   \n",
       "WM     Membership organisation services n.e.c. (91)                                           0   \n",
       "       Recreational, cultural and sporting services (92)                                      0   \n",
       "       Other services (93)                                                                    0   \n",
       "       Private households with employed persons (95)                                          0   \n",
       "       Extra-territorial organizations and bodies                                             0   \n",
       "\n",
       "region                                                                                       \\\n",
       "sector                                                   Wood waste for treatment: landfill   \n",
       "region sector                                                                                 \n",
       "AU     Paddy rice                                                                         0   \n",
       "       Wheat                                                                              0   \n",
       "       Cereal grains nec                                                                  0   \n",
       "       Vegetables, fruit, nuts                                                            0   \n",
       "       Oil seeds                                                                          0   \n",
       "...                                                                                     ...   \n",
       "WM     Membership organisation services n.e.c. (91)                                       0   \n",
       "       Recreational, cultural and sporting services (92)                                  0   \n",
       "       Other services (93)                                                                0   \n",
       "       Private households with employed persons (95)                                      0   \n",
       "       Extra-territorial organizations and bodies                                         0   \n",
       "\n",
       "region                                                                                                 \\\n",
       "sector                                                   Membership organisation services n.e.c. (91)   \n",
       "region sector                                                                                           \n",
       "AU     Paddy rice                                                                                 0.0   \n",
       "       Wheat                                                                                      0.0   \n",
       "       Cereal grains nec                                                                          0.0   \n",
       "       Vegetables, fruit, nuts                                                                    0.0   \n",
       "       Oil seeds                                                                                  0.0   \n",
       "...                                                                                               ...   \n",
       "WM     Membership organisation services n.e.c. (91)                                               0.0   \n",
       "       Recreational, cultural and sporting services (92)                                          0.0   \n",
       "       Other services (93)                                                                        0.0   \n",
       "       Private households with employed persons (95)                                              0.0   \n",
       "       Extra-territorial organizations and bodies                                                 0.0   \n",
       "\n",
       "region                                                                                                      \\\n",
       "sector                                                   Recreational, cultural and sporting services (92)   \n",
       "region sector                                                                                                \n",
       "AU     Paddy rice                                                                                      0.0   \n",
       "       Wheat                                                                                           0.0   \n",
       "       Cereal grains nec                                                                               0.0   \n",
       "       Vegetables, fruit, nuts                                                                         0.0   \n",
       "       Oil seeds                                                                                       0.0   \n",
       "...                                                                                                    ...   \n",
       "WM     Membership organisation services n.e.c. (91)                                                    0.0   \n",
       "       Recreational, cultural and sporting services (92)                                               0.0   \n",
       "       Other services (93)                                                                             0.0   \n",
       "       Private households with employed persons (95)                                                   0.0   \n",
       "       Extra-territorial organizations and bodies                                                      0.0   \n",
       "\n",
       "region                                                                        \\\n",
       "sector                                                   Other services (93)   \n",
       "region sector                                                                  \n",
       "AU     Paddy rice                                                        0.0   \n",
       "       Wheat                                                             0.0   \n",
       "       Cereal grains nec                                                 0.0   \n",
       "       Vegetables, fruit, nuts                                           0.0   \n",
       "       Oil seeds                                                         0.0   \n",
       "...                                                                      ...   \n",
       "WM     Membership organisation services n.e.c. (91)                      0.0   \n",
       "       Recreational, cultural and sporting services (92)                 0.0   \n",
       "       Other services (93)                                               0.0   \n",
       "       Private households with employed persons (95)                     0.0   \n",
       "       Extra-territorial organizations and bodies                        0.0   \n",
       "\n",
       "region                                                                                                  \\\n",
       "sector                                                   Private households with employed persons (95)   \n",
       "region sector                                                                                            \n",
       "AU     Paddy rice                                                                                  0.0   \n",
       "       Wheat                                                                                       0.0   \n",
       "       Cereal grains nec                                                                           0.0   \n",
       "       Vegetables, fruit, nuts                                                                     0.0   \n",
       "       Oil seeds                                                                                   0.0   \n",
       "...                                                                                                ...   \n",
       "WM     Membership organisation services n.e.c. (91)                                                0.0   \n",
       "       Recreational, cultural and sporting services (92)                                           0.0   \n",
       "       Other services (93)                                                                         0.0   \n",
       "       Private households with employed persons (95)                                               0.0   \n",
       "       Extra-territorial organizations and bodies                                                  0.0   \n",
       "\n",
       "region                                                                                               \n",
       "sector                                                   Extra-territorial organizations and bodies  \n",
       "region sector                                                                                        \n",
       "AU     Paddy rice                                                                                 0  \n",
       "       Wheat                                                                                      0  \n",
       "       Cereal grains nec                                                                          0  \n",
       "       Vegetables, fruit, nuts                                                                    0  \n",
       "       Oil seeds                                                                                  0  \n",
       "...                                                                                             ...  \n",
       "WM     Membership organisation services n.e.c. (91)                                               0  \n",
       "       Recreational, cultural and sporting services (92)                                          0  \n",
       "       Other services (93)                                                                        0  \n",
       "       Private households with employed persons (95)                                              0  \n",
       "       Extra-territorial organizations and bodies                                                 0  \n",
       "\n",
       "[7872 rows x 7872 columns]"
      ]
     },
     "execution_count": 18,
     "metadata": {},
     "output_type": "execute_result"
    }
   ],
   "source": [
    "Z_gamma=pd.read_csv(exiobase_folder + \"MR_HIOT_2011_v3_3_18_Z_gamma.csv\", #You should have this name of file, if not change it\n",
    "                    index_col = [0,1],\n",
    "                    header = [0,1])\n",
    "Z_gamma.index=exio3318.Z.index\n",
    "Z_gamma.columns=exio3318.Z.columns\n",
    "Z_gamma #To see the first lines"
   ]
  },
  {
   "cell_type": "code",
   "execution_count": 19,
   "id": "1f1403b5",
   "metadata": {},
   "outputs": [
    {
     "data": {
      "text/plain": [
       "False"
      ]
     },
     "execution_count": 19,
     "metadata": {},
     "output_type": "execute_result"
    }
   ],
   "source": [
    "Z_gamma.isna().values.any() #To check all data is ok, is have to be false"
   ]
  },
  {
   "cell_type": "code",
   "execution_count": 20,
   "id": "1581e186",
   "metadata": {},
   "outputs": [
    {
     "data": {
      "text/html": [
       "<div>\n",
       "<style scoped>\n",
       "    .dataframe tbody tr th:only-of-type {\n",
       "        vertical-align: middle;\n",
       "    }\n",
       "\n",
       "    .dataframe tbody tr th {\n",
       "        vertical-align: top;\n",
       "    }\n",
       "\n",
       "    .dataframe thead tr th {\n",
       "        text-align: left;\n",
       "    }\n",
       "\n",
       "    .dataframe thead tr:last-of-type th {\n",
       "        text-align: right;\n",
       "    }\n",
       "</style>\n",
       "<table border=\"1\" class=\"dataframe\">\n",
       "  <thead>\n",
       "    <tr>\n",
       "      <th></th>\n",
       "      <th>region</th>\n",
       "      <th colspan=\"10\" halign=\"left\">AU</th>\n",
       "      <th>...</th>\n",
       "      <th colspan=\"10\" halign=\"left\">WM</th>\n",
       "    </tr>\n",
       "    <tr>\n",
       "      <th></th>\n",
       "      <th>sector</th>\n",
       "      <th>Paddy rice</th>\n",
       "      <th>Wheat</th>\n",
       "      <th>Cereal grains nec</th>\n",
       "      <th>Vegetables, fruit, nuts</th>\n",
       "      <th>Oil seeds</th>\n",
       "      <th>Sugar cane, sugar beet</th>\n",
       "      <th>Plant-based fibers</th>\n",
       "      <th>Crops nec</th>\n",
       "      <th>Cattle</th>\n",
       "      <th>Pigs</th>\n",
       "      <th>...</th>\n",
       "      <th>Paper for treatment: landfill</th>\n",
       "      <th>Plastic waste for treatment: landfill</th>\n",
       "      <th>Inert/metal/hazardous waste for treatment: landfill</th>\n",
       "      <th>Textiles waste for treatment: landfill</th>\n",
       "      <th>Wood waste for treatment: landfill</th>\n",
       "      <th>Membership organisation services n.e.c. (91)</th>\n",
       "      <th>Recreational, cultural and sporting services (92)</th>\n",
       "      <th>Other services (93)</th>\n",
       "      <th>Private households with employed persons (95)</th>\n",
       "      <th>Extra-territorial organizations and bodies</th>\n",
       "    </tr>\n",
       "    <tr>\n",
       "      <th>region</th>\n",
       "      <th>sector</th>\n",
       "      <th></th>\n",
       "      <th></th>\n",
       "      <th></th>\n",
       "      <th></th>\n",
       "      <th></th>\n",
       "      <th></th>\n",
       "      <th></th>\n",
       "      <th></th>\n",
       "      <th></th>\n",
       "      <th></th>\n",
       "      <th></th>\n",
       "      <th></th>\n",
       "      <th></th>\n",
       "      <th></th>\n",
       "      <th></th>\n",
       "      <th></th>\n",
       "      <th></th>\n",
       "      <th></th>\n",
       "      <th></th>\n",
       "      <th></th>\n",
       "      <th></th>\n",
       "    </tr>\n",
       "  </thead>\n",
       "  <tbody>\n",
       "    <tr>\n",
       "      <th rowspan=\"5\" valign=\"top\">AU</th>\n",
       "      <th>Paddy rice</th>\n",
       "      <td>0.000000</td>\n",
       "      <td>0.000000</td>\n",
       "      <td>0.000000</td>\n",
       "      <td>0.000000</td>\n",
       "      <td>0.000000</td>\n",
       "      <td>0.000000</td>\n",
       "      <td>0.000000e+00</td>\n",
       "      <td>0.000000</td>\n",
       "      <td>0.000000e+00</td>\n",
       "      <td>0.000000</td>\n",
       "      <td>...</td>\n",
       "      <td>0.000000</td>\n",
       "      <td>0.000000</td>\n",
       "      <td>0.000000</td>\n",
       "      <td>0.000000</td>\n",
       "      <td>0.000000</td>\n",
       "      <td>0.000000</td>\n",
       "      <td>0.000000</td>\n",
       "      <td>0.000000</td>\n",
       "      <td>0.000000</td>\n",
       "      <td>0.0</td>\n",
       "    </tr>\n",
       "    <tr>\n",
       "      <th>Wheat</th>\n",
       "      <td>0.000000</td>\n",
       "      <td>0.000000</td>\n",
       "      <td>0.000000</td>\n",
       "      <td>0.000000</td>\n",
       "      <td>0.000000</td>\n",
       "      <td>0.000000</td>\n",
       "      <td>0.000000e+00</td>\n",
       "      <td>0.000000</td>\n",
       "      <td>6.791574e+05</td>\n",
       "      <td>156083.893300</td>\n",
       "      <td>...</td>\n",
       "      <td>0.000000</td>\n",
       "      <td>0.000000</td>\n",
       "      <td>0.000000</td>\n",
       "      <td>0.000000</td>\n",
       "      <td>0.000000</td>\n",
       "      <td>0.000000</td>\n",
       "      <td>0.000000</td>\n",
       "      <td>0.000000</td>\n",
       "      <td>0.000000</td>\n",
       "      <td>0.0</td>\n",
       "    </tr>\n",
       "    <tr>\n",
       "      <th>Cereal grains nec</th>\n",
       "      <td>0.000000</td>\n",
       "      <td>0.000000</td>\n",
       "      <td>70942.965470</td>\n",
       "      <td>0.000000</td>\n",
       "      <td>0.000000</td>\n",
       "      <td>0.000000</td>\n",
       "      <td>0.000000e+00</td>\n",
       "      <td>0.000000</td>\n",
       "      <td>2.277000e+06</td>\n",
       "      <td>823314.442100</td>\n",
       "      <td>...</td>\n",
       "      <td>0.000000</td>\n",
       "      <td>0.000000</td>\n",
       "      <td>0.000000</td>\n",
       "      <td>0.000000</td>\n",
       "      <td>0.000000</td>\n",
       "      <td>0.000000</td>\n",
       "      <td>0.000000</td>\n",
       "      <td>0.000000</td>\n",
       "      <td>0.000000</td>\n",
       "      <td>0.0</td>\n",
       "    </tr>\n",
       "    <tr>\n",
       "      <th>Vegetables, fruit, nuts</th>\n",
       "      <td>0.000000</td>\n",
       "      <td>0.000000</td>\n",
       "      <td>0.000000</td>\n",
       "      <td>18266.752620</td>\n",
       "      <td>0.000000</td>\n",
       "      <td>0.000000</td>\n",
       "      <td>0.000000e+00</td>\n",
       "      <td>0.000000</td>\n",
       "      <td>1.552051e+03</td>\n",
       "      <td>255.322381</td>\n",
       "      <td>...</td>\n",
       "      <td>0.000000</td>\n",
       "      <td>0.000000</td>\n",
       "      <td>0.000000</td>\n",
       "      <td>0.000000</td>\n",
       "      <td>0.000000</td>\n",
       "      <td>0.000000</td>\n",
       "      <td>0.000000</td>\n",
       "      <td>0.000000</td>\n",
       "      <td>0.000000</td>\n",
       "      <td>0.0</td>\n",
       "    </tr>\n",
       "    <tr>\n",
       "      <th>Oil seeds</th>\n",
       "      <td>0.000000</td>\n",
       "      <td>0.000000</td>\n",
       "      <td>0.000000</td>\n",
       "      <td>0.000000</td>\n",
       "      <td>0.000000</td>\n",
       "      <td>0.000000</td>\n",
       "      <td>-1.206066e+06</td>\n",
       "      <td>0.000000</td>\n",
       "      <td>0.000000e+00</td>\n",
       "      <td>0.000000</td>\n",
       "      <td>...</td>\n",
       "      <td>0.000000</td>\n",
       "      <td>0.000000</td>\n",
       "      <td>0.000000</td>\n",
       "      <td>0.000000</td>\n",
       "      <td>0.000000</td>\n",
       "      <td>0.000000</td>\n",
       "      <td>0.000000</td>\n",
       "      <td>0.000000</td>\n",
       "      <td>0.000000</td>\n",
       "      <td>0.0</td>\n",
       "    </tr>\n",
       "    <tr>\n",
       "      <th>...</th>\n",
       "      <th>...</th>\n",
       "      <td>...</td>\n",
       "      <td>...</td>\n",
       "      <td>...</td>\n",
       "      <td>...</td>\n",
       "      <td>...</td>\n",
       "      <td>...</td>\n",
       "      <td>...</td>\n",
       "      <td>...</td>\n",
       "      <td>...</td>\n",
       "      <td>...</td>\n",
       "      <td>...</td>\n",
       "      <td>...</td>\n",
       "      <td>...</td>\n",
       "      <td>...</td>\n",
       "      <td>...</td>\n",
       "      <td>...</td>\n",
       "      <td>...</td>\n",
       "      <td>...</td>\n",
       "      <td>...</td>\n",
       "      <td>...</td>\n",
       "      <td>...</td>\n",
       "    </tr>\n",
       "    <tr>\n",
       "      <th rowspan=\"5\" valign=\"top\">WM</th>\n",
       "      <th>Membership organisation services n.e.c. (91)</th>\n",
       "      <td>0.000351</td>\n",
       "      <td>0.001041</td>\n",
       "      <td>0.001017</td>\n",
       "      <td>0.003093</td>\n",
       "      <td>0.000834</td>\n",
       "      <td>0.000311</td>\n",
       "      <td>2.090292e-03</td>\n",
       "      <td>0.000107</td>\n",
       "      <td>3.367005e-03</td>\n",
       "      <td>0.000690</td>\n",
       "      <td>...</td>\n",
       "      <td>0.000000</td>\n",
       "      <td>0.000000</td>\n",
       "      <td>0.000005</td>\n",
       "      <td>0.000000</td>\n",
       "      <td>0.000000</td>\n",
       "      <td>0.015072</td>\n",
       "      <td>0.002415</td>\n",
       "      <td>0.000821</td>\n",
       "      <td>0.000511</td>\n",
       "      <td>0.0</td>\n",
       "    </tr>\n",
       "    <tr>\n",
       "      <th>Recreational, cultural and sporting services (92)</th>\n",
       "      <td>0.000000</td>\n",
       "      <td>0.000148</td>\n",
       "      <td>0.000236</td>\n",
       "      <td>0.006582</td>\n",
       "      <td>0.000460</td>\n",
       "      <td>0.000000</td>\n",
       "      <td>5.860030e-04</td>\n",
       "      <td>0.000002</td>\n",
       "      <td>2.681661e-03</td>\n",
       "      <td>0.000037</td>\n",
       "      <td>...</td>\n",
       "      <td>0.001288</td>\n",
       "      <td>0.000036</td>\n",
       "      <td>0.000946</td>\n",
       "      <td>0.000058</td>\n",
       "      <td>0.000124</td>\n",
       "      <td>0.362342</td>\n",
       "      <td>0.626137</td>\n",
       "      <td>0.245179</td>\n",
       "      <td>0.029331</td>\n",
       "      <td>0.0</td>\n",
       "    </tr>\n",
       "    <tr>\n",
       "      <th>Other services (93)</th>\n",
       "      <td>0.000060</td>\n",
       "      <td>0.000216</td>\n",
       "      <td>0.000583</td>\n",
       "      <td>0.000521</td>\n",
       "      <td>0.000385</td>\n",
       "      <td>0.000021</td>\n",
       "      <td>7.101730e-04</td>\n",
       "      <td>0.000034</td>\n",
       "      <td>7.231660e-04</td>\n",
       "      <td>0.000145</td>\n",
       "      <td>...</td>\n",
       "      <td>0.359329</td>\n",
       "      <td>0.003307</td>\n",
       "      <td>0.598283</td>\n",
       "      <td>0.242554</td>\n",
       "      <td>0.003715</td>\n",
       "      <td>0.482523</td>\n",
       "      <td>2.278524</td>\n",
       "      <td>0.733058</td>\n",
       "      <td>0.034219</td>\n",
       "      <td>0.0</td>\n",
       "    </tr>\n",
       "    <tr>\n",
       "      <th>Private households with employed persons (95)</th>\n",
       "      <td>0.000000</td>\n",
       "      <td>0.000000</td>\n",
       "      <td>0.000000</td>\n",
       "      <td>0.000000</td>\n",
       "      <td>0.000000</td>\n",
       "      <td>0.000000</td>\n",
       "      <td>0.000000e+00</td>\n",
       "      <td>0.000000</td>\n",
       "      <td>0.000000e+00</td>\n",
       "      <td>0.000000</td>\n",
       "      <td>...</td>\n",
       "      <td>0.000000</td>\n",
       "      <td>0.000000</td>\n",
       "      <td>0.000000</td>\n",
       "      <td>0.000000</td>\n",
       "      <td>0.000000</td>\n",
       "      <td>0.000000</td>\n",
       "      <td>0.000000</td>\n",
       "      <td>0.000000</td>\n",
       "      <td>0.000000</td>\n",
       "      <td>0.0</td>\n",
       "    </tr>\n",
       "    <tr>\n",
       "      <th>Extra-territorial organizations and bodies</th>\n",
       "      <td>0.000000</td>\n",
       "      <td>0.000000</td>\n",
       "      <td>0.000000</td>\n",
       "      <td>0.000000</td>\n",
       "      <td>0.000000</td>\n",
       "      <td>0.000000</td>\n",
       "      <td>0.000000e+00</td>\n",
       "      <td>0.000000</td>\n",
       "      <td>0.000000e+00</td>\n",
       "      <td>0.000000</td>\n",
       "      <td>...</td>\n",
       "      <td>0.000000</td>\n",
       "      <td>0.000000</td>\n",
       "      <td>0.000000</td>\n",
       "      <td>0.000000</td>\n",
       "      <td>0.000000</td>\n",
       "      <td>0.000000</td>\n",
       "      <td>0.000000</td>\n",
       "      <td>0.000000</td>\n",
       "      <td>0.000000</td>\n",
       "      <td>0.0</td>\n",
       "    </tr>\n",
       "  </tbody>\n",
       "</table>\n",
       "<p>7872 rows × 7872 columns</p>\n",
       "</div>"
      ],
      "text/plain": [
       "region                                                           AU            \\\n",
       "sector                                                   Paddy rice     Wheat   \n",
       "region sector                                                                   \n",
       "AU     Paddy rice                                          0.000000  0.000000   \n",
       "       Wheat                                               0.000000  0.000000   \n",
       "       Cereal grains nec                                   0.000000  0.000000   \n",
       "       Vegetables, fruit, nuts                             0.000000  0.000000   \n",
       "       Oil seeds                                           0.000000  0.000000   \n",
       "...                                                             ...       ...   \n",
       "WM     Membership organisation services n.e.c. (91)        0.000351  0.001041   \n",
       "       Recreational, cultural and sporting services (92)   0.000000  0.000148   \n",
       "       Other services (93)                                 0.000060  0.000216   \n",
       "       Private households with employed persons (95)       0.000000  0.000000   \n",
       "       Extra-territorial organizations and bodies          0.000000  0.000000   \n",
       "\n",
       "region                                                                      \\\n",
       "sector                                                   Cereal grains nec   \n",
       "region sector                                                                \n",
       "AU     Paddy rice                                                 0.000000   \n",
       "       Wheat                                                      0.000000   \n",
       "       Cereal grains nec                                      70942.965470   \n",
       "       Vegetables, fruit, nuts                                    0.000000   \n",
       "       Oil seeds                                                  0.000000   \n",
       "...                                                                    ...   \n",
       "WM     Membership organisation services n.e.c. (91)               0.001017   \n",
       "       Recreational, cultural and sporting services (92)          0.000236   \n",
       "       Other services (93)                                        0.000583   \n",
       "       Private households with employed persons (95)              0.000000   \n",
       "       Extra-territorial organizations and bodies                 0.000000   \n",
       "\n",
       "region                                                                            \\\n",
       "sector                                                   Vegetables, fruit, nuts   \n",
       "region sector                                                                      \n",
       "AU     Paddy rice                                                       0.000000   \n",
       "       Wheat                                                            0.000000   \n",
       "       Cereal grains nec                                                0.000000   \n",
       "       Vegetables, fruit, nuts                                      18266.752620   \n",
       "       Oil seeds                                                        0.000000   \n",
       "...                                                                          ...   \n",
       "WM     Membership organisation services n.e.c. (91)                     0.003093   \n",
       "       Recreational, cultural and sporting services (92)                0.006582   \n",
       "       Other services (93)                                              0.000521   \n",
       "       Private households with employed persons (95)                    0.000000   \n",
       "       Extra-territorial organizations and bodies                       0.000000   \n",
       "\n",
       "region                                                              \\\n",
       "sector                                                   Oil seeds   \n",
       "region sector                                                        \n",
       "AU     Paddy rice                                         0.000000   \n",
       "       Wheat                                              0.000000   \n",
       "       Cereal grains nec                                  0.000000   \n",
       "       Vegetables, fruit, nuts                            0.000000   \n",
       "       Oil seeds                                          0.000000   \n",
       "...                                                            ...   \n",
       "WM     Membership organisation services n.e.c. (91)       0.000834   \n",
       "       Recreational, cultural and sporting services (92)  0.000460   \n",
       "       Other services (93)                                0.000385   \n",
       "       Private households with employed persons (95)      0.000000   \n",
       "       Extra-territorial organizations and bodies         0.000000   \n",
       "\n",
       "region                                                                           \\\n",
       "sector                                                   Sugar cane, sugar beet   \n",
       "region sector                                                                     \n",
       "AU     Paddy rice                                                      0.000000   \n",
       "       Wheat                                                           0.000000   \n",
       "       Cereal grains nec                                               0.000000   \n",
       "       Vegetables, fruit, nuts                                         0.000000   \n",
       "       Oil seeds                                                       0.000000   \n",
       "...                                                                         ...   \n",
       "WM     Membership organisation services n.e.c. (91)                    0.000311   \n",
       "       Recreational, cultural and sporting services (92)               0.000000   \n",
       "       Other services (93)                                             0.000021   \n",
       "       Private households with employed persons (95)                   0.000000   \n",
       "       Extra-territorial organizations and bodies                      0.000000   \n",
       "\n",
       "region                                                                       \\\n",
       "sector                                                   Plant-based fibers   \n",
       "region sector                                                                 \n",
       "AU     Paddy rice                                              0.000000e+00   \n",
       "       Wheat                                                   0.000000e+00   \n",
       "       Cereal grains nec                                       0.000000e+00   \n",
       "       Vegetables, fruit, nuts                                 0.000000e+00   \n",
       "       Oil seeds                                              -1.206066e+06   \n",
       "...                                                                     ...   \n",
       "WM     Membership organisation services n.e.c. (91)            2.090292e-03   \n",
       "       Recreational, cultural and sporting services (92)       5.860030e-04   \n",
       "       Other services (93)                                     7.101730e-04   \n",
       "       Private households with employed persons (95)           0.000000e+00   \n",
       "       Extra-territorial organizations and bodies              0.000000e+00   \n",
       "\n",
       "region                                                              \\\n",
       "sector                                                   Crops nec   \n",
       "region sector                                                        \n",
       "AU     Paddy rice                                         0.000000   \n",
       "       Wheat                                              0.000000   \n",
       "       Cereal grains nec                                  0.000000   \n",
       "       Vegetables, fruit, nuts                            0.000000   \n",
       "       Oil seeds                                          0.000000   \n",
       "...                                                            ...   \n",
       "WM     Membership organisation services n.e.c. (91)       0.000107   \n",
       "       Recreational, cultural and sporting services (92)  0.000002   \n",
       "       Other services (93)                                0.000034   \n",
       "       Private households with employed persons (95)      0.000000   \n",
       "       Extra-territorial organizations and bodies         0.000000   \n",
       "\n",
       "region                                                                  \\\n",
       "sector                                                          Cattle   \n",
       "region sector                                                            \n",
       "AU     Paddy rice                                         0.000000e+00   \n",
       "       Wheat                                              6.791574e+05   \n",
       "       Cereal grains nec                                  2.277000e+06   \n",
       "       Vegetables, fruit, nuts                            1.552051e+03   \n",
       "       Oil seeds                                          0.000000e+00   \n",
       "...                                                                ...   \n",
       "WM     Membership organisation services n.e.c. (91)       3.367005e-03   \n",
       "       Recreational, cultural and sporting services (92)  2.681661e-03   \n",
       "       Other services (93)                                7.231660e-04   \n",
       "       Private households with employed persons (95)      0.000000e+00   \n",
       "       Extra-territorial organizations and bodies         0.000000e+00   \n",
       "\n",
       "region                                                                   ...  \\\n",
       "sector                                                             Pigs  ...   \n",
       "region sector                                                            ...   \n",
       "AU     Paddy rice                                              0.000000  ...   \n",
       "       Wheat                                              156083.893300  ...   \n",
       "       Cereal grains nec                                  823314.442100  ...   \n",
       "       Vegetables, fruit, nuts                               255.322381  ...   \n",
       "       Oil seeds                                               0.000000  ...   \n",
       "...                                                                 ...  ...   \n",
       "WM     Membership organisation services n.e.c. (91)            0.000690  ...   \n",
       "       Recreational, cultural and sporting services (92)       0.000037  ...   \n",
       "       Other services (93)                                     0.000145  ...   \n",
       "       Private households with employed persons (95)           0.000000  ...   \n",
       "       Extra-territorial organizations and bodies              0.000000  ...   \n",
       "\n",
       "region                                                                              WM  \\\n",
       "sector                                                   Paper for treatment: landfill   \n",
       "region sector                                                                            \n",
       "AU     Paddy rice                                                             0.000000   \n",
       "       Wheat                                                                  0.000000   \n",
       "       Cereal grains nec                                                      0.000000   \n",
       "       Vegetables, fruit, nuts                                                0.000000   \n",
       "       Oil seeds                                                              0.000000   \n",
       "...                                                                                ...   \n",
       "WM     Membership organisation services n.e.c. (91)                           0.000000   \n",
       "       Recreational, cultural and sporting services (92)                      0.001288   \n",
       "       Other services (93)                                                    0.359329   \n",
       "       Private households with employed persons (95)                          0.000000   \n",
       "       Extra-territorial organizations and bodies                             0.000000   \n",
       "\n",
       "region                                                                                          \\\n",
       "sector                                                   Plastic waste for treatment: landfill   \n",
       "region sector                                                                                    \n",
       "AU     Paddy rice                                                                     0.000000   \n",
       "       Wheat                                                                          0.000000   \n",
       "       Cereal grains nec                                                              0.000000   \n",
       "       Vegetables, fruit, nuts                                                        0.000000   \n",
       "       Oil seeds                                                                      0.000000   \n",
       "...                                                                                        ...   \n",
       "WM     Membership organisation services n.e.c. (91)                                   0.000000   \n",
       "       Recreational, cultural and sporting services (92)                              0.000036   \n",
       "       Other services (93)                                                            0.003307   \n",
       "       Private households with employed persons (95)                                  0.000000   \n",
       "       Extra-territorial organizations and bodies                                     0.000000   \n",
       "\n",
       "region                                                                                                        \\\n",
       "sector                                                   Inert/metal/hazardous waste for treatment: landfill   \n",
       "region sector                                                                                                  \n",
       "AU     Paddy rice                                                                                  0.000000    \n",
       "       Wheat                                                                                       0.000000    \n",
       "       Cereal grains nec                                                                           0.000000    \n",
       "       Vegetables, fruit, nuts                                                                     0.000000    \n",
       "       Oil seeds                                                                                   0.000000    \n",
       "...                                                                                                     ...    \n",
       "WM     Membership organisation services n.e.c. (91)                                                0.000005    \n",
       "       Recreational, cultural and sporting services (92)                                           0.000946    \n",
       "       Other services (93)                                                                         0.598283    \n",
       "       Private households with employed persons (95)                                               0.000000    \n",
       "       Extra-territorial organizations and bodies                                                  0.000000    \n",
       "\n",
       "region                                                                                           \\\n",
       "sector                                                   Textiles waste for treatment: landfill   \n",
       "region sector                                                                                     \n",
       "AU     Paddy rice                                                                      0.000000   \n",
       "       Wheat                                                                           0.000000   \n",
       "       Cereal grains nec                                                               0.000000   \n",
       "       Vegetables, fruit, nuts                                                         0.000000   \n",
       "       Oil seeds                                                                       0.000000   \n",
       "...                                                                                         ...   \n",
       "WM     Membership organisation services n.e.c. (91)                                    0.000000   \n",
       "       Recreational, cultural and sporting services (92)                               0.000058   \n",
       "       Other services (93)                                                             0.242554   \n",
       "       Private households with employed persons (95)                                   0.000000   \n",
       "       Extra-territorial organizations and bodies                                      0.000000   \n",
       "\n",
       "region                                                                                       \\\n",
       "sector                                                   Wood waste for treatment: landfill   \n",
       "region sector                                                                                 \n",
       "AU     Paddy rice                                                                  0.000000   \n",
       "       Wheat                                                                       0.000000   \n",
       "       Cereal grains nec                                                           0.000000   \n",
       "       Vegetables, fruit, nuts                                                     0.000000   \n",
       "       Oil seeds                                                                   0.000000   \n",
       "...                                                                                     ...   \n",
       "WM     Membership organisation services n.e.c. (91)                                0.000000   \n",
       "       Recreational, cultural and sporting services (92)                           0.000124   \n",
       "       Other services (93)                                                         0.003715   \n",
       "       Private households with employed persons (95)                               0.000000   \n",
       "       Extra-territorial organizations and bodies                                  0.000000   \n",
       "\n",
       "region                                                                                                 \\\n",
       "sector                                                   Membership organisation services n.e.c. (91)   \n",
       "region sector                                                                                           \n",
       "AU     Paddy rice                                                                            0.000000   \n",
       "       Wheat                                                                                 0.000000   \n",
       "       Cereal grains nec                                                                     0.000000   \n",
       "       Vegetables, fruit, nuts                                                               0.000000   \n",
       "       Oil seeds                                                                             0.000000   \n",
       "...                                                                                               ...   \n",
       "WM     Membership organisation services n.e.c. (91)                                          0.015072   \n",
       "       Recreational, cultural and sporting services (92)                                     0.362342   \n",
       "       Other services (93)                                                                   0.482523   \n",
       "       Private households with employed persons (95)                                         0.000000   \n",
       "       Extra-territorial organizations and bodies                                            0.000000   \n",
       "\n",
       "region                                                                                                      \\\n",
       "sector                                                   Recreational, cultural and sporting services (92)   \n",
       "region sector                                                                                                \n",
       "AU     Paddy rice                                                                                 0.000000   \n",
       "       Wheat                                                                                      0.000000   \n",
       "       Cereal grains nec                                                                          0.000000   \n",
       "       Vegetables, fruit, nuts                                                                    0.000000   \n",
       "       Oil seeds                                                                                  0.000000   \n",
       "...                                                                                                    ...   \n",
       "WM     Membership organisation services n.e.c. (91)                                               0.002415   \n",
       "       Recreational, cultural and sporting services (92)                                          0.626137   \n",
       "       Other services (93)                                                                        2.278524   \n",
       "       Private households with employed persons (95)                                              0.000000   \n",
       "       Extra-territorial organizations and bodies                                                 0.000000   \n",
       "\n",
       "region                                                                        \\\n",
       "sector                                                   Other services (93)   \n",
       "region sector                                                                  \n",
       "AU     Paddy rice                                                   0.000000   \n",
       "       Wheat                                                        0.000000   \n",
       "       Cereal grains nec                                            0.000000   \n",
       "       Vegetables, fruit, nuts                                      0.000000   \n",
       "       Oil seeds                                                    0.000000   \n",
       "...                                                                      ...   \n",
       "WM     Membership organisation services n.e.c. (91)                 0.000821   \n",
       "       Recreational, cultural and sporting services (92)            0.245179   \n",
       "       Other services (93)                                          0.733058   \n",
       "       Private households with employed persons (95)                0.000000   \n",
       "       Extra-territorial organizations and bodies                   0.000000   \n",
       "\n",
       "region                                                                                                  \\\n",
       "sector                                                   Private households with employed persons (95)   \n",
       "region sector                                                                                            \n",
       "AU     Paddy rice                                                                             0.000000   \n",
       "       Wheat                                                                                  0.000000   \n",
       "       Cereal grains nec                                                                      0.000000   \n",
       "       Vegetables, fruit, nuts                                                                0.000000   \n",
       "       Oil seeds                                                                              0.000000   \n",
       "...                                                                                                ...   \n",
       "WM     Membership organisation services n.e.c. (91)                                           0.000511   \n",
       "       Recreational, cultural and sporting services (92)                                      0.029331   \n",
       "       Other services (93)                                                                    0.034219   \n",
       "       Private households with employed persons (95)                                          0.000000   \n",
       "       Extra-territorial organizations and bodies                                             0.000000   \n",
       "\n",
       "region                                                                                               \n",
       "sector                                                   Extra-territorial organizations and bodies  \n",
       "region sector                                                                                        \n",
       "AU     Paddy rice                                                                               0.0  \n",
       "       Wheat                                                                                    0.0  \n",
       "       Cereal grains nec                                                                        0.0  \n",
       "       Vegetables, fruit, nuts                                                                  0.0  \n",
       "       Oil seeds                                                                                0.0  \n",
       "...                                                                                             ...  \n",
       "WM     Membership organisation services n.e.c. (91)                                             0.0  \n",
       "       Recreational, cultural and sporting services (92)                                        0.0  \n",
       "       Other services (93)                                                                      0.0  \n",
       "       Private households with employed persons (95)                                            0.0  \n",
       "       Extra-territorial organizations and bodies                                               0.0  \n",
       "\n",
       "[7872 rows x 7872 columns]"
      ]
     },
     "execution_count": 20,
     "metadata": {},
     "output_type": "execute_result"
    }
   ],
   "source": [
    "Z_new=Z_1+Z_gamma\n",
    "Z_new"
   ]
  },
  {
   "cell_type": "markdown",
   "id": "6f0a3a95",
   "metadata": {},
   "source": [
    "New value of Z, do not run if you will edit cells below"
   ]
  },
  {
   "cell_type": "code",
   "execution_count": 21,
   "id": "baaa5a50",
   "metadata": {},
   "outputs": [
    {
     "data": {
      "text/plain": [
       "False"
      ]
     },
     "execution_count": 21,
     "metadata": {},
     "output_type": "execute_result"
    }
   ],
   "source": [
    "exio3318.Z=Z_new\n",
    "exio3318.Z\n",
    "exio3318.Z.isna().values.any() #To check all data is ok, it has to be false"
   ]
  },
  {
   "cell_type": "markdown",
   "id": "ef4d0c3e",
   "metadata": {},
   "source": [
    "To do again the calculations"
   ]
  },
  {
   "cell_type": "code",
   "execution_count": 22,
   "id": "fa3cdb1c",
   "metadata": {},
   "outputs": [
    {
     "name": "stderr",
     "output_type": "stream",
     "text": [
      "c:\\Users\\marpi\\anaconda3\\envs\\input_output_bw25\\Lib\\site-packages\\pymrio\\core\\mriosystem.py:900: FutureWarning: DataFrame.groupby with axis=1 is deprecated. Do `frame.T.groupby(...)` without axis instead.\n",
      "  Y_agg = Y.groupby(level=\"region\", axis=1, sort=False).sum()\n",
      "c:\\Users\\marpi\\anaconda3\\envs\\input_output_bw25\\Lib\\site-packages\\pymrio\\core\\mriosystem.py:956: FutureWarning: DataFrame.groupby with axis=1 is deprecated. Do `frame.T.groupby(...)` without axis instead.\n",
      "  F_Y_agg = self.F_Y.groupby(level=\"region\", axis=1, sort=False).sum()\n",
      "c:\\Users\\marpi\\anaconda3\\envs\\input_output_bw25\\Lib\\site-packages\\pymrio\\core\\mriosystem.py:984: FutureWarning: DataFrame.groupby with axis=1 is deprecated. Do `frame.T.groupby(...)` without axis instead.\n",
      "  self.D_cba.groupby(level=\"region\", axis=1, sort=False).sum()\n",
      "c:\\Users\\marpi\\anaconda3\\envs\\input_output_bw25\\Lib\\site-packages\\pymrio\\core\\mriosystem.py:993: FutureWarning: DataFrame.groupby with axis=1 is deprecated. Do `frame.T.groupby(...)` without axis instead.\n",
      "  self.D_pba.groupby(level=\"region\", axis=1, sort=False).sum()\n",
      "c:\\Users\\marpi\\anaconda3\\envs\\input_output_bw25\\Lib\\site-packages\\pymrio\\core\\mriosystem.py:1001: FutureWarning: DataFrame.groupby with axis=1 is deprecated. Do `frame.T.groupby(...)` without axis instead.\n",
      "  self.D_imp_reg = self.D_imp.groupby(\n",
      "c:\\Users\\marpi\\anaconda3\\envs\\input_output_bw25\\Lib\\site-packages\\pymrio\\core\\mriosystem.py:1007: FutureWarning: DataFrame.groupby with axis=1 is deprecated. Do `frame.T.groupby(...)` without axis instead.\n",
      "  self.D_exp_reg = self.D_exp.groupby(\n"
     ]
    },
    {
     "data": {
      "text/plain": [
       "<pymrio.core.mriosystem.IOSystem at 0x2c38ccb2390>"
      ]
     },
     "execution_count": 22,
     "metadata": {},
     "output_type": "execute_result"
    }
   ],
   "source": [
    "exio3318.reset_all_full() #reset\n",
    "exio3318.calc_all() #calculation of the rest of matrix again"
   ]
  },
  {
   "cell_type": "markdown",
   "id": "6f0dc8fd",
   "metadata": {},
   "source": [
    "# Information calculated by pymrio"
   ]
  },
  {
   "cell_type": "markdown",
   "id": "9764ddca",
   "metadata": {},
   "source": [
    "Total production vector (hybrid units)"
   ]
  },
  {
   "cell_type": "code",
   "execution_count": 23,
   "id": "37d058d5",
   "metadata": {},
   "outputs": [
    {
     "data": {
      "text/html": [
       "<div>\n",
       "<style scoped>\n",
       "    .dataframe tbody tr th:only-of-type {\n",
       "        vertical-align: middle;\n",
       "    }\n",
       "\n",
       "    .dataframe tbody tr th {\n",
       "        vertical-align: top;\n",
       "    }\n",
       "\n",
       "    .dataframe thead th {\n",
       "        text-align: right;\n",
       "    }\n",
       "</style>\n",
       "<table border=\"1\" class=\"dataframe\">\n",
       "  <thead>\n",
       "    <tr style=\"text-align: right;\">\n",
       "      <th></th>\n",
       "      <th></th>\n",
       "      <th>indout</th>\n",
       "    </tr>\n",
       "    <tr>\n",
       "      <th>region</th>\n",
       "      <th>sector</th>\n",
       "      <th></th>\n",
       "    </tr>\n",
       "  </thead>\n",
       "  <tbody>\n",
       "    <tr>\n",
       "      <th rowspan=\"5\" valign=\"top\">AU</th>\n",
       "      <th>Paddy rice</th>\n",
       "      <td>6.147906e+05</td>\n",
       "    </tr>\n",
       "    <tr>\n",
       "      <th>Wheat</th>\n",
       "      <td>2.329856e+07</td>\n",
       "    </tr>\n",
       "    <tr>\n",
       "      <th>Cereal grains nec</th>\n",
       "      <td>1.009107e+07</td>\n",
       "    </tr>\n",
       "    <tr>\n",
       "      <th>Vegetables, fruit, nuts</th>\n",
       "      <td>3.256927e+06</td>\n",
       "    </tr>\n",
       "    <tr>\n",
       "      <th>Oil seeds</th>\n",
       "      <td>4.010747e+05</td>\n",
       "    </tr>\n",
       "    <tr>\n",
       "      <th>...</th>\n",
       "      <th>...</th>\n",
       "      <td>...</td>\n",
       "    </tr>\n",
       "    <tr>\n",
       "      <th rowspan=\"5\" valign=\"top\">WM</th>\n",
       "      <th>Membership organisation services n.e.c. (91)</th>\n",
       "      <td>1.549911e+04</td>\n",
       "    </tr>\n",
       "    <tr>\n",
       "      <th>Recreational, cultural and sporting services (92)</th>\n",
       "      <td>3.103591e+04</td>\n",
       "    </tr>\n",
       "    <tr>\n",
       "      <th>Other services (93)</th>\n",
       "      <td>2.187645e+04</td>\n",
       "    </tr>\n",
       "    <tr>\n",
       "      <th>Private households with employed persons (95)</th>\n",
       "      <td>5.306091e+03</td>\n",
       "    </tr>\n",
       "    <tr>\n",
       "      <th>Extra-territorial organizations and bodies</th>\n",
       "      <td>0.000000e+00</td>\n",
       "    </tr>\n",
       "  </tbody>\n",
       "</table>\n",
       "<p>7872 rows × 1 columns</p>\n",
       "</div>"
      ],
      "text/plain": [
       "                                                                indout\n",
       "region sector                                                         \n",
       "AU     Paddy rice                                         6.147906e+05\n",
       "       Wheat                                              2.329856e+07\n",
       "       Cereal grains nec                                  1.009107e+07\n",
       "       Vegetables, fruit, nuts                            3.256927e+06\n",
       "       Oil seeds                                          4.010747e+05\n",
       "...                                                                ...\n",
       "WM     Membership organisation services n.e.c. (91)       1.549911e+04\n",
       "       Recreational, cultural and sporting services (92)  3.103591e+04\n",
       "       Other services (93)                                2.187645e+04\n",
       "       Private households with employed persons (95)      5.306091e+03\n",
       "       Extra-territorial organizations and bodies         0.000000e+00\n",
       "\n",
       "[7872 rows x 1 columns]"
      ]
     },
     "execution_count": 23,
     "metadata": {},
     "output_type": "execute_result"
    }
   ],
   "source": [
    "exio3318.x"
   ]
  },
  {
   "cell_type": "markdown",
   "id": "eb0a06ab",
   "metadata": {},
   "source": [
    "This are the UNITARY emissions direct per activity and per functional unit (F/X). Called S direct emissions"
   ]
  },
  {
   "cell_type": "code",
   "execution_count": 24,
   "id": "04c4f728",
   "metadata": {},
   "outputs": [
    {
     "data": {
      "text/html": [
       "<div>\n",
       "<style scoped>\n",
       "    .dataframe tbody tr th:only-of-type {\n",
       "        vertical-align: middle;\n",
       "    }\n",
       "\n",
       "    .dataframe tbody tr th {\n",
       "        vertical-align: top;\n",
       "    }\n",
       "\n",
       "    .dataframe thead tr th {\n",
       "        text-align: left;\n",
       "    }\n",
       "</style>\n",
       "<table border=\"1\" class=\"dataframe\">\n",
       "  <thead>\n",
       "    <tr>\n",
       "      <th></th>\n",
       "      <th></th>\n",
       "      <th>region</th>\n",
       "      <th colspan=\"10\" halign=\"left\">AU</th>\n",
       "      <th>...</th>\n",
       "      <th colspan=\"10\" halign=\"left\">WM</th>\n",
       "    </tr>\n",
       "    <tr>\n",
       "      <th></th>\n",
       "      <th></th>\n",
       "      <th>sector</th>\n",
       "      <th>Paddy rice</th>\n",
       "      <th>Wheat</th>\n",
       "      <th>Cereal grains nec</th>\n",
       "      <th>Vegetables, fruit, nuts</th>\n",
       "      <th>Oil seeds</th>\n",
       "      <th>Sugar cane, sugar beet</th>\n",
       "      <th>Plant-based fibers</th>\n",
       "      <th>Crops nec</th>\n",
       "      <th>Cattle</th>\n",
       "      <th>Pigs</th>\n",
       "      <th>...</th>\n",
       "      <th>Paper for treatment: landfill</th>\n",
       "      <th>Plastic waste for treatment: landfill</th>\n",
       "      <th>Inert/metal/hazardous waste for treatment: landfill</th>\n",
       "      <th>Textiles waste for treatment: landfill</th>\n",
       "      <th>Wood waste for treatment: landfill</th>\n",
       "      <th>Membership organisation services n.e.c. (91)</th>\n",
       "      <th>Recreational, cultural and sporting services (92)</th>\n",
       "      <th>Other services (93)</th>\n",
       "      <th>Private households with employed persons (95)</th>\n",
       "      <th>Extra-territorial organizations and bodies</th>\n",
       "    </tr>\n",
       "  </thead>\n",
       "  <tbody>\n",
       "    <tr>\n",
       "      <th>Carbon dioxide, fossil</th>\n",
       "      <th>tonnes</th>\n",
       "      <th>air</th>\n",
       "      <td>0.061182</td>\n",
       "      <td>0.083341</td>\n",
       "      <td>0.048647</td>\n",
       "      <td>0.075276</td>\n",
       "      <td>0.207100</td>\n",
       "      <td>0.022910</td>\n",
       "      <td>0.194659</td>\n",
       "      <td>2.324852</td>\n",
       "      <td>2.518185</td>\n",
       "      <td>0.052053</td>\n",
       "      <td>...</td>\n",
       "      <td>0.000028</td>\n",
       "      <td>0.022007</td>\n",
       "      <td>3.990280e-03</td>\n",
       "      <td>0.383735</td>\n",
       "      <td>0.000264</td>\n",
       "      <td>490.404321</td>\n",
       "      <td>208.943512</td>\n",
       "      <td>67.131811</td>\n",
       "      <td>309.773251</td>\n",
       "      <td>0.0</td>\n",
       "    </tr>\n",
       "    <tr>\n",
       "      <th>N2O</th>\n",
       "      <th>tonnes</th>\n",
       "      <th>air</th>\n",
       "      <td>0.000072</td>\n",
       "      <td>0.000407</td>\n",
       "      <td>0.000385</td>\n",
       "      <td>0.002579</td>\n",
       "      <td>0.001156</td>\n",
       "      <td>0.000154</td>\n",
       "      <td>0.001496</td>\n",
       "      <td>0.001338</td>\n",
       "      <td>0.066299</td>\n",
       "      <td>0.001816</td>\n",
       "      <td>...</td>\n",
       "      <td>0.000000</td>\n",
       "      <td>0.000000</td>\n",
       "      <td>0.000000e+00</td>\n",
       "      <td>0.000000</td>\n",
       "      <td>0.000000</td>\n",
       "      <td>0.000000</td>\n",
       "      <td>0.000000</td>\n",
       "      <td>0.000000</td>\n",
       "      <td>0.000000</td>\n",
       "      <td>0.0</td>\n",
       "    </tr>\n",
       "    <tr>\n",
       "      <th>CH4</th>\n",
       "      <th>tonnes</th>\n",
       "      <th>air</th>\n",
       "      <td>0.043148</td>\n",
       "      <td>0.000007</td>\n",
       "      <td>0.000014</td>\n",
       "      <td>0.000021</td>\n",
       "      <td>0.000051</td>\n",
       "      <td>0.000003</td>\n",
       "      <td>0.000016</td>\n",
       "      <td>0.000239</td>\n",
       "      <td>1.433311</td>\n",
       "      <td>0.015725</td>\n",
       "      <td>...</td>\n",
       "      <td>0.125062</td>\n",
       "      <td>0.006490</td>\n",
       "      <td>2.035198e-07</td>\n",
       "      <td>0.131663</td>\n",
       "      <td>0.099420</td>\n",
       "      <td>0.000000</td>\n",
       "      <td>0.000000</td>\n",
       "      <td>0.000000</td>\n",
       "      <td>0.000000</td>\n",
       "      <td>0.0</td>\n",
       "    </tr>\n",
       "    <tr>\n",
       "      <th>HFCs</th>\n",
       "      <th>tonnes</th>\n",
       "      <th>air</th>\n",
       "      <td>0.000000</td>\n",
       "      <td>0.000000</td>\n",
       "      <td>0.000000</td>\n",
       "      <td>0.000000</td>\n",
       "      <td>0.000000</td>\n",
       "      <td>0.000000</td>\n",
       "      <td>0.000000</td>\n",
       "      <td>0.000000</td>\n",
       "      <td>0.000000</td>\n",
       "      <td>0.000000</td>\n",
       "      <td>...</td>\n",
       "      <td>0.000000</td>\n",
       "      <td>0.000000</td>\n",
       "      <td>0.000000e+00</td>\n",
       "      <td>0.000000</td>\n",
       "      <td>0.000000</td>\n",
       "      <td>0.000000</td>\n",
       "      <td>0.000000</td>\n",
       "      <td>0.000000</td>\n",
       "      <td>0.000000</td>\n",
       "      <td>0.0</td>\n",
       "    </tr>\n",
       "    <tr>\n",
       "      <th>PFCs</th>\n",
       "      <th>tonnes</th>\n",
       "      <th>air</th>\n",
       "      <td>0.000000</td>\n",
       "      <td>0.000000</td>\n",
       "      <td>0.000000</td>\n",
       "      <td>0.000000</td>\n",
       "      <td>0.000000</td>\n",
       "      <td>0.000000</td>\n",
       "      <td>0.000000</td>\n",
       "      <td>0.000000</td>\n",
       "      <td>0.000000</td>\n",
       "      <td>0.000000</td>\n",
       "      <td>...</td>\n",
       "      <td>0.000000</td>\n",
       "      <td>0.000000</td>\n",
       "      <td>0.000000e+00</td>\n",
       "      <td>0.000000</td>\n",
       "      <td>0.000000</td>\n",
       "      <td>0.000000</td>\n",
       "      <td>0.000000</td>\n",
       "      <td>0.000000</td>\n",
       "      <td>0.000000</td>\n",
       "      <td>0.0</td>\n",
       "    </tr>\n",
       "    <tr>\n",
       "      <th>...</th>\n",
       "      <th>...</th>\n",
       "      <th>...</th>\n",
       "      <td>...</td>\n",
       "      <td>...</td>\n",
       "      <td>...</td>\n",
       "      <td>...</td>\n",
       "      <td>...</td>\n",
       "      <td>...</td>\n",
       "      <td>...</td>\n",
       "      <td>...</td>\n",
       "      <td>...</td>\n",
       "      <td>...</td>\n",
       "      <td>...</td>\n",
       "      <td>...</td>\n",
       "      <td>...</td>\n",
       "      <td>...</td>\n",
       "      <td>...</td>\n",
       "      <td>...</td>\n",
       "      <td>...</td>\n",
       "      <td>...</td>\n",
       "      <td>...</td>\n",
       "      <td>...</td>\n",
       "      <td>...</td>\n",
       "    </tr>\n",
       "    <tr>\n",
       "      <th>Ni</th>\n",
       "      <th>tonnes</th>\n",
       "      <th>soil</th>\n",
       "      <td>0.000000</td>\n",
       "      <td>0.000000</td>\n",
       "      <td>0.000000</td>\n",
       "      <td>0.000000</td>\n",
       "      <td>0.000000</td>\n",
       "      <td>0.000000</td>\n",
       "      <td>0.000000</td>\n",
       "      <td>0.000000</td>\n",
       "      <td>0.000000</td>\n",
       "      <td>0.000000</td>\n",
       "      <td>...</td>\n",
       "      <td>0.000000</td>\n",
       "      <td>0.000000</td>\n",
       "      <td>0.000000e+00</td>\n",
       "      <td>0.000000</td>\n",
       "      <td>0.000000</td>\n",
       "      <td>0.000000</td>\n",
       "      <td>0.000000</td>\n",
       "      <td>0.000000</td>\n",
       "      <td>0.000000</td>\n",
       "      <td>0.0</td>\n",
       "    </tr>\n",
       "    <tr>\n",
       "      <th>C</th>\n",
       "      <th>tonnes</th>\n",
       "      <th>air</th>\n",
       "      <td>0.000000</td>\n",
       "      <td>0.000000</td>\n",
       "      <td>0.000000</td>\n",
       "      <td>0.000000</td>\n",
       "      <td>0.000000</td>\n",
       "      <td>0.000000</td>\n",
       "      <td>0.000000</td>\n",
       "      <td>0.000000</td>\n",
       "      <td>0.000000</td>\n",
       "      <td>0.000000</td>\n",
       "      <td>...</td>\n",
       "      <td>0.000000</td>\n",
       "      <td>0.000000</td>\n",
       "      <td>0.000000e+00</td>\n",
       "      <td>0.000000</td>\n",
       "      <td>0.000000</td>\n",
       "      <td>0.000000</td>\n",
       "      <td>0.000000</td>\n",
       "      <td>0.000000</td>\n",
       "      <td>0.000000</td>\n",
       "      <td>0.0</td>\n",
       "    </tr>\n",
       "    <tr>\n",
       "      <th>other emissions</th>\n",
       "      <th>tonnes</th>\n",
       "      <th>undef</th>\n",
       "      <td>0.000718</td>\n",
       "      <td>0.001592</td>\n",
       "      <td>0.003508</td>\n",
       "      <td>0.018467</td>\n",
       "      <td>0.093876</td>\n",
       "      <td>0.000443</td>\n",
       "      <td>0.137745</td>\n",
       "      <td>0.293020</td>\n",
       "      <td>55.700957</td>\n",
       "      <td>2.939409</td>\n",
       "      <td>...</td>\n",
       "      <td>0.281293</td>\n",
       "      <td>0.004030</td>\n",
       "      <td>1.361565e-04</td>\n",
       "      <td>0.142081</td>\n",
       "      <td>0.115358</td>\n",
       "      <td>1.395694</td>\n",
       "      <td>0.881257</td>\n",
       "      <td>1.907361</td>\n",
       "      <td>32.309014</td>\n",
       "      <td>0.0</td>\n",
       "    </tr>\n",
       "    <tr>\n",
       "      <th>Carbon dioxide, biogenic</th>\n",
       "      <th>tonnes</th>\n",
       "      <th>air</th>\n",
       "      <td>0.000156</td>\n",
       "      <td>0.000226</td>\n",
       "      <td>0.000120</td>\n",
       "      <td>0.000174</td>\n",
       "      <td>0.000465</td>\n",
       "      <td>0.000029</td>\n",
       "      <td>0.000553</td>\n",
       "      <td>0.002584</td>\n",
       "      <td>0.000375</td>\n",
       "      <td>0.000091</td>\n",
       "      <td>...</td>\n",
       "      <td>0.361729</td>\n",
       "      <td>0.000000</td>\n",
       "      <td>0.000000e+00</td>\n",
       "      <td>0.000000</td>\n",
       "      <td>0.321749</td>\n",
       "      <td>0.000000</td>\n",
       "      <td>0.000000</td>\n",
       "      <td>0.000000</td>\n",
       "      <td>0.000000</td>\n",
       "      <td>0.0</td>\n",
       "    </tr>\n",
       "    <tr>\n",
       "      <th>Other emissions nec</th>\n",
       "      <th>tonnes</th>\n",
       "      <th>air</th>\n",
       "      <td>0.000000</td>\n",
       "      <td>0.000000</td>\n",
       "      <td>0.000000</td>\n",
       "      <td>0.000000</td>\n",
       "      <td>0.000000</td>\n",
       "      <td>0.000000</td>\n",
       "      <td>0.000000</td>\n",
       "      <td>0.000000</td>\n",
       "      <td>0.000000</td>\n",
       "      <td>0.000000</td>\n",
       "      <td>...</td>\n",
       "      <td>0.000000</td>\n",
       "      <td>0.000000</td>\n",
       "      <td>0.000000e+00</td>\n",
       "      <td>0.000000</td>\n",
       "      <td>0.000000</td>\n",
       "      <td>0.000000</td>\n",
       "      <td>0.000000</td>\n",
       "      <td>0.000000</td>\n",
       "      <td>0.000000</td>\n",
       "      <td>0.0</td>\n",
       "    </tr>\n",
       "  </tbody>\n",
       "</table>\n",
       "<p>66 rows × 7872 columns</p>\n",
       "</div>"
      ],
      "text/plain": [
       "region                                        AU                              \\\n",
       "sector                                Paddy rice     Wheat Cereal grains nec   \n",
       "Carbon dioxide, fossil   tonnes air     0.061182  0.083341          0.048647   \n",
       "N2O                      tonnes air     0.000072  0.000407          0.000385   \n",
       "CH4                      tonnes air     0.043148  0.000007          0.000014   \n",
       "HFCs                     tonnes air     0.000000  0.000000          0.000000   \n",
       "PFCs                     tonnes air     0.000000  0.000000          0.000000   \n",
       "...                                          ...       ...               ...   \n",
       "Ni                       tonnes soil    0.000000  0.000000          0.000000   \n",
       "C                        tonnes air     0.000000  0.000000          0.000000   \n",
       "other emissions          tonnes undef   0.000718  0.001592          0.003508   \n",
       "Carbon dioxide, biogenic tonnes air     0.000156  0.000226          0.000120   \n",
       "Other emissions nec      tonnes air     0.000000  0.000000          0.000000   \n",
       "\n",
       "region                                                                   \\\n",
       "sector                                Vegetables, fruit, nuts Oil seeds   \n",
       "Carbon dioxide, fossil   tonnes air                  0.075276  0.207100   \n",
       "N2O                      tonnes air                  0.002579  0.001156   \n",
       "CH4                      tonnes air                  0.000021  0.000051   \n",
       "HFCs                     tonnes air                  0.000000  0.000000   \n",
       "PFCs                     tonnes air                  0.000000  0.000000   \n",
       "...                                                       ...       ...   \n",
       "Ni                       tonnes soil                 0.000000  0.000000   \n",
       "C                        tonnes air                  0.000000  0.000000   \n",
       "other emissions          tonnes undef                0.018467  0.093876   \n",
       "Carbon dioxide, biogenic tonnes air                  0.000174  0.000465   \n",
       "Other emissions nec      tonnes air                  0.000000  0.000000   \n",
       "\n",
       "region                                                        \\\n",
       "sector                                Sugar cane, sugar beet   \n",
       "Carbon dioxide, fossil   tonnes air                 0.022910   \n",
       "N2O                      tonnes air                 0.000154   \n",
       "CH4                      tonnes air                 0.000003   \n",
       "HFCs                     tonnes air                 0.000000   \n",
       "PFCs                     tonnes air                 0.000000   \n",
       "...                                                      ...   \n",
       "Ni                       tonnes soil                0.000000   \n",
       "C                        tonnes air                 0.000000   \n",
       "other emissions          tonnes undef               0.000443   \n",
       "Carbon dioxide, biogenic tonnes air                 0.000029   \n",
       "Other emissions nec      tonnes air                 0.000000   \n",
       "\n",
       "region                                                                         \\\n",
       "sector                                Plant-based fibers Crops nec     Cattle   \n",
       "Carbon dioxide, fossil   tonnes air             0.194659  2.324852   2.518185   \n",
       "N2O                      tonnes air             0.001496  0.001338   0.066299   \n",
       "CH4                      tonnes air             0.000016  0.000239   1.433311   \n",
       "HFCs                     tonnes air             0.000000  0.000000   0.000000   \n",
       "PFCs                     tonnes air             0.000000  0.000000   0.000000   \n",
       "...                                                  ...       ...        ...   \n",
       "Ni                       tonnes soil            0.000000  0.000000   0.000000   \n",
       "C                        tonnes air             0.000000  0.000000   0.000000   \n",
       "other emissions          tonnes undef           0.137745  0.293020  55.700957   \n",
       "Carbon dioxide, biogenic tonnes air             0.000553  0.002584   0.000375   \n",
       "Other emissions nec      tonnes air             0.000000  0.000000   0.000000   \n",
       "\n",
       "region                                           ...  \\\n",
       "sector                                     Pigs  ...   \n",
       "Carbon dioxide, fossil   tonnes air    0.052053  ...   \n",
       "N2O                      tonnes air    0.001816  ...   \n",
       "CH4                      tonnes air    0.015725  ...   \n",
       "HFCs                     tonnes air    0.000000  ...   \n",
       "PFCs                     tonnes air    0.000000  ...   \n",
       "...                                         ...  ...   \n",
       "Ni                       tonnes soil   0.000000  ...   \n",
       "C                        tonnes air    0.000000  ...   \n",
       "other emissions          tonnes undef  2.939409  ...   \n",
       "Carbon dioxide, biogenic tonnes air    0.000091  ...   \n",
       "Other emissions nec      tonnes air    0.000000  ...   \n",
       "\n",
       "region                                                           WM  \\\n",
       "sector                                Paper for treatment: landfill   \n",
       "Carbon dioxide, fossil   tonnes air                        0.000028   \n",
       "N2O                      tonnes air                        0.000000   \n",
       "CH4                      tonnes air                        0.125062   \n",
       "HFCs                     tonnes air                        0.000000   \n",
       "PFCs                     tonnes air                        0.000000   \n",
       "...                                                             ...   \n",
       "Ni                       tonnes soil                       0.000000   \n",
       "C                        tonnes air                        0.000000   \n",
       "other emissions          tonnes undef                      0.281293   \n",
       "Carbon dioxide, biogenic tonnes air                        0.361729   \n",
       "Other emissions nec      tonnes air                        0.000000   \n",
       "\n",
       "region                                                                       \\\n",
       "sector                                Plastic waste for treatment: landfill   \n",
       "Carbon dioxide, fossil   tonnes air                                0.022007   \n",
       "N2O                      tonnes air                                0.000000   \n",
       "CH4                      tonnes air                                0.006490   \n",
       "HFCs                     tonnes air                                0.000000   \n",
       "PFCs                     tonnes air                                0.000000   \n",
       "...                                                                     ...   \n",
       "Ni                       tonnes soil                               0.000000   \n",
       "C                        tonnes air                                0.000000   \n",
       "other emissions          tonnes undef                              0.004030   \n",
       "Carbon dioxide, biogenic tonnes air                                0.000000   \n",
       "Other emissions nec      tonnes air                                0.000000   \n",
       "\n",
       "region                                                                                     \\\n",
       "sector                                Inert/metal/hazardous waste for treatment: landfill   \n",
       "Carbon dioxide, fossil   tonnes air                                         3.990280e-03    \n",
       "N2O                      tonnes air                                         0.000000e+00    \n",
       "CH4                      tonnes air                                         2.035198e-07    \n",
       "HFCs                     tonnes air                                         0.000000e+00    \n",
       "PFCs                     tonnes air                                         0.000000e+00    \n",
       "...                                                                                  ...    \n",
       "Ni                       tonnes soil                                        0.000000e+00    \n",
       "C                        tonnes air                                         0.000000e+00    \n",
       "other emissions          tonnes undef                                       1.361565e-04    \n",
       "Carbon dioxide, biogenic tonnes air                                         0.000000e+00    \n",
       "Other emissions nec      tonnes air                                         0.000000e+00    \n",
       "\n",
       "region                                                                        \\\n",
       "sector                                Textiles waste for treatment: landfill   \n",
       "Carbon dioxide, fossil   tonnes air                                 0.383735   \n",
       "N2O                      tonnes air                                 0.000000   \n",
       "CH4                      tonnes air                                 0.131663   \n",
       "HFCs                     tonnes air                                 0.000000   \n",
       "PFCs                     tonnes air                                 0.000000   \n",
       "...                                                                      ...   \n",
       "Ni                       tonnes soil                                0.000000   \n",
       "C                        tonnes air                                 0.000000   \n",
       "other emissions          tonnes undef                               0.142081   \n",
       "Carbon dioxide, biogenic tonnes air                                 0.000000   \n",
       "Other emissions nec      tonnes air                                 0.000000   \n",
       "\n",
       "region                                                                    \\\n",
       "sector                                Wood waste for treatment: landfill   \n",
       "Carbon dioxide, fossil   tonnes air                             0.000264   \n",
       "N2O                      tonnes air                             0.000000   \n",
       "CH4                      tonnes air                             0.099420   \n",
       "HFCs                     tonnes air                             0.000000   \n",
       "PFCs                     tonnes air                             0.000000   \n",
       "...                                                                  ...   \n",
       "Ni                       tonnes soil                            0.000000   \n",
       "C                        tonnes air                             0.000000   \n",
       "other emissions          tonnes undef                           0.115358   \n",
       "Carbon dioxide, biogenic tonnes air                             0.321749   \n",
       "Other emissions nec      tonnes air                             0.000000   \n",
       "\n",
       "region                                                                              \\\n",
       "sector                                Membership organisation services n.e.c. (91)   \n",
       "Carbon dioxide, fossil   tonnes air                                     490.404321   \n",
       "N2O                      tonnes air                                       0.000000   \n",
       "CH4                      tonnes air                                       0.000000   \n",
       "HFCs                     tonnes air                                       0.000000   \n",
       "PFCs                     tonnes air                                       0.000000   \n",
       "...                                                                            ...   \n",
       "Ni                       tonnes soil                                      0.000000   \n",
       "C                        tonnes air                                       0.000000   \n",
       "other emissions          tonnes undef                                     1.395694   \n",
       "Carbon dioxide, biogenic tonnes air                                       0.000000   \n",
       "Other emissions nec      tonnes air                                       0.000000   \n",
       "\n",
       "region                                                                                   \\\n",
       "sector                                Recreational, cultural and sporting services (92)   \n",
       "Carbon dioxide, fossil   tonnes air                                          208.943512   \n",
       "N2O                      tonnes air                                            0.000000   \n",
       "CH4                      tonnes air                                            0.000000   \n",
       "HFCs                     tonnes air                                            0.000000   \n",
       "PFCs                     tonnes air                                            0.000000   \n",
       "...                                                                                 ...   \n",
       "Ni                       tonnes soil                                           0.000000   \n",
       "C                        tonnes air                                            0.000000   \n",
       "other emissions          tonnes undef                                          0.881257   \n",
       "Carbon dioxide, biogenic tonnes air                                            0.000000   \n",
       "Other emissions nec      tonnes air                                            0.000000   \n",
       "\n",
       "region                                                     \\\n",
       "sector                                Other services (93)   \n",
       "Carbon dioxide, fossil   tonnes air             67.131811   \n",
       "N2O                      tonnes air              0.000000   \n",
       "CH4                      tonnes air              0.000000   \n",
       "HFCs                     tonnes air              0.000000   \n",
       "PFCs                     tonnes air              0.000000   \n",
       "...                                                   ...   \n",
       "Ni                       tonnes soil             0.000000   \n",
       "C                        tonnes air              0.000000   \n",
       "other emissions          tonnes undef            1.907361   \n",
       "Carbon dioxide, biogenic tonnes air              0.000000   \n",
       "Other emissions nec      tonnes air              0.000000   \n",
       "\n",
       "region                                                                               \\\n",
       "sector                                Private households with employed persons (95)   \n",
       "Carbon dioxide, fossil   tonnes air                                      309.773251   \n",
       "N2O                      tonnes air                                        0.000000   \n",
       "CH4                      tonnes air                                        0.000000   \n",
       "HFCs                     tonnes air                                        0.000000   \n",
       "PFCs                     tonnes air                                        0.000000   \n",
       "...                                                                             ...   \n",
       "Ni                       tonnes soil                                       0.000000   \n",
       "C                        tonnes air                                        0.000000   \n",
       "other emissions          tonnes undef                                     32.309014   \n",
       "Carbon dioxide, biogenic tonnes air                                        0.000000   \n",
       "Other emissions nec      tonnes air                                        0.000000   \n",
       "\n",
       "region                                                                            \n",
       "sector                                Extra-territorial organizations and bodies  \n",
       "Carbon dioxide, fossil   tonnes air                                          0.0  \n",
       "N2O                      tonnes air                                          0.0  \n",
       "CH4                      tonnes air                                          0.0  \n",
       "HFCs                     tonnes air                                          0.0  \n",
       "PFCs                     tonnes air                                          0.0  \n",
       "...                                                                          ...  \n",
       "Ni                       tonnes soil                                         0.0  \n",
       "C                        tonnes air                                          0.0  \n",
       "other emissions          tonnes undef                                        0.0  \n",
       "Carbon dioxide, biogenic tonnes air                                          0.0  \n",
       "Other emissions nec      tonnes air                                          0.0  \n",
       "\n",
       "[66 rows x 7872 columns]"
      ]
     },
     "execution_count": 24,
     "metadata": {},
     "output_type": "execute_result"
    }
   ],
   "source": [
    "exio3318.emissions.S\n",
    "#exio3318.emissions.S.loc[\"Carbon dioxide, fossil\", (\"AU\",\"Nickel ores and concentrates\")] #To look for an specific activity"
   ]
  },
  {
   "cell_type": "markdown",
   "id": "952a888b",
   "metadata": {},
   "source": [
    "This are the UNITARY emissions per activity and per functional unit (F/X*L). Called M unitary emissions\n",
    "Their column are like D_cba if Y is zeros with only a one"
   ]
  },
  {
   "cell_type": "code",
   "execution_count": 25,
   "id": "2103bcb7",
   "metadata": {},
   "outputs": [
    {
     "data": {
      "text/html": [
       "<div>\n",
       "<style scoped>\n",
       "    .dataframe tbody tr th:only-of-type {\n",
       "        vertical-align: middle;\n",
       "    }\n",
       "\n",
       "    .dataframe tbody tr th {\n",
       "        vertical-align: top;\n",
       "    }\n",
       "\n",
       "    .dataframe thead tr th {\n",
       "        text-align: left;\n",
       "    }\n",
       "</style>\n",
       "<table border=\"1\" class=\"dataframe\">\n",
       "  <thead>\n",
       "    <tr>\n",
       "      <th></th>\n",
       "      <th></th>\n",
       "      <th>region</th>\n",
       "      <th colspan=\"10\" halign=\"left\">AU</th>\n",
       "      <th>...</th>\n",
       "      <th colspan=\"10\" halign=\"left\">WM</th>\n",
       "    </tr>\n",
       "    <tr>\n",
       "      <th></th>\n",
       "      <th></th>\n",
       "      <th>sector</th>\n",
       "      <th>Paddy rice</th>\n",
       "      <th>Wheat</th>\n",
       "      <th>Cereal grains nec</th>\n",
       "      <th>Vegetables, fruit, nuts</th>\n",
       "      <th>Oil seeds</th>\n",
       "      <th>Sugar cane, sugar beet</th>\n",
       "      <th>Plant-based fibers</th>\n",
       "      <th>Crops nec</th>\n",
       "      <th>Cattle</th>\n",
       "      <th>Pigs</th>\n",
       "      <th>...</th>\n",
       "      <th>Paper for treatment: landfill</th>\n",
       "      <th>Plastic waste for treatment: landfill</th>\n",
       "      <th>Inert/metal/hazardous waste for treatment: landfill</th>\n",
       "      <th>Textiles waste for treatment: landfill</th>\n",
       "      <th>Wood waste for treatment: landfill</th>\n",
       "      <th>Membership organisation services n.e.c. (91)</th>\n",
       "      <th>Recreational, cultural and sporting services (92)</th>\n",
       "      <th>Other services (93)</th>\n",
       "      <th>Private households with employed persons (95)</th>\n",
       "      <th>Extra-territorial organizations and bodies</th>\n",
       "    </tr>\n",
       "  </thead>\n",
       "  <tbody>\n",
       "    <tr>\n",
       "      <th>Carbon dioxide, fossil</th>\n",
       "      <th>tonnes</th>\n",
       "      <th>air</th>\n",
       "      <td>0.501781</td>\n",
       "      <td>0.191213</td>\n",
       "      <td>0.143340</td>\n",
       "      <td>0.987120</td>\n",
       "      <td>0.576629</td>\n",
       "      <td>0.064801</td>\n",
       "      <td>0.602701</td>\n",
       "      <td>6.854347</td>\n",
       "      <td>4.598722</td>\n",
       "      <td>2.060419</td>\n",
       "      <td>...</td>\n",
       "      <td>0.036636</td>\n",
       "      <td>4.944399e-02</td>\n",
       "      <td>4.154542e-02</td>\n",
       "      <td>0.440188</td>\n",
       "      <td>0.241818</td>\n",
       "      <td>562.135128</td>\n",
       "      <td>404.923294</td>\n",
       "      <td>150.346913</td>\n",
       "      <td>1610.652819</td>\n",
       "      <td>0.0</td>\n",
       "    </tr>\n",
       "    <tr>\n",
       "      <th>N2O</th>\n",
       "      <th>tonnes</th>\n",
       "      <th>air</th>\n",
       "      <td>0.000113</td>\n",
       "      <td>0.000503</td>\n",
       "      <td>0.000484</td>\n",
       "      <td>0.003038</td>\n",
       "      <td>0.001299</td>\n",
       "      <td>0.000190</td>\n",
       "      <td>-0.000096</td>\n",
       "      <td>0.002415</td>\n",
       "      <td>0.071713</td>\n",
       "      <td>0.006563</td>\n",
       "      <td>...</td>\n",
       "      <td>0.000002</td>\n",
       "      <td>7.855103e-07</td>\n",
       "      <td>1.036086e-07</td>\n",
       "      <td>0.000005</td>\n",
       "      <td>0.000023</td>\n",
       "      <td>0.000893</td>\n",
       "      <td>0.017129</td>\n",
       "      <td>0.000939</td>\n",
       "      <td>0.000962</td>\n",
       "      <td>0.0</td>\n",
       "    </tr>\n",
       "    <tr>\n",
       "      <th>CH4</th>\n",
       "      <th>tonnes</th>\n",
       "      <th>air</th>\n",
       "      <td>0.044835</td>\n",
       "      <td>0.000594</td>\n",
       "      <td>0.000496</td>\n",
       "      <td>0.003738</td>\n",
       "      <td>0.002457</td>\n",
       "      <td>0.000213</td>\n",
       "      <td>0.002601</td>\n",
       "      <td>0.040455</td>\n",
       "      <td>1.473177</td>\n",
       "      <td>0.027801</td>\n",
       "      <td>...</td>\n",
       "      <td>0.125264</td>\n",
       "      <td>6.572165e-03</td>\n",
       "      <td>1.004749e-04</td>\n",
       "      <td>0.131977</td>\n",
       "      <td>0.100935</td>\n",
       "      <td>1.825672</td>\n",
       "      <td>1.270959</td>\n",
       "      <td>0.464578</td>\n",
       "      <td>4.480302</td>\n",
       "      <td>0.0</td>\n",
       "    </tr>\n",
       "    <tr>\n",
       "      <th>HFCs</th>\n",
       "      <th>tonnes</th>\n",
       "      <th>air</th>\n",
       "      <td>0.000000</td>\n",
       "      <td>0.000000</td>\n",
       "      <td>0.000000</td>\n",
       "      <td>0.000000</td>\n",
       "      <td>0.000000</td>\n",
       "      <td>0.000000</td>\n",
       "      <td>0.000000</td>\n",
       "      <td>0.000000</td>\n",
       "      <td>0.000000</td>\n",
       "      <td>0.000000</td>\n",
       "      <td>...</td>\n",
       "      <td>0.000000</td>\n",
       "      <td>0.000000e+00</td>\n",
       "      <td>0.000000e+00</td>\n",
       "      <td>0.000000</td>\n",
       "      <td>0.000000</td>\n",
       "      <td>0.000000</td>\n",
       "      <td>0.000000</td>\n",
       "      <td>0.000000</td>\n",
       "      <td>0.000000</td>\n",
       "      <td>0.0</td>\n",
       "    </tr>\n",
       "    <tr>\n",
       "      <th>PFCs</th>\n",
       "      <th>tonnes</th>\n",
       "      <th>air</th>\n",
       "      <td>0.000000</td>\n",
       "      <td>0.000000</td>\n",
       "      <td>0.000000</td>\n",
       "      <td>0.000000</td>\n",
       "      <td>0.000000</td>\n",
       "      <td>0.000000</td>\n",
       "      <td>0.000000</td>\n",
       "      <td>0.000000</td>\n",
       "      <td>0.000000</td>\n",
       "      <td>0.000000</td>\n",
       "      <td>...</td>\n",
       "      <td>0.000000</td>\n",
       "      <td>0.000000e+00</td>\n",
       "      <td>0.000000e+00</td>\n",
       "      <td>0.000000</td>\n",
       "      <td>0.000000</td>\n",
       "      <td>0.000000</td>\n",
       "      <td>0.000000</td>\n",
       "      <td>0.000000</td>\n",
       "      <td>0.000000</td>\n",
       "      <td>0.0</td>\n",
       "    </tr>\n",
       "    <tr>\n",
       "      <th>...</th>\n",
       "      <th>...</th>\n",
       "      <th>...</th>\n",
       "      <td>...</td>\n",
       "      <td>...</td>\n",
       "      <td>...</td>\n",
       "      <td>...</td>\n",
       "      <td>...</td>\n",
       "      <td>...</td>\n",
       "      <td>...</td>\n",
       "      <td>...</td>\n",
       "      <td>...</td>\n",
       "      <td>...</td>\n",
       "      <td>...</td>\n",
       "      <td>...</td>\n",
       "      <td>...</td>\n",
       "      <td>...</td>\n",
       "      <td>...</td>\n",
       "      <td>...</td>\n",
       "      <td>...</td>\n",
       "      <td>...</td>\n",
       "      <td>...</td>\n",
       "      <td>...</td>\n",
       "      <td>...</td>\n",
       "    </tr>\n",
       "    <tr>\n",
       "      <th>Ni</th>\n",
       "      <th>tonnes</th>\n",
       "      <th>soil</th>\n",
       "      <td>0.000000</td>\n",
       "      <td>0.000000</td>\n",
       "      <td>0.000000</td>\n",
       "      <td>0.000000</td>\n",
       "      <td>0.000000</td>\n",
       "      <td>0.000000</td>\n",
       "      <td>0.000000</td>\n",
       "      <td>0.000000</td>\n",
       "      <td>0.000000</td>\n",
       "      <td>0.000000</td>\n",
       "      <td>...</td>\n",
       "      <td>0.000000</td>\n",
       "      <td>0.000000e+00</td>\n",
       "      <td>0.000000e+00</td>\n",
       "      <td>0.000000</td>\n",
       "      <td>0.000000</td>\n",
       "      <td>0.000000</td>\n",
       "      <td>0.000000</td>\n",
       "      <td>0.000000</td>\n",
       "      <td>0.000000</td>\n",
       "      <td>0.0</td>\n",
       "    </tr>\n",
       "    <tr>\n",
       "      <th>C</th>\n",
       "      <th>tonnes</th>\n",
       "      <th>air</th>\n",
       "      <td>0.000000</td>\n",
       "      <td>0.000000</td>\n",
       "      <td>0.000000</td>\n",
       "      <td>0.000000</td>\n",
       "      <td>0.000000</td>\n",
       "      <td>0.000000</td>\n",
       "      <td>0.000000</td>\n",
       "      <td>0.000000</td>\n",
       "      <td>0.000000</td>\n",
       "      <td>0.000000</td>\n",
       "      <td>...</td>\n",
       "      <td>0.000000</td>\n",
       "      <td>0.000000e+00</td>\n",
       "      <td>0.000000e+00</td>\n",
       "      <td>0.000000</td>\n",
       "      <td>0.000000</td>\n",
       "      <td>0.000000</td>\n",
       "      <td>0.000000</td>\n",
       "      <td>0.000000</td>\n",
       "      <td>0.000000</td>\n",
       "      <td>0.0</td>\n",
       "    </tr>\n",
       "    <tr>\n",
       "      <th>other emissions</th>\n",
       "      <th>tonnes</th>\n",
       "      <th>undef</th>\n",
       "      <td>0.003431</td>\n",
       "      <td>0.004415</td>\n",
       "      <td>0.006219</td>\n",
       "      <td>0.039946</td>\n",
       "      <td>0.106343</td>\n",
       "      <td>0.001714</td>\n",
       "      <td>0.014705</td>\n",
       "      <td>0.737733</td>\n",
       "      <td>58.410532</td>\n",
       "      <td>4.184705</td>\n",
       "      <td>...</td>\n",
       "      <td>0.283436</td>\n",
       "      <td>4.626111e-03</td>\n",
       "      <td>3.166149e-04</td>\n",
       "      <td>0.145662</td>\n",
       "      <td>0.133334</td>\n",
       "      <td>2.945360</td>\n",
       "      <td>12.543706</td>\n",
       "      <td>2.849792</td>\n",
       "      <td>35.155422</td>\n",
       "      <td>0.0</td>\n",
       "    </tr>\n",
       "    <tr>\n",
       "      <th>Carbon dioxide, biogenic</th>\n",
       "      <th>tonnes</th>\n",
       "      <th>air</th>\n",
       "      <td>0.004503</td>\n",
       "      <td>0.003388</td>\n",
       "      <td>0.003113</td>\n",
       "      <td>0.027958</td>\n",
       "      <td>0.015696</td>\n",
       "      <td>0.001552</td>\n",
       "      <td>0.036220</td>\n",
       "      <td>0.625736</td>\n",
       "      <td>3.876605</td>\n",
       "      <td>2.938668</td>\n",
       "      <td>...</td>\n",
       "      <td>0.363713</td>\n",
       "      <td>7.326773e-04</td>\n",
       "      <td>1.076152e-04</td>\n",
       "      <td>0.004046</td>\n",
       "      <td>0.337215</td>\n",
       "      <td>0.776729</td>\n",
       "      <td>6.240990</td>\n",
       "      <td>0.930844</td>\n",
       "      <td>0.855673</td>\n",
       "      <td>0.0</td>\n",
       "    </tr>\n",
       "    <tr>\n",
       "      <th>Other emissions nec</th>\n",
       "      <th>tonnes</th>\n",
       "      <th>air</th>\n",
       "      <td>0.000000</td>\n",
       "      <td>0.000000</td>\n",
       "      <td>0.000000</td>\n",
       "      <td>0.000000</td>\n",
       "      <td>0.000000</td>\n",
       "      <td>0.000000</td>\n",
       "      <td>0.000000</td>\n",
       "      <td>0.000000</td>\n",
       "      <td>0.000000</td>\n",
       "      <td>0.000000</td>\n",
       "      <td>...</td>\n",
       "      <td>0.000000</td>\n",
       "      <td>0.000000e+00</td>\n",
       "      <td>0.000000e+00</td>\n",
       "      <td>0.000000</td>\n",
       "      <td>0.000000</td>\n",
       "      <td>0.000000</td>\n",
       "      <td>0.000000</td>\n",
       "      <td>0.000000</td>\n",
       "      <td>0.000000</td>\n",
       "      <td>0.0</td>\n",
       "    </tr>\n",
       "  </tbody>\n",
       "</table>\n",
       "<p>66 rows × 7872 columns</p>\n",
       "</div>"
      ],
      "text/plain": [
       "region                                        AU                              \\\n",
       "sector                                Paddy rice     Wheat Cereal grains nec   \n",
       "Carbon dioxide, fossil   tonnes air     0.501781  0.191213          0.143340   \n",
       "N2O                      tonnes air     0.000113  0.000503          0.000484   \n",
       "CH4                      tonnes air     0.044835  0.000594          0.000496   \n",
       "HFCs                     tonnes air     0.000000  0.000000          0.000000   \n",
       "PFCs                     tonnes air     0.000000  0.000000          0.000000   \n",
       "...                                          ...       ...               ...   \n",
       "Ni                       tonnes soil    0.000000  0.000000          0.000000   \n",
       "C                        tonnes air     0.000000  0.000000          0.000000   \n",
       "other emissions          tonnes undef   0.003431  0.004415          0.006219   \n",
       "Carbon dioxide, biogenic tonnes air     0.004503  0.003388          0.003113   \n",
       "Other emissions nec      tonnes air     0.000000  0.000000          0.000000   \n",
       "\n",
       "region                                                                   \\\n",
       "sector                                Vegetables, fruit, nuts Oil seeds   \n",
       "Carbon dioxide, fossil   tonnes air                  0.987120  0.576629   \n",
       "N2O                      tonnes air                  0.003038  0.001299   \n",
       "CH4                      tonnes air                  0.003738  0.002457   \n",
       "HFCs                     tonnes air                  0.000000  0.000000   \n",
       "PFCs                     tonnes air                  0.000000  0.000000   \n",
       "...                                                       ...       ...   \n",
       "Ni                       tonnes soil                 0.000000  0.000000   \n",
       "C                        tonnes air                  0.000000  0.000000   \n",
       "other emissions          tonnes undef                0.039946  0.106343   \n",
       "Carbon dioxide, biogenic tonnes air                  0.027958  0.015696   \n",
       "Other emissions nec      tonnes air                  0.000000  0.000000   \n",
       "\n",
       "region                                                        \\\n",
       "sector                                Sugar cane, sugar beet   \n",
       "Carbon dioxide, fossil   tonnes air                 0.064801   \n",
       "N2O                      tonnes air                 0.000190   \n",
       "CH4                      tonnes air                 0.000213   \n",
       "HFCs                     tonnes air                 0.000000   \n",
       "PFCs                     tonnes air                 0.000000   \n",
       "...                                                      ...   \n",
       "Ni                       tonnes soil                0.000000   \n",
       "C                        tonnes air                 0.000000   \n",
       "other emissions          tonnes undef               0.001714   \n",
       "Carbon dioxide, biogenic tonnes air                 0.001552   \n",
       "Other emissions nec      tonnes air                 0.000000   \n",
       "\n",
       "region                                                                         \\\n",
       "sector                                Plant-based fibers Crops nec     Cattle   \n",
       "Carbon dioxide, fossil   tonnes air             0.602701  6.854347   4.598722   \n",
       "N2O                      tonnes air            -0.000096  0.002415   0.071713   \n",
       "CH4                      tonnes air             0.002601  0.040455   1.473177   \n",
       "HFCs                     tonnes air             0.000000  0.000000   0.000000   \n",
       "PFCs                     tonnes air             0.000000  0.000000   0.000000   \n",
       "...                                                  ...       ...        ...   \n",
       "Ni                       tonnes soil            0.000000  0.000000   0.000000   \n",
       "C                        tonnes air             0.000000  0.000000   0.000000   \n",
       "other emissions          tonnes undef           0.014705  0.737733  58.410532   \n",
       "Carbon dioxide, biogenic tonnes air             0.036220  0.625736   3.876605   \n",
       "Other emissions nec      tonnes air             0.000000  0.000000   0.000000   \n",
       "\n",
       "region                                           ...  \\\n",
       "sector                                     Pigs  ...   \n",
       "Carbon dioxide, fossil   tonnes air    2.060419  ...   \n",
       "N2O                      tonnes air    0.006563  ...   \n",
       "CH4                      tonnes air    0.027801  ...   \n",
       "HFCs                     tonnes air    0.000000  ...   \n",
       "PFCs                     tonnes air    0.000000  ...   \n",
       "...                                         ...  ...   \n",
       "Ni                       tonnes soil   0.000000  ...   \n",
       "C                        tonnes air    0.000000  ...   \n",
       "other emissions          tonnes undef  4.184705  ...   \n",
       "Carbon dioxide, biogenic tonnes air    2.938668  ...   \n",
       "Other emissions nec      tonnes air    0.000000  ...   \n",
       "\n",
       "region                                                           WM  \\\n",
       "sector                                Paper for treatment: landfill   \n",
       "Carbon dioxide, fossil   tonnes air                        0.036636   \n",
       "N2O                      tonnes air                        0.000002   \n",
       "CH4                      tonnes air                        0.125264   \n",
       "HFCs                     tonnes air                        0.000000   \n",
       "PFCs                     tonnes air                        0.000000   \n",
       "...                                                             ...   \n",
       "Ni                       tonnes soil                       0.000000   \n",
       "C                        tonnes air                        0.000000   \n",
       "other emissions          tonnes undef                      0.283436   \n",
       "Carbon dioxide, biogenic tonnes air                        0.363713   \n",
       "Other emissions nec      tonnes air                        0.000000   \n",
       "\n",
       "region                                                                       \\\n",
       "sector                                Plastic waste for treatment: landfill   \n",
       "Carbon dioxide, fossil   tonnes air                            4.944399e-02   \n",
       "N2O                      tonnes air                            7.855103e-07   \n",
       "CH4                      tonnes air                            6.572165e-03   \n",
       "HFCs                     tonnes air                            0.000000e+00   \n",
       "PFCs                     tonnes air                            0.000000e+00   \n",
       "...                                                                     ...   \n",
       "Ni                       tonnes soil                           0.000000e+00   \n",
       "C                        tonnes air                            0.000000e+00   \n",
       "other emissions          tonnes undef                          4.626111e-03   \n",
       "Carbon dioxide, biogenic tonnes air                            7.326773e-04   \n",
       "Other emissions nec      tonnes air                            0.000000e+00   \n",
       "\n",
       "region                                                                                     \\\n",
       "sector                                Inert/metal/hazardous waste for treatment: landfill   \n",
       "Carbon dioxide, fossil   tonnes air                                         4.154542e-02    \n",
       "N2O                      tonnes air                                         1.036086e-07    \n",
       "CH4                      tonnes air                                         1.004749e-04    \n",
       "HFCs                     tonnes air                                         0.000000e+00    \n",
       "PFCs                     tonnes air                                         0.000000e+00    \n",
       "...                                                                                  ...    \n",
       "Ni                       tonnes soil                                        0.000000e+00    \n",
       "C                        tonnes air                                         0.000000e+00    \n",
       "other emissions          tonnes undef                                       3.166149e-04    \n",
       "Carbon dioxide, biogenic tonnes air                                         1.076152e-04    \n",
       "Other emissions nec      tonnes air                                         0.000000e+00    \n",
       "\n",
       "region                                                                        \\\n",
       "sector                                Textiles waste for treatment: landfill   \n",
       "Carbon dioxide, fossil   tonnes air                                 0.440188   \n",
       "N2O                      tonnes air                                 0.000005   \n",
       "CH4                      tonnes air                                 0.131977   \n",
       "HFCs                     tonnes air                                 0.000000   \n",
       "PFCs                     tonnes air                                 0.000000   \n",
       "...                                                                      ...   \n",
       "Ni                       tonnes soil                                0.000000   \n",
       "C                        tonnes air                                 0.000000   \n",
       "other emissions          tonnes undef                               0.145662   \n",
       "Carbon dioxide, biogenic tonnes air                                 0.004046   \n",
       "Other emissions nec      tonnes air                                 0.000000   \n",
       "\n",
       "region                                                                    \\\n",
       "sector                                Wood waste for treatment: landfill   \n",
       "Carbon dioxide, fossil   tonnes air                             0.241818   \n",
       "N2O                      tonnes air                             0.000023   \n",
       "CH4                      tonnes air                             0.100935   \n",
       "HFCs                     tonnes air                             0.000000   \n",
       "PFCs                     tonnes air                             0.000000   \n",
       "...                                                                  ...   \n",
       "Ni                       tonnes soil                            0.000000   \n",
       "C                        tonnes air                             0.000000   \n",
       "other emissions          tonnes undef                           0.133334   \n",
       "Carbon dioxide, biogenic tonnes air                             0.337215   \n",
       "Other emissions nec      tonnes air                             0.000000   \n",
       "\n",
       "region                                                                              \\\n",
       "sector                                Membership organisation services n.e.c. (91)   \n",
       "Carbon dioxide, fossil   tonnes air                                     562.135128   \n",
       "N2O                      tonnes air                                       0.000893   \n",
       "CH4                      tonnes air                                       1.825672   \n",
       "HFCs                     tonnes air                                       0.000000   \n",
       "PFCs                     tonnes air                                       0.000000   \n",
       "...                                                                            ...   \n",
       "Ni                       tonnes soil                                      0.000000   \n",
       "C                        tonnes air                                       0.000000   \n",
       "other emissions          tonnes undef                                     2.945360   \n",
       "Carbon dioxide, biogenic tonnes air                                       0.776729   \n",
       "Other emissions nec      tonnes air                                       0.000000   \n",
       "\n",
       "region                                                                                   \\\n",
       "sector                                Recreational, cultural and sporting services (92)   \n",
       "Carbon dioxide, fossil   tonnes air                                          404.923294   \n",
       "N2O                      tonnes air                                            0.017129   \n",
       "CH4                      tonnes air                                            1.270959   \n",
       "HFCs                     tonnes air                                            0.000000   \n",
       "PFCs                     tonnes air                                            0.000000   \n",
       "...                                                                                 ...   \n",
       "Ni                       tonnes soil                                           0.000000   \n",
       "C                        tonnes air                                            0.000000   \n",
       "other emissions          tonnes undef                                         12.543706   \n",
       "Carbon dioxide, biogenic tonnes air                                            6.240990   \n",
       "Other emissions nec      tonnes air                                            0.000000   \n",
       "\n",
       "region                                                     \\\n",
       "sector                                Other services (93)   \n",
       "Carbon dioxide, fossil   tonnes air            150.346913   \n",
       "N2O                      tonnes air              0.000939   \n",
       "CH4                      tonnes air              0.464578   \n",
       "HFCs                     tonnes air              0.000000   \n",
       "PFCs                     tonnes air              0.000000   \n",
       "...                                                   ...   \n",
       "Ni                       tonnes soil             0.000000   \n",
       "C                        tonnes air              0.000000   \n",
       "other emissions          tonnes undef            2.849792   \n",
       "Carbon dioxide, biogenic tonnes air              0.930844   \n",
       "Other emissions nec      tonnes air              0.000000   \n",
       "\n",
       "region                                                                               \\\n",
       "sector                                Private households with employed persons (95)   \n",
       "Carbon dioxide, fossil   tonnes air                                     1610.652819   \n",
       "N2O                      tonnes air                                        0.000962   \n",
       "CH4                      tonnes air                                        4.480302   \n",
       "HFCs                     tonnes air                                        0.000000   \n",
       "PFCs                     tonnes air                                        0.000000   \n",
       "...                                                                             ...   \n",
       "Ni                       tonnes soil                                       0.000000   \n",
       "C                        tonnes air                                        0.000000   \n",
       "other emissions          tonnes undef                                     35.155422   \n",
       "Carbon dioxide, biogenic tonnes air                                        0.855673   \n",
       "Other emissions nec      tonnes air                                        0.000000   \n",
       "\n",
       "region                                                                            \n",
       "sector                                Extra-territorial organizations and bodies  \n",
       "Carbon dioxide, fossil   tonnes air                                          0.0  \n",
       "N2O                      tonnes air                                          0.0  \n",
       "CH4                      tonnes air                                          0.0  \n",
       "HFCs                     tonnes air                                          0.0  \n",
       "PFCs                     tonnes air                                          0.0  \n",
       "...                                                                          ...  \n",
       "Ni                       tonnes soil                                         0.0  \n",
       "C                        tonnes air                                          0.0  \n",
       "other emissions          tonnes undef                                        0.0  \n",
       "Carbon dioxide, biogenic tonnes air                                          0.0  \n",
       "Other emissions nec      tonnes air                                          0.0  \n",
       "\n",
       "[66 rows x 7872 columns]"
      ]
     },
     "execution_count": 25,
     "metadata": {},
     "output_type": "execute_result"
    }
   ],
   "source": [
    "exio3318.emissions.M\n",
    "#exio3318.emissions.M.xs(\"Precious metals\", level=\"sector\", axis=1)[0:3]\n",
    "#exio3318.emissions.M.loc[('Carbon dioxide, fossil','tonnes','air'),(\"ZA\",\"Precious metals\")]\n"
   ]
  },
  {
   "cell_type": "markdown",
   "id": "9441e7ac",
   "metadata": {},
   "source": [
    "This is the value we are looking for is M, but no the matrix multiplication (which is a sum), is a element-by-element information to keep all information needed. Impact_wanted is emmissions per functional unit of exiobase"
   ]
  },
  {
   "cell_type": "markdown",
   "id": "dc69470a",
   "metadata": {},
   "source": [
    "Chain 1 WL+CN"
   ]
  },
  {
   "cell_type": "code",
   "execution_count": 300,
   "id": "09f9c539",
   "metadata": {},
   "outputs": [
    {
     "data": {
      "text/html": [
       "<div>\n",
       "<style scoped>\n",
       "    .dataframe tbody tr th:only-of-type {\n",
       "        vertical-align: middle;\n",
       "    }\n",
       "\n",
       "    .dataframe tbody tr th {\n",
       "        vertical-align: top;\n",
       "    }\n",
       "\n",
       "    .dataframe thead tr th {\n",
       "        text-align: left;\n",
       "    }\n",
       "\n",
       "    .dataframe thead tr:last-of-type th {\n",
       "        text-align: right;\n",
       "    }\n",
       "</style>\n",
       "<table border=\"1\" class=\"dataframe\">\n",
       "  <thead>\n",
       "    <tr>\n",
       "      <th></th>\n",
       "      <th></th>\n",
       "      <th>Carbon dioxide, fossil</th>\n",
       "      <th>N2O</th>\n",
       "      <th>CH4</th>\n",
       "      <th>HFCs</th>\n",
       "      <th>PFCs</th>\n",
       "      <th>SF6</th>\n",
       "      <th>NOX</th>\n",
       "      <th>SOx</th>\n",
       "      <th>NH3</th>\n",
       "      <th>NMVOC</th>\n",
       "      <th>...</th>\n",
       "      <th>Cu</th>\n",
       "      <th>Zn</th>\n",
       "      <th>Pb</th>\n",
       "      <th>Hg</th>\n",
       "      <th>Cr</th>\n",
       "      <th>Ni</th>\n",
       "      <th>C</th>\n",
       "      <th>other emissions</th>\n",
       "      <th>Carbon dioxide, biogenic</th>\n",
       "      <th>Other emissions nec</th>\n",
       "    </tr>\n",
       "    <tr>\n",
       "      <th></th>\n",
       "      <th></th>\n",
       "      <th>tonnes</th>\n",
       "      <th>tonnes</th>\n",
       "      <th>tonnes</th>\n",
       "      <th>tonnes</th>\n",
       "      <th>tonnes</th>\n",
       "      <th>tonnes</th>\n",
       "      <th>tonnes</th>\n",
       "      <th>tonnes</th>\n",
       "      <th>tonnes</th>\n",
       "      <th>tonnes</th>\n",
       "      <th>...</th>\n",
       "      <th>tonnes</th>\n",
       "      <th>tonnes</th>\n",
       "      <th>tonnes</th>\n",
       "      <th>tonnes</th>\n",
       "      <th>tonnes</th>\n",
       "      <th>tonnes</th>\n",
       "      <th>tonnes</th>\n",
       "      <th>tonnes</th>\n",
       "      <th>tonnes</th>\n",
       "      <th>tonnes</th>\n",
       "    </tr>\n",
       "    <tr>\n",
       "      <th></th>\n",
       "      <th></th>\n",
       "      <th>air</th>\n",
       "      <th>air</th>\n",
       "      <th>air</th>\n",
       "      <th>air</th>\n",
       "      <th>air</th>\n",
       "      <th>air</th>\n",
       "      <th>air</th>\n",
       "      <th>air</th>\n",
       "      <th>air</th>\n",
       "      <th>air</th>\n",
       "      <th>...</th>\n",
       "      <th>soil</th>\n",
       "      <th>soil</th>\n",
       "      <th>soil</th>\n",
       "      <th>soil</th>\n",
       "      <th>soil</th>\n",
       "      <th>soil</th>\n",
       "      <th>air</th>\n",
       "      <th>undef</th>\n",
       "      <th>air</th>\n",
       "      <th>air</th>\n",
       "    </tr>\n",
       "    <tr>\n",
       "      <th>region</th>\n",
       "      <th>sector</th>\n",
       "      <th></th>\n",
       "      <th></th>\n",
       "      <th></th>\n",
       "      <th></th>\n",
       "      <th></th>\n",
       "      <th></th>\n",
       "      <th></th>\n",
       "      <th></th>\n",
       "      <th></th>\n",
       "      <th></th>\n",
       "      <th></th>\n",
       "      <th></th>\n",
       "      <th></th>\n",
       "      <th></th>\n",
       "      <th></th>\n",
       "      <th></th>\n",
       "      <th></th>\n",
       "      <th></th>\n",
       "      <th></th>\n",
       "      <th></th>\n",
       "      <th></th>\n",
       "    </tr>\n",
       "  </thead>\n",
       "  <tbody>\n",
       "    <tr>\n",
       "      <th rowspan=\"5\" valign=\"top\">AU</th>\n",
       "      <th>Paddy rice</th>\n",
       "      <td>3.722934e-07</td>\n",
       "      <td>4.364006e-10</td>\n",
       "      <td>2.625592e-07</td>\n",
       "      <td>0.0</td>\n",
       "      <td>0.0</td>\n",
       "      <td>0.0</td>\n",
       "      <td>2.194757e-09</td>\n",
       "      <td>4.618915e-10</td>\n",
       "      <td>5.189066e-09</td>\n",
       "      <td>5.318201e-10</td>\n",
       "      <td>...</td>\n",
       "      <td>0.0</td>\n",
       "      <td>0.0</td>\n",
       "      <td>0.0</td>\n",
       "      <td>0.0</td>\n",
       "      <td>0.0</td>\n",
       "      <td>0.0</td>\n",
       "      <td>0.0</td>\n",
       "      <td>4.367096e-09</td>\n",
       "      <td>9.462299e-10</td>\n",
       "      <td>0.0</td>\n",
       "    </tr>\n",
       "    <tr>\n",
       "      <th>Wheat</th>\n",
       "      <td>1.080262e-05</td>\n",
       "      <td>5.276744e-08</td>\n",
       "      <td>9.103759e-10</td>\n",
       "      <td>0.0</td>\n",
       "      <td>0.0</td>\n",
       "      <td>0.0</td>\n",
       "      <td>7.368148e-08</td>\n",
       "      <td>1.308049e-08</td>\n",
       "      <td>3.020769e-07</td>\n",
       "      <td>1.549778e-08</td>\n",
       "      <td>...</td>\n",
       "      <td>0.0</td>\n",
       "      <td>0.0</td>\n",
       "      <td>0.0</td>\n",
       "      <td>0.0</td>\n",
       "      <td>0.0</td>\n",
       "      <td>0.0</td>\n",
       "      <td>0.0</td>\n",
       "      <td>2.062923e-07</td>\n",
       "      <td>2.934918e-08</td>\n",
       "      <td>0.0</td>\n",
       "    </tr>\n",
       "    <tr>\n",
       "      <th>Cereal grains nec</th>\n",
       "      <td>9.123687e-06</td>\n",
       "      <td>7.218617e-08</td>\n",
       "      <td>2.561834e-09</td>\n",
       "      <td>0.0</td>\n",
       "      <td>0.0</td>\n",
       "      <td>0.0</td>\n",
       "      <td>6.258503e-08</td>\n",
       "      <td>1.013284e-08</td>\n",
       "      <td>4.135004e-07</td>\n",
       "      <td>8.665507e-08</td>\n",
       "      <td>...</td>\n",
       "      <td>0.0</td>\n",
       "      <td>0.0</td>\n",
       "      <td>0.0</td>\n",
       "      <td>0.0</td>\n",
       "      <td>0.0</td>\n",
       "      <td>0.0</td>\n",
       "      <td>0.0</td>\n",
       "      <td>6.579148e-07</td>\n",
       "      <td>2.255140e-08</td>\n",
       "      <td>0.0</td>\n",
       "    </tr>\n",
       "    <tr>\n",
       "      <th>Vegetables, fruit, nuts</th>\n",
       "      <td>1.640098e-06</td>\n",
       "      <td>5.618605e-08</td>\n",
       "      <td>4.472395e-10</td>\n",
       "      <td>0.0</td>\n",
       "      <td>0.0</td>\n",
       "      <td>0.0</td>\n",
       "      <td>1.761810e-08</td>\n",
       "      <td>1.720105e-09</td>\n",
       "      <td>3.249327e-07</td>\n",
       "      <td>5.687363e-08</td>\n",
       "      <td>...</td>\n",
       "      <td>0.0</td>\n",
       "      <td>0.0</td>\n",
       "      <td>0.0</td>\n",
       "      <td>0.0</td>\n",
       "      <td>0.0</td>\n",
       "      <td>0.0</td>\n",
       "      <td>0.0</td>\n",
       "      <td>4.023601e-07</td>\n",
       "      <td>3.789272e-09</td>\n",
       "      <td>0.0</td>\n",
       "    </tr>\n",
       "    <tr>\n",
       "      <th>Oil seeds</th>\n",
       "      <td>-5.022062e-06</td>\n",
       "      <td>-2.802633e-08</td>\n",
       "      <td>-1.243456e-09</td>\n",
       "      <td>-0.0</td>\n",
       "      <td>-0.0</td>\n",
       "      <td>-0.0</td>\n",
       "      <td>-2.982370e-08</td>\n",
       "      <td>-5.095143e-09</td>\n",
       "      <td>-1.576878e-07</td>\n",
       "      <td>-4.047781e-07</td>\n",
       "      <td>...</td>\n",
       "      <td>-0.0</td>\n",
       "      <td>-0.0</td>\n",
       "      <td>-0.0</td>\n",
       "      <td>-0.0</td>\n",
       "      <td>-0.0</td>\n",
       "      <td>-0.0</td>\n",
       "      <td>-0.0</td>\n",
       "      <td>-2.276438e-06</td>\n",
       "      <td>-1.127636e-08</td>\n",
       "      <td>-0.0</td>\n",
       "    </tr>\n",
       "    <tr>\n",
       "      <th>...</th>\n",
       "      <th>...</th>\n",
       "      <td>...</td>\n",
       "      <td>...</td>\n",
       "      <td>...</td>\n",
       "      <td>...</td>\n",
       "      <td>...</td>\n",
       "      <td>...</td>\n",
       "      <td>...</td>\n",
       "      <td>...</td>\n",
       "      <td>...</td>\n",
       "      <td>...</td>\n",
       "      <td>...</td>\n",
       "      <td>...</td>\n",
       "      <td>...</td>\n",
       "      <td>...</td>\n",
       "      <td>...</td>\n",
       "      <td>...</td>\n",
       "      <td>...</td>\n",
       "      <td>...</td>\n",
       "      <td>...</td>\n",
       "      <td>...</td>\n",
       "      <td>...</td>\n",
       "    </tr>\n",
       "    <tr>\n",
       "      <th rowspan=\"5\" valign=\"top\">WM</th>\n",
       "      <th>Membership organisation services n.e.c. (91)</th>\n",
       "      <td>3.623380e-07</td>\n",
       "      <td>0.000000e+00</td>\n",
       "      <td>0.000000e+00</td>\n",
       "      <td>0.0</td>\n",
       "      <td>0.0</td>\n",
       "      <td>0.0</td>\n",
       "      <td>0.000000e+00</td>\n",
       "      <td>0.000000e+00</td>\n",
       "      <td>0.000000e+00</td>\n",
       "      <td>3.597540e-10</td>\n",
       "      <td>...</td>\n",
       "      <td>0.0</td>\n",
       "      <td>0.0</td>\n",
       "      <td>0.0</td>\n",
       "      <td>0.0</td>\n",
       "      <td>0.0</td>\n",
       "      <td>0.0</td>\n",
       "      <td>0.0</td>\n",
       "      <td>1.031216e-09</td>\n",
       "      <td>0.000000e+00</td>\n",
       "      <td>0.0</td>\n",
       "    </tr>\n",
       "    <tr>\n",
       "      <th>Recreational, cultural and sporting services (92)</th>\n",
       "      <td>1.575289e-06</td>\n",
       "      <td>0.000000e+00</td>\n",
       "      <td>0.000000e+00</td>\n",
       "      <td>0.0</td>\n",
       "      <td>0.0</td>\n",
       "      <td>0.0</td>\n",
       "      <td>0.000000e+00</td>\n",
       "      <td>0.000000e+00</td>\n",
       "      <td>0.000000e+00</td>\n",
       "      <td>2.282481e-09</td>\n",
       "      <td>...</td>\n",
       "      <td>0.0</td>\n",
       "      <td>0.0</td>\n",
       "      <td>0.0</td>\n",
       "      <td>0.0</td>\n",
       "      <td>0.0</td>\n",
       "      <td>0.0</td>\n",
       "      <td>0.0</td>\n",
       "      <td>6.644069e-09</td>\n",
       "      <td>0.000000e+00</td>\n",
       "      <td>0.0</td>\n",
       "    </tr>\n",
       "    <tr>\n",
       "      <th>Other services (93)</th>\n",
       "      <td>7.297612e-07</td>\n",
       "      <td>0.000000e+00</td>\n",
       "      <td>0.000000e+00</td>\n",
       "      <td>0.0</td>\n",
       "      <td>0.0</td>\n",
       "      <td>0.0</td>\n",
       "      <td>0.000000e+00</td>\n",
       "      <td>0.000000e+00</td>\n",
       "      <td>0.000000e+00</td>\n",
       "      <td>7.364467e-09</td>\n",
       "      <td>...</td>\n",
       "      <td>0.0</td>\n",
       "      <td>0.0</td>\n",
       "      <td>0.0</td>\n",
       "      <td>0.0</td>\n",
       "      <td>0.0</td>\n",
       "      <td>0.0</td>\n",
       "      <td>0.0</td>\n",
       "      <td>2.073410e-08</td>\n",
       "      <td>0.000000e+00</td>\n",
       "      <td>0.0</td>\n",
       "    </tr>\n",
       "    <tr>\n",
       "      <th>Private households with employed persons (95)</th>\n",
       "      <td>0.000000e+00</td>\n",
       "      <td>0.000000e+00</td>\n",
       "      <td>0.000000e+00</td>\n",
       "      <td>0.0</td>\n",
       "      <td>0.0</td>\n",
       "      <td>0.0</td>\n",
       "      <td>0.000000e+00</td>\n",
       "      <td>0.000000e+00</td>\n",
       "      <td>0.000000e+00</td>\n",
       "      <td>0.000000e+00</td>\n",
       "      <td>...</td>\n",
       "      <td>0.0</td>\n",
       "      <td>0.0</td>\n",
       "      <td>0.0</td>\n",
       "      <td>0.0</td>\n",
       "      <td>0.0</td>\n",
       "      <td>0.0</td>\n",
       "      <td>0.0</td>\n",
       "      <td>0.000000e+00</td>\n",
       "      <td>0.000000e+00</td>\n",
       "      <td>0.0</td>\n",
       "    </tr>\n",
       "    <tr>\n",
       "      <th>Extra-territorial organizations and bodies</th>\n",
       "      <td>0.000000e+00</td>\n",
       "      <td>0.000000e+00</td>\n",
       "      <td>0.000000e+00</td>\n",
       "      <td>0.0</td>\n",
       "      <td>0.0</td>\n",
       "      <td>0.0</td>\n",
       "      <td>0.000000e+00</td>\n",
       "      <td>0.000000e+00</td>\n",
       "      <td>0.000000e+00</td>\n",
       "      <td>0.000000e+00</td>\n",
       "      <td>...</td>\n",
       "      <td>0.0</td>\n",
       "      <td>0.0</td>\n",
       "      <td>0.0</td>\n",
       "      <td>0.0</td>\n",
       "      <td>0.0</td>\n",
       "      <td>0.0</td>\n",
       "      <td>0.0</td>\n",
       "      <td>0.000000e+00</td>\n",
       "      <td>0.000000e+00</td>\n",
       "      <td>0.0</td>\n",
       "    </tr>\n",
       "  </tbody>\n",
       "</table>\n",
       "<p>7872 rows × 66 columns</p>\n",
       "</div>"
      ],
      "text/plain": [
       "                                                         Carbon dioxide, fossil  \\\n",
       "                                                                         tonnes   \n",
       "                                                                            air   \n",
       "region sector                                                                     \n",
       "AU     Paddy rice                                                  3.722934e-07   \n",
       "       Wheat                                                       1.080262e-05   \n",
       "       Cereal grains nec                                           9.123687e-06   \n",
       "       Vegetables, fruit, nuts                                     1.640098e-06   \n",
       "       Oil seeds                                                  -5.022062e-06   \n",
       "...                                                                         ...   \n",
       "WM     Membership organisation services n.e.c. (91)                3.623380e-07   \n",
       "       Recreational, cultural and sporting services (92)           1.575289e-06   \n",
       "       Other services (93)                                         7.297612e-07   \n",
       "       Private households with employed persons (95)               0.000000e+00   \n",
       "       Extra-territorial organizations and bodies                  0.000000e+00   \n",
       "\n",
       "                                                                   N2O  \\\n",
       "                                                                tonnes   \n",
       "                                                                   air   \n",
       "region sector                                                            \n",
       "AU     Paddy rice                                         4.364006e-10   \n",
       "       Wheat                                              5.276744e-08   \n",
       "       Cereal grains nec                                  7.218617e-08   \n",
       "       Vegetables, fruit, nuts                            5.618605e-08   \n",
       "       Oil seeds                                         -2.802633e-08   \n",
       "...                                                                ...   \n",
       "WM     Membership organisation services n.e.c. (91)       0.000000e+00   \n",
       "       Recreational, cultural and sporting services (92)  0.000000e+00   \n",
       "       Other services (93)                                0.000000e+00   \n",
       "       Private households with employed persons (95)      0.000000e+00   \n",
       "       Extra-territorial organizations and bodies         0.000000e+00   \n",
       "\n",
       "                                                                   CH4   HFCs  \\\n",
       "                                                                tonnes tonnes   \n",
       "                                                                   air    air   \n",
       "region sector                                                                   \n",
       "AU     Paddy rice                                         2.625592e-07    0.0   \n",
       "       Wheat                                              9.103759e-10    0.0   \n",
       "       Cereal grains nec                                  2.561834e-09    0.0   \n",
       "       Vegetables, fruit, nuts                            4.472395e-10    0.0   \n",
       "       Oil seeds                                         -1.243456e-09   -0.0   \n",
       "...                                                                ...    ...   \n",
       "WM     Membership organisation services n.e.c. (91)       0.000000e+00    0.0   \n",
       "       Recreational, cultural and sporting services (92)  0.000000e+00    0.0   \n",
       "       Other services (93)                                0.000000e+00    0.0   \n",
       "       Private households with employed persons (95)      0.000000e+00    0.0   \n",
       "       Extra-territorial organizations and bodies         0.000000e+00    0.0   \n",
       "\n",
       "                                                           PFCs    SF6  \\\n",
       "                                                         tonnes tonnes   \n",
       "                                                            air    air   \n",
       "region sector                                                            \n",
       "AU     Paddy rice                                           0.0    0.0   \n",
       "       Wheat                                                0.0    0.0   \n",
       "       Cereal grains nec                                    0.0    0.0   \n",
       "       Vegetables, fruit, nuts                              0.0    0.0   \n",
       "       Oil seeds                                           -0.0   -0.0   \n",
       "...                                                         ...    ...   \n",
       "WM     Membership organisation services n.e.c. (91)         0.0    0.0   \n",
       "       Recreational, cultural and sporting services (92)    0.0    0.0   \n",
       "       Other services (93)                                  0.0    0.0   \n",
       "       Private households with employed persons (95)        0.0    0.0   \n",
       "       Extra-territorial organizations and bodies           0.0    0.0   \n",
       "\n",
       "                                                                  NOX   \\\n",
       "                                                                tonnes   \n",
       "                                                                   air   \n",
       "region sector                                                            \n",
       "AU     Paddy rice                                         2.194757e-09   \n",
       "       Wheat                                              7.368148e-08   \n",
       "       Cereal grains nec                                  6.258503e-08   \n",
       "       Vegetables, fruit, nuts                            1.761810e-08   \n",
       "       Oil seeds                                         -2.982370e-08   \n",
       "...                                                                ...   \n",
       "WM     Membership organisation services n.e.c. (91)       0.000000e+00   \n",
       "       Recreational, cultural and sporting services (92)  0.000000e+00   \n",
       "       Other services (93)                                0.000000e+00   \n",
       "       Private households with employed persons (95)      0.000000e+00   \n",
       "       Extra-territorial organizations and bodies         0.000000e+00   \n",
       "\n",
       "                                                                   SOx  \\\n",
       "                                                                tonnes   \n",
       "                                                                   air   \n",
       "region sector                                                            \n",
       "AU     Paddy rice                                         4.618915e-10   \n",
       "       Wheat                                              1.308049e-08   \n",
       "       Cereal grains nec                                  1.013284e-08   \n",
       "       Vegetables, fruit, nuts                            1.720105e-09   \n",
       "       Oil seeds                                         -5.095143e-09   \n",
       "...                                                                ...   \n",
       "WM     Membership organisation services n.e.c. (91)       0.000000e+00   \n",
       "       Recreational, cultural and sporting services (92)  0.000000e+00   \n",
       "       Other services (93)                                0.000000e+00   \n",
       "       Private households with employed persons (95)      0.000000e+00   \n",
       "       Extra-territorial organizations and bodies         0.000000e+00   \n",
       "\n",
       "                                                                   NH3  \\\n",
       "                                                                tonnes   \n",
       "                                                                   air   \n",
       "region sector                                                            \n",
       "AU     Paddy rice                                         5.189066e-09   \n",
       "       Wheat                                              3.020769e-07   \n",
       "       Cereal grains nec                                  4.135004e-07   \n",
       "       Vegetables, fruit, nuts                            3.249327e-07   \n",
       "       Oil seeds                                         -1.576878e-07   \n",
       "...                                                                ...   \n",
       "WM     Membership organisation services n.e.c. (91)       0.000000e+00   \n",
       "       Recreational, cultural and sporting services (92)  0.000000e+00   \n",
       "       Other services (93)                                0.000000e+00   \n",
       "       Private households with employed persons (95)      0.000000e+00   \n",
       "       Extra-territorial organizations and bodies         0.000000e+00   \n",
       "\n",
       "                                                                 NMVOC  ...  \\\n",
       "                                                                tonnes  ...   \n",
       "                                                                   air  ...   \n",
       "region sector                                                           ...   \n",
       "AU     Paddy rice                                         5.318201e-10  ...   \n",
       "       Wheat                                              1.549778e-08  ...   \n",
       "       Cereal grains nec                                  8.665507e-08  ...   \n",
       "       Vegetables, fruit, nuts                            5.687363e-08  ...   \n",
       "       Oil seeds                                         -4.047781e-07  ...   \n",
       "...                                                                ...  ...   \n",
       "WM     Membership organisation services n.e.c. (91)       3.597540e-10  ...   \n",
       "       Recreational, cultural and sporting services (92)  2.282481e-09  ...   \n",
       "       Other services (93)                                7.364467e-09  ...   \n",
       "       Private households with employed persons (95)      0.000000e+00  ...   \n",
       "       Extra-territorial organizations and bodies         0.000000e+00  ...   \n",
       "\n",
       "                                                             Cu     Zn     Pb  \\\n",
       "                                                         tonnes tonnes tonnes   \n",
       "                                                           soil   soil   soil   \n",
       "region sector                                                                   \n",
       "AU     Paddy rice                                           0.0    0.0    0.0   \n",
       "       Wheat                                                0.0    0.0    0.0   \n",
       "       Cereal grains nec                                    0.0    0.0    0.0   \n",
       "       Vegetables, fruit, nuts                              0.0    0.0    0.0   \n",
       "       Oil seeds                                           -0.0   -0.0   -0.0   \n",
       "...                                                         ...    ...    ...   \n",
       "WM     Membership organisation services n.e.c. (91)         0.0    0.0    0.0   \n",
       "       Recreational, cultural and sporting services (92)    0.0    0.0    0.0   \n",
       "       Other services (93)                                  0.0    0.0    0.0   \n",
       "       Private households with employed persons (95)        0.0    0.0    0.0   \n",
       "       Extra-territorial organizations and bodies           0.0    0.0    0.0   \n",
       "\n",
       "                                                             Hg     Cr     Ni  \\\n",
       "                                                         tonnes tonnes tonnes   \n",
       "                                                           soil   soil   soil   \n",
       "region sector                                                                   \n",
       "AU     Paddy rice                                           0.0    0.0    0.0   \n",
       "       Wheat                                                0.0    0.0    0.0   \n",
       "       Cereal grains nec                                    0.0    0.0    0.0   \n",
       "       Vegetables, fruit, nuts                              0.0    0.0    0.0   \n",
       "       Oil seeds                                           -0.0   -0.0   -0.0   \n",
       "...                                                         ...    ...    ...   \n",
       "WM     Membership organisation services n.e.c. (91)         0.0    0.0    0.0   \n",
       "       Recreational, cultural and sporting services (92)    0.0    0.0    0.0   \n",
       "       Other services (93)                                  0.0    0.0    0.0   \n",
       "       Private households with employed persons (95)        0.0    0.0    0.0   \n",
       "       Extra-territorial organizations and bodies           0.0    0.0    0.0   \n",
       "\n",
       "                                                              C  \\\n",
       "                                                         tonnes   \n",
       "                                                            air   \n",
       "region sector                                                     \n",
       "AU     Paddy rice                                           0.0   \n",
       "       Wheat                                                0.0   \n",
       "       Cereal grains nec                                    0.0   \n",
       "       Vegetables, fruit, nuts                              0.0   \n",
       "       Oil seeds                                           -0.0   \n",
       "...                                                         ...   \n",
       "WM     Membership organisation services n.e.c. (91)         0.0   \n",
       "       Recreational, cultural and sporting services (92)    0.0   \n",
       "       Other services (93)                                  0.0   \n",
       "       Private households with employed persons (95)        0.0   \n",
       "       Extra-territorial organizations and bodies           0.0   \n",
       "\n",
       "                                                         other emissions  \\\n",
       "                                                                  tonnes   \n",
       "                                                                   undef   \n",
       "region sector                                                              \n",
       "AU     Paddy rice                                           4.367096e-09   \n",
       "       Wheat                                                2.062923e-07   \n",
       "       Cereal grains nec                                    6.579148e-07   \n",
       "       Vegetables, fruit, nuts                              4.023601e-07   \n",
       "       Oil seeds                                           -2.276438e-06   \n",
       "...                                                                  ...   \n",
       "WM     Membership organisation services n.e.c. (91)         1.031216e-09   \n",
       "       Recreational, cultural and sporting services (92)    6.644069e-09   \n",
       "       Other services (93)                                  2.073410e-08   \n",
       "       Private households with employed persons (95)        0.000000e+00   \n",
       "       Extra-territorial organizations and bodies           0.000000e+00   \n",
       "\n",
       "                                                         Carbon dioxide, biogenic  \\\n",
       "                                                                           tonnes   \n",
       "                                                                              air   \n",
       "region sector                                                                       \n",
       "AU     Paddy rice                                                    9.462299e-10   \n",
       "       Wheat                                                         2.934918e-08   \n",
       "       Cereal grains nec                                             2.255140e-08   \n",
       "       Vegetables, fruit, nuts                                       3.789272e-09   \n",
       "       Oil seeds                                                    -1.127636e-08   \n",
       "...                                                                           ...   \n",
       "WM     Membership organisation services n.e.c. (91)                  0.000000e+00   \n",
       "       Recreational, cultural and sporting services (92)             0.000000e+00   \n",
       "       Other services (93)                                           0.000000e+00   \n",
       "       Private households with employed persons (95)                 0.000000e+00   \n",
       "       Extra-territorial organizations and bodies                    0.000000e+00   \n",
       "\n",
       "                                                         Other emissions nec  \n",
       "                                                                      tonnes  \n",
       "                                                                         air  \n",
       "region sector                                                                 \n",
       "AU     Paddy rice                                                        0.0  \n",
       "       Wheat                                                             0.0  \n",
       "       Cereal grains nec                                                 0.0  \n",
       "       Vegetables, fruit, nuts                                           0.0  \n",
       "       Oil seeds                                                        -0.0  \n",
       "...                                                                      ...  \n",
       "WM     Membership organisation services n.e.c. (91)                      0.0  \n",
       "       Recreational, cultural and sporting services (92)                 0.0  \n",
       "       Other services (93)                                               0.0  \n",
       "       Private households with employed persons (95)                     0.0  \n",
       "       Extra-territorial organizations and bodies                        0.0  \n",
       "\n",
       "[7872 rows x 66 columns]"
      ]
     },
     "execution_count": 300,
     "metadata": {},
     "output_type": "execute_result"
    }
   ],
   "source": [
    "country_mining_1=input('Which country is doing mining?) ISO-2 code')\n",
    "country_metal_1=input('Which country is doing metallurgy?) ISO-2 code')\n",
    "mining='Copper ores and concentrates'\n",
    "metal='Copper products'\n",
    "\n",
    "impact_mining_1=exio3318.emissions.S*exio3318.L.loc[:,(country_mining_1,mining)]\n",
    "impact_mining_1=impact_mining_1.T\n",
    "impact_mining_1\n",
    "\n",
    "impact_metal_1=exio3318.emissions.S*exio3318.L.loc[:,(country_metal_1,metal)]\n",
    "impact_metal_1=impact_metal_1.T\n",
    "impact_metal_1.loc[(country_mining_1, mining),:]=0\n",
    "impact_metal_1\n"
   ]
  },
  {
   "cell_type": "code",
   "execution_count": 301,
   "id": "fc1725e3",
   "metadata": {},
   "outputs": [
    {
     "data": {
      "text/plain": [
       "region  sector                                                                                                \n",
       "WL      Electricity by gas                                                                                        0.250024\n",
       "        Electricity by petroleum and other oil derivatives                                                        0.177416\n",
       "        Electricity by coal                                                                                       0.041080\n",
       "        Natural gas and services related to natural gas extraction, excluding surveying; inclulding liquid gas    0.026594\n",
       "        Copper ores and concentrates                                                                              0.017881\n",
       "         Refined Petroleum                                                                                        0.002032\n",
       "        Inert/metal/hazardous waste for treatment: landfill                                                       0.001830\n",
       "        Secondary raw materials                                                                                   0.001550\n",
       "CN      Electricity by coal                                                                                       0.001042\n",
       "DK      Natural gas and services related to natural gas extraction, excluding surveying; inclulding liquid gas    0.000903\n",
       "Name: (Carbon dioxide, fossil, tonnes, air), dtype: float64"
      ]
     },
     "execution_count": 301,
     "metadata": {},
     "output_type": "execute_result"
    }
   ],
   "source": [
    "impact_mining_1['Carbon dioxide, fossil', 'tonnes', 'air'].nlargest(10) #The most contaminant activities in term of CO2"
   ]
  },
  {
   "cell_type": "code",
   "execution_count": 302,
   "id": "1fba3367",
   "metadata": {},
   "outputs": [
    {
     "data": {
      "text/plain": [
       "region  sector                                                             \n",
       "CN      Electricity by coal                                                    1.697758\n",
       "        Copper products                                                        1.055731\n",
       "        Basic iron and steel and of ferro-alloys and first products thereof    0.208726\n",
       "WL      Electricity by gas                                                     0.128660\n",
       "        Electricity by petroleum and other oil derivatives                     0.091285\n",
       "US      Electricity by coal                                                    0.077970\n",
       "CN      Copper ores and concentrates                                           0.054020\n",
       "        Coal, lignite and peat                                                 0.052219\n",
       "US      Copper ores and concentrates                                           0.042362\n",
       "CN      Sea and coastal water transportation services                          0.041391\n",
       "Name: (Carbon dioxide, fossil, tonnes, air), dtype: float64"
      ]
     },
     "execution_count": 302,
     "metadata": {},
     "output_type": "execute_result"
    }
   ],
   "source": [
    "impact_metal_1['Carbon dioxide, fossil', 'tonnes', 'air'].nlargest(10) #The most contaminant activities in term of CO2"
   ]
  },
  {
   "cell_type": "code",
   "execution_count": 303,
   "id": "7fe9e63d",
   "metadata": {},
   "outputs": [],
   "source": [
    "impact_mining_1.to_csv(f'{country_mining_1}_{mining}.txt', sep='\\t', index=True, header=True)\n",
    "impact_metal_1.to_csv(f'{country_metal_1}_{metal}.txt', sep='\\t', index=True, header=True)"
   ]
  },
  {
   "cell_type": "markdown",
   "id": "567ffa6f",
   "metadata": {},
   "source": [
    "Chain 2 PL+PL"
   ]
  },
  {
   "cell_type": "code",
   "execution_count": 304,
   "id": "78e72c23",
   "metadata": {},
   "outputs": [
    {
     "data": {
      "text/html": [
       "<div>\n",
       "<style scoped>\n",
       "    .dataframe tbody tr th:only-of-type {\n",
       "        vertical-align: middle;\n",
       "    }\n",
       "\n",
       "    .dataframe tbody tr th {\n",
       "        vertical-align: top;\n",
       "    }\n",
       "\n",
       "    .dataframe thead tr th {\n",
       "        text-align: left;\n",
       "    }\n",
       "\n",
       "    .dataframe thead tr:last-of-type th {\n",
       "        text-align: right;\n",
       "    }\n",
       "</style>\n",
       "<table border=\"1\" class=\"dataframe\">\n",
       "  <thead>\n",
       "    <tr>\n",
       "      <th></th>\n",
       "      <th></th>\n",
       "      <th>Carbon dioxide, fossil</th>\n",
       "      <th>N2O</th>\n",
       "      <th>CH4</th>\n",
       "      <th>HFCs</th>\n",
       "      <th>PFCs</th>\n",
       "      <th>SF6</th>\n",
       "      <th>NOX</th>\n",
       "      <th>SOx</th>\n",
       "      <th>NH3</th>\n",
       "      <th>NMVOC</th>\n",
       "      <th>...</th>\n",
       "      <th>Cu</th>\n",
       "      <th>Zn</th>\n",
       "      <th>Pb</th>\n",
       "      <th>Hg</th>\n",
       "      <th>Cr</th>\n",
       "      <th>Ni</th>\n",
       "      <th>C</th>\n",
       "      <th>other emissions</th>\n",
       "      <th>Carbon dioxide, biogenic</th>\n",
       "      <th>Other emissions nec</th>\n",
       "    </tr>\n",
       "    <tr>\n",
       "      <th></th>\n",
       "      <th></th>\n",
       "      <th>tonnes</th>\n",
       "      <th>tonnes</th>\n",
       "      <th>tonnes</th>\n",
       "      <th>tonnes</th>\n",
       "      <th>tonnes</th>\n",
       "      <th>tonnes</th>\n",
       "      <th>tonnes</th>\n",
       "      <th>tonnes</th>\n",
       "      <th>tonnes</th>\n",
       "      <th>tonnes</th>\n",
       "      <th>...</th>\n",
       "      <th>tonnes</th>\n",
       "      <th>tonnes</th>\n",
       "      <th>tonnes</th>\n",
       "      <th>tonnes</th>\n",
       "      <th>tonnes</th>\n",
       "      <th>tonnes</th>\n",
       "      <th>tonnes</th>\n",
       "      <th>tonnes</th>\n",
       "      <th>tonnes</th>\n",
       "      <th>tonnes</th>\n",
       "    </tr>\n",
       "    <tr>\n",
       "      <th></th>\n",
       "      <th></th>\n",
       "      <th>air</th>\n",
       "      <th>air</th>\n",
       "      <th>air</th>\n",
       "      <th>air</th>\n",
       "      <th>air</th>\n",
       "      <th>air</th>\n",
       "      <th>air</th>\n",
       "      <th>air</th>\n",
       "      <th>air</th>\n",
       "      <th>air</th>\n",
       "      <th>...</th>\n",
       "      <th>soil</th>\n",
       "      <th>soil</th>\n",
       "      <th>soil</th>\n",
       "      <th>soil</th>\n",
       "      <th>soil</th>\n",
       "      <th>soil</th>\n",
       "      <th>air</th>\n",
       "      <th>undef</th>\n",
       "      <th>air</th>\n",
       "      <th>air</th>\n",
       "    </tr>\n",
       "    <tr>\n",
       "      <th>region</th>\n",
       "      <th>sector</th>\n",
       "      <th></th>\n",
       "      <th></th>\n",
       "      <th></th>\n",
       "      <th></th>\n",
       "      <th></th>\n",
       "      <th></th>\n",
       "      <th></th>\n",
       "      <th></th>\n",
       "      <th></th>\n",
       "      <th></th>\n",
       "      <th></th>\n",
       "      <th></th>\n",
       "      <th></th>\n",
       "      <th></th>\n",
       "      <th></th>\n",
       "      <th></th>\n",
       "      <th></th>\n",
       "      <th></th>\n",
       "      <th></th>\n",
       "      <th></th>\n",
       "      <th></th>\n",
       "    </tr>\n",
       "  </thead>\n",
       "  <tbody>\n",
       "    <tr>\n",
       "      <th rowspan=\"5\" valign=\"top\">AU</th>\n",
       "      <th>Paddy rice</th>\n",
       "      <td>2.421426e-07</td>\n",
       "      <td>2.838384e-10</td>\n",
       "      <td>1.707705e-07</td>\n",
       "      <td>0.0</td>\n",
       "      <td>0.0</td>\n",
       "      <td>0.0</td>\n",
       "      <td>1.427487e-09</td>\n",
       "      <td>3.004178e-10</td>\n",
       "      <td>3.375009e-09</td>\n",
       "      <td>3.458999e-10</td>\n",
       "      <td>...</td>\n",
       "      <td>0.0</td>\n",
       "      <td>0.0</td>\n",
       "      <td>0.0</td>\n",
       "      <td>0.0</td>\n",
       "      <td>0.0</td>\n",
       "      <td>0.0</td>\n",
       "      <td>0.0</td>\n",
       "      <td>2.840394e-09</td>\n",
       "      <td>6.154354e-10</td>\n",
       "      <td>0.0</td>\n",
       "    </tr>\n",
       "    <tr>\n",
       "      <th>Wheat</th>\n",
       "      <td>8.704914e-06</td>\n",
       "      <td>4.252080e-08</td>\n",
       "      <td>7.335947e-10</td>\n",
       "      <td>0.0</td>\n",
       "      <td>0.0</td>\n",
       "      <td>0.0</td>\n",
       "      <td>5.937365e-08</td>\n",
       "      <td>1.054046e-08</td>\n",
       "      <td>2.434181e-07</td>\n",
       "      <td>1.248834e-08</td>\n",
       "      <td>...</td>\n",
       "      <td>0.0</td>\n",
       "      <td>0.0</td>\n",
       "      <td>0.0</td>\n",
       "      <td>0.0</td>\n",
       "      <td>0.0</td>\n",
       "      <td>0.0</td>\n",
       "      <td>0.0</td>\n",
       "      <td>1.662334e-07</td>\n",
       "      <td>2.365001e-08</td>\n",
       "      <td>0.0</td>\n",
       "    </tr>\n",
       "    <tr>\n",
       "      <th>Cereal grains nec</th>\n",
       "      <td>2.384615e-06</td>\n",
       "      <td>1.886696e-08</td>\n",
       "      <td>6.695743e-10</td>\n",
       "      <td>0.0</td>\n",
       "      <td>0.0</td>\n",
       "      <td>0.0</td>\n",
       "      <td>1.635755e-08</td>\n",
       "      <td>2.648373e-09</td>\n",
       "      <td>1.080746e-07</td>\n",
       "      <td>2.264862e-08</td>\n",
       "      <td>...</td>\n",
       "      <td>0.0</td>\n",
       "      <td>0.0</td>\n",
       "      <td>0.0</td>\n",
       "      <td>0.0</td>\n",
       "      <td>0.0</td>\n",
       "      <td>0.0</td>\n",
       "      <td>0.0</td>\n",
       "      <td>1.719561e-07</td>\n",
       "      <td>5.894152e-09</td>\n",
       "      <td>0.0</td>\n",
       "    </tr>\n",
       "    <tr>\n",
       "      <th>Vegetables, fruit, nuts</th>\n",
       "      <td>8.478520e-07</td>\n",
       "      <td>2.904549e-08</td>\n",
       "      <td>2.312013e-10</td>\n",
       "      <td>0.0</td>\n",
       "      <td>0.0</td>\n",
       "      <td>0.0</td>\n",
       "      <td>9.107708e-09</td>\n",
       "      <td>8.892116e-10</td>\n",
       "      <td>1.679745e-07</td>\n",
       "      <td>2.940093e-08</td>\n",
       "      <td>...</td>\n",
       "      <td>0.0</td>\n",
       "      <td>0.0</td>\n",
       "      <td>0.0</td>\n",
       "      <td>0.0</td>\n",
       "      <td>0.0</td>\n",
       "      <td>0.0</td>\n",
       "      <td>0.0</td>\n",
       "      <td>2.080008e-07</td>\n",
       "      <td>1.958871e-09</td>\n",
       "      <td>0.0</td>\n",
       "    </tr>\n",
       "    <tr>\n",
       "      <th>Oil seeds</th>\n",
       "      <td>-5.534953e-07</td>\n",
       "      <td>-3.088860e-09</td>\n",
       "      <td>-1.370447e-10</td>\n",
       "      <td>-0.0</td>\n",
       "      <td>-0.0</td>\n",
       "      <td>-0.0</td>\n",
       "      <td>-3.286952e-09</td>\n",
       "      <td>-5.615499e-10</td>\n",
       "      <td>-1.737921e-08</td>\n",
       "      <td>-4.461172e-08</td>\n",
       "      <td>...</td>\n",
       "      <td>-0.0</td>\n",
       "      <td>-0.0</td>\n",
       "      <td>-0.0</td>\n",
       "      <td>-0.0</td>\n",
       "      <td>-0.0</td>\n",
       "      <td>-0.0</td>\n",
       "      <td>-0.0</td>\n",
       "      <td>-2.508926e-07</td>\n",
       "      <td>-1.242798e-09</td>\n",
       "      <td>-0.0</td>\n",
       "    </tr>\n",
       "    <tr>\n",
       "      <th>...</th>\n",
       "      <th>...</th>\n",
       "      <td>...</td>\n",
       "      <td>...</td>\n",
       "      <td>...</td>\n",
       "      <td>...</td>\n",
       "      <td>...</td>\n",
       "      <td>...</td>\n",
       "      <td>...</td>\n",
       "      <td>...</td>\n",
       "      <td>...</td>\n",
       "      <td>...</td>\n",
       "      <td>...</td>\n",
       "      <td>...</td>\n",
       "      <td>...</td>\n",
       "      <td>...</td>\n",
       "      <td>...</td>\n",
       "      <td>...</td>\n",
       "      <td>...</td>\n",
       "      <td>...</td>\n",
       "      <td>...</td>\n",
       "      <td>...</td>\n",
       "      <td>...</td>\n",
       "    </tr>\n",
       "    <tr>\n",
       "      <th rowspan=\"5\" valign=\"top\">WM</th>\n",
       "      <th>Membership organisation services n.e.c. (91)</th>\n",
       "      <td>3.814890e-07</td>\n",
       "      <td>0.000000e+00</td>\n",
       "      <td>0.000000e+00</td>\n",
       "      <td>0.0</td>\n",
       "      <td>0.0</td>\n",
       "      <td>0.0</td>\n",
       "      <td>0.000000e+00</td>\n",
       "      <td>0.000000e+00</td>\n",
       "      <td>0.000000e+00</td>\n",
       "      <td>3.787684e-10</td>\n",
       "      <td>...</td>\n",
       "      <td>0.0</td>\n",
       "      <td>0.0</td>\n",
       "      <td>0.0</td>\n",
       "      <td>0.0</td>\n",
       "      <td>0.0</td>\n",
       "      <td>0.0</td>\n",
       "      <td>0.0</td>\n",
       "      <td>1.085720e-09</td>\n",
       "      <td>0.000000e+00</td>\n",
       "      <td>0.0</td>\n",
       "    </tr>\n",
       "    <tr>\n",
       "      <th>Recreational, cultural and sporting services (92)</th>\n",
       "      <td>3.030263e-06</td>\n",
       "      <td>0.000000e+00</td>\n",
       "      <td>0.000000e+00</td>\n",
       "      <td>0.0</td>\n",
       "      <td>0.0</td>\n",
       "      <td>0.0</td>\n",
       "      <td>0.000000e+00</td>\n",
       "      <td>0.000000e+00</td>\n",
       "      <td>0.000000e+00</td>\n",
       "      <td>4.390633e-09</td>\n",
       "      <td>...</td>\n",
       "      <td>0.0</td>\n",
       "      <td>0.0</td>\n",
       "      <td>0.0</td>\n",
       "      <td>0.0</td>\n",
       "      <td>0.0</td>\n",
       "      <td>0.0</td>\n",
       "      <td>0.0</td>\n",
       "      <td>1.278068e-08</td>\n",
       "      <td>0.000000e+00</td>\n",
       "      <td>0.0</td>\n",
       "    </tr>\n",
       "    <tr>\n",
       "      <th>Other services (93)</th>\n",
       "      <td>1.185524e-06</td>\n",
       "      <td>0.000000e+00</td>\n",
       "      <td>0.000000e+00</td>\n",
       "      <td>0.0</td>\n",
       "      <td>0.0</td>\n",
       "      <td>0.0</td>\n",
       "      <td>0.000000e+00</td>\n",
       "      <td>0.000000e+00</td>\n",
       "      <td>0.000000e+00</td>\n",
       "      <td>1.196385e-08</td>\n",
       "      <td>...</td>\n",
       "      <td>0.0</td>\n",
       "      <td>0.0</td>\n",
       "      <td>0.0</td>\n",
       "      <td>0.0</td>\n",
       "      <td>0.0</td>\n",
       "      <td>0.0</td>\n",
       "      <td>0.0</td>\n",
       "      <td>3.368333e-08</td>\n",
       "      <td>0.000000e+00</td>\n",
       "      <td>0.0</td>\n",
       "    </tr>\n",
       "    <tr>\n",
       "      <th>Private households with employed persons (95)</th>\n",
       "      <td>0.000000e+00</td>\n",
       "      <td>0.000000e+00</td>\n",
       "      <td>0.000000e+00</td>\n",
       "      <td>0.0</td>\n",
       "      <td>0.0</td>\n",
       "      <td>0.0</td>\n",
       "      <td>0.000000e+00</td>\n",
       "      <td>0.000000e+00</td>\n",
       "      <td>0.000000e+00</td>\n",
       "      <td>0.000000e+00</td>\n",
       "      <td>...</td>\n",
       "      <td>0.0</td>\n",
       "      <td>0.0</td>\n",
       "      <td>0.0</td>\n",
       "      <td>0.0</td>\n",
       "      <td>0.0</td>\n",
       "      <td>0.0</td>\n",
       "      <td>0.0</td>\n",
       "      <td>0.000000e+00</td>\n",
       "      <td>0.000000e+00</td>\n",
       "      <td>0.0</td>\n",
       "    </tr>\n",
       "    <tr>\n",
       "      <th>Extra-territorial organizations and bodies</th>\n",
       "      <td>0.000000e+00</td>\n",
       "      <td>0.000000e+00</td>\n",
       "      <td>0.000000e+00</td>\n",
       "      <td>0.0</td>\n",
       "      <td>0.0</td>\n",
       "      <td>0.0</td>\n",
       "      <td>0.000000e+00</td>\n",
       "      <td>0.000000e+00</td>\n",
       "      <td>0.000000e+00</td>\n",
       "      <td>0.000000e+00</td>\n",
       "      <td>...</td>\n",
       "      <td>0.0</td>\n",
       "      <td>0.0</td>\n",
       "      <td>0.0</td>\n",
       "      <td>0.0</td>\n",
       "      <td>0.0</td>\n",
       "      <td>0.0</td>\n",
       "      <td>0.0</td>\n",
       "      <td>0.000000e+00</td>\n",
       "      <td>0.000000e+00</td>\n",
       "      <td>0.0</td>\n",
       "    </tr>\n",
       "  </tbody>\n",
       "</table>\n",
       "<p>7872 rows × 66 columns</p>\n",
       "</div>"
      ],
      "text/plain": [
       "                                                         Carbon dioxide, fossil  \\\n",
       "                                                                         tonnes   \n",
       "                                                                            air   \n",
       "region sector                                                                     \n",
       "AU     Paddy rice                                                  2.421426e-07   \n",
       "       Wheat                                                       8.704914e-06   \n",
       "       Cereal grains nec                                           2.384615e-06   \n",
       "       Vegetables, fruit, nuts                                     8.478520e-07   \n",
       "       Oil seeds                                                  -5.534953e-07   \n",
       "...                                                                         ...   \n",
       "WM     Membership organisation services n.e.c. (91)                3.814890e-07   \n",
       "       Recreational, cultural and sporting services (92)           3.030263e-06   \n",
       "       Other services (93)                                         1.185524e-06   \n",
       "       Private households with employed persons (95)               0.000000e+00   \n",
       "       Extra-territorial organizations and bodies                  0.000000e+00   \n",
       "\n",
       "                                                                   N2O  \\\n",
       "                                                                tonnes   \n",
       "                                                                   air   \n",
       "region sector                                                            \n",
       "AU     Paddy rice                                         2.838384e-10   \n",
       "       Wheat                                              4.252080e-08   \n",
       "       Cereal grains nec                                  1.886696e-08   \n",
       "       Vegetables, fruit, nuts                            2.904549e-08   \n",
       "       Oil seeds                                         -3.088860e-09   \n",
       "...                                                                ...   \n",
       "WM     Membership organisation services n.e.c. (91)       0.000000e+00   \n",
       "       Recreational, cultural and sporting services (92)  0.000000e+00   \n",
       "       Other services (93)                                0.000000e+00   \n",
       "       Private households with employed persons (95)      0.000000e+00   \n",
       "       Extra-territorial organizations and bodies         0.000000e+00   \n",
       "\n",
       "                                                                   CH4   HFCs  \\\n",
       "                                                                tonnes tonnes   \n",
       "                                                                   air    air   \n",
       "region sector                                                                   \n",
       "AU     Paddy rice                                         1.707705e-07    0.0   \n",
       "       Wheat                                              7.335947e-10    0.0   \n",
       "       Cereal grains nec                                  6.695743e-10    0.0   \n",
       "       Vegetables, fruit, nuts                            2.312013e-10    0.0   \n",
       "       Oil seeds                                         -1.370447e-10   -0.0   \n",
       "...                                                                ...    ...   \n",
       "WM     Membership organisation services n.e.c. (91)       0.000000e+00    0.0   \n",
       "       Recreational, cultural and sporting services (92)  0.000000e+00    0.0   \n",
       "       Other services (93)                                0.000000e+00    0.0   \n",
       "       Private households with employed persons (95)      0.000000e+00    0.0   \n",
       "       Extra-territorial organizations and bodies         0.000000e+00    0.0   \n",
       "\n",
       "                                                           PFCs    SF6  \\\n",
       "                                                         tonnes tonnes   \n",
       "                                                            air    air   \n",
       "region sector                                                            \n",
       "AU     Paddy rice                                           0.0    0.0   \n",
       "       Wheat                                                0.0    0.0   \n",
       "       Cereal grains nec                                    0.0    0.0   \n",
       "       Vegetables, fruit, nuts                              0.0    0.0   \n",
       "       Oil seeds                                           -0.0   -0.0   \n",
       "...                                                         ...    ...   \n",
       "WM     Membership organisation services n.e.c. (91)         0.0    0.0   \n",
       "       Recreational, cultural and sporting services (92)    0.0    0.0   \n",
       "       Other services (93)                                  0.0    0.0   \n",
       "       Private households with employed persons (95)        0.0    0.0   \n",
       "       Extra-territorial organizations and bodies           0.0    0.0   \n",
       "\n",
       "                                                                  NOX   \\\n",
       "                                                                tonnes   \n",
       "                                                                   air   \n",
       "region sector                                                            \n",
       "AU     Paddy rice                                         1.427487e-09   \n",
       "       Wheat                                              5.937365e-08   \n",
       "       Cereal grains nec                                  1.635755e-08   \n",
       "       Vegetables, fruit, nuts                            9.107708e-09   \n",
       "       Oil seeds                                         -3.286952e-09   \n",
       "...                                                                ...   \n",
       "WM     Membership organisation services n.e.c. (91)       0.000000e+00   \n",
       "       Recreational, cultural and sporting services (92)  0.000000e+00   \n",
       "       Other services (93)                                0.000000e+00   \n",
       "       Private households with employed persons (95)      0.000000e+00   \n",
       "       Extra-territorial organizations and bodies         0.000000e+00   \n",
       "\n",
       "                                                                   SOx  \\\n",
       "                                                                tonnes   \n",
       "                                                                   air   \n",
       "region sector                                                            \n",
       "AU     Paddy rice                                         3.004178e-10   \n",
       "       Wheat                                              1.054046e-08   \n",
       "       Cereal grains nec                                  2.648373e-09   \n",
       "       Vegetables, fruit, nuts                            8.892116e-10   \n",
       "       Oil seeds                                         -5.615499e-10   \n",
       "...                                                                ...   \n",
       "WM     Membership organisation services n.e.c. (91)       0.000000e+00   \n",
       "       Recreational, cultural and sporting services (92)  0.000000e+00   \n",
       "       Other services (93)                                0.000000e+00   \n",
       "       Private households with employed persons (95)      0.000000e+00   \n",
       "       Extra-territorial organizations and bodies         0.000000e+00   \n",
       "\n",
       "                                                                   NH3  \\\n",
       "                                                                tonnes   \n",
       "                                                                   air   \n",
       "region sector                                                            \n",
       "AU     Paddy rice                                         3.375009e-09   \n",
       "       Wheat                                              2.434181e-07   \n",
       "       Cereal grains nec                                  1.080746e-07   \n",
       "       Vegetables, fruit, nuts                            1.679745e-07   \n",
       "       Oil seeds                                         -1.737921e-08   \n",
       "...                                                                ...   \n",
       "WM     Membership organisation services n.e.c. (91)       0.000000e+00   \n",
       "       Recreational, cultural and sporting services (92)  0.000000e+00   \n",
       "       Other services (93)                                0.000000e+00   \n",
       "       Private households with employed persons (95)      0.000000e+00   \n",
       "       Extra-territorial organizations and bodies         0.000000e+00   \n",
       "\n",
       "                                                                 NMVOC  ...  \\\n",
       "                                                                tonnes  ...   \n",
       "                                                                   air  ...   \n",
       "region sector                                                           ...   \n",
       "AU     Paddy rice                                         3.458999e-10  ...   \n",
       "       Wheat                                              1.248834e-08  ...   \n",
       "       Cereal grains nec                                  2.264862e-08  ...   \n",
       "       Vegetables, fruit, nuts                            2.940093e-08  ...   \n",
       "       Oil seeds                                         -4.461172e-08  ...   \n",
       "...                                                                ...  ...   \n",
       "WM     Membership organisation services n.e.c. (91)       3.787684e-10  ...   \n",
       "       Recreational, cultural and sporting services (92)  4.390633e-09  ...   \n",
       "       Other services (93)                                1.196385e-08  ...   \n",
       "       Private households with employed persons (95)      0.000000e+00  ...   \n",
       "       Extra-territorial organizations and bodies         0.000000e+00  ...   \n",
       "\n",
       "                                                             Cu     Zn     Pb  \\\n",
       "                                                         tonnes tonnes tonnes   \n",
       "                                                           soil   soil   soil   \n",
       "region sector                                                                   \n",
       "AU     Paddy rice                                           0.0    0.0    0.0   \n",
       "       Wheat                                                0.0    0.0    0.0   \n",
       "       Cereal grains nec                                    0.0    0.0    0.0   \n",
       "       Vegetables, fruit, nuts                              0.0    0.0    0.0   \n",
       "       Oil seeds                                           -0.0   -0.0   -0.0   \n",
       "...                                                         ...    ...    ...   \n",
       "WM     Membership organisation services n.e.c. (91)         0.0    0.0    0.0   \n",
       "       Recreational, cultural and sporting services (92)    0.0    0.0    0.0   \n",
       "       Other services (93)                                  0.0    0.0    0.0   \n",
       "       Private households with employed persons (95)        0.0    0.0    0.0   \n",
       "       Extra-territorial organizations and bodies           0.0    0.0    0.0   \n",
       "\n",
       "                                                             Hg     Cr     Ni  \\\n",
       "                                                         tonnes tonnes tonnes   \n",
       "                                                           soil   soil   soil   \n",
       "region sector                                                                   \n",
       "AU     Paddy rice                                           0.0    0.0    0.0   \n",
       "       Wheat                                                0.0    0.0    0.0   \n",
       "       Cereal grains nec                                    0.0    0.0    0.0   \n",
       "       Vegetables, fruit, nuts                              0.0    0.0    0.0   \n",
       "       Oil seeds                                           -0.0   -0.0   -0.0   \n",
       "...                                                         ...    ...    ...   \n",
       "WM     Membership organisation services n.e.c. (91)         0.0    0.0    0.0   \n",
       "       Recreational, cultural and sporting services (92)    0.0    0.0    0.0   \n",
       "       Other services (93)                                  0.0    0.0    0.0   \n",
       "       Private households with employed persons (95)        0.0    0.0    0.0   \n",
       "       Extra-territorial organizations and bodies           0.0    0.0    0.0   \n",
       "\n",
       "                                                              C  \\\n",
       "                                                         tonnes   \n",
       "                                                            air   \n",
       "region sector                                                     \n",
       "AU     Paddy rice                                           0.0   \n",
       "       Wheat                                                0.0   \n",
       "       Cereal grains nec                                    0.0   \n",
       "       Vegetables, fruit, nuts                              0.0   \n",
       "       Oil seeds                                           -0.0   \n",
       "...                                                         ...   \n",
       "WM     Membership organisation services n.e.c. (91)         0.0   \n",
       "       Recreational, cultural and sporting services (92)    0.0   \n",
       "       Other services (93)                                  0.0   \n",
       "       Private households with employed persons (95)        0.0   \n",
       "       Extra-territorial organizations and bodies           0.0   \n",
       "\n",
       "                                                         other emissions  \\\n",
       "                                                                  tonnes   \n",
       "                                                                   undef   \n",
       "region sector                                                              \n",
       "AU     Paddy rice                                           2.840394e-09   \n",
       "       Wheat                                                1.662334e-07   \n",
       "       Cereal grains nec                                    1.719561e-07   \n",
       "       Vegetables, fruit, nuts                              2.080008e-07   \n",
       "       Oil seeds                                           -2.508926e-07   \n",
       "...                                                                  ...   \n",
       "WM     Membership organisation services n.e.c. (91)         1.085720e-09   \n",
       "       Recreational, cultural and sporting services (92)    1.278068e-08   \n",
       "       Other services (93)                                  3.368333e-08   \n",
       "       Private households with employed persons (95)        0.000000e+00   \n",
       "       Extra-territorial organizations and bodies           0.000000e+00   \n",
       "\n",
       "                                                         Carbon dioxide, biogenic  \\\n",
       "                                                                           tonnes   \n",
       "                                                                              air   \n",
       "region sector                                                                       \n",
       "AU     Paddy rice                                                    6.154354e-10   \n",
       "       Wheat                                                         2.365001e-08   \n",
       "       Cereal grains nec                                             5.894152e-09   \n",
       "       Vegetables, fruit, nuts                                       1.958871e-09   \n",
       "       Oil seeds                                                    -1.242798e-09   \n",
       "...                                                                           ...   \n",
       "WM     Membership organisation services n.e.c. (91)                  0.000000e+00   \n",
       "       Recreational, cultural and sporting services (92)             0.000000e+00   \n",
       "       Other services (93)                                           0.000000e+00   \n",
       "       Private households with employed persons (95)                 0.000000e+00   \n",
       "       Extra-territorial organizations and bodies                    0.000000e+00   \n",
       "\n",
       "                                                         Other emissions nec  \n",
       "                                                                      tonnes  \n",
       "                                                                         air  \n",
       "region sector                                                                 \n",
       "AU     Paddy rice                                                        0.0  \n",
       "       Wheat                                                             0.0  \n",
       "       Cereal grains nec                                                 0.0  \n",
       "       Vegetables, fruit, nuts                                           0.0  \n",
       "       Oil seeds                                                        -0.0  \n",
       "...                                                                      ...  \n",
       "WM     Membership organisation services n.e.c. (91)                      0.0  \n",
       "       Recreational, cultural and sporting services (92)                 0.0  \n",
       "       Other services (93)                                               0.0  \n",
       "       Private households with employed persons (95)                     0.0  \n",
       "       Extra-territorial organizations and bodies                        0.0  \n",
       "\n",
       "[7872 rows x 66 columns]"
      ]
     },
     "execution_count": 304,
     "metadata": {},
     "output_type": "execute_result"
    }
   ],
   "source": [
    "country_mining_2=input('Which country is doing mining?) ISO-2 code')\n",
    "country_metal_2=input('Which country is doing metallurgy?) ISO-2 code')\n",
    "mining='Copper ores and concentrates'\n",
    "metal='Copper products'\n",
    "\n",
    "impact_mining_2=exio3318.emissions.S*exio3318.L.loc[:,(country_mining_2,mining)]\n",
    "impact_mining_2=impact_mining_2.T\n",
    "impact_mining_2\n",
    "\n",
    "impact_metal_2=exio3318.emissions.S*exio3318.L.loc[:,(country_metal_2,metal)]\n",
    "impact_metal_2=impact_metal_2.T\n",
    "impact_metal_2.loc[(country_mining_2, mining),:]=0\n",
    "impact_metal_2"
   ]
  },
  {
   "cell_type": "code",
   "execution_count": 305,
   "id": "ac10fb94",
   "metadata": {},
   "outputs": [
    {
     "data": {
      "text/plain": [
       "region  sector                                                             \n",
       "PL      Electricity by coal                                                    1.070765\n",
       "        Copper ores and concentrates                                           0.062703\n",
       "        Basic iron and steel and of ferro-alloys and first products thereof    0.038846\n",
       "CN      Basic iron and steel and of ferro-alloys and first products thereof    0.038757\n",
       "PL      Electricity by gas                                                     0.035333\n",
       "CN      Electricity by coal                                                    0.029401\n",
       "PL      Cement, lime and plaster                                               0.022551\n",
       "        Steam and hot water supply services                                    0.017964\n",
       "DE      Electricity by coal                                                    0.015079\n",
       "RU      Basic iron and steel and of ferro-alloys and first products thereof    0.014503\n",
       "Name: (Carbon dioxide, fossil, tonnes, air), dtype: float64"
      ]
     },
     "execution_count": 305,
     "metadata": {},
     "output_type": "execute_result"
    }
   ],
   "source": [
    "impact_mining_2['Carbon dioxide, fossil', 'tonnes', 'air'].nlargest(10) #The most contaminant activities in term of CO2"
   ]
  },
  {
   "cell_type": "code",
   "execution_count": 306,
   "id": "844aa0bb",
   "metadata": {},
   "outputs": [
    {
     "data": {
      "text/plain": [
       "region  sector                                                             \n",
       "PL      Electricity by coal                                                    1.426611\n",
       "        Copper products                                                        0.728594\n",
       "        Electricity by gas                                                     0.047555\n",
       "        Basic iron and steel and of ferro-alloys and first products thereof    0.041066\n",
       "CN      Basic iron and steel and of ferro-alloys and first products thereof    0.040972\n",
       "WL      Electricity by gas                                                     0.032645\n",
       "CN      Electricity by coal                                                    0.031445\n",
       "PL      Steam and hot water supply services                                    0.029451\n",
       "         Refined Petroleum                                                     0.024295\n",
       "WL      Electricity by petroleum and other oil derivatives                     0.023145\n",
       "Name: (Carbon dioxide, fossil, tonnes, air), dtype: float64"
      ]
     },
     "execution_count": 306,
     "metadata": {},
     "output_type": "execute_result"
    }
   ],
   "source": [
    "impact_metal_2['Carbon dioxide, fossil', 'tonnes', 'air'].nlargest(10) #The most contaminant activities in term of CO2"
   ]
  },
  {
   "cell_type": "code",
   "execution_count": 307,
   "id": "7c743653",
   "metadata": {},
   "outputs": [],
   "source": [
    "impact_mining_2.to_csv(f'{country_mining_2}_{mining}.txt', sep='\\t', index=True, header=True)\n",
    "impact_metal_2.to_csv(f'{country_metal_2}_{metal}.txt', sep='\\t', index=True, header=True)"
   ]
  },
  {
   "cell_type": "markdown",
   "id": "b3d4a987",
   "metadata": {},
   "source": [
    "Selecting one chain for trasnport calculation"
   ]
  },
  {
   "cell_type": "code",
   "execution_count": 309,
   "id": "723946a0",
   "metadata": {},
   "outputs": [
    {
     "name": "stdout",
     "output_type": "stream",
     "text": [
      "Chain 1 WL+CN\n"
     ]
    }
   ],
   "source": [
    "chain=input('Which chain do you want to calculate? (WL+CN, PL+PL, etc.). Number of chain: ')\n",
    "if chain == '1':\n",
    "    print('Chain 1 WL+CN')\n",
    "    country_mining=country_mining_1\n",
    "    country_metal=country_metal_1\n",
    "    impact_mining=impact_mining_1\n",
    "    impact_metal=impact_metal_1\n",
    "elif chain == '2':\n",
    "    print('Chain 2 PL+PL')\n",
    "    country_mining=country_mining_2\n",
    "    country_metal=country_metal_2\n",
    "    impact_mining=impact_mining_2\n",
    "    impact_metal=impact_metal_2"
   ]
  },
  {
   "cell_type": "markdown",
   "id": "3037bb5b",
   "metadata": {},
   "source": [
    "# Calculation for BW2.5"
   ]
  },
  {
   "cell_type": "markdown",
   "id": "d34e8c9f",
   "metadata": {},
   "source": [
    "To install brightway 2.5 in jupyter (only if it is necessary)"
   ]
  },
  {
   "cell_type": "code",
   "execution_count": 250,
   "id": "8baa23f5",
   "metadata": {},
   "outputs": [
    {
     "name": "stdout",
     "output_type": "stream",
     "text": [
      "c:\\Users\\marpi\\anaconda3\\envs\\input_output_bw25\\python.exe\n"
     ]
    }
   ],
   "source": [
    "import sys\n",
    "print(sys.executable) #to know where is python\n",
    "#!{sys.executable} -m pip install brightway25 -y\n",
    "#!{sys.executable} -m pip install bw2io -y\n",
    "#!{sys.executable} -m pip uninstall pypardiso -y #The code does not work with pypardiso installed. Why? I do not know"
   ]
  },
  {
   "cell_type": "markdown",
   "id": "fc176661",
   "metadata": {},
   "source": [
    "Libraries for brightway2.5"
   ]
  },
  {
   "cell_type": "code",
   "execution_count": 251,
   "id": "84c5d5af",
   "metadata": {},
   "outputs": [
    {
     "name": "stdout",
     "output_type": "stream",
     "text": [
      "2.0.2\n",
      "(4, 4, 4)\n",
      "Biosphere3 is already present in the project.\n"
     ]
    }
   ],
   "source": [
    "import brightway25 as bw\n",
    "import bw2io as bi\n",
    "import bw2data as bd\n",
    "import bw2analyzer as ba\n",
    "import bw2calc as bc\n",
    "import matrix_utils as mu\n",
    "import bw_processing as bp\n",
    "print(bc.__version__)\n",
    "print(bd.__version__)\n",
    "import numpy as np\n",
    "\n",
    "if any(\"biosphere3\" in db for db in bd.databases): #to confirm biosphere is present\n",
    "    print('Biosphere3 is already present in the project.')\n",
    "else:\n",
    "    bi.bw2setup()\n",
    "\n",
    "#bd.projects.migrate_project_25() #only for the first time changing brigthway2 to 2.5"
   ]
  },
  {
   "cell_type": "markdown",
   "id": "bf92026a",
   "metadata": {},
   "source": [
    "To confirm biosphere is well installed"
   ]
  },
  {
   "cell_type": "code",
   "execution_count": 252,
   "id": "8fe71f15",
   "metadata": {},
   "outputs": [
    {
     "name": "stdout",
     "output_type": "stream",
     "text": [
      "762\n"
     ]
    }
   ],
   "source": [
    "print(len(bd.methods)) #This number is not 1, if it is 1; try to run in an other kernel\n",
    "if len(bd.methods)==1:\n",
    "    print('You have a problem in brightway installation, only one mtehod have been added. Open another kernel and start again')"
   ]
  },
  {
   "cell_type": "markdown",
   "id": "a62f2166",
   "metadata": {},
   "source": [
    "This code is based on IPCC"
   ]
  },
  {
   "cell_type": "code",
   "execution_count": 253,
   "id": "3201b1a9",
   "metadata": {},
   "outputs": [
    {
     "name": "stdout",
     "output_type": "stream",
     "text": [
      "('IPCC 2013', 'climate change', 'global warming potential (GWP100)')\n"
     ]
    }
   ],
   "source": [
    "method1='IPCC 2013' #This is the moethodology for EU ETS, is 2006\n",
    "method2='climate change'\n",
    "method3='global warming potential (GWP100)' #Change if you want another one\n",
    "method_raw=(method1,method2,method3)\n",
    "method_chosen=tuple(x.strip().replace(\"'\", \"\").replace('\"', '') for x in method_raw) #to put in correct format (it has \"\")\n",
    "print(method_chosen) #to confirm it is correct"
   ]
  },
  {
   "cell_type": "markdown",
   "id": "1a9008a0",
   "metadata": {},
   "source": [
    "To calculate equivalent CO2, using brightway"
   ]
  },
  {
   "cell_type": "code",
   "execution_count": 254,
   "id": "3d2dd14c",
   "metadata": {},
   "outputs": [],
   "source": [
    "co2_flows = [act for act in bd.Database('biosphere3') if 'carbon dioxide, fossil' in act['name'].lower()] #To select the key for emissions\n",
    "co2_key = co2_flows[0].key \n",
    "n2o_flows = [act for act in bd.Database('biosphere3') if 'dinitrogen monoxide' in act['name'].lower()]\n",
    "n2o_key = n2o_flows[0].key \n",
    "ch4_flows = [act for act in bd.Database('biosphere3') if 'methane, fossil' in act['name'].lower()]\n",
    "ch4_key = ch4_flows[0].key \n"
   ]
  },
  {
   "cell_type": "markdown",
   "id": "f865c72f",
   "metadata": {},
   "source": [
    "Obtain transport emissions"
   ]
  },
  {
   "cell_type": "code",
   "execution_count": 284,
   "id": "324d5cab",
   "metadata": {},
   "outputs": [],
   "source": [
    "climate_change_mining=impact_mining.iloc[:,:3].T\n",
    "impact_boats_c_mining=climate_change_mining.xs(\"Sea and coastal water transportation services\", level=\"sector\", axis=1)\n",
    "impact_trucks_c_mining=climate_change_mining.xs(\"Other land transportation services\", level=\"sector\", axis=1)\n",
    "\n",
    "climate_change_metal=impact_metal.iloc[:,:3].T\n",
    "impact_boats_c_metal=climate_change_metal.xs(\"Sea and coastal water transportation services\", level=\"sector\", axis=1)\n",
    "impact_trucks_c_metal=climate_change_metal.xs(\"Other land transportation services\", level=\"sector\", axis=1)"
   ]
  },
  {
   "cell_type": "markdown",
   "id": "6d2769d5",
   "metadata": {},
   "source": [
    "## Boat transport"
   ]
  },
  {
   "cell_type": "markdown",
   "id": "d4d681fa",
   "metadata": {},
   "source": [
    "Only CO2"
   ]
  },
  {
   "cell_type": "code",
   "execution_count": 285,
   "id": "193f42d1",
   "metadata": {},
   "outputs": [],
   "source": [
    "M_eq_boats_2_mining=impact_boats_c_mining.iloc[0] \n",
    "M_eq_boats_2_mining.columns=[\"CO2-eq\"] #To name the columns\n",
    "\n",
    "M_eq_boats_2_metal=impact_boats_c_metal.iloc[0] \n",
    "M_eq_boats_2_metal.columns=[\"CO2-eq\"] #To name the columns"
   ]
  },
  {
   "cell_type": "markdown",
   "id": "46f72ad7",
   "metadata": {},
   "source": [
    "CO2, N2O, CH4"
   ]
  },
  {
   "cell_type": "code",
   "execution_count": 286,
   "id": "4edc3792",
   "metadata": {},
   "outputs": [
    {
     "name": "stdout",
     "output_type": "stream",
     "text": [
      "AU\n",
      "{'name': 'process_1', 'exchanges': [{'input': ('Emissions', 'process_1'), 'amount': 1, 'type': 'production'}, {'input': ('biosphere3', 'aa7cac3a-3625-41d4-bc54-33e2cf11ec46'), 'amount': 0.011302835050500452, 'type': 'biosphere', 'location': 'AU'}, {'input': ('biosphere3', 'afd6d670-bbb0-4625-9730-04088a5b035e'), 'amount': 1.9563341944685305e-07, 'type': 'biosphere', 'location': 'AU'}, {'input': ('biosphere3', '70ef743b-3ed5-4a6d-b192-fb6d62378555'), 'amount': 1.0163168113961141e-06, 'type': 'biosphere', 'location': 'AU'}]}\n",
      "17:40:53+0200 [warning  ] Not able to determine geocollections for all datasets. This database is not ready for regionalization.\n"
     ]
    },
    {
     "name": "stderr",
     "output_type": "stream",
     "text": [
      "100%|██████████| 1/1 [00:00<00:00, 461.37it/s]\n"
     ]
    },
    {
     "name": "stdout",
     "output_type": "stream",
     "text": [
      "17:40:53+0200 [info     ] Vacuuming database            \n",
      "AT\n",
      "{'name': 'process_2', 'exchanges': [{'input': ('Emissions', 'process_2'), 'amount': 1, 'type': 'production'}, {'input': ('biosphere3', 'aa7cac3a-3625-41d4-bc54-33e2cf11ec46'), 'amount': 0.001008633454674418, 'type': 'biosphere', 'location': 'AT'}, {'input': ('biosphere3', 'afd6d670-bbb0-4625-9730-04088a5b035e'), 'amount': 1.7364038625455956e-08, 'type': 'biosphere', 'location': 'AT'}, {'input': ('biosphere3', '70ef743b-3ed5-4a6d-b192-fb6d62378555'), 'amount': 9.169019000396009e-08, 'type': 'biosphere', 'location': 'AT'}]}\n",
      "17:40:54+0200 [warning  ] Not able to determine geocollections for all datasets. This database is not ready for regionalization.\n"
     ]
    },
    {
     "name": "stderr",
     "output_type": "stream",
     "text": [
      "100%|██████████| 1/1 [00:00<?, ?it/s]\n"
     ]
    },
    {
     "name": "stdout",
     "output_type": "stream",
     "text": [
      "17:40:54+0200 [info     ] Vacuuming database            \n",
      "BE\n",
      "{'name': 'process_3', 'exchanges': [{'input': ('Emissions', 'process_3'), 'amount': 1, 'type': 'production'}, {'input': ('biosphere3', 'aa7cac3a-3625-41d4-bc54-33e2cf11ec46'), 'amount': 0.08802632886978394, 'type': 'biosphere', 'location': 'BE'}, {'input': ('biosphere3', 'afd6d670-bbb0-4625-9730-04088a5b035e'), 'amount': 1.475706236609188e-06, 'type': 'biosphere', 'location': 'BE'}, {'input': ('biosphere3', '70ef743b-3ed5-4a6d-b192-fb6d62378555'), 'amount': 7.976434147754152e-06, 'type': 'biosphere', 'location': 'BE'}]}\n",
      "17:40:54+0200 [warning  ] Not able to determine geocollections for all datasets. This database is not ready for regionalization.\n"
     ]
    },
    {
     "name": "stderr",
     "output_type": "stream",
     "text": [
      "100%|██████████| 1/1 [00:00<?, ?it/s]\n"
     ]
    },
    {
     "name": "stdout",
     "output_type": "stream",
     "text": [
      "17:40:54+0200 [info     ] Vacuuming database            \n",
      "BR\n",
      "{'name': 'process_4', 'exchanges': [{'input': ('Emissions', 'process_4'), 'amount': 1, 'type': 'production'}, {'input': ('biosphere3', 'aa7cac3a-3625-41d4-bc54-33e2cf11ec46'), 'amount': 0.02171863010365817, 'type': 'biosphere', 'location': 'BR'}, {'input': ('biosphere3', 'afd6d670-bbb0-4625-9730-04088a5b035e'), 'amount': 3.8260136552696485e-07, 'type': 'biosphere', 'location': 'BR'}, {'input': ('biosphere3', '70ef743b-3ed5-4a6d-b192-fb6d62378555'), 'amount': 1.9293772781130807e-06, 'type': 'biosphere', 'location': 'BR'}]}\n",
      "17:40:55+0200 [warning  ] Not able to determine geocollections for all datasets. This database is not ready for regionalization.\n"
     ]
    },
    {
     "name": "stderr",
     "output_type": "stream",
     "text": [
      "100%|██████████| 1/1 [00:00<?, ?it/s]\n"
     ]
    },
    {
     "name": "stdout",
     "output_type": "stream",
     "text": [
      "17:40:55+0200 [info     ] Vacuuming database            \n",
      "BG\n",
      "{'name': 'process_5', 'exchanges': [{'input': ('Emissions', 'process_5'), 'amount': 1, 'type': 'production'}, {'input': ('biosphere3', 'aa7cac3a-3625-41d4-bc54-33e2cf11ec46'), 'amount': 0.005679084003210876, 'type': 'biosphere', 'location': 'BG'}, {'input': ('biosphere3', 'afd6d670-bbb0-4625-9730-04088a5b035e'), 'amount': 9.806035416600659e-08, 'type': 'biosphere', 'location': 'BG'}, {'input': ('biosphere3', '70ef743b-3ed5-4a6d-b192-fb6d62378555'), 'amount': 5.134167481772196e-07, 'type': 'biosphere', 'location': 'BG'}]}\n",
      "17:40:55+0200 [warning  ] Not able to determine geocollections for all datasets. This database is not ready for regionalization.\n"
     ]
    },
    {
     "name": "stderr",
     "output_type": "stream",
     "text": [
      "100%|██████████| 1/1 [00:00<?, ?it/s]\n"
     ]
    },
    {
     "name": "stdout",
     "output_type": "stream",
     "text": [
      "17:40:55+0200 [info     ] Vacuuming database            \n",
      "CA\n",
      "{'name': 'process_6', 'exchanges': [{'input': ('Emissions', 'process_6'), 'amount': 1, 'type': 'production'}, {'input': ('biosphere3', 'aa7cac3a-3625-41d4-bc54-33e2cf11ec46'), 'amount': 0.09699829690200643, 'type': 'biosphere', 'location': 'CA'}, {'input': ('biosphere3', 'afd6d670-bbb0-4625-9730-04088a5b035e'), 'amount': 1.6839877951244634e-06, 'type': 'biosphere', 'location': 'CA'}, {'input': ('biosphere3', '70ef743b-3ed5-4a6d-b192-fb6d62378555'), 'amount': 8.77619187915901e-06, 'type': 'biosphere', 'location': 'CA'}]}\n",
      "17:40:55+0200 [warning  ] Not able to determine geocollections for all datasets. This database is not ready for regionalization.\n"
     ]
    },
    {
     "name": "stderr",
     "output_type": "stream",
     "text": [
      "100%|██████████| 1/1 [00:00<00:00, 999.83it/s]\n"
     ]
    },
    {
     "name": "stdout",
     "output_type": "stream",
     "text": [
      "17:40:55+0200 [info     ] Vacuuming database            \n",
      "CN\n",
      "{'name': 'process_7', 'exchanges': [{'input': ('Emissions', 'process_7'), 'amount': 1, 'type': 'production'}, {'input': ('biosphere3', 'aa7cac3a-3625-41d4-bc54-33e2cf11ec46'), 'amount': 0.7240001592203038, 'type': 'biosphere', 'location': 'CN'}, {'input': ('biosphere3', 'afd6d670-bbb0-4625-9730-04088a5b035e'), 'amount': 1.2480103893245936e-05, 'type': 'biosphere', 'location': 'CN'}, {'input': ('biosphere3', '70ef743b-3ed5-4a6d-b192-fb6d62378555'), 'amount': 6.581506716138497e-05, 'type': 'biosphere', 'location': 'CN'}]}\n",
      "17:40:56+0200 [warning  ] Not able to determine geocollections for all datasets. This database is not ready for regionalization.\n"
     ]
    },
    {
     "name": "stderr",
     "output_type": "stream",
     "text": [
      "100%|██████████| 1/1 [00:00<00:00, 998.64it/s]\n"
     ]
    },
    {
     "name": "stdout",
     "output_type": "stream",
     "text": [
      "17:40:56+0200 [info     ] Vacuuming database            \n",
      "CY\n",
      "{'name': 'process_8', 'exchanges': [{'input': ('Emissions', 'process_8'), 'amount': 1, 'type': 'production'}, {'input': ('biosphere3', 'aa7cac3a-3625-41d4-bc54-33e2cf11ec46'), 'amount': 0.015283419954526702, 'type': 'biosphere', 'location': 'CY'}, {'input': ('biosphere3', 'afd6d670-bbb0-4625-9730-04088a5b035e'), 'amount': 2.4472804420436665e-07, 'type': 'biosphere', 'location': 'CY'}, {'input': ('biosphere3', '70ef743b-3ed5-4a6d-b192-fb6d62378555'), 'amount': 1.3826490823180849e-06, 'type': 'biosphere', 'location': 'CY'}]}\n",
      "17:40:57+0200 [warning  ] Not able to determine geocollections for all datasets. This database is not ready for regionalization.\n"
     ]
    },
    {
     "name": "stderr",
     "output_type": "stream",
     "text": [
      "100%|██████████| 1/1 [00:00<?, ?it/s]\n"
     ]
    },
    {
     "name": "stdout",
     "output_type": "stream",
     "text": [
      "17:40:57+0200 [info     ] Vacuuming database            \n",
      "CZ\n",
      "{'name': 'process_9', 'exchanges': [{'input': ('Emissions', 'process_9'), 'amount': 1, 'type': 'production'}, {'input': ('biosphere3', 'aa7cac3a-3625-41d4-bc54-33e2cf11ec46'), 'amount': 0.00019367743620638024, 'type': 'biosphere', 'location': 'CZ'}, {'input': ('biosphere3', 'afd6d670-bbb0-4625-9730-04088a5b035e'), 'amount': 3.4059930078018197e-09, 'type': 'biosphere', 'location': 'CZ'}, {'input': ('biosphere3', '70ef743b-3ed5-4a6d-b192-fb6d62378555'), 'amount': 1.7193090858116628e-08, 'type': 'biosphere', 'location': 'CZ'}]}\n",
      "17:40:57+0200 [warning  ] Not able to determine geocollections for all datasets. This database is not ready for regionalization.\n"
     ]
    },
    {
     "name": "stderr",
     "output_type": "stream",
     "text": [
      "100%|██████████| 1/1 [00:00<00:00, 1001.27it/s]\n"
     ]
    },
    {
     "name": "stdout",
     "output_type": "stream",
     "text": [
      "17:40:57+0200 [info     ] Vacuuming database            \n",
      "DK\n",
      "{'name': 'process_10', 'exchanges': [{'input': ('Emissions', 'process_10'), 'amount': 1, 'type': 'production'}, {'input': ('biosphere3', 'aa7cac3a-3625-41d4-bc54-33e2cf11ec46'), 'amount': 0.2090152022336822, 'type': 'biosphere', 'location': 'DK'}, {'input': ('biosphere3', 'afd6d670-bbb0-4625-9730-04088a5b035e'), 'amount': 3.6250000890019052e-06, 'type': 'biosphere', 'location': 'DK'}, {'input': ('biosphere3', '70ef743b-3ed5-4a6d-b192-fb6d62378555'), 'amount': 1.8944795564170643e-05, 'type': 'biosphere', 'location': 'DK'}]}\n",
      "17:40:58+0200 [warning  ] Not able to determine geocollections for all datasets. This database is not ready for regionalization.\n"
     ]
    },
    {
     "name": "stderr",
     "output_type": "stream",
     "text": [
      "100%|██████████| 1/1 [00:00<?, ?it/s]\n"
     ]
    },
    {
     "name": "stdout",
     "output_type": "stream",
     "text": [
      "17:40:58+0200 [info     ] Vacuuming database            \n",
      "EE\n",
      "{'name': 'process_11', 'exchanges': [{'input': ('Emissions', 'process_11'), 'amount': 1, 'type': 'production'}, {'input': ('biosphere3', 'aa7cac3a-3625-41d4-bc54-33e2cf11ec46'), 'amount': 0.017234134187632713, 'type': 'biosphere', 'location': 'EE'}, {'input': ('biosphere3', 'afd6d670-bbb0-4625-9730-04088a5b035e'), 'amount': 2.966062254757515e-07, 'type': 'biosphere', 'location': 'EE'}, {'input': ('biosphere3', '70ef743b-3ed5-4a6d-b192-fb6d62378555'), 'amount': 1.5652340991879875e-06, 'type': 'biosphere', 'location': 'EE'}]}\n",
      "17:40:58+0200 [warning  ] Not able to determine geocollections for all datasets. This database is not ready for regionalization.\n"
     ]
    },
    {
     "name": "stderr",
     "output_type": "stream",
     "text": [
      "100%|██████████| 1/1 [00:00<?, ?it/s]\n"
     ]
    },
    {
     "name": "stdout",
     "output_type": "stream",
     "text": [
      "17:40:58+0200 [info     ] Vacuuming database            \n",
      "FI\n",
      "{'name': 'process_12', 'exchanges': [{'input': ('Emissions', 'process_12'), 'amount': 1, 'type': 'production'}, {'input': ('biosphere3', 'aa7cac3a-3625-41d4-bc54-33e2cf11ec46'), 'amount': 0.03299271582446249, 'type': 'biosphere', 'location': 'FI'}, {'input': ('biosphere3', 'afd6d670-bbb0-4625-9730-04088a5b035e'), 'amount': 5.658044281562585e-07, 'type': 'biosphere', 'location': 'FI'}, {'input': ('biosphere3', '70ef743b-3ed5-4a6d-b192-fb6d62378555'), 'amount': 2.985804180990032e-06, 'type': 'biosphere', 'location': 'FI'}]}\n",
      "17:40:58+0200 [warning  ] Not able to determine geocollections for all datasets. This database is not ready for regionalization.\n"
     ]
    },
    {
     "name": "stderr",
     "output_type": "stream",
     "text": [
      "100%|██████████| 1/1 [00:00<?, ?it/s]\n"
     ]
    },
    {
     "name": "stdout",
     "output_type": "stream",
     "text": [
      "17:40:58+0200 [info     ] Vacuuming database            \n",
      "FR\n",
      "{'name': 'process_13', 'exchanges': [{'input': ('Emissions', 'process_13'), 'amount': 1, 'type': 'production'}, {'input': ('biosphere3', 'aa7cac3a-3625-41d4-bc54-33e2cf11ec46'), 'amount': 0.04744182856059701, 'type': 'biosphere', 'location': 'FR'}, {'input': ('biosphere3', 'afd6d670-bbb0-4625-9730-04088a5b035e'), 'amount': 8.571909894995536e-07, 'type': 'biosphere', 'location': 'FR'}, {'input': ('biosphere3', '70ef743b-3ed5-4a6d-b192-fb6d62378555'), 'amount': 4.300409617740196e-06, 'type': 'biosphere', 'location': 'FR'}]}\n",
      "17:40:59+0200 [warning  ] Not able to determine geocollections for all datasets. This database is not ready for regionalization.\n"
     ]
    },
    {
     "name": "stderr",
     "output_type": "stream",
     "text": [
      "100%|██████████| 1/1 [00:00<?, ?it/s]\n"
     ]
    },
    {
     "name": "stdout",
     "output_type": "stream",
     "text": [
      "17:40:59+0200 [info     ] Vacuuming database            \n",
      "DE\n",
      "{'name': 'process_14', 'exchanges': [{'input': ('Emissions', 'process_14'), 'amount': 1, 'type': 'production'}, {'input': ('biosphere3', 'aa7cac3a-3625-41d4-bc54-33e2cf11ec46'), 'amount': 1.9120190869673004, 'type': 'biosphere', 'location': 'DE'}, {'input': ('biosphere3', 'afd6d670-bbb0-4625-9730-04088a5b035e'), 'amount': 3.067009457368173e-05, 'type': 'biosphere', 'location': 'DE'}, {'input': ('biosphere3', '70ef743b-3ed5-4a6d-b192-fb6d62378555'), 'amount': 0.00017303202064016557, 'type': 'biosphere', 'location': 'DE'}]}\n",
      "17:40:59+0200 [warning  ] Not able to determine geocollections for all datasets. This database is not ready for regionalization.\n"
     ]
    },
    {
     "name": "stderr",
     "output_type": "stream",
     "text": [
      "100%|██████████| 1/1 [00:00<00:00, 1000.55it/s]\n"
     ]
    },
    {
     "name": "stdout",
     "output_type": "stream",
     "text": [
      "17:40:59+0200 [info     ] Vacuuming database            \n",
      "GR\n",
      "{'name': 'process_15', 'exchanges': [{'input': ('Emissions', 'process_15'), 'amount': 1, 'type': 'production'}, {'input': ('biosphere3', 'aa7cac3a-3625-41d4-bc54-33e2cf11ec46'), 'amount': 0.9370572723607927, 'type': 'biosphere', 'location': 'GR'}, {'input': ('biosphere3', 'afd6d670-bbb0-4625-9730-04088a5b035e'), 'amount': 1.5032949470427918e-05, 'type': 'biosphere', 'location': 'GR'}, {'input': ('biosphere3', '70ef743b-3ed5-4a6d-b192-fb6d62378555'), 'amount': 8.478700913810386e-05, 'type': 'biosphere', 'location': 'GR'}]}\n",
      "17:41:00+0200 [warning  ] Not able to determine geocollections for all datasets. This database is not ready for regionalization.\n"
     ]
    },
    {
     "name": "stderr",
     "output_type": "stream",
     "text": [
      "100%|██████████| 1/1 [00:00<?, ?it/s]\n"
     ]
    },
    {
     "name": "stdout",
     "output_type": "stream",
     "text": [
      "17:41:00+0200 [info     ] Vacuuming database            \n",
      "HU\n",
      "{'name': 'process_16', 'exchanges': [{'input': ('Emissions', 'process_16'), 'amount': 1, 'type': 'production'}, {'input': ('biosphere3', 'aa7cac3a-3625-41d4-bc54-33e2cf11ec46'), 'amount': 3.735335900605989e-06, 'type': 'biosphere', 'location': 'HU'}, {'input': ('biosphere3', 'afd6d670-bbb0-4625-9730-04088a5b035e'), 'amount': 8.355654819906734e-11, 'type': 'biosphere', 'location': 'HU'}, {'input': ('biosphere3', '70ef743b-3ed5-4a6d-b192-fb6d62378555'), 'amount': 1.6126643713412047e-10, 'type': 'biosphere', 'location': 'HU'}]}\n",
      "17:41:00+0200 [warning  ] Not able to determine geocollections for all datasets. This database is not ready for regionalization.\n"
     ]
    },
    {
     "name": "stderr",
     "output_type": "stream",
     "text": [
      "100%|██████████| 1/1 [00:00<?, ?it/s]\n"
     ]
    },
    {
     "name": "stdout",
     "output_type": "stream",
     "text": [
      "17:41:00+0200 [info     ] Vacuuming database            \n",
      "HR\n",
      "{'name': 'process_17', 'exchanges': [{'input': ('Emissions', 'process_17'), 'amount': 1, 'type': 'production'}, {'input': ('biosphere3', 'aa7cac3a-3625-41d4-bc54-33e2cf11ec46'), 'amount': 0.024793236609176945, 'type': 'biosphere', 'location': 'HR'}, {'input': ('biosphere3', 'afd6d670-bbb0-4625-9730-04088a5b035e'), 'amount': 4.299137153952574e-07, 'type': 'biosphere', 'location': 'HR'}, {'input': ('biosphere3', '70ef743b-3ed5-4a6d-b192-fb6d62378555'), 'amount': 2.2443699240183686e-06, 'type': 'biosphere', 'location': 'HR'}]}\n",
      "17:41:00+0200 [warning  ] Not able to determine geocollections for all datasets. This database is not ready for regionalization.\n"
     ]
    },
    {
     "name": "stderr",
     "output_type": "stream",
     "text": [
      "100%|██████████| 1/1 [00:00<?, ?it/s]\n"
     ]
    },
    {
     "name": "stdout",
     "output_type": "stream",
     "text": [
      "17:41:00+0200 [info     ] Vacuuming database            \n",
      "IN\n",
      "{'name': 'process_18', 'exchanges': [{'input': ('Emissions', 'process_18'), 'amount': 1, 'type': 'production'}, {'input': ('biosphere3', 'aa7cac3a-3625-41d4-bc54-33e2cf11ec46'), 'amount': 0.06989037494427752, 'type': 'biosphere', 'location': 'IN'}, {'input': ('biosphere3', 'afd6d670-bbb0-4625-9730-04088a5b035e'), 'amount': 1.2278316028715348e-06, 'type': 'biosphere', 'location': 'IN'}, {'input': ('biosphere3', '70ef743b-3ed5-4a6d-b192-fb6d62378555'), 'amount': 6.3291930116563985e-06, 'type': 'biosphere', 'location': 'IN'}]}\n",
      "17:41:01+0200 [warning  ] Not able to determine geocollections for all datasets. This database is not ready for regionalization.\n"
     ]
    },
    {
     "name": "stderr",
     "output_type": "stream",
     "text": [
      "100%|██████████| 1/1 [00:00<?, ?it/s]\n"
     ]
    },
    {
     "name": "stdout",
     "output_type": "stream",
     "text": [
      "17:41:01+0200 [info     ] Vacuuming database            \n",
      "ID\n",
      "{'name': 'process_19', 'exchanges': [{'input': ('Emissions', 'process_19'), 'amount': 1, 'type': 'production'}, {'input': ('biosphere3', 'aa7cac3a-3625-41d4-bc54-33e2cf11ec46'), 'amount': 0.0203804837036631, 'type': 'biosphere', 'location': 'ID'}, {'input': ('biosphere3', 'afd6d670-bbb0-4625-9730-04088a5b035e'), 'amount': 4.843384321303354e-07, 'type': 'biosphere', 'location': 'ID'}, {'input': ('biosphere3', '70ef743b-3ed5-4a6d-b192-fb6d62378555'), 'amount': 1.8483132783267955e-06, 'type': 'biosphere', 'location': 'ID'}]}\n",
      "17:41:01+0200 [warning  ] Not able to determine geocollections for all datasets. This database is not ready for regionalization.\n"
     ]
    },
    {
     "name": "stderr",
     "output_type": "stream",
     "text": [
      "100%|██████████| 1/1 [00:00<00:00, 996.75it/s]\n"
     ]
    },
    {
     "name": "stdout",
     "output_type": "stream",
     "text": [
      "17:41:01+0200 [info     ] Vacuuming database            \n",
      "IE\n",
      "{'name': 'process_20', 'exchanges': [{'input': ('Emissions', 'process_20'), 'amount': 1, 'type': 'production'}, {'input': ('biosphere3', 'aa7cac3a-3625-41d4-bc54-33e2cf11ec46'), 'amount': 0.005008614776687263, 'type': 'biosphere', 'location': 'IE'}, {'input': ('biosphere3', 'afd6d670-bbb0-4625-9730-04088a5b035e'), 'amount': 8.664908252950874e-08, 'type': 'biosphere', 'location': 'IE'}, {'input': ('biosphere3', '70ef743b-3ed5-4a6d-b192-fb6d62378555'), 'amount': 4.5229177883525075e-07, 'type': 'biosphere', 'location': 'IE'}]}\n",
      "17:41:02+0200 [warning  ] Not able to determine geocollections for all datasets. This database is not ready for regionalization.\n"
     ]
    },
    {
     "name": "stderr",
     "output_type": "stream",
     "text": [
      "100%|██████████| 1/1 [00:00<?, ?it/s]\n"
     ]
    },
    {
     "name": "stdout",
     "output_type": "stream",
     "text": [
      "17:41:02+0200 [info     ] Vacuuming database            \n",
      "IT\n",
      "{'name': 'process_21', 'exchanges': [{'input': ('Emissions', 'process_21'), 'amount': 1, 'type': 'production'}, {'input': ('biosphere3', 'aa7cac3a-3625-41d4-bc54-33e2cf11ec46'), 'amount': 0.16800235666133806, 'type': 'biosphere', 'location': 'IT'}, {'input': ('biosphere3', 'afd6d670-bbb0-4625-9730-04088a5b035e'), 'amount': 2.88011376340494e-06, 'type': 'biosphere', 'location': 'IT'}, {'input': ('biosphere3', '70ef743b-3ed5-4a6d-b192-fb6d62378555'), 'amount': 1.5265961027245712e-05, 'type': 'biosphere', 'location': 'IT'}]}\n",
      "17:41:02+0200 [warning  ] Not able to determine geocollections for all datasets. This database is not ready for regionalization.\n"
     ]
    },
    {
     "name": "stderr",
     "output_type": "stream",
     "text": [
      "100%|██████████| 1/1 [00:00<?, ?it/s]\n"
     ]
    },
    {
     "name": "stdout",
     "output_type": "stream",
     "text": [
      "17:41:02+0200 [info     ] Vacuuming database            \n",
      "JP\n",
      "{'name': 'process_22', 'exchanges': [{'input': ('Emissions', 'process_22'), 'amount': 1, 'type': 'production'}, {'input': ('biosphere3', 'aa7cac3a-3625-41d4-bc54-33e2cf11ec46'), 'amount': 0.4773308939723844, 'type': 'biosphere', 'location': 'JP'}, {'input': ('biosphere3', 'afd6d670-bbb0-4625-9730-04088a5b035e'), 'amount': 8.139748341511896e-06, 'type': 'biosphere', 'location': 'JP'}, {'input': ('biosphere3', '70ef743b-3ed5-4a6d-b192-fb6d62378555'), 'amount': 4.3374629050711004e-05, 'type': 'biosphere', 'location': 'JP'}]}\n",
      "17:41:03+0200 [warning  ] Not able to determine geocollections for all datasets. This database is not ready for regionalization.\n"
     ]
    },
    {
     "name": "stderr",
     "output_type": "stream",
     "text": [
      "100%|██████████| 1/1 [00:00<?, ?it/s]\n"
     ]
    },
    {
     "name": "stdout",
     "output_type": "stream",
     "text": [
      "17:41:03+0200 [info     ] Vacuuming database            \n",
      "LV\n",
      "{'name': 'process_23', 'exchanges': [{'input': ('Emissions', 'process_23'), 'amount': 1, 'type': 'production'}, {'input': ('biosphere3', 'aa7cac3a-3625-41d4-bc54-33e2cf11ec46'), 'amount': 0.0022872507559313915, 'type': 'biosphere', 'location': 'LV'}, {'input': ('biosphere3', 'afd6d670-bbb0-4625-9730-04088a5b035e'), 'amount': 5.0731320357414686e-08, 'type': 'biosphere', 'location': 'LV'}, {'input': ('biosphere3', '70ef743b-3ed5-4a6d-b192-fb6d62378555'), 'amount': 2.1324103137924794e-07, 'type': 'biosphere', 'location': 'LV'}]}\n",
      "17:41:03+0200 [warning  ] Not able to determine geocollections for all datasets. This database is not ready for regionalization.\n"
     ]
    },
    {
     "name": "stderr",
     "output_type": "stream",
     "text": [
      "100%|██████████| 1/1 [00:00<?, ?it/s]\n"
     ]
    },
    {
     "name": "stdout",
     "output_type": "stream",
     "text": [
      "17:41:03+0200 [info     ] Vacuuming database            \n",
      "LT\n",
      "{'name': 'process_24', 'exchanges': [{'input': ('Emissions', 'process_24'), 'amount': 1, 'type': 'production'}, {'input': ('biosphere3', 'aa7cac3a-3625-41d4-bc54-33e2cf11ec46'), 'amount': 0.010525929076457245, 'type': 'biosphere', 'location': 'LT'}, {'input': ('biosphere3', 'afd6d670-bbb0-4625-9730-04088a5b035e'), 'amount': 2.537079282409745e-07, 'type': 'biosphere', 'location': 'LT'}, {'input': ('biosphere3', '70ef743b-3ed5-4a6d-b192-fb6d62378555'), 'amount': 9.758319946030905e-07, 'type': 'biosphere', 'location': 'LT'}]}\n",
      "17:41:03+0200 [warning  ] Not able to determine geocollections for all datasets. This database is not ready for regionalization.\n"
     ]
    },
    {
     "name": "stderr",
     "output_type": "stream",
     "text": [
      "100%|██████████| 1/1 [00:00<?, ?it/s]\n"
     ]
    },
    {
     "name": "stdout",
     "output_type": "stream",
     "text": [
      "17:41:03+0200 [info     ] Vacuuming database            \n",
      "LU\n",
      "{'name': 'process_25', 'exchanges': [{'input': ('Emissions', 'process_25'), 'amount': 1, 'type': 'production'}, {'input': ('biosphere3', 'aa7cac3a-3625-41d4-bc54-33e2cf11ec46'), 'amount': 0.0021026398977679046, 'type': 'biosphere', 'location': 'LU'}, {'input': ('biosphere3', 'afd6d670-bbb0-4625-9730-04088a5b035e'), 'amount': 3.367147832100351e-08, 'type': 'biosphere', 'location': 'LU'}, {'input': ('biosphere3', '70ef743b-3ed5-4a6d-b192-fb6d62378555'), 'amount': 1.9020255902188862e-07, 'type': 'biosphere', 'location': 'LU'}]}\n",
      "17:41:04+0200 [warning  ] Not able to determine geocollections for all datasets. This database is not ready for regionalization.\n"
     ]
    },
    {
     "name": "stderr",
     "output_type": "stream",
     "text": [
      "100%|██████████| 1/1 [00:00<?, ?it/s]\n"
     ]
    },
    {
     "name": "stdout",
     "output_type": "stream",
     "text": [
      "17:41:04+0200 [info     ] Vacuuming database            \n",
      "MT\n",
      "{'name': 'process_26', 'exchanges': [{'input': ('Emissions', 'process_26'), 'amount': 1, 'type': 'production'}, {'input': ('biosphere3', 'aa7cac3a-3625-41d4-bc54-33e2cf11ec46'), 'amount': 0.00017897201602003613, 'type': 'biosphere', 'location': 'MT'}, {'input': ('biosphere3', 'afd6d670-bbb0-4625-9730-04088a5b035e'), 'amount': 4.326647044578712e-09, 'type': 'biosphere', 'location': 'MT'}, {'input': ('biosphere3', '70ef743b-3ed5-4a6d-b192-fb6d62378555'), 'amount': 1.667029786555255e-08, 'type': 'biosphere', 'location': 'MT'}]}\n",
      "17:41:04+0200 [warning  ] Not able to determine geocollections for all datasets. This database is not ready for regionalization.\n"
     ]
    },
    {
     "name": "stderr",
     "output_type": "stream",
     "text": [
      "100%|██████████| 1/1 [00:00<?, ?it/s]\n"
     ]
    },
    {
     "name": "stdout",
     "output_type": "stream",
     "text": [
      "17:41:04+0200 [info     ] Vacuuming database            \n",
      "MX\n",
      "{'name': 'process_27', 'exchanges': [{'input': ('Emissions', 'process_27'), 'amount': 1, 'type': 'production'}, {'input': ('biosphere3', 'aa7cac3a-3625-41d4-bc54-33e2cf11ec46'), 'amount': 0.008755909648787804, 'type': 'biosphere', 'location': 'MX'}, {'input': ('biosphere3', 'afd6d670-bbb0-4625-9730-04088a5b035e'), 'amount': 1.5241514217292052e-07, 'type': 'biosphere', 'location': 'MX'}, {'input': ('biosphere3', '70ef743b-3ed5-4a6d-b192-fb6d62378555'), 'amount': 7.931183598195046e-07, 'type': 'biosphere', 'location': 'MX'}]}\n",
      "17:41:05+0200 [warning  ] Not able to determine geocollections for all datasets. This database is not ready for regionalization.\n"
     ]
    },
    {
     "name": "stderr",
     "output_type": "stream",
     "text": [
      "100%|██████████| 1/1 [00:00<00:00, 1020.76it/s]\n"
     ]
    },
    {
     "name": "stdout",
     "output_type": "stream",
     "text": [
      "17:41:05+0200 [info     ] Vacuuming database            \n",
      "NL\n",
      "{'name': 'process_28', 'exchanges': [{'input': ('Emissions', 'process_28'), 'amount': 1, 'type': 'production'}, {'input': ('biosphere3', 'aa7cac3a-3625-41d4-bc54-33e2cf11ec46'), 'amount': 0.10776420065086907, 'type': 'biosphere', 'location': 'NL'}, {'input': ('biosphere3', 'afd6d670-bbb0-4625-9730-04088a5b035e'), 'amount': 1.872763945312841e-06, 'type': 'biosphere', 'location': 'NL'}, {'input': ('biosphere3', '70ef743b-3ed5-4a6d-b192-fb6d62378555'), 'amount': 9.78440719447286e-06, 'type': 'biosphere', 'location': 'NL'}]}\n",
      "17:41:05+0200 [warning  ] Not able to determine geocollections for all datasets. This database is not ready for regionalization.\n"
     ]
    },
    {
     "name": "stderr",
     "output_type": "stream",
     "text": [
      "100%|██████████| 1/1 [00:00<?, ?it/s]\n"
     ]
    },
    {
     "name": "stdout",
     "output_type": "stream",
     "text": [
      "17:41:05+0200 [info     ] Vacuuming database            \n",
      "NO\n",
      "{'name': 'process_29', 'exchanges': [{'input': ('Emissions', 'process_29'), 'amount': 1, 'type': 'production'}, {'input': ('biosphere3', 'aa7cac3a-3625-41d4-bc54-33e2cf11ec46'), 'amount': 0.4359440802724174, 'type': 'biosphere', 'location': 'NO'}, {'input': ('biosphere3', 'afd6d670-bbb0-4625-9730-04088a5b035e'), 'amount': 7.566708207901078e-06, 'type': 'biosphere', 'location': 'NO'}, {'input': ('biosphere3', '70ef743b-3ed5-4a6d-b192-fb6d62378555'), 'amount': 3.9651507385710477e-05, 'type': 'biosphere', 'location': 'NO'}]}\n",
      "17:41:05+0200 [warning  ] Not able to determine geocollections for all datasets. This database is not ready for regionalization.\n"
     ]
    },
    {
     "name": "stderr",
     "output_type": "stream",
     "text": [
      "100%|██████████| 1/1 [00:00<?, ?it/s]\n"
     ]
    },
    {
     "name": "stdout",
     "output_type": "stream",
     "text": [
      "17:41:05+0200 [info     ] Vacuuming database            \n",
      "PL\n",
      "{'name': 'process_30', 'exchanges': [{'input': ('Emissions', 'process_30'), 'amount': 1, 'type': 'production'}, {'input': ('biosphere3', 'aa7cac3a-3625-41d4-bc54-33e2cf11ec46'), 'amount': 0.009847951777992588, 'type': 'biosphere', 'location': 'PL'}, {'input': ('biosphere3', 'afd6d670-bbb0-4625-9730-04088a5b035e'), 'amount': 2.282672591988535e-07, 'type': 'biosphere', 'location': 'PL'}, {'input': ('biosphere3', '70ef743b-3ed5-4a6d-b192-fb6d62378555'), 'amount': 9.31147883383897e-07, 'type': 'biosphere', 'location': 'PL'}]}\n",
      "17:41:06+0200 [warning  ] Not able to determine geocollections for all datasets. This database is not ready for regionalization.\n"
     ]
    },
    {
     "name": "stderr",
     "output_type": "stream",
     "text": [
      "100%|██████████| 1/1 [00:00<00:00, 998.64it/s]\n"
     ]
    },
    {
     "name": "stdout",
     "output_type": "stream",
     "text": [
      "17:41:06+0200 [info     ] Vacuuming database            \n",
      "PT\n",
      "{'name': 'process_31', 'exchanges': [{'input': ('Emissions', 'process_31'), 'amount': 1, 'type': 'production'}, {'input': ('biosphere3', 'aa7cac3a-3625-41d4-bc54-33e2cf11ec46'), 'amount': 0.01309102653000115, 'type': 'biosphere', 'location': 'PT'}, {'input': ('biosphere3', 'afd6d670-bbb0-4625-9730-04088a5b035e'), 'amount': 2.214939621418673e-07, 'type': 'biosphere', 'location': 'PT'}, {'input': ('biosphere3', '70ef743b-3ed5-4a6d-b192-fb6d62378555'), 'amount': 1.1857408202953502e-06, 'type': 'biosphere', 'location': 'PT'}]}\n",
      "17:41:06+0200 [warning  ] Not able to determine geocollections for all datasets. This database is not ready for regionalization.\n"
     ]
    },
    {
     "name": "stderr",
     "output_type": "stream",
     "text": [
      "100%|██████████| 1/1 [00:00<?, ?it/s]\n"
     ]
    },
    {
     "name": "stdout",
     "output_type": "stream",
     "text": [
      "17:41:06+0200 [info     ] Vacuuming database            \n",
      "RO\n",
      "{'name': 'process_32', 'exchanges': [{'input': ('Emissions', 'process_32'), 'amount': 1, 'type': 'production'}, {'input': ('biosphere3', 'aa7cac3a-3625-41d4-bc54-33e2cf11ec46'), 'amount': 0.0011858733817323287, 'type': 'biosphere', 'location': 'RO'}, {'input': ('biosphere3', 'afd6d670-bbb0-4625-9730-04088a5b035e'), 'amount': 2.8859617800767546e-08, 'type': 'biosphere', 'location': 'RO'}, {'input': ('biosphere3', '70ef743b-3ed5-4a6d-b192-fb6d62378555'), 'amount': 1.1109231150097745e-07, 'type': 'biosphere', 'location': 'RO'}]}\n",
      "17:41:07+0200 [warning  ] Not able to determine geocollections for all datasets. This database is not ready for regionalization.\n"
     ]
    },
    {
     "name": "stderr",
     "output_type": "stream",
     "text": [
      "100%|██████████| 1/1 [00:00<?, ?it/s]\n"
     ]
    },
    {
     "name": "stdout",
     "output_type": "stream",
     "text": [
      "17:41:07+0200 [info     ] Vacuuming database            \n",
      "RU\n",
      "{'name': 'process_33', 'exchanges': [{'input': ('Emissions', 'process_33'), 'amount': 1, 'type': 'production'}, {'input': ('biosphere3', 'aa7cac3a-3625-41d4-bc54-33e2cf11ec46'), 'amount': 0.24022057068107522, 'type': 'biosphere', 'location': 'RU'}, {'input': ('biosphere3', 'afd6d670-bbb0-4625-9730-04088a5b035e'), 'amount': 4.1025037420765755e-06, 'type': 'biosphere', 'location': 'RU'}, {'input': ('biosphere3', '70ef743b-3ed5-4a6d-b192-fb6d62378555'), 'amount': 2.1587955184516215e-05, 'type': 'biosphere', 'location': 'RU'}]}\n",
      "17:41:07+0200 [warning  ] Not able to determine geocollections for all datasets. This database is not ready for regionalization.\n"
     ]
    },
    {
     "name": "stderr",
     "output_type": "stream",
     "text": [
      "100%|██████████| 1/1 [00:00<?, ?it/s]\n"
     ]
    },
    {
     "name": "stdout",
     "output_type": "stream",
     "text": [
      "17:41:07+0200 [info     ] Vacuuming database            \n",
      "SK\n",
      "{'name': 'process_34', 'exchanges': [{'input': ('Emissions', 'process_34'), 'amount': 1, 'type': 'production'}, {'input': ('biosphere3', 'aa7cac3a-3625-41d4-bc54-33e2cf11ec46'), 'amount': 8.363587818939262e-05, 'type': 'biosphere', 'location': 'SK'}, {'input': ('biosphere3', 'afd6d670-bbb0-4625-9730-04088a5b035e'), 'amount': 1.6270615231906214e-09, 'type': 'biosphere', 'location': 'SK'}, {'input': ('biosphere3', '70ef743b-3ed5-4a6d-b192-fb6d62378555'), 'amount': 9.581645501142952e-09, 'type': 'biosphere', 'location': 'SK'}]}\n",
      "17:41:07+0200 [warning  ] Not able to determine geocollections for all datasets. This database is not ready for regionalization.\n"
     ]
    },
    {
     "name": "stderr",
     "output_type": "stream",
     "text": [
      "100%|██████████| 1/1 [00:00<?, ?it/s]\n"
     ]
    },
    {
     "name": "stdout",
     "output_type": "stream",
     "text": [
      "17:41:08+0200 [info     ] Vacuuming database            \n",
      "SI\n",
      "{'name': 'process_35', 'exchanges': [{'input': ('Emissions', 'process_35'), 'amount': 1, 'type': 'production'}, {'input': ('biosphere3', 'aa7cac3a-3625-41d4-bc54-33e2cf11ec46'), 'amount': 0.006475637395472479, 'type': 'biosphere', 'location': 'SI'}, {'input': ('biosphere3', 'afd6d670-bbb0-4625-9730-04088a5b035e'), 'amount': 1.1131146709628812e-07, 'type': 'biosphere', 'location': 'SI'}, {'input': ('biosphere3', '70ef743b-3ed5-4a6d-b192-fb6d62378555'), 'amount': 5.878061275504403e-07, 'type': 'biosphere', 'location': 'SI'}]}\n",
      "17:41:08+0200 [warning  ] Not able to determine geocollections for all datasets. This database is not ready for regionalization.\n"
     ]
    },
    {
     "name": "stderr",
     "output_type": "stream",
     "text": [
      "100%|██████████| 1/1 [00:00<?, ?it/s]\n"
     ]
    },
    {
     "name": "stdout",
     "output_type": "stream",
     "text": [
      "17:41:08+0200 [info     ] Vacuuming database            \n",
      "ZA\n",
      "{'name': 'process_36', 'exchanges': [{'input': ('Emissions', 'process_36'), 'amount': 1, 'type': 'production'}, {'input': ('biosphere3', 'aa7cac3a-3625-41d4-bc54-33e2cf11ec46'), 'amount': 0.0022123369328322135, 'type': 'biosphere', 'location': 'ZA'}, {'input': ('biosphere3', 'afd6d670-bbb0-4625-9730-04088a5b035e'), 'amount': 3.8154768524167154e-08, 'type': 'biosphere', 'location': 'ZA'}, {'input': ('biosphere3', '70ef743b-3ed5-4a6d-b192-fb6d62378555'), 'amount': 2.0084827505111374e-07, 'type': 'biosphere', 'location': 'ZA'}]}\n",
      "17:41:08+0200 [warning  ] Not able to determine geocollections for all datasets. This database is not ready for regionalization.\n"
     ]
    },
    {
     "name": "stderr",
     "output_type": "stream",
     "text": [
      "100%|██████████| 1/1 [00:00<?, ?it/s]\n"
     ]
    },
    {
     "name": "stdout",
     "output_type": "stream",
     "text": [
      "17:41:08+0200 [info     ] Vacuuming database            \n",
      "KR\n",
      "{'name': 'process_37', 'exchanges': [{'input': ('Emissions', 'process_37'), 'amount': 1, 'type': 'production'}, {'input': ('biosphere3', 'aa7cac3a-3625-41d4-bc54-33e2cf11ec46'), 'amount': 0.15918213405209405, 'type': 'biosphere', 'location': 'KR'}, {'input': ('biosphere3', 'afd6d670-bbb0-4625-9730-04088a5b035e'), 'amount': 2.5566328986063785e-06, 'type': 'biosphere', 'location': 'KR'}, {'input': ('biosphere3', '70ef743b-3ed5-4a6d-b192-fb6d62378555'), 'amount': 1.4409575428622454e-05, 'type': 'biosphere', 'location': 'KR'}]}\n",
      "17:41:09+0200 [warning  ] Not able to determine geocollections for all datasets. This database is not ready for regionalization.\n"
     ]
    },
    {
     "name": "stderr",
     "output_type": "stream",
     "text": [
      "100%|██████████| 1/1 [00:00<?, ?it/s]\n"
     ]
    },
    {
     "name": "stdout",
     "output_type": "stream",
     "text": [
      "17:41:09+0200 [info     ] Vacuuming database            \n",
      "ES\n",
      "{'name': 'process_38', 'exchanges': [{'input': ('Emissions', 'process_38'), 'amount': 1, 'type': 'production'}, {'input': ('biosphere3', 'aa7cac3a-3625-41d4-bc54-33e2cf11ec46'), 'amount': 0.034250397584027724, 'type': 'biosphere', 'location': 'ES'}, {'input': ('biosphere3', 'afd6d670-bbb0-4625-9730-04088a5b035e'), 'amount': 6.153341340959725e-07, 'type': 'biosphere', 'location': 'ES'}, {'input': ('biosphere3', '70ef743b-3ed5-4a6d-b192-fb6d62378555'), 'amount': 3.115567203658332e-06, 'type': 'biosphere', 'location': 'ES'}]}\n",
      "17:41:10+0200 [warning  ] Not able to determine geocollections for all datasets. This database is not ready for regionalization.\n"
     ]
    },
    {
     "name": "stderr",
     "output_type": "stream",
     "text": [
      "100%|██████████| 1/1 [00:00<?, ?it/s]\n"
     ]
    },
    {
     "name": "stdout",
     "output_type": "stream",
     "text": [
      "17:41:10+0200 [info     ] Vacuuming database            \n",
      "SE\n",
      "{'name': 'process_39', 'exchanges': [{'input': ('Emissions', 'process_39'), 'amount': 1, 'type': 'production'}, {'input': ('biosphere3', 'aa7cac3a-3625-41d4-bc54-33e2cf11ec46'), 'amount': 0.07119467317484648, 'type': 'biosphere', 'location': 'SE'}, {'input': ('biosphere3', 'afd6d670-bbb0-4625-9730-04088a5b035e'), 'amount': 1.2361813718317916e-06, 'type': 'biosphere', 'location': 'SE'}, {'input': ('biosphere3', '70ef743b-3ed5-4a6d-b192-fb6d62378555'), 'amount': 6.4646269542966064e-06, 'type': 'biosphere', 'location': 'SE'}]}\n",
      "17:41:10+0200 [warning  ] Not able to determine geocollections for all datasets. This database is not ready for regionalization.\n"
     ]
    },
    {
     "name": "stderr",
     "output_type": "stream",
     "text": [
      "100%|██████████| 1/1 [00:00<00:00, 999.83it/s]\n"
     ]
    },
    {
     "name": "stdout",
     "output_type": "stream",
     "text": [
      "17:41:10+0200 [info     ] Vacuuming database            \n",
      "CH\n",
      "{'name': 'process_40', 'exchanges': [{'input': ('Emissions', 'process_40'), 'amount': 1, 'type': 'production'}, {'input': ('biosphere3', 'aa7cac3a-3625-41d4-bc54-33e2cf11ec46'), 'amount': 0.030572463549411514, 'type': 'biosphere', 'location': 'CH'}, {'input': ('biosphere3', 'afd6d670-bbb0-4625-9730-04088a5b035e'), 'amount': 5.27213579118762e-07, 'type': 'biosphere', 'location': 'CH'}, {'input': ('biosphere3', '70ef743b-3ed5-4a6d-b192-fb6d62378555'), 'amount': 2.7752674967430187e-06, 'type': 'biosphere', 'location': 'CH'}]}\n",
      "17:41:11+0200 [warning  ] Not able to determine geocollections for all datasets. This database is not ready for regionalization.\n"
     ]
    },
    {
     "name": "stderr",
     "output_type": "stream",
     "text": [
      "100%|██████████| 1/1 [00:00<00:00, 998.17it/s]\n"
     ]
    },
    {
     "name": "stdout",
     "output_type": "stream",
     "text": [
      "17:41:11+0200 [info     ] Vacuuming database            \n",
      "TR\n",
      "{'name': 'process_41', 'exchanges': [{'input': ('Emissions', 'process_41'), 'amount': 1, 'type': 'production'}, {'input': ('biosphere3', 'aa7cac3a-3625-41d4-bc54-33e2cf11ec46'), 'amount': 0.09332314303493908, 'type': 'biosphere', 'location': 'TR'}, {'input': ('biosphere3', 'afd6d670-bbb0-4625-9730-04088a5b035e'), 'amount': 1.614395636366919e-06, 'type': 'biosphere', 'location': 'TR'}, {'input': ('biosphere3', '70ef743b-3ed5-4a6d-b192-fb6d62378555'), 'amount': 8.475164962645212e-06, 'type': 'biosphere', 'location': 'TR'}]}\n",
      "17:41:11+0200 [warning  ] Not able to determine geocollections for all datasets. This database is not ready for regionalization.\n"
     ]
    },
    {
     "name": "stderr",
     "output_type": "stream",
     "text": [
      "100%|██████████| 1/1 [00:00<00:00, 992.73it/s]\n"
     ]
    },
    {
     "name": "stdout",
     "output_type": "stream",
     "text": [
      "17:41:11+0200 [info     ] Vacuuming database            \n",
      "GB\n",
      "{'name': 'process_42', 'exchanges': [{'input': ('Emissions', 'process_42'), 'amount': 1, 'type': 'production'}, {'input': ('biosphere3', 'aa7cac3a-3625-41d4-bc54-33e2cf11ec46'), 'amount': 0.1812045772386849, 'type': 'biosphere', 'location': 'GB'}, {'input': ('biosphere3', 'afd6d670-bbb0-4625-9730-04088a5b035e'), 'amount': 2.965877830433738e-06, 'type': 'biosphere', 'location': 'GB'}, {'input': ('biosphere3', '70ef743b-3ed5-4a6d-b192-fb6d62378555'), 'amount': 1.6411089518736214e-05, 'type': 'biosphere', 'location': 'GB'}]}\n",
      "17:41:12+0200 [warning  ] Not able to determine geocollections for all datasets. This database is not ready for regionalization.\n"
     ]
    },
    {
     "name": "stderr",
     "output_type": "stream",
     "text": [
      "100%|██████████| 1/1 [00:00<?, ?it/s]\n"
     ]
    },
    {
     "name": "stdout",
     "output_type": "stream",
     "text": [
      "17:41:12+0200 [info     ] Vacuuming database            \n",
      "US\n",
      "{'name': 'process_43', 'exchanges': [{'input': ('Emissions', 'process_43'), 'amount': 1, 'type': 'production'}, {'input': ('biosphere3', 'aa7cac3a-3625-41d4-bc54-33e2cf11ec46'), 'amount': 0.1402124688110764, 'type': 'biosphere', 'location': 'US'}, {'input': ('biosphere3', 'afd6d670-bbb0-4625-9730-04088a5b035e'), 'amount': 2.4116999125892328e-06, 'type': 'biosphere', 'location': 'US'}, {'input': ('biosphere3', '70ef743b-3ed5-4a6d-b192-fb6d62378555'), 'amount': 1.274179390333198e-05, 'type': 'biosphere', 'location': 'US'}]}\n",
      "17:41:12+0200 [warning  ] Not able to determine geocollections for all datasets. This database is not ready for regionalization.\n"
     ]
    },
    {
     "name": "stderr",
     "output_type": "stream",
     "text": [
      "100%|██████████| 1/1 [00:00<?, ?it/s]\n"
     ]
    },
    {
     "name": "stdout",
     "output_type": "stream",
     "text": [
      "17:41:12+0200 [info     ] Vacuuming database            \n",
      "WA\n",
      "{'name': 'process_44', 'exchanges': [{'input': ('Emissions', 'process_44'), 'amount': 1, 'type': 'production'}, {'input': ('biosphere3', 'aa7cac3a-3625-41d4-bc54-33e2cf11ec46'), 'amount': 0.49457988987764495, 'type': 'biosphere', 'location': 'WA'}, {'input': ('biosphere3', 'afd6d670-bbb0-4625-9730-04088a5b035e'), 'amount': 8.708817616118063e-06, 'type': 'biosphere', 'location': 'WA'}, {'input': ('biosphere3', '70ef743b-3ed5-4a6d-b192-fb6d62378555'), 'amount': 4.499365786088937e-05, 'type': 'biosphere', 'location': 'WA'}]}\n",
      "17:41:13+0200 [warning  ] Not able to determine geocollections for all datasets. This database is not ready for regionalization.\n"
     ]
    },
    {
     "name": "stderr",
     "output_type": "stream",
     "text": [
      "100%|██████████| 1/1 [00:00<00:00, 1000.79it/s]\n"
     ]
    },
    {
     "name": "stdout",
     "output_type": "stream",
     "text": [
      "17:41:13+0200 [info     ] Vacuuming database            \n",
      "WL\n",
      "{'name': 'process_45', 'exchanges': [{'input': ('Emissions', 'process_45'), 'amount': 1, 'type': 'production'}, {'input': ('biosphere3', 'aa7cac3a-3625-41d4-bc54-33e2cf11ec46'), 'amount': 0.048694605013267514, 'type': 'biosphere', 'location': 'WL'}, {'input': ('biosphere3', 'afd6d670-bbb0-4625-9730-04088a5b035e'), 'amount': 8.483209814045422e-07, 'type': 'biosphere', 'location': 'WL'}, {'input': ('biosphere3', '70ef743b-3ed5-4a6d-b192-fb6d62378555'), 'amount': 4.377491551230041e-06, 'type': 'biosphere', 'location': 'WL'}]}\n",
      "17:41:14+0200 [warning  ] Not able to determine geocollections for all datasets. This database is not ready for regionalization.\n"
     ]
    },
    {
     "name": "stderr",
     "output_type": "stream",
     "text": [
      "100%|██████████| 1/1 [00:00<?, ?it/s]\n"
     ]
    },
    {
     "name": "stdout",
     "output_type": "stream",
     "text": [
      "17:41:14+0200 [info     ] Vacuuming database            \n",
      "WE\n",
      "{'name': 'process_46', 'exchanges': [{'input': ('Emissions', 'process_46'), 'amount': 1, 'type': 'production'}, {'input': ('biosphere3', 'aa7cac3a-3625-41d4-bc54-33e2cf11ec46'), 'amount': 0.12173333202095382, 'type': 'biosphere', 'location': 'WE'}, {'input': ('biosphere3', 'afd6d670-bbb0-4625-9730-04088a5b035e'), 'amount': 2.102299332095522e-06, 'type': 'biosphere', 'location': 'WE'}, {'input': ('biosphere3', '70ef743b-3ed5-4a6d-b192-fb6d62378555'), 'amount': 1.1018234714886492e-05, 'type': 'biosphere', 'location': 'WE'}]}\n",
      "17:41:15+0200 [warning  ] Not able to determine geocollections for all datasets. This database is not ready for regionalization.\n"
     ]
    },
    {
     "name": "stderr",
     "output_type": "stream",
     "text": [
      "100%|██████████| 1/1 [00:00<?, ?it/s]\n"
     ]
    },
    {
     "name": "stdout",
     "output_type": "stream",
     "text": [
      "17:41:15+0200 [info     ] Vacuuming database            \n",
      "WF\n",
      "{'name': 'process_47', 'exchanges': [{'input': ('Emissions', 'process_47'), 'amount': 1, 'type': 'production'}, {'input': ('biosphere3', 'aa7cac3a-3625-41d4-bc54-33e2cf11ec46'), 'amount': 0.02376854569412923, 'type': 'biosphere', 'location': 'WF'}, {'input': ('biosphere3', 'afd6d670-bbb0-4625-9730-04088a5b035e'), 'amount': 4.0772144090316284e-07, 'type': 'biosphere', 'location': 'WF'}, {'input': ('biosphere3', '70ef743b-3ed5-4a6d-b192-fb6d62378555'), 'amount': 2.16050241636593e-06, 'type': 'biosphere', 'location': 'WF'}]}\n",
      "17:41:16+0200 [warning  ] Not able to determine geocollections for all datasets. This database is not ready for regionalization.\n"
     ]
    },
    {
     "name": "stderr",
     "output_type": "stream",
     "text": [
      "100%|██████████| 1/1 [00:00<?, ?it/s]\n"
     ]
    },
    {
     "name": "stdout",
     "output_type": "stream",
     "text": [
      "17:41:16+0200 [info     ] Vacuuming database            \n",
      "WM\n",
      "{'name': 'process_48', 'exchanges': [{'input': ('Emissions', 'process_48'), 'amount': 1, 'type': 'production'}, {'input': ('biosphere3', 'aa7cac3a-3625-41d4-bc54-33e2cf11ec46'), 'amount': 0.31886627931070777, 'type': 'biosphere', 'location': 'WM'}, {'input': ('biosphere3', 'afd6d670-bbb0-4625-9730-04088a5b035e'), 'amount': 0.0, 'type': 'biosphere', 'location': 'WM'}, {'input': ('biosphere3', '70ef743b-3ed5-4a6d-b192-fb6d62378555'), 'amount': 0.0, 'type': 'biosphere', 'location': 'WM'}]}\n",
      "17:41:17+0200 [warning  ] Not able to determine geocollections for all datasets. This database is not ready for regionalization.\n"
     ]
    },
    {
     "name": "stderr",
     "output_type": "stream",
     "text": [
      "100%|██████████| 1/1 [00:00<?, ?it/s]\n"
     ]
    },
    {
     "name": "stdout",
     "output_type": "stream",
     "text": [
      "17:41:17+0200 [info     ] Vacuuming database            \n"
     ]
    }
   ],
   "source": [
    "M_eq_boats_3_mining=[]\n",
    "flag=0\n",
    "for i, region in impact_boats_c_mining.items(): #Creating a proccess with emissions\n",
    "    flag=flag+1\n",
    "    print(i)\n",
    "    process_data={'name':f\"process_{flag}\" ,\n",
    "            'exchanges': [\n",
    "                {'input': (\"Emissions\", f\"process_{flag}\"), 'amount': 1, 'type': 'production'},\n",
    "                {'input': co2_key, 'amount': impact_boats_c_mining.loc[('Carbon dioxide, fossil','tonnes','air'),i]*1000, 'type': 'biosphere', 'location': i},#to add the emissions of each activity\n",
    "                {'input': n2o_key, 'amount': impact_boats_c_mining.loc[('N2O','tonnes','air'),i]*1000, 'type': 'biosphere', 'location': i},\n",
    "                {'input': ch4_key, 'amount': impact_boats_c_mining.loc[('CH4','tonnes','air'),i]*1000, 'type': 'biosphere', 'location': i}\n",
    "            ]\n",
    "        }\n",
    "    print(process_data)\n",
    "    bd.Database(\"Emissions\").write({(\"Emissions\", f\"process_{flag}\"): process_data}) #To add in database\n",
    "    demand_i={(\"Emissions\", f\"process_{flag}\"):1} #1 as functional unit\n",
    "    value=bc.lca.LCA(demand_i,method_chosen) \n",
    "    value.lci(factorize=True) #with factorization false doesn't work\n",
    "    value.lcia()\n",
    "\n",
    "\n",
    "    M_eq_boats_3_mining.append(value.score/1000) #to store the equivalent emissions in M_eq_val in tonnes\n",
    "\n",
    "M_eq_boats_3_mining=pd.DataFrame(M_eq_boats_3_mining)\n",
    "M_eq_boats_3_mining.index=impact_boats_c_mining.columns\n",
    "M_eq_boats_3_mining.columns=[\"CO2-eq\"] #To name the columns"
   ]
  },
  {
   "cell_type": "code",
   "execution_count": 287,
   "id": "551f3833",
   "metadata": {},
   "outputs": [
    {
     "name": "stdout",
     "output_type": "stream",
     "text": [
      "AU\n",
      "{'name': 'process_1', 'exchanges': [{'input': ('Emissions', 'process_1'), 'amount': 1, 'type': 'production'}, {'input': ('biosphere3', 'aa7cac3a-3625-41d4-bc54-33e2cf11ec46'), 'amount': 0.012960589961216318, 'type': 'biosphere', 'location': 'AU'}, {'input': ('biosphere3', 'afd6d670-bbb0-4625-9730-04088a5b035e'), 'amount': 2.243264208344826e-07, 'type': 'biosphere', 'location': 'AU'}, {'input': ('biosphere3', '70ef743b-3ed5-4a6d-b192-fb6d62378555'), 'amount': 1.1653771292196854e-06, 'type': 'biosphere', 'location': 'AU'}]}\n",
      "17:41:17+0200 [warning  ] Not able to determine geocollections for all datasets. This database is not ready for regionalization.\n"
     ]
    },
    {
     "name": "stderr",
     "output_type": "stream",
     "text": [
      "100%|██████████| 1/1 [00:00<?, ?it/s]\n"
     ]
    },
    {
     "name": "stdout",
     "output_type": "stream",
     "text": [
      "17:41:17+0200 [info     ] Vacuuming database            \n",
      "AT\n",
      "{'name': 'process_2', 'exchanges': [{'input': ('Emissions', 'process_2'), 'amount': 1, 'type': 'production'}, {'input': ('biosphere3', 'aa7cac3a-3625-41d4-bc54-33e2cf11ec46'), 'amount': 0.0011039524049490843, 'type': 'biosphere', 'location': 'AT'}, {'input': ('biosphere3', 'afd6d670-bbb0-4625-9730-04088a5b035e'), 'amount': 1.900499345065704e-08, 'type': 'biosphere', 'location': 'AT'}, {'input': ('biosphere3', '70ef743b-3ed5-4a6d-b192-fb6d62378555'), 'amount': 1.0035519374853978e-07, 'type': 'biosphere', 'location': 'AT'}]}\n",
      "17:41:18+0200 [warning  ] Not able to determine geocollections for all datasets. This database is not ready for regionalization.\n"
     ]
    },
    {
     "name": "stderr",
     "output_type": "stream",
     "text": [
      "100%|██████████| 1/1 [00:00<?, ?it/s]\n"
     ]
    },
    {
     "name": "stdout",
     "output_type": "stream",
     "text": [
      "17:41:18+0200 [info     ] Vacuuming database            \n",
      "BE\n",
      "{'name': 'process_3', 'exchanges': [{'input': ('Emissions', 'process_3'), 'amount': 1, 'type': 'production'}, {'input': ('biosphere3', 'aa7cac3a-3625-41d4-bc54-33e2cf11ec46'), 'amount': 0.09844384619282029, 'type': 'biosphere', 'location': 'BE'}, {'input': ('biosphere3', 'afd6d670-bbb0-4625-9730-04088a5b035e'), 'amount': 1.6503493857780048e-06, 'type': 'biosphere', 'location': 'BE'}, {'input': ('biosphere3', '70ef743b-3ed5-4a6d-b192-fb6d62378555'), 'amount': 8.920409001382412e-06, 'type': 'biosphere', 'location': 'BE'}]}\n",
      "17:41:19+0200 [warning  ] Not able to determine geocollections for all datasets. This database is not ready for regionalization.\n"
     ]
    },
    {
     "name": "stderr",
     "output_type": "stream",
     "text": [
      "100%|██████████| 1/1 [00:00<?, ?it/s]\n"
     ]
    },
    {
     "name": "stdout",
     "output_type": "stream",
     "text": [
      "17:41:19+0200 [info     ] Vacuuming database            \n",
      "BR\n",
      "{'name': 'process_4', 'exchanges': [{'input': ('Emissions', 'process_4'), 'amount': 1, 'type': 'production'}, {'input': ('biosphere3', 'aa7cac3a-3625-41d4-bc54-33e2cf11ec46'), 'amount': 0.025850528505822506, 'type': 'biosphere', 'location': 'BR'}, {'input': ('biosphere3', 'afd6d670-bbb0-4625-9730-04088a5b035e'), 'amount': 4.553900250023378e-07, 'type': 'biosphere', 'location': 'BR'}, {'input': ('biosphere3', '70ef743b-3ed5-4a6d-b192-fb6d62378555'), 'amount': 2.296435000195877e-06, 'type': 'biosphere', 'location': 'BR'}]}\n",
      "17:41:20+0200 [warning  ] Not able to determine geocollections for all datasets. This database is not ready for regionalization.\n"
     ]
    },
    {
     "name": "stderr",
     "output_type": "stream",
     "text": [
      "100%|██████████| 1/1 [00:00<?, ?it/s]\n"
     ]
    },
    {
     "name": "stdout",
     "output_type": "stream",
     "text": [
      "17:41:20+0200 [info     ] Vacuuming database            \n",
      "BG\n",
      "{'name': 'process_5', 'exchanges': [{'input': ('Emissions', 'process_5'), 'amount': 1, 'type': 'production'}, {'input': ('biosphere3', 'aa7cac3a-3625-41d4-bc54-33e2cf11ec46'), 'amount': 0.006885314897950049, 'type': 'biosphere', 'location': 'BG'}, {'input': ('biosphere3', 'afd6d670-bbb0-4625-9730-04088a5b035e'), 'amount': 1.1888826033489342e-07, 'type': 'biosphere', 'location': 'BG'}, {'input': ('biosphere3', '70ef743b-3ed5-4a6d-b192-fb6d62378555'), 'amount': 6.224658735604224e-07, 'type': 'biosphere', 'location': 'BG'}]}\n",
      "17:41:20+0200 [warning  ] Not able to determine geocollections for all datasets. This database is not ready for regionalization.\n"
     ]
    },
    {
     "name": "stderr",
     "output_type": "stream",
     "text": [
      "100%|██████████| 1/1 [00:00<?, ?it/s]\n"
     ]
    },
    {
     "name": "stdout",
     "output_type": "stream",
     "text": [
      "17:41:20+0200 [info     ] Vacuuming database            \n",
      "CA\n",
      "{'name': 'process_6', 'exchanges': [{'input': ('Emissions', 'process_6'), 'amount': 1, 'type': 'production'}, {'input': ('biosphere3', 'aa7cac3a-3625-41d4-bc54-33e2cf11ec46'), 'amount': 0.11077609285141023, 'type': 'biosphere', 'location': 'CA'}, {'input': ('biosphere3', 'afd6d670-bbb0-4625-9730-04088a5b035e'), 'amount': 1.9231841621075973e-06, 'type': 'biosphere', 'location': 'CA'}, {'input': ('biosphere3', '70ef743b-3ed5-4a6d-b192-fb6d62378555'), 'amount': 1.0022776456267874e-05, 'type': 'biosphere', 'location': 'CA'}]}\n",
      "17:41:21+0200 [warning  ] Not able to determine geocollections for all datasets. This database is not ready for regionalization.\n"
     ]
    },
    {
     "name": "stderr",
     "output_type": "stream",
     "text": [
      "100%|██████████| 1/1 [00:00<?, ?it/s]\n"
     ]
    },
    {
     "name": "stdout",
     "output_type": "stream",
     "text": [
      "17:41:21+0200 [info     ] Vacuuming database            \n",
      "CN\n",
      "{'name': 'process_7', 'exchanges': [{'input': ('Emissions', 'process_7'), 'amount': 1, 'type': 'production'}, {'input': ('biosphere3', 'aa7cac3a-3625-41d4-bc54-33e2cf11ec46'), 'amount': 0.7907444395612195, 'type': 'biosphere', 'location': 'CN'}, {'input': ('biosphere3', 'afd6d670-bbb0-4625-9730-04088a5b035e'), 'amount': 1.3630622359749612e-05, 'type': 'biosphere', 'location': 'CN'}, {'input': ('biosphere3', '70ef743b-3ed5-4a6d-b192-fb6d62378555'), 'amount': 7.188244054153225e-05, 'type': 'biosphere', 'location': 'CN'}]}\n",
      "17:41:22+0200 [warning  ] Not able to determine geocollections for all datasets. This database is not ready for regionalization.\n"
     ]
    },
    {
     "name": "stderr",
     "output_type": "stream",
     "text": [
      "100%|██████████| 1/1 [00:00<?, ?it/s]\n"
     ]
    },
    {
     "name": "stdout",
     "output_type": "stream",
     "text": [
      "17:41:22+0200 [info     ] Vacuuming database            \n",
      "CY\n",
      "{'name': 'process_8', 'exchanges': [{'input': ('Emissions', 'process_8'), 'amount': 1, 'type': 'production'}, {'input': ('biosphere3', 'aa7cac3a-3625-41d4-bc54-33e2cf11ec46'), 'amount': 0.017340739388703643, 'type': 'biosphere', 'location': 'CY'}, {'input': ('biosphere3', 'afd6d670-bbb0-4625-9730-04088a5b035e'), 'amount': 2.776711788514411e-07, 'type': 'biosphere', 'location': 'CY'}, {'input': ('biosphere3', '70ef743b-3ed5-4a6d-b192-fb6d62378555'), 'amount': 1.5687691284964538e-06, 'type': 'biosphere', 'location': 'CY'}]}\n",
      "17:41:22+0200 [warning  ] Not able to determine geocollections for all datasets. This database is not ready for regionalization.\n"
     ]
    },
    {
     "name": "stderr",
     "output_type": "stream",
     "text": [
      "100%|██████████| 1/1 [00:00<?, ?it/s]\n"
     ]
    },
    {
     "name": "stdout",
     "output_type": "stream",
     "text": [
      "17:41:22+0200 [info     ] Vacuuming database            \n",
      "CZ\n",
      "{'name': 'process_9', 'exchanges': [{'input': ('Emissions', 'process_9'), 'amount': 1, 'type': 'production'}, {'input': ('biosphere3', 'aa7cac3a-3625-41d4-bc54-33e2cf11ec46'), 'amount': 0.00021832468549579323, 'type': 'biosphere', 'location': 'CZ'}, {'input': ('biosphere3', 'afd6d670-bbb0-4625-9730-04088a5b035e'), 'amount': 3.839437194102565e-09, 'type': 'biosphere', 'location': 'CZ'}, {'input': ('biosphere3', '70ef743b-3ed5-4a6d-b192-fb6d62378555'), 'amount': 1.9381071062397995e-08, 'type': 'biosphere', 'location': 'CZ'}]}\n",
      "17:41:23+0200 [warning  ] Not able to determine geocollections for all datasets. This database is not ready for regionalization.\n"
     ]
    },
    {
     "name": "stderr",
     "output_type": "stream",
     "text": [
      "100%|██████████| 1/1 [00:00<00:00, 1015.08it/s]\n"
     ]
    },
    {
     "name": "stdout",
     "output_type": "stream",
     "text": [
      "17:41:23+0200 [info     ] Vacuuming database            \n",
      "DK\n",
      "{'name': 'process_10', 'exchanges': [{'input': ('Emissions', 'process_10'), 'amount': 1, 'type': 'production'}, {'input': ('biosphere3', 'aa7cac3a-3625-41d4-bc54-33e2cf11ec46'), 'amount': 0.23357219209886979, 'type': 'biosphere', 'location': 'DK'}, {'input': ('biosphere3', 'afd6d670-bbb0-4625-9730-04088a5b035e'), 'amount': 4.050897772498626e-06, 'type': 'biosphere', 'location': 'DK'}, {'input': ('biosphere3', '70ef743b-3ed5-4a6d-b192-fb6d62378555'), 'amount': 2.1170600901273624e-05, 'type': 'biosphere', 'location': 'DK'}]}\n",
      "17:41:24+0200 [warning  ] Not able to determine geocollections for all datasets. This database is not ready for regionalization.\n"
     ]
    },
    {
     "name": "stderr",
     "output_type": "stream",
     "text": [
      "100%|██████████| 1/1 [00:00<?, ?it/s]\n"
     ]
    },
    {
     "name": "stdout",
     "output_type": "stream",
     "text": [
      "17:41:24+0200 [info     ] Vacuuming database            \n",
      "EE\n",
      "{'name': 'process_11', 'exchanges': [{'input': ('Emissions', 'process_11'), 'amount': 1, 'type': 'production'}, {'input': ('biosphere3', 'aa7cac3a-3625-41d4-bc54-33e2cf11ec46'), 'amount': 0.019066402644189386, 'type': 'biosphere', 'location': 'EE'}, {'input': ('biosphere3', 'afd6d670-bbb0-4625-9730-04088a5b035e'), 'amount': 3.281402860233099e-07, 'type': 'biosphere', 'location': 'EE'}, {'input': ('biosphere3', '70ef743b-3ed5-4a6d-b192-fb6d62378555'), 'amount': 1.7316439133303823e-06, 'type': 'biosphere', 'location': 'EE'}]}\n",
      "17:41:25+0200 [warning  ] Not able to determine geocollections for all datasets. This database is not ready for regionalization.\n"
     ]
    },
    {
     "name": "stderr",
     "output_type": "stream",
     "text": [
      "100%|██████████| 1/1 [00:00<00:00, 1083.24it/s]\n"
     ]
    },
    {
     "name": "stdout",
     "output_type": "stream",
     "text": [
      "17:41:25+0200 [info     ] Vacuuming database            \n",
      "FI\n",
      "{'name': 'process_12', 'exchanges': [{'input': ('Emissions', 'process_12'), 'amount': 1, 'type': 'production'}, {'input': ('biosphere3', 'aa7cac3a-3625-41d4-bc54-33e2cf11ec46'), 'amount': 0.037679486315794354, 'type': 'biosphere', 'location': 'FI'}, {'input': ('biosphere3', 'afd6d670-bbb0-4625-9730-04088a5b035e'), 'amount': 6.461796089039275e-07, 'type': 'biosphere', 'location': 'FI'}, {'input': ('biosphere3', '70ef743b-3ed5-4a6d-b192-fb6d62378555'), 'amount': 3.409951711093744e-06, 'type': 'biosphere', 'location': 'FI'}]}\n",
      "17:41:25+0200 [warning  ] Not able to determine geocollections for all datasets. This database is not ready for regionalization.\n"
     ]
    },
    {
     "name": "stderr",
     "output_type": "stream",
     "text": [
      "100%|██████████| 1/1 [00:00<?, ?it/s]\n"
     ]
    },
    {
     "name": "stdout",
     "output_type": "stream",
     "text": [
      "17:41:25+0200 [info     ] Vacuuming database            \n",
      "FR\n",
      "{'name': 'process_13', 'exchanges': [{'input': ('Emissions', 'process_13'), 'amount': 1, 'type': 'production'}, {'input': ('biosphere3', 'aa7cac3a-3625-41d4-bc54-33e2cf11ec46'), 'amount': 0.05338910171051637, 'type': 'biosphere', 'location': 'FR'}, {'input': ('biosphere3', 'afd6d670-bbb0-4625-9730-04088a5b035e'), 'amount': 9.646478289780729e-07, 'type': 'biosphere', 'location': 'FR'}, {'input': ('biosphere3', '70ef743b-3ed5-4a6d-b192-fb6d62378555'), 'amount': 4.839505842089424e-06, 'type': 'biosphere', 'location': 'FR'}]}\n",
      "17:41:26+0200 [warning  ] Not able to determine geocollections for all datasets. This database is not ready for regionalization.\n"
     ]
    },
    {
     "name": "stderr",
     "output_type": "stream",
     "text": [
      "100%|██████████| 1/1 [00:00<?, ?it/s]\n"
     ]
    },
    {
     "name": "stdout",
     "output_type": "stream",
     "text": [
      "17:41:26+0200 [info     ] Vacuuming database            \n",
      "DE\n",
      "{'name': 'process_14', 'exchanges': [{'input': ('Emissions', 'process_14'), 'amount': 1, 'type': 'production'}, {'input': ('biosphere3', 'aa7cac3a-3625-41d4-bc54-33e2cf11ec46'), 'amount': 2.18233132408338, 'type': 'biosphere', 'location': 'DE'}, {'input': ('biosphere3', 'afd6d670-bbb0-4625-9730-04088a5b035e'), 'amount': 3.5006087835089696e-05, 'type': 'biosphere', 'location': 'DE'}, {'input': ('biosphere3', '70ef743b-3ed5-4a6d-b192-fb6d62378555'), 'amount': 0.00019749447130855614, 'type': 'biosphere', 'location': 'DE'}]}\n",
      "17:41:26+0200 [warning  ] Not able to determine geocollections for all datasets. This database is not ready for regionalization.\n"
     ]
    },
    {
     "name": "stderr",
     "output_type": "stream",
     "text": [
      "100%|██████████| 1/1 [00:00<00:00, 988.76it/s]\n"
     ]
    },
    {
     "name": "stdout",
     "output_type": "stream",
     "text": [
      "17:41:26+0200 [info     ] Vacuuming database            \n",
      "GR\n",
      "{'name': 'process_15', 'exchanges': [{'input': ('Emissions', 'process_15'), 'amount': 1, 'type': 'production'}, {'input': ('biosphere3', 'aa7cac3a-3625-41d4-bc54-33e2cf11ec46'), 'amount': 1.025897464418978, 'type': 'biosphere', 'location': 'GR'}, {'input': ('biosphere3', 'afd6d670-bbb0-4625-9730-04088a5b035e'), 'amount': 1.6458187988441996e-05, 'type': 'biosphere', 'location': 'GR'}, {'input': ('biosphere3', '70ef743b-3ed5-4a6d-b192-fb6d62378555'), 'amount': 9.282546569571759e-05, 'type': 'biosphere', 'location': 'GR'}]}\n",
      "17:41:27+0200 [warning  ] Not able to determine geocollections for all datasets. This database is not ready for regionalization.\n"
     ]
    },
    {
     "name": "stderr",
     "output_type": "stream",
     "text": [
      "100%|██████████| 1/1 [00:00<?, ?it/s]\n"
     ]
    },
    {
     "name": "stdout",
     "output_type": "stream",
     "text": [
      "17:41:27+0200 [info     ] Vacuuming database            \n",
      "HU\n",
      "{'name': 'process_16', 'exchanges': [{'input': ('Emissions', 'process_16'), 'amount': 1, 'type': 'production'}, {'input': ('biosphere3', 'aa7cac3a-3625-41d4-bc54-33e2cf11ec46'), 'amount': 4.174283709730747e-06, 'type': 'biosphere', 'location': 'HU'}, {'input': ('biosphere3', 'afd6d670-bbb0-4625-9730-04088a5b035e'), 'amount': 9.337546803544876e-11, 'type': 'biosphere', 'location': 'HU'}, {'input': ('biosphere3', '70ef743b-3ed5-4a6d-b192-fb6d62378555'), 'amount': 1.8021722259196742e-10, 'type': 'biosphere', 'location': 'HU'}]}\n",
      "17:41:27+0200 [warning  ] Not able to determine geocollections for all datasets. This database is not ready for regionalization.\n"
     ]
    },
    {
     "name": "stderr",
     "output_type": "stream",
     "text": [
      "100%|██████████| 1/1 [00:00<?, ?it/s]\n"
     ]
    },
    {
     "name": "stdout",
     "output_type": "stream",
     "text": [
      "17:41:27+0200 [info     ] Vacuuming database            \n",
      "HR\n",
      "{'name': 'process_17', 'exchanges': [{'input': ('Emissions', 'process_17'), 'amount': 1, 'type': 'production'}, {'input': ('biosphere3', 'aa7cac3a-3625-41d4-bc54-33e2cf11ec46'), 'amount': 0.02780567983194983, 'type': 'biosphere', 'location': 'HR'}, {'input': ('biosphere3', 'afd6d670-bbb0-4625-9730-04088a5b035e'), 'amount': 4.821493584754427e-07, 'type': 'biosphere', 'location': 'HR'}, {'input': ('biosphere3', '70ef743b-3ed5-4a6d-b192-fb6d62378555'), 'amount': 2.5170667515274442e-06, 'type': 'biosphere', 'location': 'HR'}]}\n",
      "17:41:28+0200 [warning  ] Not able to determine geocollections for all datasets. This database is not ready for regionalization.\n"
     ]
    },
    {
     "name": "stderr",
     "output_type": "stream",
     "text": [
      "100%|██████████| 1/1 [00:00<?, ?it/s]\n"
     ]
    },
    {
     "name": "stdout",
     "output_type": "stream",
     "text": [
      "17:41:28+0200 [info     ] Vacuuming database            \n",
      "IN\n",
      "{'name': 'process_18', 'exchanges': [{'input': ('Emissions', 'process_18'), 'amount': 1, 'type': 'production'}, {'input': ('biosphere3', 'aa7cac3a-3625-41d4-bc54-33e2cf11ec46'), 'amount': 0.07950816699446384, 'type': 'biosphere', 'location': 'IN'}, {'input': ('biosphere3', 'afd6d670-bbb0-4625-9730-04088a5b035e'), 'amount': 1.3967966290068293e-06, 'type': 'biosphere', 'location': 'IN'}, {'input': ('biosphere3', '70ef743b-3ed5-4a6d-b192-fb6d62378555'), 'amount': 7.20016934108855e-06, 'type': 'biosphere', 'location': 'IN'}]}\n",
      "17:41:28+0200 [warning  ] Not able to determine geocollections for all datasets. This database is not ready for regionalization.\n"
     ]
    },
    {
     "name": "stderr",
     "output_type": "stream",
     "text": [
      "100%|██████████| 1/1 [00:00<?, ?it/s]\n"
     ]
    },
    {
     "name": "stdout",
     "output_type": "stream",
     "text": [
      "17:41:28+0200 [info     ] Vacuuming database            \n",
      "ID\n",
      "{'name': 'process_19', 'exchanges': [{'input': ('Emissions', 'process_19'), 'amount': 1, 'type': 'production'}, {'input': ('biosphere3', 'aa7cac3a-3625-41d4-bc54-33e2cf11ec46'), 'amount': 0.021782959783413956, 'type': 'biosphere', 'location': 'ID'}, {'input': ('biosphere3', 'afd6d670-bbb0-4625-9730-04088a5b035e'), 'amount': 5.176680172100427e-07, 'type': 'biosphere', 'location': 'ID'}, {'input': ('biosphere3', '70ef743b-3ed5-4a6d-b192-fb6d62378555'), 'amount': 1.9755043302385467e-06, 'type': 'biosphere', 'location': 'ID'}]}\n",
      "17:41:29+0200 [warning  ] Not able to determine geocollections for all datasets. This database is not ready for regionalization.\n"
     ]
    },
    {
     "name": "stderr",
     "output_type": "stream",
     "text": [
      "100%|██████████| 1/1 [00:00<?, ?it/s]\n"
     ]
    },
    {
     "name": "stdout",
     "output_type": "stream",
     "text": [
      "17:41:29+0200 [info     ] Vacuuming database            \n",
      "IE\n",
      "{'name': 'process_20', 'exchanges': [{'input': ('Emissions', 'process_20'), 'amount': 1, 'type': 'production'}, {'input': ('biosphere3', 'aa7cac3a-3625-41d4-bc54-33e2cf11ec46'), 'amount': 0.005743253240425148, 'type': 'biosphere', 'location': 'IE'}, {'input': ('biosphere3', 'afd6d670-bbb0-4625-9730-04088a5b035e'), 'amount': 9.935833483017738e-08, 'type': 'biosphere', 'location': 'IE'}, {'input': ('biosphere3', '70ef743b-3ed5-4a6d-b192-fb6d62378555'), 'amount': 5.186316656860759e-07, 'type': 'biosphere', 'location': 'IE'}]}\n",
      "17:41:29+0200 [warning  ] Not able to determine geocollections for all datasets. This database is not ready for regionalization.\n"
     ]
    },
    {
     "name": "stderr",
     "output_type": "stream",
     "text": [
      "100%|██████████| 1/1 [00:00<?, ?it/s]\n"
     ]
    },
    {
     "name": "stdout",
     "output_type": "stream",
     "text": [
      "17:41:29+0200 [info     ] Vacuuming database            \n",
      "IT\n",
      "{'name': 'process_21', 'exchanges': [{'input': ('Emissions', 'process_21'), 'amount': 1, 'type': 'production'}, {'input': ('biosphere3', 'aa7cac3a-3625-41d4-bc54-33e2cf11ec46'), 'amount': 0.18636740750541003, 'type': 'biosphere', 'location': 'IT'}, {'input': ('biosphere3', 'afd6d670-bbb0-4625-9730-04088a5b035e'), 'amount': 3.194951226121411e-06, 'type': 'biosphere', 'location': 'IT'}, {'input': ('biosphere3', '70ef743b-3ed5-4a6d-b192-fb6d62378555'), 'amount': 1.6934748037264524e-05, 'type': 'biosphere', 'location': 'IT'}]}\n",
      "17:41:30+0200 [warning  ] Not able to determine geocollections for all datasets. This database is not ready for regionalization.\n"
     ]
    },
    {
     "name": "stderr",
     "output_type": "stream",
     "text": [
      "100%|██████████| 1/1 [00:00<?, ?it/s]\n"
     ]
    },
    {
     "name": "stdout",
     "output_type": "stream",
     "text": [
      "17:41:30+0200 [info     ] Vacuuming database            \n",
      "JP\n",
      "{'name': 'process_22', 'exchanges': [{'input': ('Emissions', 'process_22'), 'amount': 1, 'type': 'production'}, {'input': ('biosphere3', 'aa7cac3a-3625-41d4-bc54-33e2cf11ec46'), 'amount': 0.5226151724328536, 'type': 'biosphere', 'location': 'JP'}, {'input': ('biosphere3', 'afd6d670-bbb0-4625-9730-04088a5b035e'), 'amount': 8.911964502564509e-06, 'type': 'biosphere', 'location': 'JP'}, {'input': ('biosphere3', '70ef743b-3ed5-4a6d-b192-fb6d62378555'), 'amount': 4.74895707082807e-05, 'type': 'biosphere', 'location': 'JP'}]}\n",
      "17:41:30+0200 [warning  ] Not able to determine geocollections for all datasets. This database is not ready for regionalization.\n"
     ]
    },
    {
     "name": "stderr",
     "output_type": "stream",
     "text": [
      "100%|██████████| 1/1 [00:00<?, ?it/s]\n"
     ]
    },
    {
     "name": "stdout",
     "output_type": "stream",
     "text": [
      "17:41:30+0200 [info     ] Vacuuming database            \n",
      "LV\n",
      "{'name': 'process_23', 'exchanges': [{'input': ('Emissions', 'process_23'), 'amount': 1, 'type': 'production'}, {'input': ('biosphere3', 'aa7cac3a-3625-41d4-bc54-33e2cf11ec46'), 'amount': 0.0025786532751907354, 'type': 'biosphere', 'location': 'LV'}, {'input': ('biosphere3', 'afd6d670-bbb0-4625-9730-04088a5b035e'), 'amount': 5.719464079535399e-08, 'type': 'biosphere', 'location': 'LV'}, {'input': ('biosphere3', '70ef743b-3ed5-4a6d-b192-fb6d62378555'), 'amount': 2.404085702213414e-07, 'type': 'biosphere', 'location': 'LV'}]}\n",
      "17:41:31+0200 [warning  ] Not able to determine geocollections for all datasets. This database is not ready for regionalization.\n"
     ]
    },
    {
     "name": "stderr",
     "output_type": "stream",
     "text": [
      "100%|██████████| 1/1 [00:00<?, ?it/s]\n"
     ]
    },
    {
     "name": "stdout",
     "output_type": "stream",
     "text": [
      "17:41:31+0200 [info     ] Vacuuming database            \n",
      "LT\n",
      "{'name': 'process_24', 'exchanges': [{'input': ('Emissions', 'process_24'), 'amount': 1, 'type': 'production'}, {'input': ('biosphere3', 'aa7cac3a-3625-41d4-bc54-33e2cf11ec46'), 'amount': 0.01785392406681225, 'type': 'biosphere', 'location': 'LT'}, {'input': ('biosphere3', 'afd6d670-bbb0-4625-9730-04088a5b035e'), 'amount': 4.3033560772263756e-07, 'type': 'biosphere', 'location': 'LT'}, {'input': ('biosphere3', '70ef743b-3ed5-4a6d-b192-fb6d62378555'), 'amount': 1.6551916896891588e-06, 'type': 'biosphere', 'location': 'LT'}]}\n",
      "17:41:31+0200 [warning  ] Not able to determine geocollections for all datasets. This database is not ready for regionalization.\n"
     ]
    },
    {
     "name": "stderr",
     "output_type": "stream",
     "text": [
      "100%|██████████| 1/1 [00:00<?, ?it/s]\n"
     ]
    },
    {
     "name": "stdout",
     "output_type": "stream",
     "text": [
      "17:41:31+0200 [info     ] Vacuuming database            \n",
      "LU\n",
      "{'name': 'process_25', 'exchanges': [{'input': ('Emissions', 'process_25'), 'amount': 1, 'type': 'production'}, {'input': ('biosphere3', 'aa7cac3a-3625-41d4-bc54-33e2cf11ec46'), 'amount': 0.0023968211755970906, 'type': 'biosphere', 'location': 'LU'}, {'input': ('biosphere3', 'afd6d670-bbb0-4625-9730-04088a5b035e'), 'amount': 3.838246974154391e-08, 'type': 'biosphere', 'location': 'LU'}, {'input': ('biosphere3', '70ef743b-3ed5-4a6d-b192-fb6d62378555'), 'amount': 2.1681388315724785e-07, 'type': 'biosphere', 'location': 'LU'}]}\n",
      "17:41:31+0200 [warning  ] Not able to determine geocollections for all datasets. This database is not ready for regionalization.\n"
     ]
    },
    {
     "name": "stderr",
     "output_type": "stream",
     "text": [
      "100%|██████████| 1/1 [00:00<00:00, 1000.79it/s]\n"
     ]
    },
    {
     "name": "stdout",
     "output_type": "stream",
     "text": [
      "17:41:31+0200 [info     ] Vacuuming database            \n",
      "MT\n",
      "{'name': 'process_26', 'exchanges': [{'input': ('Emissions', 'process_26'), 'amount': 1, 'type': 'production'}, {'input': ('biosphere3', 'aa7cac3a-3625-41d4-bc54-33e2cf11ec46'), 'amount': 0.00020444663478145993, 'type': 'biosphere', 'location': 'MT'}, {'input': ('biosphere3', 'afd6d670-bbb0-4625-9730-04088a5b035e'), 'amount': 4.942495747783487e-09, 'type': 'biosphere', 'location': 'MT'}, {'input': ('biosphere3', '70ef743b-3ed5-4a6d-b192-fb6d62378555'), 'amount': 1.9043124032503622e-08, 'type': 'biosphere', 'location': 'MT'}]}\n",
      "17:41:32+0200 [warning  ] Not able to determine geocollections for all datasets. This database is not ready for regionalization.\n"
     ]
    },
    {
     "name": "stderr",
     "output_type": "stream",
     "text": [
      "100%|██████████| 1/1 [00:00<?, ?it/s]\n"
     ]
    },
    {
     "name": "stdout",
     "output_type": "stream",
     "text": [
      "17:41:32+0200 [info     ] Vacuuming database            \n",
      "MX\n",
      "{'name': 'process_27', 'exchanges': [{'input': ('Emissions', 'process_27'), 'amount': 1, 'type': 'production'}, {'input': ('biosphere3', 'aa7cac3a-3625-41d4-bc54-33e2cf11ec46'), 'amount': 0.010155119860489175, 'type': 'biosphere', 'location': 'MX'}, {'input': ('biosphere3', 'afd6d670-bbb0-4625-9730-04088a5b035e'), 'amount': 1.767713577919101e-07, 'type': 'biosphere', 'location': 'MX'}, {'input': ('biosphere3', '70ef743b-3ed5-4a6d-b192-fb6d62378555'), 'amount': 9.198601094104143e-07, 'type': 'biosphere', 'location': 'MX'}]}\n",
      "17:41:32+0200 [warning  ] Not able to determine geocollections for all datasets. This database is not ready for regionalization.\n"
     ]
    },
    {
     "name": "stderr",
     "output_type": "stream",
     "text": [
      "100%|██████████| 1/1 [00:00<?, ?it/s]\n"
     ]
    },
    {
     "name": "stdout",
     "output_type": "stream",
     "text": [
      "17:41:32+0200 [info     ] Vacuuming database            \n",
      "NL\n",
      "{'name': 'process_28', 'exchanges': [{'input': ('Emissions', 'process_28'), 'amount': 1, 'type': 'production'}, {'input': ('biosphere3', 'aa7cac3a-3625-41d4-bc54-33e2cf11ec46'), 'amount': 0.12186201647470314, 'type': 'biosphere', 'location': 'NL'}, {'input': ('biosphere3', 'afd6d670-bbb0-4625-9730-04088a5b035e'), 'amount': 2.1177607162541786e-06, 'type': 'biosphere', 'location': 'NL'}, {'input': ('biosphere3', '70ef743b-3ed5-4a6d-b192-fb6d62378555'), 'amount': 1.106441270409442e-05, 'type': 'biosphere', 'location': 'NL'}]}\n",
      "17:41:33+0200 [warning  ] Not able to determine geocollections for all datasets. This database is not ready for regionalization.\n"
     ]
    },
    {
     "name": "stderr",
     "output_type": "stream",
     "text": [
      "100%|██████████| 1/1 [00:00<?, ?it/s]\n"
     ]
    },
    {
     "name": "stdout",
     "output_type": "stream",
     "text": [
      "17:41:33+0200 [info     ] Vacuuming database            \n",
      "NO\n",
      "{'name': 'process_29', 'exchanges': [{'input': ('Emissions', 'process_29'), 'amount': 1, 'type': 'production'}, {'input': ('biosphere3', 'aa7cac3a-3625-41d4-bc54-33e2cf11ec46'), 'amount': 0.5369726028610806, 'type': 'biosphere', 'location': 'NO'}, {'input': ('biosphere3', 'afd6d670-bbb0-4625-9730-04088a5b035e'), 'amount': 9.320266486811661e-06, 'type': 'biosphere', 'location': 'NO'}, {'input': ('biosphere3', '70ef743b-3ed5-4a6d-b192-fb6d62378555'), 'amount': 4.8840606150599156e-05, 'type': 'biosphere', 'location': 'NO'}]}\n",
      "17:41:33+0200 [warning  ] Not able to determine geocollections for all datasets. This database is not ready for regionalization.\n"
     ]
    },
    {
     "name": "stderr",
     "output_type": "stream",
     "text": [
      "100%|██████████| 1/1 [00:00<?, ?it/s]\n"
     ]
    },
    {
     "name": "stdout",
     "output_type": "stream",
     "text": [
      "17:41:33+0200 [info     ] Vacuuming database            \n",
      "PL\n",
      "{'name': 'process_30', 'exchanges': [{'input': ('Emissions', 'process_30'), 'amount': 1, 'type': 'production'}, {'input': ('biosphere3', 'aa7cac3a-3625-41d4-bc54-33e2cf11ec46'), 'amount': 0.022188373316215156, 'type': 'biosphere', 'location': 'PL'}, {'input': ('biosphere3', 'afd6d670-bbb0-4625-9730-04088a5b035e'), 'amount': 5.143078761100348e-07, 'type': 'biosphere', 'location': 'PL'}, {'input': ('biosphere3', '70ef743b-3ed5-4a6d-b192-fb6d62378555'), 'amount': 2.097964867709472e-06, 'type': 'biosphere', 'location': 'PL'}]}\n",
      "17:41:34+0200 [warning  ] Not able to determine geocollections for all datasets. This database is not ready for regionalization.\n"
     ]
    },
    {
     "name": "stderr",
     "output_type": "stream",
     "text": [
      "100%|██████████| 1/1 [00:00<?, ?it/s]\n"
     ]
    },
    {
     "name": "stdout",
     "output_type": "stream",
     "text": [
      "17:41:34+0200 [info     ] Vacuuming database            \n",
      "PT\n",
      "{'name': 'process_31', 'exchanges': [{'input': ('Emissions', 'process_31'), 'amount': 1, 'type': 'production'}, {'input': ('biosphere3', 'aa7cac3a-3625-41d4-bc54-33e2cf11ec46'), 'amount': 0.014672630752145633, 'type': 'biosphere', 'location': 'PT'}, {'input': ('biosphere3', 'afd6d670-bbb0-4625-9730-04088a5b035e'), 'amount': 2.482539557069446e-07, 'type': 'biosphere', 'location': 'PT'}, {'input': ('biosphere3', '70ef743b-3ed5-4a6d-b192-fb6d62378555'), 'amount': 1.3289971710062995e-06, 'type': 'biosphere', 'location': 'PT'}]}\n",
      "17:41:34+0200 [warning  ] Not able to determine geocollections for all datasets. This database is not ready for regionalization.\n"
     ]
    },
    {
     "name": "stderr",
     "output_type": "stream",
     "text": [
      "100%|██████████| 1/1 [00:00<?, ?it/s]\n"
     ]
    },
    {
     "name": "stdout",
     "output_type": "stream",
     "text": [
      "17:41:34+0200 [info     ] Vacuuming database            \n",
      "RO\n",
      "{'name': 'process_32', 'exchanges': [{'input': ('Emissions', 'process_32'), 'amount': 1, 'type': 'production'}, {'input': ('biosphere3', 'aa7cac3a-3625-41d4-bc54-33e2cf11ec46'), 'amount': 0.0013250895831943355, 'type': 'biosphere', 'location': 'RO'}, {'input': ('biosphere3', 'afd6d670-bbb0-4625-9730-04088a5b035e'), 'amount': 3.2247607132309044e-08, 'type': 'biosphere', 'location': 'RO'}, {'input': ('biosphere3', '70ef743b-3ed5-4a6d-b192-fb6d62378555'), 'amount': 1.2413404922529293e-07, 'type': 'biosphere', 'location': 'RO'}]}\n",
      "17:41:34+0200 [warning  ] Not able to determine geocollections for all datasets. This database is not ready for regionalization.\n"
     ]
    },
    {
     "name": "stderr",
     "output_type": "stream",
     "text": [
      "100%|██████████| 1/1 [00:00<?, ?it/s]\n"
     ]
    },
    {
     "name": "stdout",
     "output_type": "stream",
     "text": [
      "17:41:34+0200 [info     ] Vacuuming database            \n",
      "RU\n",
      "{'name': 'process_33', 'exchanges': [{'input': ('Emissions', 'process_33'), 'amount': 1, 'type': 'production'}, {'input': ('biosphere3', 'aa7cac3a-3625-41d4-bc54-33e2cf11ec46'), 'amount': 0.2932842933388277, 'type': 'biosphere', 'location': 'RU'}, {'input': ('biosphere3', 'afd6d670-bbb0-4625-9730-04088a5b035e'), 'amount': 5.008729716624613e-06, 'type': 'biosphere', 'location': 'RU'}, {'input': ('biosphere3', '70ef743b-3ed5-4a6d-b192-fb6d62378555'), 'amount': 2.6356644491228472e-05, 'type': 'biosphere', 'location': 'RU'}]}\n",
      "17:41:35+0200 [warning  ] Not able to determine geocollections for all datasets. This database is not ready for regionalization.\n"
     ]
    },
    {
     "name": "stderr",
     "output_type": "stream",
     "text": [
      "100%|██████████| 1/1 [00:00<?, ?it/s]\n"
     ]
    },
    {
     "name": "stdout",
     "output_type": "stream",
     "text": [
      "17:41:35+0200 [info     ] Vacuuming database            \n",
      "SK\n",
      "{'name': 'process_34', 'exchanges': [{'input': ('Emissions', 'process_34'), 'amount': 1, 'type': 'production'}, {'input': ('biosphere3', 'aa7cac3a-3625-41d4-bc54-33e2cf11ec46'), 'amount': 0.0001141842663091307, 'type': 'biosphere', 'location': 'SK'}, {'input': ('biosphere3', 'afd6d670-bbb0-4625-9730-04088a5b035e'), 'amount': 2.2213532073475672e-09, 'type': 'biosphere', 'location': 'SK'}, {'input': ('biosphere3', '70ef743b-3ed5-4a6d-b192-fb6d62378555'), 'amount': 1.3081385468383237e-08, 'type': 'biosphere', 'location': 'SK'}]}\n",
      "17:41:35+0200 [warning  ] Not able to determine geocollections for all datasets. This database is not ready for regionalization.\n"
     ]
    },
    {
     "name": "stderr",
     "output_type": "stream",
     "text": [
      "100%|██████████| 1/1 [00:00<?, ?it/s]\n"
     ]
    },
    {
     "name": "stdout",
     "output_type": "stream",
     "text": [
      "17:41:35+0200 [info     ] Vacuuming database            \n",
      "SI\n",
      "{'name': 'process_35', 'exchanges': [{'input': ('Emissions', 'process_35'), 'amount': 1, 'type': 'production'}, {'input': ('biosphere3', 'aa7cac3a-3625-41d4-bc54-33e2cf11ec46'), 'amount': 0.0072323150117050376, 'type': 'biosphere', 'location': 'SI'}, {'input': ('biosphere3', 'afd6d670-bbb0-4625-9730-04088a5b035e'), 'amount': 1.2431820148210416e-07, 'type': 'biosphere', 'location': 'SI'}, {'input': ('biosphere3', '70ef743b-3ed5-4a6d-b192-fb6d62378555'), 'amount': 6.564912178726273e-07, 'type': 'biosphere', 'location': 'SI'}]}\n",
      "17:41:36+0200 [warning  ] Not able to determine geocollections for all datasets. This database is not ready for regionalization.\n"
     ]
    },
    {
     "name": "stderr",
     "output_type": "stream",
     "text": [
      "100%|██████████| 1/1 [00:00<?, ?it/s]\n"
     ]
    },
    {
     "name": "stdout",
     "output_type": "stream",
     "text": [
      "17:41:36+0200 [info     ] Vacuuming database            \n",
      "ZA\n",
      "{'name': 'process_36', 'exchanges': [{'input': ('Emissions', 'process_36'), 'amount': 1, 'type': 'production'}, {'input': ('biosphere3', 'aa7cac3a-3625-41d4-bc54-33e2cf11ec46'), 'amount': 0.0025370624819322824, 'type': 'biosphere', 'location': 'ZA'}, {'input': ('biosphere3', 'afd6d670-bbb0-4625-9730-04088a5b035e'), 'amount': 4.375510361595395e-08, 'type': 'biosphere', 'location': 'ZA'}, {'input': ('biosphere3', '70ef743b-3ed5-4a6d-b192-fb6d62378555'), 'amount': 2.3032866993756525e-07, 'type': 'biosphere', 'location': 'ZA'}]}\n",
      "17:41:36+0200 [warning  ] Not able to determine geocollections for all datasets. This database is not ready for regionalization.\n"
     ]
    },
    {
     "name": "stderr",
     "output_type": "stream",
     "text": [
      "100%|██████████| 1/1 [00:00<?, ?it/s]\n"
     ]
    },
    {
     "name": "stdout",
     "output_type": "stream",
     "text": [
      "17:41:36+0200 [info     ] Vacuuming database            \n",
      "KR\n",
      "{'name': 'process_37', 'exchanges': [{'input': ('Emissions', 'process_37'), 'amount': 1, 'type': 'production'}, {'input': ('biosphere3', 'aa7cac3a-3625-41d4-bc54-33e2cf11ec46'), 'amount': 0.17738903079192847, 'type': 'biosphere', 'location': 'KR'}, {'input': ('biosphere3', 'afd6d670-bbb0-4625-9730-04088a5b035e'), 'amount': 2.8490548557800176e-06, 'type': 'biosphere', 'location': 'KR'}, {'input': ('biosphere3', '70ef743b-3ed5-4a6d-b192-fb6d62378555'), 'amount': 1.6057710462469446e-05, 'type': 'biosphere', 'location': 'KR'}]}\n",
      "17:41:37+0200 [warning  ] Not able to determine geocollections for all datasets. This database is not ready for regionalization.\n"
     ]
    },
    {
     "name": "stderr",
     "output_type": "stream",
     "text": [
      "100%|██████████| 1/1 [00:00<?, ?it/s]\n"
     ]
    },
    {
     "name": "stdout",
     "output_type": "stream",
     "text": [
      "17:41:37+0200 [info     ] Vacuuming database            \n",
      "ES\n",
      "{'name': 'process_38', 'exchanges': [{'input': ('Emissions', 'process_38'), 'amount': 1, 'type': 'production'}, {'input': ('biosphere3', 'aa7cac3a-3625-41d4-bc54-33e2cf11ec46'), 'amount': 0.03821406505785216, 'type': 'biosphere', 'location': 'ES'}, {'input': ('biosphere3', 'afd6d670-bbb0-4625-9730-04088a5b035e'), 'amount': 6.865443992284135e-07, 'type': 'biosphere', 'location': 'ES'}, {'input': ('biosphere3', '70ef743b-3ed5-4a6d-b192-fb6d62378555'), 'amount': 3.4761198762910585e-06, 'type': 'biosphere', 'location': 'ES'}]}\n",
      "17:41:37+0200 [warning  ] Not able to determine geocollections for all datasets. This database is not ready for regionalization.\n"
     ]
    },
    {
     "name": "stderr",
     "output_type": "stream",
     "text": [
      "100%|██████████| 1/1 [00:00<?, ?it/s]\n"
     ]
    },
    {
     "name": "stdout",
     "output_type": "stream",
     "text": [
      "17:41:37+0200 [info     ] Vacuuming database            \n",
      "SE\n",
      "{'name': 'process_39', 'exchanges': [{'input': ('Emissions', 'process_39'), 'amount': 1, 'type': 'production'}, {'input': ('biosphere3', 'aa7cac3a-3625-41d4-bc54-33e2cf11ec46'), 'amount': 0.08699014759117334, 'type': 'biosphere', 'location': 'SE'}, {'input': ('biosphere3', 'afd6d670-bbb0-4625-9730-04088a5b035e'), 'amount': 1.5104444643071933e-06, 'type': 'biosphere', 'location': 'SE'}, {'input': ('biosphere3', '70ef743b-3ed5-4a6d-b192-fb6d62378555'), 'amount': 7.89888945054985e-06, 'type': 'biosphere', 'location': 'SE'}]}\n",
      "17:41:38+0200 [warning  ] Not able to determine geocollections for all datasets. This database is not ready for regionalization.\n"
     ]
    },
    {
     "name": "stderr",
     "output_type": "stream",
     "text": [
      "100%|██████████| 1/1 [00:00<?, ?it/s]\n"
     ]
    },
    {
     "name": "stdout",
     "output_type": "stream",
     "text": [
      "17:41:38+0200 [info     ] Vacuuming database            \n",
      "CH\n",
      "{'name': 'process_40', 'exchanges': [{'input': ('Emissions', 'process_40'), 'amount': 1, 'type': 'production'}, {'input': ('biosphere3', 'aa7cac3a-3625-41d4-bc54-33e2cf11ec46'), 'amount': 0.03429847946439164, 'type': 'biosphere', 'location': 'CH'}, {'input': ('biosphere3', 'afd6d670-bbb0-4625-9730-04088a5b035e'), 'amount': 5.914676809583225e-07, 'type': 'biosphere', 'location': 'CH'}, {'input': ('biosphere3', '70ef743b-3ed5-4a6d-b192-fb6d62378555'), 'amount': 3.1135029433068467e-06, 'type': 'biosphere', 'location': 'CH'}]}\n",
      "17:41:38+0200 [warning  ] Not able to determine geocollections for all datasets. This database is not ready for regionalization.\n"
     ]
    },
    {
     "name": "stderr",
     "output_type": "stream",
     "text": [
      "100%|██████████| 1/1 [00:00<00:00, 1000.55it/s]\n"
     ]
    },
    {
     "name": "stdout",
     "output_type": "stream",
     "text": [
      "17:41:38+0200 [info     ] Vacuuming database            \n",
      "TR\n",
      "{'name': 'process_41', 'exchanges': [{'input': ('Emissions', 'process_41'), 'amount': 1, 'type': 'production'}, {'input': ('biosphere3', 'aa7cac3a-3625-41d4-bc54-33e2cf11ec46'), 'amount': 0.10478624398000465, 'type': 'biosphere', 'location': 'TR'}, {'input': ('biosphere3', 'afd6d670-bbb0-4625-9730-04088a5b035e'), 'amount': 1.8126956458085099e-06, 'type': 'biosphere', 'location': 'TR'}, {'input': ('biosphere3', '70ef743b-3ed5-4a6d-b192-fb6d62378555'), 'amount': 9.516189389528398e-06, 'type': 'biosphere', 'location': 'TR'}]}\n",
      "17:41:39+0200 [warning  ] Not able to determine geocollections for all datasets. This database is not ready for regionalization.\n"
     ]
    },
    {
     "name": "stderr",
     "output_type": "stream",
     "text": [
      "100%|██████████| 1/1 [00:00<?, ?it/s]\n"
     ]
    },
    {
     "name": "stdout",
     "output_type": "stream",
     "text": [
      "17:41:39+0200 [info     ] Vacuuming database            \n",
      "GB\n",
      "{'name': 'process_42', 'exchanges': [{'input': ('Emissions', 'process_42'), 'amount': 1, 'type': 'production'}, {'input': ('biosphere3', 'aa7cac3a-3625-41d4-bc54-33e2cf11ec46'), 'amount': 0.20576334500943655, 'type': 'biosphere', 'location': 'GB'}, {'input': ('biosphere3', 'afd6d670-bbb0-4625-9730-04088a5b035e'), 'amount': 3.3678450764271954e-06, 'type': 'biosphere', 'location': 'GB'}, {'input': ('biosphere3', '70ef743b-3ed5-4a6d-b192-fb6d62378555'), 'amount': 1.8635294571927418e-05, 'type': 'biosphere', 'location': 'GB'}]}\n",
      "17:41:40+0200 [warning  ] Not able to determine geocollections for all datasets. This database is not ready for regionalization.\n"
     ]
    },
    {
     "name": "stderr",
     "output_type": "stream",
     "text": [
      "100%|██████████| 1/1 [00:00<?, ?it/s]\n"
     ]
    },
    {
     "name": "stdout",
     "output_type": "stream",
     "text": [
      "17:41:40+0200 [info     ] Vacuuming database            \n",
      "US\n",
      "{'name': 'process_43', 'exchanges': [{'input': ('Emissions', 'process_43'), 'amount': 1, 'type': 'production'}, {'input': ('biosphere3', 'aa7cac3a-3625-41d4-bc54-33e2cf11ec46'), 'amount': 0.15880574262419775, 'type': 'biosphere', 'location': 'US'}, {'input': ('biosphere3', 'afd6d670-bbb0-4625-9730-04088a5b035e'), 'amount': 2.7315102490741584e-06, 'type': 'biosphere', 'location': 'US'}, {'input': ('biosphere3', '70ef743b-3ed5-4a6d-b192-fb6d62378555'), 'amount': 1.4431455778084564e-05, 'type': 'biosphere', 'location': 'US'}]}\n",
      "17:41:40+0200 [warning  ] Not able to determine geocollections for all datasets. This database is not ready for regionalization.\n"
     ]
    },
    {
     "name": "stderr",
     "output_type": "stream",
     "text": [
      "100%|██████████| 1/1 [00:00<?, ?it/s]\n"
     ]
    },
    {
     "name": "stdout",
     "output_type": "stream",
     "text": [
      "17:41:40+0200 [info     ] Vacuuming database            \n",
      "WA\n",
      "{'name': 'process_44', 'exchanges': [{'input': ('Emissions', 'process_44'), 'amount': 1, 'type': 'production'}, {'input': ('biosphere3', 'aa7cac3a-3625-41d4-bc54-33e2cf11ec46'), 'amount': 0.5602648821334631, 'type': 'biosphere', 'location': 'WA'}, {'input': ('biosphere3', 'afd6d670-bbb0-4625-9730-04088a5b035e'), 'amount': 9.865432814955941e-06, 'type': 'biosphere', 'location': 'WA'}, {'input': ('biosphere3', '70ef743b-3ed5-4a6d-b192-fb6d62378555'), 'amount': 5.0969250740099635e-05, 'type': 'biosphere', 'location': 'WA'}]}\n",
      "17:41:41+0200 [warning  ] Not able to determine geocollections for all datasets. This database is not ready for regionalization.\n"
     ]
    },
    {
     "name": "stderr",
     "output_type": "stream",
     "text": [
      "100%|██████████| 1/1 [00:00<?, ?it/s]\n"
     ]
    },
    {
     "name": "stdout",
     "output_type": "stream",
     "text": [
      "17:41:41+0200 [info     ] Vacuuming database            \n",
      "WL\n",
      "{'name': 'process_45', 'exchanges': [{'input': ('Emissions', 'process_45'), 'amount': 1, 'type': 'production'}, {'input': ('biosphere3', 'aa7cac3a-3625-41d4-bc54-33e2cf11ec46'), 'amount': 0.06116002314833782, 'type': 'biosphere', 'location': 'WL'}, {'input': ('biosphere3', 'afd6d670-bbb0-4625-9730-04088a5b035e'), 'amount': 1.0654841711065553e-06, 'type': 'biosphere', 'location': 'WL'}, {'input': ('biosphere3', '70ef743b-3ed5-4a6d-b192-fb6d62378555'), 'amount': 5.498093362333189e-06, 'type': 'biosphere', 'location': 'WL'}]}\n",
      "17:41:41+0200 [warning  ] Not able to determine geocollections for all datasets. This database is not ready for regionalization.\n"
     ]
    },
    {
     "name": "stderr",
     "output_type": "stream",
     "text": [
      "100%|██████████| 1/1 [00:00<?, ?it/s]\n"
     ]
    },
    {
     "name": "stdout",
     "output_type": "stream",
     "text": [
      "17:41:41+0200 [info     ] Vacuuming database            \n",
      "WE\n",
      "{'name': 'process_46', 'exchanges': [{'input': ('Emissions', 'process_46'), 'amount': 1, 'type': 'production'}, {'input': ('biosphere3', 'aa7cac3a-3625-41d4-bc54-33e2cf11ec46'), 'amount': 0.13410340773993618, 'type': 'biosphere', 'location': 'WE'}, {'input': ('biosphere3', 'afd6d670-bbb0-4625-9730-04088a5b035e'), 'amount': 2.3159269515014488e-06, 'type': 'biosphere', 'location': 'WE'}, {'input': ('biosphere3', '70ef743b-3ed5-4a6d-b192-fb6d62378555'), 'amount': 1.2137865595352373e-05, 'type': 'biosphere', 'location': 'WE'}]}\n",
      "17:41:42+0200 [warning  ] Not able to determine geocollections for all datasets. This database is not ready for regionalization.\n"
     ]
    },
    {
     "name": "stderr",
     "output_type": "stream",
     "text": [
      "100%|██████████| 1/1 [00:00<00:00, 1003.66it/s]\n"
     ]
    },
    {
     "name": "stdout",
     "output_type": "stream",
     "text": [
      "17:41:42+0200 [info     ] Vacuuming database            \n",
      "WF\n",
      "{'name': 'process_47', 'exchanges': [{'input': ('Emissions', 'process_47'), 'amount': 1, 'type': 'production'}, {'input': ('biosphere3', 'aa7cac3a-3625-41d4-bc54-33e2cf11ec46'), 'amount': 0.039632905875879566, 'type': 'biosphere', 'location': 'WF'}, {'input': ('biosphere3', 'afd6d670-bbb0-4625-9730-04088a5b035e'), 'amount': 6.798558775467835e-07, 'type': 'biosphere', 'location': 'WF'}, {'input': ('biosphere3', '70ef743b-3ed5-4a6d-b192-fb6d62378555'), 'amount': 3.6025337862211275e-06, 'type': 'biosphere', 'location': 'WF'}]}\n",
      "17:41:42+0200 [warning  ] Not able to determine geocollections for all datasets. This database is not ready for regionalization.\n"
     ]
    },
    {
     "name": "stderr",
     "output_type": "stream",
     "text": [
      "100%|██████████| 1/1 [00:00<?, ?it/s]\n"
     ]
    },
    {
     "name": "stdout",
     "output_type": "stream",
     "text": [
      "17:41:42+0200 [info     ] Vacuuming database            \n",
      "WM\n",
      "{'name': 'process_48', 'exchanges': [{'input': ('Emissions', 'process_48'), 'amount': 1, 'type': 'production'}, {'input': ('biosphere3', 'aa7cac3a-3625-41d4-bc54-33e2cf11ec46'), 'amount': 0.3629108036656992, 'type': 'biosphere', 'location': 'WM'}, {'input': ('biosphere3', 'afd6d670-bbb0-4625-9730-04088a5b035e'), 'amount': 0.0, 'type': 'biosphere', 'location': 'WM'}, {'input': ('biosphere3', '70ef743b-3ed5-4a6d-b192-fb6d62378555'), 'amount': 0.0, 'type': 'biosphere', 'location': 'WM'}]}\n",
      "17:41:43+0200 [warning  ] Not able to determine geocollections for all datasets. This database is not ready for regionalization.\n"
     ]
    },
    {
     "name": "stderr",
     "output_type": "stream",
     "text": [
      "100%|██████████| 1/1 [00:00<?, ?it/s]\n"
     ]
    },
    {
     "name": "stdout",
     "output_type": "stream",
     "text": [
      "17:41:43+0200 [info     ] Vacuuming database            \n"
     ]
    }
   ],
   "source": [
    "M_eq_boats_3_metal=[]\n",
    "flag=0\n",
    "for i, region in impact_boats_c_metal.items(): #Creating a proccess with emissions\n",
    "    flag=flag+1\n",
    "    print(i)\n",
    "    process_data={'name':f\"process_{flag}\" ,\n",
    "            'exchanges': [\n",
    "                {'input': (\"Emissions\", f\"process_{flag}\"), 'amount': 1, 'type': 'production'},\n",
    "                {'input': co2_key, 'amount': impact_boats_c_metal.loc[('Carbon dioxide, fossil','tonnes','air'),i]*1000, 'type': 'biosphere', 'location': i},#to add the emissions of each activity\n",
    "                {'input': n2o_key, 'amount': impact_boats_c_metal.loc[('N2O','tonnes','air'),i]*1000, 'type': 'biosphere', 'location': i},\n",
    "                {'input': ch4_key, 'amount': impact_boats_c_metal.loc[('CH4','tonnes','air'),i]*1000, 'type': 'biosphere', 'location': i}\n",
    "            ]\n",
    "        }\n",
    "    print(process_data)\n",
    "    bd.Database(\"Emissions\").write({(\"Emissions\", f\"process_{flag}\"): process_data}) #To add in database\n",
    "    demand_i={(\"Emissions\", f\"process_{flag}\"):1} #1 as functional unit\n",
    "    value=bc.lca.LCA(demand_i,method_chosen) \n",
    "    value.lci(factorize=True) #with factorization false doesn't work\n",
    "    value.lcia()\n",
    "\n",
    "\n",
    "    M_eq_boats_3_metal.append(value.score/1000) #to store the equivalent emissions in M_eq_val in tonnes\n",
    "\n",
    "M_eq_boats_3_metal=pd.DataFrame(M_eq_boats_3_metal)\n",
    "M_eq_boats_3_metal.index=impact_boats_c_metal.columns\n",
    "M_eq_boats_3_metal.columns=[\"CO2-eq\"] #To name the columns"
   ]
  },
  {
   "cell_type": "markdown",
   "id": "79669d75",
   "metadata": {},
   "source": [
    "## Road transport"
   ]
  },
  {
   "cell_type": "markdown",
   "id": "08b07650",
   "metadata": {},
   "source": [
    "Only CO2"
   ]
  },
  {
   "cell_type": "code",
   "execution_count": 288,
   "id": "b01de30b",
   "metadata": {},
   "outputs": [],
   "source": [
    "M_eq_trucks_2_mining=impact_trucks_c_mining.iloc[0] \n",
    "M_eq_trucks_2_mining.columns=[\"CO2-eq\"] #To name the columns\n",
    "\n",
    "M_eq_trucks_2_metal=impact_trucks_c_metal.iloc[0] \n",
    "M_eq_trucks_2_metal.columns=[\"CO2-eq\"] #To name the columns"
   ]
  },
  {
   "cell_type": "markdown",
   "id": "a7860da4",
   "metadata": {},
   "source": [
    "CO2, N2O, CH4"
   ]
  },
  {
   "cell_type": "code",
   "execution_count": 289,
   "id": "732686bc",
   "metadata": {},
   "outputs": [
    {
     "name": "stdout",
     "output_type": "stream",
     "text": [
      "AU\n",
      "{'name': 'process_1', 'exchanges': [{'input': ('Emissions', 'process_1'), 'amount': 1, 'type': 'production'}, {'input': ('biosphere3', 'aa7cac3a-3625-41d4-bc54-33e2cf11ec46'), 'amount': 0.1762905940518575, 'type': 'biosphere', 'location': 'AU'}, {'input': ('biosphere3', 'afd6d670-bbb0-4625-9730-04088a5b035e'), 'amount': 4.661309443367243e-06, 'type': 'biosphere', 'location': 'AU'}, {'input': ('biosphere3', '70ef743b-3ed5-4a6d-b192-fb6d62378555'), 'amount': 6.901821966267346e-06, 'type': 'biosphere', 'location': 'AU'}]}\n",
      "17:41:43+0200 [warning  ] Not able to determine geocollections for all datasets. This database is not ready for regionalization.\n"
     ]
    },
    {
     "name": "stderr",
     "output_type": "stream",
     "text": [
      "100%|██████████| 1/1 [00:00<?, ?it/s]\n"
     ]
    },
    {
     "name": "stdout",
     "output_type": "stream",
     "text": [
      "17:41:43+0200 [info     ] Vacuuming database            \n",
      "AT\n",
      "{'name': 'process_2', 'exchanges': [{'input': ('Emissions', 'process_2'), 'amount': 1, 'type': 'production'}, {'input': ('biosphere3', 'aa7cac3a-3625-41d4-bc54-33e2cf11ec46'), 'amount': 0.09574776948665327, 'type': 'biosphere', 'location': 'AT'}, {'input': ('biosphere3', 'afd6d670-bbb0-4625-9730-04088a5b035e'), 'amount': 2.8342373777286786e-06, 'type': 'biosphere', 'location': 'AT'}, {'input': ('biosphere3', '70ef743b-3ed5-4a6d-b192-fb6d62378555'), 'amount': 3.1275364259521934e-06, 'type': 'biosphere', 'location': 'AT'}]}\n",
      "17:41:44+0200 [warning  ] Not able to determine geocollections for all datasets. This database is not ready for regionalization.\n"
     ]
    },
    {
     "name": "stderr",
     "output_type": "stream",
     "text": [
      "100%|██████████| 1/1 [00:00<?, ?it/s]\n"
     ]
    },
    {
     "name": "stdout",
     "output_type": "stream",
     "text": [
      "17:41:44+0200 [info     ] Vacuuming database            \n",
      "BE\n",
      "{'name': 'process_3', 'exchanges': [{'input': ('Emissions', 'process_3'), 'amount': 1, 'type': 'production'}, {'input': ('biosphere3', 'aa7cac3a-3625-41d4-bc54-33e2cf11ec46'), 'amount': 0.08103110163862065, 'type': 'biosphere', 'location': 'BE'}, {'input': ('biosphere3', 'afd6d670-bbb0-4625-9730-04088a5b035e'), 'amount': 3.167942481272002e-06, 'type': 'biosphere', 'location': 'BE'}, {'input': ('biosphere3', '70ef743b-3ed5-4a6d-b192-fb6d62378555'), 'amount': 2.1701779917143095e-06, 'type': 'biosphere', 'location': 'BE'}]}\n",
      "17:41:44+0200 [warning  ] Not able to determine geocollections for all datasets. This database is not ready for regionalization.\n"
     ]
    },
    {
     "name": "stderr",
     "output_type": "stream",
     "text": [
      "100%|██████████| 1/1 [00:00<?, ?it/s]\n"
     ]
    },
    {
     "name": "stdout",
     "output_type": "stream",
     "text": [
      "17:41:44+0200 [info     ] Vacuuming database            \n",
      "BR\n",
      "{'name': 'process_4', 'exchanges': [{'input': ('Emissions', 'process_4'), 'amount': 1, 'type': 'production'}, {'input': ('biosphere3', 'aa7cac3a-3625-41d4-bc54-33e2cf11ec46'), 'amount': 0.0636556210910644, 'type': 'biosphere', 'location': 'BR'}, {'input': ('biosphere3', 'afd6d670-bbb0-4625-9730-04088a5b035e'), 'amount': 1.473363059699731e-06, 'type': 'biosphere', 'location': 'BR'}, {'input': ('biosphere3', '70ef743b-3ed5-4a6d-b192-fb6d62378555'), 'amount': 3.7689887465119093e-06, 'type': 'biosphere', 'location': 'BR'}]}\n",
      "17:41:45+0200 [warning  ] Not able to determine geocollections for all datasets. This database is not ready for regionalization.\n"
     ]
    },
    {
     "name": "stderr",
     "output_type": "stream",
     "text": [
      "100%|██████████| 1/1 [00:00<?, ?it/s]\n"
     ]
    },
    {
     "name": "stdout",
     "output_type": "stream",
     "text": [
      "17:41:45+0200 [info     ] Vacuuming database            \n",
      "BG\n",
      "{'name': 'process_5', 'exchanges': [{'input': ('Emissions', 'process_5'), 'amount': 1, 'type': 'production'}, {'input': ('biosphere3', 'aa7cac3a-3625-41d4-bc54-33e2cf11ec46'), 'amount': 0.042524436998076474, 'type': 'biosphere', 'location': 'BG'}, {'input': ('biosphere3', 'afd6d670-bbb0-4625-9730-04088a5b035e'), 'amount': 9.045343049875435e-07, 'type': 'biosphere', 'location': 'BG'}, {'input': ('biosphere3', '70ef743b-3ed5-4a6d-b192-fb6d62378555'), 'amount': 1.230630639493222e-06, 'type': 'biosphere', 'location': 'BG'}]}\n",
      "17:41:45+0200 [warning  ] Not able to determine geocollections for all datasets. This database is not ready for regionalization.\n"
     ]
    },
    {
     "name": "stderr",
     "output_type": "stream",
     "text": [
      "100%|██████████| 1/1 [00:00<00:00, 1001.03it/s]\n"
     ]
    },
    {
     "name": "stdout",
     "output_type": "stream",
     "text": [
      "17:41:45+0200 [info     ] Vacuuming database            \n",
      "CA\n",
      "{'name': 'process_6', 'exchanges': [{'input': ('Emissions', 'process_6'), 'amount': 1, 'type': 'production'}, {'input': ('biosphere3', 'aa7cac3a-3625-41d4-bc54-33e2cf11ec46'), 'amount': 0.4431032633149854, 'type': 'biosphere', 'location': 'CA'}, {'input': ('biosphere3', 'afd6d670-bbb0-4625-9730-04088a5b035e'), 'amount': 1.1205742745746101e-05, 'type': 'biosphere', 'location': 'CA'}, {'input': ('biosphere3', '70ef743b-3ed5-4a6d-b192-fb6d62378555'), 'amount': 2.605230802604629e-05, 'type': 'biosphere', 'location': 'CA'}]}\n",
      "17:41:46+0200 [warning  ] Not able to determine geocollections for all datasets. This database is not ready for regionalization.\n"
     ]
    },
    {
     "name": "stderr",
     "output_type": "stream",
     "text": [
      "100%|██████████| 1/1 [00:00<?, ?it/s]\n"
     ]
    },
    {
     "name": "stdout",
     "output_type": "stream",
     "text": [
      "17:41:46+0200 [info     ] Vacuuming database            \n",
      "CN\n",
      "{'name': 'process_7', 'exchanges': [{'input': ('Emissions', 'process_7'), 'amount': 1, 'type': 'production'}, {'input': ('biosphere3', 'aa7cac3a-3625-41d4-bc54-33e2cf11ec46'), 'amount': 0.44316825520065517, 'type': 'biosphere', 'location': 'CN'}, {'input': ('biosphere3', 'afd6d670-bbb0-4625-9730-04088a5b035e'), 'amount': 9.579179516917405e-06, 'type': 'biosphere', 'location': 'CN'}, {'input': ('biosphere3', '70ef743b-3ed5-4a6d-b192-fb6d62378555'), 'amount': 1.907368767548327e-05, 'type': 'biosphere', 'location': 'CN'}]}\n",
      "17:41:46+0200 [warning  ] Not able to determine geocollections for all datasets. This database is not ready for regionalization.\n"
     ]
    },
    {
     "name": "stderr",
     "output_type": "stream",
     "text": [
      "100%|██████████| 1/1 [00:00<?, ?it/s]\n"
     ]
    },
    {
     "name": "stdout",
     "output_type": "stream",
     "text": [
      "17:41:46+0200 [info     ] Vacuuming database            \n",
      "CY\n",
      "{'name': 'process_8', 'exchanges': [{'input': ('Emissions', 'process_8'), 'amount': 1, 'type': 'production'}, {'input': ('biosphere3', 'aa7cac3a-3625-41d4-bc54-33e2cf11ec46'), 'amount': 0.009067012799051321, 'type': 'biosphere', 'location': 'CY'}, {'input': ('biosphere3', 'afd6d670-bbb0-4625-9730-04088a5b035e'), 'amount': 1.759371422258223e-07, 'type': 'biosphere', 'location': 'CY'}, {'input': ('biosphere3', '70ef743b-3ed5-4a6d-b192-fb6d62378555'), 'amount': 6.581630521609121e-07, 'type': 'biosphere', 'location': 'CY'}]}\n",
      "17:41:47+0200 [warning  ] Not able to determine geocollections for all datasets. This database is not ready for regionalization.\n"
     ]
    },
    {
     "name": "stderr",
     "output_type": "stream",
     "text": [
      "100%|██████████| 1/1 [00:00<?, ?it/s]\n"
     ]
    },
    {
     "name": "stdout",
     "output_type": "stream",
     "text": [
      "17:41:47+0200 [info     ] Vacuuming database            \n",
      "CZ\n",
      "{'name': 'process_9', 'exchanges': [{'input': ('Emissions', 'process_9'), 'amount': 1, 'type': 'production'}, {'input': ('biosphere3', 'aa7cac3a-3625-41d4-bc54-33e2cf11ec46'), 'amount': 0.23996299255364872, 'type': 'biosphere', 'location': 'CZ'}, {'input': ('biosphere3', 'afd6d670-bbb0-4625-9730-04088a5b035e'), 'amount': 6.189525439389761e-06, 'type': 'biosphere', 'location': 'CZ'}, {'input': ('biosphere3', '70ef743b-3ed5-4a6d-b192-fb6d62378555'), 'amount': 8.716008535381634e-06, 'type': 'biosphere', 'location': 'CZ'}]}\n",
      "17:41:47+0200 [warning  ] Not able to determine geocollections for all datasets. This database is not ready for regionalization.\n"
     ]
    },
    {
     "name": "stderr",
     "output_type": "stream",
     "text": [
      "100%|██████████| 1/1 [00:00<00:00, 1001.74it/s]\n"
     ]
    },
    {
     "name": "stdout",
     "output_type": "stream",
     "text": [
      "17:41:47+0200 [info     ] Vacuuming database            \n",
      "DK\n",
      "{'name': 'process_10', 'exchanges': [{'input': ('Emissions', 'process_10'), 'amount': 1, 'type': 'production'}, {'input': ('biosphere3', 'aa7cac3a-3625-41d4-bc54-33e2cf11ec46'), 'amount': 0.10134599700568894, 'type': 'biosphere', 'location': 'DK'}, {'input': ('biosphere3', 'afd6d670-bbb0-4625-9730-04088a5b035e'), 'amount': 2.260286698507473e-06, 'type': 'biosphere', 'location': 'DK'}, {'input': ('biosphere3', '70ef743b-3ed5-4a6d-b192-fb6d62378555'), 'amount': 3.091175603502956e-06, 'type': 'biosphere', 'location': 'DK'}]}\n",
      "17:41:48+0200 [warning  ] Not able to determine geocollections for all datasets. This database is not ready for regionalization.\n"
     ]
    },
    {
     "name": "stderr",
     "output_type": "stream",
     "text": [
      "100%|██████████| 1/1 [00:00<?, ?it/s]\n"
     ]
    },
    {
     "name": "stdout",
     "output_type": "stream",
     "text": [
      "17:41:48+0200 [info     ] Vacuuming database            \n",
      "EE\n",
      "{'name': 'process_11', 'exchanges': [{'input': ('Emissions', 'process_11'), 'amount': 1, 'type': 'production'}, {'input': ('biosphere3', 'aa7cac3a-3625-41d4-bc54-33e2cf11ec46'), 'amount': 0.017759454215628457, 'type': 'biosphere', 'location': 'EE'}, {'input': ('biosphere3', 'afd6d670-bbb0-4625-9730-04088a5b035e'), 'amount': 2.7578857097199515e-07, 'type': 'biosphere', 'location': 'EE'}, {'input': ('biosphere3', '70ef743b-3ed5-4a6d-b192-fb6d62378555'), 'amount': 6.557968494584947e-07, 'type': 'biosphere', 'location': 'EE'}]}\n",
      "17:41:48+0200 [warning  ] Not able to determine geocollections for all datasets. This database is not ready for regionalization.\n"
     ]
    },
    {
     "name": "stderr",
     "output_type": "stream",
     "text": [
      "100%|██████████| 1/1 [00:00<?, ?it/s]\n"
     ]
    },
    {
     "name": "stdout",
     "output_type": "stream",
     "text": [
      "17:41:48+0200 [info     ] Vacuuming database            \n",
      "FI\n",
      "{'name': 'process_12', 'exchanges': [{'input': ('Emissions', 'process_12'), 'amount': 1, 'type': 'production'}, {'input': ('biosphere3', 'aa7cac3a-3625-41d4-bc54-33e2cf11ec46'), 'amount': 0.021604080981341985, 'type': 'biosphere', 'location': 'FI'}, {'input': ('biosphere3', 'afd6d670-bbb0-4625-9730-04088a5b035e'), 'amount': 5.023468526920756e-07, 'type': 'biosphere', 'location': 'FI'}, {'input': ('biosphere3', '70ef743b-3ed5-4a6d-b192-fb6d62378555'), 'amount': 8.1565776582962e-07, 'type': 'biosphere', 'location': 'FI'}]}\n",
      "17:41:49+0200 [warning  ] Not able to determine geocollections for all datasets. This database is not ready for regionalization.\n"
     ]
    },
    {
     "name": "stderr",
     "output_type": "stream",
     "text": [
      "100%|██████████| 1/1 [00:00<?, ?it/s]\n"
     ]
    },
    {
     "name": "stdout",
     "output_type": "stream",
     "text": [
      "17:41:49+0200 [info     ] Vacuuming database            \n",
      "FR\n",
      "{'name': 'process_13', 'exchanges': [{'input': ('Emissions', 'process_13'), 'amount': 1, 'type': 'production'}, {'input': ('biosphere3', 'aa7cac3a-3625-41d4-bc54-33e2cf11ec46'), 'amount': 0.1888713516803054, 'type': 'biosphere', 'location': 'FR'}, {'input': ('biosphere3', 'afd6d670-bbb0-4625-9730-04088a5b035e'), 'amount': 6.347222436901375e-06, 'type': 'biosphere', 'location': 'FR'}, {'input': ('biosphere3', '70ef743b-3ed5-4a6d-b192-fb6d62378555'), 'amount': 4.994484765850732e-06, 'type': 'biosphere', 'location': 'FR'}]}\n",
      "17:41:49+0200 [warning  ] Not able to determine geocollections for all datasets. This database is not ready for regionalization.\n"
     ]
    },
    {
     "name": "stderr",
     "output_type": "stream",
     "text": [
      "100%|██████████| 1/1 [00:00<00:00, 999.60it/s]\n"
     ]
    },
    {
     "name": "stdout",
     "output_type": "stream",
     "text": [
      "17:41:49+0200 [info     ] Vacuuming database            \n",
      "DE\n",
      "{'name': 'process_14', 'exchanges': [{'input': ('Emissions', 'process_14'), 'amount': 1, 'type': 'production'}, {'input': ('biosphere3', 'aa7cac3a-3625-41d4-bc54-33e2cf11ec46'), 'amount': 0.385261760835194, 'type': 'biosphere', 'location': 'DE'}, {'input': ('biosphere3', 'afd6d670-bbb0-4625-9730-04088a5b035e'), 'amount': 1.1055919206248012e-05, 'type': 'biosphere', 'location': 'DE'}, {'input': ('biosphere3', '70ef743b-3ed5-4a6d-b192-fb6d62378555'), 'amount': 1.3328121236290382e-05, 'type': 'biosphere', 'location': 'DE'}]}\n",
      "17:41:50+0200 [warning  ] Not able to determine geocollections for all datasets. This database is not ready for regionalization.\n"
     ]
    },
    {
     "name": "stderr",
     "output_type": "stream",
     "text": [
      "100%|██████████| 1/1 [00:00<?, ?it/s]\n"
     ]
    },
    {
     "name": "stdout",
     "output_type": "stream",
     "text": [
      "17:41:50+0200 [info     ] Vacuuming database            \n",
      "GR\n",
      "{'name': 'process_15', 'exchanges': [{'input': ('Emissions', 'process_15'), 'amount': 1, 'type': 'production'}, {'input': ('biosphere3', 'aa7cac3a-3625-41d4-bc54-33e2cf11ec46'), 'amount': 0.005362199989300098, 'type': 'biosphere', 'location': 'GR'}, {'input': ('biosphere3', 'afd6d670-bbb0-4625-9730-04088a5b035e'), 'amount': 3.1134611460818795e-07, 'type': 'biosphere', 'location': 'GR'}, {'input': ('biosphere3', '70ef743b-3ed5-4a6d-b192-fb6d62378555'), 'amount': 2.232052333884334e-06, 'type': 'biosphere', 'location': 'GR'}]}\n",
      "17:41:50+0200 [warning  ] Not able to determine geocollections for all datasets. This database is not ready for regionalization.\n"
     ]
    },
    {
     "name": "stderr",
     "output_type": "stream",
     "text": [
      "100%|██████████| 1/1 [00:00<?, ?it/s]\n"
     ]
    },
    {
     "name": "stdout",
     "output_type": "stream",
     "text": [
      "17:41:50+0200 [info     ] Vacuuming database            \n",
      "HU\n",
      "{'name': 'process_16', 'exchanges': [{'input': ('Emissions', 'process_16'), 'amount': 1, 'type': 'production'}, {'input': ('biosphere3', 'aa7cac3a-3625-41d4-bc54-33e2cf11ec46'), 'amount': 0.40555045730002587, 'type': 'biosphere', 'location': 'HU'}, {'input': ('biosphere3', 'afd6d670-bbb0-4625-9730-04088a5b035e'), 'amount': 9.042596731613883e-06, 'type': 'biosphere', 'location': 'HU'}, {'input': ('biosphere3', '70ef743b-3ed5-4a6d-b192-fb6d62378555'), 'amount': 1.6357550668397192e-05, 'type': 'biosphere', 'location': 'HU'}]}\n",
      "17:41:50+0200 [warning  ] Not able to determine geocollections for all datasets. This database is not ready for regionalization.\n"
     ]
    },
    {
     "name": "stderr",
     "output_type": "stream",
     "text": [
      "100%|██████████| 1/1 [00:00<?, ?it/s]\n"
     ]
    },
    {
     "name": "stdout",
     "output_type": "stream",
     "text": [
      "17:41:50+0200 [info     ] Vacuuming database            \n",
      "HR\n",
      "{'name': 'process_17', 'exchanges': [{'input': ('Emissions', 'process_17'), 'amount': 1, 'type': 'production'}, {'input': ('biosphere3', 'aa7cac3a-3625-41d4-bc54-33e2cf11ec46'), 'amount': 0.018076028787203664, 'type': 'biosphere', 'location': 'HR'}, {'input': ('biosphere3', 'afd6d670-bbb0-4625-9730-04088a5b035e'), 'amount': 3.9457762378097977e-07, 'type': 'biosphere', 'location': 'HR'}, {'input': ('biosphere3', '70ef743b-3ed5-4a6d-b192-fb6d62378555'), 'amount': 5.877614700781303e-07, 'type': 'biosphere', 'location': 'HR'}]}\n",
      "17:41:51+0200 [warning  ] Not able to determine geocollections for all datasets. This database is not ready for regionalization.\n"
     ]
    },
    {
     "name": "stderr",
     "output_type": "stream",
     "text": [
      "100%|██████████| 1/1 [00:00<00:00, 1000.79it/s]\n"
     ]
    },
    {
     "name": "stdout",
     "output_type": "stream",
     "text": [
      "17:41:51+0200 [info     ] Vacuuming database            \n",
      "IN\n",
      "{'name': 'process_18', 'exchanges': [{'input': ('Emissions', 'process_18'), 'amount': 1, 'type': 'production'}, {'input': ('biosphere3', 'aa7cac3a-3625-41d4-bc54-33e2cf11ec46'), 'amount': 0.40242380200821, 'type': 'biosphere', 'location': 'IN'}, {'input': ('biosphere3', 'afd6d670-bbb0-4625-9730-04088a5b035e'), 'amount': 8.336359209994052e-06, 'type': 'biosphere', 'location': 'IN'}, {'input': ('biosphere3', '70ef743b-3ed5-4a6d-b192-fb6d62378555'), 'amount': 1.9675209660197607e-05, 'type': 'biosphere', 'location': 'IN'}]}\n",
      "17:41:51+0200 [warning  ] Not able to determine geocollections for all datasets. This database is not ready for regionalization.\n"
     ]
    },
    {
     "name": "stderr",
     "output_type": "stream",
     "text": [
      "100%|██████████| 1/1 [00:00<?, ?it/s]\n"
     ]
    },
    {
     "name": "stdout",
     "output_type": "stream",
     "text": [
      "17:41:51+0200 [info     ] Vacuuming database            \n",
      "ID\n",
      "{'name': 'process_19', 'exchanges': [{'input': ('Emissions', 'process_19'), 'amount': 1, 'type': 'production'}, {'input': ('biosphere3', 'aa7cac3a-3625-41d4-bc54-33e2cf11ec46'), 'amount': 0.7182158978726477, 'type': 'biosphere', 'location': 'ID'}, {'input': ('biosphere3', 'afd6d670-bbb0-4625-9730-04088a5b035e'), 'amount': 1.5878530234544286e-05, 'type': 'biosphere', 'location': 'ID'}, {'input': ('biosphere3', '70ef743b-3ed5-4a6d-b192-fb6d62378555'), 'amount': 2.0856887881127234e-05, 'type': 'biosphere', 'location': 'ID'}]}\n",
      "17:41:52+0200 [warning  ] Not able to determine geocollections for all datasets. This database is not ready for regionalization.\n"
     ]
    },
    {
     "name": "stderr",
     "output_type": "stream",
     "text": [
      "100%|██████████| 1/1 [00:00<?, ?it/s]\n"
     ]
    },
    {
     "name": "stdout",
     "output_type": "stream",
     "text": [
      "17:41:52+0200 [info     ] Vacuuming database            \n",
      "IE\n",
      "{'name': 'process_20', 'exchanges': [{'input': ('Emissions', 'process_20'), 'amount': 1, 'type': 'production'}, {'input': ('biosphere3', 'aa7cac3a-3625-41d4-bc54-33e2cf11ec46'), 'amount': 0.027100431992041672, 'type': 'biosphere', 'location': 'IE'}, {'input': ('biosphere3', 'afd6d670-bbb0-4625-9730-04088a5b035e'), 'amount': 6.091008978963677e-07, 'type': 'biosphere', 'location': 'IE'}, {'input': ('biosphere3', '70ef743b-3ed5-4a6d-b192-fb6d62378555'), 'amount': 9.72466132015005e-07, 'type': 'biosphere', 'location': 'IE'}]}\n",
      "17:41:52+0200 [warning  ] Not able to determine geocollections for all datasets. This database is not ready for regionalization.\n"
     ]
    },
    {
     "name": "stderr",
     "output_type": "stream",
     "text": [
      "100%|██████████| 1/1 [00:00<?, ?it/s]\n"
     ]
    },
    {
     "name": "stdout",
     "output_type": "stream",
     "text": [
      "17:41:52+0200 [info     ] Vacuuming database            \n",
      "IT\n",
      "{'name': 'process_21', 'exchanges': [{'input': ('Emissions', 'process_21'), 'amount': 1, 'type': 'production'}, {'input': ('biosphere3', 'aa7cac3a-3625-41d4-bc54-33e2cf11ec46'), 'amount': 0.2049324292730783, 'type': 'biosphere', 'location': 'IT'}, {'input': ('biosphere3', 'afd6d670-bbb0-4625-9730-04088a5b035e'), 'amount': 5.967841324820725e-06, 'type': 'biosphere', 'location': 'IT'}, {'input': ('biosphere3', '70ef743b-3ed5-4a6d-b192-fb6d62378555'), 'amount': 6.332175192584239e-06, 'type': 'biosphere', 'location': 'IT'}]}\n",
      "17:41:53+0200 [warning  ] Not able to determine geocollections for all datasets. This database is not ready for regionalization.\n"
     ]
    },
    {
     "name": "stderr",
     "output_type": "stream",
     "text": [
      "100%|██████████| 1/1 [00:00<?, ?it/s]\n"
     ]
    },
    {
     "name": "stdout",
     "output_type": "stream",
     "text": [
      "17:41:53+0200 [info     ] Vacuuming database            \n",
      "JP\n",
      "{'name': 'process_22', 'exchanges': [{'input': ('Emissions', 'process_22'), 'amount': 1, 'type': 'production'}, {'input': ('biosphere3', 'aa7cac3a-3625-41d4-bc54-33e2cf11ec46'), 'amount': 0.03800123988601261, 'type': 'biosphere', 'location': 'JP'}, {'input': ('biosphere3', 'afd6d670-bbb0-4625-9730-04088a5b035e'), 'amount': 9.60088707045233e-07, 'type': 'biosphere', 'location': 'JP'}, {'input': ('biosphere3', '70ef743b-3ed5-4a6d-b192-fb6d62378555'), 'amount': 1.8222130398751302e-06, 'type': 'biosphere', 'location': 'JP'}]}\n",
      "17:41:54+0200 [warning  ] Not able to determine geocollections for all datasets. This database is not ready for regionalization.\n"
     ]
    },
    {
     "name": "stderr",
     "output_type": "stream",
     "text": [
      "100%|██████████| 1/1 [00:00<?, ?it/s]\n"
     ]
    },
    {
     "name": "stdout",
     "output_type": "stream",
     "text": [
      "17:41:54+0200 [info     ] Vacuuming database            \n",
      "LV\n",
      "{'name': 'process_23', 'exchanges': [{'input': ('Emissions', 'process_23'), 'amount': 1, 'type': 'production'}, {'input': ('biosphere3', 'aa7cac3a-3625-41d4-bc54-33e2cf11ec46'), 'amount': 0.05711836710560757, 'type': 'biosphere', 'location': 'LV'}, {'input': ('biosphere3', 'afd6d670-bbb0-4625-9730-04088a5b035e'), 'amount': 1.164155845648033e-06, 'type': 'biosphere', 'location': 'LV'}, {'input': ('biosphere3', '70ef743b-3ed5-4a6d-b192-fb6d62378555'), 'amount': 1.946940096760502e-06, 'type': 'biosphere', 'location': 'LV'}]}\n",
      "17:41:54+0200 [warning  ] Not able to determine geocollections for all datasets. This database is not ready for regionalization.\n"
     ]
    },
    {
     "name": "stderr",
     "output_type": "stream",
     "text": [
      "100%|██████████| 1/1 [00:00<?, ?it/s]\n"
     ]
    },
    {
     "name": "stdout",
     "output_type": "stream",
     "text": [
      "17:41:54+0200 [info     ] Vacuuming database            \n",
      "LT\n",
      "{'name': 'process_24', 'exchanges': [{'input': ('Emissions', 'process_24'), 'amount': 1, 'type': 'production'}, {'input': ('biosphere3', 'aa7cac3a-3625-41d4-bc54-33e2cf11ec46'), 'amount': 0.1017113526172288, 'type': 'biosphere', 'location': 'LT'}, {'input': ('biosphere3', 'afd6d670-bbb0-4625-9730-04088a5b035e'), 'amount': 2.0487148595744427e-06, 'type': 'biosphere', 'location': 'LT'}, {'input': ('biosphere3', '70ef743b-3ed5-4a6d-b192-fb6d62378555'), 'amount': 2.9129270985379675e-06, 'type': 'biosphere', 'location': 'LT'}]}\n",
      "17:41:55+0200 [warning  ] Not able to determine geocollections for all datasets. This database is not ready for regionalization.\n"
     ]
    },
    {
     "name": "stderr",
     "output_type": "stream",
     "text": [
      "100%|██████████| 1/1 [00:00<?, ?it/s]\n"
     ]
    },
    {
     "name": "stdout",
     "output_type": "stream",
     "text": [
      "17:41:55+0200 [info     ] Vacuuming database            \n",
      "LU\n",
      "{'name': 'process_25', 'exchanges': [{'input': ('Emissions', 'process_25'), 'amount': 1, 'type': 'production'}, {'input': ('biosphere3', 'aa7cac3a-3625-41d4-bc54-33e2cf11ec46'), 'amount': 0.01644777015923606, 'type': 'biosphere', 'location': 'LU'}, {'input': ('biosphere3', 'afd6d670-bbb0-4625-9730-04088a5b035e'), 'amount': 5.976279373563691e-07, 'type': 'biosphere', 'location': 'LU'}, {'input': ('biosphere3', '70ef743b-3ed5-4a6d-b192-fb6d62378555'), 'amount': 5.115429429422388e-07, 'type': 'biosphere', 'location': 'LU'}]}\n",
      "17:41:55+0200 [warning  ] Not able to determine geocollections for all datasets. This database is not ready for regionalization.\n"
     ]
    },
    {
     "name": "stderr",
     "output_type": "stream",
     "text": [
      "100%|██████████| 1/1 [00:00<?, ?it/s]\n"
     ]
    },
    {
     "name": "stdout",
     "output_type": "stream",
     "text": [
      "17:41:55+0200 [info     ] Vacuuming database            \n",
      "MT\n",
      "{'name': 'process_26', 'exchanges': [{'input': ('Emissions', 'process_26'), 'amount': 1, 'type': 'production'}, {'input': ('biosphere3', 'aa7cac3a-3625-41d4-bc54-33e2cf11ec46'), 'amount': 0.0019049511082220203, 'type': 'biosphere', 'location': 'MT'}, {'input': ('biosphere3', 'afd6d670-bbb0-4625-9730-04088a5b035e'), 'amount': 4.289852384989755e-08, 'type': 'biosphere', 'location': 'MT'}, {'input': ('biosphere3', '70ef743b-3ed5-4a6d-b192-fb6d62378555'), 'amount': 6.572187988944805e-08, 'type': 'biosphere', 'location': 'MT'}]}\n",
      "17:41:56+0200 [warning  ] Not able to determine geocollections for all datasets. This database is not ready for regionalization.\n"
     ]
    },
    {
     "name": "stderr",
     "output_type": "stream",
     "text": [
      "100%|██████████| 1/1 [00:00<00:00, 780.05it/s]\n"
     ]
    },
    {
     "name": "stdout",
     "output_type": "stream",
     "text": [
      "17:41:56+0200 [info     ] Vacuuming database            \n",
      "MX\n",
      "{'name': 'process_27', 'exchanges': [{'input': ('Emissions', 'process_27'), 'amount': 1, 'type': 'production'}, {'input': ('biosphere3', 'aa7cac3a-3625-41d4-bc54-33e2cf11ec46'), 'amount': 0.04712048485219087, 'type': 'biosphere', 'location': 'MX'}, {'input': ('biosphere3', 'afd6d670-bbb0-4625-9730-04088a5b035e'), 'amount': 1.0080432359169284e-06, 'type': 'biosphere', 'location': 'MX'}, {'input': ('biosphere3', '70ef743b-3ed5-4a6d-b192-fb6d62378555'), 'amount': 1.9702935084918942e-06, 'type': 'biosphere', 'location': 'MX'}]}\n",
      "17:41:56+0200 [warning  ] Not able to determine geocollections for all datasets. This database is not ready for regionalization.\n"
     ]
    },
    {
     "name": "stderr",
     "output_type": "stream",
     "text": [
      "100%|██████████| 1/1 [00:00<00:00, 998.88it/s]\n"
     ]
    },
    {
     "name": "stdout",
     "output_type": "stream",
     "text": [
      "17:41:56+0200 [info     ] Vacuuming database            \n",
      "NL\n",
      "{'name': 'process_28', 'exchanges': [{'input': ('Emissions', 'process_28'), 'amount': 1, 'type': 'production'}, {'input': ('biosphere3', 'aa7cac3a-3625-41d4-bc54-33e2cf11ec46'), 'amount': 0.29231394114719556, 'type': 'biosphere', 'location': 'NL'}, {'input': ('biosphere3', 'afd6d670-bbb0-4625-9730-04088a5b035e'), 'amount': 7.981040568081016e-06, 'type': 'biosphere', 'location': 'NL'}, {'input': ('biosphere3', '70ef743b-3ed5-4a6d-b192-fb6d62378555'), 'amount': 6.834616245683885e-06, 'type': 'biosphere', 'location': 'NL'}]}\n",
      "17:41:57+0200 [warning  ] Not able to determine geocollections for all datasets. This database is not ready for regionalization.\n"
     ]
    },
    {
     "name": "stderr",
     "output_type": "stream",
     "text": [
      "100%|██████████| 1/1 [00:00<00:00, 999.60it/s]\n"
     ]
    },
    {
     "name": "stdout",
     "output_type": "stream",
     "text": [
      "17:41:57+0200 [info     ] Vacuuming database            \n",
      "NO\n",
      "{'name': 'process_29', 'exchanges': [{'input': ('Emissions', 'process_29'), 'amount': 1, 'type': 'production'}, {'input': ('biosphere3', 'aa7cac3a-3625-41d4-bc54-33e2cf11ec46'), 'amount': 0.030394280313359296, 'type': 'biosphere', 'location': 'NO'}, {'input': ('biosphere3', 'afd6d670-bbb0-4625-9730-04088a5b035e'), 'amount': 8.532291067516552e-07, 'type': 'biosphere', 'location': 'NO'}, {'input': ('biosphere3', '70ef743b-3ed5-4a6d-b192-fb6d62378555'), 'amount': 8.058209607925396e-07, 'type': 'biosphere', 'location': 'NO'}]}\n",
      "17:41:58+0200 [warning  ] Not able to determine geocollections for all datasets. This database is not ready for regionalization.\n"
     ]
    },
    {
     "name": "stderr",
     "output_type": "stream",
     "text": [
      "100%|██████████| 1/1 [00:00<?, ?it/s]\n"
     ]
    },
    {
     "name": "stdout",
     "output_type": "stream",
     "text": [
      "17:41:58+0200 [info     ] Vacuuming database            \n",
      "PL\n",
      "{'name': 'process_30', 'exchanges': [{'input': ('Emissions', 'process_30'), 'amount': 1, 'type': 'production'}, {'input': ('biosphere3', 'aa7cac3a-3625-41d4-bc54-33e2cf11ec46'), 'amount': 2.6927247428601553, 'type': 'biosphere', 'location': 'PL'}, {'input': ('biosphere3', 'afd6d670-bbb0-4625-9730-04088a5b035e'), 'amount': 0.00010513581657533791, 'type': 'biosphere', 'location': 'PL'}, {'input': ('biosphere3', '70ef743b-3ed5-4a6d-b192-fb6d62378555'), 'amount': 0.0006642926644226623, 'type': 'biosphere', 'location': 'PL'}]}\n",
      "17:41:58+0200 [warning  ] Not able to determine geocollections for all datasets. This database is not ready for regionalization.\n"
     ]
    },
    {
     "name": "stderr",
     "output_type": "stream",
     "text": [
      "100%|██████████| 1/1 [00:00<?, ?it/s]\n"
     ]
    },
    {
     "name": "stdout",
     "output_type": "stream",
     "text": [
      "17:41:58+0200 [info     ] Vacuuming database            \n",
      "PT\n",
      "{'name': 'process_31', 'exchanges': [{'input': ('Emissions', 'process_31'), 'amount': 1, 'type': 'production'}, {'input': ('biosphere3', 'aa7cac3a-3625-41d4-bc54-33e2cf11ec46'), 'amount': 0.073897975442873, 'type': 'biosphere', 'location': 'PT'}, {'input': ('biosphere3', 'afd6d670-bbb0-4625-9730-04088a5b035e'), 'amount': 2.422913408104321e-06, 'type': 'biosphere', 'location': 'PT'}, {'input': ('biosphere3', '70ef743b-3ed5-4a6d-b192-fb6d62378555'), 'amount': 2.243977533169025e-06, 'type': 'biosphere', 'location': 'PT'}]}\n",
      "17:41:59+0200 [warning  ] Not able to determine geocollections for all datasets. This database is not ready for regionalization.\n"
     ]
    },
    {
     "name": "stderr",
     "output_type": "stream",
     "text": [
      "100%|██████████| 1/1 [00:00<?, ?it/s]\n"
     ]
    },
    {
     "name": "stdout",
     "output_type": "stream",
     "text": [
      "17:41:59+0200 [info     ] Vacuuming database            \n",
      "RO\n",
      "{'name': 'process_32', 'exchanges': [{'input': ('Emissions', 'process_32'), 'amount': 1, 'type': 'production'}, {'input': ('biosphere3', 'aa7cac3a-3625-41d4-bc54-33e2cf11ec46'), 'amount': 0.08564762260805933, 'type': 'biosphere', 'location': 'RO'}, {'input': ('biosphere3', 'afd6d670-bbb0-4625-9730-04088a5b035e'), 'amount': 1.9394191653141514e-06, 'type': 'biosphere', 'location': 'RO'}, {'input': ('biosphere3', '70ef743b-3ed5-4a6d-b192-fb6d62378555'), 'amount': 2.8785121191010134e-06, 'type': 'biosphere', 'location': 'RO'}]}\n",
      "17:42:00+0200 [warning  ] Not able to determine geocollections for all datasets. This database is not ready for regionalization.\n"
     ]
    },
    {
     "name": "stderr",
     "output_type": "stream",
     "text": [
      "100%|██████████| 1/1 [00:00<?, ?it/s]\n"
     ]
    },
    {
     "name": "stdout",
     "output_type": "stream",
     "text": [
      "17:42:00+0200 [info     ] Vacuuming database            \n",
      "RU\n",
      "{'name': 'process_33', 'exchanges': [{'input': ('Emissions', 'process_33'), 'amount': 1, 'type': 'production'}, {'input': ('biosphere3', 'aa7cac3a-3625-41d4-bc54-33e2cf11ec46'), 'amount': 0.17372746564570585, 'type': 'biosphere', 'location': 'RU'}, {'input': ('biosphere3', 'afd6d670-bbb0-4625-9730-04088a5b035e'), 'amount': 4.155414990618706e-06, 'type': 'biosphere', 'location': 'RU'}, {'input': ('biosphere3', '70ef743b-3ed5-4a6d-b192-fb6d62378555'), 'amount': 8.829987101358645e-06, 'type': 'biosphere', 'location': 'RU'}]}\n",
      "17:42:00+0200 [warning  ] Not able to determine geocollections for all datasets. This database is not ready for regionalization.\n"
     ]
    },
    {
     "name": "stderr",
     "output_type": "stream",
     "text": [
      "100%|██████████| 1/1 [00:00<?, ?it/s]\n"
     ]
    },
    {
     "name": "stdout",
     "output_type": "stream",
     "text": [
      "17:42:00+0200 [info     ] Vacuuming database            \n",
      "SK\n",
      "{'name': 'process_34', 'exchanges': [{'input': ('Emissions', 'process_34'), 'amount': 1, 'type': 'production'}, {'input': ('biosphere3', 'aa7cac3a-3625-41d4-bc54-33e2cf11ec46'), 'amount': 0.09923531223602045, 'type': 'biosphere', 'location': 'SK'}, {'input': ('biosphere3', 'afd6d670-bbb0-4625-9730-04088a5b035e'), 'amount': 1.8780582590989796e-06, 'type': 'biosphere', 'location': 'SK'}, {'input': ('biosphere3', '70ef743b-3ed5-4a6d-b192-fb6d62378555'), 'amount': 4.496711229734354e-06, 'type': 'biosphere', 'location': 'SK'}]}\n",
      "17:42:01+0200 [warning  ] Not able to determine geocollections for all datasets. This database is not ready for regionalization.\n"
     ]
    },
    {
     "name": "stderr",
     "output_type": "stream",
     "text": [
      "100%|██████████| 1/1 [00:00<?, ?it/s]\n"
     ]
    },
    {
     "name": "stdout",
     "output_type": "stream",
     "text": [
      "17:42:01+0200 [info     ] Vacuuming database            \n",
      "SI\n",
      "{'name': 'process_35', 'exchanges': [{'input': ('Emissions', 'process_35'), 'amount': 1, 'type': 'production'}, {'input': ('biosphere3', 'aa7cac3a-3625-41d4-bc54-33e2cf11ec46'), 'amount': 0.06145760326898353, 'type': 'biosphere', 'location': 'SI'}, {'input': ('biosphere3', 'afd6d670-bbb0-4625-9730-04088a5b035e'), 'amount': 1.2761662384873488e-06, 'type': 'biosphere', 'location': 'SI'}, {'input': ('biosphere3', '70ef743b-3ed5-4a6d-b192-fb6d62378555'), 'amount': 2.6981107408541913e-06, 'type': 'biosphere', 'location': 'SI'}]}\n",
      "17:42:02+0200 [warning  ] Not able to determine geocollections for all datasets. This database is not ready for regionalization.\n"
     ]
    },
    {
     "name": "stderr",
     "output_type": "stream",
     "text": [
      "100%|██████████| 1/1 [00:00<?, ?it/s]\n"
     ]
    },
    {
     "name": "stdout",
     "output_type": "stream",
     "text": [
      "17:42:02+0200 [info     ] Vacuuming database            \n",
      "ZA\n",
      "{'name': 'process_36', 'exchanges': [{'input': ('Emissions', 'process_36'), 'amount': 1, 'type': 'production'}, {'input': ('biosphere3', 'aa7cac3a-3625-41d4-bc54-33e2cf11ec46'), 'amount': 0.06243335122976503, 'type': 'biosphere', 'location': 'ZA'}, {'input': ('biosphere3', 'afd6d670-bbb0-4625-9730-04088a5b035e'), 'amount': 1.2756695906657238e-06, 'type': 'biosphere', 'location': 'ZA'}, {'input': ('biosphere3', '70ef743b-3ed5-4a6d-b192-fb6d62378555'), 'amount': 3.225489507057467e-06, 'type': 'biosphere', 'location': 'ZA'}]}\n",
      "17:42:02+0200 [warning  ] Not able to determine geocollections for all datasets. This database is not ready for regionalization.\n"
     ]
    },
    {
     "name": "stderr",
     "output_type": "stream",
     "text": [
      "100%|██████████| 1/1 [00:00<00:00, 997.93it/s]\n"
     ]
    },
    {
     "name": "stdout",
     "output_type": "stream",
     "text": [
      "17:42:02+0200 [info     ] Vacuuming database            \n",
      "KR\n",
      "{'name': 'process_37', 'exchanges': [{'input': ('Emissions', 'process_37'), 'amount': 1, 'type': 'production'}, {'input': ('biosphere3', 'aa7cac3a-3625-41d4-bc54-33e2cf11ec46'), 'amount': 0.07740637151263968, 'type': 'biosphere', 'location': 'KR'}, {'input': ('biosphere3', 'afd6d670-bbb0-4625-9730-04088a5b035e'), 'amount': 2.1462577918818705e-06, 'type': 'biosphere', 'location': 'KR'}, {'input': ('biosphere3', '70ef743b-3ed5-4a6d-b192-fb6d62378555'), 'amount': 3.1668433132073712e-06, 'type': 'biosphere', 'location': 'KR'}]}\n",
      "17:42:03+0200 [warning  ] Not able to determine geocollections for all datasets. This database is not ready for regionalization.\n"
     ]
    },
    {
     "name": "stderr",
     "output_type": "stream",
     "text": [
      "100%|██████████| 1/1 [00:00<?, ?it/s]\n"
     ]
    },
    {
     "name": "stdout",
     "output_type": "stream",
     "text": [
      "17:42:03+0200 [info     ] Vacuuming database            \n",
      "ES\n",
      "{'name': 'process_38', 'exchanges': [{'input': ('Emissions', 'process_38'), 'amount': 1, 'type': 'production'}, {'input': ('biosphere3', 'aa7cac3a-3625-41d4-bc54-33e2cf11ec46'), 'amount': 0.109640490937211, 'type': 'biosphere', 'location': 'ES'}, {'input': ('biosphere3', 'afd6d670-bbb0-4625-9730-04088a5b035e'), 'amount': 4.520438405810794e-06, 'type': 'biosphere', 'location': 'ES'}, {'input': ('biosphere3', '70ef743b-3ed5-4a6d-b192-fb6d62378555'), 'amount': 7.758482398556979e-06, 'type': 'biosphere', 'location': 'ES'}]}\n",
      "17:42:04+0200 [warning  ] Not able to determine geocollections for all datasets. This database is not ready for regionalization.\n"
     ]
    },
    {
     "name": "stderr",
     "output_type": "stream",
     "text": [
      "100%|██████████| 1/1 [00:00<?, ?it/s]\n"
     ]
    },
    {
     "name": "stdout",
     "output_type": "stream",
     "text": [
      "17:42:04+0200 [info     ] Vacuuming database            \n",
      "SE\n",
      "{'name': 'process_39', 'exchanges': [{'input': ('Emissions', 'process_39'), 'amount': 1, 'type': 'production'}, {'input': ('biosphere3', 'aa7cac3a-3625-41d4-bc54-33e2cf11ec46'), 'amount': 0.1181960117914947, 'type': 'biosphere', 'location': 'SE'}, {'input': ('biosphere3', 'afd6d670-bbb0-4625-9730-04088a5b035e'), 'amount': 2.92996474700482e-06, 'type': 'biosphere', 'location': 'SE'}, {'input': ('biosphere3', '70ef743b-3ed5-4a6d-b192-fb6d62378555'), 'amount': 3.91986699082298e-06, 'type': 'biosphere', 'location': 'SE'}]}\n",
      "17:42:04+0200 [warning  ] Not able to determine geocollections for all datasets. This database is not ready for regionalization.\n"
     ]
    },
    {
     "name": "stderr",
     "output_type": "stream",
     "text": [
      "100%|██████████| 1/1 [00:00<?, ?it/s]\n"
     ]
    },
    {
     "name": "stdout",
     "output_type": "stream",
     "text": [
      "17:42:04+0200 [info     ] Vacuuming database            \n",
      "CH\n",
      "{'name': 'process_40', 'exchanges': [{'input': ('Emissions', 'process_40'), 'amount': 1, 'type': 'production'}, {'input': ('biosphere3', 'aa7cac3a-3625-41d4-bc54-33e2cf11ec46'), 'amount': 0.03477243008371461, 'type': 'biosphere', 'location': 'CH'}, {'input': ('biosphere3', 'afd6d670-bbb0-4625-9730-04088a5b035e'), 'amount': 8.109152085675608e-07, 'type': 'biosphere', 'location': 'CH'}, {'input': ('biosphere3', '70ef743b-3ed5-4a6d-b192-fb6d62378555'), 'amount': 7.869437310019207e-07, 'type': 'biosphere', 'location': 'CH'}]}\n",
      "17:42:05+0200 [warning  ] Not able to determine geocollections for all datasets. This database is not ready for regionalization.\n"
     ]
    },
    {
     "name": "stderr",
     "output_type": "stream",
     "text": [
      "100%|██████████| 1/1 [00:00<00:00, 907.47it/s]\n"
     ]
    },
    {
     "name": "stdout",
     "output_type": "stream",
     "text": [
      "17:42:05+0200 [info     ] Vacuuming database            \n",
      "TR\n",
      "{'name': 'process_41', 'exchanges': [{'input': ('Emissions', 'process_41'), 'amount': 1, 'type': 'production'}, {'input': ('biosphere3', 'aa7cac3a-3625-41d4-bc54-33e2cf11ec46'), 'amount': 0.06963525782796985, 'type': 'biosphere', 'location': 'TR'}, {'input': ('biosphere3', 'afd6d670-bbb0-4625-9730-04088a5b035e'), 'amount': 1.6316008289897038e-06, 'type': 'biosphere', 'location': 'TR'}, {'input': ('biosphere3', '70ef743b-3ed5-4a6d-b192-fb6d62378555'), 'amount': 2.5894786423461906e-06, 'type': 'biosphere', 'location': 'TR'}]}\n",
      "17:42:06+0200 [warning  ] Not able to determine geocollections for all datasets. This database is not ready for regionalization.\n"
     ]
    },
    {
     "name": "stderr",
     "output_type": "stream",
     "text": [
      "100%|██████████| 1/1 [00:00<?, ?it/s]\n"
     ]
    },
    {
     "name": "stdout",
     "output_type": "stream",
     "text": [
      "17:42:06+0200 [info     ] Vacuuming database            \n",
      "GB\n",
      "{'name': 'process_42', 'exchanges': [{'input': ('Emissions', 'process_42'), 'amount': 1, 'type': 'production'}, {'input': ('biosphere3', 'aa7cac3a-3625-41d4-bc54-33e2cf11ec46'), 'amount': 0.002050446840217239, 'type': 'biosphere', 'location': 'GB'}, {'input': ('biosphere3', 'afd6d670-bbb0-4625-9730-04088a5b035e'), 'amount': 3.5292603318538975e-08, 'type': 'biosphere', 'location': 'GB'}, {'input': ('biosphere3', '70ef743b-3ed5-4a6d-b192-fb6d62378555'), 'amount': 1.868213652249755e-07, 'type': 'biosphere', 'location': 'GB'}]}\n",
      "17:42:06+0200 [warning  ] Not able to determine geocollections for all datasets. This database is not ready for regionalization.\n"
     ]
    },
    {
     "name": "stderr",
     "output_type": "stream",
     "text": [
      "100%|██████████| 1/1 [00:00<?, ?it/s]\n"
     ]
    },
    {
     "name": "stdout",
     "output_type": "stream",
     "text": [
      "17:42:06+0200 [info     ] Vacuuming database            \n",
      "US\n",
      "{'name': 'process_43', 'exchanges': [{'input': ('Emissions', 'process_43'), 'amount': 1, 'type': 'production'}, {'input': ('biosphere3', 'aa7cac3a-3625-41d4-bc54-33e2cf11ec46'), 'amount': 1.1352248126224078, 'type': 'biosphere', 'location': 'US'}, {'input': ('biosphere3', 'afd6d670-bbb0-4625-9730-04088a5b035e'), 'amount': 2.8989045020083384e-05, 'type': 'biosphere', 'location': 'US'}, {'input': ('biosphere3', '70ef743b-3ed5-4a6d-b192-fb6d62378555'), 'amount': 7.629787748003548e-05, 'type': 'biosphere', 'location': 'US'}]}\n",
      "17:42:07+0200 [warning  ] Not able to determine geocollections for all datasets. This database is not ready for regionalization.\n"
     ]
    },
    {
     "name": "stderr",
     "output_type": "stream",
     "text": [
      "100%|██████████| 1/1 [00:00<?, ?it/s]\n"
     ]
    },
    {
     "name": "stdout",
     "output_type": "stream",
     "text": [
      "17:42:07+0200 [info     ] Vacuuming database            \n",
      "WA\n",
      "{'name': 'process_44', 'exchanges': [{'input': ('Emissions', 'process_44'), 'amount': 1, 'type': 'production'}, {'input': ('biosphere3', 'aa7cac3a-3625-41d4-bc54-33e2cf11ec46'), 'amount': 3.588031254477921, 'type': 'biosphere', 'location': 'WA'}, {'input': ('biosphere3', 'afd6d670-bbb0-4625-9730-04088a5b035e'), 'amount': 7.783174066705955e-05, 'type': 'biosphere', 'location': 'WA'}, {'input': ('biosphere3', '70ef743b-3ed5-4a6d-b192-fb6d62378555'), 'amount': 0.00015226358513830107, 'type': 'biosphere', 'location': 'WA'}]}\n",
      "17:42:07+0200 [warning  ] Not able to determine geocollections for all datasets. This database is not ready for regionalization.\n"
     ]
    },
    {
     "name": "stderr",
     "output_type": "stream",
     "text": [
      "100%|██████████| 1/1 [00:00<00:00, 999.83it/s]\n"
     ]
    },
    {
     "name": "stdout",
     "output_type": "stream",
     "text": [
      "17:42:08+0200 [info     ] Vacuuming database            \n",
      "WL\n",
      "{'name': 'process_45', 'exchanges': [{'input': ('Emissions', 'process_45'), 'amount': 1, 'type': 'production'}, {'input': ('biosphere3', 'aa7cac3a-3625-41d4-bc54-33e2cf11ec46'), 'amount': 0.6962455394181849, 'type': 'biosphere', 'location': 'WL'}, {'input': ('biosphere3', 'afd6d670-bbb0-4625-9730-04088a5b035e'), 'amount': 1.4866106762424115e-05, 'type': 'biosphere', 'location': 'WL'}, {'input': ('biosphere3', '70ef743b-3ed5-4a6d-b192-fb6d62378555'), 'amount': 4.055685258008985e-05, 'type': 'biosphere', 'location': 'WL'}]}\n",
      "17:42:08+0200 [warning  ] Not able to determine geocollections for all datasets. This database is not ready for regionalization.\n"
     ]
    },
    {
     "name": "stderr",
     "output_type": "stream",
     "text": [
      "100%|██████████| 1/1 [00:00<?, ?it/s]\n"
     ]
    },
    {
     "name": "stdout",
     "output_type": "stream",
     "text": [
      "17:42:08+0200 [info     ] Vacuuming database            \n",
      "WE\n",
      "{'name': 'process_46', 'exchanges': [{'input': ('Emissions', 'process_46'), 'amount': 1, 'type': 'production'}, {'input': ('biosphere3', 'aa7cac3a-3625-41d4-bc54-33e2cf11ec46'), 'amount': 0.3948017547434099, 'type': 'biosphere', 'location': 'WE'}, {'input': ('biosphere3', 'afd6d670-bbb0-4625-9730-04088a5b035e'), 'amount': 8.568719208517135e-06, 'type': 'biosphere', 'location': 'WE'}, {'input': ('biosphere3', '70ef743b-3ed5-4a6d-b192-fb6d62378555'), 'amount': 1.4557761065156117e-05, 'type': 'biosphere', 'location': 'WE'}]}\n",
      "17:42:09+0200 [warning  ] Not able to determine geocollections for all datasets. This database is not ready for regionalization.\n"
     ]
    },
    {
     "name": "stderr",
     "output_type": "stream",
     "text": [
      "100%|██████████| 1/1 [00:00<?, ?it/s]\n"
     ]
    },
    {
     "name": "stdout",
     "output_type": "stream",
     "text": [
      "17:42:09+0200 [info     ] Vacuuming database            \n",
      "WF\n",
      "{'name': 'process_47', 'exchanges': [{'input': ('Emissions', 'process_47'), 'amount': 1, 'type': 'production'}, {'input': ('biosphere3', 'aa7cac3a-3625-41d4-bc54-33e2cf11ec46'), 'amount': 1.7017121975322465, 'type': 'biosphere', 'location': 'WF'}, {'input': ('biosphere3', 'afd6d670-bbb0-4625-9730-04088a5b035e'), 'amount': 3.611654750576241e-05, 'type': 'biosphere', 'location': 'WF'}, {'input': ('biosphere3', '70ef743b-3ed5-4a6d-b192-fb6d62378555'), 'amount': 7.188425212399446e-05, 'type': 'biosphere', 'location': 'WF'}]}\n",
      "17:42:09+0200 [warning  ] Not able to determine geocollections for all datasets. This database is not ready for regionalization.\n"
     ]
    },
    {
     "name": "stderr",
     "output_type": "stream",
     "text": [
      "100%|██████████| 1/1 [00:00<?, ?it/s]\n"
     ]
    },
    {
     "name": "stdout",
     "output_type": "stream",
     "text": [
      "17:42:10+0200 [info     ] Vacuuming database            \n",
      "WM\n",
      "{'name': 'process_48', 'exchanges': [{'input': ('Emissions', 'process_48'), 'amount': 1, 'type': 'production'}, {'input': ('biosphere3', 'aa7cac3a-3625-41d4-bc54-33e2cf11ec46'), 'amount': 0.4755771059624312, 'type': 'biosphere', 'location': 'WM'}, {'input': ('biosphere3', 'afd6d670-bbb0-4625-9730-04088a5b035e'), 'amount': 0.0, 'type': 'biosphere', 'location': 'WM'}, {'input': ('biosphere3', '70ef743b-3ed5-4a6d-b192-fb6d62378555'), 'amount': 0.0, 'type': 'biosphere', 'location': 'WM'}]}\n",
      "17:42:10+0200 [warning  ] Not able to determine geocollections for all datasets. This database is not ready for regionalization.\n"
     ]
    },
    {
     "name": "stderr",
     "output_type": "stream",
     "text": [
      "100%|██████████| 1/1 [00:00<?, ?it/s]\n"
     ]
    },
    {
     "name": "stdout",
     "output_type": "stream",
     "text": [
      "17:42:10+0200 [info     ] Vacuuming database            \n"
     ]
    }
   ],
   "source": [
    "M_eq_trucks_3_mining=[]\n",
    "flag=0\n",
    "for i, region in impact_trucks_c_mining.items(): #Creating a proccess with emissions\n",
    "    flag=flag+1\n",
    "    print(i)\n",
    "    process_data={'name':f\"process_{flag}\" ,\n",
    "            'exchanges': [\n",
    "                {'input': (\"Emissions\", f\"process_{flag}\"), 'amount': 1, 'type': 'production'},\n",
    "                {'input': co2_key, 'amount': impact_trucks_c_mining.loc[('Carbon dioxide, fossil','tonnes','air'),i]*1000, 'type': 'biosphere', 'location': i},#to add the emissions of each activity\n",
    "                {'input': n2o_key, 'amount': impact_trucks_c_mining.loc[('N2O','tonnes','air'),i]*1000, 'type': 'biosphere', 'location': i},\n",
    "                {'input': ch4_key, 'amount': impact_trucks_c_mining.loc[('CH4','tonnes','air'),i]*1000, 'type': 'biosphere', 'location': i}\n",
    "            ]\n",
    "        }\n",
    "    print(process_data)\n",
    "    bd.Database(\"Emissions\").write({(\"Emissions\", f\"process_{flag}\"): process_data}) #To add in database\n",
    "    demand_i={(\"Emissions\", f\"process_{flag}\"):1} #1 as functional unit\n",
    "    value=bc.lca.LCA(demand_i,method_chosen) \n",
    "    value.lci(factorize=True) #with factorization false doesn't work\n",
    "    value.lcia()\n",
    "\n",
    "\n",
    "    M_eq_trucks_3_mining.append(value.score/1000) #to store the equivalent emissions in M_eq_val in tonnes\n",
    "\n",
    "M_eq_trucks_3_mining=pd.DataFrame(M_eq_trucks_3_mining)\n",
    "M_eq_trucks_3_mining.index=impact_trucks_c_mining.columns\n",
    "M_eq_trucks_3_mining.columns=[\"CO2-eq\"] #To name the columns"
   ]
  },
  {
   "cell_type": "code",
   "execution_count": 290,
   "id": "8f472190",
   "metadata": {},
   "outputs": [
    {
     "name": "stdout",
     "output_type": "stream",
     "text": [
      "AU\n",
      "{'name': 'process_1', 'exchanges': [{'input': ('Emissions', 'process_1'), 'amount': 1, 'type': 'production'}, {'input': ('biosphere3', 'aa7cac3a-3625-41d4-bc54-33e2cf11ec46'), 'amount': 0.19467782296102445, 'type': 'biosphere', 'location': 'AU'}, {'input': ('biosphere3', 'afd6d670-bbb0-4625-9730-04088a5b035e'), 'amount': 5.147487189903414e-06, 'type': 'biosphere', 'location': 'AU'}, {'input': ('biosphere3', '70ef743b-3ed5-4a6d-b192-fb6d62378555'), 'amount': 7.621686693404993e-06, 'type': 'biosphere', 'location': 'AU'}]}\n",
      "17:42:11+0200 [warning  ] Not able to determine geocollections for all datasets. This database is not ready for regionalization.\n"
     ]
    },
    {
     "name": "stderr",
     "output_type": "stream",
     "text": [
      "100%|██████████| 1/1 [00:00<?, ?it/s]\n"
     ]
    },
    {
     "name": "stdout",
     "output_type": "stream",
     "text": [
      "17:42:11+0200 [info     ] Vacuuming database            \n",
      "AT\n",
      "{'name': 'process_2', 'exchanges': [{'input': ('Emissions', 'process_2'), 'amount': 1, 'type': 'production'}, {'input': ('biosphere3', 'aa7cac3a-3625-41d4-bc54-33e2cf11ec46'), 'amount': 0.10459126678835746, 'type': 'biosphere', 'location': 'AT'}, {'input': ('biosphere3', 'afd6d670-bbb0-4625-9730-04088a5b035e'), 'amount': 3.0960144482204e-06, 'type': 'biosphere', 'location': 'AT'}, {'input': ('biosphere3', '70ef743b-3ed5-4a6d-b192-fb6d62378555'), 'amount': 3.416403311229821e-06, 'type': 'biosphere', 'location': 'AT'}]}\n",
      "17:42:11+0200 [warning  ] Not able to determine geocollections for all datasets. This database is not ready for regionalization.\n"
     ]
    },
    {
     "name": "stderr",
     "output_type": "stream",
     "text": [
      "100%|██████████| 1/1 [00:00<?, ?it/s]\n"
     ]
    },
    {
     "name": "stdout",
     "output_type": "stream",
     "text": [
      "17:42:11+0200 [info     ] Vacuuming database            \n",
      "BE\n",
      "{'name': 'process_3', 'exchanges': [{'input': ('Emissions', 'process_3'), 'amount': 1, 'type': 'production'}, {'input': ('biosphere3', 'aa7cac3a-3625-41d4-bc54-33e2cf11ec46'), 'amount': 0.08867729748622062, 'type': 'biosphere', 'location': 'BE'}, {'input': ('biosphere3', 'afd6d670-bbb0-4625-9730-04088a5b035e'), 'amount': 3.4668734862306292e-06, 'type': 'biosphere', 'location': 'BE'}, {'input': ('biosphere3', '70ef743b-3ed5-4a6d-b192-fb6d62378555'), 'amount': 2.3749586945955603e-06, 'type': 'biosphere', 'location': 'BE'}]}\n",
      "17:42:12+0200 [warning  ] Not able to determine geocollections for all datasets. This database is not ready for regionalization.\n"
     ]
    },
    {
     "name": "stderr",
     "output_type": "stream",
     "text": [
      "100%|██████████| 1/1 [00:00<00:00, 1001.27it/s]\n"
     ]
    },
    {
     "name": "stdout",
     "output_type": "stream",
     "text": [
      "17:42:12+0200 [info     ] Vacuuming database            \n",
      "BR\n",
      "{'name': 'process_4', 'exchanges': [{'input': ('Emissions', 'process_4'), 'amount': 1, 'type': 'production'}, {'input': ('biosphere3', 'aa7cac3a-3625-41d4-bc54-33e2cf11ec46'), 'amount': 0.07283348011109494, 'type': 'biosphere', 'location': 'BR'}, {'input': ('biosphere3', 'afd6d670-bbb0-4625-9730-04088a5b035e'), 'amount': 1.685792350553719e-06, 'type': 'biosphere', 'location': 'BR'}, {'input': ('biosphere3', '70ef743b-3ed5-4a6d-b192-fb6d62378555'), 'amount': 4.312401044918085e-06, 'type': 'biosphere', 'location': 'BR'}]}\n",
      "17:42:13+0200 [warning  ] Not able to determine geocollections for all datasets. This database is not ready for regionalization.\n"
     ]
    },
    {
     "name": "stderr",
     "output_type": "stream",
     "text": [
      "100%|██████████| 1/1 [00:00<?, ?it/s]\n"
     ]
    },
    {
     "name": "stdout",
     "output_type": "stream",
     "text": [
      "17:42:13+0200 [info     ] Vacuuming database            \n",
      "BG\n",
      "{'name': 'process_5', 'exchanges': [{'input': ('Emissions', 'process_5'), 'amount': 1, 'type': 'production'}, {'input': ('biosphere3', 'aa7cac3a-3625-41d4-bc54-33e2cf11ec46'), 'amount': 0.04708294377145535, 'type': 'biosphere', 'location': 'BG'}, {'input': ('biosphere3', 'afd6d670-bbb0-4625-9730-04088a5b035e'), 'amount': 1.0014979815725103e-06, 'type': 'biosphere', 'location': 'BG'}, {'input': ('biosphere3', '70ef743b-3ed5-4a6d-b192-fb6d62378555'), 'amount': 1.3625509775781494e-06, 'type': 'biosphere', 'location': 'BG'}]}\n",
      "17:42:13+0200 [warning  ] Not able to determine geocollections for all datasets. This database is not ready for regionalization.\n"
     ]
    },
    {
     "name": "stderr",
     "output_type": "stream",
     "text": [
      "100%|██████████| 1/1 [00:00<00:00, 999.83it/s]\n"
     ]
    },
    {
     "name": "stdout",
     "output_type": "stream",
     "text": [
      "17:42:13+0200 [info     ] Vacuuming database            \n",
      "CA\n",
      "{'name': 'process_6', 'exchanges': [{'input': ('Emissions', 'process_6'), 'amount': 1, 'type': 'production'}, {'input': ('biosphere3', 'aa7cac3a-3625-41d4-bc54-33e2cf11ec46'), 'amount': 0.4863808622522054, 'type': 'biosphere', 'location': 'CA'}, {'input': ('biosphere3', 'afd6d670-bbb0-4625-9730-04088a5b035e'), 'amount': 1.2300200134111856e-05, 'type': 'biosphere', 'location': 'CA'}, {'input': ('biosphere3', '70ef743b-3ed5-4a6d-b192-fb6d62378555'), 'amount': 2.8596819501103213e-05, 'type': 'biosphere', 'location': 'CA'}]}\n",
      "17:42:14+0200 [warning  ] Not able to determine geocollections for all datasets. This database is not ready for regionalization.\n"
     ]
    },
    {
     "name": "stderr",
     "output_type": "stream",
     "text": [
      "100%|██████████| 1/1 [00:00<?, ?it/s]\n"
     ]
    },
    {
     "name": "stdout",
     "output_type": "stream",
     "text": [
      "17:42:14+0200 [info     ] Vacuuming database            \n",
      "CN\n",
      "{'name': 'process_7', 'exchanges': [{'input': ('Emissions', 'process_7'), 'amount': 1, 'type': 'production'}, {'input': ('biosphere3', 'aa7cac3a-3625-41d4-bc54-33e2cf11ec46'), 'amount': 0.48160641943241744, 'type': 'biosphere', 'location': 'CN'}, {'input': ('biosphere3', 'afd6d670-bbb0-4625-9730-04088a5b035e'), 'amount': 1.0410028909119676e-05, 'type': 'biosphere', 'location': 'CN'}, {'input': ('biosphere3', '70ef743b-3ed5-4a6d-b192-fb6d62378555'), 'amount': 2.072804249619039e-05, 'type': 'biosphere', 'location': 'CN'}]}\n",
      "17:42:14+0200 [warning  ] Not able to determine geocollections for all datasets. This database is not ready for regionalization.\n"
     ]
    },
    {
     "name": "stderr",
     "output_type": "stream",
     "text": [
      "100%|██████████| 1/1 [00:00<?, ?it/s]\n"
     ]
    },
    {
     "name": "stdout",
     "output_type": "stream",
     "text": [
      "17:42:14+0200 [info     ] Vacuuming database            \n",
      "CY\n",
      "{'name': 'process_8', 'exchanges': [{'input': ('Emissions', 'process_8'), 'amount': 1, 'type': 'production'}, {'input': ('biosphere3', 'aa7cac3a-3625-41d4-bc54-33e2cf11ec46'), 'amount': 0.010005843454815753, 'type': 'biosphere', 'location': 'CY'}, {'input': ('biosphere3', 'afd6d670-bbb0-4625-9730-04088a5b035e'), 'amount': 1.941542977840974e-07, 'type': 'biosphere', 'location': 'CY'}, {'input': ('biosphere3', '70ef743b-3ed5-4a6d-b192-fb6d62378555'), 'amount': 7.263115883496778e-07, 'type': 'biosphere', 'location': 'CY'}]}\n",
      "17:42:15+0200 [warning  ] Not able to determine geocollections for all datasets. This database is not ready for regionalization.\n"
     ]
    },
    {
     "name": "stderr",
     "output_type": "stream",
     "text": [
      "100%|██████████| 1/1 [00:00<?, ?it/s]\n"
     ]
    },
    {
     "name": "stdout",
     "output_type": "stream",
     "text": [
      "17:42:15+0200 [info     ] Vacuuming database            \n",
      "CZ\n",
      "{'name': 'process_9', 'exchanges': [{'input': ('Emissions', 'process_9'), 'amount': 1, 'type': 'production'}, {'input': ('biosphere3', 'aa7cac3a-3625-41d4-bc54-33e2cf11ec46'), 'amount': 0.26700053925862427, 'type': 'biosphere', 'location': 'CZ'}, {'input': ('biosphere3', 'afd6d670-bbb0-4625-9730-04088a5b035e'), 'amount': 6.8869229062584085e-06, 'type': 'biosphere', 'location': 'CZ'}, {'input': ('biosphere3', '70ef743b-3ed5-4a6d-b192-fb6d62378555'), 'amount': 9.698074500422722e-06, 'type': 'biosphere', 'location': 'CZ'}]}\n",
      "17:42:15+0200 [warning  ] Not able to determine geocollections for all datasets. This database is not ready for regionalization.\n"
     ]
    },
    {
     "name": "stderr",
     "output_type": "stream",
     "text": [
      "100%|██████████| 1/1 [00:00<?, ?it/s]\n"
     ]
    },
    {
     "name": "stdout",
     "output_type": "stream",
     "text": [
      "17:42:15+0200 [info     ] Vacuuming database            \n",
      "DK\n",
      "{'name': 'process_10', 'exchanges': [{'input': ('Emissions', 'process_10'), 'amount': 1, 'type': 'production'}, {'input': ('biosphere3', 'aa7cac3a-3625-41d4-bc54-33e2cf11ec46'), 'amount': 0.11214077446628916, 'type': 'biosphere', 'location': 'DK'}, {'input': ('biosphere3', 'afd6d670-bbb0-4625-9730-04088a5b035e'), 'amount': 2.5010390975013212e-06, 'type': 'biosphere', 'location': 'DK'}, {'input': ('biosphere3', '70ef743b-3ed5-4a6d-b192-fb6d62378555'), 'amount': 3.4204293847803547e-06, 'type': 'biosphere', 'location': 'DK'}]}\n",
      "17:42:16+0200 [warning  ] Not able to determine geocollections for all datasets. This database is not ready for regionalization.\n"
     ]
    },
    {
     "name": "stderr",
     "output_type": "stream",
     "text": [
      "100%|██████████| 1/1 [00:00<?, ?it/s]\n"
     ]
    },
    {
     "name": "stdout",
     "output_type": "stream",
     "text": [
      "17:42:16+0200 [info     ] Vacuuming database            \n",
      "EE\n",
      "{'name': 'process_11', 'exchanges': [{'input': ('Emissions', 'process_11'), 'amount': 1, 'type': 'production'}, {'input': ('biosphere3', 'aa7cac3a-3625-41d4-bc54-33e2cf11ec46'), 'amount': 0.01951853496591206, 'type': 'biosphere', 'location': 'EE'}, {'input': ('biosphere3', 'afd6d670-bbb0-4625-9730-04088a5b035e'), 'amount': 3.0310553468353406e-07, 'type': 'biosphere', 'location': 'EE'}, {'input': ('biosphere3', '70ef743b-3ed5-4a6d-b192-fb6d62378555'), 'amount': 7.207537788760608e-07, 'type': 'biosphere', 'location': 'EE'}]}\n",
      "17:42:16+0200 [warning  ] Not able to determine geocollections for all datasets. This database is not ready for regionalization.\n"
     ]
    },
    {
     "name": "stderr",
     "output_type": "stream",
     "text": [
      "100%|██████████| 1/1 [00:00<00:00, 981.35it/s]\n"
     ]
    },
    {
     "name": "stdout",
     "output_type": "stream",
     "text": [
      "17:42:17+0200 [info     ] Vacuuming database            \n",
      "FI\n",
      "{'name': 'process_12', 'exchanges': [{'input': ('Emissions', 'process_12'), 'amount': 1, 'type': 'production'}, {'input': ('biosphere3', 'aa7cac3a-3625-41d4-bc54-33e2cf11ec46'), 'amount': 0.024204910499162558, 'type': 'biosphere', 'location': 'FI'}, {'input': ('biosphere3', 'afd6d670-bbb0-4625-9730-04088a5b035e'), 'amount': 5.628223954283839e-07, 'type': 'biosphere', 'location': 'FI'}, {'input': ('biosphere3', '70ef743b-3ed5-4a6d-b192-fb6d62378555'), 'amount': 9.138515652160117e-07, 'type': 'biosphere', 'location': 'FI'}]}\n",
      "17:42:17+0200 [warning  ] Not able to determine geocollections for all datasets. This database is not ready for regionalization.\n"
     ]
    },
    {
     "name": "stderr",
     "output_type": "stream",
     "text": [
      "100%|██████████| 1/1 [00:00<00:00, 998.64it/s]\n"
     ]
    },
    {
     "name": "stdout",
     "output_type": "stream",
     "text": [
      "17:42:17+0200 [info     ] Vacuuming database            \n",
      "FR\n",
      "{'name': 'process_13', 'exchanges': [{'input': ('Emissions', 'process_13'), 'amount': 1, 'type': 'production'}, {'input': ('biosphere3', 'aa7cac3a-3625-41d4-bc54-33e2cf11ec46'), 'amount': 0.20700619278461174, 'type': 'biosphere', 'location': 'FR'}, {'input': ('biosphere3', 'afd6d670-bbb0-4625-9730-04088a5b035e'), 'amount': 6.95666303931592e-06, 'type': 'biosphere', 'location': 'FR'}, {'input': ('biosphere3', '70ef743b-3ed5-4a6d-b192-fb6d62378555'), 'amount': 5.4740396947522455e-06, 'type': 'biosphere', 'location': 'FR'}]}\n",
      "17:42:18+0200 [warning  ] Not able to determine geocollections for all datasets. This database is not ready for regionalization.\n"
     ]
    },
    {
     "name": "stderr",
     "output_type": "stream",
     "text": [
      "100%|██████████| 1/1 [00:00<?, ?it/s]\n"
     ]
    },
    {
     "name": "stdout",
     "output_type": "stream",
     "text": [
      "17:42:18+0200 [info     ] Vacuuming database            \n",
      "DE\n",
      "{'name': 'process_14', 'exchanges': [{'input': ('Emissions', 'process_14'), 'amount': 1, 'type': 'production'}, {'input': ('biosphere3', 'aa7cac3a-3625-41d4-bc54-33e2cf11ec46'), 'amount': 0.42325200849239286, 'type': 'biosphere', 'location': 'DE'}, {'input': ('biosphere3', 'afd6d670-bbb0-4625-9730-04088a5b035e'), 'amount': 1.2146131501942258e-05, 'type': 'biosphere', 'location': 'DE'}, {'input': ('biosphere3', '70ef743b-3ed5-4a6d-b192-fb6d62378555'), 'amount': 1.4642392929058885e-05, 'type': 'biosphere', 'location': 'DE'}]}\n",
      "17:42:18+0200 [warning  ] Not able to determine geocollections for all datasets. This database is not ready for regionalization.\n"
     ]
    },
    {
     "name": "stderr",
     "output_type": "stream",
     "text": [
      "100%|██████████| 1/1 [00:00<?, ?it/s]\n"
     ]
    },
    {
     "name": "stdout",
     "output_type": "stream",
     "text": [
      "17:42:18+0200 [info     ] Vacuuming database            \n",
      "GR\n",
      "{'name': 'process_15', 'exchanges': [{'input': ('Emissions', 'process_15'), 'amount': 1, 'type': 'production'}, {'input': ('biosphere3', 'aa7cac3a-3625-41d4-bc54-33e2cf11ec46'), 'amount': 0.005881461631141277, 'type': 'biosphere', 'location': 'GR'}, {'input': ('biosphere3', 'afd6d670-bbb0-4625-9730-04088a5b035e'), 'amount': 3.414960707782153e-07, 'type': 'biosphere', 'location': 'GR'}, {'input': ('biosphere3', '70ef743b-3ed5-4a6d-b192-fb6d62378555'), 'amount': 2.448198535421195e-06, 'type': 'biosphere', 'location': 'GR'}]}\n",
      "17:42:19+0200 [warning  ] Not able to determine geocollections for all datasets. This database is not ready for regionalization.\n"
     ]
    },
    {
     "name": "stderr",
     "output_type": "stream",
     "text": [
      "100%|██████████| 1/1 [00:00<?, ?it/s]\n"
     ]
    },
    {
     "name": "stdout",
     "output_type": "stream",
     "text": [
      "17:42:19+0200 [info     ] Vacuuming database            \n",
      "HU\n",
      "{'name': 'process_16', 'exchanges': [{'input': ('Emissions', 'process_16'), 'amount': 1, 'type': 'production'}, {'input': ('biosphere3', 'aa7cac3a-3625-41d4-bc54-33e2cf11ec46'), 'amount': 0.4453708983327421, 'type': 'biosphere', 'location': 'HU'}, {'input': ('biosphere3', 'afd6d670-bbb0-4625-9730-04088a5b035e'), 'amount': 9.9304768546721e-06, 'type': 'biosphere', 'location': 'HU'}, {'input': ('biosphere3', '70ef743b-3ed5-4a6d-b192-fb6d62378555'), 'amount': 1.796367604714063e-05, 'type': 'biosphere', 'location': 'HU'}]}\n",
      "17:42:19+0200 [warning  ] Not able to determine geocollections for all datasets. This database is not ready for regionalization.\n"
     ]
    },
    {
     "name": "stderr",
     "output_type": "stream",
     "text": [
      "100%|██████████| 1/1 [00:00<?, ?it/s]\n"
     ]
    },
    {
     "name": "stdout",
     "output_type": "stream",
     "text": [
      "17:42:19+0200 [info     ] Vacuuming database            \n",
      "HR\n",
      "{'name': 'process_17', 'exchanges': [{'input': ('Emissions', 'process_17'), 'amount': 1, 'type': 'production'}, {'input': ('biosphere3', 'aa7cac3a-3625-41d4-bc54-33e2cf11ec46'), 'amount': 0.01983974503280571, 'type': 'biosphere', 'location': 'HR'}, {'input': ('biosphere3', 'afd6d670-bbb0-4625-9730-04088a5b035e'), 'amount': 4.330773945772191e-07, 'type': 'biosphere', 'location': 'HR'}, {'input': ('biosphere3', '70ef743b-3ed5-4a6d-b192-fb6d62378555'), 'amount': 6.45110596123426e-07, 'type': 'biosphere', 'location': 'HR'}]}\n",
      "17:42:20+0200 [warning  ] Not able to determine geocollections for all datasets. This database is not ready for regionalization.\n"
     ]
    },
    {
     "name": "stderr",
     "output_type": "stream",
     "text": [
      "100%|██████████| 1/1 [00:00<?, ?it/s]\n"
     ]
    },
    {
     "name": "stdout",
     "output_type": "stream",
     "text": [
      "17:42:20+0200 [info     ] Vacuuming database            \n",
      "IN\n",
      "{'name': 'process_18', 'exchanges': [{'input': ('Emissions', 'process_18'), 'amount': 1, 'type': 'production'}, {'input': ('biosphere3', 'aa7cac3a-3625-41d4-bc54-33e2cf11ec46'), 'amount': 0.45119006109086396, 'type': 'biosphere', 'location': 'IN'}, {'input': ('biosphere3', 'afd6d670-bbb0-4625-9730-04088a5b035e'), 'amount': 9.346570462439663e-06, 'type': 'biosphere', 'location': 'IN'}, {'input': ('biosphere3', '70ef743b-3ed5-4a6d-b192-fb6d62378555'), 'amount': 2.2059478103084483e-05, 'type': 'biosphere', 'location': 'IN'}]}\n",
      "17:42:20+0200 [warning  ] Not able to determine geocollections for all datasets. This database is not ready for regionalization.\n"
     ]
    },
    {
     "name": "stderr",
     "output_type": "stream",
     "text": [
      "100%|██████████| 1/1 [00:00<?, ?it/s]\n"
     ]
    },
    {
     "name": "stdout",
     "output_type": "stream",
     "text": [
      "17:42:20+0200 [info     ] Vacuuming database            \n",
      "ID\n",
      "{'name': 'process_19', 'exchanges': [{'input': ('Emissions', 'process_19'), 'amount': 1, 'type': 'production'}, {'input': ('biosphere3', 'aa7cac3a-3625-41d4-bc54-33e2cf11ec46'), 'amount': 0.7873058564076004, 'type': 'biosphere', 'location': 'ID'}, {'input': ('biosphere3', 'afd6d670-bbb0-4625-9730-04088a5b035e'), 'amount': 1.740599154353244e-05, 'type': 'biosphere', 'location': 'ID'}, {'input': ('biosphere3', '70ef743b-3ed5-4a6d-b192-fb6d62378555'), 'amount': 2.2863250484828267e-05, 'type': 'biosphere', 'location': 'ID'}]}\n",
      "17:42:21+0200 [warning  ] Not able to determine geocollections for all datasets. This database is not ready for regionalization.\n"
     ]
    },
    {
     "name": "stderr",
     "output_type": "stream",
     "text": [
      "100%|██████████| 1/1 [00:00<?, ?it/s]\n"
     ]
    },
    {
     "name": "stdout",
     "output_type": "stream",
     "text": [
      "17:42:21+0200 [info     ] Vacuuming database            \n",
      "IE\n",
      "{'name': 'process_20', 'exchanges': [{'input': ('Emissions', 'process_20'), 'amount': 1, 'type': 'production'}, {'input': ('biosphere3', 'aa7cac3a-3625-41d4-bc54-33e2cf11ec46'), 'amount': 0.03000139451163258, 'type': 'biosphere', 'location': 'IE'}, {'input': ('biosphere3', 'afd6d670-bbb0-4625-9730-04088a5b035e'), 'amount': 6.743020310725998e-07, 'type': 'biosphere', 'location': 'IE'}, {'input': ('biosphere3', '70ef743b-3ed5-4a6d-b192-fb6d62378555'), 'amount': 1.0765636534632059e-06, 'type': 'biosphere', 'location': 'IE'}]}\n",
      "17:42:21+0200 [warning  ] Not able to determine geocollections for all datasets. This database is not ready for regionalization.\n"
     ]
    },
    {
     "name": "stderr",
     "output_type": "stream",
     "text": [
      "100%|██████████| 1/1 [00:00<?, ?it/s]\n"
     ]
    },
    {
     "name": "stdout",
     "output_type": "stream",
     "text": [
      "17:42:21+0200 [info     ] Vacuuming database            \n",
      "IT\n",
      "{'name': 'process_21', 'exchanges': [{'input': ('Emissions', 'process_21'), 'amount': 1, 'type': 'production'}, {'input': ('biosphere3', 'aa7cac3a-3625-41d4-bc54-33e2cf11ec46'), 'amount': 0.22310422071951264, 'type': 'biosphere', 'location': 'IT'}, {'input': ('biosphere3', 'afd6d670-bbb0-4625-9730-04088a5b035e'), 'amount': 6.497022422828142e-06, 'type': 'biosphere', 'location': 'IT'}, {'input': ('biosphere3', '70ef743b-3ed5-4a6d-b192-fb6d62378555'), 'amount': 6.893662544342491e-06, 'type': 'biosphere', 'location': 'IT'}]}\n",
      "17:42:22+0200 [warning  ] Not able to determine geocollections for all datasets. This database is not ready for regionalization.\n"
     ]
    },
    {
     "name": "stderr",
     "output_type": "stream",
     "text": [
      "100%|██████████| 1/1 [00:00<00:00, 996.27it/s]\n"
     ]
    },
    {
     "name": "stdout",
     "output_type": "stream",
     "text": [
      "17:42:22+0200 [info     ] Vacuuming database            \n",
      "JP\n",
      "{'name': 'process_22', 'exchanges': [{'input': ('Emissions', 'process_22'), 'amount': 1, 'type': 'production'}, {'input': ('biosphere3', 'aa7cac3a-3625-41d4-bc54-33e2cf11ec46'), 'amount': 0.041182666604316354, 'type': 'biosphere', 'location': 'JP'}, {'input': ('biosphere3', 'afd6d670-bbb0-4625-9730-04088a5b035e'), 'amount': 1.0404663966600306e-06, 'type': 'biosphere', 'location': 'JP'}, {'input': ('biosphere3', '70ef743b-3ed5-4a6d-b192-fb6d62378555'), 'amount': 1.9747669372976736e-06, 'type': 'biosphere', 'location': 'JP'}]}\n",
      "17:42:23+0200 [warning  ] Not able to determine geocollections for all datasets. This database is not ready for regionalization.\n"
     ]
    },
    {
     "name": "stderr",
     "output_type": "stream",
     "text": [
      "100%|██████████| 1/1 [00:00<?, ?it/s]\n"
     ]
    },
    {
     "name": "stdout",
     "output_type": "stream",
     "text": [
      "17:42:23+0200 [info     ] Vacuuming database            \n",
      "LV\n",
      "{'name': 'process_23', 'exchanges': [{'input': ('Emissions', 'process_23'), 'amount': 1, 'type': 'production'}, {'input': ('biosphere3', 'aa7cac3a-3625-41d4-bc54-33e2cf11ec46'), 'amount': 0.062276248757854605, 'type': 'biosphere', 'location': 'LV'}, {'input': ('biosphere3', 'afd6d670-bbb0-4625-9730-04088a5b035e'), 'amount': 1.2692810160773996e-06, 'type': 'biosphere', 'location': 'LV'}, {'input': ('biosphere3', '70ef743b-3ed5-4a6d-b192-fb6d62378555'), 'amount': 2.1227519609991622e-06, 'type': 'biosphere', 'location': 'LV'}]}\n",
      "17:42:23+0200 [warning  ] Not able to determine geocollections for all datasets. This database is not ready for regionalization.\n"
     ]
    },
    {
     "name": "stderr",
     "output_type": "stream",
     "text": [
      "100%|██████████| 1/1 [00:00<?, ?it/s]\n"
     ]
    },
    {
     "name": "stdout",
     "output_type": "stream",
     "text": [
      "17:42:23+0200 [info     ] Vacuuming database            \n",
      "LT\n",
      "{'name': 'process_24', 'exchanges': [{'input': ('Emissions', 'process_24'), 'amount': 1, 'type': 'production'}, {'input': ('biosphere3', 'aa7cac3a-3625-41d4-bc54-33e2cf11ec46'), 'amount': 0.12235407798608583, 'type': 'biosphere', 'location': 'LT'}, {'input': ('biosphere3', 'afd6d670-bbb0-4625-9730-04088a5b035e'), 'amount': 2.464509725310286e-06, 'type': 'biosphere', 'location': 'LT'}, {'input': ('biosphere3', '70ef743b-3ed5-4a6d-b192-fb6d62378555'), 'amount': 3.5041172908551554e-06, 'type': 'biosphere', 'location': 'LT'}]}\n",
      "17:42:24+0200 [warning  ] Not able to determine geocollections for all datasets. This database is not ready for regionalization.\n"
     ]
    },
    {
     "name": "stderr",
     "output_type": "stream",
     "text": [
      "100%|██████████| 1/1 [00:00<00:00, 1001.03it/s]\n"
     ]
    },
    {
     "name": "stdout",
     "output_type": "stream",
     "text": [
      "17:42:24+0200 [info     ] Vacuuming database            \n",
      "LU\n",
      "{'name': 'process_25', 'exchanges': [{'input': ('Emissions', 'process_25'), 'amount': 1, 'type': 'production'}, {'input': ('biosphere3', 'aa7cac3a-3625-41d4-bc54-33e2cf11ec46'), 'amount': 0.018064960426344583, 'type': 'biosphere', 'location': 'LU'}, {'input': ('biosphere3', 'afd6d670-bbb0-4625-9730-04088a5b035e'), 'amount': 6.563883695783714e-07, 'type': 'biosphere', 'location': 'LU'}, {'input': ('biosphere3', '70ef743b-3ed5-4a6d-b192-fb6d62378555'), 'amount': 5.618392603472885e-07, 'type': 'biosphere', 'location': 'LU'}]}\n",
      "17:42:25+0200 [warning  ] Not able to determine geocollections for all datasets. This database is not ready for regionalization.\n"
     ]
    },
    {
     "name": "stderr",
     "output_type": "stream",
     "text": [
      "100%|██████████| 1/1 [00:00<?, ?it/s]\n"
     ]
    },
    {
     "name": "stdout",
     "output_type": "stream",
     "text": [
      "17:42:25+0200 [info     ] Vacuuming database            \n",
      "MT\n",
      "{'name': 'process_26', 'exchanges': [{'input': ('Emissions', 'process_26'), 'amount': 1, 'type': 'production'}, {'input': ('biosphere3', 'aa7cac3a-3625-41d4-bc54-33e2cf11ec46'), 'amount': 0.002104826346610518, 'type': 'biosphere', 'location': 'MT'}, {'input': ('biosphere3', 'afd6d670-bbb0-4625-9730-04088a5b035e'), 'amount': 4.7399611906176195e-08, 'type': 'biosphere', 'location': 'MT'}, {'input': ('biosphere3', '70ef743b-3ed5-4a6d-b192-fb6d62378555'), 'amount': 7.26176875317262e-08, 'type': 'biosphere', 'location': 'MT'}]}\n",
      "17:42:25+0200 [warning  ] Not able to determine geocollections for all datasets. This database is not ready for regionalization.\n"
     ]
    },
    {
     "name": "stderr",
     "output_type": "stream",
     "text": [
      "100%|██████████| 1/1 [00:00<?, ?it/s]\n"
     ]
    },
    {
     "name": "stdout",
     "output_type": "stream",
     "text": [
      "17:42:25+0200 [info     ] Vacuuming database            \n",
      "MX\n",
      "{'name': 'process_27', 'exchanges': [{'input': ('Emissions', 'process_27'), 'amount': 1, 'type': 'production'}, {'input': ('biosphere3', 'aa7cac3a-3625-41d4-bc54-33e2cf11ec46'), 'amount': 0.05396627597138278, 'type': 'biosphere', 'location': 'MX'}, {'input': ('biosphere3', 'afd6d670-bbb0-4625-9730-04088a5b035e'), 'amount': 1.1544944758362207e-06, 'type': 'biosphere', 'location': 'MX'}, {'input': ('biosphere3', '70ef743b-3ed5-4a6d-b192-fb6d62378555'), 'amount': 2.2565430631165034e-06, 'type': 'biosphere', 'location': 'MX'}]}\n",
      "17:42:26+0200 [warning  ] Not able to determine geocollections for all datasets. This database is not ready for regionalization.\n"
     ]
    },
    {
     "name": "stderr",
     "output_type": "stream",
     "text": [
      "100%|██████████| 1/1 [00:00<00:00, 1006.31it/s]\n"
     ]
    },
    {
     "name": "stdout",
     "output_type": "stream",
     "text": [
      "17:42:26+0200 [info     ] Vacuuming database            \n",
      "NL\n",
      "{'name': 'process_28', 'exchanges': [{'input': ('Emissions', 'process_28'), 'amount': 1, 'type': 'production'}, {'input': ('biosphere3', 'aa7cac3a-3625-41d4-bc54-33e2cf11ec46'), 'amount': 0.3208508269658022, 'type': 'biosphere', 'location': 'NL'}, {'input': ('biosphere3', 'afd6d670-bbb0-4625-9730-04088a5b035e'), 'amount': 8.760182481433377e-06, 'type': 'biosphere', 'location': 'NL'}, {'input': ('biosphere3', '70ef743b-3ed5-4a6d-b192-fb6d62378555'), 'amount': 7.501839514788462e-06, 'type': 'biosphere', 'location': 'NL'}]}\n",
      "17:42:26+0200 [warning  ] Not able to determine geocollections for all datasets. This database is not ready for regionalization.\n"
     ]
    },
    {
     "name": "stderr",
     "output_type": "stream",
     "text": [
      "100%|██████████| 1/1 [00:00<00:00, 999.60it/s]\n"
     ]
    },
    {
     "name": "stdout",
     "output_type": "stream",
     "text": [
      "17:42:26+0200 [info     ] Vacuuming database            \n",
      "NO\n",
      "{'name': 'process_29', 'exchanges': [{'input': ('Emissions', 'process_29'), 'amount': 1, 'type': 'production'}, {'input': ('biosphere3', 'aa7cac3a-3625-41d4-bc54-33e2cf11ec46'), 'amount': 0.033234547949034854, 'type': 'biosphere', 'location': 'NO'}, {'input': ('biosphere3', 'afd6d670-bbb0-4625-9730-04088a5b035e'), 'amount': 9.329611811004571e-07, 'type': 'biosphere', 'location': 'NO'}, {'input': ('biosphere3', '70ef743b-3ed5-4a6d-b192-fb6d62378555'), 'amount': 8.811228653446946e-07, 'type': 'biosphere', 'location': 'NO'}]}\n",
      "17:42:27+0200 [warning  ] Not able to determine geocollections for all datasets. This database is not ready for regionalization.\n"
     ]
    },
    {
     "name": "stderr",
     "output_type": "stream",
     "text": [
      "100%|██████████| 1/1 [00:00<?, ?it/s]\n"
     ]
    },
    {
     "name": "stdout",
     "output_type": "stream",
     "text": [
      "17:42:27+0200 [info     ] Vacuuming database            \n",
      "PL\n",
      "{'name': 'process_30', 'exchanges': [{'input': ('Emissions', 'process_30'), 'amount': 1, 'type': 'production'}, {'input': ('biosphere3', 'aa7cac3a-3625-41d4-bc54-33e2cf11ec46'), 'amount': 2.9451597279376838, 'type': 'biosphere', 'location': 'PL'}, {'input': ('biosphere3', 'afd6d670-bbb0-4625-9730-04088a5b035e'), 'amount': 0.00011499198860282818, 'type': 'biosphere', 'location': 'PL'}, {'input': ('biosphere3', '70ef743b-3ed5-4a6d-b192-fb6d62378555'), 'amount': 0.0007265681380949281, 'type': 'biosphere', 'location': 'PL'}]}\n",
      "17:42:28+0200 [warning  ] Not able to determine geocollections for all datasets. This database is not ready for regionalization.\n"
     ]
    },
    {
     "name": "stderr",
     "output_type": "stream",
     "text": [
      "100%|██████████| 1/1 [00:00<?, ?it/s]\n"
     ]
    },
    {
     "name": "stdout",
     "output_type": "stream",
     "text": [
      "17:42:28+0200 [info     ] Vacuuming database            \n",
      "PT\n",
      "{'name': 'process_31', 'exchanges': [{'input': ('Emissions', 'process_31'), 'amount': 1, 'type': 'production'}, {'input': ('biosphere3', 'aa7cac3a-3625-41d4-bc54-33e2cf11ec46'), 'amount': 0.08096446440165811, 'type': 'biosphere', 'location': 'PT'}, {'input': ('biosphere3', 'afd6d670-bbb0-4625-9730-04088a5b035e'), 'amount': 2.654604340688765e-06, 'type': 'biosphere', 'location': 'PT'}, {'input': ('biosphere3', '70ef743b-3ed5-4a6d-b192-fb6d62378555'), 'amount': 2.4585577346815696e-06, 'type': 'biosphere', 'location': 'PT'}]}\n",
      "17:42:28+0200 [warning  ] Not able to determine geocollections for all datasets. This database is not ready for regionalization.\n"
     ]
    },
    {
     "name": "stderr",
     "output_type": "stream",
     "text": [
      "100%|██████████| 1/1 [00:00<?, ?it/s]\n"
     ]
    },
    {
     "name": "stdout",
     "output_type": "stream",
     "text": [
      "17:42:28+0200 [info     ] Vacuuming database            \n",
      "RO\n",
      "{'name': 'process_32', 'exchanges': [{'input': ('Emissions', 'process_32'), 'amount': 1, 'type': 'production'}, {'input': ('biosphere3', 'aa7cac3a-3625-41d4-bc54-33e2cf11ec46'), 'amount': 0.09388211458067096, 'type': 'biosphere', 'location': 'RO'}, {'input': ('biosphere3', 'afd6d670-bbb0-4625-9730-04088a5b035e'), 'amount': 2.125882385915043e-06, 'type': 'biosphere', 'location': 'RO'}, {'input': ('biosphere3', '70ef743b-3ed5-4a6d-b192-fb6d62378555'), 'amount': 3.1552633495031994e-06, 'type': 'biosphere', 'location': 'RO'}]}\n",
      "17:42:29+0200 [warning  ] Not able to determine geocollections for all datasets. This database is not ready for regionalization.\n"
     ]
    },
    {
     "name": "stderr",
     "output_type": "stream",
     "text": [
      "100%|██████████| 1/1 [00:00<?, ?it/s]\n"
     ]
    },
    {
     "name": "stdout",
     "output_type": "stream",
     "text": [
      "17:42:29+0200 [info     ] Vacuuming database            \n",
      "RU\n",
      "{'name': 'process_33', 'exchanges': [{'input': ('Emissions', 'process_33'), 'amount': 1, 'type': 'production'}, {'input': ('biosphere3', 'aa7cac3a-3625-41d4-bc54-33e2cf11ec46'), 'amount': 0.19293413849669314, 'type': 'biosphere', 'location': 'RU'}, {'input': ('biosphere3', 'afd6d670-bbb0-4625-9730-04088a5b035e'), 'amount': 4.614822465356566e-06, 'type': 'biosphere', 'location': 'RU'}, {'input': ('biosphere3', '70ef743b-3ed5-4a6d-b192-fb6d62378555'), 'amount': 9.806198162194006e-06, 'type': 'biosphere', 'location': 'RU'}]}\n",
      "17:42:29+0200 [warning  ] Not able to determine geocollections for all datasets. This database is not ready for regionalization.\n"
     ]
    },
    {
     "name": "stderr",
     "output_type": "stream",
     "text": [
      "100%|██████████| 1/1 [00:00<?, ?it/s]\n"
     ]
    },
    {
     "name": "stdout",
     "output_type": "stream",
     "text": [
      "17:42:29+0200 [info     ] Vacuuming database            \n",
      "SK\n",
      "{'name': 'process_34', 'exchanges': [{'input': ('Emissions', 'process_34'), 'amount': 1, 'type': 'production'}, {'input': ('biosphere3', 'aa7cac3a-3625-41d4-bc54-33e2cf11ec46'), 'amount': 0.11319868630661628, 'type': 'biosphere', 'location': 'SK'}, {'input': ('biosphere3', 'afd6d670-bbb0-4625-9730-04088a5b035e'), 'amount': 2.1423193311637308e-06, 'type': 'biosphere', 'location': 'SK'}, {'input': ('biosphere3', '70ef743b-3ed5-4a6d-b192-fb6d62378555'), 'amount': 5.129442256356131e-06, 'type': 'biosphere', 'location': 'SK'}]}\n",
      "17:42:30+0200 [warning  ] Not able to determine geocollections for all datasets. This database is not ready for regionalization.\n"
     ]
    },
    {
     "name": "stderr",
     "output_type": "stream",
     "text": [
      "100%|██████████| 1/1 [00:00<?, ?it/s]\n"
     ]
    },
    {
     "name": "stdout",
     "output_type": "stream",
     "text": [
      "17:42:30+0200 [info     ] Vacuuming database            \n",
      "SI\n",
      "{'name': 'process_35', 'exchanges': [{'input': ('Emissions', 'process_35'), 'amount': 1, 'type': 'production'}, {'input': ('biosphere3', 'aa7cac3a-3625-41d4-bc54-33e2cf11ec46'), 'amount': 0.06733483411718236, 'type': 'biosphere', 'location': 'SI'}, {'input': ('biosphere3', 'afd6d670-bbb0-4625-9730-04088a5b035e'), 'amount': 1.3982068516144305e-06, 'type': 'biosphere', 'location': 'SI'}, {'input': ('biosphere3', '70ef743b-3ed5-4a6d-b192-fb6d62378555'), 'amount': 2.956132837950967e-06, 'type': 'biosphere', 'location': 'SI'}]}\n",
      "17:42:30+0200 [warning  ] Not able to determine geocollections for all datasets. This database is not ready for regionalization.\n"
     ]
    },
    {
     "name": "stderr",
     "output_type": "stream",
     "text": [
      "100%|██████████| 1/1 [00:00<?, ?it/s]\n"
     ]
    },
    {
     "name": "stdout",
     "output_type": "stream",
     "text": [
      "17:42:30+0200 [info     ] Vacuuming database            \n",
      "ZA\n",
      "{'name': 'process_36', 'exchanges': [{'input': ('Emissions', 'process_36'), 'amount': 1, 'type': 'production'}, {'input': ('biosphere3', 'aa7cac3a-3625-41d4-bc54-33e2cf11ec46'), 'amount': 0.07097828242067991, 'type': 'biosphere', 'location': 'ZA'}, {'input': ('biosphere3', 'afd6d670-bbb0-4625-9730-04088a5b035e'), 'amount': 1.4502639166128524e-06, 'type': 'biosphere', 'location': 'ZA'}, {'input': ('biosphere3', '70ef743b-3ed5-4a6d-b192-fb6d62378555'), 'amount': 3.6669456415102347e-06, 'type': 'biosphere', 'location': 'ZA'}]}\n",
      "17:42:31+0200 [warning  ] Not able to determine geocollections for all datasets. This database is not ready for regionalization.\n"
     ]
    },
    {
     "name": "stderr",
     "output_type": "stream",
     "text": [
      "100%|██████████| 1/1 [00:00<00:00, 1001.03it/s]\n"
     ]
    },
    {
     "name": "stdout",
     "output_type": "stream",
     "text": [
      "17:42:31+0200 [info     ] Vacuuming database            \n",
      "KR\n",
      "{'name': 'process_37', 'exchanges': [{'input': ('Emissions', 'process_37'), 'amount': 1, 'type': 'production'}, {'input': ('biosphere3', 'aa7cac3a-3625-41d4-bc54-33e2cf11ec46'), 'amount': 0.08485876485188082, 'type': 'biosphere', 'location': 'KR'}, {'input': ('biosphere3', 'afd6d670-bbb0-4625-9730-04088a5b035e'), 'amount': 2.3528913927076508e-06, 'type': 'biosphere', 'location': 'KR'}, {'input': ('biosphere3', '70ef743b-3ed5-4a6d-b192-fb6d62378555'), 'amount': 3.471735036622067e-06, 'type': 'biosphere', 'location': 'KR'}]}\n",
      "17:42:31+0200 [warning  ] Not able to determine geocollections for all datasets. This database is not ready for regionalization.\n"
     ]
    },
    {
     "name": "stderr",
     "output_type": "stream",
     "text": [
      "100%|██████████| 1/1 [00:00<?, ?it/s]\n"
     ]
    },
    {
     "name": "stdout",
     "output_type": "stream",
     "text": [
      "17:42:31+0200 [info     ] Vacuuming database            \n",
      "ES\n",
      "{'name': 'process_38', 'exchanges': [{'input': ('Emissions', 'process_38'), 'amount': 1, 'type': 'production'}, {'input': ('biosphere3', 'aa7cac3a-3625-41d4-bc54-33e2cf11ec46'), 'amount': 0.11883973605099392, 'type': 'biosphere', 'location': 'ES'}, {'input': ('biosphere3', 'afd6d670-bbb0-4625-9730-04088a5b035e'), 'amount': 4.899720006625827e-06, 'type': 'biosphere', 'location': 'ES'}, {'input': ('biosphere3', '70ef743b-3ed5-4a6d-b192-fb6d62378555'), 'amount': 8.409447937704095e-06, 'type': 'biosphere', 'location': 'ES'}]}\n",
      "17:42:32+0200 [warning  ] Not able to determine geocollections for all datasets. This database is not ready for regionalization.\n"
     ]
    },
    {
     "name": "stderr",
     "output_type": "stream",
     "text": [
      "100%|██████████| 1/1 [00:00<?, ?it/s]\n"
     ]
    },
    {
     "name": "stdout",
     "output_type": "stream",
     "text": [
      "17:42:32+0200 [info     ] Vacuuming database            \n",
      "SE\n",
      "{'name': 'process_39', 'exchanges': [{'input': ('Emissions', 'process_39'), 'amount': 1, 'type': 'production'}, {'input': ('biosphere3', 'aa7cac3a-3625-41d4-bc54-33e2cf11ec46'), 'amount': 0.13002724725896214, 'type': 'biosphere', 'location': 'SE'}, {'input': ('biosphere3', 'afd6d670-bbb0-4625-9730-04088a5b035e'), 'amount': 3.2232496244535124e-06, 'type': 'biosphere', 'location': 'SE'}, {'input': ('biosphere3', '70ef743b-3ed5-4a6d-b192-fb6d62378555'), 'amount': 4.312239530865968e-06, 'type': 'biosphere', 'location': 'SE'}]}\n",
      "17:42:33+0200 [warning  ] Not able to determine geocollections for all datasets. This database is not ready for regionalization.\n"
     ]
    },
    {
     "name": "stderr",
     "output_type": "stream",
     "text": [
      "100%|██████████| 1/1 [00:00<00:00, 1002.46it/s]\n"
     ]
    },
    {
     "name": "stdout",
     "output_type": "stream",
     "text": [
      "17:42:33+0200 [info     ] Vacuuming database            \n",
      "CH\n",
      "{'name': 'process_40', 'exchanges': [{'input': ('Emissions', 'process_40'), 'amount': 1, 'type': 'production'}, {'input': ('biosphere3', 'aa7cac3a-3625-41d4-bc54-33e2cf11ec46'), 'amount': 0.038221364919716214, 'type': 'biosphere', 'location': 'CH'}, {'input': ('biosphere3', 'afd6d670-bbb0-4625-9730-04088a5b035e'), 'amount': 8.913465648213196e-07, 'type': 'biosphere', 'location': 'CH'}, {'input': ('biosphere3', '70ef743b-3ed5-4a6d-b192-fb6d62378555'), 'amount': 8.649974546355973e-07, 'type': 'biosphere', 'location': 'CH'}]}\n",
      "17:42:33+0200 [warning  ] Not able to determine geocollections for all datasets. This database is not ready for regionalization.\n"
     ]
    },
    {
     "name": "stderr",
     "output_type": "stream",
     "text": [
      "100%|██████████| 1/1 [00:00<?, ?it/s]\n"
     ]
    },
    {
     "name": "stdout",
     "output_type": "stream",
     "text": [
      "17:42:33+0200 [info     ] Vacuuming database            \n",
      "TR\n",
      "{'name': 'process_41', 'exchanges': [{'input': ('Emissions', 'process_41'), 'amount': 1, 'type': 'production'}, {'input': ('biosphere3', 'aa7cac3a-3625-41d4-bc54-33e2cf11ec46'), 'amount': 0.07654144044410911, 'type': 'biosphere', 'location': 'TR'}, {'input': ('biosphere3', 'afd6d670-bbb0-4625-9730-04088a5b035e'), 'amount': 1.7934173230060598e-06, 'type': 'biosphere', 'location': 'TR'}, {'input': ('biosphere3', '70ef743b-3ed5-4a6d-b192-fb6d62378555'), 'amount': 2.8462941255144323e-06, 'type': 'biosphere', 'location': 'TR'}]}\n",
      "17:42:34+0200 [warning  ] Not able to determine geocollections for all datasets. This database is not ready for regionalization.\n"
     ]
    },
    {
     "name": "stderr",
     "output_type": "stream",
     "text": [
      "100%|██████████| 1/1 [00:00<?, ?it/s]\n"
     ]
    },
    {
     "name": "stdout",
     "output_type": "stream",
     "text": [
      "17:42:34+0200 [info     ] Vacuuming database            \n",
      "GB\n",
      "{'name': 'process_42', 'exchanges': [{'input': ('Emissions', 'process_42'), 'amount': 1, 'type': 'production'}, {'input': ('biosphere3', 'aa7cac3a-3625-41d4-bc54-33e2cf11ec46'), 'amount': 0.0022526388540595223, 'type': 'biosphere', 'location': 'GB'}, {'input': ('biosphere3', 'afd6d670-bbb0-4625-9730-04088a5b035e'), 'amount': 3.877276305677252e-08, 'type': 'biosphere', 'location': 'GB'}, {'input': ('biosphere3', '70ef743b-3ed5-4a6d-b192-fb6d62378555'), 'amount': 2.0524358779749554e-07, 'type': 'biosphere', 'location': 'GB'}]}\n",
      "17:42:34+0200 [warning  ] Not able to determine geocollections for all datasets. This database is not ready for regionalization.\n"
     ]
    },
    {
     "name": "stderr",
     "output_type": "stream",
     "text": [
      "100%|██████████| 1/1 [00:00<?, ?it/s]\n"
     ]
    },
    {
     "name": "stdout",
     "output_type": "stream",
     "text": [
      "17:42:34+0200 [info     ] Vacuuming database            \n",
      "US\n",
      "{'name': 'process_43', 'exchanges': [{'input': ('Emissions', 'process_43'), 'amount': 1, 'type': 'production'}, {'input': ('biosphere3', 'aa7cac3a-3625-41d4-bc54-33e2cf11ec46'), 'amount': 1.252822311591789, 'type': 'biosphere', 'location': 'US'}, {'input': ('biosphere3', 'afd6d670-bbb0-4625-9730-04088a5b035e'), 'amount': 3.199200897397865e-05, 'type': 'biosphere', 'location': 'US'}, {'input': ('biosphere3', '70ef743b-3ed5-4a6d-b192-fb6d62378555'), 'amount': 8.420154507834829e-05, 'type': 'biosphere', 'location': 'US'}]}\n",
      "17:42:35+0200 [warning  ] Not able to determine geocollections for all datasets. This database is not ready for regionalization.\n"
     ]
    },
    {
     "name": "stderr",
     "output_type": "stream",
     "text": [
      "100%|██████████| 1/1 [00:00<?, ?it/s]\n"
     ]
    },
    {
     "name": "stdout",
     "output_type": "stream",
     "text": [
      "17:42:35+0200 [info     ] Vacuuming database            \n",
      "WA\n",
      "{'name': 'process_44', 'exchanges': [{'input': ('Emissions', 'process_44'), 'amount': 1, 'type': 'production'}, {'input': ('biosphere3', 'aa7cac3a-3625-41d4-bc54-33e2cf11ec46'), 'amount': 3.93180806697444, 'type': 'biosphere', 'location': 'WA'}, {'input': ('biosphere3', 'afd6d670-bbb0-4625-9730-04088a5b035e'), 'amount': 8.528896325512497e-05, 'type': 'biosphere', 'location': 'WA'}, {'input': ('biosphere3', '70ef743b-3ed5-4a6d-b192-fb6d62378555'), 'amount': 0.00016685227911715384, 'type': 'biosphere', 'location': 'WA'}]}\n",
      "17:42:35+0200 [warning  ] Not able to determine geocollections for all datasets. This database is not ready for regionalization.\n"
     ]
    },
    {
     "name": "stderr",
     "output_type": "stream",
     "text": [
      "100%|██████████| 1/1 [00:00<?, ?it/s]\n"
     ]
    },
    {
     "name": "stdout",
     "output_type": "stream",
     "text": [
      "17:42:35+0200 [info     ] Vacuuming database            \n",
      "WL\n",
      "{'name': 'process_45', 'exchanges': [{'input': ('Emissions', 'process_45'), 'amount': 1, 'type': 'production'}, {'input': ('biosphere3', 'aa7cac3a-3625-41d4-bc54-33e2cf11ec46'), 'amount': 0.819777191480318, 'type': 'biosphere', 'location': 'WL'}, {'input': ('biosphere3', 'afd6d670-bbb0-4625-9730-04088a5b035e'), 'amount': 1.7503731887647765e-05, 'type': 'biosphere', 'location': 'WL'}, {'input': ('biosphere3', '70ef743b-3ed5-4a6d-b192-fb6d62378555'), 'amount': 4.7752668880536834e-05, 'type': 'biosphere', 'location': 'WL'}]}\n",
      "17:42:36+0200 [warning  ] Not able to determine geocollections for all datasets. This database is not ready for regionalization.\n"
     ]
    },
    {
     "name": "stderr",
     "output_type": "stream",
     "text": [
      "100%|██████████| 1/1 [00:00<?, ?it/s]\n"
     ]
    },
    {
     "name": "stdout",
     "output_type": "stream",
     "text": [
      "17:42:36+0200 [info     ] Vacuuming database            \n",
      "WE\n",
      "{'name': 'process_46', 'exchanges': [{'input': ('Emissions', 'process_46'), 'amount': 1, 'type': 'production'}, {'input': ('biosphere3', 'aa7cac3a-3625-41d4-bc54-33e2cf11ec46'), 'amount': 0.4343504343284787, 'type': 'biosphere', 'location': 'WE'}, {'input': ('biosphere3', 'afd6d670-bbb0-4625-9730-04088a5b035e'), 'amount': 9.42707793251094e-06, 'type': 'biosphere', 'location': 'WE'}, {'input': ('biosphere3', '70ef743b-3ed5-4a6d-b192-fb6d62378555'), 'amount': 1.6016063164689676e-05, 'type': 'biosphere', 'location': 'WE'}]}\n",
      "17:42:37+0200 [warning  ] Not able to determine geocollections for all datasets. This database is not ready for regionalization.\n"
     ]
    },
    {
     "name": "stderr",
     "output_type": "stream",
     "text": [
      "100%|██████████| 1/1 [00:00<?, ?it/s]\n"
     ]
    },
    {
     "name": "stdout",
     "output_type": "stream",
     "text": [
      "17:42:37+0200 [info     ] Vacuuming database            \n",
      "WF\n",
      "{'name': 'process_47', 'exchanges': [{'input': ('Emissions', 'process_47'), 'amount': 1, 'type': 'production'}, {'input': ('biosphere3', 'aa7cac3a-3625-41d4-bc54-33e2cf11ec46'), 'amount': 1.8789028625855129, 'type': 'biosphere', 'location': 'WF'}, {'input': ('biosphere3', 'afd6d670-bbb0-4625-9730-04088a5b035e'), 'amount': 3.987718052070715e-05, 'type': 'biosphere', 'location': 'WF'}, {'input': ('biosphere3', '70ef743b-3ed5-4a6d-b192-fb6d62378555'), 'amount': 7.93691949123098e-05, 'type': 'biosphere', 'location': 'WF'}]}\n",
      "17:42:37+0200 [warning  ] Not able to determine geocollections for all datasets. This database is not ready for regionalization.\n"
     ]
    },
    {
     "name": "stderr",
     "output_type": "stream",
     "text": [
      "100%|██████████| 1/1 [00:00<00:00, 1001.51it/s]\n"
     ]
    },
    {
     "name": "stdout",
     "output_type": "stream",
     "text": [
      "17:42:37+0200 [info     ] Vacuuming database            \n",
      "WM\n",
      "{'name': 'process_48', 'exchanges': [{'input': ('Emissions', 'process_48'), 'amount': 1, 'type': 'production'}, {'input': ('biosphere3', 'aa7cac3a-3625-41d4-bc54-33e2cf11ec46'), 'amount': 0.5361674609095057, 'type': 'biosphere', 'location': 'WM'}, {'input': ('biosphere3', 'afd6d670-bbb0-4625-9730-04088a5b035e'), 'amount': 0.0, 'type': 'biosphere', 'location': 'WM'}, {'input': ('biosphere3', '70ef743b-3ed5-4a6d-b192-fb6d62378555'), 'amount': 0.0, 'type': 'biosphere', 'location': 'WM'}]}\n",
      "17:42:38+0200 [warning  ] Not able to determine geocollections for all datasets. This database is not ready for regionalization.\n"
     ]
    },
    {
     "name": "stderr",
     "output_type": "stream",
     "text": [
      "100%|██████████| 1/1 [00:00<00:00, 992.97it/s]\n"
     ]
    },
    {
     "name": "stdout",
     "output_type": "stream",
     "text": [
      "17:42:38+0200 [info     ] Vacuuming database            \n"
     ]
    }
   ],
   "source": [
    "M_eq_trucks_3_metal=[]\n",
    "flag=0\n",
    "for i, region in impact_trucks_c_metal.items(): #Creating a proccess with emissions\n",
    "    flag=flag+1\n",
    "    print(i)\n",
    "    process_data={'name':f\"process_{flag}\" ,\n",
    "            'exchanges': [\n",
    "                {'input': (\"Emissions\", f\"process_{flag}\"), 'amount': 1, 'type': 'production'},\n",
    "                {'input': co2_key, 'amount': impact_trucks_c_metal.loc[('Carbon dioxide, fossil','tonnes','air'),i]*1000, 'type': 'biosphere', 'location': i},#to add the emissions of each activity\n",
    "                {'input': n2o_key, 'amount': impact_trucks_c_metal.loc[('N2O','tonnes','air'),i]*1000, 'type': 'biosphere', 'location': i},\n",
    "                {'input': ch4_key, 'amount': impact_trucks_c_metal.loc[('CH4','tonnes','air'),i]*1000, 'type': 'biosphere', 'location': i}\n",
    "            ]\n",
    "        }\n",
    "    print(process_data)\n",
    "    bd.Database(\"Emissions\").write({(\"Emissions\", f\"process_{flag}\"): process_data}) #To add in database\n",
    "    demand_i={(\"Emissions\", f\"process_{flag}\"):1} #1 as functional unit\n",
    "    value=bc.lca.LCA(demand_i,method_chosen) \n",
    "    value.lci(factorize=True) #with factorization false doesn't work\n",
    "    value.lcia()\n",
    "\n",
    "\n",
    "    M_eq_trucks_3_metal.append(value.score/1000) #to store the equivalent emissions in M_eq_val in tonnes\n",
    "\n",
    "M_eq_trucks_3_metal=pd.DataFrame(M_eq_trucks_3_metal)\n",
    "M_eq_trucks_3_metal.index=impact_trucks_c_metal.columns\n",
    "M_eq_trucks_3_metal.columns=[\"CO2-eq\"] #To name the columns"
   ]
  },
  {
   "cell_type": "code",
   "execution_count": 291,
   "id": "832e4c86",
   "metadata": {},
   "outputs": [
    {
     "data": {
      "text/plain": [
       "(48,)"
      ]
     },
     "execution_count": 291,
     "metadata": {},
     "output_type": "execute_result"
    }
   ],
   "source": [
    "M_eq_boats_2_metal.shape"
   ]
  },
  {
   "cell_type": "markdown",
   "id": "ce3f5e87",
   "metadata": {},
   "source": [
    "# Figures"
   ]
  },
  {
   "cell_type": "code",
   "execution_count": null,
   "id": "c702d9fd",
   "metadata": {},
   "outputs": [],
   "source": [
    "import matplotlib.pyplot as plt\n",
    "import matplotlib.cm as cm\n",
    "\n",
    "plt.rcParams['font.family']='Times New Roman' #I prefere this font, you can change it\n",
    "plt.rcParams['font.size']=12"
   ]
  },
  {
   "cell_type": "markdown",
   "id": "96cf3aeb",
   "metadata": {},
   "source": [
    "Sector graph of impacts produced"
   ]
  },
  {
   "cell_type": "code",
   "execution_count": 292,
   "id": "2f87332c",
   "metadata": {},
   "outputs": [
    {
     "data": {
      "image/png": "[encoded data removed]",
      "text/plain": [
       "<Figure size 640x480 with 1 Axes>"
      ]
     },
     "metadata": {},
     "output_type": "display_data"
    }
   ],
   "source": [
    "impact_mining['Carbon dioxide, fossil', 'tonnes', 'air'].nlargest(6).plot(kind='pie', autopct='%1.1f%%', ylabel='')\n",
    "plt.title('CO2 emissions in copper mining')\n",
    "plt.show()"
   ]
  },
  {
   "cell_type": "code",
   "execution_count": 293,
   "id": "1bf8c777",
   "metadata": {},
   "outputs": [
    {
     "data": {
      "image/png": "[encoded data removed]",
      "text/plain": [
       "<Figure size 640x480 with 1 Axes>"
      ]
     },
     "metadata": {},
     "output_type": "display_data"
    }
   ],
   "source": [
    "impact_metal['Carbon dioxide, fossil', 'tonnes', 'air'].nlargest(10).plot(kind='pie', autopct='%1.1f%%', ylabel='')\n",
    "plt.title('CO2 emissions in copper metallurgy')\n",
    "plt.show()"
   ]
  },
  {
   "cell_type": "markdown",
   "id": "417ba490",
   "metadata": {},
   "source": [
    "Bar chart of transport and no"
   ]
  },
  {
   "cell_type": "code",
   "execution_count": 311,
   "id": "77cb28bf",
   "metadata": {},
   "outputs": [
    {
     "data": {
      "image/png": "[encoded data removed]",
      "text/plain": [
       "<Figure size 640x480 with 1 Axes>"
      ]
     },
     "metadata": {},
     "output_type": "display_data"
    }
   ],
   "source": [
    "impact_mining_sum1=impact_mining_1['Carbon dioxide, fossil', 'tonnes', 'air'].sum()\n",
    "impact_metal_sum1=impact_metal_1['Carbon dioxide, fossil', 'tonnes', 'air'].sum()\n",
    "impact_mining_sum2=impact_mining_2['Carbon dioxide, fossil', 'tonnes', 'air'].sum()\n",
    "impact_metal_sum2=impact_metal_2['Carbon dioxide, fossil', 'tonnes', 'air'].sum()\n",
    "\n",
    "plt.bar(['Chain 1'], impact_mining_sum1, label='Mining', color='blue')\n",
    "plt.bar(['Chain 1'], impact_metal_sum1, bottom=impact_mining_sum1, label='Metallurgy',color='orange')\n",
    "plt.bar(['Chain 2'], impact_mining_sum2, label='Mining', color='blue')\n",
    "plt.bar(['Chain 2'], impact_metal_sum2, bottom=impact_mining_sum2, label='Metallurgy',color='orange')\n",
    "\n",
    "plt.ylabel('CO2')\n",
    "plt.title('CO2 emissions of copper')\n",
    "plt.legend()\n",
    "plt.show()"
   ]
  },
  {
   "cell_type": "markdown",
   "id": "a4310651",
   "metadata": {},
   "source": [
    "bar chart of transport scenarios"
   ]
  },
  {
   "cell_type": "code",
   "execution_count": 314,
   "id": "2620748d",
   "metadata": {},
   "outputs": [
    {
     "data": {
      "image/png": "[encoded data removed]",
      "text/plain": [
       "<Figure size 640x480 with 1 Axes>"
      ]
     },
     "metadata": {},
     "output_type": "display_data"
    }
   ],
   "source": [
    "Boats_2_mining=M_eq_boats_2_mining.sum()\n",
    "Boats_3_mining=M_eq_boats_3_mining.sum().squeeze() \n",
    "Trucks_2_mining=M_eq_trucks_2_mining.sum()  \n",
    "Trucks_3_mining=M_eq_trucks_3_mining.sum().squeeze() \n",
    "\n",
    "Boats_2_metal=M_eq_boats_2_metal.sum()\n",
    "Boats_3_metal=M_eq_boats_3_metal.sum().squeeze() \n",
    "Trucks_2_metal=M_eq_trucks_2_metal.sum()  \n",
    "Trucks_3_metal=M_eq_trucks_3_metal.sum().squeeze() \n",
    "\n",
    "#colormap=cm.get_cmap('Greens')\n",
    "#colors=[colormap(j) for j in np.linspace(0.3, 1, len(values))]\n",
    "\n",
    "plt.bar(['Boats_2'], Boats_2_mining, label='Mining', color='lightblue')\n",
    "plt.bar(['Boats_2'], Boats_2_metal, bottom=Boats_3_mining, label='Metallurgy',color='blue')\n",
    "plt.bar(['Boats_3'], Boats_3_mining, label='Mining',color='lightgreen')\n",
    "plt.bar(['Boats_3'], Boats_3_metal, bottom=Boats_3_mining, label='Metallurgy',color='green')\n",
    "plt.bar(['Trucks_2'], Trucks_2_mining, label='Mining', color='lightcoral')\n",
    "plt.bar(['Trucks_2'], Trucks_2_metal, bottom=Trucks_2_mining, label='Metallurgy',color='red')\n",
    "plt.bar(['Trucks_3'], Trucks_3_mining, label='Mining', color='lightyellow')\n",
    "plt.bar(['Trucks_3'], Trucks_3_metal, bottom=Trucks_3_mining, label='Metallurgy',color='yellow')\n",
    "\n",
    "plt.ylabel('CO2')\n",
    "plt.title('CO2 emissions of transport in copper')\n",
    "plt.show()"
   ]
  },
  {
   "cell_type": "markdown",
   "id": "e4b8086b",
   "metadata": {},
   "source": [
    "For price of CO2 non-EU have to been removed"
   ]
  },
  {
   "cell_type": "code",
   "execution_count": null,
   "id": "9d69650b",
   "metadata": {},
   "outputs": [],
   "source": [
    "price_co2=70.98 #Mean price of t of co2 in EU ETS in 2025\n",
    "eu_countries=['AT', 'BE', 'BG', 'CY', 'CZ', 'DE', 'DK', 'EE', 'ES', 'FI', 'FR', 'GR', 'HR', 'HU', 'IE', 'IT', 'LT', 'LU', 'LV', 'MT', 'NL', 'PL', 'PT', 'RO', 'SE', 'SI', 'SK'] #List of EU countries"
   ]
  },
  {
   "cell_type": "markdown",
   "id": "aabfd659",
   "metadata": {},
   "source": [
    "Mining"
   ]
  },
  {
   "cell_type": "code",
   "execution_count": 296,
   "id": "06769e4e",
   "metadata": {},
   "outputs": [],
   "source": [
    "Cost_boats_2_mining=[]\n",
    "Cost_boats_3_mining=[]\n",
    "Cost_trucks_2_mining=[]\n",
    "Cost_trucks_3_mining=[]\n",
    "\n",
    "if country_mining in eu_countries:\n",
    "    for i, region in impact_boats_c_mining.items():\n",
    "        if i in eu_countries:\n",
    "            Boats_2=M_eq_boats_2_mining.loc[i]*price_co2\n",
    "            Boats_3=M_eq_boats_3_mining.loc[i,'CO2-eq']*price_co2\n",
    "            Trucks_2=M_eq_trucks_2_mining.loc[i]*price_co2\n",
    "            Trucks_3=M_eq_trucks_3_mining.loc[i,'CO2-eq']*price_co2\n",
    "        else:\n",
    "            Boats_2=M_eq_boats_2_mining.loc[i]*price_co2/2\n",
    "            Boats_3=M_eq_boats_3_mining.loc[i,'CO2-eq']*price_co2/2\n",
    "            Trucks_2=M_eq_trucks_2_mining.loc[i]*price_co2/2\n",
    "            Trucks_3=M_eq_trucks_3_mining.loc[i,'CO2-eq']*price_co2/2\n",
    "        Cost_boats_2_mining.append(Boats_2)\n",
    "        Cost_boats_3_mining.append(Boats_3)\n",
    "        Cost_trucks_2_mining.append(Trucks_2)\n",
    "        Cost_trucks_3_mining.append(Trucks_3)\n",
    "else:\n",
    "    for i, region in impact_boats_c_mining.items():\n",
    "        if i in eu_countries:\n",
    "            Boats_2=M_eq_boats_2_mining.loc[i]*price_co2/2\n",
    "            Boats_3=M_eq_boats_3_mining.loc[i,'CO2-eq']*price_co2/2\n",
    "            Trucks_2=M_eq_trucks_2_mining.loc[i]*price_co2/2\n",
    "            Trucks_3=M_eq_trucks_3_mining.loc[i,'CO2-eq']*price_co2/2\n",
    "        else:\n",
    "            Boats_2=0\n",
    "            Boats_3=0\n",
    "            Trucks_2=0\n",
    "            Trucks_3=0\n",
    "        Cost_boats_2_mining.append(Boats_2)\n",
    "        Cost_boats_3_mining.append(Boats_3)\n",
    "        Cost_trucks_2_mining.append(Trucks_2)\n",
    "        Cost_trucks_3_mining.append(Trucks_3)\n",
    "\n",
    "Cost_boats_2_mining=pd.DataFrame(Cost_boats_2_mining)\n",
    "Cost_boats_2_mining.index=impact_boats_c_mining.columns\n",
    "Cost_boats_2_mining.columns=[\"CO2-eq\"] #To name the columns\n",
    "Cost_boats_3_mining=pd.DataFrame(Cost_boats_3_mining) \n",
    "Cost_boats_3_mining.index=impact_boats_c_mining.columns\n",
    "Cost_boats_3_mining.columns=[\"CO2-eq\"] #To name the columns\n",
    "Cost_trucks_2_mining=pd.DataFrame(Cost_trucks_2_mining)\n",
    "Cost_trucks_2_mining.index=impact_trucks_c_mining.columns\n",
    "Cost_trucks_2_mining.columns=[\"CO2-eq\"] #To name the columns\n",
    "Cost_trucks_3_mining=pd.DataFrame(Cost_trucks_3_mining)\n",
    "Cost_trucks_3_mining.index=impact_trucks_c_mining.columns\n",
    "Cost_trucks_3_mining.columns=[\"CO2-eq\"] #To name the columns"
   ]
  },
  {
   "cell_type": "markdown",
   "id": "a96d0b0b",
   "metadata": {},
   "source": [
    "Metal"
   ]
  },
  {
   "cell_type": "code",
   "execution_count": 298,
   "id": "6aa457f2",
   "metadata": {},
   "outputs": [],
   "source": [
    "Cost_boats_2_metal=[]\n",
    "Cost_boats_3_metal=[]\n",
    "Cost_trucks_2_metal=[]\n",
    "Cost_trucks_3_metal=[]\n",
    "\n",
    "if country_metal in eu_countries:\n",
    "    for i, region in impact_boats_c_metal.items():\n",
    "        if i in eu_countries:\n",
    "            Boats_2=M_eq_boats_2_metal.loc[i]*price_co2\n",
    "            Boats_3=M_eq_boats_3_metal.loc[i,'CO2-eq']*price_co2\n",
    "            Trucks_2=M_eq_trucks_2_metal.loc[i]*price_co2\n",
    "            Trucks_3=M_eq_trucks_3_metal.loc[i,'CO2-eq']*price_co2\n",
    "        else:\n",
    "            Boats_2=M_eq_boats_2_metal.loc[i]*price_co2/2\n",
    "            Boats_3=M_eq_boats_3_metal.loc[i,'CO2-eq']*price_co2/2\n",
    "            Trucks_2=M_eq_trucks_2_metal.loc[i]*price_co2/2\n",
    "            Trucks_3=M_eq_trucks_3_metal.loc[i,'CO2-eq']*price_co2/2\n",
    "        Cost_boats_2_metal.append(Boats_2)\n",
    "        Cost_boats_3_metal.append(Boats_3)\n",
    "        Cost_trucks_2_metal.append(Trucks_2)\n",
    "        Cost_trucks_3_metal.append(Trucks_3)\n",
    "else:\n",
    "    for i, region in impact_boats_c_metal.items():\n",
    "        if i in eu_countries:\n",
    "            Boats_2=M_eq_boats_2_metal.loc[i]*price_co2/2\n",
    "            Boats_3=M_eq_boats_3_metal.loc[i,'CO2-eq']*price_co2/2\n",
    "            Trucks_2=M_eq_trucks_2_metal.loc[i]*price_co2/2\n",
    "            Trucks_3=M_eq_trucks_3_metal.loc[i,'CO2-eq']*price_co2/2\n",
    "        else:\n",
    "            Boats_2=0\n",
    "            Boats_3=0\n",
    "            Trucks_2=0\n",
    "            Trucks_3=0\n",
    "        Cost_boats_2_metal.append(Boats_2)\n",
    "        Cost_boats_3_metal.append(Boats_3)\n",
    "        Cost_trucks_2_metal.append(Trucks_2)\n",
    "        Cost_trucks_3_metal.append(Trucks_3)\n",
    "\n",
    "Cost_boats_2_metal=pd.DataFrame(Cost_boats_2_metal)\n",
    "Cost_boats_2_metal.index=impact_boats_c_metal.columns\n",
    "Cost_boats_2_metal.columns=[\"CO2-eq\"] #To name the columns\n",
    "Cost_boats_3_metal=pd.DataFrame(Cost_boats_3_metal) \n",
    "Cost_boats_3_metal.index=impact_boats_c_metal.columns\n",
    "Cost_boats_3_metal.columns=[\"CO2-eq\"] #To name the columns\n",
    "Cost_trucks_2_metal=pd.DataFrame(Cost_trucks_2_metal)\n",
    "Cost_trucks_2_metal.index=impact_trucks_c_metal.columns\n",
    "Cost_trucks_2_metal.columns=[\"CO2-eq\"] #To name the columns\n",
    "Cost_trucks_3_metal=pd.DataFrame(Cost_trucks_3_metal)\n",
    "Cost_trucks_3_metal.index=impact_trucks_c_metal.columns\n",
    "Cost_trucks_3_metal.columns=[\"CO2-eq\"] #To name the columns"
   ]
  },
  {
   "cell_type": "code",
   "execution_count": null,
   "id": "f76ee1a6",
   "metadata": {},
   "outputs": [
    {
     "data": {
      "image/png": "[encoded data removed]",
      "text/plain": [
       "<Figure size 640x480 with 1 Axes>"
      ]
     },
     "metadata": {},
     "output_type": "display_data"
    }
   ],
   "source": [
    "Boats_2_mining_eco=Cost_boats_2_mining.sum()\n",
    "Boats_3_mining_eco=Cost_boats_3_mining.sum().squeeze() \n",
    "Trucks_2_mining_eco=Cost_trucks_2_mining.sum()  \n",
    "Trucks_3_mining_eco=Cost_trucks_3_mining.sum().squeeze() \n",
    "\n",
    "Boats_2_metal_eco=Cost_boats_2_metal.sum()\n",
    "Boats_3_metal_eco=Cost_boats_3_metal.sum().squeeze() \n",
    "Trucks_2_metal_eco=Cost_trucks_2_metal.sum()  \n",
    "Trucks_3_metal_eco=Cost_trucks_3_metal.sum().squeeze() \n",
    "\n",
    "#colormap=cm.get_cmap('Greens')\n",
    "#colors=[colormap(j) for j in np.linspace(0.3, 1, len(values))]\n",
    "\n",
    "plt.bar(['Boats_2'], Boats_2_mining_eco, label='Mining', color='lightblue')\n",
    "plt.bar(['Boats_2'], Boats_2_metal_eco, bottom=Boats_3_mining_eco, label='Metallurgy',color='blue')\n",
    "plt.bar(['Boats_3'], Boats_3_mining_eco, label='Mining',color='lightgreen')\n",
    "plt.bar(['Boats_3'], Boats_3_metal_eco, bottom=Boats_3_mining_eco, label='Metallurgy',color='green')\n",
    "plt.bar(['Trucks_2'], Trucks_2_mining_eco, label='Mining', color='lightcoral')\n",
    "plt.bar(['Trucks_2'], Trucks_2_metal_eco, bottom=Trucks_2_mining_eco, label='Metallurgy',color='red')\n",
    "plt.bar(['Trucks_3'], Trucks_3_mining_eco, label='Mining', color='lightyellow')\n",
    "plt.bar(['Trucks_3'], Trucks_3_metal_eco, bottom=Trucks_3_mining_eco, label='Metallurgy',color='yellow')\n",
    "\n",
    "plt.ylabel('EUR')\n",
    "plt.title('cost of EU ETS in transport of copper')\n",
    "plt.show()\n"
   ]
  },
  {
   "cell_type": "markdown",
   "id": "4acac8f0",
   "metadata": {},
   "source": [
    "# To save the values as TXT (change the name of file if you want)"
   ]
  },
  {
   "cell_type": "code",
   "execution_count": null,
   "id": "3348da64",
   "metadata": {},
   "outputs": [
    {
     "name": "stdout",
     "output_type": "stream",
     "text": [
      "Not saved\n"
     ]
    }
   ],
   "source": [
    "answer2=input(\"Do you want to save in txt files value of enivornmental, social and economic impact? Put y for yes, n for no\").strip().lower()\n",
    "\n",
    "if answer2==\"y\":\n",
    "    impact_wanted.to_csv('Emissions_products.txt', sep='\\t', index=True, header=True)\n",
    "    #M_eq.to_csv('Environmental_impact.txt', sep='\\t', index=True, header=True)\n",
    "    #np.savetxt('M_social.txt',M_social, fmt=\"%s\") #To save the M_social\n",
    "    #np.savetxt('M_economic.txt',M_eco, fmt=\"%s\") #To save the M_economic\n",
    "    print(\"txt files are in the same folder of this file\")\n",
    "elif answer2==\"n\":\n",
    "    print(\"Not saved\")\n",
    "else:\n",
    "    print(\"Error please write y or n\")"
   ]
  }
 ],
 "metadata": {
  "kernelspec": {
   "display_name": "input_output_bw25",
   "language": "python",
   "name": "python3"
  },
  "language_info": {
   "codemirror_mode": {
    "name": "ipython",
    "version": 3
   },
   "file_extension": ".py",
   "mimetype": "text/x-python",
   "name": "python",
   "nbconvert_exporter": "python",
   "pygments_lexer": "ipython3",
   "version": "3.11.12"
  }
 },
 "nbformat": 4,
 "nbformat_minor": 5
}
