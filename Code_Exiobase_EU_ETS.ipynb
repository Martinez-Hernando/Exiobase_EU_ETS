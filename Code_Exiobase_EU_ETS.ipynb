{
 "cells": [
  {
   "cell_type": "markdown",
   "id": "9f48d69c",
   "metadata": {},
   "source": [
    "# Code Exiobase_EU_ETS_2 by Martínez-Hernando\n",
    "\n",
    "\n",
    "This information is necessary in Python, for activate the funtions \n",
    "If they are not installed is necessary to do it, write pip install XXXXX. If pip doesn't work put pip3, or pip3.11 (search on internet)\n",
    "\n",
    "Activate generical information"
   ]
  },
  {
   "cell_type": "code",
   "execution_count": 1,
   "id": "b745d568",
   "metadata": {},
   "outputs": [],
   "source": [
    "import pandas as pd #To real CSV and dataframes\n",
    "import numpy as np #To work with matrix\n",
    "from scipy import io, integrate, linalg, signal #Google told me, I don´t know what is it\n",
    "from scipy.sparse.linalg import cg, eigs #Google told me, I don´t know what is it"
   ]
  },
  {
   "cell_type": "markdown",
   "id": "df08e621",
   "metadata": {},
   "source": [
    "To create list"
   ]
  },
  {
   "cell_type": "code",
   "execution_count": 2,
   "id": "df887be7",
   "metadata": {},
   "outputs": [],
   "source": [
    "from typing import List, Tuple, Dict, Callable, Iterable, Union"
   ]
  },
  {
   "cell_type": "markdown",
   "id": "275ea0b9",
   "metadata": {},
   "source": [
    " # To use pymrio"
   ]
  },
  {
   "cell_type": "code",
   "execution_count": 3,
   "id": "22d0a09d",
   "metadata": {},
   "outputs": [],
   "source": [
    "import pymrio as mr"
   ]
  },
  {
   "cell_type": "markdown",
   "id": "94623ff7",
   "metadata": {},
   "source": [
    "Declare new IO system"
   ]
  },
  {
   "cell_type": "code",
   "execution_count": 4,
   "id": "7fa8ffdd",
   "metadata": {},
   "outputs": [],
   "source": [
    "exio3318=mr.IOSystem()"
   ]
  },
  {
   "cell_type": "markdown",
   "id": "9631c786",
   "metadata": {},
   "source": [
    "## Importing EXIOBASE 3.3.18 data\n",
    "We will only import:\n",
    "- $Z$, the intermediate consumption,\n",
    "- $Y$, the final demand,\n",
    "- $F$ and $F_Y$, the environmental extensions, only for air emissions."
   ]
  },
  {
   "cell_type": "code",
   "execution_count": 5,
   "id": "fb1f435f",
   "metadata": {},
   "outputs": [],
   "source": [
    "exiobase_folder=\"P:/Universidad/Exiobase/\" #Put here your folder where you have download Exiobase with /, no with \\"
   ]
  },
  {
   "cell_type": "markdown",
   "id": "66011b83",
   "metadata": {},
   "source": [
    "Z (Intermediate products)"
   ]
  },
  {
   "cell_type": "code",
   "execution_count": 6,
   "id": "c0c8e717",
   "metadata": {},
   "outputs": [
    {
     "data": {
      "text/html": [
       "<div>\n",
       "<style scoped>\n",
       "    .dataframe tbody tr th:only-of-type {\n",
       "        vertical-align: middle;\n",
       "    }\n",
       "\n",
       "    .dataframe tbody tr th {\n",
       "        vertical-align: top;\n",
       "    }\n",
       "\n",
       "    .dataframe thead tr th {\n",
       "        text-align: left;\n",
       "    }\n",
       "</style>\n",
       "<table border=\"1\" class=\"dataframe\">\n",
       "  <thead>\n",
       "    <tr>\n",
       "      <th></th>\n",
       "      <th></th>\n",
       "      <th></th>\n",
       "      <th></th>\n",
       "      <th></th>\n",
       "      <th colspan=\"10\" halign=\"left\">AU</th>\n",
       "      <th>...</th>\n",
       "      <th colspan=\"10\" halign=\"left\">WM</th>\n",
       "    </tr>\n",
       "    <tr>\n",
       "      <th></th>\n",
       "      <th></th>\n",
       "      <th></th>\n",
       "      <th></th>\n",
       "      <th></th>\n",
       "      <th>Cultivation of paddy rice</th>\n",
       "      <th>Cultivation of wheat</th>\n",
       "      <th>Cultivation of cereal grains nec</th>\n",
       "      <th>Cultivation of vegetables, fruit, nuts</th>\n",
       "      <th>Cultivation of oil seeds</th>\n",
       "      <th>Cultivation of sugar cane, sugar beet</th>\n",
       "      <th>Cultivation of plant-based fibers</th>\n",
       "      <th>Cultivation of crops nec</th>\n",
       "      <th>Cattle farming</th>\n",
       "      <th>Pigs farming</th>\n",
       "      <th>...</th>\n",
       "      <th>Landfill of waste: Paper</th>\n",
       "      <th>Landfill of waste: Plastic</th>\n",
       "      <th>Landfill of waste: Inert/metal/hazardous</th>\n",
       "      <th>Landfill of waste: Textiles</th>\n",
       "      <th>Landfill of waste: Wood</th>\n",
       "      <th>Activities of membership organisation n.e.c. (91)</th>\n",
       "      <th>Recreational, cultural and sporting activities (92)</th>\n",
       "      <th>Other service activities (93)</th>\n",
       "      <th>Private households with employed persons (95)</th>\n",
       "      <th>Extra-territorial organizations and bodies</th>\n",
       "    </tr>\n",
       "    <tr>\n",
       "      <th></th>\n",
       "      <th></th>\n",
       "      <th></th>\n",
       "      <th></th>\n",
       "      <th></th>\n",
       "      <th>i01.a</th>\n",
       "      <th>i01.b</th>\n",
       "      <th>i01.c</th>\n",
       "      <th>i01.d</th>\n",
       "      <th>i01.e</th>\n",
       "      <th>i01.f</th>\n",
       "      <th>i01.g</th>\n",
       "      <th>i01.h</th>\n",
       "      <th>i01.i</th>\n",
       "      <th>i01.j</th>\n",
       "      <th>...</th>\n",
       "      <th>i90.5.b</th>\n",
       "      <th>i90.5.c</th>\n",
       "      <th>i90.5.d</th>\n",
       "      <th>i90.5.e</th>\n",
       "      <th>i90.5.f</th>\n",
       "      <th>i91</th>\n",
       "      <th>i92</th>\n",
       "      <th>i93</th>\n",
       "      <th>i95</th>\n",
       "      <th>i99</th>\n",
       "    </tr>\n",
       "    <tr>\n",
       "      <th></th>\n",
       "      <th></th>\n",
       "      <th></th>\n",
       "      <th></th>\n",
       "      <th></th>\n",
       "      <th>A_PARI</th>\n",
       "      <th>A_WHEA</th>\n",
       "      <th>A_OCER</th>\n",
       "      <th>A_FVEG</th>\n",
       "      <th>A_OILS</th>\n",
       "      <th>A_SUGB</th>\n",
       "      <th>A_FIBR</th>\n",
       "      <th>A_OTCR</th>\n",
       "      <th>A_CATL</th>\n",
       "      <th>A_PIGS</th>\n",
       "      <th>...</th>\n",
       "      <th>A_LANP</th>\n",
       "      <th>A_LANL</th>\n",
       "      <th>A_LANI</th>\n",
       "      <th>A_LANT</th>\n",
       "      <th>A_LANW</th>\n",
       "      <th>A_ORGA</th>\n",
       "      <th>A_RECR</th>\n",
       "      <th>A_OSER</th>\n",
       "      <th>A_PRHH</th>\n",
       "      <th>A_EXTO</th>\n",
       "    </tr>\n",
       "  </thead>\n",
       "  <tbody>\n",
       "    <tr>\n",
       "      <th rowspan=\"5\" valign=\"top\">AU</th>\n",
       "      <th>Paddy rice</th>\n",
       "      <th>p01.a</th>\n",
       "      <th>C_PARI</th>\n",
       "      <th>tonnes</th>\n",
       "      <td>0.0</td>\n",
       "      <td>0.0</td>\n",
       "      <td>0.00000</td>\n",
       "      <td>0.00000</td>\n",
       "      <td>0.0</td>\n",
       "      <td>0.0</td>\n",
       "      <td>0.00</td>\n",
       "      <td>0.0</td>\n",
       "      <td>0.000000e+00</td>\n",
       "      <td>0.000000</td>\n",
       "      <td>...</td>\n",
       "      <td>0.0</td>\n",
       "      <td>0.0</td>\n",
       "      <td>0.0</td>\n",
       "      <td>0.0</td>\n",
       "      <td>0.0</td>\n",
       "      <td>0.0</td>\n",
       "      <td>0.0</td>\n",
       "      <td>0.0</td>\n",
       "      <td>0.0</td>\n",
       "      <td>0</td>\n",
       "    </tr>\n",
       "    <tr>\n",
       "      <th>Wheat</th>\n",
       "      <th>p01.b</th>\n",
       "      <th>C_WHEA</th>\n",
       "      <th>tonnes</th>\n",
       "      <td>0.0</td>\n",
       "      <td>0.0</td>\n",
       "      <td>0.00000</td>\n",
       "      <td>0.00000</td>\n",
       "      <td>0.0</td>\n",
       "      <td>0.0</td>\n",
       "      <td>0.00</td>\n",
       "      <td>0.0</td>\n",
       "      <td>6.791574e+05</td>\n",
       "      <td>156083.893300</td>\n",
       "      <td>...</td>\n",
       "      <td>0.0</td>\n",
       "      <td>0.0</td>\n",
       "      <td>0.0</td>\n",
       "      <td>0.0</td>\n",
       "      <td>0.0</td>\n",
       "      <td>0.0</td>\n",
       "      <td>0.0</td>\n",
       "      <td>0.0</td>\n",
       "      <td>0.0</td>\n",
       "      <td>0</td>\n",
       "    </tr>\n",
       "    <tr>\n",
       "      <th>Cereal grains nec</th>\n",
       "      <th>p01.c</th>\n",
       "      <th>C_OCER</th>\n",
       "      <th>tonnes</th>\n",
       "      <td>0.0</td>\n",
       "      <td>0.0</td>\n",
       "      <td>70942.96547</td>\n",
       "      <td>0.00000</td>\n",
       "      <td>0.0</td>\n",
       "      <td>0.0</td>\n",
       "      <td>0.00</td>\n",
       "      <td>0.0</td>\n",
       "      <td>2.277000e+06</td>\n",
       "      <td>823314.442100</td>\n",
       "      <td>...</td>\n",
       "      <td>0.0</td>\n",
       "      <td>0.0</td>\n",
       "      <td>0.0</td>\n",
       "      <td>0.0</td>\n",
       "      <td>0.0</td>\n",
       "      <td>0.0</td>\n",
       "      <td>0.0</td>\n",
       "      <td>0.0</td>\n",
       "      <td>0.0</td>\n",
       "      <td>0</td>\n",
       "    </tr>\n",
       "    <tr>\n",
       "      <th>Vegetables, fruit, nuts</th>\n",
       "      <th>p01.d</th>\n",
       "      <th>C_FVEG</th>\n",
       "      <th>tonnes</th>\n",
       "      <td>0.0</td>\n",
       "      <td>0.0</td>\n",
       "      <td>0.00000</td>\n",
       "      <td>18266.75262</td>\n",
       "      <td>0.0</td>\n",
       "      <td>0.0</td>\n",
       "      <td>0.00</td>\n",
       "      <td>0.0</td>\n",
       "      <td>1.552051e+03</td>\n",
       "      <td>255.322381</td>\n",
       "      <td>...</td>\n",
       "      <td>0.0</td>\n",
       "      <td>0.0</td>\n",
       "      <td>0.0</td>\n",
       "      <td>0.0</td>\n",
       "      <td>0.0</td>\n",
       "      <td>0.0</td>\n",
       "      <td>0.0</td>\n",
       "      <td>0.0</td>\n",
       "      <td>0.0</td>\n",
       "      <td>0</td>\n",
       "    </tr>\n",
       "    <tr>\n",
       "      <th>Oil seeds</th>\n",
       "      <th>p01.e</th>\n",
       "      <th>C_OILS</th>\n",
       "      <th>tonnes</th>\n",
       "      <td>0.0</td>\n",
       "      <td>0.0</td>\n",
       "      <td>0.00000</td>\n",
       "      <td>0.00000</td>\n",
       "      <td>0.0</td>\n",
       "      <td>0.0</td>\n",
       "      <td>-1206065.87</td>\n",
       "      <td>0.0</td>\n",
       "      <td>0.000000e+00</td>\n",
       "      <td>0.000000</td>\n",
       "      <td>...</td>\n",
       "      <td>0.0</td>\n",
       "      <td>0.0</td>\n",
       "      <td>0.0</td>\n",
       "      <td>0.0</td>\n",
       "      <td>0.0</td>\n",
       "      <td>0.0</td>\n",
       "      <td>0.0</td>\n",
       "      <td>0.0</td>\n",
       "      <td>0.0</td>\n",
       "      <td>0</td>\n",
       "    </tr>\n",
       "  </tbody>\n",
       "</table>\n",
       "<p>5 rows × 7872 columns</p>\n",
       "</div>"
      ],
      "text/plain": [
       "                                                                      AU  \\\n",
       "                                               Cultivation of paddy rice   \n",
       "                                                                   i01.a   \n",
       "                                                                  A_PARI   \n",
       "AU Paddy rice              p01.a C_PARI tonnes                       0.0   \n",
       "   Wheat                   p01.b C_WHEA tonnes                       0.0   \n",
       "   Cereal grains nec       p01.c C_OCER tonnes                       0.0   \n",
       "   Vegetables, fruit, nuts p01.d C_FVEG tonnes                       0.0   \n",
       "   Oil seeds               p01.e C_OILS tonnes                       0.0   \n",
       "\n",
       "                                                                     \\\n",
       "                                               Cultivation of wheat   \n",
       "                                                              i01.b   \n",
       "                                                             A_WHEA   \n",
       "AU Paddy rice              p01.a C_PARI tonnes                  0.0   \n",
       "   Wheat                   p01.b C_WHEA tonnes                  0.0   \n",
       "   Cereal grains nec       p01.c C_OCER tonnes                  0.0   \n",
       "   Vegetables, fruit, nuts p01.d C_FVEG tonnes                  0.0   \n",
       "   Oil seeds               p01.e C_OILS tonnes                  0.0   \n",
       "\n",
       "                                                                                 \\\n",
       "                                               Cultivation of cereal grains nec   \n",
       "                                                                          i01.c   \n",
       "                                                                         A_OCER   \n",
       "AU Paddy rice              p01.a C_PARI tonnes                          0.00000   \n",
       "   Wheat                   p01.b C_WHEA tonnes                          0.00000   \n",
       "   Cereal grains nec       p01.c C_OCER tonnes                      70942.96547   \n",
       "   Vegetables, fruit, nuts p01.d C_FVEG tonnes                          0.00000   \n",
       "   Oil seeds               p01.e C_OILS tonnes                          0.00000   \n",
       "\n",
       "                                                                                       \\\n",
       "                                               Cultivation of vegetables, fruit, nuts   \n",
       "                                                                                i01.d   \n",
       "                                                                               A_FVEG   \n",
       "AU Paddy rice              p01.a C_PARI tonnes                                0.00000   \n",
       "   Wheat                   p01.b C_WHEA tonnes                                0.00000   \n",
       "   Cereal grains nec       p01.c C_OCER tonnes                                0.00000   \n",
       "   Vegetables, fruit, nuts p01.d C_FVEG tonnes                            18266.75262   \n",
       "   Oil seeds               p01.e C_OILS tonnes                                0.00000   \n",
       "\n",
       "                                                                         \\\n",
       "                                               Cultivation of oil seeds   \n",
       "                                                                  i01.e   \n",
       "                                                                 A_OILS   \n",
       "AU Paddy rice              p01.a C_PARI tonnes                      0.0   \n",
       "   Wheat                   p01.b C_WHEA tonnes                      0.0   \n",
       "   Cereal grains nec       p01.c C_OCER tonnes                      0.0   \n",
       "   Vegetables, fruit, nuts p01.d C_FVEG tonnes                      0.0   \n",
       "   Oil seeds               p01.e C_OILS tonnes                      0.0   \n",
       "\n",
       "                                                                                      \\\n",
       "                                               Cultivation of sugar cane, sugar beet   \n",
       "                                                                               i01.f   \n",
       "                                                                              A_SUGB   \n",
       "AU Paddy rice              p01.a C_PARI tonnes                                   0.0   \n",
       "   Wheat                   p01.b C_WHEA tonnes                                   0.0   \n",
       "   Cereal grains nec       p01.c C_OCER tonnes                                   0.0   \n",
       "   Vegetables, fruit, nuts p01.d C_FVEG tonnes                                   0.0   \n",
       "   Oil seeds               p01.e C_OILS tonnes                                   0.0   \n",
       "\n",
       "                                                                                  \\\n",
       "                                               Cultivation of plant-based fibers   \n",
       "                                                                           i01.g   \n",
       "                                                                          A_FIBR   \n",
       "AU Paddy rice              p01.a C_PARI tonnes                              0.00   \n",
       "   Wheat                   p01.b C_WHEA tonnes                              0.00   \n",
       "   Cereal grains nec       p01.c C_OCER tonnes                              0.00   \n",
       "   Vegetables, fruit, nuts p01.d C_FVEG tonnes                              0.00   \n",
       "   Oil seeds               p01.e C_OILS tonnes                       -1206065.87   \n",
       "\n",
       "                                                                         \\\n",
       "                                               Cultivation of crops nec   \n",
       "                                                                  i01.h   \n",
       "                                                                 A_OTCR   \n",
       "AU Paddy rice              p01.a C_PARI tonnes                      0.0   \n",
       "   Wheat                   p01.b C_WHEA tonnes                      0.0   \n",
       "   Cereal grains nec       p01.c C_OCER tonnes                      0.0   \n",
       "   Vegetables, fruit, nuts p01.d C_FVEG tonnes                      0.0   \n",
       "   Oil seeds               p01.e C_OILS tonnes                      0.0   \n",
       "\n",
       "                                                                              \\\n",
       "                                               Cattle farming   Pigs farming   \n",
       "                                                        i01.i          i01.j   \n",
       "                                                       A_CATL         A_PIGS   \n",
       "AU Paddy rice              p01.a C_PARI tonnes   0.000000e+00       0.000000   \n",
       "   Wheat                   p01.b C_WHEA tonnes   6.791574e+05  156083.893300   \n",
       "   Cereal grains nec       p01.c C_OCER tonnes   2.277000e+06  823314.442100   \n",
       "   Vegetables, fruit, nuts p01.d C_FVEG tonnes   1.552051e+03     255.322381   \n",
       "   Oil seeds               p01.e C_OILS tonnes   0.000000e+00       0.000000   \n",
       "\n",
       "                                                ...                       WM  \\\n",
       "                                                ... Landfill of waste: Paper   \n",
       "                                                ...                  i90.5.b   \n",
       "                                                ...                   A_LANP   \n",
       "AU Paddy rice              p01.a C_PARI tonnes  ...                      0.0   \n",
       "   Wheat                   p01.b C_WHEA tonnes  ...                      0.0   \n",
       "   Cereal grains nec       p01.c C_OCER tonnes  ...                      0.0   \n",
       "   Vegetables, fruit, nuts p01.d C_FVEG tonnes  ...                      0.0   \n",
       "   Oil seeds               p01.e C_OILS tonnes  ...                      0.0   \n",
       "\n",
       "                                                                           \\\n",
       "                                               Landfill of waste: Plastic   \n",
       "                                                                  i90.5.c   \n",
       "                                                                   A_LANL   \n",
       "AU Paddy rice              p01.a C_PARI tonnes                        0.0   \n",
       "   Wheat                   p01.b C_WHEA tonnes                        0.0   \n",
       "   Cereal grains nec       p01.c C_OCER tonnes                        0.0   \n",
       "   Vegetables, fruit, nuts p01.d C_FVEG tonnes                        0.0   \n",
       "   Oil seeds               p01.e C_OILS tonnes                        0.0   \n",
       "\n",
       "                                                                                         \\\n",
       "                                               Landfill of waste: Inert/metal/hazardous   \n",
       "                                                                                i90.5.d   \n",
       "                                                                                 A_LANI   \n",
       "AU Paddy rice              p01.a C_PARI tonnes                                      0.0   \n",
       "   Wheat                   p01.b C_WHEA tonnes                                      0.0   \n",
       "   Cereal grains nec       p01.c C_OCER tonnes                                      0.0   \n",
       "   Vegetables, fruit, nuts p01.d C_FVEG tonnes                                      0.0   \n",
       "   Oil seeds               p01.e C_OILS tonnes                                      0.0   \n",
       "\n",
       "                                                                            \\\n",
       "                                               Landfill of waste: Textiles   \n",
       "                                                                   i90.5.e   \n",
       "                                                                    A_LANT   \n",
       "AU Paddy rice              p01.a C_PARI tonnes                         0.0   \n",
       "   Wheat                   p01.b C_WHEA tonnes                         0.0   \n",
       "   Cereal grains nec       p01.c C_OCER tonnes                         0.0   \n",
       "   Vegetables, fruit, nuts p01.d C_FVEG tonnes                         0.0   \n",
       "   Oil seeds               p01.e C_OILS tonnes                         0.0   \n",
       "\n",
       "                                                                        \\\n",
       "                                               Landfill of waste: Wood   \n",
       "                                                               i90.5.f   \n",
       "                                                                A_LANW   \n",
       "AU Paddy rice              p01.a C_PARI tonnes                     0.0   \n",
       "   Wheat                   p01.b C_WHEA tonnes                     0.0   \n",
       "   Cereal grains nec       p01.c C_OCER tonnes                     0.0   \n",
       "   Vegetables, fruit, nuts p01.d C_FVEG tonnes                     0.0   \n",
       "   Oil seeds               p01.e C_OILS tonnes                     0.0   \n",
       "\n",
       "                                                                                                  \\\n",
       "                                               Activities of membership organisation n.e.c. (91)   \n",
       "                                                                                             i91   \n",
       "                                                                                          A_ORGA   \n",
       "AU Paddy rice              p01.a C_PARI tonnes                                               0.0   \n",
       "   Wheat                   p01.b C_WHEA tonnes                                               0.0   \n",
       "   Cereal grains nec       p01.c C_OCER tonnes                                               0.0   \n",
       "   Vegetables, fruit, nuts p01.d C_FVEG tonnes                                               0.0   \n",
       "   Oil seeds               p01.e C_OILS tonnes                                               0.0   \n",
       "\n",
       "                                                                                                    \\\n",
       "                                               Recreational, cultural and sporting activities (92)   \n",
       "                                                                                               i92   \n",
       "                                                                                            A_RECR   \n",
       "AU Paddy rice              p01.a C_PARI tonnes                                                0.0    \n",
       "   Wheat                   p01.b C_WHEA tonnes                                                0.0    \n",
       "   Cereal grains nec       p01.c C_OCER tonnes                                                0.0    \n",
       "   Vegetables, fruit, nuts p01.d C_FVEG tonnes                                                0.0    \n",
       "   Oil seeds               p01.e C_OILS tonnes                                                0.0    \n",
       "\n",
       "                                                                              \\\n",
       "                                               Other service activities (93)   \n",
       "                                                                         i93   \n",
       "                                                                      A_OSER   \n",
       "AU Paddy rice              p01.a C_PARI tonnes                           0.0   \n",
       "   Wheat                   p01.b C_WHEA tonnes                           0.0   \n",
       "   Cereal grains nec       p01.c C_OCER tonnes                           0.0   \n",
       "   Vegetables, fruit, nuts p01.d C_FVEG tonnes                           0.0   \n",
       "   Oil seeds               p01.e C_OILS tonnes                           0.0   \n",
       "\n",
       "                                                                                              \\\n",
       "                                               Private households with employed persons (95)   \n",
       "                                                                                         i95   \n",
       "                                                                                      A_PRHH   \n",
       "AU Paddy rice              p01.a C_PARI tonnes                                           0.0   \n",
       "   Wheat                   p01.b C_WHEA tonnes                                           0.0   \n",
       "   Cereal grains nec       p01.c C_OCER tonnes                                           0.0   \n",
       "   Vegetables, fruit, nuts p01.d C_FVEG tonnes                                           0.0   \n",
       "   Oil seeds               p01.e C_OILS tonnes                                           0.0   \n",
       "\n",
       "                                                                                           \n",
       "                                               Extra-territorial organizations and bodies  \n",
       "                                                                                      i99  \n",
       "                                                                                   A_EXTO  \n",
       "AU Paddy rice              p01.a C_PARI tonnes                                          0  \n",
       "   Wheat                   p01.b C_WHEA tonnes                                          0  \n",
       "   Cereal grains nec       p01.c C_OCER tonnes                                          0  \n",
       "   Vegetables, fruit, nuts p01.d C_FVEG tonnes                                          0  \n",
       "   Oil seeds               p01.e C_OILS tonnes                                          0  \n",
       "\n",
       "[5 rows x 7872 columns]"
      ]
     },
     "execution_count": 6,
     "metadata": {},
     "output_type": "execute_result"
    }
   ],
   "source": [
    "Z_raw=pd.read_csv(exiobase_folder + \"MR_HIOT_2011_v3_3_18_by_product_technology.csv\", #You should have this name of file, if not change it\n",
    "                    index_col = [0,1,2,3,4],\n",
    "                    header = [0,1,2,3])\n",
    "Z_raw.head() #To see the first lines"
   ]
  },
  {
   "cell_type": "code",
   "execution_count": 7,
   "id": "e00279ca",
   "metadata": {},
   "outputs": [
    {
     "data": {
      "text/html": [
       "<div>\n",
       "<style scoped>\n",
       "    .dataframe tbody tr th:only-of-type {\n",
       "        vertical-align: middle;\n",
       "    }\n",
       "\n",
       "    .dataframe tbody tr th {\n",
       "        vertical-align: top;\n",
       "    }\n",
       "\n",
       "    .dataframe thead tr th {\n",
       "        text-align: left;\n",
       "    }\n",
       "\n",
       "    .dataframe thead tr:last-of-type th {\n",
       "        text-align: right;\n",
       "    }\n",
       "</style>\n",
       "<table border=\"1\" class=\"dataframe\">\n",
       "  <thead>\n",
       "    <tr>\n",
       "      <th></th>\n",
       "      <th>region</th>\n",
       "      <th colspan=\"10\" halign=\"left\">AU</th>\n",
       "      <th>...</th>\n",
       "      <th colspan=\"10\" halign=\"left\">WM</th>\n",
       "    </tr>\n",
       "    <tr>\n",
       "      <th></th>\n",
       "      <th>sector</th>\n",
       "      <th>Paddy rice</th>\n",
       "      <th>Wheat</th>\n",
       "      <th>Cereal grains nec</th>\n",
       "      <th>Vegetables, fruit, nuts</th>\n",
       "      <th>Oil seeds</th>\n",
       "      <th>Sugar cane, sugar beet</th>\n",
       "      <th>Plant-based fibers</th>\n",
       "      <th>Crops nec</th>\n",
       "      <th>Cattle</th>\n",
       "      <th>Pigs</th>\n",
       "      <th>...</th>\n",
       "      <th>Paper for treatment: landfill</th>\n",
       "      <th>Plastic waste for treatment: landfill</th>\n",
       "      <th>Inert/metal/hazardous waste for treatment: landfill</th>\n",
       "      <th>Textiles waste for treatment: landfill</th>\n",
       "      <th>Wood waste for treatment: landfill</th>\n",
       "      <th>Membership organisation services n.e.c. (91)</th>\n",
       "      <th>Recreational, cultural and sporting services (92)</th>\n",
       "      <th>Other services (93)</th>\n",
       "      <th>Private households with employed persons (95)</th>\n",
       "      <th>Extra-territorial organizations and bodies</th>\n",
       "    </tr>\n",
       "    <tr>\n",
       "      <th>region</th>\n",
       "      <th>sector</th>\n",
       "      <th></th>\n",
       "      <th></th>\n",
       "      <th></th>\n",
       "      <th></th>\n",
       "      <th></th>\n",
       "      <th></th>\n",
       "      <th></th>\n",
       "      <th></th>\n",
       "      <th></th>\n",
       "      <th></th>\n",
       "      <th></th>\n",
       "      <th></th>\n",
       "      <th></th>\n",
       "      <th></th>\n",
       "      <th></th>\n",
       "      <th></th>\n",
       "      <th></th>\n",
       "      <th></th>\n",
       "      <th></th>\n",
       "      <th></th>\n",
       "      <th></th>\n",
       "    </tr>\n",
       "  </thead>\n",
       "  <tbody>\n",
       "    <tr>\n",
       "      <th rowspan=\"5\" valign=\"top\">AU</th>\n",
       "      <th>Paddy rice</th>\n",
       "      <td>0.0</td>\n",
       "      <td>0.0</td>\n",
       "      <td>0.00000</td>\n",
       "      <td>0.00000</td>\n",
       "      <td>0.0</td>\n",
       "      <td>0.0</td>\n",
       "      <td>0.00</td>\n",
       "      <td>0.0</td>\n",
       "      <td>0.000000e+00</td>\n",
       "      <td>0.000000</td>\n",
       "      <td>...</td>\n",
       "      <td>0.0</td>\n",
       "      <td>0.0</td>\n",
       "      <td>0.0</td>\n",
       "      <td>0.0</td>\n",
       "      <td>0.0</td>\n",
       "      <td>0.0</td>\n",
       "      <td>0.0</td>\n",
       "      <td>0.0</td>\n",
       "      <td>0.0</td>\n",
       "      <td>0</td>\n",
       "    </tr>\n",
       "    <tr>\n",
       "      <th>Wheat</th>\n",
       "      <td>0.0</td>\n",
       "      <td>0.0</td>\n",
       "      <td>0.00000</td>\n",
       "      <td>0.00000</td>\n",
       "      <td>0.0</td>\n",
       "      <td>0.0</td>\n",
       "      <td>0.00</td>\n",
       "      <td>0.0</td>\n",
       "      <td>6.791574e+05</td>\n",
       "      <td>156083.893300</td>\n",
       "      <td>...</td>\n",
       "      <td>0.0</td>\n",
       "      <td>0.0</td>\n",
       "      <td>0.0</td>\n",
       "      <td>0.0</td>\n",
       "      <td>0.0</td>\n",
       "      <td>0.0</td>\n",
       "      <td>0.0</td>\n",
       "      <td>0.0</td>\n",
       "      <td>0.0</td>\n",
       "      <td>0</td>\n",
       "    </tr>\n",
       "    <tr>\n",
       "      <th>Cereal grains nec</th>\n",
       "      <td>0.0</td>\n",
       "      <td>0.0</td>\n",
       "      <td>70942.96547</td>\n",
       "      <td>0.00000</td>\n",
       "      <td>0.0</td>\n",
       "      <td>0.0</td>\n",
       "      <td>0.00</td>\n",
       "      <td>0.0</td>\n",
       "      <td>2.277000e+06</td>\n",
       "      <td>823314.442100</td>\n",
       "      <td>...</td>\n",
       "      <td>0.0</td>\n",
       "      <td>0.0</td>\n",
       "      <td>0.0</td>\n",
       "      <td>0.0</td>\n",
       "      <td>0.0</td>\n",
       "      <td>0.0</td>\n",
       "      <td>0.0</td>\n",
       "      <td>0.0</td>\n",
       "      <td>0.0</td>\n",
       "      <td>0</td>\n",
       "    </tr>\n",
       "    <tr>\n",
       "      <th>Vegetables, fruit, nuts</th>\n",
       "      <td>0.0</td>\n",
       "      <td>0.0</td>\n",
       "      <td>0.00000</td>\n",
       "      <td>18266.75262</td>\n",
       "      <td>0.0</td>\n",
       "      <td>0.0</td>\n",
       "      <td>0.00</td>\n",
       "      <td>0.0</td>\n",
       "      <td>1.552051e+03</td>\n",
       "      <td>255.322381</td>\n",
       "      <td>...</td>\n",
       "      <td>0.0</td>\n",
       "      <td>0.0</td>\n",
       "      <td>0.0</td>\n",
       "      <td>0.0</td>\n",
       "      <td>0.0</td>\n",
       "      <td>0.0</td>\n",
       "      <td>0.0</td>\n",
       "      <td>0.0</td>\n",
       "      <td>0.0</td>\n",
       "      <td>0</td>\n",
       "    </tr>\n",
       "    <tr>\n",
       "      <th>Oil seeds</th>\n",
       "      <td>0.0</td>\n",
       "      <td>0.0</td>\n",
       "      <td>0.00000</td>\n",
       "      <td>0.00000</td>\n",
       "      <td>0.0</td>\n",
       "      <td>0.0</td>\n",
       "      <td>-1206065.87</td>\n",
       "      <td>0.0</td>\n",
       "      <td>0.000000e+00</td>\n",
       "      <td>0.000000</td>\n",
       "      <td>...</td>\n",
       "      <td>0.0</td>\n",
       "      <td>0.0</td>\n",
       "      <td>0.0</td>\n",
       "      <td>0.0</td>\n",
       "      <td>0.0</td>\n",
       "      <td>0.0</td>\n",
       "      <td>0.0</td>\n",
       "      <td>0.0</td>\n",
       "      <td>0.0</td>\n",
       "      <td>0</td>\n",
       "    </tr>\n",
       "  </tbody>\n",
       "</table>\n",
       "<p>5 rows × 7872 columns</p>\n",
       "</div>"
      ],
      "text/plain": [
       "region                                 AU                          \\\n",
       "sector                         Paddy rice Wheat Cereal grains nec   \n",
       "region sector                                                       \n",
       "AU     Paddy rice                     0.0   0.0           0.00000   \n",
       "       Wheat                          0.0   0.0           0.00000   \n",
       "       Cereal grains nec              0.0   0.0       70942.96547   \n",
       "       Vegetables, fruit, nuts        0.0   0.0           0.00000   \n",
       "       Oil seeds                      0.0   0.0           0.00000   \n",
       "\n",
       "region                                                            \\\n",
       "sector                         Vegetables, fruit, nuts Oil seeds   \n",
       "region sector                                                      \n",
       "AU     Paddy rice                              0.00000       0.0   \n",
       "       Wheat                                   0.00000       0.0   \n",
       "       Cereal grains nec                       0.00000       0.0   \n",
       "       Vegetables, fruit, nuts             18266.75262       0.0   \n",
       "       Oil seeds                               0.00000       0.0   \n",
       "\n",
       "region                                                                    \\\n",
       "sector                         Sugar cane, sugar beet Plant-based fibers   \n",
       "region sector                                                              \n",
       "AU     Paddy rice                                 0.0               0.00   \n",
       "       Wheat                                      0.0               0.00   \n",
       "       Cereal grains nec                          0.0               0.00   \n",
       "       Vegetables, fruit, nuts                    0.0               0.00   \n",
       "       Oil seeds                                  0.0        -1206065.87   \n",
       "\n",
       "region                                                                 ...  \\\n",
       "sector                         Crops nec        Cattle           Pigs  ...   \n",
       "region sector                                                          ...   \n",
       "AU     Paddy rice                    0.0  0.000000e+00       0.000000  ...   \n",
       "       Wheat                         0.0  6.791574e+05  156083.893300  ...   \n",
       "       Cereal grains nec             0.0  2.277000e+06  823314.442100  ...   \n",
       "       Vegetables, fruit, nuts       0.0  1.552051e+03     255.322381  ...   \n",
       "       Oil seeds                     0.0  0.000000e+00       0.000000  ...   \n",
       "\n",
       "region                                                    WM  \\\n",
       "sector                         Paper for treatment: landfill   \n",
       "region sector                                                  \n",
       "AU     Paddy rice                                        0.0   \n",
       "       Wheat                                             0.0   \n",
       "       Cereal grains nec                                 0.0   \n",
       "       Vegetables, fruit, nuts                           0.0   \n",
       "       Oil seeds                                         0.0   \n",
       "\n",
       "region                                                                \\\n",
       "sector                         Plastic waste for treatment: landfill   \n",
       "region sector                                                          \n",
       "AU     Paddy rice                                                0.0   \n",
       "       Wheat                                                     0.0   \n",
       "       Cereal grains nec                                         0.0   \n",
       "       Vegetables, fruit, nuts                                   0.0   \n",
       "       Oil seeds                                                 0.0   \n",
       "\n",
       "region                                                                              \\\n",
       "sector                         Inert/metal/hazardous waste for treatment: landfill   \n",
       "region sector                                                                        \n",
       "AU     Paddy rice                                                             0.0    \n",
       "       Wheat                                                                  0.0    \n",
       "       Cereal grains nec                                                      0.0    \n",
       "       Vegetables, fruit, nuts                                                0.0    \n",
       "       Oil seeds                                                              0.0    \n",
       "\n",
       "region                                                                 \\\n",
       "sector                         Textiles waste for treatment: landfill   \n",
       "region sector                                                           \n",
       "AU     Paddy rice                                                 0.0   \n",
       "       Wheat                                                      0.0   \n",
       "       Cereal grains nec                                          0.0   \n",
       "       Vegetables, fruit, nuts                                    0.0   \n",
       "       Oil seeds                                                  0.0   \n",
       "\n",
       "region                                                             \\\n",
       "sector                         Wood waste for treatment: landfill   \n",
       "region sector                                                       \n",
       "AU     Paddy rice                                             0.0   \n",
       "       Wheat                                                  0.0   \n",
       "       Cereal grains nec                                      0.0   \n",
       "       Vegetables, fruit, nuts                                0.0   \n",
       "       Oil seeds                                              0.0   \n",
       "\n",
       "region                                                                       \\\n",
       "sector                         Membership organisation services n.e.c. (91)   \n",
       "region sector                                                                 \n",
       "AU     Paddy rice                                                       0.0   \n",
       "       Wheat                                                            0.0   \n",
       "       Cereal grains nec                                                0.0   \n",
       "       Vegetables, fruit, nuts                                          0.0   \n",
       "       Oil seeds                                                        0.0   \n",
       "\n",
       "region                                                                            \\\n",
       "sector                         Recreational, cultural and sporting services (92)   \n",
       "region sector                                                                      \n",
       "AU     Paddy rice                                                            0.0   \n",
       "       Wheat                                                                 0.0   \n",
       "       Cereal grains nec                                                     0.0   \n",
       "       Vegetables, fruit, nuts                                               0.0   \n",
       "       Oil seeds                                                             0.0   \n",
       "\n",
       "region                                              \\\n",
       "sector                         Other services (93)   \n",
       "region sector                                        \n",
       "AU     Paddy rice                              0.0   \n",
       "       Wheat                                   0.0   \n",
       "       Cereal grains nec                       0.0   \n",
       "       Vegetables, fruit, nuts                 0.0   \n",
       "       Oil seeds                               0.0   \n",
       "\n",
       "region                                                                        \\\n",
       "sector                         Private households with employed persons (95)   \n",
       "region sector                                                                  \n",
       "AU     Paddy rice                                                        0.0   \n",
       "       Wheat                                                             0.0   \n",
       "       Cereal grains nec                                                 0.0   \n",
       "       Vegetables, fruit, nuts                                           0.0   \n",
       "       Oil seeds                                                         0.0   \n",
       "\n",
       "region                                                                     \n",
       "sector                         Extra-territorial organizations and bodies  \n",
       "region sector                                                              \n",
       "AU     Paddy rice                                                       0  \n",
       "       Wheat                                                            0  \n",
       "       Cereal grains nec                                                0  \n",
       "       Vegetables, fruit, nuts                                          0  \n",
       "       Oil seeds                                                        0  \n",
       "\n",
       "[5 rows x 7872 columns]"
      ]
     },
     "execution_count": 7,
     "metadata": {},
     "output_type": "execute_result"
    }
   ],
   "source": [
    "Z_reindexed=Z_raw.droplevel([2,3,4], axis=0).copy() #To remove useless rows\n",
    "Z_reindexed.index.names=[\"region\",\"sector\"]\n",
    "Z_reindexed.columns=Z_reindexed.index\n",
    "Z_reindexed.head()\n"
   ]
  },
  {
   "cell_type": "code",
   "execution_count": 8,
   "id": "c46f5dcb",
   "metadata": {},
   "outputs": [],
   "source": [
    "exio3318.Z=Z_reindexed"
   ]
  },
  {
   "cell_type": "markdown",
   "id": "aa7fb2af",
   "metadata": {},
   "source": [
    "Y (Final demand)"
   ]
  },
  {
   "cell_type": "code",
   "execution_count": 9,
   "id": "cd7b3385",
   "metadata": {},
   "outputs": [],
   "source": [
    "Y_raw = pd.read_csv(exiobase_folder + \"MR_HIOT_2011_v3_3_18_FD.csv\", #You should have this name of file, if not change it\n",
    "                    index_col = [0,1,2,3,4],\n",
    "                    header = [0,1,2,3])\n",
    "\n",
    "Y_reindexed=Y_raw.droplevel([2,3], axis=1).copy() #To remove useless columns\n",
    "Y_reindexed.index=Z_reindexed.index\n",
    "Y_reindexed.columns.names=[\"region\", \"sector\"] #To name the columns\n",
    "exio3318.Y=Y_reindexed"
   ]
  },
  {
   "cell_type": "code",
   "execution_count": 10,
   "id": "2f1b6f74",
   "metadata": {},
   "outputs": [
    {
     "data": {
      "text/html": [
       "<div>\n",
       "<style scoped>\n",
       "    .dataframe tbody tr th:only-of-type {\n",
       "        vertical-align: middle;\n",
       "    }\n",
       "\n",
       "    .dataframe tbody tr th {\n",
       "        vertical-align: top;\n",
       "    }\n",
       "\n",
       "    .dataframe thead tr th {\n",
       "        text-align: left;\n",
       "    }\n",
       "\n",
       "    .dataframe thead tr:last-of-type th {\n",
       "        text-align: right;\n",
       "    }\n",
       "</style>\n",
       "<table border=\"1\" class=\"dataframe\">\n",
       "  <thead>\n",
       "    <tr>\n",
       "      <th></th>\n",
       "      <th>region</th>\n",
       "      <th colspan=\"6\" halign=\"left\">AU</th>\n",
       "      <th colspan=\"4\" halign=\"left\">AT</th>\n",
       "      <th>...</th>\n",
       "      <th colspan=\"4\" halign=\"left\">WF</th>\n",
       "      <th colspan=\"6\" halign=\"left\">WM</th>\n",
       "    </tr>\n",
       "    <tr>\n",
       "      <th></th>\n",
       "      <th>sector</th>\n",
       "      <th>Final consumption expenditure by households</th>\n",
       "      <th>Final consumption expenditure by non-profit organisations serving households (NPISH)</th>\n",
       "      <th>Final consumption expenditure by government</th>\n",
       "      <th>Gross fixed capital formation</th>\n",
       "      <th>Changes in inventories</th>\n",
       "      <th>Changes in valuables</th>\n",
       "      <th>Final consumption expenditure by households</th>\n",
       "      <th>Final consumption expenditure by non-profit organisations serving households (NPISH)</th>\n",
       "      <th>Final consumption expenditure by government</th>\n",
       "      <th>Gross fixed capital formation</th>\n",
       "      <th>...</th>\n",
       "      <th>Final consumption expenditure by government</th>\n",
       "      <th>Gross fixed capital formation</th>\n",
       "      <th>Changes in inventories</th>\n",
       "      <th>Changes in valuables</th>\n",
       "      <th>Final consumption expenditure by households</th>\n",
       "      <th>Final consumption expenditure by non-profit organisations serving households (NPISH)</th>\n",
       "      <th>Final consumption expenditure by government</th>\n",
       "      <th>Gross fixed capital formation</th>\n",
       "      <th>Changes in inventories</th>\n",
       "      <th>Changes in valuables</th>\n",
       "    </tr>\n",
       "    <tr>\n",
       "      <th>region</th>\n",
       "      <th>sector</th>\n",
       "      <th></th>\n",
       "      <th></th>\n",
       "      <th></th>\n",
       "      <th></th>\n",
       "      <th></th>\n",
       "      <th></th>\n",
       "      <th></th>\n",
       "      <th></th>\n",
       "      <th></th>\n",
       "      <th></th>\n",
       "      <th></th>\n",
       "      <th></th>\n",
       "      <th></th>\n",
       "      <th></th>\n",
       "      <th></th>\n",
       "      <th></th>\n",
       "      <th></th>\n",
       "      <th></th>\n",
       "      <th></th>\n",
       "      <th></th>\n",
       "      <th></th>\n",
       "    </tr>\n",
       "  </thead>\n",
       "  <tbody>\n",
       "    <tr>\n",
       "      <th rowspan=\"5\" valign=\"top\">AU</th>\n",
       "      <th>Paddy rice</th>\n",
       "      <td>0.000000e+00</td>\n",
       "      <td>0.000000</td>\n",
       "      <td>0.000000</td>\n",
       "      <td>0.0</td>\n",
       "      <td>0.00000</td>\n",
       "      <td>0</td>\n",
       "      <td>0.000000</td>\n",
       "      <td>0.0</td>\n",
       "      <td>0.0</td>\n",
       "      <td>0.000000</td>\n",
       "      <td>...</td>\n",
       "      <td>0.000000</td>\n",
       "      <td>0.000000</td>\n",
       "      <td>0.0</td>\n",
       "      <td>0</td>\n",
       "      <td>0.000000</td>\n",
       "      <td>0.000000</td>\n",
       "      <td>0.000000</td>\n",
       "      <td>0.00000</td>\n",
       "      <td>0.0</td>\n",
       "      <td>0</td>\n",
       "    </tr>\n",
       "    <tr>\n",
       "      <th>Wheat</th>\n",
       "      <td>0.000000e+00</td>\n",
       "      <td>317232.259200</td>\n",
       "      <td>635980.576100</td>\n",
       "      <td>0.0</td>\n",
       "      <td>0.00000</td>\n",
       "      <td>0</td>\n",
       "      <td>0.000000</td>\n",
       "      <td>0.0</td>\n",
       "      <td>0.0</td>\n",
       "      <td>0.000000</td>\n",
       "      <td>...</td>\n",
       "      <td>1299.891228</td>\n",
       "      <td>0.000000</td>\n",
       "      <td>0.0</td>\n",
       "      <td>0</td>\n",
       "      <td>108912.695300</td>\n",
       "      <td>188.294944</td>\n",
       "      <td>483381.948000</td>\n",
       "      <td>0.00000</td>\n",
       "      <td>0.0</td>\n",
       "      <td>0</td>\n",
       "    </tr>\n",
       "    <tr>\n",
       "      <th>Cereal grains nec</th>\n",
       "      <td>0.000000e+00</td>\n",
       "      <td>20796.255720</td>\n",
       "      <td>43596.865240</td>\n",
       "      <td>0.0</td>\n",
       "      <td>0.00000</td>\n",
       "      <td>0</td>\n",
       "      <td>0.645819</td>\n",
       "      <td>0.0</td>\n",
       "      <td>0.0</td>\n",
       "      <td>0.000000</td>\n",
       "      <td>...</td>\n",
       "      <td>1.659671</td>\n",
       "      <td>0.000000</td>\n",
       "      <td>0.0</td>\n",
       "      <td>0</td>\n",
       "      <td>56.219835</td>\n",
       "      <td>0.057518</td>\n",
       "      <td>0.504418</td>\n",
       "      <td>0.00000</td>\n",
       "      <td>0.0</td>\n",
       "      <td>0</td>\n",
       "    </tr>\n",
       "    <tr>\n",
       "      <th>Vegetables, fruit, nuts</th>\n",
       "      <td>1.255628e+06</td>\n",
       "      <td>9066.727501</td>\n",
       "      <td>13660.087220</td>\n",
       "      <td>0.0</td>\n",
       "      <td>25217.20699</td>\n",
       "      <td>0</td>\n",
       "      <td>262.282173</td>\n",
       "      <td>0.0</td>\n",
       "      <td>0.0</td>\n",
       "      <td>0.000000</td>\n",
       "      <td>...</td>\n",
       "      <td>8.159667</td>\n",
       "      <td>0.000000</td>\n",
       "      <td>0.0</td>\n",
       "      <td>0</td>\n",
       "      <td>92564.499830</td>\n",
       "      <td>6.799605</td>\n",
       "      <td>8906.972561</td>\n",
       "      <td>0.00000</td>\n",
       "      <td>0.0</td>\n",
       "      <td>0</td>\n",
       "    </tr>\n",
       "    <tr>\n",
       "      <th>Oil seeds</th>\n",
       "      <td>7.501443e+02</td>\n",
       "      <td>414.340678</td>\n",
       "      <td>402.405072</td>\n",
       "      <td>0.0</td>\n",
       "      <td>11344.59956</td>\n",
       "      <td>0</td>\n",
       "      <td>0.000000</td>\n",
       "      <td>0.0</td>\n",
       "      <td>0.0</td>\n",
       "      <td>0.009475</td>\n",
       "      <td>...</td>\n",
       "      <td>0.000000</td>\n",
       "      <td>0.000258</td>\n",
       "      <td>0.0</td>\n",
       "      <td>0</td>\n",
       "      <td>0.000000</td>\n",
       "      <td>0.000000</td>\n",
       "      <td>0.000000</td>\n",
       "      <td>0.00171</td>\n",
       "      <td>0.0</td>\n",
       "      <td>0</td>\n",
       "    </tr>\n",
       "  </tbody>\n",
       "</table>\n",
       "<p>5 rows × 288 columns</p>\n",
       "</div>"
      ],
      "text/plain": [
       "region                                                                  AU  \\\n",
       "sector                         Final consumption expenditure by households   \n",
       "region sector                                                                \n",
       "AU     Paddy rice                                             0.000000e+00   \n",
       "       Wheat                                                  0.000000e+00   \n",
       "       Cereal grains nec                                      0.000000e+00   \n",
       "       Vegetables, fruit, nuts                                1.255628e+06   \n",
       "       Oil seeds                                              7.501443e+02   \n",
       "\n",
       "region                                                                                                               \\\n",
       "sector                         Final consumption expenditure by non-profit organisations serving households (NPISH)   \n",
       "region sector                                                                                                         \n",
       "AU     Paddy rice                                                        0.000000                                     \n",
       "       Wheat                                                        317232.259200                                     \n",
       "       Cereal grains nec                                             20796.255720                                     \n",
       "       Vegetables, fruit, nuts                                        9066.727501                                     \n",
       "       Oil seeds                                                       414.340678                                     \n",
       "\n",
       "region                                                                      \\\n",
       "sector                         Final consumption expenditure by government   \n",
       "region sector                                                                \n",
       "AU     Paddy rice                                                 0.000000   \n",
       "       Wheat                                                 635980.576100   \n",
       "       Cereal grains nec                                      43596.865240   \n",
       "       Vegetables, fruit, nuts                                13660.087220   \n",
       "       Oil seeds                                                402.405072   \n",
       "\n",
       "region                                                        \\\n",
       "sector                         Gross fixed capital formation   \n",
       "region sector                                                  \n",
       "AU     Paddy rice                                        0.0   \n",
       "       Wheat                                             0.0   \n",
       "       Cereal grains nec                                 0.0   \n",
       "       Vegetables, fruit, nuts                           0.0   \n",
       "       Oil seeds                                         0.0   \n",
       "\n",
       "region                                                                      \\\n",
       "sector                         Changes in inventories Changes in valuables   \n",
       "region sector                                                                \n",
       "AU     Paddy rice                             0.00000                    0   \n",
       "       Wheat                                  0.00000                    0   \n",
       "       Cereal grains nec                      0.00000                    0   \n",
       "       Vegetables, fruit, nuts            25217.20699                    0   \n",
       "       Oil seeds                          11344.59956                    0   \n",
       "\n",
       "region                                                                  AT  \\\n",
       "sector                         Final consumption expenditure by households   \n",
       "region sector                                                                \n",
       "AU     Paddy rice                                                 0.000000   \n",
       "       Wheat                                                      0.000000   \n",
       "       Cereal grains nec                                          0.645819   \n",
       "       Vegetables, fruit, nuts                                  262.282173   \n",
       "       Oil seeds                                                  0.000000   \n",
       "\n",
       "region                                                                                                               \\\n",
       "sector                         Final consumption expenditure by non-profit organisations serving households (NPISH)   \n",
       "region sector                                                                                                         \n",
       "AU     Paddy rice                                                             0.0                                     \n",
       "       Wheat                                                                  0.0                                     \n",
       "       Cereal grains nec                                                      0.0                                     \n",
       "       Vegetables, fruit, nuts                                                0.0                                     \n",
       "       Oil seeds                                                              0.0                                     \n",
       "\n",
       "region                                                                      \\\n",
       "sector                         Final consumption expenditure by government   \n",
       "region sector                                                                \n",
       "AU     Paddy rice                                                      0.0   \n",
       "       Wheat                                                           0.0   \n",
       "       Cereal grains nec                                               0.0   \n",
       "       Vegetables, fruit, nuts                                         0.0   \n",
       "       Oil seeds                                                       0.0   \n",
       "\n",
       "region                                                        ...  \\\n",
       "sector                         Gross fixed capital formation  ...   \n",
       "region sector                                                 ...   \n",
       "AU     Paddy rice                                   0.000000  ...   \n",
       "       Wheat                                        0.000000  ...   \n",
       "       Cereal grains nec                            0.000000  ...   \n",
       "       Vegetables, fruit, nuts                      0.000000  ...   \n",
       "       Oil seeds                                    0.009475  ...   \n",
       "\n",
       "region                                                                  WF  \\\n",
       "sector                         Final consumption expenditure by government   \n",
       "region sector                                                                \n",
       "AU     Paddy rice                                                 0.000000   \n",
       "       Wheat                                                   1299.891228   \n",
       "       Cereal grains nec                                          1.659671   \n",
       "       Vegetables, fruit, nuts                                    8.159667   \n",
       "       Oil seeds                                                  0.000000   \n",
       "\n",
       "region                                                        \\\n",
       "sector                         Gross fixed capital formation   \n",
       "region sector                                                  \n",
       "AU     Paddy rice                                   0.000000   \n",
       "       Wheat                                        0.000000   \n",
       "       Cereal grains nec                            0.000000   \n",
       "       Vegetables, fruit, nuts                      0.000000   \n",
       "       Oil seeds                                    0.000258   \n",
       "\n",
       "region                                                                      \\\n",
       "sector                         Changes in inventories Changes in valuables   \n",
       "region sector                                                                \n",
       "AU     Paddy rice                                 0.0                    0   \n",
       "       Wheat                                      0.0                    0   \n",
       "       Cereal grains nec                          0.0                    0   \n",
       "       Vegetables, fruit, nuts                    0.0                    0   \n",
       "       Oil seeds                                  0.0                    0   \n",
       "\n",
       "region                                                                  WM  \\\n",
       "sector                         Final consumption expenditure by households   \n",
       "region sector                                                                \n",
       "AU     Paddy rice                                                 0.000000   \n",
       "       Wheat                                                 108912.695300   \n",
       "       Cereal grains nec                                         56.219835   \n",
       "       Vegetables, fruit, nuts                                92564.499830   \n",
       "       Oil seeds                                                  0.000000   \n",
       "\n",
       "region                                                                                                               \\\n",
       "sector                         Final consumption expenditure by non-profit organisations serving households (NPISH)   \n",
       "region sector                                                                                                         \n",
       "AU     Paddy rice                                                        0.000000                                     \n",
       "       Wheat                                                           188.294944                                     \n",
       "       Cereal grains nec                                                 0.057518                                     \n",
       "       Vegetables, fruit, nuts                                           6.799605                                     \n",
       "       Oil seeds                                                         0.000000                                     \n",
       "\n",
       "region                                                                      \\\n",
       "sector                         Final consumption expenditure by government   \n",
       "region sector                                                                \n",
       "AU     Paddy rice                                                 0.000000   \n",
       "       Wheat                                                 483381.948000   \n",
       "       Cereal grains nec                                          0.504418   \n",
       "       Vegetables, fruit, nuts                                 8906.972561   \n",
       "       Oil seeds                                                  0.000000   \n",
       "\n",
       "region                                                        \\\n",
       "sector                         Gross fixed capital formation   \n",
       "region sector                                                  \n",
       "AU     Paddy rice                                    0.00000   \n",
       "       Wheat                                         0.00000   \n",
       "       Cereal grains nec                             0.00000   \n",
       "       Vegetables, fruit, nuts                       0.00000   \n",
       "       Oil seeds                                     0.00171   \n",
       "\n",
       "region                                                                      \n",
       "sector                         Changes in inventories Changes in valuables  \n",
       "region sector                                                               \n",
       "AU     Paddy rice                                 0.0                    0  \n",
       "       Wheat                                      0.0                    0  \n",
       "       Cereal grains nec                          0.0                    0  \n",
       "       Vegetables, fruit, nuts                    0.0                    0  \n",
       "       Oil seeds                                  0.0                    0  \n",
       "\n",
       "[5 rows x 288 columns]"
      ]
     },
     "execution_count": 10,
     "metadata": {},
     "output_type": "execute_result"
    }
   ],
   "source": [
    "exio3318.Y.head()"
   ]
  },
  {
   "cell_type": "markdown",
   "id": "792c67a1",
   "metadata": {},
   "source": [
    "Test that the core elements are well-parsed"
   ]
  },
  {
   "cell_type": "code",
   "execution_count": 11,
   "id": "2ea7138c",
   "metadata": {},
   "outputs": [
    {
     "data": {
      "text/html": [
       "<div>\n",
       "<style scoped>\n",
       "    .dataframe tbody tr th:only-of-type {\n",
       "        vertical-align: middle;\n",
       "    }\n",
       "\n",
       "    .dataframe tbody tr th {\n",
       "        vertical-align: top;\n",
       "    }\n",
       "\n",
       "    .dataframe thead tr th {\n",
       "        text-align: left;\n",
       "    }\n",
       "\n",
       "    .dataframe thead tr:last-of-type th {\n",
       "        text-align: right;\n",
       "    }\n",
       "</style>\n",
       "<table border=\"1\" class=\"dataframe\">\n",
       "  <thead>\n",
       "    <tr>\n",
       "      <th></th>\n",
       "      <th>region</th>\n",
       "      <th colspan=\"10\" halign=\"left\">AU</th>\n",
       "      <th>...</th>\n",
       "      <th colspan=\"10\" halign=\"left\">WM</th>\n",
       "    </tr>\n",
       "    <tr>\n",
       "      <th></th>\n",
       "      <th>sector</th>\n",
       "      <th>Paddy rice</th>\n",
       "      <th>Wheat</th>\n",
       "      <th>Cereal grains nec</th>\n",
       "      <th>Vegetables, fruit, nuts</th>\n",
       "      <th>Oil seeds</th>\n",
       "      <th>Sugar cane, sugar beet</th>\n",
       "      <th>Plant-based fibers</th>\n",
       "      <th>Crops nec</th>\n",
       "      <th>Cattle</th>\n",
       "      <th>Pigs</th>\n",
       "      <th>...</th>\n",
       "      <th>Paper for treatment: landfill</th>\n",
       "      <th>Plastic waste for treatment: landfill</th>\n",
       "      <th>Inert/metal/hazardous waste for treatment: landfill</th>\n",
       "      <th>Textiles waste for treatment: landfill</th>\n",
       "      <th>Wood waste for treatment: landfill</th>\n",
       "      <th>Membership organisation services n.e.c. (91)</th>\n",
       "      <th>Recreational, cultural and sporting services (92)</th>\n",
       "      <th>Other services (93)</th>\n",
       "      <th>Private households with employed persons (95)</th>\n",
       "      <th>Extra-territorial organizations and bodies</th>\n",
       "    </tr>\n",
       "    <tr>\n",
       "      <th>region</th>\n",
       "      <th>sector</th>\n",
       "      <th></th>\n",
       "      <th></th>\n",
       "      <th></th>\n",
       "      <th></th>\n",
       "      <th></th>\n",
       "      <th></th>\n",
       "      <th></th>\n",
       "      <th></th>\n",
       "      <th></th>\n",
       "      <th></th>\n",
       "      <th></th>\n",
       "      <th></th>\n",
       "      <th></th>\n",
       "      <th></th>\n",
       "      <th></th>\n",
       "      <th></th>\n",
       "      <th></th>\n",
       "      <th></th>\n",
       "      <th></th>\n",
       "      <th></th>\n",
       "      <th></th>\n",
       "    </tr>\n",
       "  </thead>\n",
       "  <tbody>\n",
       "    <tr>\n",
       "      <th rowspan=\"5\" valign=\"top\">AU</th>\n",
       "      <th>Paddy rice</th>\n",
       "      <td>1.000009</td>\n",
       "      <td>0.000008</td>\n",
       "      <td>0.000006</td>\n",
       "      <td>0.000049</td>\n",
       "      <td>0.000027</td>\n",
       "      <td>0.000004</td>\n",
       "      <td>0.000104</td>\n",
       "      <td>0.001503</td>\n",
       "      <td>0.005874</td>\n",
       "      <td>0.000821</td>\n",
       "      <td>...</td>\n",
       "      <td>3.028264e-08</td>\n",
       "      <td>1.159917e-08</td>\n",
       "      <td>2.102449e-09</td>\n",
       "      <td>7.836877e-08</td>\n",
       "      <td>3.018703e-07</td>\n",
       "      <td>0.000030</td>\n",
       "      <td>0.000034</td>\n",
       "      <td>0.000023</td>\n",
       "      <td>0.000037</td>\n",
       "      <td>0.0</td>\n",
       "    </tr>\n",
       "    <tr>\n",
       "      <th>Wheat</th>\n",
       "      <td>0.000216</td>\n",
       "      <td>1.000193</td>\n",
       "      <td>0.000137</td>\n",
       "      <td>0.001163</td>\n",
       "      <td>0.000679</td>\n",
       "      <td>0.000125</td>\n",
       "      <td>0.002369</td>\n",
       "      <td>0.062994</td>\n",
       "      <td>0.628912</td>\n",
       "      <td>0.714555</td>\n",
       "      <td>...</td>\n",
       "      <td>2.976197e-06</td>\n",
       "      <td>3.506702e-06</td>\n",
       "      <td>2.009846e-07</td>\n",
       "      <td>9.979293e-06</td>\n",
       "      <td>3.233507e-05</td>\n",
       "      <td>0.001707</td>\n",
       "      <td>0.010377</td>\n",
       "      <td>0.002109</td>\n",
       "      <td>0.001656</td>\n",
       "      <td>0.0</td>\n",
       "    </tr>\n",
       "    <tr>\n",
       "      <th>Cereal grains nec</th>\n",
       "      <td>0.000088</td>\n",
       "      <td>0.000081</td>\n",
       "      <td>1.007140</td>\n",
       "      <td>0.000583</td>\n",
       "      <td>0.000366</td>\n",
       "      <td>0.000041</td>\n",
       "      <td>0.000951</td>\n",
       "      <td>0.019043</td>\n",
       "      <td>2.059080</td>\n",
       "      <td>3.760873</td>\n",
       "      <td>...</td>\n",
       "      <td>3.354884e-06</td>\n",
       "      <td>2.519620e-07</td>\n",
       "      <td>5.861412e-08</td>\n",
       "      <td>4.815109e-06</td>\n",
       "      <td>3.370548e-05</td>\n",
       "      <td>0.000550</td>\n",
       "      <td>0.000662</td>\n",
       "      <td>0.000547</td>\n",
       "      <td>0.000643</td>\n",
       "      <td>0.0</td>\n",
       "    </tr>\n",
       "    <tr>\n",
       "      <th>Vegetables, fruit, nuts</th>\n",
       "      <td>0.000020</td>\n",
       "      <td>0.000019</td>\n",
       "      <td>0.000012</td>\n",
       "      <td>1.005752</td>\n",
       "      <td>0.000030</td>\n",
       "      <td>0.000009</td>\n",
       "      <td>0.000248</td>\n",
       "      <td>0.003652</td>\n",
       "      <td>0.065239</td>\n",
       "      <td>0.116988</td>\n",
       "      <td>...</td>\n",
       "      <td>1.959977e-07</td>\n",
       "      <td>1.428908e-07</td>\n",
       "      <td>1.290512e-08</td>\n",
       "      <td>5.981356e-07</td>\n",
       "      <td>2.100614e-06</td>\n",
       "      <td>0.000113</td>\n",
       "      <td>0.000274</td>\n",
       "      <td>0.000125</td>\n",
       "      <td>0.000117</td>\n",
       "      <td>0.0</td>\n",
       "    </tr>\n",
       "    <tr>\n",
       "      <th>Oil seeds</th>\n",
       "      <td>0.000009</td>\n",
       "      <td>0.000010</td>\n",
       "      <td>0.000024</td>\n",
       "      <td>0.000144</td>\n",
       "      <td>1.000765</td>\n",
       "      <td>0.000003</td>\n",
       "      <td>-1.552196</td>\n",
       "      <td>0.003211</td>\n",
       "      <td>0.068144</td>\n",
       "      <td>0.142334</td>\n",
       "      <td>...</td>\n",
       "      <td>-5.969246e-06</td>\n",
       "      <td>-1.526406e-06</td>\n",
       "      <td>-1.268768e-06</td>\n",
       "      <td>-2.166224e-05</td>\n",
       "      <td>-1.872916e-04</td>\n",
       "      <td>-0.004142</td>\n",
       "      <td>-0.006638</td>\n",
       "      <td>-0.004943</td>\n",
       "      <td>-0.002096</td>\n",
       "      <td>0.0</td>\n",
       "    </tr>\n",
       "  </tbody>\n",
       "</table>\n",
       "<p>5 rows × 7872 columns</p>\n",
       "</div>"
      ],
      "text/plain": [
       "region                                 AU                              \\\n",
       "sector                         Paddy rice     Wheat Cereal grains nec   \n",
       "region sector                                                           \n",
       "AU     Paddy rice                1.000009  0.000008          0.000006   \n",
       "       Wheat                     0.000216  1.000193          0.000137   \n",
       "       Cereal grains nec         0.000088  0.000081          1.007140   \n",
       "       Vegetables, fruit, nuts   0.000020  0.000019          0.000012   \n",
       "       Oil seeds                 0.000009  0.000010          0.000024   \n",
       "\n",
       "region                                                            \\\n",
       "sector                         Vegetables, fruit, nuts Oil seeds   \n",
       "region sector                                                      \n",
       "AU     Paddy rice                             0.000049  0.000027   \n",
       "       Wheat                                  0.001163  0.000679   \n",
       "       Cereal grains nec                      0.000583  0.000366   \n",
       "       Vegetables, fruit, nuts                1.005752  0.000030   \n",
       "       Oil seeds                              0.000144  1.000765   \n",
       "\n",
       "region                                                                    \\\n",
       "sector                         Sugar cane, sugar beet Plant-based fibers   \n",
       "region sector                                                              \n",
       "AU     Paddy rice                            0.000004           0.000104   \n",
       "       Wheat                                 0.000125           0.002369   \n",
       "       Cereal grains nec                     0.000041           0.000951   \n",
       "       Vegetables, fruit, nuts               0.000009           0.000248   \n",
       "       Oil seeds                             0.000003          -1.552196   \n",
       "\n",
       "region                                                        ...  \\\n",
       "sector                         Crops nec    Cattle      Pigs  ...   \n",
       "region sector                                                 ...   \n",
       "AU     Paddy rice               0.001503  0.005874  0.000821  ...   \n",
       "       Wheat                    0.062994  0.628912  0.714555  ...   \n",
       "       Cereal grains nec        0.019043  2.059080  3.760873  ...   \n",
       "       Vegetables, fruit, nuts  0.003652  0.065239  0.116988  ...   \n",
       "       Oil seeds                0.003211  0.068144  0.142334  ...   \n",
       "\n",
       "region                                                    WM  \\\n",
       "sector                         Paper for treatment: landfill   \n",
       "region sector                                                  \n",
       "AU     Paddy rice                               3.028264e-08   \n",
       "       Wheat                                    2.976197e-06   \n",
       "       Cereal grains nec                        3.354884e-06   \n",
       "       Vegetables, fruit, nuts                  1.959977e-07   \n",
       "       Oil seeds                               -5.969246e-06   \n",
       "\n",
       "region                                                                \\\n",
       "sector                         Plastic waste for treatment: landfill   \n",
       "region sector                                                          \n",
       "AU     Paddy rice                                       1.159917e-08   \n",
       "       Wheat                                            3.506702e-06   \n",
       "       Cereal grains nec                                2.519620e-07   \n",
       "       Vegetables, fruit, nuts                          1.428908e-07   \n",
       "       Oil seeds                                       -1.526406e-06   \n",
       "\n",
       "region                                                                              \\\n",
       "sector                         Inert/metal/hazardous waste for treatment: landfill   \n",
       "region sector                                                                        \n",
       "AU     Paddy rice                                                    2.102449e-09    \n",
       "       Wheat                                                         2.009846e-07    \n",
       "       Cereal grains nec                                             5.861412e-08    \n",
       "       Vegetables, fruit, nuts                                       1.290512e-08    \n",
       "       Oil seeds                                                    -1.268768e-06    \n",
       "\n",
       "region                                                                 \\\n",
       "sector                         Textiles waste for treatment: landfill   \n",
       "region sector                                                           \n",
       "AU     Paddy rice                                        7.836877e-08   \n",
       "       Wheat                                             9.979293e-06   \n",
       "       Cereal grains nec                                 4.815109e-06   \n",
       "       Vegetables, fruit, nuts                           5.981356e-07   \n",
       "       Oil seeds                                        -2.166224e-05   \n",
       "\n",
       "region                                                             \\\n",
       "sector                         Wood waste for treatment: landfill   \n",
       "region sector                                                       \n",
       "AU     Paddy rice                                    3.018703e-07   \n",
       "       Wheat                                         3.233507e-05   \n",
       "       Cereal grains nec                             3.370548e-05   \n",
       "       Vegetables, fruit, nuts                       2.100614e-06   \n",
       "       Oil seeds                                    -1.872916e-04   \n",
       "\n",
       "region                                                                       \\\n",
       "sector                         Membership organisation services n.e.c. (91)   \n",
       "region sector                                                                 \n",
       "AU     Paddy rice                                                  0.000030   \n",
       "       Wheat                                                       0.001707   \n",
       "       Cereal grains nec                                           0.000550   \n",
       "       Vegetables, fruit, nuts                                     0.000113   \n",
       "       Oil seeds                                                  -0.004142   \n",
       "\n",
       "region                                                                            \\\n",
       "sector                         Recreational, cultural and sporting services (92)   \n",
       "region sector                                                                      \n",
       "AU     Paddy rice                                                       0.000034   \n",
       "       Wheat                                                            0.010377   \n",
       "       Cereal grains nec                                                0.000662   \n",
       "       Vegetables, fruit, nuts                                          0.000274   \n",
       "       Oil seeds                                                       -0.006638   \n",
       "\n",
       "region                                              \\\n",
       "sector                         Other services (93)   \n",
       "region sector                                        \n",
       "AU     Paddy rice                         0.000023   \n",
       "       Wheat                              0.002109   \n",
       "       Cereal grains nec                  0.000547   \n",
       "       Vegetables, fruit, nuts            0.000125   \n",
       "       Oil seeds                         -0.004943   \n",
       "\n",
       "region                                                                        \\\n",
       "sector                         Private households with employed persons (95)   \n",
       "region sector                                                                  \n",
       "AU     Paddy rice                                                   0.000037   \n",
       "       Wheat                                                        0.001656   \n",
       "       Cereal grains nec                                            0.000643   \n",
       "       Vegetables, fruit, nuts                                      0.000117   \n",
       "       Oil seeds                                                   -0.002096   \n",
       "\n",
       "region                                                                     \n",
       "sector                         Extra-territorial organizations and bodies  \n",
       "region sector                                                              \n",
       "AU     Paddy rice                                                     0.0  \n",
       "       Wheat                                                          0.0  \n",
       "       Cereal grains nec                                              0.0  \n",
       "       Vegetables, fruit, nuts                                        0.0  \n",
       "       Oil seeds                                                      0.0  \n",
       "\n",
       "[5 rows x 7872 columns]"
      ]
     },
     "execution_count": 11,
     "metadata": {},
     "output_type": "execute_result"
    }
   ],
   "source": [
    "exio3318.calc_system() #To calculate the rest of matrix\n",
    "exio3318.A.head() #To show A (technical coefficients)\n",
    "exio3318.L.head() #To show L (Leontief matrix I-A)"
   ]
  },
  {
   "cell_type": "markdown",
   "id": "dd9b98a7",
   "metadata": {},
   "source": [
    "F and F_Y (Extensions, total emissions per activity)"
   ]
  },
  {
   "cell_type": "code",
   "execution_count": 12,
   "id": "48ed3b60",
   "metadata": {},
   "outputs": [],
   "source": [
    "exio3318.emissions=mr.Extension(\"emissions\")\n",
    "F_raw = pd.read_excel(exiobase_folder + \"MR_HIOT_2011_v3_3_18_extensions.xlsx\", #This data is emissions of intermediate production\n",
    "                      sheet_name=\"Emiss_act\", #You should have this name of file, if not change it.\n",
    "                      index_col=[0,1,2],\n",
    "                      header=[0,1,2,3])\n",
    "F_raw.columns=Z_reindexed.columns\n",
    "\n",
    "F_Y_raw=pd.read_excel(exiobase_folder + \"MR_HIOT_2011_v3_3_18_extensions.xlsx\", #This data is emissions of final demand\n",
    "                      sheet_name=\"Emiss_FD\", #You should have this name of file, if not change it.\n",
    "                      index_col=[0,1,2],\n",
    "                      header=[0,1,2,3])\n",
    "F_Y_raw.columns=Y_reindexed.columns\n",
    "\n",
    "F_raw.head()\n",
    "F_Y_raw.head()\n",
    "exio3318.emissions.F=F_raw\n",
    "exio3318.emissions.F_Y=F_Y_raw"
   ]
  },
  {
   "cell_type": "code",
   "execution_count": 13,
   "id": "ad45b2f8",
   "metadata": {},
   "outputs": [
    {
     "data": {
      "text/html": [
       "<div>\n",
       "<style scoped>\n",
       "    .dataframe tbody tr th:only-of-type {\n",
       "        vertical-align: middle;\n",
       "    }\n",
       "\n",
       "    .dataframe tbody tr th {\n",
       "        vertical-align: top;\n",
       "    }\n",
       "\n",
       "    .dataframe thead tr th {\n",
       "        text-align: left;\n",
       "    }\n",
       "</style>\n",
       "<table border=\"1\" class=\"dataframe\">\n",
       "  <thead>\n",
       "    <tr>\n",
       "      <th></th>\n",
       "      <th></th>\n",
       "      <th>region</th>\n",
       "      <th colspan=\"6\" halign=\"left\">AU</th>\n",
       "      <th colspan=\"4\" halign=\"left\">AT</th>\n",
       "      <th>...</th>\n",
       "      <th colspan=\"4\" halign=\"left\">WF</th>\n",
       "      <th colspan=\"6\" halign=\"left\">WM</th>\n",
       "    </tr>\n",
       "    <tr>\n",
       "      <th></th>\n",
       "      <th></th>\n",
       "      <th>sector</th>\n",
       "      <th>Final consumption expenditure by households</th>\n",
       "      <th>Final consumption expenditure by non-profit organisations serving households (NPISH)</th>\n",
       "      <th>Final consumption expenditure by government</th>\n",
       "      <th>Gross fixed capital formation</th>\n",
       "      <th>Changes in inventories</th>\n",
       "      <th>Changes in valuables</th>\n",
       "      <th>Final consumption expenditure by households</th>\n",
       "      <th>Final consumption expenditure by non-profit organisations serving households (NPISH)</th>\n",
       "      <th>Final consumption expenditure by government</th>\n",
       "      <th>Gross fixed capital formation</th>\n",
       "      <th>...</th>\n",
       "      <th>Final consumption expenditure by government</th>\n",
       "      <th>Gross fixed capital formation</th>\n",
       "      <th>Changes in inventories</th>\n",
       "      <th>Changes in valuables</th>\n",
       "      <th>Final consumption expenditure by households</th>\n",
       "      <th>Final consumption expenditure by non-profit organisations serving households (NPISH)</th>\n",
       "      <th>Final consumption expenditure by government</th>\n",
       "      <th>Gross fixed capital formation</th>\n",
       "      <th>Changes in inventories</th>\n",
       "      <th>Changes in valuables</th>\n",
       "    </tr>\n",
       "  </thead>\n",
       "  <tbody>\n",
       "    <tr>\n",
       "      <th>Carbon dioxide, fossil</th>\n",
       "      <th>tonnes</th>\n",
       "      <th>air</th>\n",
       "      <td>4.760370e+07</td>\n",
       "      <td>0.000000</td>\n",
       "      <td>0.000000</td>\n",
       "      <td>0</td>\n",
       "      <td>0</td>\n",
       "      <td>0</td>\n",
       "      <td>2.287570e+07</td>\n",
       "      <td>0</td>\n",
       "      <td>0.000000</td>\n",
       "      <td>0</td>\n",
       "      <td>...</td>\n",
       "      <td>0.000000</td>\n",
       "      <td>0</td>\n",
       "      <td>0</td>\n",
       "      <td>0</td>\n",
       "      <td>3.163465e+08</td>\n",
       "      <td>0.000000</td>\n",
       "      <td>0.000000</td>\n",
       "      <td>0</td>\n",
       "      <td>0</td>\n",
       "      <td>0</td>\n",
       "    </tr>\n",
       "    <tr>\n",
       "      <th>N2O</th>\n",
       "      <th>tonnes</th>\n",
       "      <th>air</th>\n",
       "      <td>9.248053e+02</td>\n",
       "      <td>0.000000</td>\n",
       "      <td>0.000000</td>\n",
       "      <td>0</td>\n",
       "      <td>0</td>\n",
       "      <td>0</td>\n",
       "      <td>6.054108e+02</td>\n",
       "      <td>0</td>\n",
       "      <td>0.000000</td>\n",
       "      <td>0</td>\n",
       "      <td>...</td>\n",
       "      <td>0.000000</td>\n",
       "      <td>0</td>\n",
       "      <td>0</td>\n",
       "      <td>0</td>\n",
       "      <td>2.905041e+03</td>\n",
       "      <td>0.000000</td>\n",
       "      <td>0.000000</td>\n",
       "      <td>0</td>\n",
       "      <td>0</td>\n",
       "      <td>0</td>\n",
       "    </tr>\n",
       "    <tr>\n",
       "      <th>CH4</th>\n",
       "      <th>tonnes</th>\n",
       "      <th>air</th>\n",
       "      <td>4.907784e+04</td>\n",
       "      <td>200.749203</td>\n",
       "      <td>343.422972</td>\n",
       "      <td>0</td>\n",
       "      <td>0</td>\n",
       "      <td>0</td>\n",
       "      <td>1.750280e+04</td>\n",
       "      <td>0</td>\n",
       "      <td>0.844495</td>\n",
       "      <td>0</td>\n",
       "      <td>...</td>\n",
       "      <td>201.966619</td>\n",
       "      <td>0</td>\n",
       "      <td>0</td>\n",
       "      <td>0</td>\n",
       "      <td>2.610805e+05</td>\n",
       "      <td>8.070029</td>\n",
       "      <td>4900.486609</td>\n",
       "      <td>0</td>\n",
       "      <td>0</td>\n",
       "      <td>0</td>\n",
       "    </tr>\n",
       "    <tr>\n",
       "      <th>HFCs</th>\n",
       "      <th>tonnes</th>\n",
       "      <th>air</th>\n",
       "      <td>0.000000e+00</td>\n",
       "      <td>0.000000</td>\n",
       "      <td>0.000000</td>\n",
       "      <td>0</td>\n",
       "      <td>0</td>\n",
       "      <td>0</td>\n",
       "      <td>0.000000e+00</td>\n",
       "      <td>0</td>\n",
       "      <td>0.000000</td>\n",
       "      <td>0</td>\n",
       "      <td>...</td>\n",
       "      <td>0.000000</td>\n",
       "      <td>0</td>\n",
       "      <td>0</td>\n",
       "      <td>0</td>\n",
       "      <td>0.000000e+00</td>\n",
       "      <td>0.000000</td>\n",
       "      <td>0.000000</td>\n",
       "      <td>0</td>\n",
       "      <td>0</td>\n",
       "      <td>0</td>\n",
       "    </tr>\n",
       "    <tr>\n",
       "      <th>PFCs</th>\n",
       "      <th>tonnes</th>\n",
       "      <th>air</th>\n",
       "      <td>0.000000e+00</td>\n",
       "      <td>0.000000</td>\n",
       "      <td>0.000000</td>\n",
       "      <td>0</td>\n",
       "      <td>0</td>\n",
       "      <td>0</td>\n",
       "      <td>0.000000e+00</td>\n",
       "      <td>0</td>\n",
       "      <td>0.000000</td>\n",
       "      <td>0</td>\n",
       "      <td>...</td>\n",
       "      <td>0.000000</td>\n",
       "      <td>0</td>\n",
       "      <td>0</td>\n",
       "      <td>0</td>\n",
       "      <td>0.000000e+00</td>\n",
       "      <td>0.000000</td>\n",
       "      <td>0.000000</td>\n",
       "      <td>0</td>\n",
       "      <td>0</td>\n",
       "      <td>0</td>\n",
       "    </tr>\n",
       "  </tbody>\n",
       "</table>\n",
       "<p>5 rows × 288 columns</p>\n",
       "</div>"
      ],
      "text/plain": [
       "region                                                                     AU  \\\n",
       "sector                            Final consumption expenditure by households   \n",
       "Carbon dioxide, fossil tonnes air                                4.760370e+07   \n",
       "N2O                    tonnes air                                9.248053e+02   \n",
       "CH4                    tonnes air                                4.907784e+04   \n",
       "HFCs                   tonnes air                                0.000000e+00   \n",
       "PFCs                   tonnes air                                0.000000e+00   \n",
       "\n",
       "region                                                                                                                  \\\n",
       "sector                            Final consumption expenditure by non-profit organisations serving households (NPISH)   \n",
       "Carbon dioxide, fossil tonnes air                                           0.000000                                     \n",
       "N2O                    tonnes air                                           0.000000                                     \n",
       "CH4                    tonnes air                                         200.749203                                     \n",
       "HFCs                   tonnes air                                           0.000000                                     \n",
       "PFCs                   tonnes air                                           0.000000                                     \n",
       "\n",
       "region                                                                         \\\n",
       "sector                            Final consumption expenditure by government   \n",
       "Carbon dioxide, fossil tonnes air                                    0.000000   \n",
       "N2O                    tonnes air                                    0.000000   \n",
       "CH4                    tonnes air                                  343.422972   \n",
       "HFCs                   tonnes air                                    0.000000   \n",
       "PFCs                   tonnes air                                    0.000000   \n",
       "\n",
       "region                                                           \\\n",
       "sector                            Gross fixed capital formation   \n",
       "Carbon dioxide, fossil tonnes air                             0   \n",
       "N2O                    tonnes air                             0   \n",
       "CH4                    tonnes air                             0   \n",
       "HFCs                   tonnes air                             0   \n",
       "PFCs                   tonnes air                             0   \n",
       "\n",
       "region                                                                         \\\n",
       "sector                            Changes in inventories Changes in valuables   \n",
       "Carbon dioxide, fossil tonnes air                      0                    0   \n",
       "N2O                    tonnes air                      0                    0   \n",
       "CH4                    tonnes air                      0                    0   \n",
       "HFCs                   tonnes air                      0                    0   \n",
       "PFCs                   tonnes air                      0                    0   \n",
       "\n",
       "region                                                                     AT  \\\n",
       "sector                            Final consumption expenditure by households   \n",
       "Carbon dioxide, fossil tonnes air                                2.287570e+07   \n",
       "N2O                    tonnes air                                6.054108e+02   \n",
       "CH4                    tonnes air                                1.750280e+04   \n",
       "HFCs                   tonnes air                                0.000000e+00   \n",
       "PFCs                   tonnes air                                0.000000e+00   \n",
       "\n",
       "region                                                                                                                  \\\n",
       "sector                            Final consumption expenditure by non-profit organisations serving households (NPISH)   \n",
       "Carbon dioxide, fossil tonnes air                                                  0                                     \n",
       "N2O                    tonnes air                                                  0                                     \n",
       "CH4                    tonnes air                                                  0                                     \n",
       "HFCs                   tonnes air                                                  0                                     \n",
       "PFCs                   tonnes air                                                  0                                     \n",
       "\n",
       "region                                                                         \\\n",
       "sector                            Final consumption expenditure by government   \n",
       "Carbon dioxide, fossil tonnes air                                    0.000000   \n",
       "N2O                    tonnes air                                    0.000000   \n",
       "CH4                    tonnes air                                    0.844495   \n",
       "HFCs                   tonnes air                                    0.000000   \n",
       "PFCs                   tonnes air                                    0.000000   \n",
       "\n",
       "region                                                           ...  \\\n",
       "sector                            Gross fixed capital formation  ...   \n",
       "Carbon dioxide, fossil tonnes air                             0  ...   \n",
       "N2O                    tonnes air                             0  ...   \n",
       "CH4                    tonnes air                             0  ...   \n",
       "HFCs                   tonnes air                             0  ...   \n",
       "PFCs                   tonnes air                             0  ...   \n",
       "\n",
       "region                                                                     WF  \\\n",
       "sector                            Final consumption expenditure by government   \n",
       "Carbon dioxide, fossil tonnes air                                    0.000000   \n",
       "N2O                    tonnes air                                    0.000000   \n",
       "CH4                    tonnes air                                  201.966619   \n",
       "HFCs                   tonnes air                                    0.000000   \n",
       "PFCs                   tonnes air                                    0.000000   \n",
       "\n",
       "region                                                           \\\n",
       "sector                            Gross fixed capital formation   \n",
       "Carbon dioxide, fossil tonnes air                             0   \n",
       "N2O                    tonnes air                             0   \n",
       "CH4                    tonnes air                             0   \n",
       "HFCs                   tonnes air                             0   \n",
       "PFCs                   tonnes air                             0   \n",
       "\n",
       "region                                                                         \\\n",
       "sector                            Changes in inventories Changes in valuables   \n",
       "Carbon dioxide, fossil tonnes air                      0                    0   \n",
       "N2O                    tonnes air                      0                    0   \n",
       "CH4                    tonnes air                      0                    0   \n",
       "HFCs                   tonnes air                      0                    0   \n",
       "PFCs                   tonnes air                      0                    0   \n",
       "\n",
       "region                                                                     WM  \\\n",
       "sector                            Final consumption expenditure by households   \n",
       "Carbon dioxide, fossil tonnes air                                3.163465e+08   \n",
       "N2O                    tonnes air                                2.905041e+03   \n",
       "CH4                    tonnes air                                2.610805e+05   \n",
       "HFCs                   tonnes air                                0.000000e+00   \n",
       "PFCs                   tonnes air                                0.000000e+00   \n",
       "\n",
       "region                                                                                                                  \\\n",
       "sector                            Final consumption expenditure by non-profit organisations serving households (NPISH)   \n",
       "Carbon dioxide, fossil tonnes air                                           0.000000                                     \n",
       "N2O                    tonnes air                                           0.000000                                     \n",
       "CH4                    tonnes air                                           8.070029                                     \n",
       "HFCs                   tonnes air                                           0.000000                                     \n",
       "PFCs                   tonnes air                                           0.000000                                     \n",
       "\n",
       "region                                                                         \\\n",
       "sector                            Final consumption expenditure by government   \n",
       "Carbon dioxide, fossil tonnes air                                    0.000000   \n",
       "N2O                    tonnes air                                    0.000000   \n",
       "CH4                    tonnes air                                 4900.486609   \n",
       "HFCs                   tonnes air                                    0.000000   \n",
       "PFCs                   tonnes air                                    0.000000   \n",
       "\n",
       "region                                                           \\\n",
       "sector                            Gross fixed capital formation   \n",
       "Carbon dioxide, fossil tonnes air                             0   \n",
       "N2O                    tonnes air                             0   \n",
       "CH4                    tonnes air                             0   \n",
       "HFCs                   tonnes air                             0   \n",
       "PFCs                   tonnes air                             0   \n",
       "\n",
       "region                                                                         \n",
       "sector                            Changes in inventories Changes in valuables  \n",
       "Carbon dioxide, fossil tonnes air                      0                    0  \n",
       "N2O                    tonnes air                      0                    0  \n",
       "CH4                    tonnes air                      0                    0  \n",
       "HFCs                   tonnes air                      0                    0  \n",
       "PFCs                   tonnes air                      0                    0  \n",
       "\n",
       "[5 rows x 288 columns]"
      ]
     },
     "execution_count": 13,
     "metadata": {},
     "output_type": "execute_result"
    }
   ],
   "source": [
    "F_Y_raw.head()"
   ]
  },
  {
   "cell_type": "markdown",
   "id": "a0012d82",
   "metadata": {},
   "source": [
    "# Updating the electricity mix"
   ]
  },
  {
   "cell_type": "markdown",
   "id": "908db94c",
   "metadata": {},
   "source": [
    "Vector of variation of electricity mix (lambda). Most numbers are ones because they are not electricity mix"
   ]
  },
  {
   "cell_type": "code",
   "execution_count": 14,
   "id": "41a107ac",
   "metadata": {},
   "outputs": [
    {
     "data": {
      "text/plain": [
       "region  sector                                           \n",
       "AU      Paddy rice                                           1.0\n",
       "        Wheat                                                1.0\n",
       "        Cereal grains nec                                    1.0\n",
       "        Vegetables, fruit, nuts                              1.0\n",
       "        Oil seeds                                            1.0\n",
       "                                                            ... \n",
       "WM      Membership organisation services n.e.c. (91)         1.0\n",
       "        Recreational, cultural and sporting services (92)    1.0\n",
       "        Other services (93)                                  1.0\n",
       "        Private households with employed persons (95)        1.0\n",
       "        Extra-territorial organizations and bodies           1.0\n",
       "Name: Value, Length: 7872, dtype: float64"
      ]
     },
     "execution_count": 14,
     "metadata": {},
     "output_type": "execute_result"
    }
   ],
   "source": [
    "vector_lambda=pd.read_csv(exiobase_folder + \"MR_2022_lambda_ember.csv\", #You should have this name of file, if not change it\n",
    "                    index_col = [0,1],\n",
    "                    header = [0])\n",
    "vector_lambda.index=exio3318.Z.index\n",
    "vector_lambda=vector_lambda.squeeze()\n",
    "vector_lambda"
   ]
  },
  {
   "cell_type": "markdown",
   "id": "8233c59e",
   "metadata": {},
   "source": [
    "Creation of new Z that multiplies columns and raws by lambda"
   ]
  },
  {
   "cell_type": "code",
   "execution_count": 15,
   "id": "db107590",
   "metadata": {},
   "outputs": [],
   "source": [
    "Z_1=exio3318.Z.mul(vector_lambda, axis=0)\n",
    "Z_1=Z_1.mul(vector_lambda, axis=1)"
   ]
  },
  {
   "cell_type": "markdown",
   "id": "f85ff181",
   "metadata": {},
   "source": [
    "Comprobation"
   ]
  },
  {
   "cell_type": "code",
   "execution_count": 16,
   "id": "b3697343",
   "metadata": {},
   "outputs": [
    {
     "name": "stdout",
     "output_type": "stream",
     "text": [
      "28.90295069\n",
      "0.181635969\n"
     ]
    },
    {
     "data": {
      "text/plain": [
       "5.249815455537369"
      ]
     },
     "execution_count": 16,
     "metadata": {},
     "output_type": "execute_result"
    }
   ],
   "source": [
    "print(exio3318.Z.loc[('ES','Electricity by coal'),('ES','Bottles for treatment, Recycling of bottles by direct reuse')])\n",
    "print(vector_lambda.loc[('ES','Electricity by coal')])\n",
    "Z_1.loc[('ES','Electricity by coal'),('ES','Bottles for treatment, Recycling of bottles by direct reuse')]\n"
   ]
  },
  {
   "cell_type": "markdown",
   "id": "6f2705bd",
   "metadata": {},
   "source": [
    "Z modified to update activities which in 2011 has no production of one type of electricity and in 2022 they have. It has been done using the proportion of rows and columns of the region where country is or a near country"
   ]
  },
  {
   "cell_type": "code",
   "execution_count": 17,
   "id": "999b11d6",
   "metadata": {},
   "outputs": [
    {
     "data": {
      "text/html": [
       "<div>\n",
       "<style scoped>\n",
       "    .dataframe tbody tr th:only-of-type {\n",
       "        vertical-align: middle;\n",
       "    }\n",
       "\n",
       "    .dataframe tbody tr th {\n",
       "        vertical-align: top;\n",
       "    }\n",
       "\n",
       "    .dataframe thead tr th {\n",
       "        text-align: left;\n",
       "    }\n",
       "\n",
       "    .dataframe thead tr:last-of-type th {\n",
       "        text-align: right;\n",
       "    }\n",
       "</style>\n",
       "<table border=\"1\" class=\"dataframe\">\n",
       "  <thead>\n",
       "    <tr>\n",
       "      <th></th>\n",
       "      <th>region</th>\n",
       "      <th colspan=\"10\" halign=\"left\">AU</th>\n",
       "      <th>...</th>\n",
       "      <th colspan=\"10\" halign=\"left\">WM</th>\n",
       "    </tr>\n",
       "    <tr>\n",
       "      <th></th>\n",
       "      <th>sector</th>\n",
       "      <th>Paddy rice</th>\n",
       "      <th>Wheat</th>\n",
       "      <th>Cereal grains nec</th>\n",
       "      <th>Vegetables, fruit, nuts</th>\n",
       "      <th>Oil seeds</th>\n",
       "      <th>Sugar cane, sugar beet</th>\n",
       "      <th>Plant-based fibers</th>\n",
       "      <th>Crops nec</th>\n",
       "      <th>Cattle</th>\n",
       "      <th>Pigs</th>\n",
       "      <th>...</th>\n",
       "      <th>Paper for treatment: landfill</th>\n",
       "      <th>Plastic waste for treatment: landfill</th>\n",
       "      <th>Inert/metal/hazardous waste for treatment: landfill</th>\n",
       "      <th>Textiles waste for treatment: landfill</th>\n",
       "      <th>Wood waste for treatment: landfill</th>\n",
       "      <th>Membership organisation services n.e.c. (91)</th>\n",
       "      <th>Recreational, cultural and sporting services (92)</th>\n",
       "      <th>Other services (93)</th>\n",
       "      <th>Private households with employed persons (95)</th>\n",
       "      <th>Extra-territorial organizations and bodies</th>\n",
       "    </tr>\n",
       "    <tr>\n",
       "      <th>region</th>\n",
       "      <th>sector</th>\n",
       "      <th></th>\n",
       "      <th></th>\n",
       "      <th></th>\n",
       "      <th></th>\n",
       "      <th></th>\n",
       "      <th></th>\n",
       "      <th></th>\n",
       "      <th></th>\n",
       "      <th></th>\n",
       "      <th></th>\n",
       "      <th></th>\n",
       "      <th></th>\n",
       "      <th></th>\n",
       "      <th></th>\n",
       "      <th></th>\n",
       "      <th></th>\n",
       "      <th></th>\n",
       "      <th></th>\n",
       "      <th></th>\n",
       "      <th></th>\n",
       "      <th></th>\n",
       "    </tr>\n",
       "  </thead>\n",
       "  <tbody>\n",
       "    <tr>\n",
       "      <th rowspan=\"5\" valign=\"top\">AU</th>\n",
       "      <th>Paddy rice</th>\n",
       "      <td>0</td>\n",
       "      <td>0</td>\n",
       "      <td>0</td>\n",
       "      <td>0</td>\n",
       "      <td>0</td>\n",
       "      <td>0</td>\n",
       "      <td>0</td>\n",
       "      <td>0</td>\n",
       "      <td>0</td>\n",
       "      <td>0</td>\n",
       "      <td>...</td>\n",
       "      <td>0</td>\n",
       "      <td>0</td>\n",
       "      <td>0</td>\n",
       "      <td>0</td>\n",
       "      <td>0</td>\n",
       "      <td>0.0</td>\n",
       "      <td>0.0</td>\n",
       "      <td>0.0</td>\n",
       "      <td>0.0</td>\n",
       "      <td>0</td>\n",
       "    </tr>\n",
       "    <tr>\n",
       "      <th>Wheat</th>\n",
       "      <td>0</td>\n",
       "      <td>0</td>\n",
       "      <td>0</td>\n",
       "      <td>0</td>\n",
       "      <td>0</td>\n",
       "      <td>0</td>\n",
       "      <td>0</td>\n",
       "      <td>0</td>\n",
       "      <td>0</td>\n",
       "      <td>0</td>\n",
       "      <td>...</td>\n",
       "      <td>0</td>\n",
       "      <td>0</td>\n",
       "      <td>0</td>\n",
       "      <td>0</td>\n",
       "      <td>0</td>\n",
       "      <td>0.0</td>\n",
       "      <td>0.0</td>\n",
       "      <td>0.0</td>\n",
       "      <td>0.0</td>\n",
       "      <td>0</td>\n",
       "    </tr>\n",
       "    <tr>\n",
       "      <th>Cereal grains nec</th>\n",
       "      <td>0</td>\n",
       "      <td>0</td>\n",
       "      <td>0</td>\n",
       "      <td>0</td>\n",
       "      <td>0</td>\n",
       "      <td>0</td>\n",
       "      <td>0</td>\n",
       "      <td>0</td>\n",
       "      <td>0</td>\n",
       "      <td>0</td>\n",
       "      <td>...</td>\n",
       "      <td>0</td>\n",
       "      <td>0</td>\n",
       "      <td>0</td>\n",
       "      <td>0</td>\n",
       "      <td>0</td>\n",
       "      <td>0.0</td>\n",
       "      <td>0.0</td>\n",
       "      <td>0.0</td>\n",
       "      <td>0.0</td>\n",
       "      <td>0</td>\n",
       "    </tr>\n",
       "    <tr>\n",
       "      <th>Vegetables, fruit, nuts</th>\n",
       "      <td>0</td>\n",
       "      <td>0</td>\n",
       "      <td>0</td>\n",
       "      <td>0</td>\n",
       "      <td>0</td>\n",
       "      <td>0</td>\n",
       "      <td>0</td>\n",
       "      <td>0</td>\n",
       "      <td>0</td>\n",
       "      <td>0</td>\n",
       "      <td>...</td>\n",
       "      <td>0</td>\n",
       "      <td>0</td>\n",
       "      <td>0</td>\n",
       "      <td>0</td>\n",
       "      <td>0</td>\n",
       "      <td>0.0</td>\n",
       "      <td>0.0</td>\n",
       "      <td>0.0</td>\n",
       "      <td>0.0</td>\n",
       "      <td>0</td>\n",
       "    </tr>\n",
       "    <tr>\n",
       "      <th>Oil seeds</th>\n",
       "      <td>0</td>\n",
       "      <td>0</td>\n",
       "      <td>0</td>\n",
       "      <td>0</td>\n",
       "      <td>0</td>\n",
       "      <td>0</td>\n",
       "      <td>0</td>\n",
       "      <td>0</td>\n",
       "      <td>0</td>\n",
       "      <td>0</td>\n",
       "      <td>...</td>\n",
       "      <td>0</td>\n",
       "      <td>0</td>\n",
       "      <td>0</td>\n",
       "      <td>0</td>\n",
       "      <td>0</td>\n",
       "      <td>0.0</td>\n",
       "      <td>0.0</td>\n",
       "      <td>0.0</td>\n",
       "      <td>0.0</td>\n",
       "      <td>0</td>\n",
       "    </tr>\n",
       "    <tr>\n",
       "      <th>...</th>\n",
       "      <th>...</th>\n",
       "      <td>...</td>\n",
       "      <td>...</td>\n",
       "      <td>...</td>\n",
       "      <td>...</td>\n",
       "      <td>...</td>\n",
       "      <td>...</td>\n",
       "      <td>...</td>\n",
       "      <td>...</td>\n",
       "      <td>...</td>\n",
       "      <td>...</td>\n",
       "      <td>...</td>\n",
       "      <td>...</td>\n",
       "      <td>...</td>\n",
       "      <td>...</td>\n",
       "      <td>...</td>\n",
       "      <td>...</td>\n",
       "      <td>...</td>\n",
       "      <td>...</td>\n",
       "      <td>...</td>\n",
       "      <td>...</td>\n",
       "      <td>...</td>\n",
       "    </tr>\n",
       "    <tr>\n",
       "      <th rowspan=\"5\" valign=\"top\">WM</th>\n",
       "      <th>Membership organisation services n.e.c. (91)</th>\n",
       "      <td>0</td>\n",
       "      <td>0</td>\n",
       "      <td>0</td>\n",
       "      <td>0</td>\n",
       "      <td>0</td>\n",
       "      <td>0</td>\n",
       "      <td>0</td>\n",
       "      <td>0</td>\n",
       "      <td>0</td>\n",
       "      <td>0</td>\n",
       "      <td>...</td>\n",
       "      <td>0</td>\n",
       "      <td>0</td>\n",
       "      <td>0</td>\n",
       "      <td>0</td>\n",
       "      <td>0</td>\n",
       "      <td>0.0</td>\n",
       "      <td>0.0</td>\n",
       "      <td>0.0</td>\n",
       "      <td>0.0</td>\n",
       "      <td>0</td>\n",
       "    </tr>\n",
       "    <tr>\n",
       "      <th>Recreational, cultural and sporting services (92)</th>\n",
       "      <td>0</td>\n",
       "      <td>0</td>\n",
       "      <td>0</td>\n",
       "      <td>0</td>\n",
       "      <td>0</td>\n",
       "      <td>0</td>\n",
       "      <td>0</td>\n",
       "      <td>0</td>\n",
       "      <td>0</td>\n",
       "      <td>0</td>\n",
       "      <td>...</td>\n",
       "      <td>0</td>\n",
       "      <td>0</td>\n",
       "      <td>0</td>\n",
       "      <td>0</td>\n",
       "      <td>0</td>\n",
       "      <td>0.0</td>\n",
       "      <td>0.0</td>\n",
       "      <td>0.0</td>\n",
       "      <td>0.0</td>\n",
       "      <td>0</td>\n",
       "    </tr>\n",
       "    <tr>\n",
       "      <th>Other services (93)</th>\n",
       "      <td>0</td>\n",
       "      <td>0</td>\n",
       "      <td>0</td>\n",
       "      <td>0</td>\n",
       "      <td>0</td>\n",
       "      <td>0</td>\n",
       "      <td>0</td>\n",
       "      <td>0</td>\n",
       "      <td>0</td>\n",
       "      <td>0</td>\n",
       "      <td>...</td>\n",
       "      <td>0</td>\n",
       "      <td>0</td>\n",
       "      <td>0</td>\n",
       "      <td>0</td>\n",
       "      <td>0</td>\n",
       "      <td>0.0</td>\n",
       "      <td>0.0</td>\n",
       "      <td>0.0</td>\n",
       "      <td>0.0</td>\n",
       "      <td>0</td>\n",
       "    </tr>\n",
       "    <tr>\n",
       "      <th>Private households with employed persons (95)</th>\n",
       "      <td>0</td>\n",
       "      <td>0</td>\n",
       "      <td>0</td>\n",
       "      <td>0</td>\n",
       "      <td>0</td>\n",
       "      <td>0</td>\n",
       "      <td>0</td>\n",
       "      <td>0</td>\n",
       "      <td>0</td>\n",
       "      <td>0</td>\n",
       "      <td>...</td>\n",
       "      <td>0</td>\n",
       "      <td>0</td>\n",
       "      <td>0</td>\n",
       "      <td>0</td>\n",
       "      <td>0</td>\n",
       "      <td>0.0</td>\n",
       "      <td>0.0</td>\n",
       "      <td>0.0</td>\n",
       "      <td>0.0</td>\n",
       "      <td>0</td>\n",
       "    </tr>\n",
       "    <tr>\n",
       "      <th>Extra-territorial organizations and bodies</th>\n",
       "      <td>0</td>\n",
       "      <td>0</td>\n",
       "      <td>0</td>\n",
       "      <td>0</td>\n",
       "      <td>0</td>\n",
       "      <td>0</td>\n",
       "      <td>0</td>\n",
       "      <td>0</td>\n",
       "      <td>0</td>\n",
       "      <td>0</td>\n",
       "      <td>...</td>\n",
       "      <td>0</td>\n",
       "      <td>0</td>\n",
       "      <td>0</td>\n",
       "      <td>0</td>\n",
       "      <td>0</td>\n",
       "      <td>0.0</td>\n",
       "      <td>0.0</td>\n",
       "      <td>0.0</td>\n",
       "      <td>0.0</td>\n",
       "      <td>0</td>\n",
       "    </tr>\n",
       "  </tbody>\n",
       "</table>\n",
       "<p>7872 rows × 7872 columns</p>\n",
       "</div>"
      ],
      "text/plain": [
       "region                                                           AU        \\\n",
       "sector                                                   Paddy rice Wheat   \n",
       "region sector                                                               \n",
       "AU     Paddy rice                                                 0     0   \n",
       "       Wheat                                                      0     0   \n",
       "       Cereal grains nec                                          0     0   \n",
       "       Vegetables, fruit, nuts                                    0     0   \n",
       "       Oil seeds                                                  0     0   \n",
       "...                                                             ...   ...   \n",
       "WM     Membership organisation services n.e.c. (91)               0     0   \n",
       "       Recreational, cultural and sporting services (92)          0     0   \n",
       "       Other services (93)                                        0     0   \n",
       "       Private households with employed persons (95)              0     0   \n",
       "       Extra-territorial organizations and bodies                 0     0   \n",
       "\n",
       "region                                                                      \\\n",
       "sector                                                   Cereal grains nec   \n",
       "region sector                                                                \n",
       "AU     Paddy rice                                                        0   \n",
       "       Wheat                                                             0   \n",
       "       Cereal grains nec                                                 0   \n",
       "       Vegetables, fruit, nuts                                           0   \n",
       "       Oil seeds                                                         0   \n",
       "...                                                                    ...   \n",
       "WM     Membership organisation services n.e.c. (91)                      0   \n",
       "       Recreational, cultural and sporting services (92)                 0   \n",
       "       Other services (93)                                               0   \n",
       "       Private households with employed persons (95)                     0   \n",
       "       Extra-territorial organizations and bodies                        0   \n",
       "\n",
       "region                                                                            \\\n",
       "sector                                                   Vegetables, fruit, nuts   \n",
       "region sector                                                                      \n",
       "AU     Paddy rice                                                              0   \n",
       "       Wheat                                                                   0   \n",
       "       Cereal grains nec                                                       0   \n",
       "       Vegetables, fruit, nuts                                                 0   \n",
       "       Oil seeds                                                               0   \n",
       "...                                                                          ...   \n",
       "WM     Membership organisation services n.e.c. (91)                            0   \n",
       "       Recreational, cultural and sporting services (92)                       0   \n",
       "       Other services (93)                                                     0   \n",
       "       Private households with employed persons (95)                           0   \n",
       "       Extra-territorial organizations and bodies                              0   \n",
       "\n",
       "region                                                              \\\n",
       "sector                                                   Oil seeds   \n",
       "region sector                                                        \n",
       "AU     Paddy rice                                                0   \n",
       "       Wheat                                                     0   \n",
       "       Cereal grains nec                                         0   \n",
       "       Vegetables, fruit, nuts                                   0   \n",
       "       Oil seeds                                                 0   \n",
       "...                                                            ...   \n",
       "WM     Membership organisation services n.e.c. (91)              0   \n",
       "       Recreational, cultural and sporting services (92)         0   \n",
       "       Other services (93)                                       0   \n",
       "       Private households with employed persons (95)             0   \n",
       "       Extra-territorial organizations and bodies                0   \n",
       "\n",
       "region                                                                           \\\n",
       "sector                                                   Sugar cane, sugar beet   \n",
       "region sector                                                                     \n",
       "AU     Paddy rice                                                             0   \n",
       "       Wheat                                                                  0   \n",
       "       Cereal grains nec                                                      0   \n",
       "       Vegetables, fruit, nuts                                                0   \n",
       "       Oil seeds                                                              0   \n",
       "...                                                                         ...   \n",
       "WM     Membership organisation services n.e.c. (91)                           0   \n",
       "       Recreational, cultural and sporting services (92)                      0   \n",
       "       Other services (93)                                                    0   \n",
       "       Private households with employed persons (95)                          0   \n",
       "       Extra-territorial organizations and bodies                             0   \n",
       "\n",
       "region                                                                       \\\n",
       "sector                                                   Plant-based fibers   \n",
       "region sector                                                                 \n",
       "AU     Paddy rice                                                         0   \n",
       "       Wheat                                                              0   \n",
       "       Cereal grains nec                                                  0   \n",
       "       Vegetables, fruit, nuts                                            0   \n",
       "       Oil seeds                                                          0   \n",
       "...                                                                     ...   \n",
       "WM     Membership organisation services n.e.c. (91)                       0   \n",
       "       Recreational, cultural and sporting services (92)                  0   \n",
       "       Other services (93)                                                0   \n",
       "       Private households with employed persons (95)                      0   \n",
       "       Extra-territorial organizations and bodies                         0   \n",
       "\n",
       "region                                                                     \\\n",
       "sector                                                   Crops nec Cattle   \n",
       "region sector                                                               \n",
       "AU     Paddy rice                                                0      0   \n",
       "       Wheat                                                     0      0   \n",
       "       Cereal grains nec                                         0      0   \n",
       "       Vegetables, fruit, nuts                                   0      0   \n",
       "       Oil seeds                                                 0      0   \n",
       "...                                                            ...    ...   \n",
       "WM     Membership organisation services n.e.c. (91)              0      0   \n",
       "       Recreational, cultural and sporting services (92)         0      0   \n",
       "       Other services (93)                                       0      0   \n",
       "       Private households with employed persons (95)             0      0   \n",
       "       Extra-territorial organizations and bodies                0      0   \n",
       "\n",
       "region                                                         ...  \\\n",
       "sector                                                   Pigs  ...   \n",
       "region sector                                                  ...   \n",
       "AU     Paddy rice                                           0  ...   \n",
       "       Wheat                                                0  ...   \n",
       "       Cereal grains nec                                    0  ...   \n",
       "       Vegetables, fruit, nuts                              0  ...   \n",
       "       Oil seeds                                            0  ...   \n",
       "...                                                       ...  ...   \n",
       "WM     Membership organisation services n.e.c. (91)         0  ...   \n",
       "       Recreational, cultural and sporting services (92)    0  ...   \n",
       "       Other services (93)                                  0  ...   \n",
       "       Private households with employed persons (95)        0  ...   \n",
       "       Extra-territorial organizations and bodies           0  ...   \n",
       "\n",
       "region                                                                              WM  \\\n",
       "sector                                                   Paper for treatment: landfill   \n",
       "region sector                                                                            \n",
       "AU     Paddy rice                                                                    0   \n",
       "       Wheat                                                                         0   \n",
       "       Cereal grains nec                                                             0   \n",
       "       Vegetables, fruit, nuts                                                       0   \n",
       "       Oil seeds                                                                     0   \n",
       "...                                                                                ...   \n",
       "WM     Membership organisation services n.e.c. (91)                                  0   \n",
       "       Recreational, cultural and sporting services (92)                             0   \n",
       "       Other services (93)                                                           0   \n",
       "       Private households with employed persons (95)                                 0   \n",
       "       Extra-territorial organizations and bodies                                    0   \n",
       "\n",
       "region                                                                                          \\\n",
       "sector                                                   Plastic waste for treatment: landfill   \n",
       "region sector                                                                                    \n",
       "AU     Paddy rice                                                                            0   \n",
       "       Wheat                                                                                 0   \n",
       "       Cereal grains nec                                                                     0   \n",
       "       Vegetables, fruit, nuts                                                               0   \n",
       "       Oil seeds                                                                             0   \n",
       "...                                                                                        ...   \n",
       "WM     Membership organisation services n.e.c. (91)                                          0   \n",
       "       Recreational, cultural and sporting services (92)                                     0   \n",
       "       Other services (93)                                                                   0   \n",
       "       Private households with employed persons (95)                                         0   \n",
       "       Extra-territorial organizations and bodies                                            0   \n",
       "\n",
       "region                                                                                                        \\\n",
       "sector                                                   Inert/metal/hazardous waste for treatment: landfill   \n",
       "region sector                                                                                                  \n",
       "AU     Paddy rice                                                                                         0    \n",
       "       Wheat                                                                                              0    \n",
       "       Cereal grains nec                                                                                  0    \n",
       "       Vegetables, fruit, nuts                                                                            0    \n",
       "       Oil seeds                                                                                          0    \n",
       "...                                                                                                     ...    \n",
       "WM     Membership organisation services n.e.c. (91)                                                       0    \n",
       "       Recreational, cultural and sporting services (92)                                                  0    \n",
       "       Other services (93)                                                                                0    \n",
       "       Private households with employed persons (95)                                                      0    \n",
       "       Extra-territorial organizations and bodies                                                         0    \n",
       "\n",
       "region                                                                                           \\\n",
       "sector                                                   Textiles waste for treatment: landfill   \n",
       "region sector                                                                                     \n",
       "AU     Paddy rice                                                                             0   \n",
       "       Wheat                                                                                  0   \n",
       "       Cereal grains nec                                                                      0   \n",
       "       Vegetables, fruit, nuts                                                                0   \n",
       "       Oil seeds                                                                              0   \n",
       "...                                                                                         ...   \n",
       "WM     Membership organisation services n.e.c. (91)                                           0   \n",
       "       Recreational, cultural and sporting services (92)                                      0   \n",
       "       Other services (93)                                                                    0   \n",
       "       Private households with employed persons (95)                                          0   \n",
       "       Extra-territorial organizations and bodies                                             0   \n",
       "\n",
       "region                                                                                       \\\n",
       "sector                                                   Wood waste for treatment: landfill   \n",
       "region sector                                                                                 \n",
       "AU     Paddy rice                                                                         0   \n",
       "       Wheat                                                                              0   \n",
       "       Cereal grains nec                                                                  0   \n",
       "       Vegetables, fruit, nuts                                                            0   \n",
       "       Oil seeds                                                                          0   \n",
       "...                                                                                     ...   \n",
       "WM     Membership organisation services n.e.c. (91)                                       0   \n",
       "       Recreational, cultural and sporting services (92)                                  0   \n",
       "       Other services (93)                                                                0   \n",
       "       Private households with employed persons (95)                                      0   \n",
       "       Extra-territorial organizations and bodies                                         0   \n",
       "\n",
       "region                                                                                                 \\\n",
       "sector                                                   Membership organisation services n.e.c. (91)   \n",
       "region sector                                                                                           \n",
       "AU     Paddy rice                                                                                 0.0   \n",
       "       Wheat                                                                                      0.0   \n",
       "       Cereal grains nec                                                                          0.0   \n",
       "       Vegetables, fruit, nuts                                                                    0.0   \n",
       "       Oil seeds                                                                                  0.0   \n",
       "...                                                                                               ...   \n",
       "WM     Membership organisation services n.e.c. (91)                                               0.0   \n",
       "       Recreational, cultural and sporting services (92)                                          0.0   \n",
       "       Other services (93)                                                                        0.0   \n",
       "       Private households with employed persons (95)                                              0.0   \n",
       "       Extra-territorial organizations and bodies                                                 0.0   \n",
       "\n",
       "region                                                                                                      \\\n",
       "sector                                                   Recreational, cultural and sporting services (92)   \n",
       "region sector                                                                                                \n",
       "AU     Paddy rice                                                                                      0.0   \n",
       "       Wheat                                                                                           0.0   \n",
       "       Cereal grains nec                                                                               0.0   \n",
       "       Vegetables, fruit, nuts                                                                         0.0   \n",
       "       Oil seeds                                                                                       0.0   \n",
       "...                                                                                                    ...   \n",
       "WM     Membership organisation services n.e.c. (91)                                                    0.0   \n",
       "       Recreational, cultural and sporting services (92)                                               0.0   \n",
       "       Other services (93)                                                                             0.0   \n",
       "       Private households with employed persons (95)                                                   0.0   \n",
       "       Extra-territorial organizations and bodies                                                      0.0   \n",
       "\n",
       "region                                                                        \\\n",
       "sector                                                   Other services (93)   \n",
       "region sector                                                                  \n",
       "AU     Paddy rice                                                        0.0   \n",
       "       Wheat                                                             0.0   \n",
       "       Cereal grains nec                                                 0.0   \n",
       "       Vegetables, fruit, nuts                                           0.0   \n",
       "       Oil seeds                                                         0.0   \n",
       "...                                                                      ...   \n",
       "WM     Membership organisation services n.e.c. (91)                      0.0   \n",
       "       Recreational, cultural and sporting services (92)                 0.0   \n",
       "       Other services (93)                                               0.0   \n",
       "       Private households with employed persons (95)                     0.0   \n",
       "       Extra-territorial organizations and bodies                        0.0   \n",
       "\n",
       "region                                                                                                  \\\n",
       "sector                                                   Private households with employed persons (95)   \n",
       "region sector                                                                                            \n",
       "AU     Paddy rice                                                                                  0.0   \n",
       "       Wheat                                                                                       0.0   \n",
       "       Cereal grains nec                                                                           0.0   \n",
       "       Vegetables, fruit, nuts                                                                     0.0   \n",
       "       Oil seeds                                                                                   0.0   \n",
       "...                                                                                                ...   \n",
       "WM     Membership organisation services n.e.c. (91)                                                0.0   \n",
       "       Recreational, cultural and sporting services (92)                                           0.0   \n",
       "       Other services (93)                                                                         0.0   \n",
       "       Private households with employed persons (95)                                               0.0   \n",
       "       Extra-territorial organizations and bodies                                                  0.0   \n",
       "\n",
       "region                                                                                               \n",
       "sector                                                   Extra-territorial organizations and bodies  \n",
       "region sector                                                                                        \n",
       "AU     Paddy rice                                                                                 0  \n",
       "       Wheat                                                                                      0  \n",
       "       Cereal grains nec                                                                          0  \n",
       "       Vegetables, fruit, nuts                                                                    0  \n",
       "       Oil seeds                                                                                  0  \n",
       "...                                                                                             ...  \n",
       "WM     Membership organisation services n.e.c. (91)                                               0  \n",
       "       Recreational, cultural and sporting services (92)                                          0  \n",
       "       Other services (93)                                                                        0  \n",
       "       Private households with employed persons (95)                                              0  \n",
       "       Extra-territorial organizations and bodies                                                 0  \n",
       "\n",
       "[7872 rows x 7872 columns]"
      ]
     },
     "execution_count": 17,
     "metadata": {},
     "output_type": "execute_result"
    }
   ],
   "source": [
    "Z_gamma=pd.read_csv(exiobase_folder + \"MR_HIOT_2011_v3_3_18_Z_gamma.csv\", #You should have this name of file, if not change it\n",
    "                    index_col = [0,1],\n",
    "                    header = [0,1])\n",
    "Z_gamma.index=exio3318.Z.index\n",
    "Z_gamma.columns=exio3318.Z.columns\n",
    "Z_gamma #To see the first lines"
   ]
  },
  {
   "cell_type": "code",
   "execution_count": 18,
   "id": "1f1403b5",
   "metadata": {},
   "outputs": [
    {
     "data": {
      "text/plain": [
       "False"
      ]
     },
     "execution_count": 18,
     "metadata": {},
     "output_type": "execute_result"
    }
   ],
   "source": [
    "Z_gamma.isna().values.any() #To check all data is ok, is have to be false"
   ]
  },
  {
   "cell_type": "code",
   "execution_count": 19,
   "id": "1581e186",
   "metadata": {},
   "outputs": [
    {
     "data": {
      "text/html": [
       "<div>\n",
       "<style scoped>\n",
       "    .dataframe tbody tr th:only-of-type {\n",
       "        vertical-align: middle;\n",
       "    }\n",
       "\n",
       "    .dataframe tbody tr th {\n",
       "        vertical-align: top;\n",
       "    }\n",
       "\n",
       "    .dataframe thead tr th {\n",
       "        text-align: left;\n",
       "    }\n",
       "\n",
       "    .dataframe thead tr:last-of-type th {\n",
       "        text-align: right;\n",
       "    }\n",
       "</style>\n",
       "<table border=\"1\" class=\"dataframe\">\n",
       "  <thead>\n",
       "    <tr>\n",
       "      <th></th>\n",
       "      <th>region</th>\n",
       "      <th colspan=\"10\" halign=\"left\">AU</th>\n",
       "      <th>...</th>\n",
       "      <th colspan=\"10\" halign=\"left\">WM</th>\n",
       "    </tr>\n",
       "    <tr>\n",
       "      <th></th>\n",
       "      <th>sector</th>\n",
       "      <th>Paddy rice</th>\n",
       "      <th>Wheat</th>\n",
       "      <th>Cereal grains nec</th>\n",
       "      <th>Vegetables, fruit, nuts</th>\n",
       "      <th>Oil seeds</th>\n",
       "      <th>Sugar cane, sugar beet</th>\n",
       "      <th>Plant-based fibers</th>\n",
       "      <th>Crops nec</th>\n",
       "      <th>Cattle</th>\n",
       "      <th>Pigs</th>\n",
       "      <th>...</th>\n",
       "      <th>Paper for treatment: landfill</th>\n",
       "      <th>Plastic waste for treatment: landfill</th>\n",
       "      <th>Inert/metal/hazardous waste for treatment: landfill</th>\n",
       "      <th>Textiles waste for treatment: landfill</th>\n",
       "      <th>Wood waste for treatment: landfill</th>\n",
       "      <th>Membership organisation services n.e.c. (91)</th>\n",
       "      <th>Recreational, cultural and sporting services (92)</th>\n",
       "      <th>Other services (93)</th>\n",
       "      <th>Private households with employed persons (95)</th>\n",
       "      <th>Extra-territorial organizations and bodies</th>\n",
       "    </tr>\n",
       "    <tr>\n",
       "      <th>region</th>\n",
       "      <th>sector</th>\n",
       "      <th></th>\n",
       "      <th></th>\n",
       "      <th></th>\n",
       "      <th></th>\n",
       "      <th></th>\n",
       "      <th></th>\n",
       "      <th></th>\n",
       "      <th></th>\n",
       "      <th></th>\n",
       "      <th></th>\n",
       "      <th></th>\n",
       "      <th></th>\n",
       "      <th></th>\n",
       "      <th></th>\n",
       "      <th></th>\n",
       "      <th></th>\n",
       "      <th></th>\n",
       "      <th></th>\n",
       "      <th></th>\n",
       "      <th></th>\n",
       "      <th></th>\n",
       "    </tr>\n",
       "  </thead>\n",
       "  <tbody>\n",
       "    <tr>\n",
       "      <th rowspan=\"5\" valign=\"top\">AU</th>\n",
       "      <th>Paddy rice</th>\n",
       "      <td>0.000000</td>\n",
       "      <td>0.000000</td>\n",
       "      <td>0.000000</td>\n",
       "      <td>0.000000</td>\n",
       "      <td>0.000000</td>\n",
       "      <td>0.000000</td>\n",
       "      <td>0.000000e+00</td>\n",
       "      <td>0.000000</td>\n",
       "      <td>0.000000e+00</td>\n",
       "      <td>0.000000</td>\n",
       "      <td>...</td>\n",
       "      <td>0.000000</td>\n",
       "      <td>0.000000</td>\n",
       "      <td>0.000000</td>\n",
       "      <td>0.000000</td>\n",
       "      <td>0.000000</td>\n",
       "      <td>0.000000</td>\n",
       "      <td>0.000000</td>\n",
       "      <td>0.000000</td>\n",
       "      <td>0.000000</td>\n",
       "      <td>0.0</td>\n",
       "    </tr>\n",
       "    <tr>\n",
       "      <th>Wheat</th>\n",
       "      <td>0.000000</td>\n",
       "      <td>0.000000</td>\n",
       "      <td>0.000000</td>\n",
       "      <td>0.000000</td>\n",
       "      <td>0.000000</td>\n",
       "      <td>0.000000</td>\n",
       "      <td>0.000000e+00</td>\n",
       "      <td>0.000000</td>\n",
       "      <td>6.791574e+05</td>\n",
       "      <td>156083.893300</td>\n",
       "      <td>...</td>\n",
       "      <td>0.000000</td>\n",
       "      <td>0.000000</td>\n",
       "      <td>0.000000</td>\n",
       "      <td>0.000000</td>\n",
       "      <td>0.000000</td>\n",
       "      <td>0.000000</td>\n",
       "      <td>0.000000</td>\n",
       "      <td>0.000000</td>\n",
       "      <td>0.000000</td>\n",
       "      <td>0.0</td>\n",
       "    </tr>\n",
       "    <tr>\n",
       "      <th>Cereal grains nec</th>\n",
       "      <td>0.000000</td>\n",
       "      <td>0.000000</td>\n",
       "      <td>70942.965470</td>\n",
       "      <td>0.000000</td>\n",
       "      <td>0.000000</td>\n",
       "      <td>0.000000</td>\n",
       "      <td>0.000000e+00</td>\n",
       "      <td>0.000000</td>\n",
       "      <td>2.277000e+06</td>\n",
       "      <td>823314.442100</td>\n",
       "      <td>...</td>\n",
       "      <td>0.000000</td>\n",
       "      <td>0.000000</td>\n",
       "      <td>0.000000</td>\n",
       "      <td>0.000000</td>\n",
       "      <td>0.000000</td>\n",
       "      <td>0.000000</td>\n",
       "      <td>0.000000</td>\n",
       "      <td>0.000000</td>\n",
       "      <td>0.000000</td>\n",
       "      <td>0.0</td>\n",
       "    </tr>\n",
       "    <tr>\n",
       "      <th>Vegetables, fruit, nuts</th>\n",
       "      <td>0.000000</td>\n",
       "      <td>0.000000</td>\n",
       "      <td>0.000000</td>\n",
       "      <td>18266.752620</td>\n",
       "      <td>0.000000</td>\n",
       "      <td>0.000000</td>\n",
       "      <td>0.000000e+00</td>\n",
       "      <td>0.000000</td>\n",
       "      <td>1.552051e+03</td>\n",
       "      <td>255.322381</td>\n",
       "      <td>...</td>\n",
       "      <td>0.000000</td>\n",
       "      <td>0.000000</td>\n",
       "      <td>0.000000</td>\n",
       "      <td>0.000000</td>\n",
       "      <td>0.000000</td>\n",
       "      <td>0.000000</td>\n",
       "      <td>0.000000</td>\n",
       "      <td>0.000000</td>\n",
       "      <td>0.000000</td>\n",
       "      <td>0.0</td>\n",
       "    </tr>\n",
       "    <tr>\n",
       "      <th>Oil seeds</th>\n",
       "      <td>0.000000</td>\n",
       "      <td>0.000000</td>\n",
       "      <td>0.000000</td>\n",
       "      <td>0.000000</td>\n",
       "      <td>0.000000</td>\n",
       "      <td>0.000000</td>\n",
       "      <td>-1.206066e+06</td>\n",
       "      <td>0.000000</td>\n",
       "      <td>0.000000e+00</td>\n",
       "      <td>0.000000</td>\n",
       "      <td>...</td>\n",
       "      <td>0.000000</td>\n",
       "      <td>0.000000</td>\n",
       "      <td>0.000000</td>\n",
       "      <td>0.000000</td>\n",
       "      <td>0.000000</td>\n",
       "      <td>0.000000</td>\n",
       "      <td>0.000000</td>\n",
       "      <td>0.000000</td>\n",
       "      <td>0.000000</td>\n",
       "      <td>0.0</td>\n",
       "    </tr>\n",
       "    <tr>\n",
       "      <th>...</th>\n",
       "      <th>...</th>\n",
       "      <td>...</td>\n",
       "      <td>...</td>\n",
       "      <td>...</td>\n",
       "      <td>...</td>\n",
       "      <td>...</td>\n",
       "      <td>...</td>\n",
       "      <td>...</td>\n",
       "      <td>...</td>\n",
       "      <td>...</td>\n",
       "      <td>...</td>\n",
       "      <td>...</td>\n",
       "      <td>...</td>\n",
       "      <td>...</td>\n",
       "      <td>...</td>\n",
       "      <td>...</td>\n",
       "      <td>...</td>\n",
       "      <td>...</td>\n",
       "      <td>...</td>\n",
       "      <td>...</td>\n",
       "      <td>...</td>\n",
       "      <td>...</td>\n",
       "    </tr>\n",
       "    <tr>\n",
       "      <th rowspan=\"5\" valign=\"top\">WM</th>\n",
       "      <th>Membership organisation services n.e.c. (91)</th>\n",
       "      <td>0.000351</td>\n",
       "      <td>0.001041</td>\n",
       "      <td>0.001017</td>\n",
       "      <td>0.003093</td>\n",
       "      <td>0.000834</td>\n",
       "      <td>0.000311</td>\n",
       "      <td>2.090292e-03</td>\n",
       "      <td>0.000107</td>\n",
       "      <td>3.367005e-03</td>\n",
       "      <td>0.000690</td>\n",
       "      <td>...</td>\n",
       "      <td>0.000000</td>\n",
       "      <td>0.000000</td>\n",
       "      <td>0.000005</td>\n",
       "      <td>0.000000</td>\n",
       "      <td>0.000000</td>\n",
       "      <td>0.015072</td>\n",
       "      <td>0.002415</td>\n",
       "      <td>0.000821</td>\n",
       "      <td>0.000511</td>\n",
       "      <td>0.0</td>\n",
       "    </tr>\n",
       "    <tr>\n",
       "      <th>Recreational, cultural and sporting services (92)</th>\n",
       "      <td>0.000000</td>\n",
       "      <td>0.000148</td>\n",
       "      <td>0.000236</td>\n",
       "      <td>0.006582</td>\n",
       "      <td>0.000460</td>\n",
       "      <td>0.000000</td>\n",
       "      <td>5.860030e-04</td>\n",
       "      <td>0.000002</td>\n",
       "      <td>2.681661e-03</td>\n",
       "      <td>0.000037</td>\n",
       "      <td>...</td>\n",
       "      <td>0.001288</td>\n",
       "      <td>0.000036</td>\n",
       "      <td>0.000946</td>\n",
       "      <td>0.000058</td>\n",
       "      <td>0.000124</td>\n",
       "      <td>0.362342</td>\n",
       "      <td>0.626137</td>\n",
       "      <td>0.245179</td>\n",
       "      <td>0.029331</td>\n",
       "      <td>0.0</td>\n",
       "    </tr>\n",
       "    <tr>\n",
       "      <th>Other services (93)</th>\n",
       "      <td>0.000060</td>\n",
       "      <td>0.000216</td>\n",
       "      <td>0.000583</td>\n",
       "      <td>0.000521</td>\n",
       "      <td>0.000385</td>\n",
       "      <td>0.000021</td>\n",
       "      <td>7.101730e-04</td>\n",
       "      <td>0.000034</td>\n",
       "      <td>7.231660e-04</td>\n",
       "      <td>0.000145</td>\n",
       "      <td>...</td>\n",
       "      <td>0.359329</td>\n",
       "      <td>0.003307</td>\n",
       "      <td>0.598283</td>\n",
       "      <td>0.242554</td>\n",
       "      <td>0.003715</td>\n",
       "      <td>0.482523</td>\n",
       "      <td>2.278524</td>\n",
       "      <td>0.733058</td>\n",
       "      <td>0.034219</td>\n",
       "      <td>0.0</td>\n",
       "    </tr>\n",
       "    <tr>\n",
       "      <th>Private households with employed persons (95)</th>\n",
       "      <td>0.000000</td>\n",
       "      <td>0.000000</td>\n",
       "      <td>0.000000</td>\n",
       "      <td>0.000000</td>\n",
       "      <td>0.000000</td>\n",
       "      <td>0.000000</td>\n",
       "      <td>0.000000e+00</td>\n",
       "      <td>0.000000</td>\n",
       "      <td>0.000000e+00</td>\n",
       "      <td>0.000000</td>\n",
       "      <td>...</td>\n",
       "      <td>0.000000</td>\n",
       "      <td>0.000000</td>\n",
       "      <td>0.000000</td>\n",
       "      <td>0.000000</td>\n",
       "      <td>0.000000</td>\n",
       "      <td>0.000000</td>\n",
       "      <td>0.000000</td>\n",
       "      <td>0.000000</td>\n",
       "      <td>0.000000</td>\n",
       "      <td>0.0</td>\n",
       "    </tr>\n",
       "    <tr>\n",
       "      <th>Extra-territorial organizations and bodies</th>\n",
       "      <td>0.000000</td>\n",
       "      <td>0.000000</td>\n",
       "      <td>0.000000</td>\n",
       "      <td>0.000000</td>\n",
       "      <td>0.000000</td>\n",
       "      <td>0.000000</td>\n",
       "      <td>0.000000e+00</td>\n",
       "      <td>0.000000</td>\n",
       "      <td>0.000000e+00</td>\n",
       "      <td>0.000000</td>\n",
       "      <td>...</td>\n",
       "      <td>0.000000</td>\n",
       "      <td>0.000000</td>\n",
       "      <td>0.000000</td>\n",
       "      <td>0.000000</td>\n",
       "      <td>0.000000</td>\n",
       "      <td>0.000000</td>\n",
       "      <td>0.000000</td>\n",
       "      <td>0.000000</td>\n",
       "      <td>0.000000</td>\n",
       "      <td>0.0</td>\n",
       "    </tr>\n",
       "  </tbody>\n",
       "</table>\n",
       "<p>7872 rows × 7872 columns</p>\n",
       "</div>"
      ],
      "text/plain": [
       "region                                                           AU            \\\n",
       "sector                                                   Paddy rice     Wheat   \n",
       "region sector                                                                   \n",
       "AU     Paddy rice                                          0.000000  0.000000   \n",
       "       Wheat                                               0.000000  0.000000   \n",
       "       Cereal grains nec                                   0.000000  0.000000   \n",
       "       Vegetables, fruit, nuts                             0.000000  0.000000   \n",
       "       Oil seeds                                           0.000000  0.000000   \n",
       "...                                                             ...       ...   \n",
       "WM     Membership organisation services n.e.c. (91)        0.000351  0.001041   \n",
       "       Recreational, cultural and sporting services (92)   0.000000  0.000148   \n",
       "       Other services (93)                                 0.000060  0.000216   \n",
       "       Private households with employed persons (95)       0.000000  0.000000   \n",
       "       Extra-territorial organizations and bodies          0.000000  0.000000   \n",
       "\n",
       "region                                                                      \\\n",
       "sector                                                   Cereal grains nec   \n",
       "region sector                                                                \n",
       "AU     Paddy rice                                                 0.000000   \n",
       "       Wheat                                                      0.000000   \n",
       "       Cereal grains nec                                      70942.965470   \n",
       "       Vegetables, fruit, nuts                                    0.000000   \n",
       "       Oil seeds                                                  0.000000   \n",
       "...                                                                    ...   \n",
       "WM     Membership organisation services n.e.c. (91)               0.001017   \n",
       "       Recreational, cultural and sporting services (92)          0.000236   \n",
       "       Other services (93)                                        0.000583   \n",
       "       Private households with employed persons (95)              0.000000   \n",
       "       Extra-territorial organizations and bodies                 0.000000   \n",
       "\n",
       "region                                                                            \\\n",
       "sector                                                   Vegetables, fruit, nuts   \n",
       "region sector                                                                      \n",
       "AU     Paddy rice                                                       0.000000   \n",
       "       Wheat                                                            0.000000   \n",
       "       Cereal grains nec                                                0.000000   \n",
       "       Vegetables, fruit, nuts                                      18266.752620   \n",
       "       Oil seeds                                                        0.000000   \n",
       "...                                                                          ...   \n",
       "WM     Membership organisation services n.e.c. (91)                     0.003093   \n",
       "       Recreational, cultural and sporting services (92)                0.006582   \n",
       "       Other services (93)                                              0.000521   \n",
       "       Private households with employed persons (95)                    0.000000   \n",
       "       Extra-territorial organizations and bodies                       0.000000   \n",
       "\n",
       "region                                                              \\\n",
       "sector                                                   Oil seeds   \n",
       "region sector                                                        \n",
       "AU     Paddy rice                                         0.000000   \n",
       "       Wheat                                              0.000000   \n",
       "       Cereal grains nec                                  0.000000   \n",
       "       Vegetables, fruit, nuts                            0.000000   \n",
       "       Oil seeds                                          0.000000   \n",
       "...                                                            ...   \n",
       "WM     Membership organisation services n.e.c. (91)       0.000834   \n",
       "       Recreational, cultural and sporting services (92)  0.000460   \n",
       "       Other services (93)                                0.000385   \n",
       "       Private households with employed persons (95)      0.000000   \n",
       "       Extra-territorial organizations and bodies         0.000000   \n",
       "\n",
       "region                                                                           \\\n",
       "sector                                                   Sugar cane, sugar beet   \n",
       "region sector                                                                     \n",
       "AU     Paddy rice                                                      0.000000   \n",
       "       Wheat                                                           0.000000   \n",
       "       Cereal grains nec                                               0.000000   \n",
       "       Vegetables, fruit, nuts                                         0.000000   \n",
       "       Oil seeds                                                       0.000000   \n",
       "...                                                                         ...   \n",
       "WM     Membership organisation services n.e.c. (91)                    0.000311   \n",
       "       Recreational, cultural and sporting services (92)               0.000000   \n",
       "       Other services (93)                                             0.000021   \n",
       "       Private households with employed persons (95)                   0.000000   \n",
       "       Extra-territorial organizations and bodies                      0.000000   \n",
       "\n",
       "region                                                                       \\\n",
       "sector                                                   Plant-based fibers   \n",
       "region sector                                                                 \n",
       "AU     Paddy rice                                              0.000000e+00   \n",
       "       Wheat                                                   0.000000e+00   \n",
       "       Cereal grains nec                                       0.000000e+00   \n",
       "       Vegetables, fruit, nuts                                 0.000000e+00   \n",
       "       Oil seeds                                              -1.206066e+06   \n",
       "...                                                                     ...   \n",
       "WM     Membership organisation services n.e.c. (91)            2.090292e-03   \n",
       "       Recreational, cultural and sporting services (92)       5.860030e-04   \n",
       "       Other services (93)                                     7.101730e-04   \n",
       "       Private households with employed persons (95)           0.000000e+00   \n",
       "       Extra-territorial organizations and bodies              0.000000e+00   \n",
       "\n",
       "region                                                              \\\n",
       "sector                                                   Crops nec   \n",
       "region sector                                                        \n",
       "AU     Paddy rice                                         0.000000   \n",
       "       Wheat                                              0.000000   \n",
       "       Cereal grains nec                                  0.000000   \n",
       "       Vegetables, fruit, nuts                            0.000000   \n",
       "       Oil seeds                                          0.000000   \n",
       "...                                                            ...   \n",
       "WM     Membership organisation services n.e.c. (91)       0.000107   \n",
       "       Recreational, cultural and sporting services (92)  0.000002   \n",
       "       Other services (93)                                0.000034   \n",
       "       Private households with employed persons (95)      0.000000   \n",
       "       Extra-territorial organizations and bodies         0.000000   \n",
       "\n",
       "region                                                                  \\\n",
       "sector                                                          Cattle   \n",
       "region sector                                                            \n",
       "AU     Paddy rice                                         0.000000e+00   \n",
       "       Wheat                                              6.791574e+05   \n",
       "       Cereal grains nec                                  2.277000e+06   \n",
       "       Vegetables, fruit, nuts                            1.552051e+03   \n",
       "       Oil seeds                                          0.000000e+00   \n",
       "...                                                                ...   \n",
       "WM     Membership organisation services n.e.c. (91)       3.367005e-03   \n",
       "       Recreational, cultural and sporting services (92)  2.681661e-03   \n",
       "       Other services (93)                                7.231660e-04   \n",
       "       Private households with employed persons (95)      0.000000e+00   \n",
       "       Extra-territorial organizations and bodies         0.000000e+00   \n",
       "\n",
       "region                                                                   ...  \\\n",
       "sector                                                             Pigs  ...   \n",
       "region sector                                                            ...   \n",
       "AU     Paddy rice                                              0.000000  ...   \n",
       "       Wheat                                              156083.893300  ...   \n",
       "       Cereal grains nec                                  823314.442100  ...   \n",
       "       Vegetables, fruit, nuts                               255.322381  ...   \n",
       "       Oil seeds                                               0.000000  ...   \n",
       "...                                                                 ...  ...   \n",
       "WM     Membership organisation services n.e.c. (91)            0.000690  ...   \n",
       "       Recreational, cultural and sporting services (92)       0.000037  ...   \n",
       "       Other services (93)                                     0.000145  ...   \n",
       "       Private households with employed persons (95)           0.000000  ...   \n",
       "       Extra-territorial organizations and bodies              0.000000  ...   \n",
       "\n",
       "region                                                                              WM  \\\n",
       "sector                                                   Paper for treatment: landfill   \n",
       "region sector                                                                            \n",
       "AU     Paddy rice                                                             0.000000   \n",
       "       Wheat                                                                  0.000000   \n",
       "       Cereal grains nec                                                      0.000000   \n",
       "       Vegetables, fruit, nuts                                                0.000000   \n",
       "       Oil seeds                                                              0.000000   \n",
       "...                                                                                ...   \n",
       "WM     Membership organisation services n.e.c. (91)                           0.000000   \n",
       "       Recreational, cultural and sporting services (92)                      0.001288   \n",
       "       Other services (93)                                                    0.359329   \n",
       "       Private households with employed persons (95)                          0.000000   \n",
       "       Extra-territorial organizations and bodies                             0.000000   \n",
       "\n",
       "region                                                                                          \\\n",
       "sector                                                   Plastic waste for treatment: landfill   \n",
       "region sector                                                                                    \n",
       "AU     Paddy rice                                                                     0.000000   \n",
       "       Wheat                                                                          0.000000   \n",
       "       Cereal grains nec                                                              0.000000   \n",
       "       Vegetables, fruit, nuts                                                        0.000000   \n",
       "       Oil seeds                                                                      0.000000   \n",
       "...                                                                                        ...   \n",
       "WM     Membership organisation services n.e.c. (91)                                   0.000000   \n",
       "       Recreational, cultural and sporting services (92)                              0.000036   \n",
       "       Other services (93)                                                            0.003307   \n",
       "       Private households with employed persons (95)                                  0.000000   \n",
       "       Extra-territorial organizations and bodies                                     0.000000   \n",
       "\n",
       "region                                                                                                        \\\n",
       "sector                                                   Inert/metal/hazardous waste for treatment: landfill   \n",
       "region sector                                                                                                  \n",
       "AU     Paddy rice                                                                                  0.000000    \n",
       "       Wheat                                                                                       0.000000    \n",
       "       Cereal grains nec                                                                           0.000000    \n",
       "       Vegetables, fruit, nuts                                                                     0.000000    \n",
       "       Oil seeds                                                                                   0.000000    \n",
       "...                                                                                                     ...    \n",
       "WM     Membership organisation services n.e.c. (91)                                                0.000005    \n",
       "       Recreational, cultural and sporting services (92)                                           0.000946    \n",
       "       Other services (93)                                                                         0.598283    \n",
       "       Private households with employed persons (95)                                               0.000000    \n",
       "       Extra-territorial organizations and bodies                                                  0.000000    \n",
       "\n",
       "region                                                                                           \\\n",
       "sector                                                   Textiles waste for treatment: landfill   \n",
       "region sector                                                                                     \n",
       "AU     Paddy rice                                                                      0.000000   \n",
       "       Wheat                                                                           0.000000   \n",
       "       Cereal grains nec                                                               0.000000   \n",
       "       Vegetables, fruit, nuts                                                         0.000000   \n",
       "       Oil seeds                                                                       0.000000   \n",
       "...                                                                                         ...   \n",
       "WM     Membership organisation services n.e.c. (91)                                    0.000000   \n",
       "       Recreational, cultural and sporting services (92)                               0.000058   \n",
       "       Other services (93)                                                             0.242554   \n",
       "       Private households with employed persons (95)                                   0.000000   \n",
       "       Extra-territorial organizations and bodies                                      0.000000   \n",
       "\n",
       "region                                                                                       \\\n",
       "sector                                                   Wood waste for treatment: landfill   \n",
       "region sector                                                                                 \n",
       "AU     Paddy rice                                                                  0.000000   \n",
       "       Wheat                                                                       0.000000   \n",
       "       Cereal grains nec                                                           0.000000   \n",
       "       Vegetables, fruit, nuts                                                     0.000000   \n",
       "       Oil seeds                                                                   0.000000   \n",
       "...                                                                                     ...   \n",
       "WM     Membership organisation services n.e.c. (91)                                0.000000   \n",
       "       Recreational, cultural and sporting services (92)                           0.000124   \n",
       "       Other services (93)                                                         0.003715   \n",
       "       Private households with employed persons (95)                               0.000000   \n",
       "       Extra-territorial organizations and bodies                                  0.000000   \n",
       "\n",
       "region                                                                                                 \\\n",
       "sector                                                   Membership organisation services n.e.c. (91)   \n",
       "region sector                                                                                           \n",
       "AU     Paddy rice                                                                            0.000000   \n",
       "       Wheat                                                                                 0.000000   \n",
       "       Cereal grains nec                                                                     0.000000   \n",
       "       Vegetables, fruit, nuts                                                               0.000000   \n",
       "       Oil seeds                                                                             0.000000   \n",
       "...                                                                                               ...   \n",
       "WM     Membership organisation services n.e.c. (91)                                          0.015072   \n",
       "       Recreational, cultural and sporting services (92)                                     0.362342   \n",
       "       Other services (93)                                                                   0.482523   \n",
       "       Private households with employed persons (95)                                         0.000000   \n",
       "       Extra-territorial organizations and bodies                                            0.000000   \n",
       "\n",
       "region                                                                                                      \\\n",
       "sector                                                   Recreational, cultural and sporting services (92)   \n",
       "region sector                                                                                                \n",
       "AU     Paddy rice                                                                                 0.000000   \n",
       "       Wheat                                                                                      0.000000   \n",
       "       Cereal grains nec                                                                          0.000000   \n",
       "       Vegetables, fruit, nuts                                                                    0.000000   \n",
       "       Oil seeds                                                                                  0.000000   \n",
       "...                                                                                                    ...   \n",
       "WM     Membership organisation services n.e.c. (91)                                               0.002415   \n",
       "       Recreational, cultural and sporting services (92)                                          0.626137   \n",
       "       Other services (93)                                                                        2.278524   \n",
       "       Private households with employed persons (95)                                              0.000000   \n",
       "       Extra-territorial organizations and bodies                                                 0.000000   \n",
       "\n",
       "region                                                                        \\\n",
       "sector                                                   Other services (93)   \n",
       "region sector                                                                  \n",
       "AU     Paddy rice                                                   0.000000   \n",
       "       Wheat                                                        0.000000   \n",
       "       Cereal grains nec                                            0.000000   \n",
       "       Vegetables, fruit, nuts                                      0.000000   \n",
       "       Oil seeds                                                    0.000000   \n",
       "...                                                                      ...   \n",
       "WM     Membership organisation services n.e.c. (91)                 0.000821   \n",
       "       Recreational, cultural and sporting services (92)            0.245179   \n",
       "       Other services (93)                                          0.733058   \n",
       "       Private households with employed persons (95)                0.000000   \n",
       "       Extra-territorial organizations and bodies                   0.000000   \n",
       "\n",
       "region                                                                                                  \\\n",
       "sector                                                   Private households with employed persons (95)   \n",
       "region sector                                                                                            \n",
       "AU     Paddy rice                                                                             0.000000   \n",
       "       Wheat                                                                                  0.000000   \n",
       "       Cereal grains nec                                                                      0.000000   \n",
       "       Vegetables, fruit, nuts                                                                0.000000   \n",
       "       Oil seeds                                                                              0.000000   \n",
       "...                                                                                                ...   \n",
       "WM     Membership organisation services n.e.c. (91)                                           0.000511   \n",
       "       Recreational, cultural and sporting services (92)                                      0.029331   \n",
       "       Other services (93)                                                                    0.034219   \n",
       "       Private households with employed persons (95)                                          0.000000   \n",
       "       Extra-territorial organizations and bodies                                             0.000000   \n",
       "\n",
       "region                                                                                               \n",
       "sector                                                   Extra-territorial organizations and bodies  \n",
       "region sector                                                                                        \n",
       "AU     Paddy rice                                                                               0.0  \n",
       "       Wheat                                                                                    0.0  \n",
       "       Cereal grains nec                                                                        0.0  \n",
       "       Vegetables, fruit, nuts                                                                  0.0  \n",
       "       Oil seeds                                                                                0.0  \n",
       "...                                                                                             ...  \n",
       "WM     Membership organisation services n.e.c. (91)                                             0.0  \n",
       "       Recreational, cultural and sporting services (92)                                        0.0  \n",
       "       Other services (93)                                                                      0.0  \n",
       "       Private households with employed persons (95)                                            0.0  \n",
       "       Extra-territorial organizations and bodies                                               0.0  \n",
       "\n",
       "[7872 rows x 7872 columns]"
      ]
     },
     "execution_count": 19,
     "metadata": {},
     "output_type": "execute_result"
    }
   ],
   "source": [
    "Z_new=Z_1+Z_gamma\n",
    "Z_new"
   ]
  },
  {
   "cell_type": "markdown",
   "id": "6f0a3a95",
   "metadata": {},
   "source": [
    "New value of Z, do not run if you will edit cells below"
   ]
  },
  {
   "cell_type": "code",
   "execution_count": 20,
   "id": "baaa5a50",
   "metadata": {},
   "outputs": [
    {
     "data": {
      "text/plain": [
       "False"
      ]
     },
     "execution_count": 20,
     "metadata": {},
     "output_type": "execute_result"
    }
   ],
   "source": [
    "exio3318.Z=Z_new\n",
    "exio3318.Z\n",
    "exio3318.Z.isna().values.any() #To check all data is ok, it has to be false"
   ]
  },
  {
   "cell_type": "markdown",
   "id": "1196e7f1",
   "metadata": {},
   "source": [
    "New Y"
   ]
  },
  {
   "cell_type": "code",
   "execution_count": 21,
   "id": "52559333",
   "metadata": {},
   "outputs": [
    {
     "data": {
      "text/plain": [
       "False"
      ]
     },
     "execution_count": 21,
     "metadata": {},
     "output_type": "execute_result"
    }
   ],
   "source": [
    "Y_new=exio3318.Y.mul(vector_lambda, axis=0)\n",
    "Y_new.isna().values.any() #To check all data is ok, it has to be false"
   ]
  },
  {
   "cell_type": "markdown",
   "id": "6e1b8154",
   "metadata": {},
   "source": [
    "Comprobation"
   ]
  },
  {
   "cell_type": "code",
   "execution_count": 22,
   "id": "4f0964d9",
   "metadata": {},
   "outputs": [
    {
     "name": "stdout",
     "output_type": "stream",
     "text": [
      "64568.05815\n",
      "0.181635969\n"
     ]
    },
    {
     "data": {
      "text/plain": [
       "11727.881808523598"
      ]
     },
     "execution_count": 22,
     "metadata": {},
     "output_type": "execute_result"
    }
   ],
   "source": [
    "print(exio3318.Y.loc[('ES','Electricity by coal'),('ES','Final consumption expenditure by households')])\n",
    "print(vector_lambda.loc[('ES','Electricity by coal')])\n",
    "Y_new.loc[('ES','Electricity by coal'),('ES','Final consumption expenditure by households')]"
   ]
  },
  {
   "cell_type": "code",
   "execution_count": 23,
   "id": "c4011d94",
   "metadata": {},
   "outputs": [],
   "source": [
    "exio3318.Y=Y_new"
   ]
  },
  {
   "cell_type": "markdown",
   "id": "ef4d0c3e",
   "metadata": {},
   "source": [
    "To do again the calculations"
   ]
  },
  {
   "cell_type": "code",
   "execution_count": 24,
   "id": "fa3cdb1c",
   "metadata": {},
   "outputs": [
    {
     "name": "stderr",
     "output_type": "stream",
     "text": [
      "c:\\Users\\marpi\\anaconda3\\envs\\io_bw25\\Lib\\site-packages\\pymrio\\core\\mriosystem.py:900: FutureWarning: DataFrame.groupby with axis=1 is deprecated. Do `frame.T.groupby(...)` without axis instead.\n",
      "  Y_agg = Y.groupby(level=\"region\", axis=1, sort=False).sum()\n",
      "c:\\Users\\marpi\\anaconda3\\envs\\io_bw25\\Lib\\site-packages\\pymrio\\core\\mriosystem.py:956: FutureWarning: DataFrame.groupby with axis=1 is deprecated. Do `frame.T.groupby(...)` without axis instead.\n",
      "  F_Y_agg = self.F_Y.groupby(level=\"region\", axis=1, sort=False).sum()\n",
      "c:\\Users\\marpi\\anaconda3\\envs\\io_bw25\\Lib\\site-packages\\pymrio\\core\\mriosystem.py:984: FutureWarning: DataFrame.groupby with axis=1 is deprecated. Do `frame.T.groupby(...)` without axis instead.\n",
      "  self.D_cba.groupby(level=\"region\", axis=1, sort=False).sum()\n",
      "c:\\Users\\marpi\\anaconda3\\envs\\io_bw25\\Lib\\site-packages\\pymrio\\core\\mriosystem.py:993: FutureWarning: DataFrame.groupby with axis=1 is deprecated. Do `frame.T.groupby(...)` without axis instead.\n",
      "  self.D_pba.groupby(level=\"region\", axis=1, sort=False).sum()\n",
      "c:\\Users\\marpi\\anaconda3\\envs\\io_bw25\\Lib\\site-packages\\pymrio\\core\\mriosystem.py:1001: FutureWarning: DataFrame.groupby with axis=1 is deprecated. Do `frame.T.groupby(...)` without axis instead.\n",
      "  self.D_imp_reg = self.D_imp.groupby(\n",
      "c:\\Users\\marpi\\anaconda3\\envs\\io_bw25\\Lib\\site-packages\\pymrio\\core\\mriosystem.py:1007: FutureWarning: DataFrame.groupby with axis=1 is deprecated. Do `frame.T.groupby(...)` without axis instead.\n",
      "  self.D_exp_reg = self.D_exp.groupby(\n"
     ]
    },
    {
     "data": {
      "text/plain": [
       "<pymrio.core.mriosystem.IOSystem at 0x2027e380990>"
      ]
     },
     "execution_count": 24,
     "metadata": {},
     "output_type": "execute_result"
    }
   ],
   "source": [
    "exio3318.reset_all_full() #reset\n",
    "exio3318.calc_all() #calculation of the rest of matrix again"
   ]
  },
  {
   "cell_type": "markdown",
   "id": "6f0dc8fd",
   "metadata": {},
   "source": [
    "# Supply chains"
   ]
  },
  {
   "cell_type": "markdown",
   "id": "dc69470a",
   "metadata": {},
   "source": [
    "Chain 1 CN"
   ]
  },
  {
   "cell_type": "code",
   "execution_count": 26,
   "id": "09f9c539",
   "metadata": {},
   "outputs": [],
   "source": [
    "country_metal_1=input('Which country is doing metallurgy?) ISO-2 code')\n",
    "mining='Copper ores and concentrates'\n",
    "metal='Copper products'\n",
    "\n",
    "impact_metal_1t=exio3318.emissions.S*exio3318.L.loc[:,(country_metal_1,metal)]\n",
    "impact_metal_1t=impact_metal_1t.T\n",
    "\n",
    "impact_mining_1=impact_metal_1t.copy()\n",
    "impact_mining_1.loc[impact_mining_1.index.get_level_values(\"sector\") != mining, :] = 0\n",
    "impact_metal_1=impact_metal_1t.copy()\n",
    "impact_metal_1.loc[impact_metal_1.index.get_level_values(\"sector\") == mining, :] = 0\n"
   ]
  },
  {
   "cell_type": "code",
   "execution_count": 47,
   "id": "a8cb5b52",
   "metadata": {},
   "outputs": [
    {
     "data": {
      "text/html": [
       "<div>\n",
       "<style scoped>\n",
       "    .dataframe tbody tr th:only-of-type {\n",
       "        vertical-align: middle;\n",
       "    }\n",
       "\n",
       "    .dataframe tbody tr th {\n",
       "        vertical-align: top;\n",
       "    }\n",
       "\n",
       "    .dataframe thead tr th {\n",
       "        text-align: left;\n",
       "    }\n",
       "\n",
       "    .dataframe thead tr:last-of-type th {\n",
       "        text-align: right;\n",
       "    }\n",
       "</style>\n",
       "<table border=\"1\" class=\"dataframe\">\n",
       "  <thead>\n",
       "    <tr>\n",
       "      <th></th>\n",
       "      <th></th>\n",
       "      <th>Carbon dioxide, fossil</th>\n",
       "      <th>N2O</th>\n",
       "      <th>CH4</th>\n",
       "      <th>HFCs</th>\n",
       "      <th>PFCs</th>\n",
       "      <th>SF6</th>\n",
       "      <th>NOX</th>\n",
       "      <th>SOx</th>\n",
       "      <th>NH3</th>\n",
       "      <th>NMVOC</th>\n",
       "      <th>...</th>\n",
       "      <th>Cu</th>\n",
       "      <th>Zn</th>\n",
       "      <th>Pb</th>\n",
       "      <th>Hg</th>\n",
       "      <th>Cr</th>\n",
       "      <th>Ni</th>\n",
       "      <th>C</th>\n",
       "      <th>other emissions</th>\n",
       "      <th>Carbon dioxide, biogenic</th>\n",
       "      <th>Other emissions nec</th>\n",
       "    </tr>\n",
       "    <tr>\n",
       "      <th></th>\n",
       "      <th></th>\n",
       "      <th>tonnes</th>\n",
       "      <th>tonnes</th>\n",
       "      <th>tonnes</th>\n",
       "      <th>tonnes</th>\n",
       "      <th>tonnes</th>\n",
       "      <th>tonnes</th>\n",
       "      <th>tonnes</th>\n",
       "      <th>tonnes</th>\n",
       "      <th>tonnes</th>\n",
       "      <th>tonnes</th>\n",
       "      <th>...</th>\n",
       "      <th>tonnes</th>\n",
       "      <th>tonnes</th>\n",
       "      <th>tonnes</th>\n",
       "      <th>tonnes</th>\n",
       "      <th>tonnes</th>\n",
       "      <th>tonnes</th>\n",
       "      <th>tonnes</th>\n",
       "      <th>tonnes</th>\n",
       "      <th>tonnes</th>\n",
       "      <th>tonnes</th>\n",
       "    </tr>\n",
       "    <tr>\n",
       "      <th></th>\n",
       "      <th></th>\n",
       "      <th>air</th>\n",
       "      <th>air</th>\n",
       "      <th>air</th>\n",
       "      <th>air</th>\n",
       "      <th>air</th>\n",
       "      <th>air</th>\n",
       "      <th>air</th>\n",
       "      <th>air</th>\n",
       "      <th>air</th>\n",
       "      <th>air</th>\n",
       "      <th>...</th>\n",
       "      <th>soil</th>\n",
       "      <th>soil</th>\n",
       "      <th>soil</th>\n",
       "      <th>soil</th>\n",
       "      <th>soil</th>\n",
       "      <th>soil</th>\n",
       "      <th>air</th>\n",
       "      <th>undef</th>\n",
       "      <th>air</th>\n",
       "      <th>air</th>\n",
       "    </tr>\n",
       "    <tr>\n",
       "      <th>region</th>\n",
       "      <th>sector</th>\n",
       "      <th></th>\n",
       "      <th></th>\n",
       "      <th></th>\n",
       "      <th></th>\n",
       "      <th></th>\n",
       "      <th></th>\n",
       "      <th></th>\n",
       "      <th></th>\n",
       "      <th></th>\n",
       "      <th></th>\n",
       "      <th></th>\n",
       "      <th></th>\n",
       "      <th></th>\n",
       "      <th></th>\n",
       "      <th></th>\n",
       "      <th></th>\n",
       "      <th></th>\n",
       "      <th></th>\n",
       "      <th></th>\n",
       "      <th></th>\n",
       "      <th></th>\n",
       "    </tr>\n",
       "  </thead>\n",
       "  <tbody>\n",
       "    <tr>\n",
       "      <th rowspan=\"5\" valign=\"top\">AU</th>\n",
       "      <th>Paddy rice</th>\n",
       "      <td>0.0</td>\n",
       "      <td>0.0</td>\n",
       "      <td>0.0</td>\n",
       "      <td>0.0</td>\n",
       "      <td>0.0</td>\n",
       "      <td>0.0</td>\n",
       "      <td>0.0</td>\n",
       "      <td>0.0</td>\n",
       "      <td>0.0</td>\n",
       "      <td>0.0</td>\n",
       "      <td>...</td>\n",
       "      <td>0.0</td>\n",
       "      <td>0.0</td>\n",
       "      <td>0.0</td>\n",
       "      <td>0.0</td>\n",
       "      <td>0.0</td>\n",
       "      <td>0.0</td>\n",
       "      <td>0.0</td>\n",
       "      <td>0.0</td>\n",
       "      <td>0.0</td>\n",
       "      <td>0.0</td>\n",
       "    </tr>\n",
       "    <tr>\n",
       "      <th>Wheat</th>\n",
       "      <td>0.0</td>\n",
       "      <td>0.0</td>\n",
       "      <td>0.0</td>\n",
       "      <td>0.0</td>\n",
       "      <td>0.0</td>\n",
       "      <td>0.0</td>\n",
       "      <td>0.0</td>\n",
       "      <td>0.0</td>\n",
       "      <td>0.0</td>\n",
       "      <td>0.0</td>\n",
       "      <td>...</td>\n",
       "      <td>0.0</td>\n",
       "      <td>0.0</td>\n",
       "      <td>0.0</td>\n",
       "      <td>0.0</td>\n",
       "      <td>0.0</td>\n",
       "      <td>0.0</td>\n",
       "      <td>0.0</td>\n",
       "      <td>0.0</td>\n",
       "      <td>0.0</td>\n",
       "      <td>0.0</td>\n",
       "    </tr>\n",
       "    <tr>\n",
       "      <th>Cereal grains nec</th>\n",
       "      <td>0.0</td>\n",
       "      <td>0.0</td>\n",
       "      <td>0.0</td>\n",
       "      <td>0.0</td>\n",
       "      <td>0.0</td>\n",
       "      <td>0.0</td>\n",
       "      <td>0.0</td>\n",
       "      <td>0.0</td>\n",
       "      <td>0.0</td>\n",
       "      <td>0.0</td>\n",
       "      <td>...</td>\n",
       "      <td>0.0</td>\n",
       "      <td>0.0</td>\n",
       "      <td>0.0</td>\n",
       "      <td>0.0</td>\n",
       "      <td>0.0</td>\n",
       "      <td>0.0</td>\n",
       "      <td>0.0</td>\n",
       "      <td>0.0</td>\n",
       "      <td>0.0</td>\n",
       "      <td>0.0</td>\n",
       "    </tr>\n",
       "    <tr>\n",
       "      <th>Vegetables, fruit, nuts</th>\n",
       "      <td>0.0</td>\n",
       "      <td>0.0</td>\n",
       "      <td>0.0</td>\n",
       "      <td>0.0</td>\n",
       "      <td>0.0</td>\n",
       "      <td>0.0</td>\n",
       "      <td>0.0</td>\n",
       "      <td>0.0</td>\n",
       "      <td>0.0</td>\n",
       "      <td>0.0</td>\n",
       "      <td>...</td>\n",
       "      <td>0.0</td>\n",
       "      <td>0.0</td>\n",
       "      <td>0.0</td>\n",
       "      <td>0.0</td>\n",
       "      <td>0.0</td>\n",
       "      <td>0.0</td>\n",
       "      <td>0.0</td>\n",
       "      <td>0.0</td>\n",
       "      <td>0.0</td>\n",
       "      <td>0.0</td>\n",
       "    </tr>\n",
       "    <tr>\n",
       "      <th>Oil seeds</th>\n",
       "      <td>0.0</td>\n",
       "      <td>0.0</td>\n",
       "      <td>0.0</td>\n",
       "      <td>0.0</td>\n",
       "      <td>0.0</td>\n",
       "      <td>0.0</td>\n",
       "      <td>0.0</td>\n",
       "      <td>0.0</td>\n",
       "      <td>0.0</td>\n",
       "      <td>0.0</td>\n",
       "      <td>...</td>\n",
       "      <td>0.0</td>\n",
       "      <td>0.0</td>\n",
       "      <td>0.0</td>\n",
       "      <td>0.0</td>\n",
       "      <td>0.0</td>\n",
       "      <td>0.0</td>\n",
       "      <td>0.0</td>\n",
       "      <td>0.0</td>\n",
       "      <td>0.0</td>\n",
       "      <td>0.0</td>\n",
       "    </tr>\n",
       "    <tr>\n",
       "      <th>...</th>\n",
       "      <th>...</th>\n",
       "      <td>...</td>\n",
       "      <td>...</td>\n",
       "      <td>...</td>\n",
       "      <td>...</td>\n",
       "      <td>...</td>\n",
       "      <td>...</td>\n",
       "      <td>...</td>\n",
       "      <td>...</td>\n",
       "      <td>...</td>\n",
       "      <td>...</td>\n",
       "      <td>...</td>\n",
       "      <td>...</td>\n",
       "      <td>...</td>\n",
       "      <td>...</td>\n",
       "      <td>...</td>\n",
       "      <td>...</td>\n",
       "      <td>...</td>\n",
       "      <td>...</td>\n",
       "      <td>...</td>\n",
       "      <td>...</td>\n",
       "      <td>...</td>\n",
       "    </tr>\n",
       "    <tr>\n",
       "      <th rowspan=\"5\" valign=\"top\">WM</th>\n",
       "      <th>Membership organisation services n.e.c. (91)</th>\n",
       "      <td>0.0</td>\n",
       "      <td>0.0</td>\n",
       "      <td>0.0</td>\n",
       "      <td>0.0</td>\n",
       "      <td>0.0</td>\n",
       "      <td>0.0</td>\n",
       "      <td>0.0</td>\n",
       "      <td>0.0</td>\n",
       "      <td>0.0</td>\n",
       "      <td>0.0</td>\n",
       "      <td>...</td>\n",
       "      <td>0.0</td>\n",
       "      <td>0.0</td>\n",
       "      <td>0.0</td>\n",
       "      <td>0.0</td>\n",
       "      <td>0.0</td>\n",
       "      <td>0.0</td>\n",
       "      <td>0.0</td>\n",
       "      <td>0.0</td>\n",
       "      <td>0.0</td>\n",
       "      <td>0.0</td>\n",
       "    </tr>\n",
       "    <tr>\n",
       "      <th>Recreational, cultural and sporting services (92)</th>\n",
       "      <td>0.0</td>\n",
       "      <td>0.0</td>\n",
       "      <td>0.0</td>\n",
       "      <td>0.0</td>\n",
       "      <td>0.0</td>\n",
       "      <td>0.0</td>\n",
       "      <td>0.0</td>\n",
       "      <td>0.0</td>\n",
       "      <td>0.0</td>\n",
       "      <td>0.0</td>\n",
       "      <td>...</td>\n",
       "      <td>0.0</td>\n",
       "      <td>0.0</td>\n",
       "      <td>0.0</td>\n",
       "      <td>0.0</td>\n",
       "      <td>0.0</td>\n",
       "      <td>0.0</td>\n",
       "      <td>0.0</td>\n",
       "      <td>0.0</td>\n",
       "      <td>0.0</td>\n",
       "      <td>0.0</td>\n",
       "    </tr>\n",
       "    <tr>\n",
       "      <th>Other services (93)</th>\n",
       "      <td>0.0</td>\n",
       "      <td>0.0</td>\n",
       "      <td>0.0</td>\n",
       "      <td>0.0</td>\n",
       "      <td>0.0</td>\n",
       "      <td>0.0</td>\n",
       "      <td>0.0</td>\n",
       "      <td>0.0</td>\n",
       "      <td>0.0</td>\n",
       "      <td>0.0</td>\n",
       "      <td>...</td>\n",
       "      <td>0.0</td>\n",
       "      <td>0.0</td>\n",
       "      <td>0.0</td>\n",
       "      <td>0.0</td>\n",
       "      <td>0.0</td>\n",
       "      <td>0.0</td>\n",
       "      <td>0.0</td>\n",
       "      <td>0.0</td>\n",
       "      <td>0.0</td>\n",
       "      <td>0.0</td>\n",
       "    </tr>\n",
       "    <tr>\n",
       "      <th>Private households with employed persons (95)</th>\n",
       "      <td>0.0</td>\n",
       "      <td>0.0</td>\n",
       "      <td>0.0</td>\n",
       "      <td>0.0</td>\n",
       "      <td>0.0</td>\n",
       "      <td>0.0</td>\n",
       "      <td>0.0</td>\n",
       "      <td>0.0</td>\n",
       "      <td>0.0</td>\n",
       "      <td>0.0</td>\n",
       "      <td>...</td>\n",
       "      <td>0.0</td>\n",
       "      <td>0.0</td>\n",
       "      <td>0.0</td>\n",
       "      <td>0.0</td>\n",
       "      <td>0.0</td>\n",
       "      <td>0.0</td>\n",
       "      <td>0.0</td>\n",
       "      <td>0.0</td>\n",
       "      <td>0.0</td>\n",
       "      <td>0.0</td>\n",
       "    </tr>\n",
       "    <tr>\n",
       "      <th>Extra-territorial organizations and bodies</th>\n",
       "      <td>0.0</td>\n",
       "      <td>0.0</td>\n",
       "      <td>0.0</td>\n",
       "      <td>0.0</td>\n",
       "      <td>0.0</td>\n",
       "      <td>0.0</td>\n",
       "      <td>0.0</td>\n",
       "      <td>0.0</td>\n",
       "      <td>0.0</td>\n",
       "      <td>0.0</td>\n",
       "      <td>...</td>\n",
       "      <td>0.0</td>\n",
       "      <td>0.0</td>\n",
       "      <td>0.0</td>\n",
       "      <td>0.0</td>\n",
       "      <td>0.0</td>\n",
       "      <td>0.0</td>\n",
       "      <td>0.0</td>\n",
       "      <td>0.0</td>\n",
       "      <td>0.0</td>\n",
       "      <td>0.0</td>\n",
       "    </tr>\n",
       "  </tbody>\n",
       "</table>\n",
       "<p>7872 rows × 66 columns</p>\n",
       "</div>"
      ],
      "text/plain": [
       "                                                         Carbon dioxide, fossil  \\\n",
       "                                                                         tonnes   \n",
       "                                                                            air   \n",
       "region sector                                                                     \n",
       "AU     Paddy rice                                                           0.0   \n",
       "       Wheat                                                                0.0   \n",
       "       Cereal grains nec                                                    0.0   \n",
       "       Vegetables, fruit, nuts                                              0.0   \n",
       "       Oil seeds                                                            0.0   \n",
       "...                                                                         ...   \n",
       "WM     Membership organisation services n.e.c. (91)                         0.0   \n",
       "       Recreational, cultural and sporting services (92)                    0.0   \n",
       "       Other services (93)                                                  0.0   \n",
       "       Private households with employed persons (95)                        0.0   \n",
       "       Extra-territorial organizations and bodies                           0.0   \n",
       "\n",
       "                                                            N2O    CH4   HFCs  \\\n",
       "                                                         tonnes tonnes tonnes   \n",
       "                                                            air    air    air   \n",
       "region sector                                                                   \n",
       "AU     Paddy rice                                           0.0    0.0    0.0   \n",
       "       Wheat                                                0.0    0.0    0.0   \n",
       "       Cereal grains nec                                    0.0    0.0    0.0   \n",
       "       Vegetables, fruit, nuts                              0.0    0.0    0.0   \n",
       "       Oil seeds                                            0.0    0.0    0.0   \n",
       "...                                                         ...    ...    ...   \n",
       "WM     Membership organisation services n.e.c. (91)         0.0    0.0    0.0   \n",
       "       Recreational, cultural and sporting services (92)    0.0    0.0    0.0   \n",
       "       Other services (93)                                  0.0    0.0    0.0   \n",
       "       Private households with employed persons (95)        0.0    0.0    0.0   \n",
       "       Extra-territorial organizations and bodies           0.0    0.0    0.0   \n",
       "\n",
       "                                                           PFCs    SF6   NOX   \\\n",
       "                                                         tonnes tonnes tonnes   \n",
       "                                                            air    air    air   \n",
       "region sector                                                                   \n",
       "AU     Paddy rice                                           0.0    0.0    0.0   \n",
       "       Wheat                                                0.0    0.0    0.0   \n",
       "       Cereal grains nec                                    0.0    0.0    0.0   \n",
       "       Vegetables, fruit, nuts                              0.0    0.0    0.0   \n",
       "       Oil seeds                                            0.0    0.0    0.0   \n",
       "...                                                         ...    ...    ...   \n",
       "WM     Membership organisation services n.e.c. (91)         0.0    0.0    0.0   \n",
       "       Recreational, cultural and sporting services (92)    0.0    0.0    0.0   \n",
       "       Other services (93)                                  0.0    0.0    0.0   \n",
       "       Private households with employed persons (95)        0.0    0.0    0.0   \n",
       "       Extra-territorial organizations and bodies           0.0    0.0    0.0   \n",
       "\n",
       "                                                            SOx    NH3  NMVOC  \\\n",
       "                                                         tonnes tonnes tonnes   \n",
       "                                                            air    air    air   \n",
       "region sector                                                                   \n",
       "AU     Paddy rice                                           0.0    0.0    0.0   \n",
       "       Wheat                                                0.0    0.0    0.0   \n",
       "       Cereal grains nec                                    0.0    0.0    0.0   \n",
       "       Vegetables, fruit, nuts                              0.0    0.0    0.0   \n",
       "       Oil seeds                                            0.0    0.0    0.0   \n",
       "...                                                         ...    ...    ...   \n",
       "WM     Membership organisation services n.e.c. (91)         0.0    0.0    0.0   \n",
       "       Recreational, cultural and sporting services (92)    0.0    0.0    0.0   \n",
       "       Other services (93)                                  0.0    0.0    0.0   \n",
       "       Private households with employed persons (95)        0.0    0.0    0.0   \n",
       "       Extra-territorial organizations and bodies           0.0    0.0    0.0   \n",
       "\n",
       "                                                          ...     Cu     Zn  \\\n",
       "                                                          ... tonnes tonnes   \n",
       "                                                          ...   soil   soil   \n",
       "region sector                                             ...                 \n",
       "AU     Paddy rice                                         ...    0.0    0.0   \n",
       "       Wheat                                              ...    0.0    0.0   \n",
       "       Cereal grains nec                                  ...    0.0    0.0   \n",
       "       Vegetables, fruit, nuts                            ...    0.0    0.0   \n",
       "       Oil seeds                                          ...    0.0    0.0   \n",
       "...                                                       ...    ...    ...   \n",
       "WM     Membership organisation services n.e.c. (91)       ...    0.0    0.0   \n",
       "       Recreational, cultural and sporting services (92)  ...    0.0    0.0   \n",
       "       Other services (93)                                ...    0.0    0.0   \n",
       "       Private households with employed persons (95)      ...    0.0    0.0   \n",
       "       Extra-territorial organizations and bodies         ...    0.0    0.0   \n",
       "\n",
       "                                                             Pb     Hg     Cr  \\\n",
       "                                                         tonnes tonnes tonnes   \n",
       "                                                           soil   soil   soil   \n",
       "region sector                                                                   \n",
       "AU     Paddy rice                                           0.0    0.0    0.0   \n",
       "       Wheat                                                0.0    0.0    0.0   \n",
       "       Cereal grains nec                                    0.0    0.0    0.0   \n",
       "       Vegetables, fruit, nuts                              0.0    0.0    0.0   \n",
       "       Oil seeds                                            0.0    0.0    0.0   \n",
       "...                                                         ...    ...    ...   \n",
       "WM     Membership organisation services n.e.c. (91)         0.0    0.0    0.0   \n",
       "       Recreational, cultural and sporting services (92)    0.0    0.0    0.0   \n",
       "       Other services (93)                                  0.0    0.0    0.0   \n",
       "       Private households with employed persons (95)        0.0    0.0    0.0   \n",
       "       Extra-territorial organizations and bodies           0.0    0.0    0.0   \n",
       "\n",
       "                                                             Ni      C  \\\n",
       "                                                         tonnes tonnes   \n",
       "                                                           soil    air   \n",
       "region sector                                                            \n",
       "AU     Paddy rice                                           0.0    0.0   \n",
       "       Wheat                                                0.0    0.0   \n",
       "       Cereal grains nec                                    0.0    0.0   \n",
       "       Vegetables, fruit, nuts                              0.0    0.0   \n",
       "       Oil seeds                                            0.0    0.0   \n",
       "...                                                         ...    ...   \n",
       "WM     Membership organisation services n.e.c. (91)         0.0    0.0   \n",
       "       Recreational, cultural and sporting services (92)    0.0    0.0   \n",
       "       Other services (93)                                  0.0    0.0   \n",
       "       Private households with employed persons (95)        0.0    0.0   \n",
       "       Extra-territorial organizations and bodies           0.0    0.0   \n",
       "\n",
       "                                                         other emissions  \\\n",
       "                                                                  tonnes   \n",
       "                                                                   undef   \n",
       "region sector                                                              \n",
       "AU     Paddy rice                                                    0.0   \n",
       "       Wheat                                                         0.0   \n",
       "       Cereal grains nec                                             0.0   \n",
       "       Vegetables, fruit, nuts                                       0.0   \n",
       "       Oil seeds                                                     0.0   \n",
       "...                                                                  ...   \n",
       "WM     Membership organisation services n.e.c. (91)                  0.0   \n",
       "       Recreational, cultural and sporting services (92)             0.0   \n",
       "       Other services (93)                                           0.0   \n",
       "       Private households with employed persons (95)                 0.0   \n",
       "       Extra-territorial organizations and bodies                    0.0   \n",
       "\n",
       "                                                         Carbon dioxide, biogenic  \\\n",
       "                                                                           tonnes   \n",
       "                                                                              air   \n",
       "region sector                                                                       \n",
       "AU     Paddy rice                                                             0.0   \n",
       "       Wheat                                                                  0.0   \n",
       "       Cereal grains nec                                                      0.0   \n",
       "       Vegetables, fruit, nuts                                                0.0   \n",
       "       Oil seeds                                                              0.0   \n",
       "...                                                                           ...   \n",
       "WM     Membership organisation services n.e.c. (91)                           0.0   \n",
       "       Recreational, cultural and sporting services (92)                      0.0   \n",
       "       Other services (93)                                                    0.0   \n",
       "       Private households with employed persons (95)                          0.0   \n",
       "       Extra-territorial organizations and bodies                             0.0   \n",
       "\n",
       "                                                         Other emissions nec  \n",
       "                                                                      tonnes  \n",
       "                                                                         air  \n",
       "region sector                                                                 \n",
       "AU     Paddy rice                                                        0.0  \n",
       "       Wheat                                                             0.0  \n",
       "       Cereal grains nec                                                 0.0  \n",
       "       Vegetables, fruit, nuts                                           0.0  \n",
       "       Oil seeds                                                         0.0  \n",
       "...                                                                      ...  \n",
       "WM     Membership organisation services n.e.c. (91)                      0.0  \n",
       "       Recreational, cultural and sporting services (92)                 0.0  \n",
       "       Other services (93)                                               0.0  \n",
       "       Private households with employed persons (95)                     0.0  \n",
       "       Extra-territorial organizations and bodies                        0.0  \n",
       "\n",
       "[7872 rows x 66 columns]"
      ]
     },
     "execution_count": 47,
     "metadata": {},
     "output_type": "execute_result"
    }
   ],
   "source": [
    "impact_mining_1"
   ]
  },
  {
   "cell_type": "code",
   "execution_count": 85,
   "id": "26ed09f9",
   "metadata": {},
   "outputs": [],
   "source": [
    "i='AU'\n",
    "\n",
    "impact_mining_region=exio3318.emissions.S*exio3318.L.loc[:,(i,mining)]\n",
    "impact_mining_region=impact_mining_region.iloc[0,:]\n",
    "impact_mining_boats=impact_mining_region.xs(\"Sea and coastal water transportation services\", level=\"sector\", axis=0).sum()/impact_mining_region.sum()\n",
    "impact_mining_trucks=impact_mining_region.xs(\"Other land transportation services\", level=\"sector\", axis=0).sum()/impact_mining_region.sum()"
   ]
  },
  {
   "cell_type": "code",
   "execution_count": 96,
   "id": "2099777d",
   "metadata": {},
   "outputs": [
    {
     "data": {
      "text/html": [
       "<div>\n",
       "<style scoped>\n",
       "    .dataframe tbody tr th:only-of-type {\n",
       "        vertical-align: middle;\n",
       "    }\n",
       "\n",
       "    .dataframe tbody tr th {\n",
       "        vertical-align: top;\n",
       "    }\n",
       "\n",
       "    .dataframe thead tr th {\n",
       "        text-align: left;\n",
       "    }\n",
       "\n",
       "    .dataframe thead tr:last-of-type th {\n",
       "        text-align: right;\n",
       "    }\n",
       "</style>\n",
       "<table border=\"1\" class=\"dataframe\">\n",
       "  <thead>\n",
       "    <tr>\n",
       "      <th></th>\n",
       "      <th></th>\n",
       "      <th>Carbon dioxide, fossil</th>\n",
       "      <th>N2O</th>\n",
       "      <th>CH4</th>\n",
       "      <th>HFCs</th>\n",
       "      <th>PFCs</th>\n",
       "      <th>SF6</th>\n",
       "      <th>NOX</th>\n",
       "      <th>SOx</th>\n",
       "      <th>NH3</th>\n",
       "      <th>NMVOC</th>\n",
       "      <th>...</th>\n",
       "      <th>Cu</th>\n",
       "      <th>Zn</th>\n",
       "      <th>Pb</th>\n",
       "      <th>Hg</th>\n",
       "      <th>Cr</th>\n",
       "      <th>Ni</th>\n",
       "      <th>C</th>\n",
       "      <th>other emissions</th>\n",
       "      <th>Carbon dioxide, biogenic</th>\n",
       "      <th>Other emissions nec</th>\n",
       "    </tr>\n",
       "    <tr>\n",
       "      <th></th>\n",
       "      <th></th>\n",
       "      <th>tonnes</th>\n",
       "      <th>tonnes</th>\n",
       "      <th>tonnes</th>\n",
       "      <th>tonnes</th>\n",
       "      <th>tonnes</th>\n",
       "      <th>tonnes</th>\n",
       "      <th>tonnes</th>\n",
       "      <th>tonnes</th>\n",
       "      <th>tonnes</th>\n",
       "      <th>tonnes</th>\n",
       "      <th>...</th>\n",
       "      <th>tonnes</th>\n",
       "      <th>tonnes</th>\n",
       "      <th>tonnes</th>\n",
       "      <th>tonnes</th>\n",
       "      <th>tonnes</th>\n",
       "      <th>tonnes</th>\n",
       "      <th>tonnes</th>\n",
       "      <th>tonnes</th>\n",
       "      <th>tonnes</th>\n",
       "      <th>tonnes</th>\n",
       "    </tr>\n",
       "    <tr>\n",
       "      <th></th>\n",
       "      <th></th>\n",
       "      <th>air</th>\n",
       "      <th>air</th>\n",
       "      <th>air</th>\n",
       "      <th>air</th>\n",
       "      <th>air</th>\n",
       "      <th>air</th>\n",
       "      <th>air</th>\n",
       "      <th>air</th>\n",
       "      <th>air</th>\n",
       "      <th>air</th>\n",
       "      <th>...</th>\n",
       "      <th>soil</th>\n",
       "      <th>soil</th>\n",
       "      <th>soil</th>\n",
       "      <th>soil</th>\n",
       "      <th>soil</th>\n",
       "      <th>soil</th>\n",
       "      <th>air</th>\n",
       "      <th>undef</th>\n",
       "      <th>air</th>\n",
       "      <th>air</th>\n",
       "    </tr>\n",
       "    <tr>\n",
       "      <th>region</th>\n",
       "      <th>sector</th>\n",
       "      <th></th>\n",
       "      <th></th>\n",
       "      <th></th>\n",
       "      <th></th>\n",
       "      <th></th>\n",
       "      <th></th>\n",
       "      <th></th>\n",
       "      <th></th>\n",
       "      <th></th>\n",
       "      <th></th>\n",
       "      <th></th>\n",
       "      <th></th>\n",
       "      <th></th>\n",
       "      <th></th>\n",
       "      <th></th>\n",
       "      <th></th>\n",
       "      <th></th>\n",
       "      <th></th>\n",
       "      <th></th>\n",
       "      <th></th>\n",
       "      <th></th>\n",
       "    </tr>\n",
       "  </thead>\n",
       "  <tbody>\n",
       "    <tr>\n",
       "      <th rowspan=\"5\" valign=\"top\">AU</th>\n",
       "      <th>Paddy rice</th>\n",
       "      <td>0.0</td>\n",
       "      <td>0.0</td>\n",
       "      <td>0.0</td>\n",
       "      <td>0.0</td>\n",
       "      <td>0.0</td>\n",
       "      <td>0.0</td>\n",
       "      <td>0.0</td>\n",
       "      <td>0.0</td>\n",
       "      <td>0.0</td>\n",
       "      <td>0.0</td>\n",
       "      <td>...</td>\n",
       "      <td>0.0</td>\n",
       "      <td>0.0</td>\n",
       "      <td>0.0</td>\n",
       "      <td>0.0</td>\n",
       "      <td>0.0</td>\n",
       "      <td>0.0</td>\n",
       "      <td>0.0</td>\n",
       "      <td>0.0</td>\n",
       "      <td>0.0</td>\n",
       "      <td>0.0</td>\n",
       "    </tr>\n",
       "    <tr>\n",
       "      <th>Wheat</th>\n",
       "      <td>0.0</td>\n",
       "      <td>0.0</td>\n",
       "      <td>0.0</td>\n",
       "      <td>0.0</td>\n",
       "      <td>0.0</td>\n",
       "      <td>0.0</td>\n",
       "      <td>0.0</td>\n",
       "      <td>0.0</td>\n",
       "      <td>0.0</td>\n",
       "      <td>0.0</td>\n",
       "      <td>...</td>\n",
       "      <td>0.0</td>\n",
       "      <td>0.0</td>\n",
       "      <td>0.0</td>\n",
       "      <td>0.0</td>\n",
       "      <td>0.0</td>\n",
       "      <td>0.0</td>\n",
       "      <td>0.0</td>\n",
       "      <td>0.0</td>\n",
       "      <td>0.0</td>\n",
       "      <td>0.0</td>\n",
       "    </tr>\n",
       "    <tr>\n",
       "      <th>Cereal grains nec</th>\n",
       "      <td>0.0</td>\n",
       "      <td>0.0</td>\n",
       "      <td>0.0</td>\n",
       "      <td>0.0</td>\n",
       "      <td>0.0</td>\n",
       "      <td>0.0</td>\n",
       "      <td>0.0</td>\n",
       "      <td>0.0</td>\n",
       "      <td>0.0</td>\n",
       "      <td>0.0</td>\n",
       "      <td>...</td>\n",
       "      <td>0.0</td>\n",
       "      <td>0.0</td>\n",
       "      <td>0.0</td>\n",
       "      <td>0.0</td>\n",
       "      <td>0.0</td>\n",
       "      <td>0.0</td>\n",
       "      <td>0.0</td>\n",
       "      <td>0.0</td>\n",
       "      <td>0.0</td>\n",
       "      <td>0.0</td>\n",
       "    </tr>\n",
       "    <tr>\n",
       "      <th>Vegetables, fruit, nuts</th>\n",
       "      <td>0.0</td>\n",
       "      <td>0.0</td>\n",
       "      <td>0.0</td>\n",
       "      <td>0.0</td>\n",
       "      <td>0.0</td>\n",
       "      <td>0.0</td>\n",
       "      <td>0.0</td>\n",
       "      <td>0.0</td>\n",
       "      <td>0.0</td>\n",
       "      <td>0.0</td>\n",
       "      <td>...</td>\n",
       "      <td>0.0</td>\n",
       "      <td>0.0</td>\n",
       "      <td>0.0</td>\n",
       "      <td>0.0</td>\n",
       "      <td>0.0</td>\n",
       "      <td>0.0</td>\n",
       "      <td>0.0</td>\n",
       "      <td>0.0</td>\n",
       "      <td>0.0</td>\n",
       "      <td>0.0</td>\n",
       "    </tr>\n",
       "    <tr>\n",
       "      <th>Oil seeds</th>\n",
       "      <td>0.0</td>\n",
       "      <td>0.0</td>\n",
       "      <td>0.0</td>\n",
       "      <td>0.0</td>\n",
       "      <td>0.0</td>\n",
       "      <td>0.0</td>\n",
       "      <td>0.0</td>\n",
       "      <td>0.0</td>\n",
       "      <td>0.0</td>\n",
       "      <td>0.0</td>\n",
       "      <td>...</td>\n",
       "      <td>0.0</td>\n",
       "      <td>0.0</td>\n",
       "      <td>0.0</td>\n",
       "      <td>0.0</td>\n",
       "      <td>0.0</td>\n",
       "      <td>0.0</td>\n",
       "      <td>0.0</td>\n",
       "      <td>0.0</td>\n",
       "      <td>0.0</td>\n",
       "      <td>0.0</td>\n",
       "    </tr>\n",
       "    <tr>\n",
       "      <th>...</th>\n",
       "      <th>...</th>\n",
       "      <td>...</td>\n",
       "      <td>...</td>\n",
       "      <td>...</td>\n",
       "      <td>...</td>\n",
       "      <td>...</td>\n",
       "      <td>...</td>\n",
       "      <td>...</td>\n",
       "      <td>...</td>\n",
       "      <td>...</td>\n",
       "      <td>...</td>\n",
       "      <td>...</td>\n",
       "      <td>...</td>\n",
       "      <td>...</td>\n",
       "      <td>...</td>\n",
       "      <td>...</td>\n",
       "      <td>...</td>\n",
       "      <td>...</td>\n",
       "      <td>...</td>\n",
       "      <td>...</td>\n",
       "      <td>...</td>\n",
       "      <td>...</td>\n",
       "    </tr>\n",
       "    <tr>\n",
       "      <th rowspan=\"5\" valign=\"top\">WM</th>\n",
       "      <th>Membership organisation services n.e.c. (91)</th>\n",
       "      <td>0.0</td>\n",
       "      <td>0.0</td>\n",
       "      <td>0.0</td>\n",
       "      <td>0.0</td>\n",
       "      <td>0.0</td>\n",
       "      <td>0.0</td>\n",
       "      <td>0.0</td>\n",
       "      <td>0.0</td>\n",
       "      <td>0.0</td>\n",
       "      <td>0.0</td>\n",
       "      <td>...</td>\n",
       "      <td>0.0</td>\n",
       "      <td>0.0</td>\n",
       "      <td>0.0</td>\n",
       "      <td>0.0</td>\n",
       "      <td>0.0</td>\n",
       "      <td>0.0</td>\n",
       "      <td>0.0</td>\n",
       "      <td>0.0</td>\n",
       "      <td>0.0</td>\n",
       "      <td>0.0</td>\n",
       "    </tr>\n",
       "    <tr>\n",
       "      <th>Recreational, cultural and sporting services (92)</th>\n",
       "      <td>0.0</td>\n",
       "      <td>0.0</td>\n",
       "      <td>0.0</td>\n",
       "      <td>0.0</td>\n",
       "      <td>0.0</td>\n",
       "      <td>0.0</td>\n",
       "      <td>0.0</td>\n",
       "      <td>0.0</td>\n",
       "      <td>0.0</td>\n",
       "      <td>0.0</td>\n",
       "      <td>...</td>\n",
       "      <td>0.0</td>\n",
       "      <td>0.0</td>\n",
       "      <td>0.0</td>\n",
       "      <td>0.0</td>\n",
       "      <td>0.0</td>\n",
       "      <td>0.0</td>\n",
       "      <td>0.0</td>\n",
       "      <td>0.0</td>\n",
       "      <td>0.0</td>\n",
       "      <td>0.0</td>\n",
       "    </tr>\n",
       "    <tr>\n",
       "      <th>Other services (93)</th>\n",
       "      <td>0.0</td>\n",
       "      <td>0.0</td>\n",
       "      <td>0.0</td>\n",
       "      <td>0.0</td>\n",
       "      <td>0.0</td>\n",
       "      <td>0.0</td>\n",
       "      <td>0.0</td>\n",
       "      <td>0.0</td>\n",
       "      <td>0.0</td>\n",
       "      <td>0.0</td>\n",
       "      <td>...</td>\n",
       "      <td>0.0</td>\n",
       "      <td>0.0</td>\n",
       "      <td>0.0</td>\n",
       "      <td>0.0</td>\n",
       "      <td>0.0</td>\n",
       "      <td>0.0</td>\n",
       "      <td>0.0</td>\n",
       "      <td>0.0</td>\n",
       "      <td>0.0</td>\n",
       "      <td>0.0</td>\n",
       "    </tr>\n",
       "    <tr>\n",
       "      <th>Private households with employed persons (95)</th>\n",
       "      <td>0.0</td>\n",
       "      <td>0.0</td>\n",
       "      <td>0.0</td>\n",
       "      <td>0.0</td>\n",
       "      <td>0.0</td>\n",
       "      <td>0.0</td>\n",
       "      <td>0.0</td>\n",
       "      <td>0.0</td>\n",
       "      <td>0.0</td>\n",
       "      <td>0.0</td>\n",
       "      <td>...</td>\n",
       "      <td>0.0</td>\n",
       "      <td>0.0</td>\n",
       "      <td>0.0</td>\n",
       "      <td>0.0</td>\n",
       "      <td>0.0</td>\n",
       "      <td>0.0</td>\n",
       "      <td>0.0</td>\n",
       "      <td>0.0</td>\n",
       "      <td>0.0</td>\n",
       "      <td>0.0</td>\n",
       "    </tr>\n",
       "    <tr>\n",
       "      <th>Extra-territorial organizations and bodies</th>\n",
       "      <td>0.0</td>\n",
       "      <td>0.0</td>\n",
       "      <td>0.0</td>\n",
       "      <td>0.0</td>\n",
       "      <td>0.0</td>\n",
       "      <td>0.0</td>\n",
       "      <td>0.0</td>\n",
       "      <td>0.0</td>\n",
       "      <td>0.0</td>\n",
       "      <td>0.0</td>\n",
       "      <td>...</td>\n",
       "      <td>0.0</td>\n",
       "      <td>0.0</td>\n",
       "      <td>0.0</td>\n",
       "      <td>0.0</td>\n",
       "      <td>0.0</td>\n",
       "      <td>0.0</td>\n",
       "      <td>0.0</td>\n",
       "      <td>0.0</td>\n",
       "      <td>0.0</td>\n",
       "      <td>0.0</td>\n",
       "    </tr>\n",
       "  </tbody>\n",
       "</table>\n",
       "<p>7872 rows × 66 columns</p>\n",
       "</div>"
      ],
      "text/plain": [
       "                                                         Carbon dioxide, fossil  \\\n",
       "                                                                         tonnes   \n",
       "                                                                            air   \n",
       "region sector                                                                     \n",
       "AU     Paddy rice                                                           0.0   \n",
       "       Wheat                                                                0.0   \n",
       "       Cereal grains nec                                                    0.0   \n",
       "       Vegetables, fruit, nuts                                              0.0   \n",
       "       Oil seeds                                                            0.0   \n",
       "...                                                                         ...   \n",
       "WM     Membership organisation services n.e.c. (91)                         0.0   \n",
       "       Recreational, cultural and sporting services (92)                    0.0   \n",
       "       Other services (93)                                                  0.0   \n",
       "       Private households with employed persons (95)                        0.0   \n",
       "       Extra-territorial organizations and bodies                           0.0   \n",
       "\n",
       "                                                            N2O    CH4   HFCs  \\\n",
       "                                                         tonnes tonnes tonnes   \n",
       "                                                            air    air    air   \n",
       "region sector                                                                   \n",
       "AU     Paddy rice                                           0.0    0.0    0.0   \n",
       "       Wheat                                                0.0    0.0    0.0   \n",
       "       Cereal grains nec                                    0.0    0.0    0.0   \n",
       "       Vegetables, fruit, nuts                              0.0    0.0    0.0   \n",
       "       Oil seeds                                            0.0    0.0    0.0   \n",
       "...                                                         ...    ...    ...   \n",
       "WM     Membership organisation services n.e.c. (91)         0.0    0.0    0.0   \n",
       "       Recreational, cultural and sporting services (92)    0.0    0.0    0.0   \n",
       "       Other services (93)                                  0.0    0.0    0.0   \n",
       "       Private households with employed persons (95)        0.0    0.0    0.0   \n",
       "       Extra-territorial organizations and bodies           0.0    0.0    0.0   \n",
       "\n",
       "                                                           PFCs    SF6   NOX   \\\n",
       "                                                         tonnes tonnes tonnes   \n",
       "                                                            air    air    air   \n",
       "region sector                                                                   \n",
       "AU     Paddy rice                                           0.0    0.0    0.0   \n",
       "       Wheat                                                0.0    0.0    0.0   \n",
       "       Cereal grains nec                                    0.0    0.0    0.0   \n",
       "       Vegetables, fruit, nuts                              0.0    0.0    0.0   \n",
       "       Oil seeds                                            0.0    0.0    0.0   \n",
       "...                                                         ...    ...    ...   \n",
       "WM     Membership organisation services n.e.c. (91)         0.0    0.0    0.0   \n",
       "       Recreational, cultural and sporting services (92)    0.0    0.0    0.0   \n",
       "       Other services (93)                                  0.0    0.0    0.0   \n",
       "       Private households with employed persons (95)        0.0    0.0    0.0   \n",
       "       Extra-territorial organizations and bodies           0.0    0.0    0.0   \n",
       "\n",
       "                                                            SOx    NH3  NMVOC  \\\n",
       "                                                         tonnes tonnes tonnes   \n",
       "                                                            air    air    air   \n",
       "region sector                                                                   \n",
       "AU     Paddy rice                                           0.0    0.0    0.0   \n",
       "       Wheat                                                0.0    0.0    0.0   \n",
       "       Cereal grains nec                                    0.0    0.0    0.0   \n",
       "       Vegetables, fruit, nuts                              0.0    0.0    0.0   \n",
       "       Oil seeds                                            0.0    0.0    0.0   \n",
       "...                                                         ...    ...    ...   \n",
       "WM     Membership organisation services n.e.c. (91)         0.0    0.0    0.0   \n",
       "       Recreational, cultural and sporting services (92)    0.0    0.0    0.0   \n",
       "       Other services (93)                                  0.0    0.0    0.0   \n",
       "       Private households with employed persons (95)        0.0    0.0    0.0   \n",
       "       Extra-territorial organizations and bodies           0.0    0.0    0.0   \n",
       "\n",
       "                                                          ...     Cu     Zn  \\\n",
       "                                                          ... tonnes tonnes   \n",
       "                                                          ...   soil   soil   \n",
       "region sector                                             ...                 \n",
       "AU     Paddy rice                                         ...    0.0    0.0   \n",
       "       Wheat                                              ...    0.0    0.0   \n",
       "       Cereal grains nec                                  ...    0.0    0.0   \n",
       "       Vegetables, fruit, nuts                            ...    0.0    0.0   \n",
       "       Oil seeds                                          ...    0.0    0.0   \n",
       "...                                                       ...    ...    ...   \n",
       "WM     Membership organisation services n.e.c. (91)       ...    0.0    0.0   \n",
       "       Recreational, cultural and sporting services (92)  ...    0.0    0.0   \n",
       "       Other services (93)                                ...    0.0    0.0   \n",
       "       Private households with employed persons (95)      ...    0.0    0.0   \n",
       "       Extra-territorial organizations and bodies         ...    0.0    0.0   \n",
       "\n",
       "                                                             Pb     Hg     Cr  \\\n",
       "                                                         tonnes tonnes tonnes   \n",
       "                                                           soil   soil   soil   \n",
       "region sector                                                                   \n",
       "AU     Paddy rice                                           0.0    0.0    0.0   \n",
       "       Wheat                                                0.0    0.0    0.0   \n",
       "       Cereal grains nec                                    0.0    0.0    0.0   \n",
       "       Vegetables, fruit, nuts                              0.0    0.0    0.0   \n",
       "       Oil seeds                                            0.0    0.0    0.0   \n",
       "...                                                         ...    ...    ...   \n",
       "WM     Membership organisation services n.e.c. (91)         0.0    0.0    0.0   \n",
       "       Recreational, cultural and sporting services (92)    0.0    0.0    0.0   \n",
       "       Other services (93)                                  0.0    0.0    0.0   \n",
       "       Private households with employed persons (95)        0.0    0.0    0.0   \n",
       "       Extra-territorial organizations and bodies           0.0    0.0    0.0   \n",
       "\n",
       "                                                             Ni      C  \\\n",
       "                                                         tonnes tonnes   \n",
       "                                                           soil    air   \n",
       "region sector                                                            \n",
       "AU     Paddy rice                                           0.0    0.0   \n",
       "       Wheat                                                0.0    0.0   \n",
       "       Cereal grains nec                                    0.0    0.0   \n",
       "       Vegetables, fruit, nuts                              0.0    0.0   \n",
       "       Oil seeds                                            0.0    0.0   \n",
       "...                                                         ...    ...   \n",
       "WM     Membership organisation services n.e.c. (91)         0.0    0.0   \n",
       "       Recreational, cultural and sporting services (92)    0.0    0.0   \n",
       "       Other services (93)                                  0.0    0.0   \n",
       "       Private households with employed persons (95)        0.0    0.0   \n",
       "       Extra-territorial organizations and bodies           0.0    0.0   \n",
       "\n",
       "                                                         other emissions  \\\n",
       "                                                                  tonnes   \n",
       "                                                                   undef   \n",
       "region sector                                                              \n",
       "AU     Paddy rice                                                    0.0   \n",
       "       Wheat                                                         0.0   \n",
       "       Cereal grains nec                                             0.0   \n",
       "       Vegetables, fruit, nuts                                       0.0   \n",
       "       Oil seeds                                                     0.0   \n",
       "...                                                                  ...   \n",
       "WM     Membership organisation services n.e.c. (91)                  0.0   \n",
       "       Recreational, cultural and sporting services (92)             0.0   \n",
       "       Other services (93)                                           0.0   \n",
       "       Private households with employed persons (95)                 0.0   \n",
       "       Extra-territorial organizations and bodies                    0.0   \n",
       "\n",
       "                                                         Carbon dioxide, biogenic  \\\n",
       "                                                                           tonnes   \n",
       "                                                                              air   \n",
       "region sector                                                                       \n",
       "AU     Paddy rice                                                             0.0   \n",
       "       Wheat                                                                  0.0   \n",
       "       Cereal grains nec                                                      0.0   \n",
       "       Vegetables, fruit, nuts                                                0.0   \n",
       "       Oil seeds                                                              0.0   \n",
       "...                                                                           ...   \n",
       "WM     Membership organisation services n.e.c. (91)                           0.0   \n",
       "       Recreational, cultural and sporting services (92)                      0.0   \n",
       "       Other services (93)                                                    0.0   \n",
       "       Private households with employed persons (95)                          0.0   \n",
       "       Extra-territorial organizations and bodies                             0.0   \n",
       "\n",
       "                                                         Other emissions nec  \n",
       "                                                                      tonnes  \n",
       "                                                                         air  \n",
       "region sector                                                                 \n",
       "AU     Paddy rice                                                        0.0  \n",
       "       Wheat                                                             0.0  \n",
       "       Cereal grains nec                                                 0.0  \n",
       "       Vegetables, fruit, nuts                                           0.0  \n",
       "       Oil seeds                                                         0.0  \n",
       "...                                                                      ...  \n",
       "WM     Membership organisation services n.e.c. (91)                      0.0  \n",
       "       Recreational, cultural and sporting services (92)                 0.0  \n",
       "       Other services (93)                                               0.0  \n",
       "       Private households with employed persons (95)                     0.0  \n",
       "       Extra-territorial organizations and bodies                        0.0  \n",
       "\n",
       "[7872 rows x 66 columns]"
      ]
     },
     "execution_count": 96,
     "metadata": {},
     "output_type": "execute_result"
    }
   ],
   "source": [
    "impact_mining_trucks=impact_mining_1.copy()\n",
    "impact_mining_trucks.values[:]= 0\n",
    "impact_mining_trucks"
   ]
  },
  {
   "cell_type": "code",
   "execution_count": null,
   "id": "91a0ca55",
   "metadata": {},
   "outputs": [],
   "source": [
    "impact_mining_boats_1=impact_mining_1.copy()\n",
    "impact_mining_boats_1.values[:] = 0\n",
    "impact_mining_trucks_1=impact_mining_1.copy()\n",
    "impact_mining_trucks_1.values[:]= 0\n",
    "for row_i, row in impact_mining_1.iterrows():\n",
    "    i=row_i[0]  # Get the region from the row index\n",
    "    if impact_mining_1.loc[(i,mining),('Carbon dioxide, fossil','tonnes','air')]!=0:\n",
    "        impact_mining_region=exio3318.emissions.S*exio3318.L.loc[:,(i,mining)]\n",
    "        impact_mining_region=impact_mining_region.iloc[0,:]\n",
    "        impact_mining_boats_i=impact_mining_region.xs(\"Sea and coastal water transportation services\", level=\"sector\", axis=0).sum()/impact_mining_region.sum()\n",
    "        impact_mining_trucks_i=impact_mining_region.xs(\"Other land transportation services\", level=\"sector\", axis=0).sum()/impact_mining_region.sum()\n",
    "        impact_mining_boats_1.loc[(i,'Sea and coastal water transportation services'),:]=impact_mining_boats_i*impact_mining_1.loc[(i,mining),:]\n",
    "        impact_mining_trucks_1.loc[(i,'Other land transportation services'),:]=impact_mining_trucks_i*impact_mining_1.loc[(i,mining),:]"
   ]
  },
  {
   "cell_type": "code",
   "execution_count": 27,
   "id": "7fe9e63d",
   "metadata": {},
   "outputs": [],
   "source": [
    "impact_metal_1t.to_csv(f'{country_metal_1}_{metal}.txt', sep='\\t', index=True, header=True)"
   ]
  },
  {
   "cell_type": "markdown",
   "id": "567ffa6f",
   "metadata": {},
   "source": [
    "Chain 2 DE"
   ]
  },
  {
   "cell_type": "code",
   "execution_count": 28,
   "id": "78e72c23",
   "metadata": {},
   "outputs": [],
   "source": [
    "country_metal_2=input('Which country is doing metallurgy?) ISO-2 code')\n",
    "mining='Copper ores and concentrates'\n",
    "metal='Copper products'\n",
    "\n",
    "impact_metal_2t=exio3318.emissions.S*exio3318.L.loc[:,(country_metal_2,metal)]\n",
    "impact_metal_2t=impact_metal_2t.T\n",
    "\n",
    "impact_mining_2=impact_metal_2t.copy()\n",
    "impact_mining_2.loc[impact_mining_2.index.get_level_values(\"sector\") != mining, :] = 0\n",
    "impact_metal_2=impact_metal_2t.copy()\n",
    "impact_metal_2.loc[impact_metal_2.index.get_level_values(\"sector\") == mining, :] = 0\n"
   ]
  },
  {
   "cell_type": "code",
   "execution_count": 100,
   "id": "43590433",
   "metadata": {},
   "outputs": [],
   "source": [
    "impact_mining_boats_2=impact_mining_2.copy()\n",
    "impact_mining_boats_2.values[:] = 0\n",
    "impact_mining_trucks_2=impact_mining_2.copy()\n",
    "impact_mining_trucks_2.values[:]= 0\n",
    "for row_i, row in impact_mining_2.iterrows():\n",
    "    i=row_i[0]  # Get the region from the row index\n",
    "    if impact_mining_2.loc[(i,mining),('Carbon dioxide, fossil','tonnes','air')]!=0:\n",
    "        impact_mining_region=exio3318.emissions.S*exio3318.L.loc[:,(i,mining)]\n",
    "        impact_mining_region=impact_mining_region.iloc[0,:]\n",
    "        impact_mining_boats_i=impact_mining_region.xs(\"Sea and coastal water transportation services\", level=\"sector\", axis=0).sum()/impact_mining_region.sum()\n",
    "        impact_mining_trucks_i=impact_mining_region.xs(\"Other land transportation services\", level=\"sector\", axis=0).sum()/impact_mining_region.sum()\n",
    "        impact_mining_boats_2.loc[(i,'Sea and coastal water transportation services'),:]=impact_mining_boats_i*impact_mining_2.loc[(i,mining),:]\n",
    "        impact_mining_trucks_2.loc[(i,'Other land transportation services'),:]=impact_mining_trucks_i*impact_mining_2.loc[(i,mining),:]"
   ]
  },
  {
   "cell_type": "code",
   "execution_count": 29,
   "id": "7c743653",
   "metadata": {},
   "outputs": [],
   "source": [
    "impact_metal_2t.to_csv(f'{country_metal_2}_{metal}.txt', sep='\\t', index=True, header=True)"
   ]
  },
  {
   "cell_type": "markdown",
   "id": "abba20e8",
   "metadata": {},
   "source": [
    "Chain 3: PL"
   ]
  },
  {
   "cell_type": "code",
   "execution_count": 30,
   "id": "a24dd933",
   "metadata": {},
   "outputs": [],
   "source": [
    "country_metal_3=input('Which country is doing metallurgy?) ISO-2 code')\n",
    "mining='Copper ores and concentrates'\n",
    "metal='Copper products'\n",
    "\n",
    "impact_metal_3t=exio3318.emissions.S*exio3318.L.loc[:,(country_metal_3,metal)]\n",
    "impact_metal_3t=impact_metal_3t.T\n",
    "\n",
    "impact_mining_3=impact_metal_3t.copy()\n",
    "impact_mining_3.loc[impact_mining_3.index.get_level_values(\"sector\") != mining, :] = 0\n",
    "impact_metal_3=impact_metal_3t.copy()\n",
    "impact_metal_3.loc[impact_metal_3.index.get_level_values(\"sector\") == mining, :] = 0"
   ]
  },
  {
   "cell_type": "code",
   "execution_count": 99,
   "id": "2365d49b",
   "metadata": {},
   "outputs": [],
   "source": [
    "impact_mining_boats_3=impact_mining_3.copy()\n",
    "impact_mining_boats_3.values[:] = 0\n",
    "impact_mining_trucks_3=impact_mining_3.copy()\n",
    "impact_mining_trucks_3.values[:]= 0\n",
    "for row_i, row in impact_mining_3.iterrows():\n",
    "    i=row_i[0]  # Get the region from the row index\n",
    "    if impact_mining_3.loc[(i,mining),('Carbon dioxide, fossil','tonnes','air')]!=0:\n",
    "        impact_mining_region=exio3318.emissions.S*exio3318.L.loc[:,(i,mining)]\n",
    "        impact_mining_region=impact_mining_region.iloc[0,:]\n",
    "        impact_mining_boats_i=impact_mining_region.xs(\"Sea and coastal water transportation services\", level=\"sector\", axis=0).sum()/impact_mining_region.sum()\n",
    "        impact_mining_trucks_i=impact_mining_region.xs(\"Other land transportation services\", level=\"sector\", axis=0).sum()/impact_mining_region.sum()\n",
    "        impact_mining_boats_3.loc[(i,'Sea and coastal water transportation services'),:]=impact_mining_boats_i*impact_mining_3.loc[(i,mining),:]\n",
    "        impact_mining_trucks_3.loc[(i,'Other land transportation services'),:]=impact_mining_trucks_i*impact_mining_3.loc[(i,mining),:]"
   ]
  },
  {
   "cell_type": "code",
   "execution_count": 31,
   "id": "1ece4338",
   "metadata": {},
   "outputs": [],
   "source": [
    "impact_metal_3t.to_csv(f'{country_metal_3}_{metal}.txt', sep='\\t', index=True, header=True)"
   ]
  },
  {
   "cell_type": "markdown",
   "id": "b3d4a987",
   "metadata": {},
   "source": [
    "Selecting one chain for trasnport calculation"
   ]
  },
  {
   "cell_type": "code",
   "execution_count": 202,
   "id": "723946a0",
   "metadata": {},
   "outputs": [
    {
     "name": "stdout",
     "output_type": "stream",
     "text": [
      "Chain 3 PL\n"
     ]
    }
   ],
   "source": [
    "chain=input('Which chain do you want to calculate? (WL+CN, PL+PL, etc.). Number of chain: ')\n",
    "if chain == '1':\n",
    "    print('Chain 1 CN')\n",
    "    country_metal=country_metal_1\n",
    "    impact_mining=impact_mining_1\n",
    "    impact_mining_boats=impact_mining_boats_1\n",
    "    impact_mining_trucks=impact_mining_trucks_1\n",
    "    impact_metal=impact_metal_1\n",
    "    impact_metal_t=impact_metal_1t\n",
    "    metal='Copper products'\n",
    "elif chain == '2':\n",
    "    print('Chain 2 DE')\n",
    "    country_metal=country_metal_2\n",
    "    impact_mining=impact_mining_2\n",
    "    impact_mining_boats=impact_mining_boats_2\n",
    "    impact_mining_trucks=impact_mining_trucks_2\n",
    "    impact_metal=impact_metal_2\n",
    "    impact_metal_t=impact_metal_2t\n",
    "    metal='Copper products'\n",
    "elif chain == '3':\n",
    "    print('Chain 3 PL')\n",
    "    country_metal=country_metal_3\n",
    "    impact_mining=impact_mining_3\n",
    "    impact_mining_boats=impact_mining_boats_3\n",
    "    impact_mining_trucks=impact_mining_trucks_3\n",
    "    impact_metal=impact_metal_3\n",
    "    impact_metal_t=impact_metal_3t\n",
    "    metal='Copper products'"
   ]
  },
  {
   "cell_type": "markdown",
   "id": "3037bb5b",
   "metadata": {},
   "source": [
    "# Calculation for BW2.5"
   ]
  },
  {
   "cell_type": "markdown",
   "id": "fc176661",
   "metadata": {},
   "source": [
    "Libraries for brightway2.5"
   ]
  },
  {
   "cell_type": "code",
   "execution_count": 33,
   "id": "84c5d5af",
   "metadata": {},
   "outputs": [
    {
     "name": "stdout",
     "output_type": "stream",
     "text": [
      "bw2data version:  (4, 4, 4)\n",
      "bw2io version:  0.9.9\n",
      "bw2calc version:  2.0.2\n",
      "forwast is already present in the project.\n"
     ]
    }
   ],
   "source": [
    "import bw2data as bd\n",
    "import bw2io as bi\n",
    "import bw2calc as bc\n",
    "\n",
    "print('bw2data version: ',bd.__version__)\n",
    "print('bw2io version: ',bi.__version__)\n",
    "print('bw2calc version: ',bc.__version__)\n",
    "\n",
    "bd.projects\n",
    "bd.projects.set_current('EU_ETS2')\n",
    "\n",
    "if any(\"forwast\" in db for db in bd.databases): #to confirm biosphere is present\n",
    "    print('forwast is already present in the project.')\n",
    "else:\n",
    "    bi.remote.get_projects()\n",
    "    bi.remote.install_project('forwast','EU_ETS2', overwrite_existing=True)"
   ]
  },
  {
   "cell_type": "markdown",
   "id": "bf92026a",
   "metadata": {},
   "source": [
    "To confirm biosphere is well installed"
   ]
  },
  {
   "cell_type": "code",
   "execution_count": 34,
   "id": "8fe71f15",
   "metadata": {},
   "outputs": [
    {
     "name": "stdout",
     "output_type": "stream",
     "text": [
      "762\n"
     ]
    }
   ],
   "source": [
    "print(len(bd.methods)) #This number is not 1, if it is 1; try to run in an other kernel\n",
    "if len(bd.methods)==1:\n",
    "    print('You have a problem in brightway installation, only one mtehod have been added. Open another kernel and start again')"
   ]
  },
  {
   "cell_type": "markdown",
   "id": "a62f2166",
   "metadata": {},
   "source": [
    "This code is based on IPCC"
   ]
  },
  {
   "cell_type": "code",
   "execution_count": 35,
   "id": "3201b1a9",
   "metadata": {},
   "outputs": [
    {
     "name": "stdout",
     "output_type": "stream",
     "text": [
      "('IPCC 2013', 'climate change', 'global warming potential (GWP100)')\n"
     ]
    }
   ],
   "source": [
    "method1='IPCC 2013' #This is the methodology for EU ETS, is 2006\n",
    "method2='climate change'\n",
    "method3='global warming potential (GWP100)' #Change if you want another one\n",
    "method_raw=(method1,method2,method3)\n",
    "method_chosen=tuple(x.strip().replace(\"'\", \"\").replace('\"', '') for x in method_raw) #to put in correct format (it has \"\")\n",
    "print(method_chosen) #to confirm it is correct"
   ]
  },
  {
   "cell_type": "code",
   "execution_count": 36,
   "id": "67519aab",
   "metadata": {},
   "outputs": [
    {
     "name": "stdout",
     "output_type": "stream",
     "text": [
      "Databases dictionary with 4 object(s):\n",
      "\tEmissions\n",
      "\tEmissions_boat3\n",
      "\tecoinvent-3.9.1-biosphere\n",
      "\tforwast\n"
     ]
    }
   ],
   "source": [
    "print(bd.databases)"
   ]
  },
  {
   "cell_type": "markdown",
   "id": "1a9008a0",
   "metadata": {},
   "source": [
    "To calculate equivalent CO2, using brightway"
   ]
  },
  {
   "cell_type": "code",
   "execution_count": 37,
   "id": "3d2dd14c",
   "metadata": {},
   "outputs": [
    {
     "name": "stdout",
     "output_type": "stream",
     "text": [
      "['Carbon dioxide, fossil' (kilogram, None, ('air',))]\n",
      "('ecoinvent-3.9.1-biosphere', '349b29d1-3e58-4c66-98b9-9d1a076efd2e')\n"
     ]
    }
   ],
   "source": [
    "co2_flows = [act for act in bd.Database('ecoinvent-3.9.1-biosphere') if act['name']=='Carbon dioxide, fossil' and act['categories'] == ('air',)] #To select the key for emissions\n",
    "print(co2_flows)\n",
    "co2_key = co2_flows[0].key \n",
    "print(co2_key)\n",
    "n2o_flows = [act for act in bd.Database('ecoinvent-3.9.1-biosphere') if act['name']=='Dinitrogen monoxide' and act['categories'] == ('air',)]\n",
    "n2o_key = n2o_flows[0].key \n",
    "ch4_flows = [act for act in bd.Database('ecoinvent-3.9.1-biosphere') if act['name']=='Methane, fossil' and act['categories'] == ('air',)]\n",
    "ch4_key = ch4_flows[0].key \n"
   ]
  },
  {
   "cell_type": "markdown",
   "id": "f865c72f",
   "metadata": {},
   "source": [
    "Obtain transport emissions"
   ]
  },
  {
   "cell_type": "code",
   "execution_count": 203,
   "id": "324d5cab",
   "metadata": {},
   "outputs": [],
   "source": [
    "impact_boats_c_mining=impact_mining_boats.iloc[:,:3].groupby(level='region').sum().T\n",
    "impact_trucks_c_mining=impact_mining_trucks.iloc[:,:3].groupby(level='region').sum().T\n",
    "\n",
    "climate_change_metal=impact_metal.iloc[:,:3].T\n",
    "impact_boats_c_metal=climate_change_metal.xs(\"Sea and coastal water transportation services\", level=\"sector\", axis=1)\n",
    "impact_trucks_c_metal=climate_change_metal.xs(\"Other land transportation services\", level=\"sector\", axis=1)"
   ]
  },
  {
   "cell_type": "markdown",
   "id": "6d2769d5",
   "metadata": {},
   "source": [
    "## Boat transport"
   ]
  },
  {
   "cell_type": "markdown",
   "id": "d4d681fa",
   "metadata": {},
   "source": [
    "Only CO2"
   ]
  },
  {
   "cell_type": "code",
   "execution_count": 204,
   "id": "193f42d1",
   "metadata": {},
   "outputs": [],
   "source": [
    "M_eq_boats_2_mining=impact_boats_c_mining.iloc[0] \n",
    "M_eq_boats_2_mining.columns=[\"CO2-eq\"]\n",
    "\n",
    "M_eq_boats_2_metal=impact_boats_c_metal.iloc[0] \n",
    "M_eq_boats_2_metal.columns=[\"CO2-eq\"] #To name the columns"
   ]
  },
  {
   "cell_type": "markdown",
   "id": "46f72ad7",
   "metadata": {},
   "source": [
    "CO2, N2O, CH4"
   ]
  },
  {
   "cell_type": "code",
   "execution_count": 205,
   "id": "f29cbcf0",
   "metadata": {},
   "outputs": [
    {
     "name": "stdout",
     "output_type": "stream",
     "text": [
      "AT\n",
      "{'name': 'process_1', 'exchanges': [{'input': ('Emissions_boat3', 'process_1'), 'amount': 1, 'type': 'production'}, {'input': ('ecoinvent-3.9.1-biosphere', '349b29d1-3e58-4c66-98b9-9d1a076efd2e'), 'amount': 0.0, 'type': 'biosphere', 'location': 'AT'}, {'input': ('ecoinvent-3.9.1-biosphere', '20185046-64bb-4c09-a8e7-e8a9e144ca98'), 'amount': 0.0, 'type': 'biosphere', 'location': 'AT'}, {'input': ('ecoinvent-3.9.1-biosphere', '0795345f-c7ae-410c-ad25-1845784c75f5'), 'amount': 0.0, 'type': 'biosphere', 'location': 'AT'}]}\n",
      "13:46:01+0200 [warning  ] Not able to determine geocollections for all datasets. This database is not ready for regionalization.\n"
     ]
    },
    {
     "name": "stderr",
     "output_type": "stream",
     "text": [
      "100%|██████████| 1/1 [00:00<00:00, 224.20it/s]\n"
     ]
    },
    {
     "name": "stdout",
     "output_type": "stream",
     "text": [
      "13:46:01+0200 [info     ] Vacuuming database            \n",
      "AU\n",
      "{'name': 'process_2', 'exchanges': [{'input': ('Emissions_boat3', 'process_2'), 'amount': 1, 'type': 'production'}, {'input': ('ecoinvent-3.9.1-biosphere', '349b29d1-3e58-4c66-98b9-9d1a076efd2e'), 'amount': 2.8448007148772183e-06, 'type': 'biosphere', 'location': 'AU'}, {'input': ('ecoinvent-3.9.1-biosphere', '20185046-64bb-4c09-a8e7-e8a9e144ca98'), 'amount': 5.0519005226390336e-11, 'type': 'biosphere', 'location': 'AU'}, {'input': ('ecoinvent-3.9.1-biosphere', '0795345f-c7ae-410c-ad25-1845784c75f5'), 'amount': 4.770897197030811e-10, 'type': 'biosphere', 'location': 'AU'}]}\n",
      "13:46:02+0200 [warning  ] Not able to determine geocollections for all datasets. This database is not ready for regionalization.\n"
     ]
    },
    {
     "name": "stderr",
     "output_type": "stream",
     "text": [
      "100%|██████████| 1/1 [00:00<?, ?it/s]\n"
     ]
    },
    {
     "name": "stdout",
     "output_type": "stream",
     "text": [
      "13:46:02+0200 [info     ] Vacuuming database            \n",
      "BE\n",
      "{'name': 'process_3', 'exchanges': [{'input': ('Emissions_boat3', 'process_3'), 'amount': 1, 'type': 'production'}, {'input': ('ecoinvent-3.9.1-biosphere', '349b29d1-3e58-4c66-98b9-9d1a076efd2e'), 'amount': 0.0, 'type': 'biosphere', 'location': 'BE'}, {'input': ('ecoinvent-3.9.1-biosphere', '20185046-64bb-4c09-a8e7-e8a9e144ca98'), 'amount': 0.0, 'type': 'biosphere', 'location': 'BE'}, {'input': ('ecoinvent-3.9.1-biosphere', '0795345f-c7ae-410c-ad25-1845784c75f5'), 'amount': 0.0, 'type': 'biosphere', 'location': 'BE'}]}\n",
      "13:46:02+0200 [warning  ] Not able to determine geocollections for all datasets. This database is not ready for regionalization.\n"
     ]
    },
    {
     "name": "stderr",
     "output_type": "stream",
     "text": [
      "100%|██████████| 1/1 [00:00<00:00, 1000.07it/s]\n"
     ]
    },
    {
     "name": "stdout",
     "output_type": "stream",
     "text": [
      "13:46:02+0200 [info     ] Vacuuming database            \n",
      "BG\n",
      "{'name': 'process_4', 'exchanges': [{'input': ('Emissions_boat3', 'process_4'), 'amount': 1, 'type': 'production'}, {'input': ('ecoinvent-3.9.1-biosphere', '349b29d1-3e58-4c66-98b9-9d1a076efd2e'), 'amount': -3.065884514892672e-08, 'type': 'biosphere', 'location': 'BG'}, {'input': ('ecoinvent-3.9.1-biosphere', '20185046-64bb-4c09-a8e7-e8a9e144ca98'), 'amount': -4.160442816668562e-13, 'type': 'biosphere', 'location': 'BG'}, {'input': ('ecoinvent-3.9.1-biosphere', '0795345f-c7ae-410c-ad25-1845784c75f5'), 'amount': -7.005928936303897e-12, 'type': 'biosphere', 'location': 'BG'}]}\n",
      "13:46:03+0200 [warning  ] Not able to determine geocollections for all datasets. This database is not ready for regionalization.\n"
     ]
    },
    {
     "name": "stderr",
     "output_type": "stream",
     "text": [
      "100%|██████████| 1/1 [00:00<?, ?it/s]\n"
     ]
    },
    {
     "name": "stdout",
     "output_type": "stream",
     "text": [
      "13:46:03+0200 [info     ] Vacuuming database            \n",
      "BR\n",
      "{'name': 'process_5', 'exchanges': [{'input': ('Emissions_boat3', 'process_5'), 'amount': 1, 'type': 'production'}, {'input': ('ecoinvent-3.9.1-biosphere', '349b29d1-3e58-4c66-98b9-9d1a076efd2e'), 'amount': -4.0025062326882415e-07, 'type': 'biosphere', 'location': 'BR'}, {'input': ('ecoinvent-3.9.1-biosphere', '20185046-64bb-4c09-a8e7-e8a9e144ca98'), 'amount': -4.420829717831559e-12, 'type': 'biosphere', 'location': 'BR'}, {'input': ('ecoinvent-3.9.1-biosphere', '0795345f-c7ae-410c-ad25-1845784c75f5'), 'amount': -7.56333800914083e-11, 'type': 'biosphere', 'location': 'BR'}]}\n",
      "13:46:03+0200 [warning  ] Not able to determine geocollections for all datasets. This database is not ready for regionalization.\n"
     ]
    },
    {
     "name": "stderr",
     "output_type": "stream",
     "text": [
      "100%|██████████| 1/1 [00:00<?, ?it/s]\n"
     ]
    },
    {
     "name": "stdout",
     "output_type": "stream",
     "text": [
      "13:46:03+0200 [info     ] Vacuuming database            \n",
      "CA\n",
      "{'name': 'process_6', 'exchanges': [{'input': ('Emissions_boat3', 'process_6'), 'amount': 1, 'type': 'production'}, {'input': ('ecoinvent-3.9.1-biosphere', '349b29d1-3e58-4c66-98b9-9d1a076efd2e'), 'amount': 1.0016739888165394e-05, 'type': 'biosphere', 'location': 'CA'}, {'input': ('ecoinvent-3.9.1-biosphere', '20185046-64bb-4c09-a8e7-e8a9e144ca98'), 'amount': 1.7822807687342566e-10, 'type': 'biosphere', 'location': 'CA'}, {'input': ('ecoinvent-3.9.1-biosphere', '0795345f-c7ae-410c-ad25-1845784c75f5'), 'amount': 1.6956751773839624e-09, 'type': 'biosphere', 'location': 'CA'}]}\n",
      "13:46:04+0200 [warning  ] Not able to determine geocollections for all datasets. This database is not ready for regionalization.\n"
     ]
    },
    {
     "name": "stderr",
     "output_type": "stream",
     "text": [
      "100%|██████████| 1/1 [00:00<?, ?it/s]\n"
     ]
    },
    {
     "name": "stdout",
     "output_type": "stream",
     "text": [
      "13:46:04+0200 [info     ] Vacuuming database            \n",
      "CH\n",
      "{'name': 'process_7', 'exchanges': [{'input': ('Emissions_boat3', 'process_7'), 'amount': 1, 'type': 'production'}, {'input': ('ecoinvent-3.9.1-biosphere', '349b29d1-3e58-4c66-98b9-9d1a076efd2e'), 'amount': 0.0, 'type': 'biosphere', 'location': 'CH'}, {'input': ('ecoinvent-3.9.1-biosphere', '20185046-64bb-4c09-a8e7-e8a9e144ca98'), 'amount': 0.0, 'type': 'biosphere', 'location': 'CH'}, {'input': ('ecoinvent-3.9.1-biosphere', '0795345f-c7ae-410c-ad25-1845784c75f5'), 'amount': 0.0, 'type': 'biosphere', 'location': 'CH'}]}\n",
      "13:46:04+0200 [warning  ] Not able to determine geocollections for all datasets. This database is not ready for regionalization.\n"
     ]
    },
    {
     "name": "stderr",
     "output_type": "stream",
     "text": [
      "100%|██████████| 1/1 [00:00<?, ?it/s]\n"
     ]
    },
    {
     "name": "stdout",
     "output_type": "stream",
     "text": [
      "13:46:04+0200 [info     ] Vacuuming database            \n",
      "CN\n",
      "{'name': 'process_8', 'exchanges': [{'input': ('Emissions_boat3', 'process_8'), 'amount': 1, 'type': 'production'}, {'input': ('ecoinvent-3.9.1-biosphere', '349b29d1-3e58-4c66-98b9-9d1a076efd2e'), 'amount': 0.0001328706725768878, 'type': 'biosphere', 'location': 'CN'}, {'input': ('ecoinvent-3.9.1-biosphere', '20185046-64bb-4c09-a8e7-e8a9e144ca98'), 'amount': 1.4660487708660472e-09, 'type': 'biosphere', 'location': 'CN'}, {'input': ('ecoinvent-3.9.1-biosphere', '0795345f-c7ae-410c-ad25-1845784c75f5'), 'amount': 2.5079431647224725e-08, 'type': 'biosphere', 'location': 'CN'}]}\n",
      "13:46:05+0200 [warning  ] Not able to determine geocollections for all datasets. This database is not ready for regionalization.\n"
     ]
    },
    {
     "name": "stderr",
     "output_type": "stream",
     "text": [
      "100%|██████████| 1/1 [00:00<?, ?it/s]\n"
     ]
    },
    {
     "name": "stdout",
     "output_type": "stream",
     "text": [
      "13:46:05+0200 [info     ] Vacuuming database            \n",
      "CY\n",
      "{'name': 'process_9', 'exchanges': [{'input': ('Emissions_boat3', 'process_9'), 'amount': 1, 'type': 'production'}, {'input': ('ecoinvent-3.9.1-biosphere', '349b29d1-3e58-4c66-98b9-9d1a076efd2e'), 'amount': 5.060299332194423e-09, 'type': 'biosphere', 'location': 'CY'}, {'input': ('ecoinvent-3.9.1-biosphere', '20185046-64bb-4c09-a8e7-e8a9e144ca98'), 'amount': 7.345007174327093e-14, 'type': 'biosphere', 'location': 'CY'}, {'input': ('ecoinvent-3.9.1-biosphere', '0795345f-c7ae-410c-ad25-1845784c75f5'), 'amount': 3.986232936814172e-13, 'type': 'biosphere', 'location': 'CY'}]}\n",
      "13:46:05+0200 [warning  ] Not able to determine geocollections for all datasets. This database is not ready for regionalization.\n"
     ]
    },
    {
     "name": "stderr",
     "output_type": "stream",
     "text": [
      "100%|██████████| 1/1 [00:00<?, ?it/s]\n"
     ]
    },
    {
     "name": "stdout",
     "output_type": "stream",
     "text": [
      "13:46:05+0200 [info     ] Vacuuming database            \n",
      "CZ\n",
      "{'name': 'process_10', 'exchanges': [{'input': ('Emissions_boat3', 'process_10'), 'amount': 1, 'type': 'production'}, {'input': ('ecoinvent-3.9.1-biosphere', '349b29d1-3e58-4c66-98b9-9d1a076efd2e'), 'amount': 0.0, 'type': 'biosphere', 'location': 'CZ'}, {'input': ('ecoinvent-3.9.1-biosphere', '20185046-64bb-4c09-a8e7-e8a9e144ca98'), 'amount': 0.0, 'type': 'biosphere', 'location': 'CZ'}, {'input': ('ecoinvent-3.9.1-biosphere', '0795345f-c7ae-410c-ad25-1845784c75f5'), 'amount': 0.0, 'type': 'biosphere', 'location': 'CZ'}]}\n",
      "13:46:06+0200 [warning  ] Not able to determine geocollections for all datasets. This database is not ready for regionalization.\n"
     ]
    },
    {
     "name": "stderr",
     "output_type": "stream",
     "text": [
      "100%|██████████| 1/1 [00:00<00:00, 1000.55it/s]\n"
     ]
    },
    {
     "name": "stdout",
     "output_type": "stream",
     "text": [
      "13:46:06+0200 [info     ] Vacuuming database            \n",
      "DE\n",
      "{'name': 'process_11', 'exchanges': [{'input': ('Emissions_boat3', 'process_11'), 'amount': 1, 'type': 'production'}, {'input': ('ecoinvent-3.9.1-biosphere', '349b29d1-3e58-4c66-98b9-9d1a076efd2e'), 'amount': 0.0, 'type': 'biosphere', 'location': 'DE'}, {'input': ('ecoinvent-3.9.1-biosphere', '20185046-64bb-4c09-a8e7-e8a9e144ca98'), 'amount': 0.0, 'type': 'biosphere', 'location': 'DE'}, {'input': ('ecoinvent-3.9.1-biosphere', '0795345f-c7ae-410c-ad25-1845784c75f5'), 'amount': 0.0, 'type': 'biosphere', 'location': 'DE'}]}\n",
      "13:46:06+0200 [warning  ] Not able to determine geocollections for all datasets. This database is not ready for regionalization.\n"
     ]
    },
    {
     "name": "stderr",
     "output_type": "stream",
     "text": [
      "100%|██████████| 1/1 [00:00<?, ?it/s]\n"
     ]
    },
    {
     "name": "stdout",
     "output_type": "stream",
     "text": [
      "13:46:07+0200 [info     ] Vacuuming database            \n",
      "DK\n",
      "{'name': 'process_12', 'exchanges': [{'input': ('Emissions_boat3', 'process_12'), 'amount': 1, 'type': 'production'}, {'input': ('ecoinvent-3.9.1-biosphere', '349b29d1-3e58-4c66-98b9-9d1a076efd2e'), 'amount': 0.0, 'type': 'biosphere', 'location': 'DK'}, {'input': ('ecoinvent-3.9.1-biosphere', '20185046-64bb-4c09-a8e7-e8a9e144ca98'), 'amount': 0.0, 'type': 'biosphere', 'location': 'DK'}, {'input': ('ecoinvent-3.9.1-biosphere', '0795345f-c7ae-410c-ad25-1845784c75f5'), 'amount': 0.0, 'type': 'biosphere', 'location': 'DK'}]}\n",
      "13:46:07+0200 [warning  ] Not able to determine geocollections for all datasets. This database is not ready for regionalization.\n"
     ]
    },
    {
     "name": "stderr",
     "output_type": "stream",
     "text": [
      "100%|██████████| 1/1 [00:00<?, ?it/s]\n"
     ]
    },
    {
     "name": "stdout",
     "output_type": "stream",
     "text": [
      "13:46:07+0200 [info     ] Vacuuming database            \n",
      "EE\n",
      "{'name': 'process_13', 'exchanges': [{'input': ('Emissions_boat3', 'process_13'), 'amount': 1, 'type': 'production'}, {'input': ('ecoinvent-3.9.1-biosphere', '349b29d1-3e58-4c66-98b9-9d1a076efd2e'), 'amount': 0.0, 'type': 'biosphere', 'location': 'EE'}, {'input': ('ecoinvent-3.9.1-biosphere', '20185046-64bb-4c09-a8e7-e8a9e144ca98'), 'amount': 0.0, 'type': 'biosphere', 'location': 'EE'}, {'input': ('ecoinvent-3.9.1-biosphere', '0795345f-c7ae-410c-ad25-1845784c75f5'), 'amount': 0.0, 'type': 'biosphere', 'location': 'EE'}]}\n",
      "13:46:08+0200 [warning  ] Not able to determine geocollections for all datasets. This database is not ready for regionalization.\n"
     ]
    },
    {
     "name": "stderr",
     "output_type": "stream",
     "text": [
      "100%|██████████| 1/1 [00:00<?, ?it/s]\n"
     ]
    },
    {
     "name": "stdout",
     "output_type": "stream",
     "text": [
      "13:46:08+0200 [info     ] Vacuuming database            \n",
      "ES\n",
      "{'name': 'process_14', 'exchanges': [{'input': ('Emissions_boat3', 'process_14'), 'amount': 1, 'type': 'production'}, {'input': ('ecoinvent-3.9.1-biosphere', '349b29d1-3e58-4c66-98b9-9d1a076efd2e'), 'amount': 2.6657642463846017e-06, 'type': 'biosphere', 'location': 'ES'}, {'input': ('ecoinvent-3.9.1-biosphere', '20185046-64bb-4c09-a8e7-e8a9e144ca98'), 'amount': 7.738500903840893e-11, 'type': 'biosphere', 'location': 'ES'}, {'input': ('ecoinvent-3.9.1-biosphere', '0795345f-c7ae-410c-ad25-1845784c75f5'), 'amount': 7.711236008441663e-10, 'type': 'biosphere', 'location': 'ES'}]}\n",
      "13:46:08+0200 [warning  ] Not able to determine geocollections for all datasets. This database is not ready for regionalization.\n"
     ]
    },
    {
     "name": "stderr",
     "output_type": "stream",
     "text": [
      "100%|██████████| 1/1 [00:00<00:00, 1000.55it/s]\n"
     ]
    },
    {
     "name": "stdout",
     "output_type": "stream",
     "text": [
      "13:46:08+0200 [info     ] Vacuuming database            \n",
      "FI\n",
      "{'name': 'process_15', 'exchanges': [{'input': ('Emissions_boat3', 'process_15'), 'amount': 1, 'type': 'production'}, {'input': ('ecoinvent-3.9.1-biosphere', '349b29d1-3e58-4c66-98b9-9d1a076efd2e'), 'amount': -2.1012101953542403e-09, 'type': 'biosphere', 'location': 'FI'}, {'input': ('ecoinvent-3.9.1-biosphere', '20185046-64bb-4c09-a8e7-e8a9e144ca98'), 'amount': -2.793161962115715e-14, 'type': 'biosphere', 'location': 'FI'}, {'input': ('ecoinvent-3.9.1-biosphere', '0795345f-c7ae-410c-ad25-1845784c75f5'), 'amount': -2.276666009318199e-13, 'type': 'biosphere', 'location': 'FI'}]}\n",
      "13:46:09+0200 [warning  ] Not able to determine geocollections for all datasets. This database is not ready for regionalization.\n"
     ]
    },
    {
     "name": "stderr",
     "output_type": "stream",
     "text": [
      "100%|██████████| 1/1 [00:00<?, ?it/s]\n"
     ]
    },
    {
     "name": "stdout",
     "output_type": "stream",
     "text": [
      "13:46:09+0200 [info     ] Vacuuming database            \n",
      "FR\n",
      "{'name': 'process_16', 'exchanges': [{'input': ('Emissions_boat3', 'process_16'), 'amount': 1, 'type': 'production'}, {'input': ('ecoinvent-3.9.1-biosphere', '349b29d1-3e58-4c66-98b9-9d1a076efd2e'), 'amount': 0.0, 'type': 'biosphere', 'location': 'FR'}, {'input': ('ecoinvent-3.9.1-biosphere', '20185046-64bb-4c09-a8e7-e8a9e144ca98'), 'amount': 0.0, 'type': 'biosphere', 'location': 'FR'}, {'input': ('ecoinvent-3.9.1-biosphere', '0795345f-c7ae-410c-ad25-1845784c75f5'), 'amount': 0.0, 'type': 'biosphere', 'location': 'FR'}]}\n",
      "13:46:09+0200 [warning  ] Not able to determine geocollections for all datasets. This database is not ready for regionalization.\n"
     ]
    },
    {
     "name": "stderr",
     "output_type": "stream",
     "text": [
      "100%|██████████| 1/1 [00:00<?, ?it/s]\n"
     ]
    },
    {
     "name": "stdout",
     "output_type": "stream",
     "text": [
      "13:46:09+0200 [info     ] Vacuuming database            \n",
      "GB\n",
      "{'name': 'process_17', 'exchanges': [{'input': ('Emissions_boat3', 'process_17'), 'amount': 1, 'type': 'production'}, {'input': ('ecoinvent-3.9.1-biosphere', '349b29d1-3e58-4c66-98b9-9d1a076efd2e'), 'amount': 0.0, 'type': 'biosphere', 'location': 'GB'}, {'input': ('ecoinvent-3.9.1-biosphere', '20185046-64bb-4c09-a8e7-e8a9e144ca98'), 'amount': 0.0, 'type': 'biosphere', 'location': 'GB'}, {'input': ('ecoinvent-3.9.1-biosphere', '0795345f-c7ae-410c-ad25-1845784c75f5'), 'amount': 0.0, 'type': 'biosphere', 'location': 'GB'}]}\n",
      "13:46:10+0200 [warning  ] Not able to determine geocollections for all datasets. This database is not ready for regionalization.\n"
     ]
    },
    {
     "name": "stderr",
     "output_type": "stream",
     "text": [
      "100%|██████████| 1/1 [00:00<?, ?it/s]\n"
     ]
    },
    {
     "name": "stdout",
     "output_type": "stream",
     "text": [
      "13:46:10+0200 [info     ] Vacuuming database            \n",
      "GR\n",
      "{'name': 'process_18', 'exchanges': [{'input': ('Emissions_boat3', 'process_18'), 'amount': 1, 'type': 'production'}, {'input': ('ecoinvent-3.9.1-biosphere', '349b29d1-3e58-4c66-98b9-9d1a076efd2e'), 'amount': 0.0, 'type': 'biosphere', 'location': 'GR'}, {'input': ('ecoinvent-3.9.1-biosphere', '20185046-64bb-4c09-a8e7-e8a9e144ca98'), 'amount': 0.0, 'type': 'biosphere', 'location': 'GR'}, {'input': ('ecoinvent-3.9.1-biosphere', '0795345f-c7ae-410c-ad25-1845784c75f5'), 'amount': 0.0, 'type': 'biosphere', 'location': 'GR'}]}\n",
      "13:46:10+0200 [warning  ] Not able to determine geocollections for all datasets. This database is not ready for regionalization.\n"
     ]
    },
    {
     "name": "stderr",
     "output_type": "stream",
     "text": [
      "100%|██████████| 1/1 [00:00<?, ?it/s]\n"
     ]
    },
    {
     "name": "stdout",
     "output_type": "stream",
     "text": [
      "13:46:10+0200 [info     ] Vacuuming database            \n",
      "HR\n",
      "{'name': 'process_19', 'exchanges': [{'input': ('Emissions_boat3', 'process_19'), 'amount': 1, 'type': 'production'}, {'input': ('ecoinvent-3.9.1-biosphere', '349b29d1-3e58-4c66-98b9-9d1a076efd2e'), 'amount': 0.0, 'type': 'biosphere', 'location': 'HR'}, {'input': ('ecoinvent-3.9.1-biosphere', '20185046-64bb-4c09-a8e7-e8a9e144ca98'), 'amount': 0.0, 'type': 'biosphere', 'location': 'HR'}, {'input': ('ecoinvent-3.9.1-biosphere', '0795345f-c7ae-410c-ad25-1845784c75f5'), 'amount': 0.0, 'type': 'biosphere', 'location': 'HR'}]}\n",
      "13:46:11+0200 [warning  ] Not able to determine geocollections for all datasets. This database is not ready for regionalization.\n"
     ]
    },
    {
     "name": "stderr",
     "output_type": "stream",
     "text": [
      "100%|██████████| 1/1 [00:00<00:00, 1001.03it/s]\n"
     ]
    },
    {
     "name": "stdout",
     "output_type": "stream",
     "text": [
      "13:46:11+0200 [info     ] Vacuuming database            \n",
      "HU\n",
      "{'name': 'process_20', 'exchanges': [{'input': ('Emissions_boat3', 'process_20'), 'amount': 1, 'type': 'production'}, {'input': ('ecoinvent-3.9.1-biosphere', '349b29d1-3e58-4c66-98b9-9d1a076efd2e'), 'amount': 0.0, 'type': 'biosphere', 'location': 'HU'}, {'input': ('ecoinvent-3.9.1-biosphere', '20185046-64bb-4c09-a8e7-e8a9e144ca98'), 'amount': 0.0, 'type': 'biosphere', 'location': 'HU'}, {'input': ('ecoinvent-3.9.1-biosphere', '0795345f-c7ae-410c-ad25-1845784c75f5'), 'amount': 0.0, 'type': 'biosphere', 'location': 'HU'}]}\n",
      "13:46:12+0200 [warning  ] Not able to determine geocollections for all datasets. This database is not ready for regionalization.\n"
     ]
    },
    {
     "name": "stderr",
     "output_type": "stream",
     "text": [
      "100%|██████████| 1/1 [00:00<?, ?it/s]\n"
     ]
    },
    {
     "name": "stdout",
     "output_type": "stream",
     "text": [
      "13:46:12+0200 [info     ] Vacuuming database            \n",
      "ID\n",
      "{'name': 'process_21', 'exchanges': [{'input': ('Emissions_boat3', 'process_21'), 'amount': 1, 'type': 'production'}, {'input': ('ecoinvent-3.9.1-biosphere', '349b29d1-3e58-4c66-98b9-9d1a076efd2e'), 'amount': 2.7458044499599696e-07, 'type': 'biosphere', 'location': 'ID'}, {'input': ('ecoinvent-3.9.1-biosphere', '20185046-64bb-4c09-a8e7-e8a9e144ca98'), 'amount': 3.035673300772465e-12, 'type': 'biosphere', 'location': 'ID'}, {'input': ('ecoinvent-3.9.1-biosphere', '0795345f-c7ae-410c-ad25-1845784c75f5'), 'amount': 5.155145351456545e-11, 'type': 'biosphere', 'location': 'ID'}]}\n",
      "13:46:12+0200 [warning  ] Not able to determine geocollections for all datasets. This database is not ready for regionalization.\n"
     ]
    },
    {
     "name": "stderr",
     "output_type": "stream",
     "text": [
      "100%|██████████| 1/1 [00:00<?, ?it/s]\n"
     ]
    },
    {
     "name": "stdout",
     "output_type": "stream",
     "text": [
      "13:46:12+0200 [info     ] Vacuuming database            \n",
      "IE\n",
      "{'name': 'process_22', 'exchanges': [{'input': ('Emissions_boat3', 'process_22'), 'amount': 1, 'type': 'production'}, {'input': ('ecoinvent-3.9.1-biosphere', '349b29d1-3e58-4c66-98b9-9d1a076efd2e'), 'amount': 0.0, 'type': 'biosphere', 'location': 'IE'}, {'input': ('ecoinvent-3.9.1-biosphere', '20185046-64bb-4c09-a8e7-e8a9e144ca98'), 'amount': 0.0, 'type': 'biosphere', 'location': 'IE'}, {'input': ('ecoinvent-3.9.1-biosphere', '0795345f-c7ae-410c-ad25-1845784c75f5'), 'amount': 0.0, 'type': 'biosphere', 'location': 'IE'}]}\n",
      "13:46:13+0200 [warning  ] Not able to determine geocollections for all datasets. This database is not ready for regionalization.\n"
     ]
    },
    {
     "name": "stderr",
     "output_type": "stream",
     "text": [
      "100%|██████████| 1/1 [00:00<?, ?it/s]\n"
     ]
    },
    {
     "name": "stdout",
     "output_type": "stream",
     "text": [
      "13:46:13+0200 [info     ] Vacuuming database            \n",
      "IN\n",
      "{'name': 'process_23', 'exchanges': [{'input': ('Emissions_boat3', 'process_23'), 'amount': 1, 'type': 'production'}, {'input': ('ecoinvent-3.9.1-biosphere', '349b29d1-3e58-4c66-98b9-9d1a076efd2e'), 'amount': -2.7200083260837383e-08, 'type': 'biosphere', 'location': 'IN'}, {'input': ('ecoinvent-3.9.1-biosphere', '20185046-64bb-4c09-a8e7-e8a9e144ca98'), 'amount': -3.0384251235040156e-13, 'type': 'biosphere', 'location': 'IN'}, {'input': ('ecoinvent-3.9.1-biosphere', '0795345f-c7ae-410c-ad25-1845784c75f5'), 'amount': -5.07094054433895e-12, 'type': 'biosphere', 'location': 'IN'}]}\n",
      "13:46:14+0200 [warning  ] Not able to determine geocollections for all datasets. This database is not ready for regionalization.\n"
     ]
    },
    {
     "name": "stderr",
     "output_type": "stream",
     "text": [
      "100%|██████████| 1/1 [00:00<?, ?it/s]\n"
     ]
    },
    {
     "name": "stdout",
     "output_type": "stream",
     "text": [
      "13:46:14+0200 [info     ] Vacuuming database            \n",
      "IT\n",
      "{'name': 'process_24', 'exchanges': [{'input': ('Emissions_boat3', 'process_24'), 'amount': 1, 'type': 'production'}, {'input': ('ecoinvent-3.9.1-biosphere', '349b29d1-3e58-4c66-98b9-9d1a076efd2e'), 'amount': 0.0, 'type': 'biosphere', 'location': 'IT'}, {'input': ('ecoinvent-3.9.1-biosphere', '20185046-64bb-4c09-a8e7-e8a9e144ca98'), 'amount': 0.0, 'type': 'biosphere', 'location': 'IT'}, {'input': ('ecoinvent-3.9.1-biosphere', '0795345f-c7ae-410c-ad25-1845784c75f5'), 'amount': 0.0, 'type': 'biosphere', 'location': 'IT'}]}\n",
      "13:46:15+0200 [warning  ] Not able to determine geocollections for all datasets. This database is not ready for regionalization.\n"
     ]
    },
    {
     "name": "stderr",
     "output_type": "stream",
     "text": [
      "100%|██████████| 1/1 [00:00<00:00, 1003.90it/s]\n"
     ]
    },
    {
     "name": "stdout",
     "output_type": "stream",
     "text": [
      "13:46:15+0200 [info     ] Vacuuming database            \n",
      "JP\n",
      "{'name': 'process_25', 'exchanges': [{'input': ('Emissions_boat3', 'process_25'), 'amount': 1, 'type': 'production'}, {'input': ('ecoinvent-3.9.1-biosphere', '349b29d1-3e58-4c66-98b9-9d1a076efd2e'), 'amount': 0.0, 'type': 'biosphere', 'location': 'JP'}, {'input': ('ecoinvent-3.9.1-biosphere', '20185046-64bb-4c09-a8e7-e8a9e144ca98'), 'amount': 0.0, 'type': 'biosphere', 'location': 'JP'}, {'input': ('ecoinvent-3.9.1-biosphere', '0795345f-c7ae-410c-ad25-1845784c75f5'), 'amount': 0.0, 'type': 'biosphere', 'location': 'JP'}]}\n",
      "13:46:15+0200 [warning  ] Not able to determine geocollections for all datasets. This database is not ready for regionalization.\n"
     ]
    },
    {
     "name": "stderr",
     "output_type": "stream",
     "text": [
      "100%|██████████| 1/1 [00:00<00:00, 998.88it/s]\n"
     ]
    },
    {
     "name": "stdout",
     "output_type": "stream",
     "text": [
      "13:46:15+0200 [info     ] Vacuuming database            \n",
      "KR\n",
      "{'name': 'process_26', 'exchanges': [{'input': ('Emissions_boat3', 'process_26'), 'amount': 1, 'type': 'production'}, {'input': ('ecoinvent-3.9.1-biosphere', '349b29d1-3e58-4c66-98b9-9d1a076efd2e'), 'amount': 0.0, 'type': 'biosphere', 'location': 'KR'}, {'input': ('ecoinvent-3.9.1-biosphere', '20185046-64bb-4c09-a8e7-e8a9e144ca98'), 'amount': 0.0, 'type': 'biosphere', 'location': 'KR'}, {'input': ('ecoinvent-3.9.1-biosphere', '0795345f-c7ae-410c-ad25-1845784c75f5'), 'amount': 0.0, 'type': 'biosphere', 'location': 'KR'}]}\n",
      "13:46:16+0200 [warning  ] Not able to determine geocollections for all datasets. This database is not ready for regionalization.\n"
     ]
    },
    {
     "name": "stderr",
     "output_type": "stream",
     "text": [
      "100%|██████████| 1/1 [00:00<?, ?it/s]\n"
     ]
    },
    {
     "name": "stdout",
     "output_type": "stream",
     "text": [
      "13:46:16+0200 [info     ] Vacuuming database            \n",
      "LT\n",
      "{'name': 'process_27', 'exchanges': [{'input': ('Emissions_boat3', 'process_27'), 'amount': 1, 'type': 'production'}, {'input': ('ecoinvent-3.9.1-biosphere', '349b29d1-3e58-4c66-98b9-9d1a076efd2e'), 'amount': 0.0, 'type': 'biosphere', 'location': 'LT'}, {'input': ('ecoinvent-3.9.1-biosphere', '20185046-64bb-4c09-a8e7-e8a9e144ca98'), 'amount': 0.0, 'type': 'biosphere', 'location': 'LT'}, {'input': ('ecoinvent-3.9.1-biosphere', '0795345f-c7ae-410c-ad25-1845784c75f5'), 'amount': 0.0, 'type': 'biosphere', 'location': 'LT'}]}\n",
      "13:46:17+0200 [warning  ] Not able to determine geocollections for all datasets. This database is not ready for regionalization.\n"
     ]
    },
    {
     "name": "stderr",
     "output_type": "stream",
     "text": [
      "100%|██████████| 1/1 [00:00<?, ?it/s]\n"
     ]
    },
    {
     "name": "stdout",
     "output_type": "stream",
     "text": [
      "13:46:17+0200 [info     ] Vacuuming database            \n",
      "LU\n",
      "{'name': 'process_28', 'exchanges': [{'input': ('Emissions_boat3', 'process_28'), 'amount': 1, 'type': 'production'}, {'input': ('ecoinvent-3.9.1-biosphere', '349b29d1-3e58-4c66-98b9-9d1a076efd2e'), 'amount': 0.0, 'type': 'biosphere', 'location': 'LU'}, {'input': ('ecoinvent-3.9.1-biosphere', '20185046-64bb-4c09-a8e7-e8a9e144ca98'), 'amount': 0.0, 'type': 'biosphere', 'location': 'LU'}, {'input': ('ecoinvent-3.9.1-biosphere', '0795345f-c7ae-410c-ad25-1845784c75f5'), 'amount': 0.0, 'type': 'biosphere', 'location': 'LU'}]}\n",
      "13:46:17+0200 [warning  ] Not able to determine geocollections for all datasets. This database is not ready for regionalization.\n"
     ]
    },
    {
     "name": "stderr",
     "output_type": "stream",
     "text": [
      "100%|██████████| 1/1 [00:00<?, ?it/s]\n"
     ]
    },
    {
     "name": "stdout",
     "output_type": "stream",
     "text": [
      "13:46:17+0200 [info     ] Vacuuming database            \n",
      "LV\n",
      "{'name': 'process_29', 'exchanges': [{'input': ('Emissions_boat3', 'process_29'), 'amount': 1, 'type': 'production'}, {'input': ('ecoinvent-3.9.1-biosphere', '349b29d1-3e58-4c66-98b9-9d1a076efd2e'), 'amount': 0.0, 'type': 'biosphere', 'location': 'LV'}, {'input': ('ecoinvent-3.9.1-biosphere', '20185046-64bb-4c09-a8e7-e8a9e144ca98'), 'amount': 0.0, 'type': 'biosphere', 'location': 'LV'}, {'input': ('ecoinvent-3.9.1-biosphere', '0795345f-c7ae-410c-ad25-1845784c75f5'), 'amount': 0.0, 'type': 'biosphere', 'location': 'LV'}]}\n",
      "13:46:18+0200 [warning  ] Not able to determine geocollections for all datasets. This database is not ready for regionalization.\n"
     ]
    },
    {
     "name": "stderr",
     "output_type": "stream",
     "text": [
      "100%|██████████| 1/1 [00:00<?, ?it/s]\n"
     ]
    },
    {
     "name": "stdout",
     "output_type": "stream",
     "text": [
      "13:46:18+0200 [info     ] Vacuuming database            \n",
      "MT\n",
      "{'name': 'process_30', 'exchanges': [{'input': ('Emissions_boat3', 'process_30'), 'amount': 1, 'type': 'production'}, {'input': ('ecoinvent-3.9.1-biosphere', '349b29d1-3e58-4c66-98b9-9d1a076efd2e'), 'amount': 0.0, 'type': 'biosphere', 'location': 'MT'}, {'input': ('ecoinvent-3.9.1-biosphere', '20185046-64bb-4c09-a8e7-e8a9e144ca98'), 'amount': 0.0, 'type': 'biosphere', 'location': 'MT'}, {'input': ('ecoinvent-3.9.1-biosphere', '0795345f-c7ae-410c-ad25-1845784c75f5'), 'amount': 0.0, 'type': 'biosphere', 'location': 'MT'}]}\n",
      "13:46:19+0200 [warning  ] Not able to determine geocollections for all datasets. This database is not ready for regionalization.\n"
     ]
    },
    {
     "name": "stderr",
     "output_type": "stream",
     "text": [
      "100%|██████████| 1/1 [00:00<00:00, 988.29it/s]\n"
     ]
    },
    {
     "name": "stdout",
     "output_type": "stream",
     "text": [
      "13:46:19+0200 [info     ] Vacuuming database            \n",
      "MX\n",
      "{'name': 'process_31', 'exchanges': [{'input': ('Emissions_boat3', 'process_31'), 'amount': 1, 'type': 'production'}, {'input': ('ecoinvent-3.9.1-biosphere', '349b29d1-3e58-4c66-98b9-9d1a076efd2e'), 'amount': 1.616351092334708e-05, 'type': 'biosphere', 'location': 'MX'}, {'input': ('ecoinvent-3.9.1-biosphere', '20185046-64bb-4c09-a8e7-e8a9e144ca98'), 'amount': 1.7840218133336721e-10, 'type': 'biosphere', 'location': 'MX'}, {'input': ('ecoinvent-3.9.1-biosphere', '0795345f-c7ae-410c-ad25-1845784c75f5'), 'amount': 2.983334160197273e-09, 'type': 'biosphere', 'location': 'MX'}]}\n",
      "13:46:19+0200 [warning  ] Not able to determine geocollections for all datasets. This database is not ready for regionalization.\n"
     ]
    },
    {
     "name": "stderr",
     "output_type": "stream",
     "text": [
      "100%|██████████| 1/1 [00:00<?, ?it/s]\n"
     ]
    },
    {
     "name": "stdout",
     "output_type": "stream",
     "text": [
      "13:46:19+0200 [info     ] Vacuuming database            \n",
      "NL\n",
      "{'name': 'process_32', 'exchanges': [{'input': ('Emissions_boat3', 'process_32'), 'amount': 1, 'type': 'production'}, {'input': ('ecoinvent-3.9.1-biosphere', '349b29d1-3e58-4c66-98b9-9d1a076efd2e'), 'amount': 0.0, 'type': 'biosphere', 'location': 'NL'}, {'input': ('ecoinvent-3.9.1-biosphere', '20185046-64bb-4c09-a8e7-e8a9e144ca98'), 'amount': 0.0, 'type': 'biosphere', 'location': 'NL'}, {'input': ('ecoinvent-3.9.1-biosphere', '0795345f-c7ae-410c-ad25-1845784c75f5'), 'amount': 0.0, 'type': 'biosphere', 'location': 'NL'}]}\n",
      "13:46:20+0200 [warning  ] Not able to determine geocollections for all datasets. This database is not ready for regionalization.\n"
     ]
    },
    {
     "name": "stderr",
     "output_type": "stream",
     "text": [
      "100%|██████████| 1/1 [00:00<?, ?it/s]\n"
     ]
    },
    {
     "name": "stdout",
     "output_type": "stream",
     "text": [
      "13:46:20+0200 [info     ] Vacuuming database            \n",
      "NO\n",
      "{'name': 'process_33', 'exchanges': [{'input': ('Emissions_boat3', 'process_33'), 'amount': 1, 'type': 'production'}, {'input': ('ecoinvent-3.9.1-biosphere', '349b29d1-3e58-4c66-98b9-9d1a076efd2e'), 'amount': 0.0, 'type': 'biosphere', 'location': 'NO'}, {'input': ('ecoinvent-3.9.1-biosphere', '20185046-64bb-4c09-a8e7-e8a9e144ca98'), 'amount': 0.0, 'type': 'biosphere', 'location': 'NO'}, {'input': ('ecoinvent-3.9.1-biosphere', '0795345f-c7ae-410c-ad25-1845784c75f5'), 'amount': 0.0, 'type': 'biosphere', 'location': 'NO'}]}\n",
      "13:46:20+0200 [warning  ] Not able to determine geocollections for all datasets. This database is not ready for regionalization.\n"
     ]
    },
    {
     "name": "stderr",
     "output_type": "stream",
     "text": [
      "100%|██████████| 1/1 [00:00<?, ?it/s]\n"
     ]
    },
    {
     "name": "stdout",
     "output_type": "stream",
     "text": [
      "13:46:20+0200 [info     ] Vacuuming database            \n",
      "PL\n",
      "{'name': 'process_34', 'exchanges': [{'input': ('Emissions_boat3', 'process_34'), 'amount': 1, 'type': 'production'}, {'input': ('ecoinvent-3.9.1-biosphere', '349b29d1-3e58-4c66-98b9-9d1a076efd2e'), 'amount': 0.23062922692911036, 'type': 'biosphere', 'location': 'PL'}, {'input': ('ecoinvent-3.9.1-biosphere', '20185046-64bb-4c09-a8e7-e8a9e144ca98'), 'amount': 2.0293731052661388e-06, 'type': 'biosphere', 'location': 'PL'}, {'input': ('ecoinvent-3.9.1-biosphere', '0795345f-c7ae-410c-ad25-1845784c75f5'), 'amount': 3.8443941945794846e-05, 'type': 'biosphere', 'location': 'PL'}]}\n",
      "13:46:21+0200 [warning  ] Not able to determine geocollections for all datasets. This database is not ready for regionalization.\n"
     ]
    },
    {
     "name": "stderr",
     "output_type": "stream",
     "text": [
      "100%|██████████| 1/1 [00:00<?, ?it/s]\n"
     ]
    },
    {
     "name": "stdout",
     "output_type": "stream",
     "text": [
      "13:46:21+0200 [info     ] Vacuuming database            \n",
      "PT\n",
      "{'name': 'process_35', 'exchanges': [{'input': ('Emissions_boat3', 'process_35'), 'amount': 1, 'type': 'production'}, {'input': ('ecoinvent-3.9.1-biosphere', '349b29d1-3e58-4c66-98b9-9d1a076efd2e'), 'amount': -1.1819544524329937e-08, 'type': 'biosphere', 'location': 'PT'}, {'input': ('ecoinvent-3.9.1-biosphere', '20185046-64bb-4c09-a8e7-e8a9e144ca98'), 'amount': -1.6652306194346025e-13, 'type': 'biosphere', 'location': 'PT'}, {'input': ('ecoinvent-3.9.1-biosphere', '0795345f-c7ae-410c-ad25-1845784c75f5'), 'amount': -8.106089467638533e-13, 'type': 'biosphere', 'location': 'PT'}]}\n",
      "13:46:21+0200 [warning  ] Not able to determine geocollections for all datasets. This database is not ready for regionalization.\n"
     ]
    },
    {
     "name": "stderr",
     "output_type": "stream",
     "text": [
      "100%|██████████| 1/1 [00:00<?, ?it/s]\n"
     ]
    },
    {
     "name": "stdout",
     "output_type": "stream",
     "text": [
      "13:46:21+0200 [info     ] Vacuuming database            \n",
      "RO\n",
      "{'name': 'process_36', 'exchanges': [{'input': ('Emissions_boat3', 'process_36'), 'amount': 1, 'type': 'production'}, {'input': ('ecoinvent-3.9.1-biosphere', '349b29d1-3e58-4c66-98b9-9d1a076efd2e'), 'amount': 1.3549817048106153e-06, 'type': 'biosphere', 'location': 'RO'}, {'input': ('ecoinvent-3.9.1-biosphere', '20185046-64bb-4c09-a8e7-e8a9e144ca98'), 'amount': 1.9101265402624422e-11, 'type': 'biosphere', 'location': 'RO'}, {'input': ('ecoinvent-3.9.1-biosphere', '0795345f-c7ae-410c-ad25-1845784c75f5'), 'amount': 3.3284270242737753e-10, 'type': 'biosphere', 'location': 'RO'}]}\n",
      "13:46:22+0200 [warning  ] Not able to determine geocollections for all datasets. This database is not ready for regionalization.\n"
     ]
    },
    {
     "name": "stderr",
     "output_type": "stream",
     "text": [
      "100%|██████████| 1/1 [00:00<00:00, 835.19it/s]\n"
     ]
    },
    {
     "name": "stdout",
     "output_type": "stream",
     "text": [
      "13:46:22+0200 [info     ] Vacuuming database            \n",
      "RU\n",
      "{'name': 'process_37', 'exchanges': [{'input': ('Emissions_boat3', 'process_37'), 'amount': 1, 'type': 'production'}, {'input': ('ecoinvent-3.9.1-biosphere', '349b29d1-3e58-4c66-98b9-9d1a076efd2e'), 'amount': 1.4852083440620273e-05, 'type': 'biosphere', 'location': 'RU'}, {'input': ('ecoinvent-3.9.1-biosphere', '20185046-64bb-4c09-a8e7-e8a9e144ca98'), 'amount': 1.6318027477389947e-10, 'type': 'biosphere', 'location': 'RU'}, {'input': ('ecoinvent-3.9.1-biosphere', '0795345f-c7ae-410c-ad25-1845784c75f5'), 'amount': 2.7950250040692485e-09, 'type': 'biosphere', 'location': 'RU'}]}\n",
      "13:46:22+0200 [warning  ] Not able to determine geocollections for all datasets. This database is not ready for regionalization.\n"
     ]
    },
    {
     "name": "stderr",
     "output_type": "stream",
     "text": [
      "100%|██████████| 1/1 [00:00<?, ?it/s]\n"
     ]
    },
    {
     "name": "stdout",
     "output_type": "stream",
     "text": [
      "13:46:22+0200 [info     ] Vacuuming database            \n",
      "SE\n",
      "{'name': 'process_38', 'exchanges': [{'input': ('Emissions_boat3', 'process_38'), 'amount': 1, 'type': 'production'}, {'input': ('ecoinvent-3.9.1-biosphere', '349b29d1-3e58-4c66-98b9-9d1a076efd2e'), 'amount': -9.010101817900019e-07, 'type': 'biosphere', 'location': 'SE'}, {'input': ('ecoinvent-3.9.1-biosphere', '20185046-64bb-4c09-a8e7-e8a9e144ca98'), 'amount': -1.1495725792496036e-11, 'type': 'biosphere', 'location': 'SE'}, {'input': ('ecoinvent-3.9.1-biosphere', '0795345f-c7ae-410c-ad25-1845784c75f5'), 'amount': -6.094473118029049e-11, 'type': 'biosphere', 'location': 'SE'}]}\n",
      "13:46:23+0200 [warning  ] Not able to determine geocollections for all datasets. This database is not ready for regionalization.\n"
     ]
    },
    {
     "name": "stderr",
     "output_type": "stream",
     "text": [
      "100%|██████████| 1/1 [00:00<00:00, 998.41it/s]\n"
     ]
    },
    {
     "name": "stdout",
     "output_type": "stream",
     "text": [
      "13:46:23+0200 [info     ] Vacuuming database            \n",
      "SI\n",
      "{'name': 'process_39', 'exchanges': [{'input': ('Emissions_boat3', 'process_39'), 'amount': 1, 'type': 'production'}, {'input': ('ecoinvent-3.9.1-biosphere', '349b29d1-3e58-4c66-98b9-9d1a076efd2e'), 'amount': 0.0, 'type': 'biosphere', 'location': 'SI'}, {'input': ('ecoinvent-3.9.1-biosphere', '20185046-64bb-4c09-a8e7-e8a9e144ca98'), 'amount': 0.0, 'type': 'biosphere', 'location': 'SI'}, {'input': ('ecoinvent-3.9.1-biosphere', '0795345f-c7ae-410c-ad25-1845784c75f5'), 'amount': 0.0, 'type': 'biosphere', 'location': 'SI'}]}\n",
      "13:46:24+0200 [warning  ] Not able to determine geocollections for all datasets. This database is not ready for regionalization.\n"
     ]
    },
    {
     "name": "stderr",
     "output_type": "stream",
     "text": [
      "100%|██████████| 1/1 [00:00<?, ?it/s]\n"
     ]
    },
    {
     "name": "stdout",
     "output_type": "stream",
     "text": [
      "13:46:24+0200 [info     ] Vacuuming database            \n",
      "SK\n",
      "{'name': 'process_40', 'exchanges': [{'input': ('Emissions_boat3', 'process_40'), 'amount': 1, 'type': 'production'}, {'input': ('ecoinvent-3.9.1-biosphere', '349b29d1-3e58-4c66-98b9-9d1a076efd2e'), 'amount': -9.852977022735921e-20, 'type': 'biosphere', 'location': 'SK'}, {'input': ('ecoinvent-3.9.1-biosphere', '20185046-64bb-4c09-a8e7-e8a9e144ca98'), 'amount': -1.038183775556086e-24, 'type': 'biosphere', 'location': 'SK'}, {'input': ('ecoinvent-3.9.1-biosphere', '0795345f-c7ae-410c-ad25-1845784c75f5'), 'amount': -8.390469647449277e-24, 'type': 'biosphere', 'location': 'SK'}]}\n",
      "13:46:24+0200 [warning  ] Not able to determine geocollections for all datasets. This database is not ready for regionalization.\n"
     ]
    },
    {
     "name": "stderr",
     "output_type": "stream",
     "text": [
      "100%|██████████| 1/1 [00:00<?, ?it/s]\n"
     ]
    },
    {
     "name": "stdout",
     "output_type": "stream",
     "text": [
      "13:46:24+0200 [info     ] Vacuuming database            \n",
      "TR\n",
      "{'name': 'process_41', 'exchanges': [{'input': ('Emissions_boat3', 'process_41'), 'amount': 1, 'type': 'production'}, {'input': ('ecoinvent-3.9.1-biosphere', '349b29d1-3e58-4c66-98b9-9d1a076efd2e'), 'amount': 3.659921961291646e-07, 'type': 'biosphere', 'location': 'TR'}, {'input': ('ecoinvent-3.9.1-biosphere', '20185046-64bb-4c09-a8e7-e8a9e144ca98'), 'amount': 4.7780195602724515e-12, 'type': 'biosphere', 'location': 'TR'}, {'input': ('ecoinvent-3.9.1-biosphere', '0795345f-c7ae-410c-ad25-1845784c75f5'), 'amount': 7.095754640560594e-11, 'type': 'biosphere', 'location': 'TR'}]}\n",
      "13:46:25+0200 [warning  ] Not able to determine geocollections for all datasets. This database is not ready for regionalization.\n"
     ]
    },
    {
     "name": "stderr",
     "output_type": "stream",
     "text": [
      "100%|██████████| 1/1 [00:00<?, ?it/s]\n"
     ]
    },
    {
     "name": "stdout",
     "output_type": "stream",
     "text": [
      "13:46:25+0200 [info     ] Vacuuming database            \n",
      "US\n",
      "{'name': 'process_42', 'exchanges': [{'input': ('Emissions_boat3', 'process_42'), 'amount': 1, 'type': 'production'}, {'input': ('ecoinvent-3.9.1-biosphere', '349b29d1-3e58-4c66-98b9-9d1a076efd2e'), 'amount': 9.282869342016254e-05, 'type': 'biosphere', 'location': 'US'}, {'input': ('ecoinvent-3.9.1-biosphere', '20185046-64bb-4c09-a8e7-e8a9e144ca98'), 'amount': 1.6515117771690857e-09, 'type': 'biosphere', 'location': 'US'}, {'input': ('ecoinvent-3.9.1-biosphere', '0795345f-c7ae-410c-ad25-1845784c75f5'), 'amount': 1.5716818574777042e-08, 'type': 'biosphere', 'location': 'US'}]}\n",
      "13:46:25+0200 [warning  ] Not able to determine geocollections for all datasets. This database is not ready for regionalization.\n"
     ]
    },
    {
     "name": "stderr",
     "output_type": "stream",
     "text": [
      "100%|██████████| 1/1 [00:00<?, ?it/s]\n"
     ]
    },
    {
     "name": "stdout",
     "output_type": "stream",
     "text": [
      "13:46:25+0200 [info     ] Vacuuming database            \n",
      "WA\n",
      "{'name': 'process_43', 'exchanges': [{'input': ('Emissions_boat3', 'process_43'), 'amount': 1, 'type': 'production'}, {'input': ('ecoinvent-3.9.1-biosphere', '349b29d1-3e58-4c66-98b9-9d1a076efd2e'), 'amount': 1.0893677191954397e-05, 'type': 'biosphere', 'location': 'WA'}, {'input': ('ecoinvent-3.9.1-biosphere', '20185046-64bb-4c09-a8e7-e8a9e144ca98'), 'amount': 1.237473037117136e-10, 'type': 'biosphere', 'location': 'WA'}, {'input': ('ecoinvent-3.9.1-biosphere', '0795345f-c7ae-410c-ad25-1845784c75f5'), 'amount': 2.032487815822143e-09, 'type': 'biosphere', 'location': 'WA'}]}\n",
      "13:46:26+0200 [warning  ] Not able to determine geocollections for all datasets. This database is not ready for regionalization.\n"
     ]
    },
    {
     "name": "stderr",
     "output_type": "stream",
     "text": [
      "100%|██████████| 1/1 [00:00<00:00, 1000.55it/s]\n"
     ]
    },
    {
     "name": "stdout",
     "output_type": "stream",
     "text": [
      "13:46:26+0200 [info     ] Vacuuming database            \n",
      "WE\n",
      "{'name': 'process_44', 'exchanges': [{'input': ('Emissions_boat3', 'process_44'), 'amount': 1, 'type': 'production'}, {'input': ('ecoinvent-3.9.1-biosphere', '349b29d1-3e58-4c66-98b9-9d1a076efd2e'), 'amount': -1.569726121911257e-07, 'type': 'biosphere', 'location': 'WE'}, {'input': ('ecoinvent-3.9.1-biosphere', '20185046-64bb-4c09-a8e7-e8a9e144ca98'), 'amount': -1.7066153374330737e-12, 'type': 'biosphere', 'location': 'WE'}, {'input': ('ecoinvent-3.9.1-biosphere', '0795345f-c7ae-410c-ad25-1845784c75f5'), 'amount': -2.949777569577026e-11, 'type': 'biosphere', 'location': 'WE'}]}\n",
      "13:46:26+0200 [warning  ] Not able to determine geocollections for all datasets. This database is not ready for regionalization.\n"
     ]
    },
    {
     "name": "stderr",
     "output_type": "stream",
     "text": [
      "100%|██████████| 1/1 [00:00<00:00, 1006.55it/s]\n"
     ]
    },
    {
     "name": "stdout",
     "output_type": "stream",
     "text": [
      "13:46:27+0200 [info     ] Vacuuming database            \n",
      "WF\n",
      "{'name': 'process_45', 'exchanges': [{'input': ('Emissions_boat3', 'process_45'), 'amount': 1, 'type': 'production'}, {'input': ('ecoinvent-3.9.1-biosphere', '349b29d1-3e58-4c66-98b9-9d1a076efd2e'), 'amount': 0.00824856361028287, 'type': 'biosphere', 'location': 'WF'}, {'input': ('ecoinvent-3.9.1-biosphere', '20185046-64bb-4c09-a8e7-e8a9e144ca98'), 'amount': 9.077348610057254e-08, 'type': 'biosphere', 'location': 'WF'}, {'input': ('ecoinvent-3.9.1-biosphere', '0795345f-c7ae-410c-ad25-1845784c75f5'), 'amount': 1.5620751687456992e-06, 'type': 'biosphere', 'location': 'WF'}]}\n",
      "13:46:27+0200 [warning  ] Not able to determine geocollections for all datasets. This database is not ready for regionalization.\n"
     ]
    },
    {
     "name": "stderr",
     "output_type": "stream",
     "text": [
      "100%|██████████| 1/1 [00:00<?, ?it/s]\n"
     ]
    },
    {
     "name": "stdout",
     "output_type": "stream",
     "text": [
      "13:46:27+0200 [info     ] Vacuuming database            \n",
      "WL\n",
      "{'name': 'process_46', 'exchanges': [{'input': ('Emissions_boat3', 'process_46'), 'amount': 1, 'type': 'production'}, {'input': ('ecoinvent-3.9.1-biosphere', '349b29d1-3e58-4c66-98b9-9d1a076efd2e'), 'amount': 0.0009823333682020818, 'type': 'biosphere', 'location': 'WL'}, {'input': ('ecoinvent-3.9.1-biosphere', '20185046-64bb-4c09-a8e7-e8a9e144ca98'), 'amount': 1.0711310939629617e-08, 'type': 'biosphere', 'location': 'WL'}, {'input': ('ecoinvent-3.9.1-biosphere', '0795345f-c7ae-410c-ad25-1845784c75f5'), 'amount': 1.6861554376697424e-07, 'type': 'biosphere', 'location': 'WL'}]}\n",
      "13:46:28+0200 [warning  ] Not able to determine geocollections for all datasets. This database is not ready for regionalization.\n"
     ]
    },
    {
     "name": "stderr",
     "output_type": "stream",
     "text": [
      "100%|██████████| 1/1 [00:00<?, ?it/s]\n"
     ]
    },
    {
     "name": "stdout",
     "output_type": "stream",
     "text": [
      "13:46:28+0200 [info     ] Vacuuming database            \n",
      "WM\n",
      "{'name': 'process_47', 'exchanges': [{'input': ('Emissions_boat3', 'process_47'), 'amount': 1, 'type': 'production'}, {'input': ('ecoinvent-3.9.1-biosphere', '349b29d1-3e58-4c66-98b9-9d1a076efd2e'), 'amount': 1.7060622198135306e-06, 'type': 'biosphere', 'location': 'WM'}, {'input': ('ecoinvent-3.9.1-biosphere', '20185046-64bb-4c09-a8e7-e8a9e144ca98'), 'amount': 0.0, 'type': 'biosphere', 'location': 'WM'}, {'input': ('ecoinvent-3.9.1-biosphere', '0795345f-c7ae-410c-ad25-1845784c75f5'), 'amount': 1.1366021524925272e-14, 'type': 'biosphere', 'location': 'WM'}]}\n",
      "13:46:28+0200 [warning  ] Not able to determine geocollections for all datasets. This database is not ready for regionalization.\n"
     ]
    },
    {
     "name": "stderr",
     "output_type": "stream",
     "text": [
      "100%|██████████| 1/1 [00:00<?, ?it/s]\n"
     ]
    },
    {
     "name": "stdout",
     "output_type": "stream",
     "text": [
      "13:46:28+0200 [info     ] Vacuuming database            \n",
      "ZA\n",
      "{'name': 'process_48', 'exchanges': [{'input': ('Emissions_boat3', 'process_48'), 'amount': 1, 'type': 'production'}, {'input': ('ecoinvent-3.9.1-biosphere', '349b29d1-3e58-4c66-98b9-9d1a076efd2e'), 'amount': 7.265431100868488e-08, 'type': 'biosphere', 'location': 'ZA'}, {'input': ('ecoinvent-3.9.1-biosphere', '20185046-64bb-4c09-a8e7-e8a9e144ca98'), 'amount': 7.9928379466646e-13, 'type': 'biosphere', 'location': 'ZA'}, {'input': ('ecoinvent-3.9.1-biosphere', '0795345f-c7ae-410c-ad25-1845784c75f5'), 'amount': 1.3737843524891036e-11, 'type': 'biosphere', 'location': 'ZA'}]}\n",
      "13:46:29+0200 [warning  ] Not able to determine geocollections for all datasets. This database is not ready for regionalization.\n"
     ]
    },
    {
     "name": "stderr",
     "output_type": "stream",
     "text": [
      "100%|██████████| 1/1 [00:00<?, ?it/s]\n"
     ]
    },
    {
     "name": "stdout",
     "output_type": "stream",
     "text": [
      "13:46:29+0200 [info     ] Vacuuming database            \n"
     ]
    }
   ],
   "source": [
    "M_eq_boats_3_mining=[]\n",
    "init_db=bd.Database(\"Emissions_boat3\")\n",
    "flag=0\n",
    "for i, region in impact_boats_c_mining.items(): #Creating a proccess with emissions\n",
    "    flag=flag+1\n",
    "    print(i)\n",
    "    process_data={'name':f\"process_{flag}\" ,\n",
    "            'exchanges': [\n",
    "                {'input': (\"Emissions_boat3\", f\"process_{flag}\"), 'amount': 1, 'type': 'production'},\n",
    "                {'input': co2_key, 'amount': impact_boats_c_mining.loc[('Carbon dioxide, fossil','tonnes','air'),i]*1000, 'type': 'biosphere', 'location': i},#to add the emissions of each activity\n",
    "                {'input': n2o_key, 'amount': impact_boats_c_mining.loc[('N2O','tonnes','air'),i]*1000, 'type': 'biosphere', 'location': i},\n",
    "                {'input': ch4_key, 'amount': impact_boats_c_mining.loc[('CH4','tonnes','air'),i]*1000, 'type': 'biosphere', 'location': i}\n",
    "            ]\n",
    "        }\n",
    "    print(process_data)\n",
    "    bd.Database(\"Emissions_boat3\").write({(\"Emissions_boat3\", f\"process_{flag}\"): process_data}) #To add in database\n",
    "    demand_i={(\"Emissions_boat3\", f\"process_{flag}\"):1} #1 as functional unit\n",
    "    value=bc.lca.LCA(demand_i,method_chosen) \n",
    "    value.lci(factorize=True) #with factorization false doesn't work\n",
    "    value.lcia()\n",
    "\n",
    "\n",
    "    M_eq_boats_3_mining.append(value.score/1000) #to store the equivalent emissions in M_eq_val in tonnes\n",
    "\n",
    "M_eq_boats_3_mining=pd.DataFrame(M_eq_boats_3_mining)\n",
    "M_eq_boats_3_mining.index=impact_boats_c_mining.columns\n",
    "M_eq_boats_3_mining.columns=[\"CO2-eq\"] #To name the columns"
   ]
  },
  {
   "cell_type": "code",
   "execution_count": 206,
   "id": "551f3833",
   "metadata": {},
   "outputs": [
    {
     "name": "stdout",
     "output_type": "stream",
     "text": [
      "AU\n",
      "{'name': 'process_1', 'exchanges': [{'input': ('Emissions', 'process_1'), 'amount': 1, 'type': 'production'}, {'input': ('ecoinvent-3.9.1-biosphere', '349b29d1-3e58-4c66-98b9-9d1a076efd2e'), 'amount': 0.012823514728648715, 'type': 'biosphere', 'location': 'AU'}, {'input': ('ecoinvent-3.9.1-biosphere', '20185046-64bb-4c09-a8e7-e8a9e144ca98'), 'amount': 2.2195387480077883e-07, 'type': 'biosphere', 'location': 'AU'}, {'input': ('ecoinvent-3.9.1-biosphere', '0795345f-c7ae-410c-ad25-1845784c75f5'), 'amount': 1.1530517380534824e-06, 'type': 'biosphere', 'location': 'AU'}]}\n",
      "13:46:29+0200 [warning  ] Not able to determine geocollections for all datasets. This database is not ready for regionalization.\n"
     ]
    },
    {
     "name": "stderr",
     "output_type": "stream",
     "text": [
      "100%|██████████| 1/1 [00:00<?, ?it/s]\n"
     ]
    },
    {
     "name": "stdout",
     "output_type": "stream",
     "text": [
      "13:46:29+0200 [info     ] Vacuuming database            \n",
      "AT\n",
      "{'name': 'process_2', 'exchanges': [{'input': ('Emissions', 'process_2'), 'amount': 1, 'type': 'production'}, {'input': ('ecoinvent-3.9.1-biosphere', '349b29d1-3e58-4c66-98b9-9d1a076efd2e'), 'amount': 0.0010995716389914708, 'type': 'biosphere', 'location': 'AT'}, {'input': ('ecoinvent-3.9.1-biosphere', '20185046-64bb-4c09-a8e7-e8a9e144ca98'), 'amount': 1.8929576767872466e-08, 'type': 'biosphere', 'location': 'AT'}, {'input': ('ecoinvent-3.9.1-biosphere', '0795345f-c7ae-410c-ad25-1845784c75f5'), 'amount': 9.995695863036582e-08, 'type': 'biosphere', 'location': 'AT'}]}\n",
      "13:46:30+0200 [warning  ] Not able to determine geocollections for all datasets. This database is not ready for regionalization.\n"
     ]
    },
    {
     "name": "stderr",
     "output_type": "stream",
     "text": [
      "100%|██████████| 1/1 [00:00<00:00, 993.91it/s]\n"
     ]
    },
    {
     "name": "stdout",
     "output_type": "stream",
     "text": [
      "13:46:30+0200 [info     ] Vacuuming database            \n",
      "BE\n",
      "{'name': 'process_3', 'exchanges': [{'input': ('Emissions', 'process_3'), 'amount': 1, 'type': 'production'}, {'input': ('ecoinvent-3.9.1-biosphere', '349b29d1-3e58-4c66-98b9-9d1a076efd2e'), 'amount': 0.09803916146581686, 'type': 'biosphere', 'location': 'BE'}, {'input': ('ecoinvent-3.9.1-biosphere', '20185046-64bb-4c09-a8e7-e8a9e144ca98'), 'amount': 1.643565099949354e-06, 'type': 'biosphere', 'location': 'BE'}, {'input': ('ecoinvent-3.9.1-biosphere', '0795345f-c7ae-410c-ad25-1845784c75f5'), 'amount': 8.883738824209404e-06, 'type': 'biosphere', 'location': 'BE'}]}\n",
      "13:46:30+0200 [warning  ] Not able to determine geocollections for all datasets. This database is not ready for regionalization.\n"
     ]
    },
    {
     "name": "stderr",
     "output_type": "stream",
     "text": [
      "100%|██████████| 1/1 [00:00<?, ?it/s]\n"
     ]
    },
    {
     "name": "stdout",
     "output_type": "stream",
     "text": [
      "13:46:30+0200 [info     ] Vacuuming database            \n",
      "BR\n",
      "{'name': 'process_4', 'exchanges': [{'input': ('Emissions', 'process_4'), 'amount': 1, 'type': 'production'}, {'input': ('ecoinvent-3.9.1-biosphere', '349b29d1-3e58-4c66-98b9-9d1a076efd2e'), 'amount': 0.0261365026056686, 'type': 'biosphere', 'location': 'BR'}, {'input': ('ecoinvent-3.9.1-biosphere', '20185046-64bb-4c09-a8e7-e8a9e144ca98'), 'amount': 4.6042782345390917e-07, 'type': 'biosphere', 'location': 'BR'}, {'input': ('ecoinvent-3.9.1-biosphere', '0795345f-c7ae-410c-ad25-1845784c75f5'), 'amount': 2.321839545866507e-06, 'type': 'biosphere', 'location': 'BR'}]}\n",
      "13:46:31+0200 [warning  ] Not able to determine geocollections for all datasets. This database is not ready for regionalization.\n"
     ]
    },
    {
     "name": "stderr",
     "output_type": "stream",
     "text": [
      "100%|██████████| 1/1 [00:00<?, ?it/s]\n"
     ]
    },
    {
     "name": "stdout",
     "output_type": "stream",
     "text": [
      "13:46:31+0200 [info     ] Vacuuming database            \n",
      "BG\n",
      "{'name': 'process_5', 'exchanges': [{'input': ('Emissions', 'process_5'), 'amount': 1, 'type': 'production'}, {'input': ('ecoinvent-3.9.1-biosphere', '349b29d1-3e58-4c66-98b9-9d1a076efd2e'), 'amount': 0.00681940909323439, 'type': 'biosphere', 'location': 'BG'}, {'input': ('ecoinvent-3.9.1-biosphere', '20185046-64bb-4c09-a8e7-e8a9e144ca98'), 'amount': 1.1775026932289939e-07, 'type': 'biosphere', 'location': 'BG'}, {'input': ('ecoinvent-3.9.1-biosphere', '0795345f-c7ae-410c-ad25-1845784c75f5'), 'amount': 6.165076690464577e-07, 'type': 'biosphere', 'location': 'BG'}]}\n",
      "13:46:31+0200 [warning  ] Not able to determine geocollections for all datasets. This database is not ready for regionalization.\n"
     ]
    },
    {
     "name": "stderr",
     "output_type": "stream",
     "text": [
      "100%|██████████| 1/1 [00:00<?, ?it/s]\n"
     ]
    },
    {
     "name": "stdout",
     "output_type": "stream",
     "text": [
      "13:46:31+0200 [info     ] Vacuuming database            \n",
      "CA\n",
      "{'name': 'process_6', 'exchanges': [{'input': ('Emissions', 'process_6'), 'amount': 1, 'type': 'production'}, {'input': ('ecoinvent-3.9.1-biosphere', '349b29d1-3e58-4c66-98b9-9d1a076efd2e'), 'amount': 0.11013021110700431, 'type': 'biosphere', 'location': 'CA'}, {'input': ('ecoinvent-3.9.1-biosphere', '20185046-64bb-4c09-a8e7-e8a9e144ca98'), 'amount': 1.9119710067284667e-06, 'type': 'biosphere', 'location': 'CA'}, {'input': ('ecoinvent-3.9.1-biosphere', '0795345f-c7ae-410c-ad25-1845784c75f5'), 'amount': 9.964338501157397e-06, 'type': 'biosphere', 'location': 'CA'}]}\n",
      "13:46:34+0200 [warning  ] Not able to determine geocollections for all datasets. This database is not ready for regionalization.\n"
     ]
    },
    {
     "name": "stderr",
     "output_type": "stream",
     "text": [
      "100%|██████████| 1/1 [00:00<?, ?it/s]\n"
     ]
    },
    {
     "name": "stdout",
     "output_type": "stream",
     "text": [
      "13:46:34+0200 [info     ] Vacuuming database            \n",
      "CN\n",
      "{'name': 'process_7', 'exchanges': [{'input': ('Emissions', 'process_7'), 'amount': 1, 'type': 'production'}, {'input': ('ecoinvent-3.9.1-biosphere', '349b29d1-3e58-4c66-98b9-9d1a076efd2e'), 'amount': 0.7887724679715319, 'type': 'biosphere', 'location': 'CN'}, {'input': ('ecoinvent-3.9.1-biosphere', '20185046-64bb-4c09-a8e7-e8a9e144ca98'), 'amount': 1.3596630087786113e-05, 'type': 'biosphere', 'location': 'CN'}, {'input': ('ecoinvent-3.9.1-biosphere', '0795345f-c7ae-410c-ad25-1845784c75f5'), 'amount': 7.170317891988368e-05, 'type': 'biosphere', 'location': 'CN'}]}\n",
      "13:46:35+0200 [warning  ] Not able to determine geocollections for all datasets. This database is not ready for regionalization.\n"
     ]
    },
    {
     "name": "stderr",
     "output_type": "stream",
     "text": [
      "100%|██████████| 1/1 [00:00<?, ?it/s]\n"
     ]
    },
    {
     "name": "stdout",
     "output_type": "stream",
     "text": [
      "13:46:35+0200 [info     ] Vacuuming database            \n",
      "CY\n",
      "{'name': 'process_8', 'exchanges': [{'input': ('Emissions', 'process_8'), 'amount': 1, 'type': 'production'}, {'input': ('ecoinvent-3.9.1-biosphere', '349b29d1-3e58-4c66-98b9-9d1a076efd2e'), 'amount': 0.017258845195883186, 'type': 'biosphere', 'location': 'CY'}, {'input': ('ecoinvent-3.9.1-biosphere', '20185046-64bb-4c09-a8e7-e8a9e144ca98'), 'amount': 2.7635983586012914e-07, 'type': 'biosphere', 'location': 'CY'}, {'input': ('ecoinvent-3.9.1-biosphere', '0795345f-c7ae-410c-ad25-1845784c75f5'), 'amount': 1.5613603854999724e-06, 'type': 'biosphere', 'location': 'CY'}]}\n",
      "13:46:35+0200 [warning  ] Not able to determine geocollections for all datasets. This database is not ready for regionalization.\n"
     ]
    },
    {
     "name": "stderr",
     "output_type": "stream",
     "text": [
      "100%|██████████| 1/1 [00:00<?, ?it/s]\n"
     ]
    },
    {
     "name": "stdout",
     "output_type": "stream",
     "text": [
      "13:46:35+0200 [info     ] Vacuuming database            \n",
      "CZ\n",
      "{'name': 'process_9', 'exchanges': [{'input': ('Emissions', 'process_9'), 'amount': 1, 'type': 'production'}, {'input': ('ecoinvent-3.9.1-biosphere', '349b29d1-3e58-4c66-98b9-9d1a076efd2e'), 'amount': 0.00021897912201213326, 'type': 'biosphere', 'location': 'CZ'}, {'input': ('ecoinvent-3.9.1-biosphere', '20185046-64bb-4c09-a8e7-e8a9e144ca98'), 'amount': 3.850946052554869e-09, 'type': 'biosphere', 'location': 'CZ'}, {'input': ('ecoinvent-3.9.1-biosphere', '0795345f-c7ae-410c-ad25-1845784c75f5'), 'amount': 1.943916655718921e-08, 'type': 'biosphere', 'location': 'CZ'}]}\n",
      "13:46:36+0200 [warning  ] Not able to determine geocollections for all datasets. This database is not ready for regionalization.\n"
     ]
    },
    {
     "name": "stderr",
     "output_type": "stream",
     "text": [
      "100%|██████████| 1/1 [00:00<?, ?it/s]\n"
     ]
    },
    {
     "name": "stdout",
     "output_type": "stream",
     "text": [
      "13:46:36+0200 [info     ] Vacuuming database            \n",
      "DK\n",
      "{'name': 'process_10', 'exchanges': [{'input': ('Emissions', 'process_10'), 'amount': 1, 'type': 'production'}, {'input': ('ecoinvent-3.9.1-biosphere', '349b29d1-3e58-4c66-98b9-9d1a076efd2e'), 'amount': 0.23254064244527542, 'type': 'biosphere', 'location': 'DK'}, {'input': ('ecoinvent-3.9.1-biosphere', '20185046-64bb-4c09-a8e7-e8a9e144ca98'), 'amount': 4.033007362872302e-06, 'type': 'biosphere', 'location': 'DK'}, {'input': ('ecoinvent-3.9.1-biosphere', '0795345f-c7ae-410c-ad25-1845784c75f5'), 'amount': 2.107710293034715e-05, 'type': 'biosphere', 'location': 'DK'}]}\n",
      "13:46:36+0200 [warning  ] Not able to determine geocollections for all datasets. This database is not ready for regionalization.\n"
     ]
    },
    {
     "name": "stderr",
     "output_type": "stream",
     "text": [
      "100%|██████████| 1/1 [00:00<?, ?it/s]\n"
     ]
    },
    {
     "name": "stdout",
     "output_type": "stream",
     "text": [
      "13:46:36+0200 [info     ] Vacuuming database            \n",
      "EE\n",
      "{'name': 'process_11', 'exchanges': [{'input': ('Emissions', 'process_11'), 'amount': 1, 'type': 'production'}, {'input': ('ecoinvent-3.9.1-biosphere', '349b29d1-3e58-4c66-98b9-9d1a076efd2e'), 'amount': 0.01885340593034934, 'type': 'biosphere', 'location': 'EE'}, {'input': ('ecoinvent-3.9.1-biosphere', '20185046-64bb-4c09-a8e7-e8a9e144ca98'), 'amount': 3.2447452883220183e-07, 'type': 'biosphere', 'location': 'EE'}, {'input': ('ecoinvent-3.9.1-biosphere', '0795345f-c7ae-410c-ad25-1845784c75f5'), 'amount': 1.7122991806105529e-06, 'type': 'biosphere', 'location': 'EE'}]}\n",
      "13:46:37+0200 [warning  ] Not able to determine geocollections for all datasets. This database is not ready for regionalization.\n"
     ]
    },
    {
     "name": "stderr",
     "output_type": "stream",
     "text": [
      "100%|██████████| 1/1 [00:00<?, ?it/s]\n"
     ]
    },
    {
     "name": "stdout",
     "output_type": "stream",
     "text": [
      "13:46:37+0200 [info     ] Vacuuming database            \n",
      "FI\n",
      "{'name': 'process_12', 'exchanges': [{'input': ('Emissions', 'process_12'), 'amount': 1, 'type': 'production'}, {'input': ('ecoinvent-3.9.1-biosphere', '349b29d1-3e58-4c66-98b9-9d1a076efd2e'), 'amount': 0.03724842092712467, 'type': 'biosphere', 'location': 'FI'}, {'input': ('ecoinvent-3.9.1-biosphere', '20185046-64bb-4c09-a8e7-e8a9e144ca98'), 'amount': 6.387871072671461e-07, 'type': 'biosphere', 'location': 'FI'}, {'input': ('ecoinvent-3.9.1-biosphere', '0795345f-c7ae-410c-ad25-1845784c75f5'), 'amount': 3.370940771630078e-06, 'type': 'biosphere', 'location': 'FI'}]}\n",
      "13:46:38+0200 [warning  ] Not able to determine geocollections for all datasets. This database is not ready for regionalization.\n"
     ]
    },
    {
     "name": "stderr",
     "output_type": "stream",
     "text": [
      "100%|██████████| 1/1 [00:00<?, ?it/s]\n"
     ]
    },
    {
     "name": "stdout",
     "output_type": "stream",
     "text": [
      "13:46:38+0200 [info     ] Vacuuming database            \n",
      "FR\n",
      "{'name': 'process_13', 'exchanges': [{'input': ('Emissions', 'process_13'), 'amount': 1, 'type': 'production'}, {'input': ('ecoinvent-3.9.1-biosphere', '349b29d1-3e58-4c66-98b9-9d1a076efd2e'), 'amount': 0.05269170713793755, 'type': 'biosphere', 'location': 'FR'}, {'input': ('ecoinvent-3.9.1-biosphere', '20185046-64bb-4c09-a8e7-e8a9e144ca98'), 'amount': 9.520471269841161e-07, 'type': 'biosphere', 'location': 'FR'}, {'input': ('ecoinvent-3.9.1-biosphere', '0795345f-c7ae-410c-ad25-1845784c75f5'), 'amount': 4.776289848560695e-06, 'type': 'biosphere', 'location': 'FR'}]}\n",
      "13:46:38+0200 [warning  ] Not able to determine geocollections for all datasets. This database is not ready for regionalization.\n"
     ]
    },
    {
     "name": "stderr",
     "output_type": "stream",
     "text": [
      "100%|██████████| 1/1 [00:00<?, ?it/s]\n"
     ]
    },
    {
     "name": "stdout",
     "output_type": "stream",
     "text": [
      "13:46:38+0200 [info     ] Vacuuming database            \n",
      "DE\n",
      "{'name': 'process_14', 'exchanges': [{'input': ('Emissions', 'process_14'), 'amount': 1, 'type': 'production'}, {'input': ('ecoinvent-3.9.1-biosphere', '349b29d1-3e58-4c66-98b9-9d1a076efd2e'), 'amount': 2.177759698132705, 'type': 'biosphere', 'location': 'DE'}, {'input': ('ecoinvent-3.9.1-biosphere', '20185046-64bb-4c09-a8e7-e8a9e144ca98'), 'amount': 3.49327558264197e-05, 'type': 'biosphere', 'location': 'DE'}, {'input': ('ecoinvent-3.9.1-biosphere', '0795345f-c7ae-410c-ad25-1845784c75f5'), 'amount': 0.0001970807528047775, 'type': 'biosphere', 'location': 'DE'}]}\n",
      "13:46:39+0200 [warning  ] Not able to determine geocollections for all datasets. This database is not ready for regionalization.\n"
     ]
    },
    {
     "name": "stderr",
     "output_type": "stream",
     "text": [
      "100%|██████████| 1/1 [00:00<?, ?it/s]\n"
     ]
    },
    {
     "name": "stdout",
     "output_type": "stream",
     "text": [
      "13:46:39+0200 [info     ] Vacuuming database            \n",
      "GR\n",
      "{'name': 'process_15', 'exchanges': [{'input': ('Emissions', 'process_15'), 'amount': 1, 'type': 'production'}, {'input': ('ecoinvent-3.9.1-biosphere', '349b29d1-3e58-4c66-98b9-9d1a076efd2e'), 'amount': 1.0244230733840944, 'type': 'biosphere', 'location': 'GR'}, {'input': ('ecoinvent-3.9.1-biosphere', '20185046-64bb-4c09-a8e7-e8a9e144ca98'), 'amount': 1.6434534742711115e-05, 'type': 'biosphere', 'location': 'GR'}, {'input': ('ecoinvent-3.9.1-biosphere', '0795345f-c7ae-410c-ad25-1845784c75f5'), 'amount': 9.269205954239587e-05, 'type': 'biosphere', 'location': 'GR'}]}\n",
      "13:46:40+0200 [warning  ] Not able to determine geocollections for all datasets. This database is not ready for regionalization.\n"
     ]
    },
    {
     "name": "stderr",
     "output_type": "stream",
     "text": [
      "100%|██████████| 1/1 [00:00<?, ?it/s]\n"
     ]
    },
    {
     "name": "stdout",
     "output_type": "stream",
     "text": [
      "13:46:40+0200 [info     ] Vacuuming database            \n",
      "HU\n",
      "{'name': 'process_16', 'exchanges': [{'input': ('Emissions', 'process_16'), 'amount': 1, 'type': 'production'}, {'input': ('ecoinvent-3.9.1-biosphere', '349b29d1-3e58-4c66-98b9-9d1a076efd2e'), 'amount': 4.167140188853743e-06, 'type': 'biosphere', 'location': 'HU'}, {'input': ('ecoinvent-3.9.1-biosphere', '20185046-64bb-4c09-a8e7-e8a9e144ca98'), 'amount': 9.321567304984288e-11, 'type': 'biosphere', 'location': 'HU'}, {'input': ('ecoinvent-3.9.1-biosphere', '0795345f-c7ae-410c-ad25-1845784c75f5'), 'amount': 1.7990881387289057e-10, 'type': 'biosphere', 'location': 'HU'}]}\n",
      "13:46:41+0200 [warning  ] Not able to determine geocollections for all datasets. This database is not ready for regionalization.\n"
     ]
    },
    {
     "name": "stderr",
     "output_type": "stream",
     "text": [
      "100%|██████████| 1/1 [00:00<?, ?it/s]\n"
     ]
    },
    {
     "name": "stdout",
     "output_type": "stream",
     "text": [
      "13:46:41+0200 [info     ] Vacuuming database            \n",
      "HR\n",
      "{'name': 'process_17', 'exchanges': [{'input': ('Emissions', 'process_17'), 'amount': 1, 'type': 'production'}, {'input': ('ecoinvent-3.9.1-biosphere', '349b29d1-3e58-4c66-98b9-9d1a076efd2e'), 'amount': 0.027695932190752563, 'type': 'biosphere', 'location': 'HR'}, {'input': ('ecoinvent-3.9.1-biosphere', '20185046-64bb-4c09-a8e7-e8a9e144ca98'), 'amount': 4.802463388363885e-07, 'type': 'biosphere', 'location': 'HR'}, {'input': ('ecoinvent-3.9.1-biosphere', '0795345f-c7ae-410c-ad25-1845784c75f5'), 'amount': 2.5071320137189913e-06, 'type': 'biosphere', 'location': 'HR'}]}\n",
      "13:46:41+0200 [warning  ] Not able to determine geocollections for all datasets. This database is not ready for regionalization.\n"
     ]
    },
    {
     "name": "stderr",
     "output_type": "stream",
     "text": [
      "100%|██████████| 1/1 [00:00<?, ?it/s]\n"
     ]
    },
    {
     "name": "stdout",
     "output_type": "stream",
     "text": [
      "13:46:41+0200 [info     ] Vacuuming database            \n",
      "IN\n",
      "{'name': 'process_18', 'exchanges': [{'input': ('Emissions', 'process_18'), 'amount': 1, 'type': 'production'}, {'input': ('ecoinvent-3.9.1-biosphere', '349b29d1-3e58-4c66-98b9-9d1a076efd2e'), 'amount': 0.0791298511666971, 'type': 'biosphere', 'location': 'IN'}, {'input': ('ecoinvent-3.9.1-biosphere', '20185046-64bb-4c09-a8e7-e8a9e144ca98'), 'amount': 1.390150390099557e-06, 'type': 'biosphere', 'location': 'IN'}, {'input': ('ecoinvent-3.9.1-biosphere', '0795345f-c7ae-410c-ad25-1845784c75f5'), 'amount': 7.165909489210387e-06, 'type': 'biosphere', 'location': 'IN'}]}\n",
      "13:46:42+0200 [warning  ] Not able to determine geocollections for all datasets. This database is not ready for regionalization.\n"
     ]
    },
    {
     "name": "stderr",
     "output_type": "stream",
     "text": [
      "100%|██████████| 1/1 [00:00<?, ?it/s]\n"
     ]
    },
    {
     "name": "stdout",
     "output_type": "stream",
     "text": [
      "13:46:42+0200 [info     ] Vacuuming database            \n",
      "ID\n",
      "{'name': 'process_19', 'exchanges': [{'input': ('Emissions', 'process_19'), 'amount': 1, 'type': 'production'}, {'input': ('ecoinvent-3.9.1-biosphere', '349b29d1-3e58-4c66-98b9-9d1a076efd2e'), 'amount': 0.021757177202290638, 'type': 'biosphere', 'location': 'ID'}, {'input': ('ecoinvent-3.9.1-biosphere', '20185046-64bb-4c09-a8e7-e8a9e144ca98'), 'amount': 5.170552989301867e-07, 'type': 'biosphere', 'location': 'ID'}, {'input': ('ecoinvent-3.9.1-biosphere', '0795345f-c7ae-410c-ad25-1845784c75f5'), 'amount': 1.973166098833803e-06, 'type': 'biosphere', 'location': 'ID'}]}\n",
      "13:46:42+0200 [warning  ] Not able to determine geocollections for all datasets. This database is not ready for regionalization.\n"
     ]
    },
    {
     "name": "stderr",
     "output_type": "stream",
     "text": [
      "100%|██████████| 1/1 [00:00<?, ?it/s]\n"
     ]
    },
    {
     "name": "stdout",
     "output_type": "stream",
     "text": [
      "13:46:42+0200 [info     ] Vacuuming database            \n",
      "IE\n",
      "{'name': 'process_20', 'exchanges': [{'input': ('Emissions', 'process_20'), 'amount': 1, 'type': 'production'}, {'input': ('ecoinvent-3.9.1-biosphere', '349b29d1-3e58-4c66-98b9-9d1a076efd2e'), 'amount': 0.005710517997209908, 'type': 'biosphere', 'location': 'IE'}, {'input': ('ecoinvent-3.9.1-biosphere', '20185046-64bb-4c09-a8e7-e8a9e144ca98'), 'amount': 9.87920148160722e-08, 'type': 'biosphere', 'location': 'IE'}, {'input': ('ecoinvent-3.9.1-biosphere', '0795345f-c7ae-410c-ad25-1845784c75f5'), 'amount': 5.156755826083075e-07, 'type': 'biosphere', 'location': 'IE'}]}\n",
      "13:46:43+0200 [warning  ] Not able to determine geocollections for all datasets. This database is not ready for regionalization.\n"
     ]
    },
    {
     "name": "stderr",
     "output_type": "stream",
     "text": [
      "100%|██████████| 1/1 [00:00<?, ?it/s]\n"
     ]
    },
    {
     "name": "stdout",
     "output_type": "stream",
     "text": [
      "13:46:43+0200 [info     ] Vacuuming database            \n",
      "IT\n",
      "{'name': 'process_21', 'exchanges': [{'input': ('Emissions', 'process_21'), 'amount': 1, 'type': 'production'}, {'input': ('ecoinvent-3.9.1-biosphere', '349b29d1-3e58-4c66-98b9-9d1a076efd2e'), 'amount': 0.1858486649097448, 'type': 'biosphere', 'location': 'IT'}, {'input': ('ecoinvent-3.9.1-biosphere', '20185046-64bb-4c09-a8e7-e8a9e144ca98'), 'amount': 3.186058269384789e-06, 'type': 'biosphere', 'location': 'IT'}, {'input': ('ecoinvent-3.9.1-biosphere', '0795345f-c7ae-410c-ad25-1845784c75f5'), 'amount': 1.6887611173199214e-05, 'type': 'biosphere', 'location': 'IT'}]}\n",
      "13:46:44+0200 [warning  ] Not able to determine geocollections for all datasets. This database is not ready for regionalization.\n"
     ]
    },
    {
     "name": "stderr",
     "output_type": "stream",
     "text": [
      "100%|██████████| 1/1 [00:00<00:00, 982.96it/s]\n"
     ]
    },
    {
     "name": "stdout",
     "output_type": "stream",
     "text": [
      "13:46:44+0200 [info     ] Vacuuming database            \n",
      "JP\n",
      "{'name': 'process_22', 'exchanges': [{'input': ('Emissions', 'process_22'), 'amount': 1, 'type': 'production'}, {'input': ('ecoinvent-3.9.1-biosphere', '349b29d1-3e58-4c66-98b9-9d1a076efd2e'), 'amount': 0.521596974861532, 'type': 'biosphere', 'location': 'JP'}, {'input': ('ecoinvent-3.9.1-biosphere', '20185046-64bb-4c09-a8e7-e8a9e144ca98'), 'amount': 8.89460155351354e-06, 'type': 'biosphere', 'location': 'JP'}, {'input': ('ecoinvent-3.9.1-biosphere', '0795345f-c7ae-410c-ad25-1845784c75f5'), 'amount': 4.739704801068434e-05, 'type': 'biosphere', 'location': 'JP'}]}\n",
      "13:46:45+0200 [warning  ] Not able to determine geocollections for all datasets. This database is not ready for regionalization.\n"
     ]
    },
    {
     "name": "stderr",
     "output_type": "stream",
     "text": [
      "100%|██████████| 1/1 [00:00<?, ?it/s]\n"
     ]
    },
    {
     "name": "stdout",
     "output_type": "stream",
     "text": [
      "13:46:45+0200 [info     ] Vacuuming database            \n",
      "LV\n",
      "{'name': 'process_23', 'exchanges': [{'input': ('Emissions', 'process_23'), 'amount': 1, 'type': 'production'}, {'input': ('ecoinvent-3.9.1-biosphere', '349b29d1-3e58-4c66-98b9-9d1a076efd2e'), 'amount': 0.0025650158317473064, 'type': 'biosphere', 'location': 'LV'}, {'input': ('ecoinvent-3.9.1-biosphere', '20185046-64bb-4c09-a8e7-e8a9e144ca98'), 'amount': 5.6892161711943215e-08, 'type': 'biosphere', 'location': 'LV'}, {'input': ('ecoinvent-3.9.1-biosphere', '0795345f-c7ae-410c-ad25-1845784c75f5'), 'amount': 2.391371475328969e-07, 'type': 'biosphere', 'location': 'LV'}]}\n",
      "13:46:45+0200 [warning  ] Not able to determine geocollections for all datasets. This database is not ready for regionalization.\n"
     ]
    },
    {
     "name": "stderr",
     "output_type": "stream",
     "text": [
      "100%|██████████| 1/1 [00:00<?, ?it/s]\n"
     ]
    },
    {
     "name": "stdout",
     "output_type": "stream",
     "text": [
      "13:46:45+0200 [info     ] Vacuuming database            \n",
      "LT\n",
      "{'name': 'process_24', 'exchanges': [{'input': ('Emissions', 'process_24'), 'amount': 1, 'type': 'production'}, {'input': ('ecoinvent-3.9.1-biosphere', '349b29d1-3e58-4c66-98b9-9d1a076efd2e'), 'amount': 0.017433633921418834, 'type': 'biosphere', 'location': 'LT'}, {'input': ('ecoinvent-3.9.1-biosphere', '20185046-64bb-4c09-a8e7-e8a9e144ca98'), 'amount': 4.202052960633698e-07, 'type': 'biosphere', 'location': 'LT'}, {'input': ('ecoinvent-3.9.1-biosphere', '0795345f-c7ae-410c-ad25-1845784c75f5'), 'amount': 1.6162276640043767e-06, 'type': 'biosphere', 'location': 'LT'}]}\n",
      "13:46:46+0200 [warning  ] Not able to determine geocollections for all datasets. This database is not ready for regionalization.\n"
     ]
    },
    {
     "name": "stderr",
     "output_type": "stream",
     "text": [
      "100%|██████████| 1/1 [00:00<00:00, 995.80it/s]\n"
     ]
    },
    {
     "name": "stdout",
     "output_type": "stream",
     "text": [
      "13:46:46+0200 [info     ] Vacuuming database            \n",
      "LU\n",
      "{'name': 'process_25', 'exchanges': [{'input': ('Emissions', 'process_25'), 'amount': 1, 'type': 'production'}, {'input': ('ecoinvent-3.9.1-biosphere', '349b29d1-3e58-4c66-98b9-9d1a076efd2e'), 'amount': 0.002383100270034204, 'type': 'biosphere', 'location': 'LU'}, {'input': ('ecoinvent-3.9.1-biosphere', '20185046-64bb-4c09-a8e7-e8a9e144ca98'), 'amount': 3.81627444454075e-08, 'type': 'biosphere', 'location': 'LU'}, {'input': ('ecoinvent-3.9.1-biosphere', '0795345f-c7ae-410c-ad25-1845784c75f5'), 'amount': 2.1557270469728939e-07, 'type': 'biosphere', 'location': 'LU'}]}\n",
      "13:46:47+0200 [warning  ] Not able to determine geocollections for all datasets. This database is not ready for regionalization.\n"
     ]
    },
    {
     "name": "stderr",
     "output_type": "stream",
     "text": [
      "100%|██████████| 1/1 [00:00<00:00, 1002.46it/s]\n"
     ]
    },
    {
     "name": "stdout",
     "output_type": "stream",
     "text": [
      "13:46:47+0200 [info     ] Vacuuming database            \n",
      "MT\n",
      "{'name': 'process_26', 'exchanges': [{'input': ('Emissions', 'process_26'), 'amount': 1, 'type': 'production'}, {'input': ('ecoinvent-3.9.1-biosphere', '349b29d1-3e58-4c66-98b9-9d1a076efd2e'), 'amount': 0.0002032310704013284, 'type': 'biosphere', 'location': 'MT'}, {'input': ('ecoinvent-3.9.1-biosphere', '20185046-64bb-4c09-a8e7-e8a9e144ca98'), 'amount': 4.913109488692557e-09, 'type': 'biosphere', 'location': 'MT'}, {'input': ('ecoinvent-3.9.1-biosphere', '0795345f-c7ae-410c-ad25-1845784c75f5'), 'amount': 1.8929900631761022e-08, 'type': 'biosphere', 'location': 'MT'}]}\n",
      "13:46:48+0200 [warning  ] Not able to determine geocollections for all datasets. This database is not ready for regionalization.\n"
     ]
    },
    {
     "name": "stderr",
     "output_type": "stream",
     "text": [
      "100%|██████████| 1/1 [00:00<00:00, 921.62it/s]\n"
     ]
    },
    {
     "name": "stdout",
     "output_type": "stream",
     "text": [
      "13:46:48+0200 [info     ] Vacuuming database            \n",
      "MX\n",
      "{'name': 'process_27', 'exchanges': [{'input': ('Emissions', 'process_27'), 'amount': 1, 'type': 'production'}, {'input': ('ecoinvent-3.9.1-biosphere', '349b29d1-3e58-4c66-98b9-9d1a076efd2e'), 'amount': 0.010112474692412225, 'type': 'biosphere', 'location': 'MX'}, {'input': ('ecoinvent-3.9.1-biosphere', '20185046-64bb-4c09-a8e7-e8a9e144ca98'), 'amount': 1.7602902836913716e-07, 'type': 'biosphere', 'location': 'MX'}, {'input': ('ecoinvent-3.9.1-biosphere', '0795345f-c7ae-410c-ad25-1845784c75f5'), 'amount': 9.159972708115599e-07, 'type': 'biosphere', 'location': 'MX'}]}\n",
      "13:46:49+0200 [warning  ] Not able to determine geocollections for all datasets. This database is not ready for regionalization.\n"
     ]
    },
    {
     "name": "stderr",
     "output_type": "stream",
     "text": [
      "100%|██████████| 1/1 [00:00<?, ?it/s]\n"
     ]
    },
    {
     "name": "stdout",
     "output_type": "stream",
     "text": [
      "13:46:49+0200 [info     ] Vacuuming database            \n",
      "NL\n",
      "{'name': 'process_28', 'exchanges': [{'input': ('Emissions', 'process_28'), 'amount': 1, 'type': 'production'}, {'input': ('ecoinvent-3.9.1-biosphere', '349b29d1-3e58-4c66-98b9-9d1a076efd2e'), 'amount': 0.12123977765539039, 'type': 'biosphere', 'location': 'NL'}, {'input': ('ecoinvent-3.9.1-biosphere', '20185046-64bb-4c09-a8e7-e8a9e144ca98'), 'amount': 2.106947232563446e-06, 'type': 'biosphere', 'location': 'NL'}, {'input': ('ecoinvent-3.9.1-biosphere', '0795345f-c7ae-410c-ad25-1845784c75f5'), 'amount': 1.1007916781110788e-05, 'type': 'biosphere', 'location': 'NL'}]}\n",
      "13:46:50+0200 [warning  ] Not able to determine geocollections for all datasets. This database is not ready for regionalization.\n"
     ]
    },
    {
     "name": "stderr",
     "output_type": "stream",
     "text": [
      "100%|██████████| 1/1 [00:00<?, ?it/s]\n"
     ]
    },
    {
     "name": "stdout",
     "output_type": "stream",
     "text": [
      "13:46:50+0200 [info     ] Vacuuming database            \n",
      "NO\n",
      "{'name': 'process_29', 'exchanges': [{'input': ('Emissions', 'process_29'), 'amount': 1, 'type': 'production'}, {'input': ('ecoinvent-3.9.1-biosphere', '349b29d1-3e58-4c66-98b9-9d1a076efd2e'), 'amount': 0.5301287098374939, 'type': 'biosphere', 'location': 'NO'}, {'input': ('ecoinvent-3.9.1-biosphere', '20185046-64bb-4c09-a8e7-e8a9e144ca98'), 'amount': 9.201476614763827e-06, 'type': 'biosphere', 'location': 'NO'}, {'input': ('ecoinvent-3.9.1-biosphere', '0795345f-c7ae-410c-ad25-1845784c75f5'), 'amount': 4.821811650788583e-05, 'type': 'biosphere', 'location': 'NO'}]}\n",
      "13:46:50+0200 [warning  ] Not able to determine geocollections for all datasets. This database is not ready for regionalization.\n"
     ]
    },
    {
     "name": "stderr",
     "output_type": "stream",
     "text": [
      "100%|██████████| 1/1 [00:00<?, ?it/s]\n"
     ]
    },
    {
     "name": "stdout",
     "output_type": "stream",
     "text": [
      "13:46:50+0200 [info     ] Vacuuming database            \n",
      "PL\n",
      "{'name': 'process_30', 'exchanges': [{'input': ('Emissions', 'process_30'), 'amount': 1, 'type': 'production'}, {'input': ('ecoinvent-3.9.1-biosphere', '349b29d1-3e58-4c66-98b9-9d1a076efd2e'), 'amount': 0.022058583089330952, 'type': 'biosphere', 'location': 'PL'}, {'input': ('ecoinvent-3.9.1-biosphere', '20185046-64bb-4c09-a8e7-e8a9e144ca98'), 'amount': 5.112994475525492e-07, 'type': 'biosphere', 'location': 'PL'}, {'input': ('ecoinvent-3.9.1-biosphere', '0795345f-c7ae-410c-ad25-1845784c75f5'), 'amount': 2.085692884887906e-06, 'type': 'biosphere', 'location': 'PL'}]}\n",
      "13:46:51+0200 [warning  ] Not able to determine geocollections for all datasets. This database is not ready for regionalization.\n"
     ]
    },
    {
     "name": "stderr",
     "output_type": "stream",
     "text": [
      "100%|██████████| 1/1 [00:00<00:00, 1006.07it/s]\n"
     ]
    },
    {
     "name": "stdout",
     "output_type": "stream",
     "text": [
      "13:46:51+0200 [info     ] Vacuuming database            \n",
      "PT\n",
      "{'name': 'process_31', 'exchanges': [{'input': ('Emissions', 'process_31'), 'amount': 1, 'type': 'production'}, {'input': ('ecoinvent-3.9.1-biosphere', '349b29d1-3e58-4c66-98b9-9d1a076efd2e'), 'amount': 0.014537720082990886, 'type': 'biosphere', 'location': 'PT'}, {'input': ('ecoinvent-3.9.1-biosphere', '20185046-64bb-4c09-a8e7-e8a9e144ca98'), 'amount': 2.459713311489839e-07, 'type': 'biosphere', 'location': 'PT'}, {'input': ('ecoinvent-3.9.1-biosphere', '0795345f-c7ae-410c-ad25-1845784c75f5'), 'amount': 1.3167774197787286e-06, 'type': 'biosphere', 'location': 'PT'}]}\n",
      "13:46:52+0200 [warning  ] Not able to determine geocollections for all datasets. This database is not ready for regionalization.\n"
     ]
    },
    {
     "name": "stderr",
     "output_type": "stream",
     "text": [
      "100%|██████████| 1/1 [00:00<?, ?it/s]\n"
     ]
    },
    {
     "name": "stdout",
     "output_type": "stream",
     "text": [
      "13:46:52+0200 [info     ] Vacuuming database            \n",
      "RO\n",
      "{'name': 'process_32', 'exchanges': [{'input': ('Emissions', 'process_32'), 'amount': 1, 'type': 'production'}, {'input': ('ecoinvent-3.9.1-biosphere', '349b29d1-3e58-4c66-98b9-9d1a076efd2e'), 'amount': 0.0013284158307004812, 'type': 'biosphere', 'location': 'RO'}, {'input': ('ecoinvent-3.9.1-biosphere', '20185046-64bb-4c09-a8e7-e8a9e144ca98'), 'amount': 3.232855526152491e-08, 'type': 'biosphere', 'location': 'RO'}, {'input': ('ecoinvent-3.9.1-biosphere', '0795345f-c7ae-410c-ad25-1845784c75f5'), 'amount': 1.2444565123084793e-07, 'type': 'biosphere', 'location': 'RO'}]}\n",
      "13:46:53+0200 [warning  ] Not able to determine geocollections for all datasets. This database is not ready for regionalization.\n"
     ]
    },
    {
     "name": "stderr",
     "output_type": "stream",
     "text": [
      "100%|██████████| 1/1 [00:00<?, ?it/s]\n"
     ]
    },
    {
     "name": "stdout",
     "output_type": "stream",
     "text": [
      "13:46:53+0200 [info     ] Vacuuming database            \n",
      "RU\n",
      "{'name': 'process_33', 'exchanges': [{'input': ('Emissions', 'process_33'), 'amount': 1, 'type': 'production'}, {'input': ('ecoinvent-3.9.1-biosphere', '349b29d1-3e58-4c66-98b9-9d1a076efd2e'), 'amount': 0.29275424425290686, 'type': 'biosphere', 'location': 'RU'}, {'input': ('ecoinvent-3.9.1-biosphere', '20185046-64bb-4c09-a8e7-e8a9e144ca98'), 'amount': 4.999677501186488e-06, 'type': 'biosphere', 'location': 'RU'}, {'input': ('ecoinvent-3.9.1-biosphere', '0795345f-c7ae-410c-ad25-1845784c75f5'), 'amount': 2.6309010452727895e-05, 'type': 'biosphere', 'location': 'RU'}]}\n",
      "13:46:54+0200 [warning  ] Not able to determine geocollections for all datasets. This database is not ready for regionalization.\n"
     ]
    },
    {
     "name": "stderr",
     "output_type": "stream",
     "text": [
      "100%|██████████| 1/1 [00:00<?, ?it/s]\n"
     ]
    },
    {
     "name": "stdout",
     "output_type": "stream",
     "text": [
      "13:46:54+0200 [info     ] Vacuuming database            \n",
      "SK\n",
      "{'name': 'process_34', 'exchanges': [{'input': ('Emissions', 'process_34'), 'amount': 1, 'type': 'production'}, {'input': ('ecoinvent-3.9.1-biosphere', '349b29d1-3e58-4c66-98b9-9d1a076efd2e'), 'amount': 0.00011498304288179388, 'type': 'biosphere', 'location': 'SK'}, {'input': ('ecoinvent-3.9.1-biosphere', '20185046-64bb-4c09-a8e7-e8a9e144ca98'), 'amount': 2.236892694169996e-09, 'type': 'biosphere', 'location': 'SK'}, {'input': ('ecoinvent-3.9.1-biosphere', '0795345f-c7ae-410c-ad25-1845784c75f5'), 'amount': 1.3172896362028006e-08, 'type': 'biosphere', 'location': 'SK'}]}\n",
      "13:46:55+0200 [warning  ] Not able to determine geocollections for all datasets. This database is not ready for regionalization.\n"
     ]
    },
    {
     "name": "stderr",
     "output_type": "stream",
     "text": [
      "100%|██████████| 1/1 [00:00<00:00, 771.58it/s]\n"
     ]
    },
    {
     "name": "stdout",
     "output_type": "stream",
     "text": [
      "13:46:55+0200 [info     ] Vacuuming database            \n",
      "SI\n",
      "{'name': 'process_35', 'exchanges': [{'input': ('Emissions', 'process_35'), 'amount': 1, 'type': 'production'}, {'input': ('ecoinvent-3.9.1-biosphere', '349b29d1-3e58-4c66-98b9-9d1a076efd2e'), 'amount': 0.007201178543834532, 'type': 'biosphere', 'location': 'SI'}, {'input': ('ecoinvent-3.9.1-biosphere', '20185046-64bb-4c09-a8e7-e8a9e144ca98'), 'amount': 1.2378298838921455e-07, 'type': 'biosphere', 'location': 'SI'}, {'input': ('ecoinvent-3.9.1-biosphere', '0795345f-c7ae-410c-ad25-1845784c75f5'), 'amount': 6.536649004791678e-07, 'type': 'biosphere', 'location': 'SI'}]}\n",
      "13:46:56+0200 [warning  ] Not able to determine geocollections for all datasets. This database is not ready for regionalization.\n"
     ]
    },
    {
     "name": "stderr",
     "output_type": "stream",
     "text": [
      "100%|██████████| 1/1 [00:00<?, ?it/s]\n"
     ]
    },
    {
     "name": "stdout",
     "output_type": "stream",
     "text": [
      "13:46:56+0200 [info     ] Vacuuming database            \n",
      "ZA\n",
      "{'name': 'process_36', 'exchanges': [{'input': ('Emissions', 'process_36'), 'amount': 1, 'type': 'production'}, {'input': ('ecoinvent-3.9.1-biosphere', '349b29d1-3e58-4c66-98b9-9d1a076efd2e'), 'amount': 0.002525609824556817, 'type': 'biosphere', 'location': 'ZA'}, {'input': ('ecoinvent-3.9.1-biosphere', '20185046-64bb-4c09-a8e7-e8a9e144ca98'), 'amount': 4.355758691555332e-08, 'type': 'biosphere', 'location': 'ZA'}, {'input': ('ecoinvent-3.9.1-biosphere', '0795345f-c7ae-410c-ad25-1845784c75f5'), 'amount': 2.2928893388087478e-07, 'type': 'biosphere', 'location': 'ZA'}]}\n",
      "13:46:57+0200 [warning  ] Not able to determine geocollections for all datasets. This database is not ready for regionalization.\n"
     ]
    },
    {
     "name": "stderr",
     "output_type": "stream",
     "text": [
      "100%|██████████| 1/1 [00:00<00:00, 1050.68it/s]\n"
     ]
    },
    {
     "name": "stdout",
     "output_type": "stream",
     "text": [
      "13:46:57+0200 [info     ] Vacuuming database            \n",
      "KR\n",
      "{'name': 'process_37', 'exchanges': [{'input': ('Emissions', 'process_37'), 'amount': 1, 'type': 'production'}, {'input': ('ecoinvent-3.9.1-biosphere', '349b29d1-3e58-4c66-98b9-9d1a076efd2e'), 'amount': 0.17675859533305036, 'type': 'biosphere', 'location': 'KR'}, {'input': ('ecoinvent-3.9.1-biosphere', '20185046-64bb-4c09-a8e7-e8a9e144ca98'), 'amount': 2.8389293976423075e-06, 'type': 'biosphere', 'location': 'KR'}, {'input': ('ecoinvent-3.9.1-biosphere', '0795345f-c7ae-410c-ad25-1845784c75f5'), 'amount': 1.6000641826270553e-05, 'type': 'biosphere', 'location': 'KR'}]}\n",
      "13:46:58+0200 [warning  ] Not able to determine geocollections for all datasets. This database is not ready for regionalization.\n"
     ]
    },
    {
     "name": "stderr",
     "output_type": "stream",
     "text": [
      "100%|██████████| 1/1 [00:00<?, ?it/s]\n"
     ]
    },
    {
     "name": "stdout",
     "output_type": "stream",
     "text": [
      "13:46:58+0200 [info     ] Vacuuming database            \n",
      "ES\n",
      "{'name': 'process_38', 'exchanges': [{'input': ('Emissions', 'process_38'), 'amount': 1, 'type': 'production'}, {'input': ('ecoinvent-3.9.1-biosphere', '349b29d1-3e58-4c66-98b9-9d1a076efd2e'), 'amount': 0.03803332245286761, 'type': 'biosphere', 'location': 'ES'}, {'input': ('ecoinvent-3.9.1-biosphere', '20185046-64bb-4c09-a8e7-e8a9e144ca98'), 'amount': 6.832972224895286e-07, 'type': 'biosphere', 'location': 'ES'}, {'input': ('ecoinvent-3.9.1-biosphere', '0795345f-c7ae-410c-ad25-1845784c75f5'), 'amount': 3.459678731892308e-06, 'type': 'biosphere', 'location': 'ES'}]}\n",
      "13:46:58+0200 [warning  ] Not able to determine geocollections for all datasets. This database is not ready for regionalization.\n"
     ]
    },
    {
     "name": "stderr",
     "output_type": "stream",
     "text": [
      "100%|██████████| 1/1 [00:00<?, ?it/s]\n"
     ]
    },
    {
     "name": "stdout",
     "output_type": "stream",
     "text": [
      "13:46:58+0200 [info     ] Vacuuming database            \n",
      "SE\n",
      "{'name': 'process_39', 'exchanges': [{'input': ('Emissions', 'process_39'), 'amount': 1, 'type': 'production'}, {'input': ('ecoinvent-3.9.1-biosphere', '349b29d1-3e58-4c66-98b9-9d1a076efd2e'), 'amount': 0.08646731864453862, 'type': 'biosphere', 'location': 'SE'}, {'input': ('ecoinvent-3.9.1-biosphere', '20185046-64bb-4c09-a8e7-e8a9e144ca98'), 'amount': 1.501366377764159e-06, 'type': 'biosphere', 'location': 'SE'}, {'input': ('ecoinvent-3.9.1-biosphere', '0795345f-c7ae-410c-ad25-1845784c75f5'), 'amount': 7.851415476020877e-06, 'type': 'biosphere', 'location': 'SE'}]}\n",
      "13:46:59+0200 [warning  ] Not able to determine geocollections for all datasets. This database is not ready for regionalization.\n"
     ]
    },
    {
     "name": "stderr",
     "output_type": "stream",
     "text": [
      "100%|██████████| 1/1 [00:00<?, ?it/s]\n"
     ]
    },
    {
     "name": "stdout",
     "output_type": "stream",
     "text": [
      "13:46:59+0200 [info     ] Vacuuming database            \n",
      "CH\n",
      "{'name': 'process_40', 'exchanges': [{'input': ('Emissions', 'process_40'), 'amount': 1, 'type': 'production'}, {'input': ('ecoinvent-3.9.1-biosphere', '349b29d1-3e58-4c66-98b9-9d1a076efd2e'), 'amount': 0.03413529765861628, 'type': 'biosphere', 'location': 'CH'}, {'input': ('ecoinvent-3.9.1-biosphere', '20185046-64bb-4c09-a8e7-e8a9e144ca98'), 'amount': 5.886536563792811e-07, 'type': 'biosphere', 'location': 'CH'}, {'input': ('ecoinvent-3.9.1-biosphere', '0795345f-c7ae-410c-ad25-1845784c75f5'), 'amount': 3.0986898367053375e-06, 'type': 'biosphere', 'location': 'CH'}]}\n",
      "13:47:00+0200 [warning  ] Not able to determine geocollections for all datasets. This database is not ready for regionalization.\n"
     ]
    },
    {
     "name": "stderr",
     "output_type": "stream",
     "text": [
      "100%|██████████| 1/1 [00:00<?, ?it/s]\n"
     ]
    },
    {
     "name": "stdout",
     "output_type": "stream",
     "text": [
      "13:47:00+0200 [info     ] Vacuuming database            \n",
      "TR\n",
      "{'name': 'process_41', 'exchanges': [{'input': ('Emissions', 'process_41'), 'amount': 1, 'type': 'production'}, {'input': ('ecoinvent-3.9.1-biosphere', '349b29d1-3e58-4c66-98b9-9d1a076efd2e'), 'amount': 0.10435053831990357, 'type': 'biosphere', 'location': 'TR'}, {'input': ('ecoinvent-3.9.1-biosphere', '20185046-64bb-4c09-a8e7-e8a9e144ca98'), 'amount': 1.8051583802007257e-06, 'type': 'biosphere', 'location': 'TR'}, {'input': ('ecoinvent-3.9.1-biosphere', '0795345f-c7ae-410c-ad25-1845784c75f5'), 'amount': 9.476620669225734e-06, 'type': 'biosphere', 'location': 'TR'}]}\n",
      "13:47:01+0200 [warning  ] Not able to determine geocollections for all datasets. This database is not ready for regionalization.\n"
     ]
    },
    {
     "name": "stderr",
     "output_type": "stream",
     "text": [
      "100%|██████████| 1/1 [00:00<?, ?it/s]\n"
     ]
    },
    {
     "name": "stdout",
     "output_type": "stream",
     "text": [
      "13:47:01+0200 [info     ] Vacuuming database            \n",
      "GB\n",
      "{'name': 'process_42', 'exchanges': [{'input': ('Emissions', 'process_42'), 'amount': 1, 'type': 'production'}, {'input': ('ecoinvent-3.9.1-biosphere', '349b29d1-3e58-4c66-98b9-9d1a076efd2e'), 'amount': 0.20497739214973595, 'type': 'biosphere', 'location': 'GB'}, {'input': ('ecoinvent-3.9.1-biosphere', '20185046-64bb-4c09-a8e7-e8a9e144ca98'), 'amount': 3.3549809413271117e-06, 'type': 'biosphere', 'location': 'GB'}, {'input': ('ecoinvent-3.9.1-biosphere', '0795345f-c7ae-410c-ad25-1845784c75f5'), 'amount': 1.8564113463069093e-05, 'type': 'biosphere', 'location': 'GB'}]}\n",
      "13:47:02+0200 [warning  ] Not able to determine geocollections for all datasets. This database is not ready for regionalization.\n"
     ]
    },
    {
     "name": "stderr",
     "output_type": "stream",
     "text": [
      "100%|██████████| 1/1 [00:00<00:00, 1035.12it/s]\n"
     ]
    },
    {
     "name": "stdout",
     "output_type": "stream",
     "text": [
      "13:47:02+0200 [info     ] Vacuuming database            \n",
      "US\n",
      "{'name': 'process_43', 'exchanges': [{'input': ('Emissions', 'process_43'), 'amount': 1, 'type': 'production'}, {'input': ('ecoinvent-3.9.1-biosphere', '349b29d1-3e58-4c66-98b9-9d1a076efd2e'), 'amount': 0.15811424995057793, 'type': 'biosphere', 'location': 'US'}, {'input': ('ecoinvent-3.9.1-biosphere', '20185046-64bb-4c09-a8e7-e8a9e144ca98'), 'amount': 2.7196163509446556e-06, 'type': 'biosphere', 'location': 'US'}, {'input': ('ecoinvent-3.9.1-biosphere', '0795345f-c7ae-410c-ad25-1845784c75f5'), 'amount': 1.4368616451399577e-05, 'type': 'biosphere', 'location': 'US'}]}\n",
      "13:47:03+0200 [warning  ] Not able to determine geocollections for all datasets. This database is not ready for regionalization.\n"
     ]
    },
    {
     "name": "stderr",
     "output_type": "stream",
     "text": [
      "100%|██████████| 1/1 [00:00<00:00, 1006.31it/s]\n"
     ]
    },
    {
     "name": "stdout",
     "output_type": "stream",
     "text": [
      "13:47:03+0200 [info     ] Vacuuming database            \n",
      "WA\n",
      "{'name': 'process_44', 'exchanges': [{'input': ('Emissions', 'process_44'), 'amount': 1, 'type': 'production'}, {'input': ('ecoinvent-3.9.1-biosphere', '349b29d1-3e58-4c66-98b9-9d1a076efd2e'), 'amount': 0.5573642021823902, 'type': 'biosphere', 'location': 'WA'}, {'input': ('ecoinvent-3.9.1-biosphere', '20185046-64bb-4c09-a8e7-e8a9e144ca98'), 'amount': 9.814356147316111e-06, 'type': 'biosphere', 'location': 'WA'}, {'input': ('ecoinvent-3.9.1-biosphere', '0795345f-c7ae-410c-ad25-1845784c75f5'), 'amount': 5.070536576629934e-05, 'type': 'biosphere', 'location': 'WA'}]}\n",
      "13:47:03+0200 [warning  ] Not able to determine geocollections for all datasets. This database is not ready for regionalization.\n"
     ]
    },
    {
     "name": "stderr",
     "output_type": "stream",
     "text": [
      "100%|██████████| 1/1 [00:00<?, ?it/s]\n"
     ]
    },
    {
     "name": "stdout",
     "output_type": "stream",
     "text": [
      "13:47:03+0200 [info     ] Vacuuming database            \n",
      "WL\n",
      "{'name': 'process_45', 'exchanges': [{'input': ('Emissions', 'process_45'), 'amount': 1, 'type': 'production'}, {'input': ('ecoinvent-3.9.1-biosphere', '349b29d1-3e58-4c66-98b9-9d1a076efd2e'), 'amount': 0.06224470301029741, 'type': 'biosphere', 'location': 'WL'}, {'input': ('ecoinvent-3.9.1-biosphere', '20185046-64bb-4c09-a8e7-e8a9e144ca98'), 'amount': 1.0843806522415105e-06, 'type': 'biosphere', 'location': 'WL'}, {'input': ('ecoinvent-3.9.1-biosphere', '0795345f-c7ae-410c-ad25-1845784c75f5'), 'amount': 5.59560266403558e-06, 'type': 'biosphere', 'location': 'WL'}]}\n",
      "13:47:04+0200 [warning  ] Not able to determine geocollections for all datasets. This database is not ready for regionalization.\n"
     ]
    },
    {
     "name": "stderr",
     "output_type": "stream",
     "text": [
      "100%|██████████| 1/1 [00:00<?, ?it/s]\n"
     ]
    },
    {
     "name": "stdout",
     "output_type": "stream",
     "text": [
      "13:47:04+0200 [info     ] Vacuuming database            \n",
      "WE\n",
      "{'name': 'process_46', 'exchanges': [{'input': ('Emissions', 'process_46'), 'amount': 1, 'type': 'production'}, {'input': ('ecoinvent-3.9.1-biosphere', '349b29d1-3e58-4c66-98b9-9d1a076efd2e'), 'amount': 0.13252495286355792, 'type': 'biosphere', 'location': 'WE'}, {'input': ('ecoinvent-3.9.1-biosphere', '20185046-64bb-4c09-a8e7-e8a9e144ca98'), 'amount': 2.2886674936581217e-06, 'type': 'biosphere', 'location': 'WE'}, {'input': ('ecoinvent-3.9.1-biosphere', '0795345f-c7ae-410c-ad25-1845784c75f5'), 'amount': 1.1994997688707058e-05, 'type': 'biosphere', 'location': 'WE'}]}\n",
      "13:47:05+0200 [warning  ] Not able to determine geocollections for all datasets. This database is not ready for regionalization.\n"
     ]
    },
    {
     "name": "stderr",
     "output_type": "stream",
     "text": [
      "100%|██████████| 1/1 [00:00<00:00, 1016.55it/s]\n"
     ]
    },
    {
     "name": "stdout",
     "output_type": "stream",
     "text": [
      "13:47:05+0200 [info     ] Vacuuming database            \n",
      "WF\n",
      "{'name': 'process_47', 'exchanges': [{'input': ('Emissions', 'process_47'), 'amount': 1, 'type': 'production'}, {'input': ('ecoinvent-3.9.1-biosphere', '349b29d1-3e58-4c66-98b9-9d1a076efd2e'), 'amount': 0.03947890995380863, 'type': 'biosphere', 'location': 'WF'}, {'input': ('ecoinvent-3.9.1-biosphere', '20185046-64bb-4c09-a8e7-e8a9e144ca98'), 'amount': 6.772142586590328e-07, 'type': 'biosphere', 'location': 'WF'}, {'input': ('ecoinvent-3.9.1-biosphere', '0795345f-c7ae-410c-ad25-1845784c75f5'), 'amount': 3.5885359351945525e-06, 'type': 'biosphere', 'location': 'WF'}]}\n",
      "13:47:05+0200 [warning  ] Not able to determine geocollections for all datasets. This database is not ready for regionalization.\n"
     ]
    },
    {
     "name": "stderr",
     "output_type": "stream",
     "text": [
      "100%|██████████| 1/1 [00:00<00:00, 1001.51it/s]\n"
     ]
    },
    {
     "name": "stdout",
     "output_type": "stream",
     "text": [
      "13:47:05+0200 [info     ] Vacuuming database            \n",
      "WM\n",
      "{'name': 'process_48', 'exchanges': [{'input': ('Emissions', 'process_48'), 'amount': 1, 'type': 'production'}, {'input': ('ecoinvent-3.9.1-biosphere', '349b29d1-3e58-4c66-98b9-9d1a076efd2e'), 'amount': 0.36097230387685675, 'type': 'biosphere', 'location': 'WM'}, {'input': ('ecoinvent-3.9.1-biosphere', '20185046-64bb-4c09-a8e7-e8a9e144ca98'), 'amount': 0.0, 'type': 'biosphere', 'location': 'WM'}, {'input': ('ecoinvent-3.9.1-biosphere', '0795345f-c7ae-410c-ad25-1845784c75f5'), 'amount': 0.0, 'type': 'biosphere', 'location': 'WM'}]}\n",
      "13:47:06+0200 [warning  ] Not able to determine geocollections for all datasets. This database is not ready for regionalization.\n"
     ]
    },
    {
     "name": "stderr",
     "output_type": "stream",
     "text": [
      "100%|██████████| 1/1 [00:00<?, ?it/s]\n"
     ]
    },
    {
     "name": "stdout",
     "output_type": "stream",
     "text": [
      "13:47:06+0200 [info     ] Vacuuming database            \n"
     ]
    }
   ],
   "source": [
    "M_eq_boats_3_metal=[]\n",
    "flag=0\n",
    "for i, region in impact_boats_c_metal.items(): #Creating a proccess with emissions\n",
    "    flag=flag+1\n",
    "    print(i)\n",
    "    process_data={'name':f\"process_{flag}\" ,\n",
    "            'exchanges': [\n",
    "                {'input': (\"Emissions\", f\"process_{flag}\"), 'amount': 1, 'type': 'production'},\n",
    "                {'input': co2_key, 'amount': impact_boats_c_metal.loc[('Carbon dioxide, fossil','tonnes','air'),i]*1000, 'type': 'biosphere', 'location': i},#to add the emissions of each activity\n",
    "                {'input': n2o_key, 'amount': impact_boats_c_metal.loc[('N2O','tonnes','air'),i]*1000, 'type': 'biosphere', 'location': i},\n",
    "                {'input': ch4_key, 'amount': impact_boats_c_metal.loc[('CH4','tonnes','air'),i]*1000, 'type': 'biosphere', 'location': i}\n",
    "            ]\n",
    "        }\n",
    "    print(process_data)\n",
    "    bd.Database(\"Emissions\").write({(\"Emissions\", f\"process_{flag}\"): process_data}) #To add in database\n",
    "    demand_i={(\"Emissions\", f\"process_{flag}\"):1} #1 as functional unit\n",
    "    value=bc.lca.LCA(demand_i,method_chosen) \n",
    "    value.lci(factorize=True) #with factorization false doesn't work\n",
    "    value.lcia()\n",
    "\n",
    "\n",
    "    M_eq_boats_3_metal.append(value.score/1000) #to store the equivalent emissions in M_eq_val in tonnes\n",
    "\n",
    "M_eq_boats_3_metal=pd.DataFrame(M_eq_boats_3_metal)\n",
    "M_eq_boats_3_metal.index=impact_boats_c_metal.columns\n",
    "M_eq_boats_3_metal.columns=[\"CO2-eq\"] #To name the columns"
   ]
  },
  {
   "cell_type": "markdown",
   "id": "79669d75",
   "metadata": {},
   "source": [
    "## Road transport"
   ]
  },
  {
   "cell_type": "markdown",
   "id": "08b07650",
   "metadata": {},
   "source": [
    "Only CO2"
   ]
  },
  {
   "cell_type": "code",
   "execution_count": 207,
   "id": "b01de30b",
   "metadata": {},
   "outputs": [],
   "source": [
    "M_eq_trucks_2_mining=impact_trucks_c_mining.iloc[0] \n",
    "M_eq_trucks_2_mining.columns=[\"CO2-eq\"] #To name the columns\n",
    "\n",
    "M_eq_trucks_2_metal=impact_trucks_c_metal.iloc[0] \n",
    "M_eq_trucks_2_metal.columns=[\"CO2-eq\"] #To name the columns"
   ]
  },
  {
   "cell_type": "markdown",
   "id": "a7860da4",
   "metadata": {},
   "source": [
    "CO2, N2O, CH4"
   ]
  },
  {
   "cell_type": "code",
   "execution_count": 208,
   "id": "c829b931",
   "metadata": {},
   "outputs": [
    {
     "name": "stdout",
     "output_type": "stream",
     "text": [
      "AT\n",
      "{'name': 'process_1', 'exchanges': [{'input': ('Emissions', 'process_1'), 'amount': 1, 'type': 'production'}, {'input': ('ecoinvent-3.9.1-biosphere', '349b29d1-3e58-4c66-98b9-9d1a076efd2e'), 'amount': 0.0, 'type': 'biosphere', 'location': 'AT'}, {'input': ('ecoinvent-3.9.1-biosphere', '20185046-64bb-4c09-a8e7-e8a9e144ca98'), 'amount': 0.0, 'type': 'biosphere', 'location': 'AT'}, {'input': ('ecoinvent-3.9.1-biosphere', '0795345f-c7ae-410c-ad25-1845784c75f5'), 'amount': 0.0, 'type': 'biosphere', 'location': 'AT'}]}\n",
      "13:47:07+0200 [warning  ] Not able to determine geocollections for all datasets. This database is not ready for regionalization.\n"
     ]
    },
    {
     "name": "stderr",
     "output_type": "stream",
     "text": [
      "100%|██████████| 1/1 [00:00<?, ?it/s]\n"
     ]
    },
    {
     "name": "stdout",
     "output_type": "stream",
     "text": [
      "13:47:07+0200 [info     ] Vacuuming database            \n",
      "AU\n",
      "{'name': 'process_2', 'exchanges': [{'input': ('Emissions', 'process_2'), 'amount': 1, 'type': 'production'}, {'input': ('ecoinvent-3.9.1-biosphere', '349b29d1-3e58-4c66-98b9-9d1a076efd2e'), 'amount': 2.2060337629439483e-06, 'type': 'biosphere', 'location': 'AU'}, {'input': ('ecoinvent-3.9.1-biosphere', '20185046-64bb-4c09-a8e7-e8a9e144ca98'), 'amount': 3.9175549491722107e-11, 'type': 'biosphere', 'location': 'AU'}, {'input': ('ecoinvent-3.9.1-biosphere', '0795345f-c7ae-410c-ad25-1845784c75f5'), 'amount': 3.6996476558600924e-10, 'type': 'biosphere', 'location': 'AU'}]}\n",
      "13:47:08+0200 [warning  ] Not able to determine geocollections for all datasets. This database is not ready for regionalization.\n"
     ]
    },
    {
     "name": "stderr",
     "output_type": "stream",
     "text": [
      "100%|██████████| 1/1 [00:00<?, ?it/s]\n"
     ]
    },
    {
     "name": "stdout",
     "output_type": "stream",
     "text": [
      "13:47:08+0200 [info     ] Vacuuming database            \n",
      "BE\n",
      "{'name': 'process_3', 'exchanges': [{'input': ('Emissions', 'process_3'), 'amount': 1, 'type': 'production'}, {'input': ('ecoinvent-3.9.1-biosphere', '349b29d1-3e58-4c66-98b9-9d1a076efd2e'), 'amount': 0.0, 'type': 'biosphere', 'location': 'BE'}, {'input': ('ecoinvent-3.9.1-biosphere', '20185046-64bb-4c09-a8e7-e8a9e144ca98'), 'amount': 0.0, 'type': 'biosphere', 'location': 'BE'}, {'input': ('ecoinvent-3.9.1-biosphere', '0795345f-c7ae-410c-ad25-1845784c75f5'), 'amount': 0.0, 'type': 'biosphere', 'location': 'BE'}]}\n",
      "13:47:08+0200 [warning  ] Not able to determine geocollections for all datasets. This database is not ready for regionalization.\n"
     ]
    },
    {
     "name": "stderr",
     "output_type": "stream",
     "text": [
      "100%|██████████| 1/1 [00:00<?, ?it/s]\n"
     ]
    },
    {
     "name": "stdout",
     "output_type": "stream",
     "text": [
      "13:47:08+0200 [info     ] Vacuuming database            \n",
      "BG\n",
      "{'name': 'process_4', 'exchanges': [{'input': ('Emissions', 'process_4'), 'amount': 1, 'type': 'production'}, {'input': ('ecoinvent-3.9.1-biosphere', '349b29d1-3e58-4c66-98b9-9d1a076efd2e'), 'amount': -4.525296138988412e-08, 'type': 'biosphere', 'location': 'BG'}, {'input': ('ecoinvent-3.9.1-biosphere', '20185046-64bb-4c09-a8e7-e8a9e144ca98'), 'amount': -6.140882255446404e-13, 'type': 'biosphere', 'location': 'BG'}, {'input': ('ecoinvent-3.9.1-biosphere', '0795345f-c7ae-410c-ad25-1845784c75f5'), 'amount': -1.034086672589267e-11, 'type': 'biosphere', 'location': 'BG'}]}\n",
      "13:47:09+0200 [warning  ] Not able to determine geocollections for all datasets. This database is not ready for regionalization.\n"
     ]
    },
    {
     "name": "stderr",
     "output_type": "stream",
     "text": [
      "100%|██████████| 1/1 [00:00<?, ?it/s]\n"
     ]
    },
    {
     "name": "stdout",
     "output_type": "stream",
     "text": [
      "13:47:09+0200 [info     ] Vacuuming database            \n",
      "BR\n",
      "{'name': 'process_5', 'exchanges': [{'input': ('Emissions', 'process_5'), 'amount': 1, 'type': 'production'}, {'input': ('ecoinvent-3.9.1-biosphere', '349b29d1-3e58-4c66-98b9-9d1a076efd2e'), 'amount': -2.1243965963045652e-07, 'type': 'biosphere', 'location': 'BR'}, {'input': ('ecoinvent-3.9.1-biosphere', '20185046-64bb-4c09-a8e7-e8a9e144ca98'), 'amount': -2.3464287272566386e-12, 'type': 'biosphere', 'location': 'BR'}, {'input': ('ecoinvent-3.9.1-biosphere', '0795345f-c7ae-410c-ad25-1845784c75f5'), 'amount': -4.0143671462887734e-11, 'type': 'biosphere', 'location': 'BR'}]}\n",
      "13:47:09+0200 [warning  ] Not able to determine geocollections for all datasets. This database is not ready for regionalization.\n"
     ]
    },
    {
     "name": "stderr",
     "output_type": "stream",
     "text": [
      "100%|██████████| 1/1 [00:00<?, ?it/s]\n"
     ]
    },
    {
     "name": "stdout",
     "output_type": "stream",
     "text": [
      "13:47:09+0200 [info     ] Vacuuming database            \n",
      "CA\n",
      "{'name': 'process_6', 'exchanges': [{'input': ('Emissions', 'process_6'), 'amount': 1, 'type': 'production'}, {'input': ('ecoinvent-3.9.1-biosphere', '349b29d1-3e58-4c66-98b9-9d1a076efd2e'), 'amount': 1.2132570567160177e-05, 'type': 'biosphere', 'location': 'CA'}, {'input': ('ecoinvent-3.9.1-biosphere', '20185046-64bb-4c09-a8e7-e8a9e144ca98'), 'amount': 2.1587509946932757e-10, 'type': 'biosphere', 'location': 'CA'}, {'input': ('ecoinvent-3.9.1-biosphere', '0795345f-c7ae-410c-ad25-1845784c75f5'), 'amount': 2.0538517499989495e-09, 'type': 'biosphere', 'location': 'CA'}]}\n",
      "13:47:10+0200 [warning  ] Not able to determine geocollections for all datasets. This database is not ready for regionalization.\n"
     ]
    },
    {
     "name": "stderr",
     "output_type": "stream",
     "text": [
      "100%|██████████| 1/1 [00:00<?, ?it/s]\n"
     ]
    },
    {
     "name": "stdout",
     "output_type": "stream",
     "text": [
      "13:47:10+0200 [info     ] Vacuuming database            \n",
      "CH\n",
      "{'name': 'process_7', 'exchanges': [{'input': ('Emissions', 'process_7'), 'amount': 1, 'type': 'production'}, {'input': ('ecoinvent-3.9.1-biosphere', '349b29d1-3e58-4c66-98b9-9d1a076efd2e'), 'amount': 0.0, 'type': 'biosphere', 'location': 'CH'}, {'input': ('ecoinvent-3.9.1-biosphere', '20185046-64bb-4c09-a8e7-e8a9e144ca98'), 'amount': 0.0, 'type': 'biosphere', 'location': 'CH'}, {'input': ('ecoinvent-3.9.1-biosphere', '0795345f-c7ae-410c-ad25-1845784c75f5'), 'amount': 0.0, 'type': 'biosphere', 'location': 'CH'}]}\n",
      "13:47:11+0200 [warning  ] Not able to determine geocollections for all datasets. This database is not ready for regionalization.\n"
     ]
    },
    {
     "name": "stderr",
     "output_type": "stream",
     "text": [
      "100%|██████████| 1/1 [00:00<00:00, 920.01it/s]\n"
     ]
    },
    {
     "name": "stdout",
     "output_type": "stream",
     "text": [
      "13:47:11+0200 [info     ] Vacuuming database            \n",
      "CN\n",
      "{'name': 'process_8', 'exchanges': [{'input': ('Emissions', 'process_8'), 'amount': 1, 'type': 'production'}, {'input': ('ecoinvent-3.9.1-biosphere', '349b29d1-3e58-4c66-98b9-9d1a076efd2e'), 'amount': 2.4149793640070114e-05, 'type': 'biosphere', 'location': 'CN'}, {'input': ('ecoinvent-3.9.1-biosphere', '20185046-64bb-4c09-a8e7-e8a9e144ca98'), 'amount': 2.664604204679247e-10, 'type': 'biosphere', 'location': 'CN'}, {'input': ('ecoinvent-3.9.1-biosphere', '0795345f-c7ae-410c-ad25-1845784c75f5'), 'amount': 4.558290306991889e-09, 'type': 'biosphere', 'location': 'CN'}]}\n",
      "13:47:11+0200 [warning  ] Not able to determine geocollections for all datasets. This database is not ready for regionalization.\n"
     ]
    },
    {
     "name": "stderr",
     "output_type": "stream",
     "text": [
      "100%|██████████| 1/1 [00:00<00:00, 1006.31it/s]\n"
     ]
    },
    {
     "name": "stdout",
     "output_type": "stream",
     "text": [
      "13:47:12+0200 [info     ] Vacuuming database            \n",
      "CY\n",
      "{'name': 'process_9', 'exchanges': [{'input': ('Emissions', 'process_9'), 'amount': 1, 'type': 'production'}, {'input': ('ecoinvent-3.9.1-biosphere', '349b29d1-3e58-4c66-98b9-9d1a076efd2e'), 'amount': 1.2280271417867242e-09, 'type': 'biosphere', 'location': 'CY'}, {'input': ('ecoinvent-3.9.1-biosphere', '20185046-64bb-4c09-a8e7-e8a9e144ca98'), 'amount': 1.7824771964192034e-14, 'type': 'biosphere', 'location': 'CY'}, {'input': ('ecoinvent-3.9.1-biosphere', '0795345f-c7ae-410c-ad25-1845784c75f5'), 'amount': 9.673740461849672e-14, 'type': 'biosphere', 'location': 'CY'}]}\n",
      "13:47:12+0200 [warning  ] Not able to determine geocollections for all datasets. This database is not ready for regionalization.\n"
     ]
    },
    {
     "name": "stderr",
     "output_type": "stream",
     "text": [
      "100%|██████████| 1/1 [00:00<?, ?it/s]\n"
     ]
    },
    {
     "name": "stdout",
     "output_type": "stream",
     "text": [
      "13:47:12+0200 [info     ] Vacuuming database            \n",
      "CZ\n",
      "{'name': 'process_10', 'exchanges': [{'input': ('Emissions', 'process_10'), 'amount': 1, 'type': 'production'}, {'input': ('ecoinvent-3.9.1-biosphere', '349b29d1-3e58-4c66-98b9-9d1a076efd2e'), 'amount': 0.0, 'type': 'biosphere', 'location': 'CZ'}, {'input': ('ecoinvent-3.9.1-biosphere', '20185046-64bb-4c09-a8e7-e8a9e144ca98'), 'amount': 0.0, 'type': 'biosphere', 'location': 'CZ'}, {'input': ('ecoinvent-3.9.1-biosphere', '0795345f-c7ae-410c-ad25-1845784c75f5'), 'amount': 0.0, 'type': 'biosphere', 'location': 'CZ'}]}\n",
      "13:47:13+0200 [warning  ] Not able to determine geocollections for all datasets. This database is not ready for regionalization.\n"
     ]
    },
    {
     "name": "stderr",
     "output_type": "stream",
     "text": [
      "100%|██████████| 1/1 [00:00<?, ?it/s]\n"
     ]
    },
    {
     "name": "stdout",
     "output_type": "stream",
     "text": [
      "13:47:13+0200 [info     ] Vacuuming database            \n",
      "DE\n",
      "{'name': 'process_11', 'exchanges': [{'input': ('Emissions', 'process_11'), 'amount': 1, 'type': 'production'}, {'input': ('ecoinvent-3.9.1-biosphere', '349b29d1-3e58-4c66-98b9-9d1a076efd2e'), 'amount': 0.0, 'type': 'biosphere', 'location': 'DE'}, {'input': ('ecoinvent-3.9.1-biosphere', '20185046-64bb-4c09-a8e7-e8a9e144ca98'), 'amount': 0.0, 'type': 'biosphere', 'location': 'DE'}, {'input': ('ecoinvent-3.9.1-biosphere', '0795345f-c7ae-410c-ad25-1845784c75f5'), 'amount': 0.0, 'type': 'biosphere', 'location': 'DE'}]}\n",
      "13:47:14+0200 [warning  ] Not able to determine geocollections for all datasets. This database is not ready for regionalization.\n"
     ]
    },
    {
     "name": "stderr",
     "output_type": "stream",
     "text": [
      "100%|██████████| 1/1 [00:00<00:00, 1126.59it/s]\n"
     ]
    },
    {
     "name": "stdout",
     "output_type": "stream",
     "text": [
      "13:47:14+0200 [info     ] Vacuuming database            \n",
      "DK\n",
      "{'name': 'process_12', 'exchanges': [{'input': ('Emissions', 'process_12'), 'amount': 1, 'type': 'production'}, {'input': ('ecoinvent-3.9.1-biosphere', '349b29d1-3e58-4c66-98b9-9d1a076efd2e'), 'amount': 0.0, 'type': 'biosphere', 'location': 'DK'}, {'input': ('ecoinvent-3.9.1-biosphere', '20185046-64bb-4c09-a8e7-e8a9e144ca98'), 'amount': 0.0, 'type': 'biosphere', 'location': 'DK'}, {'input': ('ecoinvent-3.9.1-biosphere', '0795345f-c7ae-410c-ad25-1845784c75f5'), 'amount': 0.0, 'type': 'biosphere', 'location': 'DK'}]}\n",
      "13:47:15+0200 [warning  ] Not able to determine geocollections for all datasets. This database is not ready for regionalization.\n"
     ]
    },
    {
     "name": "stderr",
     "output_type": "stream",
     "text": [
      "100%|██████████| 1/1 [00:00<?, ?it/s]\n"
     ]
    },
    {
     "name": "stdout",
     "output_type": "stream",
     "text": [
      "13:47:15+0200 [info     ] Vacuuming database            \n",
      "EE\n",
      "{'name': 'process_13', 'exchanges': [{'input': ('Emissions', 'process_13'), 'amount': 1, 'type': 'production'}, {'input': ('ecoinvent-3.9.1-biosphere', '349b29d1-3e58-4c66-98b9-9d1a076efd2e'), 'amount': 0.0, 'type': 'biosphere', 'location': 'EE'}, {'input': ('ecoinvent-3.9.1-biosphere', '20185046-64bb-4c09-a8e7-e8a9e144ca98'), 'amount': 0.0, 'type': 'biosphere', 'location': 'EE'}, {'input': ('ecoinvent-3.9.1-biosphere', '0795345f-c7ae-410c-ad25-1845784c75f5'), 'amount': 0.0, 'type': 'biosphere', 'location': 'EE'}]}\n",
      "13:47:16+0200 [warning  ] Not able to determine geocollections for all datasets. This database is not ready for regionalization.\n"
     ]
    },
    {
     "name": "stderr",
     "output_type": "stream",
     "text": [
      "100%|██████████| 1/1 [00:00<?, ?it/s]\n"
     ]
    },
    {
     "name": "stdout",
     "output_type": "stream",
     "text": [
      "13:47:16+0200 [info     ] Vacuuming database            \n",
      "ES\n",
      "{'name': 'process_14', 'exchanges': [{'input': ('Emissions', 'process_14'), 'amount': 1, 'type': 'production'}, {'input': ('ecoinvent-3.9.1-biosphere', '349b29d1-3e58-4c66-98b9-9d1a076efd2e'), 'amount': 6.869965868298696e-07, 'type': 'biosphere', 'location': 'ES'}, {'input': ('ecoinvent-3.9.1-biosphere', '20185046-64bb-4c09-a8e7-e8a9e144ca98'), 'amount': 1.994296275572279e-11, 'type': 'biosphere', 'location': 'ES'}, {'input': ('ecoinvent-3.9.1-biosphere', '0795345f-c7ae-410c-ad25-1845784c75f5'), 'amount': 1.987269813984407e-10, 'type': 'biosphere', 'location': 'ES'}]}\n",
      "13:47:17+0200 [warning  ] Not able to determine geocollections for all datasets. This database is not ready for regionalization.\n"
     ]
    },
    {
     "name": "stderr",
     "output_type": "stream",
     "text": [
      "100%|██████████| 1/1 [00:00<?, ?it/s]\n"
     ]
    },
    {
     "name": "stdout",
     "output_type": "stream",
     "text": [
      "13:47:17+0200 [info     ] Vacuuming database            \n",
      "FI\n",
      "{'name': 'process_15', 'exchanges': [{'input': ('Emissions', 'process_15'), 'amount': 1, 'type': 'production'}, {'input': ('ecoinvent-3.9.1-biosphere', '349b29d1-3e58-4c66-98b9-9d1a076efd2e'), 'amount': -4.423282304410187e-10, 'type': 'biosphere', 'location': 'FI'}, {'input': ('ecoinvent-3.9.1-biosphere', '20185046-64bb-4c09-a8e7-e8a9e144ca98'), 'amount': -5.879918109903885e-15, 'type': 'biosphere', 'location': 'FI'}, {'input': ('ecoinvent-3.9.1-biosphere', '0795345f-c7ae-410c-ad25-1845784c75f5'), 'amount': -4.792636402742944e-14, 'type': 'biosphere', 'location': 'FI'}]}\n",
      "13:47:17+0200 [warning  ] Not able to determine geocollections for all datasets. This database is not ready for regionalization.\n"
     ]
    },
    {
     "name": "stderr",
     "output_type": "stream",
     "text": [
      "100%|██████████| 1/1 [00:00<00:00, 999.83it/s]\n"
     ]
    },
    {
     "name": "stdout",
     "output_type": "stream",
     "text": [
      "13:47:18+0200 [info     ] Vacuuming database            \n",
      "FR\n",
      "{'name': 'process_16', 'exchanges': [{'input': ('Emissions', 'process_16'), 'amount': 1, 'type': 'production'}, {'input': ('ecoinvent-3.9.1-biosphere', '349b29d1-3e58-4c66-98b9-9d1a076efd2e'), 'amount': 0.0, 'type': 'biosphere', 'location': 'FR'}, {'input': ('ecoinvent-3.9.1-biosphere', '20185046-64bb-4c09-a8e7-e8a9e144ca98'), 'amount': 0.0, 'type': 'biosphere', 'location': 'FR'}, {'input': ('ecoinvent-3.9.1-biosphere', '0795345f-c7ae-410c-ad25-1845784c75f5'), 'amount': 0.0, 'type': 'biosphere', 'location': 'FR'}]}\n",
      "13:47:18+0200 [warning  ] Not able to determine geocollections for all datasets. This database is not ready for regionalization.\n"
     ]
    },
    {
     "name": "stderr",
     "output_type": "stream",
     "text": [
      "100%|██████████| 1/1 [00:00<?, ?it/s]\n"
     ]
    },
    {
     "name": "stdout",
     "output_type": "stream",
     "text": [
      "13:47:18+0200 [info     ] Vacuuming database            \n",
      "GB\n",
      "{'name': 'process_17', 'exchanges': [{'input': ('Emissions', 'process_17'), 'amount': 1, 'type': 'production'}, {'input': ('ecoinvent-3.9.1-biosphere', '349b29d1-3e58-4c66-98b9-9d1a076efd2e'), 'amount': 0.0, 'type': 'biosphere', 'location': 'GB'}, {'input': ('ecoinvent-3.9.1-biosphere', '20185046-64bb-4c09-a8e7-e8a9e144ca98'), 'amount': 0.0, 'type': 'biosphere', 'location': 'GB'}, {'input': ('ecoinvent-3.9.1-biosphere', '0795345f-c7ae-410c-ad25-1845784c75f5'), 'amount': 0.0, 'type': 'biosphere', 'location': 'GB'}]}\n",
      "13:47:19+0200 [warning  ] Not able to determine geocollections for all datasets. This database is not ready for regionalization.\n"
     ]
    },
    {
     "name": "stderr",
     "output_type": "stream",
     "text": [
      "100%|██████████| 1/1 [00:00<?, ?it/s]\n"
     ]
    },
    {
     "name": "stdout",
     "output_type": "stream",
     "text": [
      "13:47:19+0200 [info     ] Vacuuming database            \n",
      "GR\n",
      "{'name': 'process_18', 'exchanges': [{'input': ('Emissions', 'process_18'), 'amount': 1, 'type': 'production'}, {'input': ('ecoinvent-3.9.1-biosphere', '349b29d1-3e58-4c66-98b9-9d1a076efd2e'), 'amount': 0.0, 'type': 'biosphere', 'location': 'GR'}, {'input': ('ecoinvent-3.9.1-biosphere', '20185046-64bb-4c09-a8e7-e8a9e144ca98'), 'amount': 0.0, 'type': 'biosphere', 'location': 'GR'}, {'input': ('ecoinvent-3.9.1-biosphere', '0795345f-c7ae-410c-ad25-1845784c75f5'), 'amount': 0.0, 'type': 'biosphere', 'location': 'GR'}]}\n",
      "13:47:20+0200 [warning  ] Not able to determine geocollections for all datasets. This database is not ready for regionalization.\n"
     ]
    },
    {
     "name": "stderr",
     "output_type": "stream",
     "text": [
      "100%|██████████| 1/1 [00:00<?, ?it/s]\n"
     ]
    },
    {
     "name": "stdout",
     "output_type": "stream",
     "text": [
      "13:47:20+0200 [info     ] Vacuuming database            \n",
      "HR\n",
      "{'name': 'process_19', 'exchanges': [{'input': ('Emissions', 'process_19'), 'amount': 1, 'type': 'production'}, {'input': ('ecoinvent-3.9.1-biosphere', '349b29d1-3e58-4c66-98b9-9d1a076efd2e'), 'amount': 0.0, 'type': 'biosphere', 'location': 'HR'}, {'input': ('ecoinvent-3.9.1-biosphere', '20185046-64bb-4c09-a8e7-e8a9e144ca98'), 'amount': 0.0, 'type': 'biosphere', 'location': 'HR'}, {'input': ('ecoinvent-3.9.1-biosphere', '0795345f-c7ae-410c-ad25-1845784c75f5'), 'amount': 0.0, 'type': 'biosphere', 'location': 'HR'}]}\n",
      "13:47:21+0200 [warning  ] Not able to determine geocollections for all datasets. This database is not ready for regionalization.\n"
     ]
    },
    {
     "name": "stderr",
     "output_type": "stream",
     "text": [
      "100%|██████████| 1/1 [00:00<?, ?it/s]\n"
     ]
    },
    {
     "name": "stdout",
     "output_type": "stream",
     "text": [
      "13:47:21+0200 [info     ] Vacuuming database            \n",
      "HU\n",
      "{'name': 'process_20', 'exchanges': [{'input': ('Emissions', 'process_20'), 'amount': 1, 'type': 'production'}, {'input': ('ecoinvent-3.9.1-biosphere', '349b29d1-3e58-4c66-98b9-9d1a076efd2e'), 'amount': 0.0, 'type': 'biosphere', 'location': 'HU'}, {'input': ('ecoinvent-3.9.1-biosphere', '20185046-64bb-4c09-a8e7-e8a9e144ca98'), 'amount': 0.0, 'type': 'biosphere', 'location': 'HU'}, {'input': ('ecoinvent-3.9.1-biosphere', '0795345f-c7ae-410c-ad25-1845784c75f5'), 'amount': 0.0, 'type': 'biosphere', 'location': 'HU'}]}\n",
      "13:47:22+0200 [warning  ] Not able to determine geocollections for all datasets. This database is not ready for regionalization.\n"
     ]
    },
    {
     "name": "stderr",
     "output_type": "stream",
     "text": [
      "100%|██████████| 1/1 [00:00<00:00, 999.12it/s]\n"
     ]
    },
    {
     "name": "stdout",
     "output_type": "stream",
     "text": [
      "13:47:22+0200 [info     ] Vacuuming database            \n",
      "ID\n",
      "{'name': 'process_21', 'exchanges': [{'input': ('Emissions', 'process_21'), 'amount': 1, 'type': 'production'}, {'input': ('ecoinvent-3.9.1-biosphere', '349b29d1-3e58-4c66-98b9-9d1a076efd2e'), 'amount': 2.8278209991301863e-05, 'type': 'biosphere', 'location': 'ID'}, {'input': ('ecoinvent-3.9.1-biosphere', '20185046-64bb-4c09-a8e7-e8a9e144ca98'), 'amount': 3.1263481660350474e-10, 'type': 'biosphere', 'location': 'ID'}, {'input': ('ecoinvent-3.9.1-biosphere', '0795345f-c7ae-410c-ad25-1845784c75f5'), 'amount': 5.3091283607722715e-09, 'type': 'biosphere', 'location': 'ID'}]}\n",
      "13:47:22+0200 [warning  ] Not able to determine geocollections for all datasets. This database is not ready for regionalization.\n"
     ]
    },
    {
     "name": "stderr",
     "output_type": "stream",
     "text": [
      "100%|██████████| 1/1 [00:00<00:00, 995.33it/s]\n"
     ]
    },
    {
     "name": "stdout",
     "output_type": "stream",
     "text": [
      "13:47:23+0200 [info     ] Vacuuming database            \n",
      "IE\n",
      "{'name': 'process_22', 'exchanges': [{'input': ('Emissions', 'process_22'), 'amount': 1, 'type': 'production'}, {'input': ('ecoinvent-3.9.1-biosphere', '349b29d1-3e58-4c66-98b9-9d1a076efd2e'), 'amount': 0.0, 'type': 'biosphere', 'location': 'IE'}, {'input': ('ecoinvent-3.9.1-biosphere', '20185046-64bb-4c09-a8e7-e8a9e144ca98'), 'amount': 0.0, 'type': 'biosphere', 'location': 'IE'}, {'input': ('ecoinvent-3.9.1-biosphere', '0795345f-c7ae-410c-ad25-1845784c75f5'), 'amount': 0.0, 'type': 'biosphere', 'location': 'IE'}]}\n",
      "13:47:23+0200 [warning  ] Not able to determine geocollections for all datasets. This database is not ready for regionalization.\n"
     ]
    },
    {
     "name": "stderr",
     "output_type": "stream",
     "text": [
      "100%|██████████| 1/1 [00:00<00:00, 1008.49it/s]\n"
     ]
    },
    {
     "name": "stdout",
     "output_type": "stream",
     "text": [
      "13:47:23+0200 [info     ] Vacuuming database            \n",
      "IN\n",
      "{'name': 'process_23', 'exchanges': [{'input': ('Emissions', 'process_23'), 'amount': 1, 'type': 'production'}, {'input': ('ecoinvent-3.9.1-biosphere', '349b29d1-3e58-4c66-98b9-9d1a076efd2e'), 'amount': -4.548527270095492e-08, 'type': 'biosphere', 'location': 'IN'}, {'input': ('ecoinvent-3.9.1-biosphere', '20185046-64bb-4c09-a8e7-e8a9e144ca98'), 'amount': -5.080998980727313e-13, 'type': 'biosphere', 'location': 'IN'}, {'input': ('ecoinvent-3.9.1-biosphere', '0795345f-c7ae-410c-ad25-1845784c75f5'), 'amount': -8.479867921642716e-12, 'type': 'biosphere', 'location': 'IN'}]}\n",
      "13:47:24+0200 [warning  ] Not able to determine geocollections for all datasets. This database is not ready for regionalization.\n"
     ]
    },
    {
     "name": "stderr",
     "output_type": "stream",
     "text": [
      "100%|██████████| 1/1 [00:00<?, ?it/s]\n"
     ]
    },
    {
     "name": "stdout",
     "output_type": "stream",
     "text": [
      "13:47:24+0200 [info     ] Vacuuming database            \n",
      "IT\n",
      "{'name': 'process_24', 'exchanges': [{'input': ('Emissions', 'process_24'), 'amount': 1, 'type': 'production'}, {'input': ('ecoinvent-3.9.1-biosphere', '349b29d1-3e58-4c66-98b9-9d1a076efd2e'), 'amount': 0.0, 'type': 'biosphere', 'location': 'IT'}, {'input': ('ecoinvent-3.9.1-biosphere', '20185046-64bb-4c09-a8e7-e8a9e144ca98'), 'amount': 0.0, 'type': 'biosphere', 'location': 'IT'}, {'input': ('ecoinvent-3.9.1-biosphere', '0795345f-c7ae-410c-ad25-1845784c75f5'), 'amount': 0.0, 'type': 'biosphere', 'location': 'IT'}]}\n",
      "13:47:25+0200 [warning  ] Not able to determine geocollections for all datasets. This database is not ready for regionalization.\n"
     ]
    },
    {
     "name": "stderr",
     "output_type": "stream",
     "text": [
      "100%|██████████| 1/1 [00:00<00:00, 992.97it/s]\n"
     ]
    },
    {
     "name": "stdout",
     "output_type": "stream",
     "text": [
      "13:47:25+0200 [info     ] Vacuuming database            \n",
      "JP\n",
      "{'name': 'process_25', 'exchanges': [{'input': ('Emissions', 'process_25'), 'amount': 1, 'type': 'production'}, {'input': ('ecoinvent-3.9.1-biosphere', '349b29d1-3e58-4c66-98b9-9d1a076efd2e'), 'amount': 0.0, 'type': 'biosphere', 'location': 'JP'}, {'input': ('ecoinvent-3.9.1-biosphere', '20185046-64bb-4c09-a8e7-e8a9e144ca98'), 'amount': 0.0, 'type': 'biosphere', 'location': 'JP'}, {'input': ('ecoinvent-3.9.1-biosphere', '0795345f-c7ae-410c-ad25-1845784c75f5'), 'amount': 0.0, 'type': 'biosphere', 'location': 'JP'}]}\n",
      "13:47:26+0200 [warning  ] Not able to determine geocollections for all datasets. This database is not ready for regionalization.\n"
     ]
    },
    {
     "name": "stderr",
     "output_type": "stream",
     "text": [
      "100%|██████████| 1/1 [00:00<?, ?it/s]\n"
     ]
    },
    {
     "name": "stdout",
     "output_type": "stream",
     "text": [
      "13:47:26+0200 [info     ] Vacuuming database            \n",
      "KR\n",
      "{'name': 'process_26', 'exchanges': [{'input': ('Emissions', 'process_26'), 'amount': 1, 'type': 'production'}, {'input': ('ecoinvent-3.9.1-biosphere', '349b29d1-3e58-4c66-98b9-9d1a076efd2e'), 'amount': 0.0, 'type': 'biosphere', 'location': 'KR'}, {'input': ('ecoinvent-3.9.1-biosphere', '20185046-64bb-4c09-a8e7-e8a9e144ca98'), 'amount': 0.0, 'type': 'biosphere', 'location': 'KR'}, {'input': ('ecoinvent-3.9.1-biosphere', '0795345f-c7ae-410c-ad25-1845784c75f5'), 'amount': 0.0, 'type': 'biosphere', 'location': 'KR'}]}\n",
      "13:47:27+0200 [warning  ] Not able to determine geocollections for all datasets. This database is not ready for regionalization.\n"
     ]
    },
    {
     "name": "stderr",
     "output_type": "stream",
     "text": [
      "100%|██████████| 1/1 [00:00<00:00, 1004.38it/s]\n"
     ]
    },
    {
     "name": "stdout",
     "output_type": "stream",
     "text": [
      "13:47:27+0200 [info     ] Vacuuming database            \n",
      "LT\n",
      "{'name': 'process_27', 'exchanges': [{'input': ('Emissions', 'process_27'), 'amount': 1, 'type': 'production'}, {'input': ('ecoinvent-3.9.1-biosphere', '349b29d1-3e58-4c66-98b9-9d1a076efd2e'), 'amount': 0.0, 'type': 'biosphere', 'location': 'LT'}, {'input': ('ecoinvent-3.9.1-biosphere', '20185046-64bb-4c09-a8e7-e8a9e144ca98'), 'amount': 0.0, 'type': 'biosphere', 'location': 'LT'}, {'input': ('ecoinvent-3.9.1-biosphere', '0795345f-c7ae-410c-ad25-1845784c75f5'), 'amount': 0.0, 'type': 'biosphere', 'location': 'LT'}]}\n",
      "13:47:28+0200 [warning  ] Not able to determine geocollections for all datasets. This database is not ready for regionalization.\n"
     ]
    },
    {
     "name": "stderr",
     "output_type": "stream",
     "text": [
      "100%|██████████| 1/1 [00:00<?, ?it/s]\n"
     ]
    },
    {
     "name": "stdout",
     "output_type": "stream",
     "text": [
      "13:47:28+0200 [info     ] Vacuuming database            \n",
      "LU\n",
      "{'name': 'process_28', 'exchanges': [{'input': ('Emissions', 'process_28'), 'amount': 1, 'type': 'production'}, {'input': ('ecoinvent-3.9.1-biosphere', '349b29d1-3e58-4c66-98b9-9d1a076efd2e'), 'amount': 0.0, 'type': 'biosphere', 'location': 'LU'}, {'input': ('ecoinvent-3.9.1-biosphere', '20185046-64bb-4c09-a8e7-e8a9e144ca98'), 'amount': 0.0, 'type': 'biosphere', 'location': 'LU'}, {'input': ('ecoinvent-3.9.1-biosphere', '0795345f-c7ae-410c-ad25-1845784c75f5'), 'amount': 0.0, 'type': 'biosphere', 'location': 'LU'}]}\n",
      "13:47:28+0200 [warning  ] Not able to determine geocollections for all datasets. This database is not ready for regionalization.\n"
     ]
    },
    {
     "name": "stderr",
     "output_type": "stream",
     "text": [
      "100%|██████████| 1/1 [00:00<00:00, 999.60it/s]\n"
     ]
    },
    {
     "name": "stdout",
     "output_type": "stream",
     "text": [
      "13:47:28+0200 [info     ] Vacuuming database            \n",
      "LV\n",
      "{'name': 'process_29', 'exchanges': [{'input': ('Emissions', 'process_29'), 'amount': 1, 'type': 'production'}, {'input': ('ecoinvent-3.9.1-biosphere', '349b29d1-3e58-4c66-98b9-9d1a076efd2e'), 'amount': 0.0, 'type': 'biosphere', 'location': 'LV'}, {'input': ('ecoinvent-3.9.1-biosphere', '20185046-64bb-4c09-a8e7-e8a9e144ca98'), 'amount': 0.0, 'type': 'biosphere', 'location': 'LV'}, {'input': ('ecoinvent-3.9.1-biosphere', '0795345f-c7ae-410c-ad25-1845784c75f5'), 'amount': 0.0, 'type': 'biosphere', 'location': 'LV'}]}\n",
      "13:47:29+0200 [warning  ] Not able to determine geocollections for all datasets. This database is not ready for regionalization.\n"
     ]
    },
    {
     "name": "stderr",
     "output_type": "stream",
     "text": [
      "100%|██████████| 1/1 [00:00<?, ?it/s]\n"
     ]
    },
    {
     "name": "stdout",
     "output_type": "stream",
     "text": [
      "13:47:29+0200 [info     ] Vacuuming database            \n",
      "MT\n",
      "{'name': 'process_30', 'exchanges': [{'input': ('Emissions', 'process_30'), 'amount': 1, 'type': 'production'}, {'input': ('ecoinvent-3.9.1-biosphere', '349b29d1-3e58-4c66-98b9-9d1a076efd2e'), 'amount': 0.0, 'type': 'biosphere', 'location': 'MT'}, {'input': ('ecoinvent-3.9.1-biosphere', '20185046-64bb-4c09-a8e7-e8a9e144ca98'), 'amount': 0.0, 'type': 'biosphere', 'location': 'MT'}, {'input': ('ecoinvent-3.9.1-biosphere', '0795345f-c7ae-410c-ad25-1845784c75f5'), 'amount': 0.0, 'type': 'biosphere', 'location': 'MT'}]}\n",
      "13:47:30+0200 [warning  ] Not able to determine geocollections for all datasets. This database is not ready for regionalization.\n"
     ]
    },
    {
     "name": "stderr",
     "output_type": "stream",
     "text": [
      "100%|██████████| 1/1 [00:00<?, ?it/s]\n"
     ]
    },
    {
     "name": "stdout",
     "output_type": "stream",
     "text": [
      "13:47:30+0200 [info     ] Vacuuming database            \n",
      "MX\n",
      "{'name': 'process_31', 'exchanges': [{'input': ('Emissions', 'process_31'), 'amount': 1, 'type': 'production'}, {'input': ('ecoinvent-3.9.1-biosphere', '349b29d1-3e58-4c66-98b9-9d1a076efd2e'), 'amount': 1.7001443524018238e-05, 'type': 'biosphere', 'location': 'MX'}, {'input': ('ecoinvent-3.9.1-biosphere', '20185046-64bb-4c09-a8e7-e8a9e144ca98'), 'amount': 1.876507291568571e-10, 'type': 'biosphere', 'location': 'MX'}, {'input': ('ecoinvent-3.9.1-biosphere', '0795345f-c7ae-410c-ad25-1845784c75f5'), 'amount': 3.1379931920982183e-09, 'type': 'biosphere', 'location': 'MX'}]}\n",
      "13:47:31+0200 [warning  ] Not able to determine geocollections for all datasets. This database is not ready for regionalization.\n"
     ]
    },
    {
     "name": "stderr",
     "output_type": "stream",
     "text": [
      "100%|██████████| 1/1 [00:00<?, ?it/s]\n"
     ]
    },
    {
     "name": "stdout",
     "output_type": "stream",
     "text": [
      "13:47:31+0200 [info     ] Vacuuming database            \n",
      "NL\n",
      "{'name': 'process_32', 'exchanges': [{'input': ('Emissions', 'process_32'), 'amount': 1, 'type': 'production'}, {'input': ('ecoinvent-3.9.1-biosphere', '349b29d1-3e58-4c66-98b9-9d1a076efd2e'), 'amount': 0.0, 'type': 'biosphere', 'location': 'NL'}, {'input': ('ecoinvent-3.9.1-biosphere', '20185046-64bb-4c09-a8e7-e8a9e144ca98'), 'amount': 0.0, 'type': 'biosphere', 'location': 'NL'}, {'input': ('ecoinvent-3.9.1-biosphere', '0795345f-c7ae-410c-ad25-1845784c75f5'), 'amount': 0.0, 'type': 'biosphere', 'location': 'NL'}]}\n",
      "13:47:31+0200 [warning  ] Not able to determine geocollections for all datasets. This database is not ready for regionalization.\n"
     ]
    },
    {
     "name": "stderr",
     "output_type": "stream",
     "text": [
      "100%|██████████| 1/1 [00:00<?, ?it/s]\n"
     ]
    },
    {
     "name": "stdout",
     "output_type": "stream",
     "text": [
      "13:47:31+0200 [info     ] Vacuuming database            \n",
      "NO\n",
      "{'name': 'process_33', 'exchanges': [{'input': ('Emissions', 'process_33'), 'amount': 1, 'type': 'production'}, {'input': ('ecoinvent-3.9.1-biosphere', '349b29d1-3e58-4c66-98b9-9d1a076efd2e'), 'amount': 0.0, 'type': 'biosphere', 'location': 'NO'}, {'input': ('ecoinvent-3.9.1-biosphere', '20185046-64bb-4c09-a8e7-e8a9e144ca98'), 'amount': 0.0, 'type': 'biosphere', 'location': 'NO'}, {'input': ('ecoinvent-3.9.1-biosphere', '0795345f-c7ae-410c-ad25-1845784c75f5'), 'amount': 0.0, 'type': 'biosphere', 'location': 'NO'}]}\n",
      "13:47:32+0200 [warning  ] Not able to determine geocollections for all datasets. This database is not ready for regionalization.\n"
     ]
    },
    {
     "name": "stderr",
     "output_type": "stream",
     "text": [
      "100%|██████████| 1/1 [00:00<?, ?it/s]\n"
     ]
    },
    {
     "name": "stdout",
     "output_type": "stream",
     "text": [
      "13:47:32+0200 [info     ] Vacuuming database            \n",
      "PL\n",
      "{'name': 'process_34', 'exchanges': [{'input': ('Emissions', 'process_34'), 'amount': 1, 'type': 'production'}, {'input': ('ecoinvent-3.9.1-biosphere', '349b29d1-3e58-4c66-98b9-9d1a076efd2e'), 'amount': 0.5072170800415995, 'type': 'biosphere', 'location': 'PL'}, {'input': ('ecoinvent-3.9.1-biosphere', '20185046-64bb-4c09-a8e7-e8a9e144ca98'), 'amount': 4.463149421579752e-06, 'type': 'biosphere', 'location': 'PL'}, {'input': ('ecoinvent-3.9.1-biosphere', '0795345f-c7ae-410c-ad25-1845784c75f5'), 'amount': 8.454879825369427e-05, 'type': 'biosphere', 'location': 'PL'}]}\n",
      "13:47:33+0200 [warning  ] Not able to determine geocollections for all datasets. This database is not ready for regionalization.\n"
     ]
    },
    {
     "name": "stderr",
     "output_type": "stream",
     "text": [
      "100%|██████████| 1/1 [00:00<00:00, 1001.03it/s]\n"
     ]
    },
    {
     "name": "stdout",
     "output_type": "stream",
     "text": [
      "13:47:33+0200 [info     ] Vacuuming database            \n",
      "PT\n",
      "{'name': 'process_35', 'exchanges': [{'input': ('Emissions', 'process_35'), 'amount': 1, 'type': 'production'}, {'input': ('ecoinvent-3.9.1-biosphere', '349b29d1-3e58-4c66-98b9-9d1a076efd2e'), 'amount': -4.455984249455938e-09, 'type': 'biosphere', 'location': 'PT'}, {'input': ('ecoinvent-3.9.1-biosphere', '20185046-64bb-4c09-a8e7-e8a9e144ca98'), 'amount': -6.277941926305325e-14, 'type': 'biosphere', 'location': 'PT'}, {'input': ('ecoinvent-3.9.1-biosphere', '0795345f-c7ae-410c-ad25-1845784c75f5'), 'amount': -3.0560066775945153e-13, 'type': 'biosphere', 'location': 'PT'}]}\n",
      "13:47:34+0200 [warning  ] Not able to determine geocollections for all datasets. This database is not ready for regionalization.\n"
     ]
    },
    {
     "name": "stderr",
     "output_type": "stream",
     "text": [
      "100%|██████████| 1/1 [00:00<00:00, 991.33it/s]\n"
     ]
    },
    {
     "name": "stdout",
     "output_type": "stream",
     "text": [
      "13:47:34+0200 [info     ] Vacuuming database            \n",
      "RO\n",
      "{'name': 'process_36', 'exchanges': [{'input': ('Emissions', 'process_36'), 'amount': 1, 'type': 'production'}, {'input': ('ecoinvent-3.9.1-biosphere', '349b29d1-3e58-4c66-98b9-9d1a076efd2e'), 'amount': 8.554350523611263e-07, 'type': 'biosphere', 'location': 'RO'}, {'input': ('ecoinvent-3.9.1-biosphere', '20185046-64bb-4c09-a8e7-e8a9e144ca98'), 'amount': 1.2059123685468215e-11, 'type': 'biosphere', 'location': 'RO'}, {'input': ('ecoinvent-3.9.1-biosphere', '0795345f-c7ae-410c-ad25-1845784c75f5'), 'amount': 2.101322206551699e-10, 'type': 'biosphere', 'location': 'RO'}]}\n",
      "13:47:35+0200 [warning  ] Not able to determine geocollections for all datasets. This database is not ready for regionalization.\n"
     ]
    },
    {
     "name": "stderr",
     "output_type": "stream",
     "text": [
      "100%|██████████| 1/1 [00:00<?, ?it/s]\n"
     ]
    },
    {
     "name": "stdout",
     "output_type": "stream",
     "text": [
      "13:47:35+0200 [info     ] Vacuuming database            \n",
      "RU\n",
      "{'name': 'process_37', 'exchanges': [{'input': ('Emissions', 'process_37'), 'amount': 1, 'type': 'production'}, {'input': ('ecoinvent-3.9.1-biosphere', '349b29d1-3e58-4c66-98b9-9d1a076efd2e'), 'amount': 5.124172470936406e-06, 'type': 'biosphere', 'location': 'RU'}, {'input': ('ecoinvent-3.9.1-biosphere', '20185046-64bb-4c09-a8e7-e8a9e144ca98'), 'amount': 5.6299432678202965e-11, 'type': 'biosphere', 'location': 'RU'}, {'input': ('ecoinvent-3.9.1-biosphere', '0795345f-c7ae-410c-ad25-1845784c75f5'), 'amount': 9.64321957837884e-10, 'type': 'biosphere', 'location': 'RU'}]}\n",
      "13:47:36+0200 [warning  ] Not able to determine geocollections for all datasets. This database is not ready for regionalization.\n"
     ]
    },
    {
     "name": "stderr",
     "output_type": "stream",
     "text": [
      "100%|██████████| 1/1 [00:00<?, ?it/s]\n"
     ]
    },
    {
     "name": "stdout",
     "output_type": "stream",
     "text": [
      "13:47:36+0200 [info     ] Vacuuming database            \n",
      "SE\n",
      "{'name': 'process_38', 'exchanges': [{'input': ('Emissions', 'process_38'), 'amount': 1, 'type': 'production'}, {'input': ('ecoinvent-3.9.1-biosphere', '349b29d1-3e58-4c66-98b9-9d1a076efd2e'), 'amount': -2.481513620503511e-07, 'type': 'biosphere', 'location': 'SE'}, {'input': ('ecoinvent-3.9.1-biosphere', '20185046-64bb-4c09-a8e7-e8a9e144ca98'), 'amount': -3.1660907621464776e-12, 'type': 'biosphere', 'location': 'SE'}, {'input': ('ecoinvent-3.9.1-biosphere', '0795345f-c7ae-410c-ad25-1845784c75f5'), 'amount': -1.678506897906113e-11, 'type': 'biosphere', 'location': 'SE'}]}\n",
      "13:47:37+0200 [warning  ] Not able to determine geocollections for all datasets. This database is not ready for regionalization.\n"
     ]
    },
    {
     "name": "stderr",
     "output_type": "stream",
     "text": [
      "100%|██████████| 1/1 [00:00<?, ?it/s]\n"
     ]
    },
    {
     "name": "stdout",
     "output_type": "stream",
     "text": [
      "13:47:37+0200 [info     ] Vacuuming database            \n",
      "SI\n",
      "{'name': 'process_39', 'exchanges': [{'input': ('Emissions', 'process_39'), 'amount': 1, 'type': 'production'}, {'input': ('ecoinvent-3.9.1-biosphere', '349b29d1-3e58-4c66-98b9-9d1a076efd2e'), 'amount': 0.0, 'type': 'biosphere', 'location': 'SI'}, {'input': ('ecoinvent-3.9.1-biosphere', '20185046-64bb-4c09-a8e7-e8a9e144ca98'), 'amount': 0.0, 'type': 'biosphere', 'location': 'SI'}, {'input': ('ecoinvent-3.9.1-biosphere', '0795345f-c7ae-410c-ad25-1845784c75f5'), 'amount': 0.0, 'type': 'biosphere', 'location': 'SI'}]}\n",
      "13:47:38+0200 [warning  ] Not able to determine geocollections for all datasets. This database is not ready for regionalization.\n"
     ]
    },
    {
     "name": "stderr",
     "output_type": "stream",
     "text": [
      "100%|██████████| 1/1 [00:00<?, ?it/s]\n"
     ]
    },
    {
     "name": "stdout",
     "output_type": "stream",
     "text": [
      "13:47:38+0200 [info     ] Vacuuming database            \n",
      "SK\n",
      "{'name': 'process_40', 'exchanges': [{'input': ('Emissions', 'process_40'), 'amount': 1, 'type': 'production'}, {'input': ('ecoinvent-3.9.1-biosphere', '349b29d1-3e58-4c66-98b9-9d1a076efd2e'), 'amount': -6.446732461294767e-19, 'type': 'biosphere', 'location': 'SK'}, {'input': ('ecoinvent-3.9.1-biosphere', '20185046-64bb-4c09-a8e7-e8a9e144ca98'), 'amount': -6.792762259795196e-24, 'type': 'biosphere', 'location': 'SK'}, {'input': ('ecoinvent-3.9.1-biosphere', '0795345f-c7ae-410c-ad25-1845784c75f5'), 'amount': -5.489824336025904e-23, 'type': 'biosphere', 'location': 'SK'}]}\n",
      "13:47:39+0200 [warning  ] Not able to determine geocollections for all datasets. This database is not ready for regionalization.\n"
     ]
    },
    {
     "name": "stderr",
     "output_type": "stream",
     "text": [
      "100%|██████████| 1/1 [00:00<?, ?it/s]\n"
     ]
    },
    {
     "name": "stdout",
     "output_type": "stream",
     "text": [
      "13:47:39+0200 [info     ] Vacuuming database            \n",
      "TR\n",
      "{'name': 'process_41', 'exchanges': [{'input': ('Emissions', 'process_41'), 'amount': 1, 'type': 'production'}, {'input': ('ecoinvent-3.9.1-biosphere', '349b29d1-3e58-4c66-98b9-9d1a076efd2e'), 'amount': 3.3197903893809564e-08, 'type': 'biosphere', 'location': 'TR'}, {'input': ('ecoinvent-3.9.1-biosphere', '20185046-64bb-4c09-a8e7-e8a9e144ca98'), 'amount': 4.3339785886769946e-13, 'type': 'biosphere', 'location': 'TR'}, {'input': ('ecoinvent-3.9.1-biosphere', '0795345f-c7ae-410c-ad25-1845784c75f5'), 'amount': 6.436317033608263e-12, 'type': 'biosphere', 'location': 'TR'}]}\n",
      "13:47:40+0200 [warning  ] Not able to determine geocollections for all datasets. This database is not ready for regionalization.\n"
     ]
    },
    {
     "name": "stderr",
     "output_type": "stream",
     "text": [
      "100%|██████████| 1/1 [00:00<?, ?it/s]\n"
     ]
    },
    {
     "name": "stdout",
     "output_type": "stream",
     "text": [
      "13:47:40+0200 [info     ] Vacuuming database            \n",
      "US\n",
      "{'name': 'process_42', 'exchanges': [{'input': ('Emissions', 'process_42'), 'amount': 1, 'type': 'production'}, {'input': ('ecoinvent-3.9.1-biosphere', '349b29d1-3e58-4c66-98b9-9d1a076efd2e'), 'amount': 0.0007001505764047288, 'type': 'biosphere', 'location': 'US'}, {'input': ('ecoinvent-3.9.1-biosphere', '20185046-64bb-4c09-a8e7-e8a9e144ca98'), 'amount': 1.2456352450103341e-08, 'type': 'biosphere', 'location': 'US'}, {'input': ('ecoinvent-3.9.1-biosphere', '0795345f-c7ae-410c-ad25-1845784c75f5'), 'amount': 1.1854243746135266e-07, 'type': 'biosphere', 'location': 'US'}]}\n",
      "13:47:41+0200 [warning  ] Not able to determine geocollections for all datasets. This database is not ready for regionalization.\n"
     ]
    },
    {
     "name": "stderr",
     "output_type": "stream",
     "text": [
      "100%|██████████| 1/1 [00:00<?, ?it/s]\n"
     ]
    },
    {
     "name": "stdout",
     "output_type": "stream",
     "text": [
      "13:47:41+0200 [info     ] Vacuuming database            \n",
      "WA\n",
      "{'name': 'process_43', 'exchanges': [{'input': ('Emissions', 'process_43'), 'amount': 1, 'type': 'production'}, {'input': ('ecoinvent-3.9.1-biosphere', '349b29d1-3e58-4c66-98b9-9d1a076efd2e'), 'amount': 7.986399391971341e-06, 'type': 'biosphere', 'location': 'WA'}, {'input': ('ecoinvent-3.9.1-biosphere', '20185046-64bb-4c09-a8e7-e8a9e144ca98'), 'amount': 9.072192738107157e-11, 'type': 'biosphere', 'location': 'WA'}, {'input': ('ecoinvent-3.9.1-biosphere', '0795345f-c7ae-410c-ad25-1845784c75f5'), 'amount': 1.4900624619627589e-09, 'type': 'biosphere', 'location': 'WA'}]}\n",
      "13:47:42+0200 [warning  ] Not able to determine geocollections for all datasets. This database is not ready for regionalization.\n"
     ]
    },
    {
     "name": "stderr",
     "output_type": "stream",
     "text": [
      "100%|██████████| 1/1 [00:00<?, ?it/s]\n"
     ]
    },
    {
     "name": "stdout",
     "output_type": "stream",
     "text": [
      "13:47:42+0200 [info     ] Vacuuming database            \n",
      "WE\n",
      "{'name': 'process_44', 'exchanges': [{'input': ('Emissions', 'process_44'), 'amount': 1, 'type': 'production'}, {'input': ('ecoinvent-3.9.1-biosphere', '349b29d1-3e58-4c66-98b9-9d1a076efd2e'), 'amount': -2.9802269162875074e-07, 'type': 'biosphere', 'location': 'WE'}, {'input': ('ecoinvent-3.9.1-biosphere', '20185046-64bb-4c09-a8e7-e8a9e144ca98'), 'amount': -3.2401199759448674e-12, 'type': 'biosphere', 'location': 'WE'}, {'input': ('ecoinvent-3.9.1-biosphere', '0795345f-c7ae-410c-ad25-1845784c75f5'), 'amount': -5.600344153801111e-11, 'type': 'biosphere', 'location': 'WE'}]}\n",
      "13:47:43+0200 [warning  ] Not able to determine geocollections for all datasets. This database is not ready for regionalization.\n"
     ]
    },
    {
     "name": "stderr",
     "output_type": "stream",
     "text": [
      "100%|██████████| 1/1 [00:00<?, ?it/s]\n"
     ]
    },
    {
     "name": "stdout",
     "output_type": "stream",
     "text": [
      "13:47:43+0200 [info     ] Vacuuming database            \n",
      "WF\n",
      "{'name': 'process_45', 'exchanges': [{'input': ('Emissions', 'process_45'), 'amount': 1, 'type': 'production'}, {'input': ('ecoinvent-3.9.1-biosphere', '349b29d1-3e58-4c66-98b9-9d1a076efd2e'), 'amount': 0.0038991147557258716, 'type': 'biosphere', 'location': 'WF'}, {'input': ('ecoinvent-3.9.1-biosphere', '20185046-64bb-4c09-a8e7-e8a9e144ca98'), 'amount': 4.290883307757897e-08, 'type': 'biosphere', 'location': 'WF'}, {'input': ('ecoinvent-3.9.1-biosphere', '0795345f-c7ae-410c-ad25-1845784c75f5'), 'amount': 7.383964806207596e-07, 'type': 'biosphere', 'location': 'WF'}]}\n",
      "13:47:44+0200 [warning  ] Not able to determine geocollections for all datasets. This database is not ready for regionalization.\n"
     ]
    },
    {
     "name": "stderr",
     "output_type": "stream",
     "text": [
      "100%|██████████| 1/1 [00:00<?, ?it/s]\n"
     ]
    },
    {
     "name": "stdout",
     "output_type": "stream",
     "text": [
      "13:47:44+0200 [info     ] Vacuuming database            \n",
      "WL\n",
      "{'name': 'process_46', 'exchanges': [{'input': ('Emissions', 'process_46'), 'amount': 1, 'type': 'production'}, {'input': ('ecoinvent-3.9.1-biosphere', '349b29d1-3e58-4c66-98b9-9d1a076efd2e'), 'amount': 0.0019803771519344105, 'type': 'biosphere', 'location': 'WL'}, {'input': ('ecoinvent-3.9.1-biosphere', '20185046-64bb-4c09-a8e7-e8a9e144ca98'), 'amount': 2.15939274168521e-08, 'type': 'biosphere', 'location': 'WL'}, {'input': ('ecoinvent-3.9.1-biosphere', '0795345f-c7ae-410c-ad25-1845784c75f5'), 'amount': 3.399277487114937e-07, 'type': 'biosphere', 'location': 'WL'}]}\n",
      "13:47:45+0200 [warning  ] Not able to determine geocollections for all datasets. This database is not ready for regionalization.\n"
     ]
    },
    {
     "name": "stderr",
     "output_type": "stream",
     "text": [
      "100%|██████████| 1/1 [00:00<00:00, 990.39it/s]\n"
     ]
    },
    {
     "name": "stdout",
     "output_type": "stream",
     "text": [
      "13:47:45+0200 [info     ] Vacuuming database            \n",
      "WM\n",
      "{'name': 'process_47', 'exchanges': [{'input': ('Emissions', 'process_47'), 'amount': 1, 'type': 'production'}, {'input': ('ecoinvent-3.9.1-biosphere', '349b29d1-3e58-4c66-98b9-9d1a076efd2e'), 'amount': 2.271517131289351e-06, 'type': 'biosphere', 'location': 'WM'}, {'input': ('ecoinvent-3.9.1-biosphere', '20185046-64bb-4c09-a8e7-e8a9e144ca98'), 'amount': 0.0, 'type': 'biosphere', 'location': 'WM'}, {'input': ('ecoinvent-3.9.1-biosphere', '0795345f-c7ae-410c-ad25-1845784c75f5'), 'amount': 1.5133160038731262e-14, 'type': 'biosphere', 'location': 'WM'}]}\n",
      "13:47:46+0200 [warning  ] Not able to determine geocollections for all datasets. This database is not ready for regionalization.\n"
     ]
    },
    {
     "name": "stderr",
     "output_type": "stream",
     "text": [
      "100%|██████████| 1/1 [00:00<?, ?it/s]\n"
     ]
    },
    {
     "name": "stdout",
     "output_type": "stream",
     "text": [
      "13:47:46+0200 [info     ] Vacuuming database            \n",
      "ZA\n",
      "{'name': 'process_48', 'exchanges': [{'input': ('Emissions', 'process_48'), 'amount': 1, 'type': 'production'}, {'input': ('ecoinvent-3.9.1-biosphere', '349b29d1-3e58-4c66-98b9-9d1a076efd2e'), 'amount': 1.4462822687903638e-07, 'type': 'biosphere', 'location': 'ZA'}, {'input': ('ecoinvent-3.9.1-biosphere', '20185046-64bb-4c09-a8e7-e8a9e144ca98'), 'amount': 1.5910824339376028e-12, 'type': 'biosphere', 'location': 'ZA'}, {'input': ('ecoinvent-3.9.1-biosphere', '0795345f-c7ae-410c-ad25-1845784c75f5'), 'amount': 2.7347034505758862e-11, 'type': 'biosphere', 'location': 'ZA'}]}\n",
      "13:47:47+0200 [warning  ] Not able to determine geocollections for all datasets. This database is not ready for regionalization.\n"
     ]
    },
    {
     "name": "stderr",
     "output_type": "stream",
     "text": [
      "100%|██████████| 1/1 [00:00<00:00, 1000.31it/s]\n"
     ]
    },
    {
     "name": "stdout",
     "output_type": "stream",
     "text": [
      "13:47:47+0200 [info     ] Vacuuming database            \n"
     ]
    }
   ],
   "source": [
    "M_eq_trucks_3_mining=[]\n",
    "flag=0\n",
    "for i, region in impact_trucks_c_mining.items(): #Creating a proccess with emissions\n",
    "    flag=flag+1\n",
    "    print(i)\n",
    "    process_data={'name':f\"process_{flag}\" ,\n",
    "            'exchanges': [\n",
    "                {'input': (\"Emissions\", f\"process_{flag}\"), 'amount': 1, 'type': 'production'},\n",
    "                {'input': co2_key, 'amount': impact_trucks_c_mining.loc[('Carbon dioxide, fossil','tonnes','air'),i]*1000, 'type': 'biosphere', 'location': i},#to add the emissions of each activity\n",
    "                {'input': n2o_key, 'amount': impact_trucks_c_mining.loc[('N2O','tonnes','air'),i]*1000, 'type': 'biosphere', 'location': i},\n",
    "                {'input': ch4_key, 'amount': impact_trucks_c_mining.loc[('CH4','tonnes','air'),i]*1000, 'type': 'biosphere', 'location': i}\n",
    "            ]\n",
    "        }\n",
    "    print(process_data)\n",
    "    bd.Database(\"Emissions\").write({(\"Emissions\", f\"process_{flag}\"): process_data}) #To add in database\n",
    "    demand_i={(\"Emissions\", f\"process_{flag}\"):1} #1 as functional unit\n",
    "    value=bc.lca.LCA(demand_i,method_chosen) \n",
    "    value.lci(factorize=True) #with factorization false doesn't work\n",
    "    value.lcia()\n",
    "\n",
    "\n",
    "    M_eq_trucks_3_mining.append(value.score/1000) #to store the equivalent emissions in M_eq_val in tonnes\n",
    "\n",
    "M_eq_trucks_3_mining=pd.DataFrame(M_eq_trucks_3_mining)\n",
    "M_eq_trucks_3_mining.index=impact_trucks_c_mining.columns\n",
    "M_eq_trucks_3_mining.columns=[\"CO2-eq\"] #To name the columns"
   ]
  },
  {
   "cell_type": "code",
   "execution_count": 209,
   "id": "8f472190",
   "metadata": {},
   "outputs": [
    {
     "name": "stdout",
     "output_type": "stream",
     "text": [
      "AU\n",
      "{'name': 'process_1', 'exchanges': [{'input': ('Emissions', 'process_1'), 'amount': 1, 'type': 'production'}, {'input': ('ecoinvent-3.9.1-biosphere', '349b29d1-3e58-4c66-98b9-9d1a076efd2e'), 'amount': 0.19426966396287682, 'type': 'biosphere', 'location': 'AU'}, {'input': ('ecoinvent-3.9.1-biosphere', '20185046-64bb-4c09-a8e7-e8a9e144ca98'), 'amount': 5.13669503503722e-06, 'type': 'biosphere', 'location': 'AU'}, {'input': ('ecoinvent-3.9.1-biosphere', '0795345f-c7ae-410c-ad25-1845784c75f5'), 'amount': 7.605707163956495e-06, 'type': 'biosphere', 'location': 'AU'}]}\n",
      "13:47:48+0200 [warning  ] Not able to determine geocollections for all datasets. This database is not ready for regionalization.\n"
     ]
    },
    {
     "name": "stderr",
     "output_type": "stream",
     "text": [
      "100%|██████████| 1/1 [00:00<?, ?it/s]\n"
     ]
    },
    {
     "name": "stdout",
     "output_type": "stream",
     "text": [
      "13:47:48+0200 [info     ] Vacuuming database            \n",
      "AT\n",
      "{'name': 'process_2', 'exchanges': [{'input': ('Emissions', 'process_2'), 'amount': 1, 'type': 'production'}, {'input': ('ecoinvent-3.9.1-biosphere', '349b29d1-3e58-4c66-98b9-9d1a076efd2e'), 'amount': 0.10442653748066207, 'type': 'biosphere', 'location': 'AT'}, {'input': ('ecoinvent-3.9.1-biosphere', '20185046-64bb-4c09-a8e7-e8a9e144ca98'), 'amount': 3.0911382828164344e-06, 'type': 'biosphere', 'location': 'AT'}, {'input': ('ecoinvent-3.9.1-biosphere', '0795345f-c7ae-410c-ad25-1845784c75f5'), 'amount': 3.4110225393016447e-06, 'type': 'biosphere', 'location': 'AT'}]}\n",
      "13:47:49+0200 [warning  ] Not able to determine geocollections for all datasets. This database is not ready for regionalization.\n"
     ]
    },
    {
     "name": "stderr",
     "output_type": "stream",
     "text": [
      "100%|██████████| 1/1 [00:00<00:00, 987.36it/s]\n"
     ]
    },
    {
     "name": "stdout",
     "output_type": "stream",
     "text": [
      "13:47:49+0200 [info     ] Vacuuming database            \n",
      "BE\n",
      "{'name': 'process_3', 'exchanges': [{'input': ('Emissions', 'process_3'), 'amount': 1, 'type': 'production'}, {'input': ('ecoinvent-3.9.1-biosphere', '349b29d1-3e58-4c66-98b9-9d1a076efd2e'), 'amount': 0.08859319831319958, 'type': 'biosphere', 'location': 'BE'}, {'input': ('ecoinvent-3.9.1-biosphere', '20185046-64bb-4c09-a8e7-e8a9e144ca98'), 'amount': 3.4635855963036063e-06, 'type': 'biosphere', 'location': 'BE'}, {'input': ('ecoinvent-3.9.1-biosphere', '0795345f-c7ae-410c-ad25-1845784c75f5'), 'amount': 2.372706347401447e-06, 'type': 'biosphere', 'location': 'BE'}]}\n",
      "13:47:50+0200 [warning  ] Not able to determine geocollections for all datasets. This database is not ready for regionalization.\n"
     ]
    },
    {
     "name": "stderr",
     "output_type": "stream",
     "text": [
      "100%|██████████| 1/1 [00:00<?, ?it/s]\n"
     ]
    },
    {
     "name": "stdout",
     "output_type": "stream",
     "text": [
      "13:47:50+0200 [info     ] Vacuuming database            \n",
      "BR\n",
      "{'name': 'process_4', 'exchanges': [{'input': ('Emissions', 'process_4'), 'amount': 1, 'type': 'production'}, {'input': ('ecoinvent-3.9.1-biosphere', '349b29d1-3e58-4c66-98b9-9d1a076efd2e'), 'amount': 0.07287291045435983, 'type': 'biosphere', 'location': 'BR'}, {'input': ('ecoinvent-3.9.1-biosphere', '20185046-64bb-4c09-a8e7-e8a9e144ca98'), 'amount': 1.6867049991180094e-06, 'type': 'biosphere', 'location': 'BR'}, {'input': ('ecoinvent-3.9.1-biosphere', '0795345f-c7ae-410c-ad25-1845784c75f5'), 'amount': 4.314735678018653e-06, 'type': 'biosphere', 'location': 'BR'}]}\n",
      "13:47:51+0200 [warning  ] Not able to determine geocollections for all datasets. This database is not ready for regionalization.\n"
     ]
    },
    {
     "name": "stderr",
     "output_type": "stream",
     "text": [
      "100%|██████████| 1/1 [00:00<00:00, 989.69it/s]\n"
     ]
    },
    {
     "name": "stdout",
     "output_type": "stream",
     "text": [
      "13:47:51+0200 [info     ] Vacuuming database            \n",
      "BG\n",
      "{'name': 'process_5', 'exchanges': [{'input': ('Emissions', 'process_5'), 'amount': 1, 'type': 'production'}, {'input': ('ecoinvent-3.9.1-biosphere', '349b29d1-3e58-4c66-98b9-9d1a076efd2e'), 'amount': 0.04699133588697326, 'type': 'biosphere', 'location': 'BG'}, {'input': ('ecoinvent-3.9.1-biosphere', '20185046-64bb-4c09-a8e7-e8a9e144ca98'), 'amount': 9.995493967123477e-07, 'type': 'biosphere', 'location': 'BG'}, {'input': ('ecoinvent-3.9.1-biosphere', '0795345f-c7ae-410c-ad25-1845784c75f5'), 'amount': 1.3598999026334555e-06, 'type': 'biosphere', 'location': 'BG'}]}\n",
      "13:47:52+0200 [warning  ] Not able to determine geocollections for all datasets. This database is not ready for regionalization.\n"
     ]
    },
    {
     "name": "stderr",
     "output_type": "stream",
     "text": [
      "100%|██████████| 1/1 [00:00<?, ?it/s]\n"
     ]
    },
    {
     "name": "stdout",
     "output_type": "stream",
     "text": [
      "13:47:52+0200 [info     ] Vacuuming database            \n",
      "CA\n",
      "{'name': 'process_6', 'exchanges': [{'input': ('Emissions', 'process_6'), 'amount': 1, 'type': 'production'}, {'input': ('ecoinvent-3.9.1-biosphere', '349b29d1-3e58-4c66-98b9-9d1a076efd2e'), 'amount': 0.4858600157217599, 'type': 'biosphere', 'location': 'CA'}, {'input': ('ecoinvent-3.9.1-biosphere', '20185046-64bb-4c09-a8e7-e8a9e144ca98'), 'amount': 1.2287028323580558e-05, 'type': 'biosphere', 'location': 'CA'}, {'input': ('ecoinvent-3.9.1-biosphere', '0795345f-c7ae-410c-ad25-1845784c75f5'), 'amount': 2.8566196268622486e-05, 'type': 'biosphere', 'location': 'CA'}]}\n",
      "13:47:53+0200 [warning  ] Not able to determine geocollections for all datasets. This database is not ready for regionalization.\n"
     ]
    },
    {
     "name": "stderr",
     "output_type": "stream",
     "text": [
      "100%|██████████| 1/1 [00:00<00:00, 999.12it/s]\n"
     ]
    },
    {
     "name": "stdout",
     "output_type": "stream",
     "text": [
      "13:47:53+0200 [info     ] Vacuuming database            \n",
      "CN\n",
      "{'name': 'process_7', 'exchanges': [{'input': ('Emissions', 'process_7'), 'amount': 1, 'type': 'production'}, {'input': ('ecoinvent-3.9.1-biosphere', '349b29d1-3e58-4c66-98b9-9d1a076efd2e'), 'amount': 0.47972818680969065, 'type': 'biosphere', 'location': 'CN'}, {'input': ('ecoinvent-3.9.1-biosphere', '20185046-64bb-4c09-a8e7-e8a9e144ca98'), 'amount': 1.0369430496989536e-05, 'type': 'biosphere', 'location': 'CN'}, {'input': ('ecoinvent-3.9.1-biosphere', '0795345f-c7ae-410c-ad25-1845784c75f5'), 'amount': 2.064720452549329e-05, 'type': 'biosphere', 'location': 'CN'}]}\n",
      "13:47:53+0200 [warning  ] Not able to determine geocollections for all datasets. This database is not ready for regionalization.\n"
     ]
    },
    {
     "name": "stderr",
     "output_type": "stream",
     "text": [
      "100%|██████████| 1/1 [00:00<00:00, 999.60it/s]\n"
     ]
    },
    {
     "name": "stdout",
     "output_type": "stream",
     "text": [
      "13:47:53+0200 [info     ] Vacuuming database            \n",
      "CY\n",
      "{'name': 'process_8', 'exchanges': [{'input': ('Emissions', 'process_8'), 'amount': 1, 'type': 'production'}, {'input': ('ecoinvent-3.9.1-biosphere', '349b29d1-3e58-4c66-98b9-9d1a076efd2e'), 'amount': 0.009990372785826037, 'type': 'biosphere', 'location': 'CY'}, {'input': ('ecoinvent-3.9.1-biosphere', '20185046-64bb-4c09-a8e7-e8a9e144ca98'), 'amount': 1.9385410351386793e-07, 'type': 'biosphere', 'location': 'CY'}, {'input': ('ecoinvent-3.9.1-biosphere', '0795345f-c7ae-410c-ad25-1845784c75f5'), 'amount': 7.251885919508741e-07, 'type': 'biosphere', 'location': 'CY'}]}\n",
      "13:47:54+0200 [warning  ] Not able to determine geocollections for all datasets. This database is not ready for regionalization.\n"
     ]
    },
    {
     "name": "stderr",
     "output_type": "stream",
     "text": [
      "100%|██████████| 1/1 [00:00<00:00, 1012.38it/s]\n"
     ]
    },
    {
     "name": "stdout",
     "output_type": "stream",
     "text": [
      "13:47:54+0200 [info     ] Vacuuming database            \n",
      "CZ\n",
      "{'name': 'process_9', 'exchanges': [{'input': ('Emissions', 'process_9'), 'amount': 1, 'type': 'production'}, {'input': ('ecoinvent-3.9.1-biosphere', '349b29d1-3e58-4c66-98b9-9d1a076efd2e'), 'amount': 0.26975789601226713, 'type': 'biosphere', 'location': 'CZ'}, {'input': ('ecoinvent-3.9.1-biosphere', '20185046-64bb-4c09-a8e7-e8a9e144ca98'), 'amount': 6.95804524720992e-06, 'type': 'biosphere', 'location': 'CZ'}, {'input': ('ecoinvent-3.9.1-biosphere', '0795345f-c7ae-410c-ad25-1845784c75f5'), 'amount': 9.798228048034734e-06, 'type': 'biosphere', 'location': 'CZ'}]}\n",
      "13:47:55+0200 [warning  ] Not able to determine geocollections for all datasets. This database is not ready for regionalization.\n"
     ]
    },
    {
     "name": "stderr",
     "output_type": "stream",
     "text": [
      "100%|██████████| 1/1 [00:00<?, ?it/s]\n"
     ]
    },
    {
     "name": "stdout",
     "output_type": "stream",
     "text": [
      "13:47:55+0200 [info     ] Vacuuming database            \n",
      "DK\n",
      "{'name': 'process_10', 'exchanges': [{'input': ('Emissions', 'process_10'), 'amount': 1, 'type': 'production'}, {'input': ('ecoinvent-3.9.1-biosphere', '349b29d1-3e58-4c66-98b9-9d1a076efd2e'), 'amount': 0.11195115377169662, 'type': 'biosphere', 'location': 'DK'}, {'input': ('ecoinvent-3.9.1-biosphere', '20185046-64bb-4c09-a8e7-e8a9e144ca98'), 'amount': 2.496810049029626e-06, 'type': 'biosphere', 'location': 'DK'}, {'input': ('ecoinvent-3.9.1-biosphere', '0795345f-c7ae-410c-ad25-1845784c75f5'), 'amount': 3.4146457240304294e-06, 'type': 'biosphere', 'location': 'DK'}]}\n",
      "13:47:56+0200 [warning  ] Not able to determine geocollections for all datasets. This database is not ready for regionalization.\n"
     ]
    },
    {
     "name": "stderr",
     "output_type": "stream",
     "text": [
      "100%|██████████| 1/1 [00:00<?, ?it/s]\n"
     ]
    },
    {
     "name": "stdout",
     "output_type": "stream",
     "text": [
      "13:47:56+0200 [info     ] Vacuuming database            \n",
      "EE\n",
      "{'name': 'process_11', 'exchanges': [{'input': ('Emissions', 'process_11'), 'amount': 1, 'type': 'production'}, {'input': ('ecoinvent-3.9.1-biosphere', '349b29d1-3e58-4c66-98b9-9d1a076efd2e'), 'amount': 0.01927759780820342, 'type': 'biosphere', 'location': 'EE'}, {'input': ('ecoinvent-3.9.1-biosphere', '20185046-64bb-4c09-a8e7-e8a9e144ca98'), 'amount': 2.993639943404729e-07, 'type': 'biosphere', 'location': 'EE'}, {'input': ('ecoinvent-3.9.1-biosphere', '0795345f-c7ae-410c-ad25-1845784c75f5'), 'amount': 7.118567808588714e-07, 'type': 'biosphere', 'location': 'EE'}]}\n",
      "13:47:57+0200 [warning  ] Not able to determine geocollections for all datasets. This database is not ready for regionalization.\n"
     ]
    },
    {
     "name": "stderr",
     "output_type": "stream",
     "text": [
      "100%|██████████| 1/1 [00:00<?, ?it/s]\n"
     ]
    },
    {
     "name": "stdout",
     "output_type": "stream",
     "text": [
      "13:47:57+0200 [info     ] Vacuuming database            \n",
      "FI\n",
      "{'name': 'process_12', 'exchanges': [{'input': ('Emissions', 'process_12'), 'amount': 1, 'type': 'production'}, {'input': ('ecoinvent-3.9.1-biosphere', '349b29d1-3e58-4c66-98b9-9d1a076efd2e'), 'amount': 0.024065468084506277, 'type': 'biosphere', 'location': 'FI'}, {'input': ('ecoinvent-3.9.1-biosphere', '20185046-64bb-4c09-a8e7-e8a9e144ca98'), 'amount': 5.595800238507704e-07, 'type': 'biosphere', 'location': 'FI'}, {'input': ('ecoinvent-3.9.1-biosphere', '0795345f-c7ae-410c-ad25-1845784c75f5'), 'amount': 9.085869446797966e-07, 'type': 'biosphere', 'location': 'FI'}]}\n",
      "13:47:58+0200 [warning  ] Not able to determine geocollections for all datasets. This database is not ready for regionalization.\n"
     ]
    },
    {
     "name": "stderr",
     "output_type": "stream",
     "text": [
      "100%|██████████| 1/1 [00:00<?, ?it/s]\n"
     ]
    },
    {
     "name": "stdout",
     "output_type": "stream",
     "text": [
      "13:47:58+0200 [info     ] Vacuuming database            \n",
      "FR\n",
      "{'name': 'process_13', 'exchanges': [{'input': ('Emissions', 'process_13'), 'amount': 1, 'type': 'production'}, {'input': ('ecoinvent-3.9.1-biosphere', '349b29d1-3e58-4c66-98b9-9d1a076efd2e'), 'amount': 0.2067127056527326, 'type': 'biosphere', 'location': 'FR'}, {'input': ('ecoinvent-3.9.1-biosphere', '20185046-64bb-4c09-a8e7-e8a9e144ca98'), 'amount': 6.946800092437884e-06, 'type': 'biosphere', 'location': 'FR'}, {'input': ('ecoinvent-3.9.1-biosphere', '0795345f-c7ae-410c-ad25-1845784c75f5'), 'amount': 5.466278766500803e-06, 'type': 'biosphere', 'location': 'FR'}]}\n",
      "13:47:58+0200 [warning  ] Not able to determine geocollections for all datasets. This database is not ready for regionalization.\n"
     ]
    },
    {
     "name": "stderr",
     "output_type": "stream",
     "text": [
      "100%|██████████| 1/1 [00:00<00:00, 1024.50it/s]\n"
     ]
    },
    {
     "name": "stdout",
     "output_type": "stream",
     "text": [
      "13:47:59+0200 [info     ] Vacuuming database            \n",
      "DE\n",
      "{'name': 'process_14', 'exchanges': [{'input': ('Emissions', 'process_14'), 'amount': 1, 'type': 'production'}, {'input': ('ecoinvent-3.9.1-biosphere', '349b29d1-3e58-4c66-98b9-9d1a076efd2e'), 'amount': 0.422117503262369, 'type': 'biosphere', 'location': 'DE'}, {'input': ('ecoinvent-3.9.1-biosphere', '20185046-64bb-4c09-a8e7-e8a9e144ca98'), 'amount': 1.2113574421439335e-05, 'type': 'biosphere', 'location': 'DE'}, {'input': ('ecoinvent-3.9.1-biosphere', '0795345f-c7ae-410c-ad25-1845784c75f5'), 'amount': 1.4603144748247523e-05, 'type': 'biosphere', 'location': 'DE'}]}\n",
      "13:47:59+0200 [warning  ] Not able to determine geocollections for all datasets. This database is not ready for regionalization.\n"
     ]
    },
    {
     "name": "stderr",
     "output_type": "stream",
     "text": [
      "100%|██████████| 1/1 [00:00<?, ?it/s]\n"
     ]
    },
    {
     "name": "stdout",
     "output_type": "stream",
     "text": [
      "13:47:59+0200 [info     ] Vacuuming database            \n",
      "GR\n",
      "{'name': 'process_15', 'exchanges': [{'input': ('Emissions', 'process_15'), 'amount': 1, 'type': 'production'}, {'input': ('ecoinvent-3.9.1-biosphere', '349b29d1-3e58-4c66-98b9-9d1a076efd2e'), 'amount': 0.005875084528876872, 'type': 'biosphere', 'location': 'GR'}, {'input': ('ecoinvent-3.9.1-biosphere', '20185046-64bb-4c09-a8e7-e8a9e144ca98'), 'amount': 3.4112579626095686e-07, 'type': 'biosphere', 'location': 'GR'}, {'input': ('ecoinvent-3.9.1-biosphere', '0795345f-c7ae-410c-ad25-1845784c75f5'), 'amount': 2.445544023090232e-06, 'type': 'biosphere', 'location': 'GR'}]}\n",
      "13:48:00+0200 [warning  ] Not able to determine geocollections for all datasets. This database is not ready for regionalization.\n"
     ]
    },
    {
     "name": "stderr",
     "output_type": "stream",
     "text": [
      "100%|██████████| 1/1 [00:00<?, ?it/s]\n"
     ]
    },
    {
     "name": "stdout",
     "output_type": "stream",
     "text": [
      "13:48:00+0200 [info     ] Vacuuming database            \n",
      "HU\n",
      "{'name': 'process_16', 'exchanges': [{'input': ('Emissions', 'process_16'), 'amount': 1, 'type': 'production'}, {'input': ('ecoinvent-3.9.1-biosphere', '349b29d1-3e58-4c66-98b9-9d1a076efd2e'), 'amount': 0.44471401842555935, 'type': 'biosphere', 'location': 'HU'}, {'input': ('ecoinvent-3.9.1-biosphere', '20185046-64bb-4c09-a8e7-e8a9e144ca98'), 'amount': 9.91583034153216e-06, 'type': 'biosphere', 'location': 'HU'}, {'input': ('ecoinvent-3.9.1-biosphere', '0795345f-c7ae-410c-ad25-1845784c75f5'), 'amount': 1.7937181325777646e-05, 'type': 'biosphere', 'location': 'HU'}]}\n",
      "13:48:01+0200 [warning  ] Not able to determine geocollections for all datasets. This database is not ready for regionalization.\n"
     ]
    },
    {
     "name": "stderr",
     "output_type": "stream",
     "text": [
      "100%|██████████| 1/1 [00:00<?, ?it/s]\n"
     ]
    },
    {
     "name": "stdout",
     "output_type": "stream",
     "text": [
      "13:48:01+0200 [info     ] Vacuuming database            \n",
      "HR\n",
      "{'name': 'process_17', 'exchanges': [{'input': ('Emissions', 'process_17'), 'amount': 1, 'type': 'production'}, {'input': ('ecoinvent-3.9.1-biosphere', '349b29d1-3e58-4c66-98b9-9d1a076efd2e'), 'amount': 0.019820381983084348, 'type': 'biosphere', 'location': 'HR'}, {'input': ('ecoinvent-3.9.1-biosphere', '20185046-64bb-4c09-a8e7-e8a9e144ca98'), 'amount': 4.326547228588815e-07, 'type': 'biosphere', 'location': 'HR'}, {'input': ('ecoinvent-3.9.1-biosphere', '0795345f-c7ae-410c-ad25-1845784c75f5'), 'amount': 6.444809857868083e-07, 'type': 'biosphere', 'location': 'HR'}]}\n",
      "13:48:02+0200 [warning  ] Not able to determine geocollections for all datasets. This database is not ready for regionalization.\n"
     ]
    },
    {
     "name": "stderr",
     "output_type": "stream",
     "text": [
      "100%|██████████| 1/1 [00:00<?, ?it/s]\n"
     ]
    },
    {
     "name": "stdout",
     "output_type": "stream",
     "text": [
      "13:48:02+0200 [info     ] Vacuuming database            \n",
      "IN\n",
      "{'name': 'process_18', 'exchanges': [{'input': ('Emissions', 'process_18'), 'amount': 1, 'type': 'production'}, {'input': ('ecoinvent-3.9.1-biosphere', '349b29d1-3e58-4c66-98b9-9d1a076efd2e'), 'amount': 0.4501597315193748, 'type': 'biosphere', 'location': 'IN'}, {'input': ('ecoinvent-3.9.1-biosphere', '20185046-64bb-4c09-a8e7-e8a9e144ca98'), 'amount': 9.325226800932191e-06, 'type': 'biosphere', 'location': 'IN'}, {'input': ('ecoinvent-3.9.1-biosphere', '0795345f-c7ae-410c-ad25-1845784c75f5'), 'amount': 2.2009103472565638e-05, 'type': 'biosphere', 'location': 'IN'}]}\n",
      "13:48:03+0200 [warning  ] Not able to determine geocollections for all datasets. This database is not ready for regionalization.\n"
     ]
    },
    {
     "name": "stderr",
     "output_type": "stream",
     "text": [
      "100%|██████████| 1/1 [00:00<?, ?it/s]\n"
     ]
    },
    {
     "name": "stdout",
     "output_type": "stream",
     "text": [
      "13:48:03+0200 [info     ] Vacuuming database            \n",
      "ID\n",
      "{'name': 'process_19', 'exchanges': [{'input': ('Emissions', 'process_19'), 'amount': 1, 'type': 'production'}, {'input': ('ecoinvent-3.9.1-biosphere', '349b29d1-3e58-4c66-98b9-9d1a076efd2e'), 'amount': 0.7865501360637583, 'type': 'biosphere', 'location': 'ID'}, {'input': ('ecoinvent-3.9.1-biosphere', '20185046-64bb-4c09-a8e7-e8a9e144ca98'), 'amount': 1.7389283853875195e-05, 'type': 'biosphere', 'location': 'ID'}, {'input': ('ecoinvent-3.9.1-biosphere', '0795345f-c7ae-410c-ad25-1845784c75f5'), 'amount': 2.284130447315171e-05, 'type': 'biosphere', 'location': 'ID'}]}\n",
      "13:48:03+0200 [warning  ] Not able to determine geocollections for all datasets. This database is not ready for regionalization.\n"
     ]
    },
    {
     "name": "stderr",
     "output_type": "stream",
     "text": [
      "100%|██████████| 1/1 [00:00<?, ?it/s]\n"
     ]
    },
    {
     "name": "stdout",
     "output_type": "stream",
     "text": [
      "13:48:03+0200 [info     ] Vacuuming database            \n",
      "IE\n",
      "{'name': 'process_20', 'exchanges': [{'input': ('Emissions', 'process_20'), 'amount': 1, 'type': 'production'}, {'input': ('ecoinvent-3.9.1-biosphere', '349b29d1-3e58-4c66-98b9-9d1a076efd2e'), 'amount': 0.029939962908378054, 'type': 'biosphere', 'location': 'IE'}, {'input': ('ecoinvent-3.9.1-biosphere', '20185046-64bb-4c09-a8e7-e8a9e144ca98'), 'amount': 6.729213134252749e-07, 'type': 'biosphere', 'location': 'IE'}, {'input': ('ecoinvent-3.9.1-biosphere', '0795345f-c7ae-410c-ad25-1845784c75f5'), 'amount': 1.0743592548905946e-06, 'type': 'biosphere', 'location': 'IE'}]}\n",
      "13:48:04+0200 [warning  ] Not able to determine geocollections for all datasets. This database is not ready for regionalization.\n"
     ]
    },
    {
     "name": "stderr",
     "output_type": "stream",
     "text": [
      "100%|██████████| 1/1 [00:00<?, ?it/s]\n"
     ]
    },
    {
     "name": "stdout",
     "output_type": "stream",
     "text": [
      "13:48:04+0200 [info     ] Vacuuming database            \n",
      "IT\n",
      "{'name': 'process_21', 'exchanges': [{'input': ('Emissions', 'process_21'), 'amount': 1, 'type': 'production'}, {'input': ('ecoinvent-3.9.1-biosphere', '349b29d1-3e58-4c66-98b9-9d1a076efd2e'), 'amount': 0.22289608283076695, 'type': 'biosphere', 'location': 'IT'}, {'input': ('ecoinvent-3.9.1-biosphere', '20185046-64bb-4c09-a8e7-e8a9e144ca98'), 'amount': 6.490961235254639e-06, 'type': 'biosphere', 'location': 'IT'}, {'input': ('ecoinvent-3.9.1-biosphere', '0795345f-c7ae-410c-ad25-1845784c75f5'), 'amount': 6.887231324157245e-06, 'type': 'biosphere', 'location': 'IT'}]}\n",
      "13:48:04+0200 [warning  ] Not able to determine geocollections for all datasets. This database is not ready for regionalization.\n"
     ]
    },
    {
     "name": "stderr",
     "output_type": "stream",
     "text": [
      "100%|██████████| 1/1 [00:00<?, ?it/s]\n"
     ]
    },
    {
     "name": "stdout",
     "output_type": "stream",
     "text": [
      "13:48:05+0200 [info     ] Vacuuming database            \n",
      "JP\n",
      "{'name': 'process_22', 'exchanges': [{'input': ('Emissions', 'process_22'), 'amount': 1, 'type': 'production'}, {'input': ('ecoinvent-3.9.1-biosphere', '349b29d1-3e58-4c66-98b9-9d1a076efd2e'), 'amount': 0.04117219835289873, 'type': 'biosphere', 'location': 'JP'}, {'input': ('ecoinvent-3.9.1-biosphere', '20185046-64bb-4c09-a8e7-e8a9e144ca98'), 'amount': 1.0402019197640473e-06, 'type': 'biosphere', 'location': 'JP'}, {'input': ('ecoinvent-3.9.1-biosphere', '0795345f-c7ae-410c-ad25-1845784c75f5'), 'amount': 1.974264969880423e-06, 'type': 'biosphere', 'location': 'JP'}]}\n",
      "13:48:05+0200 [warning  ] Not able to determine geocollections for all datasets. This database is not ready for regionalization.\n"
     ]
    },
    {
     "name": "stderr",
     "output_type": "stream",
     "text": [
      "100%|██████████| 1/1 [00:00<?, ?it/s]\n"
     ]
    },
    {
     "name": "stdout",
     "output_type": "stream",
     "text": [
      "13:48:05+0200 [info     ] Vacuuming database            \n",
      "LV\n",
      "{'name': 'process_23', 'exchanges': [{'input': ('Emissions', 'process_23'), 'amount': 1, 'type': 'production'}, {'input': ('ecoinvent-3.9.1-biosphere', '349b29d1-3e58-4c66-98b9-9d1a076efd2e'), 'amount': 0.06208805067474895, 'type': 'biosphere', 'location': 'LV'}, {'input': ('ecoinvent-3.9.1-biosphere', '20185046-64bb-4c09-a8e7-e8a9e144ca98'), 'amount': 1.2654452639421517e-06, 'type': 'biosphere', 'location': 'LV'}, {'input': ('ecoinvent-3.9.1-biosphere', '0795345f-c7ae-410c-ad25-1845784c75f5'), 'amount': 2.116337029818542e-06, 'type': 'biosphere', 'location': 'LV'}]}\n",
      "13:48:06+0200 [warning  ] Not able to determine geocollections for all datasets. This database is not ready for regionalization.\n"
     ]
    },
    {
     "name": "stderr",
     "output_type": "stream",
     "text": [
      "100%|██████████| 1/1 [00:00<?, ?it/s]\n"
     ]
    },
    {
     "name": "stdout",
     "output_type": "stream",
     "text": [
      "13:48:06+0200 [info     ] Vacuuming database            \n",
      "LT\n",
      "{'name': 'process_24', 'exchanges': [{'input': ('Emissions', 'process_24'), 'amount': 1, 'type': 'production'}, {'input': ('ecoinvent-3.9.1-biosphere', '349b29d1-3e58-4c66-98b9-9d1a076efd2e'), 'amount': 0.12041228852708236, 'type': 'biosphere', 'location': 'LT'}, {'input': ('ecoinvent-3.9.1-biosphere', '20185046-64bb-4c09-a8e7-e8a9e144ca98'), 'amount': 2.425397346834733e-06, 'type': 'biosphere', 'location': 'LT'}, {'input': ('ecoinvent-3.9.1-biosphere', '0795345f-c7ae-410c-ad25-1845784c75f5'), 'amount': 3.448506083362192e-06, 'type': 'biosphere', 'location': 'LT'}]}\n",
      "13:48:07+0200 [warning  ] Not able to determine geocollections for all datasets. This database is not ready for regionalization.\n"
     ]
    },
    {
     "name": "stderr",
     "output_type": "stream",
     "text": [
      "100%|██████████| 1/1 [00:00<00:00, 681.89it/s]\n"
     ]
    },
    {
     "name": "stdout",
     "output_type": "stream",
     "text": [
      "13:48:07+0200 [info     ] Vacuuming database            \n",
      "LU\n",
      "{'name': 'process_25', 'exchanges': [{'input': ('Emissions', 'process_25'), 'amount': 1, 'type': 'production'}, {'input': ('ecoinvent-3.9.1-biosphere', '349b29d1-3e58-4c66-98b9-9d1a076efd2e'), 'amount': 0.018046340506189737, 'type': 'biosphere', 'location': 'LU'}, {'input': ('ecoinvent-3.9.1-biosphere', '20185046-64bb-4c09-a8e7-e8a9e144ca98'), 'amount': 6.557118168075003e-07, 'type': 'biosphere', 'location': 'LU'}, {'input': ('ecoinvent-3.9.1-biosphere', '0795345f-c7ae-410c-ad25-1845784c75f5'), 'amount': 5.612601612559741e-07, 'type': 'biosphere', 'location': 'LU'}]}\n",
      "13:48:08+0200 [warning  ] Not able to determine geocollections for all datasets. This database is not ready for regionalization.\n"
     ]
    },
    {
     "name": "stderr",
     "output_type": "stream",
     "text": [
      "100%|██████████| 1/1 [00:00<00:00, 213.11it/s]\n"
     ]
    },
    {
     "name": "stdout",
     "output_type": "stream",
     "text": [
      "13:48:08+0200 [info     ] Vacuuming database            \n",
      "MT\n",
      "{'name': 'process_26', 'exchanges': [{'input': ('Emissions', 'process_26'), 'amount': 1, 'type': 'production'}, {'input': ('ecoinvent-3.9.1-biosphere', '349b29d1-3e58-4c66-98b9-9d1a076efd2e'), 'amount': 0.00210108627016521, 'type': 'biosphere', 'location': 'MT'}, {'input': ('ecoinvent-3.9.1-biosphere', '20185046-64bb-4c09-a8e7-e8a9e144ca98'), 'amount': 4.7315387299099945e-08, 'type': 'biosphere', 'location': 'MT'}, {'input': ('ecoinvent-3.9.1-biosphere', '0795345f-c7ae-410c-ad25-1845784c75f5'), 'amount': 7.248865280014965e-08, 'type': 'biosphere', 'location': 'MT'}]}\n",
      "13:48:10+0200 [warning  ] Not able to determine geocollections for all datasets. This database is not ready for regionalization.\n"
     ]
    },
    {
     "name": "stderr",
     "output_type": "stream",
     "text": [
      "100%|██████████| 1/1 [00:00<?, ?it/s]\n"
     ]
    },
    {
     "name": "stdout",
     "output_type": "stream",
     "text": [
      "13:48:10+0200 [info     ] Vacuuming database            \n",
      "MX\n",
      "{'name': 'process_27', 'exchanges': [{'input': ('Emissions', 'process_27'), 'amount': 1, 'type': 'production'}, {'input': ('ecoinvent-3.9.1-biosphere', '349b29d1-3e58-4c66-98b9-9d1a076efd2e'), 'amount': 0.05398985800865272, 'type': 'biosphere', 'location': 'MX'}, {'input': ('ecoinvent-3.9.1-biosphere', '20185046-64bb-4c09-a8e7-e8a9e144ca98'), 'amount': 1.1549989637088237e-06, 'type': 'biosphere', 'location': 'MX'}, {'input': ('ecoinvent-3.9.1-biosphere', '0795345f-c7ae-410c-ad25-1845784c75f5'), 'amount': 2.257529121199219e-06, 'type': 'biosphere', 'location': 'MX'}]}\n",
      "13:48:11+0200 [warning  ] Not able to determine geocollections for all datasets. This database is not ready for regionalization.\n"
     ]
    },
    {
     "name": "stderr",
     "output_type": "stream",
     "text": [
      "100%|██████████| 1/1 [00:00<00:00, 996.98it/s]\n"
     ]
    },
    {
     "name": "stdout",
     "output_type": "stream",
     "text": [
      "13:48:11+0200 [info     ] Vacuuming database            \n",
      "NL\n",
      "{'name': 'process_28', 'exchanges': [{'input': ('Emissions', 'process_28'), 'amount': 1, 'type': 'production'}, {'input': ('ecoinvent-3.9.1-biosphere', '349b29d1-3e58-4c66-98b9-9d1a076efd2e'), 'amount': 0.32045762202196787, 'type': 'biosphere', 'location': 'NL'}, {'input': ('ecoinvent-3.9.1-biosphere', '20185046-64bb-4c09-a8e7-e8a9e144ca98'), 'amount': 8.749446816223583e-06, 'type': 'biosphere', 'location': 'NL'}, {'input': ('ecoinvent-3.9.1-biosphere', '0795345f-c7ae-410c-ad25-1845784c75f5'), 'amount': 7.492645957729684e-06, 'type': 'biosphere', 'location': 'NL'}]}\n",
      "13:48:12+0200 [warning  ] Not able to determine geocollections for all datasets. This database is not ready for regionalization.\n"
     ]
    },
    {
     "name": "stderr",
     "output_type": "stream",
     "text": [
      "100%|██████████| 1/1 [00:00<00:00, 1004.86it/s]\n"
     ]
    },
    {
     "name": "stdout",
     "output_type": "stream",
     "text": [
      "13:48:12+0200 [info     ] Vacuuming database            \n",
      "NO\n",
      "{'name': 'process_29', 'exchanges': [{'input': ('Emissions', 'process_29'), 'amount': 1, 'type': 'production'}, {'input': ('ecoinvent-3.9.1-biosphere', '349b29d1-3e58-4c66-98b9-9d1a076efd2e'), 'amount': 0.03311001427529825, 'type': 'biosphere', 'location': 'NO'}, {'input': ('ecoinvent-3.9.1-biosphere', '20185046-64bb-4c09-a8e7-e8a9e144ca98'), 'amount': 9.294652682475352e-07, 'type': 'biosphere', 'location': 'NO'}, {'input': ('ecoinvent-3.9.1-biosphere', '0795345f-c7ae-410c-ad25-1845784c75f5'), 'amount': 8.778211966232495e-07, 'type': 'biosphere', 'location': 'NO'}]}\n",
      "13:48:13+0200 [warning  ] Not able to determine geocollections for all datasets. This database is not ready for regionalization.\n"
     ]
    },
    {
     "name": "stderr",
     "output_type": "stream",
     "text": [
      "100%|██████████| 1/1 [00:00<?, ?it/s]\n"
     ]
    },
    {
     "name": "stdout",
     "output_type": "stream",
     "text": [
      "13:48:13+0200 [info     ] Vacuuming database            \n",
      "PL\n",
      "{'name': 'process_30', 'exchanges': [{'input': ('Emissions', 'process_30'), 'amount': 1, 'type': 'production'}, {'input': ('ecoinvent-3.9.1-biosphere', '349b29d1-3e58-4c66-98b9-9d1a076efd2e'), 'amount': 2.943463865753392, 'type': 'biosphere', 'location': 'PL'}, {'input': ('ecoinvent-3.9.1-biosphere', '20185046-64bb-4c09-a8e7-e8a9e144ca98'), 'amount': 0.00011492577468474485, 'type': 'biosphere', 'location': 'PL'}, {'input': ('ecoinvent-3.9.1-biosphere', '0795345f-c7ae-410c-ad25-1845784c75f5'), 'amount': 0.0007261497704872165, 'type': 'biosphere', 'location': 'PL'}]}\n",
      "13:48:14+0200 [warning  ] Not able to determine geocollections for all datasets. This database is not ready for regionalization.\n"
     ]
    },
    {
     "name": "stderr",
     "output_type": "stream",
     "text": [
      "100%|██████████| 1/1 [00:00<?, ?it/s]\n"
     ]
    },
    {
     "name": "stdout",
     "output_type": "stream",
     "text": [
      "13:48:14+0200 [info     ] Vacuuming database            \n",
      "PT\n",
      "{'name': 'process_31', 'exchanges': [{'input': ('Emissions', 'process_31'), 'amount': 1, 'type': 'production'}, {'input': ('ecoinvent-3.9.1-biosphere', '349b29d1-3e58-4c66-98b9-9d1a076efd2e'), 'amount': 0.08075935796473181, 'type': 'biosphere', 'location': 'PT'}, {'input': ('ecoinvent-3.9.1-biosphere', '20185046-64bb-4c09-a8e7-e8a9e144ca98'), 'amount': 2.6478794590781526e-06, 'type': 'biosphere', 'location': 'PT'}, {'input': ('ecoinvent-3.9.1-biosphere', '0795345f-c7ae-410c-ad25-1845784c75f5'), 'amount': 2.4523294959021894e-06, 'type': 'biosphere', 'location': 'PT'}]}\n",
      "13:48:14+0200 [warning  ] Not able to determine geocollections for all datasets. This database is not ready for regionalization.\n"
     ]
    },
    {
     "name": "stderr",
     "output_type": "stream",
     "text": [
      "100%|██████████| 1/1 [00:00<?, ?it/s]\n"
     ]
    },
    {
     "name": "stdout",
     "output_type": "stream",
     "text": [
      "13:48:14+0200 [info     ] Vacuuming database            \n",
      "RO\n",
      "{'name': 'process_32', 'exchanges': [{'input': ('Emissions', 'process_32'), 'amount': 1, 'type': 'production'}, {'input': ('ecoinvent-3.9.1-biosphere', '349b29d1-3e58-4c66-98b9-9d1a076efd2e'), 'amount': 0.09386119872786418, 'type': 'biosphere', 'location': 'RO'}, {'input': ('ecoinvent-3.9.1-biosphere', '20185046-64bb-4c09-a8e7-e8a9e144ca98'), 'amount': 2.125408763827738e-06, 'type': 'biosphere', 'location': 'RO'}, {'input': ('ecoinvent-3.9.1-biosphere', '0795345f-c7ae-410c-ad25-1845784c75f5'), 'amount': 3.154560393204446e-06, 'type': 'biosphere', 'location': 'RO'}]}\n",
      "13:48:15+0200 [warning  ] Not able to determine geocollections for all datasets. This database is not ready for regionalization.\n"
     ]
    },
    {
     "name": "stderr",
     "output_type": "stream",
     "text": [
      "100%|██████████| 1/1 [00:00<?, ?it/s]\n"
     ]
    },
    {
     "name": "stdout",
     "output_type": "stream",
     "text": [
      "13:48:15+0200 [info     ] Vacuuming database            \n",
      "RU\n",
      "{'name': 'process_33', 'exchanges': [{'input': ('Emissions', 'process_33'), 'amount': 1, 'type': 'production'}, {'input': ('ecoinvent-3.9.1-biosphere', '349b29d1-3e58-4c66-98b9-9d1a076efd2e'), 'amount': 0.19256099663906717, 'type': 'biosphere', 'location': 'RU'}, {'input': ('ecoinvent-3.9.1-biosphere', '20185046-64bb-4c09-a8e7-e8a9e144ca98'), 'amount': 4.6058972256827854e-06, 'type': 'biosphere', 'location': 'RU'}, {'input': ('ecoinvent-3.9.1-biosphere', '0795345f-c7ae-410c-ad25-1845784c75f5'), 'amount': 9.787232607279771e-06, 'type': 'biosphere', 'location': 'RU'}]}\n",
      "13:48:16+0200 [warning  ] Not able to determine geocollections for all datasets. This database is not ready for regionalization.\n"
     ]
    },
    {
     "name": "stderr",
     "output_type": "stream",
     "text": [
      "100%|██████████| 1/1 [00:00<00:00, 1001.74it/s]\n"
     ]
    },
    {
     "name": "stdout",
     "output_type": "stream",
     "text": [
      "13:48:16+0200 [info     ] Vacuuming database            \n",
      "SK\n",
      "{'name': 'process_34', 'exchanges': [{'input': ('Emissions', 'process_34'), 'amount': 1, 'type': 'production'}, {'input': ('ecoinvent-3.9.1-biosphere', '349b29d1-3e58-4c66-98b9-9d1a076efd2e'), 'amount': 0.11319619846183762, 'type': 'biosphere', 'location': 'SK'}, {'input': ('ecoinvent-3.9.1-biosphere', '20185046-64bb-4c09-a8e7-e8a9e144ca98'), 'amount': 2.142272247949816e-06, 'type': 'biosphere', 'location': 'SK'}, {'input': ('ecoinvent-3.9.1-biosphere', '0795345f-c7ae-410c-ad25-1845784c75f5'), 'amount': 5.129329523103201e-06, 'type': 'biosphere', 'location': 'SK'}]}\n",
      "13:48:17+0200 [warning  ] Not able to determine geocollections for all datasets. This database is not ready for regionalization.\n"
     ]
    },
    {
     "name": "stderr",
     "output_type": "stream",
     "text": [
      "100%|██████████| 1/1 [00:00<?, ?it/s]\n"
     ]
    },
    {
     "name": "stdout",
     "output_type": "stream",
     "text": [
      "13:48:17+0200 [info     ] Vacuuming database            \n",
      "SI\n",
      "{'name': 'process_35', 'exchanges': [{'input': ('Emissions', 'process_35'), 'amount': 1, 'type': 'production'}, {'input': ('ecoinvent-3.9.1-biosphere', '349b29d1-3e58-4c66-98b9-9d1a076efd2e'), 'amount': 0.06725169368244646, 'type': 'biosphere', 'location': 'SI'}, {'input': ('ecoinvent-3.9.1-biosphere', '20185046-64bb-4c09-a8e7-e8a9e144ca98'), 'amount': 1.3964804416957304e-06, 'type': 'biosphere', 'location': 'SI'}, {'input': ('ecoinvent-3.9.1-biosphere', '0795345f-c7ae-410c-ad25-1845784c75f5'), 'amount': 2.9524828078809953e-06, 'type': 'biosphere', 'location': 'SI'}]}\n",
      "13:48:17+0200 [warning  ] Not able to determine geocollections for all datasets. This database is not ready for regionalization.\n"
     ]
    },
    {
     "name": "stderr",
     "output_type": "stream",
     "text": [
      "100%|██████████| 1/1 [00:00<?, ?it/s]\n"
     ]
    },
    {
     "name": "stdout",
     "output_type": "stream",
     "text": [
      "13:48:17+0200 [info     ] Vacuuming database            \n",
      "ZA\n",
      "{'name': 'process_36', 'exchanges': [{'input': ('Emissions', 'process_36'), 'amount': 1, 'type': 'production'}, {'input': ('ecoinvent-3.9.1-biosphere', '349b29d1-3e58-4c66-98b9-9d1a076efd2e'), 'amount': 0.07071646858292663, 'type': 'biosphere', 'location': 'ZA'}, {'input': ('ecoinvent-3.9.1-biosphere', '20185046-64bb-4c09-a8e7-e8a9e144ca98'), 'amount': 1.4449144047788932e-06, 'type': 'biosphere', 'location': 'ZA'}, {'input': ('ecoinvent-3.9.1-biosphere', '0795345f-c7ae-410c-ad25-1845784c75f5'), 'amount': 3.6534195729933e-06, 'type': 'biosphere', 'location': 'ZA'}]}\n",
      "13:48:18+0200 [warning  ] Not able to determine geocollections for all datasets. This database is not ready for regionalization.\n"
     ]
    },
    {
     "name": "stderr",
     "output_type": "stream",
     "text": [
      "100%|██████████| 1/1 [00:00<?, ?it/s]\n"
     ]
    },
    {
     "name": "stdout",
     "output_type": "stream",
     "text": [
      "13:48:18+0200 [info     ] Vacuuming database            \n",
      "KR\n",
      "{'name': 'process_37', 'exchanges': [{'input': ('Emissions', 'process_37'), 'amount': 1, 'type': 'production'}, {'input': ('ecoinvent-3.9.1-biosphere', '349b29d1-3e58-4c66-98b9-9d1a076efd2e'), 'amount': 0.08477336177314451, 'type': 'biosphere', 'location': 'KR'}, {'input': ('ecoinvent-3.9.1-biosphere', '20185046-64bb-4c09-a8e7-e8a9e144ca98'), 'amount': 2.3505234090442053e-06, 'type': 'biosphere', 'location': 'KR'}, {'input': ('ecoinvent-3.9.1-biosphere', '0795345f-c7ae-410c-ad25-1845784c75f5'), 'amount': 3.468241032659109e-06, 'type': 'biosphere', 'location': 'KR'}]}\n",
      "13:48:19+0200 [warning  ] Not able to determine geocollections for all datasets. This database is not ready for regionalization.\n"
     ]
    },
    {
     "name": "stderr",
     "output_type": "stream",
     "text": [
      "100%|██████████| 1/1 [00:00<00:00, 999.36it/s]\n"
     ]
    },
    {
     "name": "stdout",
     "output_type": "stream",
     "text": [
      "13:48:19+0200 [info     ] Vacuuming database            \n",
      "ES\n",
      "{'name': 'process_38', 'exchanges': [{'input': ('Emissions', 'process_38'), 'amount': 1, 'type': 'production'}, {'input': ('ecoinvent-3.9.1-biosphere', '349b29d1-3e58-4c66-98b9-9d1a076efd2e'), 'amount': 0.11873520695501955, 'type': 'biosphere', 'location': 'ES'}, {'input': ('ecoinvent-3.9.1-biosphere', '20185046-64bb-4c09-a8e7-e8a9e144ca98'), 'amount': 4.895410309214514e-06, 'type': 'biosphere', 'location': 'ES'}, {'input': ('ecoinvent-3.9.1-biosphere', '0795345f-c7ae-410c-ad25-1845784c75f5'), 'amount': 8.402051152590112e-06, 'type': 'biosphere', 'location': 'ES'}]}\n",
      "13:48:19+0200 [warning  ] Not able to determine geocollections for all datasets. This database is not ready for regionalization.\n"
     ]
    },
    {
     "name": "stderr",
     "output_type": "stream",
     "text": [
      "100%|██████████| 1/1 [00:00<00:00, 1000.79it/s]\n"
     ]
    },
    {
     "name": "stdout",
     "output_type": "stream",
     "text": [
      "13:48:19+0200 [info     ] Vacuuming database            \n",
      "SE\n",
      "{'name': 'process_39', 'exchanges': [{'input': ('Emissions', 'process_39'), 'amount': 1, 'type': 'production'}, {'input': ('ecoinvent-3.9.1-biosphere', '349b29d1-3e58-4c66-98b9-9d1a076efd2e'), 'amount': 0.12986188087573985, 'type': 'biosphere', 'location': 'SE'}, {'input': ('ecoinvent-3.9.1-biosphere', '20185046-64bb-4c09-a8e7-e8a9e144ca98'), 'amount': 3.21915035184831e-06, 'type': 'biosphere', 'location': 'SE'}, {'input': ('ecoinvent-3.9.1-biosphere', '0795345f-c7ae-410c-ad25-1845784c75f5'), 'amount': 4.306755299907919e-06, 'type': 'biosphere', 'location': 'SE'}]}\n",
      "13:48:20+0200 [warning  ] Not able to determine geocollections for all datasets. This database is not ready for regionalization.\n"
     ]
    },
    {
     "name": "stderr",
     "output_type": "stream",
     "text": [
      "100%|██████████| 1/1 [00:00<?, ?it/s]\n"
     ]
    },
    {
     "name": "stdout",
     "output_type": "stream",
     "text": [
      "13:48:20+0200 [info     ] Vacuuming database            \n",
      "CH\n",
      "{'name': 'process_40', 'exchanges': [{'input': ('Emissions', 'process_40'), 'amount': 1, 'type': 'production'}, {'input': ('ecoinvent-3.9.1-biosphere', '349b29d1-3e58-4c66-98b9-9d1a076efd2e'), 'amount': 0.03816838337917928, 'type': 'biosphere', 'location': 'CH'}, {'input': ('ecoinvent-3.9.1-biosphere', '20185046-64bb-4c09-a8e7-e8a9e144ca98'), 'amount': 8.901110015635516e-07, 'type': 'biosphere', 'location': 'CH'}, {'input': ('ecoinvent-3.9.1-biosphere', '0795345f-c7ae-410c-ad25-1845784c75f5'), 'amount': 8.637984158832297e-07, 'type': 'biosphere', 'location': 'CH'}]}\n",
      "13:48:21+0200 [warning  ] Not able to determine geocollections for all datasets. This database is not ready for regionalization.\n"
     ]
    },
    {
     "name": "stderr",
     "output_type": "stream",
     "text": [
      "100%|██████████| 1/1 [00:00<00:00, 968.66it/s]\n"
     ]
    },
    {
     "name": "stdout",
     "output_type": "stream",
     "text": [
      "13:48:21+0200 [info     ] Vacuuming database            \n",
      "TR\n",
      "{'name': 'process_41', 'exchanges': [{'input': ('Emissions', 'process_41'), 'amount': 1, 'type': 'production'}, {'input': ('ecoinvent-3.9.1-biosphere', '349b29d1-3e58-4c66-98b9-9d1a076efd2e'), 'amount': 0.076440484173143, 'type': 'biosphere', 'location': 'TR'}, {'input': ('ecoinvent-3.9.1-biosphere', '20185046-64bb-4c09-a8e7-e8a9e144ca98'), 'amount': 1.791051849817077e-06, 'type': 'biosphere', 'location': 'TR'}, {'input': ('ecoinvent-3.9.1-biosphere', '0795345f-c7ae-410c-ad25-1845784c75f5'), 'amount': 2.8425399338070727e-06, 'type': 'biosphere', 'location': 'TR'}]}\n",
      "13:48:22+0200 [warning  ] Not able to determine geocollections for all datasets. This database is not ready for regionalization.\n"
     ]
    },
    {
     "name": "stderr",
     "output_type": "stream",
     "text": [
      "100%|██████████| 1/1 [00:00<?, ?it/s]\n"
     ]
    },
    {
     "name": "stdout",
     "output_type": "stream",
     "text": [
      "13:48:22+0200 [info     ] Vacuuming database            \n",
      "GB\n",
      "{'name': 'process_42', 'exchanges': [{'input': ('Emissions', 'process_42'), 'amount': 1, 'type': 'production'}, {'input': ('ecoinvent-3.9.1-biosphere', '349b29d1-3e58-4c66-98b9-9d1a076efd2e'), 'amount': 0.0022500515635055503, 'type': 'biosphere', 'location': 'GB'}, {'input': ('ecoinvent-3.9.1-biosphere', '20185046-64bb-4c09-a8e7-e8a9e144ca98'), 'amount': 3.872823021768587e-08, 'type': 'biosphere', 'location': 'GB'}, {'input': ('ecoinvent-3.9.1-biosphere', '0795345f-c7ae-410c-ad25-1845784c75f5'), 'amount': 2.0500785325220223e-07, 'type': 'biosphere', 'location': 'GB'}]}\n",
      "13:48:22+0200 [warning  ] Not able to determine geocollections for all datasets. This database is not ready for regionalization.\n"
     ]
    },
    {
     "name": "stderr",
     "output_type": "stream",
     "text": [
      "100%|██████████| 1/1 [00:00<?, ?it/s]\n"
     ]
    },
    {
     "name": "stdout",
     "output_type": "stream",
     "text": [
      "13:48:22+0200 [info     ] Vacuuming database            \n",
      "US\n",
      "{'name': 'process_43', 'exchanges': [{'input': ('Emissions', 'process_43'), 'amount': 1, 'type': 'production'}, {'input': ('ecoinvent-3.9.1-biosphere', '349b29d1-3e58-4c66-98b9-9d1a076efd2e'), 'amount': 1.252196791988094, 'type': 'biosphere', 'location': 'US'}, {'input': ('ecoinvent-3.9.1-biosphere', '20185046-64bb-4c09-a8e7-e8a9e144ca98'), 'amount': 3.197603573612231e-05, 'type': 'biosphere', 'location': 'US'}, {'input': ('ecoinvent-3.9.1-biosphere', '0795345f-c7ae-410c-ad25-1845784c75f5'), 'amount': 8.415950422656861e-05, 'type': 'biosphere', 'location': 'US'}]}\n",
      "13:48:23+0200 [warning  ] Not able to determine geocollections for all datasets. This database is not ready for regionalization.\n"
     ]
    },
    {
     "name": "stderr",
     "output_type": "stream",
     "text": [
      "100%|██████████| 1/1 [00:00<?, ?it/s]\n"
     ]
    },
    {
     "name": "stdout",
     "output_type": "stream",
     "text": [
      "13:48:23+0200 [info     ] Vacuuming database            \n",
      "WA\n",
      "{'name': 'process_44', 'exchanges': [{'input': ('Emissions', 'process_44'), 'amount': 1, 'type': 'production'}, {'input': ('ecoinvent-3.9.1-biosphere', '349b29d1-3e58-4c66-98b9-9d1a076efd2e'), 'amount': 3.9279724495898924, 'type': 'biosphere', 'location': 'WA'}, {'input': ('ecoinvent-3.9.1-biosphere', '20185046-64bb-4c09-a8e7-e8a9e144ca98'), 'amount': 8.520576086462193e-05, 'type': 'biosphere', 'location': 'WA'}, {'input': ('ecoinvent-3.9.1-biosphere', '0795345f-c7ae-410c-ad25-1845784c75f5'), 'amount': 0.0001666895088365268, 'type': 'biosphere', 'location': 'WA'}]}\n",
      "13:48:23+0200 [warning  ] Not able to determine geocollections for all datasets. This database is not ready for regionalization.\n"
     ]
    },
    {
     "name": "stderr",
     "output_type": "stream",
     "text": [
      "100%|██████████| 1/1 [00:00<?, ?it/s]\n"
     ]
    },
    {
     "name": "stdout",
     "output_type": "stream",
     "text": [
      "13:48:23+0200 [info     ] Vacuuming database            \n",
      "WL\n",
      "{'name': 'process_45', 'exchanges': [{'input': ('Emissions', 'process_45'), 'amount': 1, 'type': 'production'}, {'input': ('ecoinvent-3.9.1-biosphere', '349b29d1-3e58-4c66-98b9-9d1a076efd2e'), 'amount': 0.8170133504493026, 'type': 'biosphere', 'location': 'WL'}, {'input': ('ecoinvent-3.9.1-biosphere', '20185046-64bb-4c09-a8e7-e8a9e144ca98'), 'amount': 1.7444718862047953e-05, 'type': 'biosphere', 'location': 'WL'}, {'input': ('ecoinvent-3.9.1-biosphere', '0795345f-c7ae-410c-ad25-1845784c75f5'), 'amount': 4.759167295754197e-05, 'type': 'biosphere', 'location': 'WL'}]}\n",
      "13:48:24+0200 [warning  ] Not able to determine geocollections for all datasets. This database is not ready for regionalization.\n"
     ]
    },
    {
     "name": "stderr",
     "output_type": "stream",
     "text": [
      "100%|██████████| 1/1 [00:00<?, ?it/s]\n"
     ]
    },
    {
     "name": "stdout",
     "output_type": "stream",
     "text": [
      "13:48:24+0200 [info     ] Vacuuming database            \n",
      "WE\n",
      "{'name': 'process_46', 'exchanges': [{'input': ('Emissions', 'process_46'), 'amount': 1, 'type': 'production'}, {'input': ('ecoinvent-3.9.1-biosphere', '349b29d1-3e58-4c66-98b9-9d1a076efd2e'), 'amount': 0.4334558849000931, 'type': 'biosphere', 'location': 'WE'}, {'input': ('ecoinvent-3.9.1-biosphere', '20185046-64bb-4c09-a8e7-e8a9e144ca98'), 'amount': 9.407662763307965e-06, 'type': 'biosphere', 'location': 'WE'}, {'input': ('ecoinvent-3.9.1-biosphere', '0795345f-c7ae-410c-ad25-1845784c75f5'), 'amount': 1.5983077908968433e-05, 'type': 'biosphere', 'location': 'WE'}]}\n",
      "13:48:25+0200 [warning  ] Not able to determine geocollections for all datasets. This database is not ready for regionalization.\n"
     ]
    },
    {
     "name": "stderr",
     "output_type": "stream",
     "text": [
      "100%|██████████| 1/1 [00:00<?, ?it/s]\n"
     ]
    },
    {
     "name": "stdout",
     "output_type": "stream",
     "text": [
      "13:48:25+0200 [info     ] Vacuuming database            \n",
      "WF\n",
      "{'name': 'process_47', 'exchanges': [{'input': ('Emissions', 'process_47'), 'amount': 1, 'type': 'production'}, {'input': ('ecoinvent-3.9.1-biosphere', '349b29d1-3e58-4c66-98b9-9d1a076efd2e'), 'amount': 1.8772513953881738, 'type': 'biosphere', 'location': 'WF'}, {'input': ('ecoinvent-3.9.1-biosphere', '20185046-64bb-4c09-a8e7-e8a9e144ca98'), 'amount': 3.9842130355600855e-05, 'type': 'biosphere', 'location': 'WF'}, {'input': ('ecoinvent-3.9.1-biosphere', '0795345f-c7ae-410c-ad25-1845784c75f5'), 'amount': 7.929943312499926e-05, 'type': 'biosphere', 'location': 'WF'}]}\n",
      "13:48:26+0200 [warning  ] Not able to determine geocollections for all datasets. This database is not ready for regionalization.\n"
     ]
    },
    {
     "name": "stderr",
     "output_type": "stream",
     "text": [
      "100%|██████████| 1/1 [00:00<?, ?it/s]\n"
     ]
    },
    {
     "name": "stdout",
     "output_type": "stream",
     "text": [
      "13:48:26+0200 [info     ] Vacuuming database            \n",
      "WM\n",
      "{'name': 'process_48', 'exchanges': [{'input': ('Emissions', 'process_48'), 'amount': 1, 'type': 'production'}, {'input': ('ecoinvent-3.9.1-biosphere', '349b29d1-3e58-4c66-98b9-9d1a076efd2e'), 'amount': 0.5349112491017813, 'type': 'biosphere', 'location': 'WM'}, {'input': ('ecoinvent-3.9.1-biosphere', '20185046-64bb-4c09-a8e7-e8a9e144ca98'), 'amount': 0.0, 'type': 'biosphere', 'location': 'WM'}, {'input': ('ecoinvent-3.9.1-biosphere', '0795345f-c7ae-410c-ad25-1845784c75f5'), 'amount': 0.0, 'type': 'biosphere', 'location': 'WM'}]}\n",
      "13:48:27+0200 [warning  ] Not able to determine geocollections for all datasets. This database is not ready for regionalization.\n"
     ]
    },
    {
     "name": "stderr",
     "output_type": "stream",
     "text": [
      "100%|██████████| 1/1 [00:00<?, ?it/s]\n"
     ]
    },
    {
     "name": "stdout",
     "output_type": "stream",
     "text": [
      "13:48:27+0200 [info     ] Vacuuming database            \n"
     ]
    }
   ],
   "source": [
    "M_eq_trucks_3_metal=[]\n",
    "flag=0\n",
    "for i, region in impact_trucks_c_metal.items(): #Creating a proccess with emissions\n",
    "    flag=flag+1\n",
    "    print(i)\n",
    "    process_data={'name':f\"process_{flag}\" ,\n",
    "            'exchanges': [\n",
    "                {'input': (\"Emissions\", f\"process_{flag}\"), 'amount': 1, 'type': 'production'},\n",
    "                {'input': co2_key, 'amount': impact_trucks_c_metal.loc[('Carbon dioxide, fossil','tonnes','air'),i]*1000, 'type': 'biosphere', 'location': i},#to add the emissions of each activity\n",
    "                {'input': n2o_key, 'amount': impact_trucks_c_metal.loc[('N2O','tonnes','air'),i]*1000, 'type': 'biosphere', 'location': i},\n",
    "                {'input': ch4_key, 'amount': impact_trucks_c_metal.loc[('CH4','tonnes','air'),i]*1000, 'type': 'biosphere', 'location': i}\n",
    "            ]\n",
    "        }\n",
    "    print(process_data)\n",
    "    bd.Database(\"Emissions\").write({(\"Emissions\", f\"process_{flag}\"): process_data}) #To add in database\n",
    "    demand_i={(\"Emissions\", f\"process_{flag}\"):1} #1 as functional unit\n",
    "    value=bc.lca.LCA(demand_i,method_chosen) \n",
    "    value.lci(factorize=True) #with factorization false doesn't work\n",
    "    value.lcia()\n",
    "\n",
    "\n",
    "    M_eq_trucks_3_metal.append(value.score/1000) #to store the equivalent emissions in M_eq_val in tonnes\n",
    "\n",
    "M_eq_trucks_3_metal=pd.DataFrame(M_eq_trucks_3_metal)\n",
    "M_eq_trucks_3_metal.index=impact_trucks_c_metal.columns\n",
    "M_eq_trucks_3_metal.columns=[\"CO2-eq\"] #To name the columns"
   ]
  },
  {
   "cell_type": "code",
   "execution_count": 171,
   "id": "832e4c86",
   "metadata": {},
   "outputs": [
    {
     "data": {
      "text/plain": [
       "(48,)"
      ]
     },
     "execution_count": 171,
     "metadata": {},
     "output_type": "execute_result"
    }
   ],
   "source": [
    "M_eq_boats_2_metal.shape"
   ]
  },
  {
   "cell_type": "markdown",
   "id": "ce3f5e87",
   "metadata": {},
   "source": [
    "# Figures"
   ]
  },
  {
   "cell_type": "code",
   "execution_count": 156,
   "id": "c702d9fd",
   "metadata": {},
   "outputs": [],
   "source": [
    "import matplotlib.pyplot as plt\n",
    "import matplotlib.cm as cm\n",
    "\n",
    "plt.rcParams['font.family']='Times New Roman' #I prefere this font, you can change it\n",
    "plt.rcParams['font.size']=12"
   ]
  },
  {
   "cell_type": "markdown",
   "id": "96cf3aeb",
   "metadata": {},
   "source": [
    "Sector graph of impacts produced"
   ]
  },
  {
   "cell_type": "code",
   "execution_count": 128,
   "id": "1bf8c777",
   "metadata": {},
   "outputs": [
    {
     "data": {
      "image/png": "[encoded data removed]",
      "text/plain": [
       "<Figure size 640x480 with 1 Axes>"
      ]
     },
     "metadata": {},
     "output_type": "display_data"
    }
   ],
   "source": [
    "impact_metal_t['Carbon dioxide, fossil', 'tonnes', 'air'].nlargest(10).plot(kind='pie', autopct='%1.1f%%', ylabel='')\n",
    "plt.title('CO2 emissions in copper metallurgy')\n",
    "plt.show()"
   ]
  },
  {
   "cell_type": "code",
   "execution_count": 217,
   "id": "2620748d",
   "metadata": {},
   "outputs": [
    {
     "data": {
      "image/png": "[encoded data removed]",
      "text/plain": [
       "<Figure size 640x480 with 1 Axes>"
      ]
     },
     "metadata": {},
     "output_type": "display_data"
    }
   ],
   "source": [
    "Boats_2_mining=M_eq_boats_2_mining.sum()\n",
    "Boats_3_mining=M_eq_boats_3_mining.sum().squeeze() \n",
    "Trucks_2_mining=M_eq_trucks_2_mining.sum()  \n",
    "Trucks_3_mining=M_eq_trucks_3_mining.sum().squeeze() \n",
    "\n",
    "Boats_2_metal=M_eq_boats_2_metal.sum()\n",
    "Boats_3_metal=M_eq_boats_3_metal.sum().squeeze() \n",
    "Trucks_2_metal=M_eq_trucks_2_metal.sum()  \n",
    "Trucks_3_metal=M_eq_trucks_3_metal.sum().squeeze() \n",
    "\n",
    "#colormap=cm.get_cmap('Greens')\n",
    "#colors=[colormap(j) for j in np.linspace(0.3, 1, len(values))]\n",
    "\n",
    "plt.bar(['Boats_2'], Boats_2_mining, label='Mining',color='lightblue')\n",
    "plt.bar(['Boats_2'], Boats_2_metal, bottom=Boats_2_mining, label='Metallurgy',color='blue')\n",
    "plt.bar(['Boats_3'], Boats_3_mining, label='Mining',color='lightgreen')\n",
    "plt.bar(['Boats_3'], Boats_3_metal, bottom=Boats_3_mining, label='Metallurgy',color='green')\n",
    "plt.bar(['Trucks_2'], Trucks_2_mining, label='Mining',color='lightcoral')\n",
    "plt.bar(['Trucks_2'], Trucks_2_metal, bottom=Trucks_2_mining, label='Metallurgy',color='red')\n",
    "plt.bar(['Trucks_3'], Trucks_3_mining, label='Mining',color='lightyellow')\n",
    "plt.bar(['Trucks_3'], Trucks_3_metal, bottom=Trucks_3_mining, label='Metallurgy',color='yellow')\n",
    "\n",
    "plt.ylabel('CO2')\n",
    "plt.title('CO2 emissions of transport in copper')\n",
    "plt.show()"
   ]
  },
  {
   "cell_type": "markdown",
   "id": "e4b8086b",
   "metadata": {},
   "source": [
    "For price of CO2 non-EU have to been removed"
   ]
  },
  {
   "cell_type": "code",
   "execution_count": 133,
   "id": "9d69650b",
   "metadata": {},
   "outputs": [],
   "source": [
    "price_co2=70.98 #Mean price of t of co2 in EU ETS in 2025\n",
    "eu_countries=['AT', 'BE', 'BG', 'CY', 'CZ', 'DE', 'DK', 'EE', 'ES', 'FI', 'FR', 'GR', 'HR', 'HU', 'IE', 'IT', 'LT', 'LU', 'LV', 'MT', 'NL', 'PL', 'PT', 'RO', 'SE', 'SI', 'SK'] #List of EU countries"
   ]
  },
  {
   "cell_type": "code",
   "execution_count": 218,
   "id": "675c7e98",
   "metadata": {},
   "outputs": [
    {
     "data": {
      "text/plain": [
       "(48,)"
      ]
     },
     "execution_count": 218,
     "metadata": {},
     "output_type": "execute_result"
    }
   ],
   "source": [
    "porc_eu_mining_b=impact_boats_c_mining.iloc[0,:].copy()\n",
    "porc_eu_mining_b.values[:] = 0\n",
    "porc_eu_mining_b.shape"
   ]
  },
  {
   "cell_type": "code",
   "execution_count": 220,
   "id": "72264834",
   "metadata": {},
   "outputs": [
    {
     "name": "stdout",
     "output_type": "stream",
     "text": [
      "Porcentage of EU in metal boats: 1.0\n",
      "Porcentage of EU in metal trucks: 0.9029177294830879\n"
     ]
    }
   ],
   "source": [
    "porc_eu_mining_b=impact_boats_c_mining.iloc[0,:].copy()\n",
    "porc_eu_mining_b.values[:] = 0\n",
    "porc_eu_mining_t=impact_trucks_c_mining.iloc[0,:].copy()\n",
    "porc_eu_mining_t.values[:] = 0\n",
    "\n",
    "for i,row in porc_eu_mining_b.items():\n",
    "    Mining_b=exio3318.Z.xs(\"Sea and coastal water transportation services\", level=\"sector\", axis=0)[(i, mining)]\n",
    "    Mining_eu_b_i=Mining_b[Mining_b.index.isin(eu_countries)]\n",
    "    porc_eu_mining_b[i]= Mining_eu_b_i.sum()/Mining_b.sum() # To calculate the porcentage of EU in transport\n",
    "\n",
    "    Mining_t=exio3318.Z.xs(\"Other land transportation services\", level=\"sector\", axis=0)[(i, mining)]\n",
    "    Mining_eu_t_i=Mining_t[Mining_t.index.isin(eu_countries)]\n",
    "    porc_eu_mining_t[i]=Mining_eu_t_i.sum()/Mining_t.sum()  # To calculate the porcentage of EU in transport \n",
    "\n",
    "porc_eu_mining_b=porc_eu_mining_b.fillna(0)\n",
    "porc_eu_mining_t=porc_eu_mining_t.fillna(0)\n",
    "\n",
    "Metal_b=exio3318.Z.xs(\"Sea and coastal water transportation services\", level=\"sector\", axis=0)[(country_metal,metal)]\n",
    "Metal_eu_b= Metal_b[Metal_b.index.isin(eu_countries)]\n",
    "porc_eu_metal_b=Metal_eu_b.sum()/Metal_b.sum() #To calculate the porcentage of EU in transport\n",
    "\n",
    "Metal_t=exio3318.Z.xs(\"Other land transportation services\", level=\"sector\", axis=0)[(country_metal,metal)]\n",
    "Metal_eu_t= Metal_t[Metal_t.index.isin(eu_countries)]\n",
    "porc_eu_metal_t=Metal_eu_t.sum()/Metal_t.sum() #To calculate the porcentage of EU in transport\n",
    "\n",
    "#print(f'Porcentage of EU in metal boats: {porc_eu_mining_b}')\n",
    "#print(f'Porcentage of EU in metal trucks: {porc_eu_mining_t}')\n",
    "print(f'Porcentage of EU in metal boats: {porc_eu_metal_b}')\n",
    "print(f'Porcentage of EU in metal trucks: {porc_eu_metal_t}')"
   ]
  },
  {
   "cell_type": "code",
   "execution_count": 228,
   "id": "f81c7bfc",
   "metadata": {},
   "outputs": [
    {
     "data": {
      "text/plain": [
       "1.0"
      ]
     },
     "execution_count": 228,
     "metadata": {},
     "output_type": "execute_result"
    }
   ],
   "source": [
    "porc_eu_mining_b['PL']"
   ]
  },
  {
   "cell_type": "markdown",
   "id": "e0ef511e",
   "metadata": {},
   "source": [
    "Mining"
   ]
  },
  {
   "cell_type": "code",
   "execution_count": 229,
   "id": "0eac636d",
   "metadata": {},
   "outputs": [],
   "source": [
    "Cost_boats_2_mining=[]\n",
    "Cost_boats_3_mining=[]\n",
    "Cost_trucks_2_mining=[]\n",
    "Cost_trucks_3_mining=[]\n",
    "\n",
    "for i, region in impact_boats_c_mining.items():\n",
    "    if i in eu_countries:\n",
    "        if porc_eu_mining_b[i]!=0:\n",
    "            Boats_2=M_eq_boats_2_mining.loc[i]*price_co2*porc_eu_mining_b[i]+M_eq_boats_2_mining.loc[i]*price_co2/2*(1-porc_eu_mining_b[i])\n",
    "            Boats_3=M_eq_boats_3_mining.loc[i,'CO2-eq']*price_co2*porc_eu_mining_b[i]+M_eq_boats_3_mining.loc[i,'CO2-eq']*price_co2/2*(1-porc_eu_mining_b[i])\n",
    "            Trucks_2=M_eq_trucks_2_mining.loc[i]*price_co2*porc_eu_mining_t[i]+M_eq_trucks_2_mining.loc[i]*price_co2/2*(1-porc_eu_mining_t[i])\n",
    "            Trucks_3=M_eq_trucks_3_mining.loc[i,'CO2-eq']*price_co2*porc_eu_mining_t[i]+M_eq_trucks_3_mining.loc[i,'CO2-eq']*price_co2/2*(1-porc_eu_mining_t[i])\n",
    "        else:\n",
    "            Boats_2=M_eq_boats_2_mining.loc[i]*price_co2/2*porc_eu_mining_b[i]\n",
    "            Boats_3=M_eq_boats_3_mining.loc[i,'CO2-eq']*price_co2/2*porc_eu_mining_b[i]\n",
    "            Trucks_2=M_eq_trucks_2_mining.loc[i]*price_co2/2*porc_eu_mining_t[i]\n",
    "            Trucks_3=M_eq_trucks_3_mining.loc[i,'CO2-eq']*price_co2/2*porc_eu_mining_t[i]\n",
    "    else:\n",
    "        Boats_2=0\n",
    "        Boats_3=0\n",
    "        Trucks_2=0\n",
    "        Trucks_3=0\n",
    "    Cost_boats_2_mining.append(Boats_2)\n",
    "    Cost_boats_3_mining.append(Boats_3)\n",
    "    Cost_trucks_2_mining.append(Trucks_2)\n",
    "    Cost_trucks_3_mining.append(Trucks_3)\n",
    "\n",
    "Cost_boats_2_mining=pd.DataFrame(Cost_boats_2_mining)\n",
    "Cost_boats_2_mining.index=impact_boats_c_mining.columns\n",
    "Cost_boats_2_mining.columns=[\"CO2-eq\"] #To name the columns\n",
    "Cost_boats_3_mining=pd.DataFrame(Cost_boats_3_mining) \n",
    "Cost_boats_3_mining.index=impact_boats_c_mining.columns\n",
    "Cost_boats_3_mining.columns=[\"CO2-eq\"] #To name the columns\n",
    "Cost_trucks_2_mining=pd.DataFrame(Cost_trucks_2_mining)\n",
    "Cost_trucks_2_mining.index=impact_trucks_c_mining.columns\n",
    "Cost_trucks_2_mining.columns=[\"CO2-eq\"] #To name the columns\n",
    "Cost_trucks_3_mining=pd.DataFrame(Cost_trucks_3_mining)\n",
    "Cost_trucks_3_mining.index=impact_trucks_c_mining.columns\n",
    "Cost_trucks_3_mining.columns=[\"CO2-eq\"] #To name the columns"
   ]
  },
  {
   "cell_type": "markdown",
   "id": "a96d0b0b",
   "metadata": {},
   "source": [
    "Metal"
   ]
  },
  {
   "cell_type": "code",
   "execution_count": 230,
   "id": "6aa457f2",
   "metadata": {},
   "outputs": [],
   "source": [
    "Cost_boats_2_metal=[]\n",
    "Cost_boats_3_metal=[]\n",
    "Cost_trucks_2_metal=[]\n",
    "Cost_trucks_3_metal=[]\n",
    "\n",
    "for i, region in impact_boats_c_metal.items():\n",
    "    if i in eu_countries:\n",
    "        if country_metal in eu_countries: \n",
    "            Boats_2=M_eq_boats_2_metal.loc[i]*price_co2*porc_eu_metal_b+M_eq_boats_2_metal.loc[i]*price_co2/2*(1-porc_eu_metal_b)\n",
    "            Boats_3=M_eq_boats_3_metal.loc[i,'CO2-eq']*price_co2*porc_eu_metal_b+M_eq_boats_3_metal.loc[i,'CO2-eq']*price_co2/2*(1-porc_eu_metal_b)\n",
    "            Trucks_2=M_eq_trucks_2_metal.loc[i]*price_co2*porc_eu_metal_t+M_eq_trucks_2_metal.loc[i]*price_co2/2*(1-porc_eu_metal_t)\n",
    "            Trucks_3=M_eq_trucks_3_metal.loc[i,'CO2-eq']*price_co2*porc_eu_metal_t+M_eq_trucks_3_metal.loc[i,'CO2-eq']*price_co2/2*(1-porc_eu_metal_t)\n",
    "        else:\n",
    "            Boats_2=M_eq_boats_2_metal.loc[i]*price_co2/2*porc_eu_metal_b\n",
    "            Boats_3=M_eq_boats_3_metal.loc[i,'CO2-eq']*price_co2/2*porc_eu_metal_b\n",
    "            Trucks_2=M_eq_trucks_2_metal.loc[i]*price_co2/2*porc_eu_metal_t\n",
    "            Trucks_3=M_eq_trucks_3_metal.loc[i,'CO2-eq']*price_co2/2*porc_eu_metal_t\n",
    "    else:\n",
    "        Boats_2=0\n",
    "        Boats_3=0\n",
    "        Trucks_2=0\n",
    "        Trucks_3=0\n",
    "    Cost_boats_2_metal.append(Boats_2)\n",
    "    Cost_boats_3_metal.append(Boats_3)\n",
    "    Cost_trucks_2_metal.append(Trucks_2)\n",
    "    Cost_trucks_3_metal.append(Trucks_3)\n",
    "\n",
    "Cost_boats_2_metal=pd.DataFrame(Cost_boats_2_metal)\n",
    "Cost_boats_2_metal.index=impact_boats_c_metal.columns\n",
    "Cost_boats_2_metal.columns=[\"CO2-eq\"] #To name the columns\n",
    "Cost_boats_3_metal=pd.DataFrame(Cost_boats_3_metal) \n",
    "Cost_boats_3_metal.index=impact_boats_c_metal.columns\n",
    "Cost_boats_3_metal.columns=[\"CO2-eq\"] #To name the columns\n",
    "Cost_trucks_2_metal=pd.DataFrame(Cost_trucks_2_metal)\n",
    "Cost_trucks_2_metal.index=impact_trucks_c_metal.columns\n",
    "Cost_trucks_2_metal.columns=[\"CO2-eq\"] #To name the columns\n",
    "Cost_trucks_3_metal=pd.DataFrame(Cost_trucks_3_metal)\n",
    "Cost_trucks_3_metal.index=impact_trucks_c_metal.columns\n",
    "Cost_trucks_3_metal.columns=[\"CO2-eq\"] #To name the columns"
   ]
  },
  {
   "cell_type": "code",
   "execution_count": 231,
   "id": "a7eb6867",
   "metadata": {},
   "outputs": [
    {
     "data": {
      "text/html": [
       "<div>\n",
       "<style scoped>\n",
       "    .dataframe tbody tr th:only-of-type {\n",
       "        vertical-align: middle;\n",
       "    }\n",
       "\n",
       "    .dataframe tbody tr th {\n",
       "        vertical-align: top;\n",
       "    }\n",
       "\n",
       "    .dataframe thead th {\n",
       "        text-align: right;\n",
       "    }\n",
       "</style>\n",
       "<table border=\"1\" class=\"dataframe\">\n",
       "  <thead>\n",
       "    <tr style=\"text-align: right;\">\n",
       "      <th></th>\n",
       "      <th>CO2-eq</th>\n",
       "    </tr>\n",
       "    <tr>\n",
       "      <th>region</th>\n",
       "      <th></th>\n",
       "    </tr>\n",
       "  </thead>\n",
       "  <tbody>\n",
       "    <tr>\n",
       "      <th>AT</th>\n",
       "      <td>0.000000e+00</td>\n",
       "    </tr>\n",
       "    <tr>\n",
       "      <th>AU</th>\n",
       "      <td>0.000000e+00</td>\n",
       "    </tr>\n",
       "    <tr>\n",
       "      <th>BE</th>\n",
       "      <td>0.000000e+00</td>\n",
       "    </tr>\n",
       "    <tr>\n",
       "      <th>BG</th>\n",
       "      <td>-0.000000e+00</td>\n",
       "    </tr>\n",
       "    <tr>\n",
       "      <th>BR</th>\n",
       "      <td>0.000000e+00</td>\n",
       "    </tr>\n",
       "    <tr>\n",
       "      <th>CA</th>\n",
       "      <td>0.000000e+00</td>\n",
       "    </tr>\n",
       "    <tr>\n",
       "      <th>CH</th>\n",
       "      <td>0.000000e+00</td>\n",
       "    </tr>\n",
       "    <tr>\n",
       "      <th>CN</th>\n",
       "      <td>0.000000e+00</td>\n",
       "    </tr>\n",
       "    <tr>\n",
       "      <th>CY</th>\n",
       "      <td>0.000000e+00</td>\n",
       "    </tr>\n",
       "    <tr>\n",
       "      <th>CZ</th>\n",
       "      <td>0.000000e+00</td>\n",
       "    </tr>\n",
       "    <tr>\n",
       "      <th>DE</th>\n",
       "      <td>0.000000e+00</td>\n",
       "    </tr>\n",
       "    <tr>\n",
       "      <th>DK</th>\n",
       "      <td>0.000000e+00</td>\n",
       "    </tr>\n",
       "    <tr>\n",
       "      <th>EE</th>\n",
       "      <td>0.000000e+00</td>\n",
       "    </tr>\n",
       "    <tr>\n",
       "      <th>ES</th>\n",
       "      <td>1.440107e-07</td>\n",
       "    </tr>\n",
       "    <tr>\n",
       "      <th>FI</th>\n",
       "      <td>-1.109678e-10</td>\n",
       "    </tr>\n",
       "    <tr>\n",
       "      <th>FR</th>\n",
       "      <td>0.000000e+00</td>\n",
       "    </tr>\n",
       "    <tr>\n",
       "      <th>GB</th>\n",
       "      <td>0.000000e+00</td>\n",
       "    </tr>\n",
       "    <tr>\n",
       "      <th>GR</th>\n",
       "      <td>0.000000e+00</td>\n",
       "    </tr>\n",
       "    <tr>\n",
       "      <th>HR</th>\n",
       "      <td>0.000000e+00</td>\n",
       "    </tr>\n",
       "    <tr>\n",
       "      <th>HU</th>\n",
       "      <td>0.000000e+00</td>\n",
       "    </tr>\n",
       "    <tr>\n",
       "      <th>ID</th>\n",
       "      <td>0.000000e+00</td>\n",
       "    </tr>\n",
       "    <tr>\n",
       "      <th>IE</th>\n",
       "      <td>0.000000e+00</td>\n",
       "    </tr>\n",
       "    <tr>\n",
       "      <th>IN</th>\n",
       "      <td>0.000000e+00</td>\n",
       "    </tr>\n",
       "    <tr>\n",
       "      <th>IT</th>\n",
       "      <td>0.000000e+00</td>\n",
       "    </tr>\n",
       "    <tr>\n",
       "      <th>JP</th>\n",
       "      <td>0.000000e+00</td>\n",
       "    </tr>\n",
       "    <tr>\n",
       "      <th>KR</th>\n",
       "      <td>0.000000e+00</td>\n",
       "    </tr>\n",
       "    <tr>\n",
       "      <th>LT</th>\n",
       "      <td>0.000000e+00</td>\n",
       "    </tr>\n",
       "    <tr>\n",
       "      <th>LU</th>\n",
       "      <td>0.000000e+00</td>\n",
       "    </tr>\n",
       "    <tr>\n",
       "      <th>LV</th>\n",
       "      <td>0.000000e+00</td>\n",
       "    </tr>\n",
       "    <tr>\n",
       "      <th>MT</th>\n",
       "      <td>0.000000e+00</td>\n",
       "    </tr>\n",
       "    <tr>\n",
       "      <th>MX</th>\n",
       "      <td>0.000000e+00</td>\n",
       "    </tr>\n",
       "    <tr>\n",
       "      <th>NL</th>\n",
       "      <td>0.000000e+00</td>\n",
       "    </tr>\n",
       "    <tr>\n",
       "      <th>NO</th>\n",
       "      <td>0.000000e+00</td>\n",
       "    </tr>\n",
       "    <tr>\n",
       "      <th>PL</th>\n",
       "      <td>1.637006e-02</td>\n",
       "    </tr>\n",
       "    <tr>\n",
       "      <th>PT</th>\n",
       "      <td>-6.354742e-10</td>\n",
       "    </tr>\n",
       "    <tr>\n",
       "      <th>RO</th>\n",
       "      <td>9.617660e-08</td>\n",
       "    </tr>\n",
       "    <tr>\n",
       "      <th>RU</th>\n",
       "      <td>0.000000e+00</td>\n",
       "    </tr>\n",
       "    <tr>\n",
       "      <th>SE</th>\n",
       "      <td>-4.896466e-08</td>\n",
       "    </tr>\n",
       "    <tr>\n",
       "      <th>SI</th>\n",
       "      <td>0.000000e+00</td>\n",
       "    </tr>\n",
       "    <tr>\n",
       "      <th>SK</th>\n",
       "      <td>-6.993643e-21</td>\n",
       "    </tr>\n",
       "    <tr>\n",
       "      <th>TR</th>\n",
       "      <td>0.000000e+00</td>\n",
       "    </tr>\n",
       "    <tr>\n",
       "      <th>US</th>\n",
       "      <td>0.000000e+00</td>\n",
       "    </tr>\n",
       "    <tr>\n",
       "      <th>WA</th>\n",
       "      <td>0.000000e+00</td>\n",
       "    </tr>\n",
       "    <tr>\n",
       "      <th>WE</th>\n",
       "      <td>0.000000e+00</td>\n",
       "    </tr>\n",
       "    <tr>\n",
       "      <th>WF</th>\n",
       "      <td>0.000000e+00</td>\n",
       "    </tr>\n",
       "    <tr>\n",
       "      <th>WL</th>\n",
       "      <td>0.000000e+00</td>\n",
       "    </tr>\n",
       "    <tr>\n",
       "      <th>WM</th>\n",
       "      <td>0.000000e+00</td>\n",
       "    </tr>\n",
       "    <tr>\n",
       "      <th>ZA</th>\n",
       "      <td>0.000000e+00</td>\n",
       "    </tr>\n",
       "  </tbody>\n",
       "</table>\n",
       "</div>"
      ],
      "text/plain": [
       "              CO2-eq\n",
       "region              \n",
       "AT      0.000000e+00\n",
       "AU      0.000000e+00\n",
       "BE      0.000000e+00\n",
       "BG     -0.000000e+00\n",
       "BR      0.000000e+00\n",
       "CA      0.000000e+00\n",
       "CH      0.000000e+00\n",
       "CN      0.000000e+00\n",
       "CY      0.000000e+00\n",
       "CZ      0.000000e+00\n",
       "DE      0.000000e+00\n",
       "DK      0.000000e+00\n",
       "EE      0.000000e+00\n",
       "ES      1.440107e-07\n",
       "FI     -1.109678e-10\n",
       "FR      0.000000e+00\n",
       "GB      0.000000e+00\n",
       "GR      0.000000e+00\n",
       "HR      0.000000e+00\n",
       "HU      0.000000e+00\n",
       "ID      0.000000e+00\n",
       "IE      0.000000e+00\n",
       "IN      0.000000e+00\n",
       "IT      0.000000e+00\n",
       "JP      0.000000e+00\n",
       "KR      0.000000e+00\n",
       "LT      0.000000e+00\n",
       "LU      0.000000e+00\n",
       "LV      0.000000e+00\n",
       "MT      0.000000e+00\n",
       "MX      0.000000e+00\n",
       "NL      0.000000e+00\n",
       "NO      0.000000e+00\n",
       "PL      1.637006e-02\n",
       "PT     -6.354742e-10\n",
       "RO      9.617660e-08\n",
       "RU      0.000000e+00\n",
       "SE     -4.896466e-08\n",
       "SI      0.000000e+00\n",
       "SK     -6.993643e-21\n",
       "TR      0.000000e+00\n",
       "US      0.000000e+00\n",
       "WA      0.000000e+00\n",
       "WE      0.000000e+00\n",
       "WF      0.000000e+00\n",
       "WL      0.000000e+00\n",
       "WM      0.000000e+00\n",
       "ZA      0.000000e+00"
      ]
     },
     "execution_count": 231,
     "metadata": {},
     "output_type": "execute_result"
    }
   ],
   "source": [
    "Boats_2_mining_eco = Cost_boats_2_mining\n",
    "Boats_2_mining_eco"
   ]
  },
  {
   "cell_type": "code",
   "execution_count": 232,
   "id": "f76ee1a6",
   "metadata": {},
   "outputs": [
    {
     "data": {
      "image/png": "[encoded data removed]",
      "text/plain": [
       "<Figure size 640x480 with 1 Axes>"
      ]
     },
     "metadata": {},
     "output_type": "display_data"
    }
   ],
   "source": [
    "Boats_2_mining_eco = Cost_boats_2_mining.sum()\n",
    "Boats_3_mining_eco = Cost_boats_3_mining.sum().squeeze()\n",
    "Trucks_2_mining_eco = Cost_trucks_2_mining.sum()\n",
    "Trucks_3_mining_eco = Cost_trucks_3_mining.sum().squeeze()\n",
    "\n",
    "Boats_2_metal_eco=Cost_boats_2_metal.sum()\n",
    "Boats_3_metal_eco=Cost_boats_3_metal.sum().squeeze() \n",
    "Trucks_2_metal_eco=Cost_trucks_2_metal.sum()  \n",
    "Trucks_3_metal_eco=Cost_trucks_3_metal.sum().squeeze() \n",
    "\n",
    "#colormap=cm.get_cmap('Greens')\n",
    "#colors=[colormap(j) for j in np.linspace(0.3, 1, len(values))]\n",
    "\n",
    "plt.bar(['Boats_2'], Boats_2_mining_eco, label='Mining',color='lightblue')\n",
    "plt.bar(['Boats_2'], Boats_2_metal_eco, bottom=Boats_2_mining_eco, label='Metallurgy',color='blue')\n",
    "plt.bar(['Boats_3'], Boats_3_mining_eco, label='Mining',color='lightgreen')\n",
    "plt.bar(['Boats_3'], Boats_3_metal_eco, bottom=Boats_3_mining_eco, label='Metallurgy',color='green')\n",
    "plt.bar(['Trucks_2'], Trucks_2_mining_eco, label='Mining',color='lightcoral')\n",
    "plt.bar(['Trucks_2'], Trucks_2_metal_eco, bottom=Trucks_2_mining_eco, label='Metallurgy',color='red')\n",
    "plt.bar(['Trucks_3'], Trucks_3_mining_eco, label='Mining',color='lightyellow')\n",
    "plt.bar(['Trucks_3'], Trucks_3_metal_eco, bottom=Trucks_3_mining_eco, label='Metallurgy',color='yellow')\n",
    "\n",
    "\n",
    "plt.ylabel('EUR')\n",
    "plt.title('cost of EU ETS in transport of copper')\n",
    "plt.show()\n"
   ]
  },
  {
   "cell_type": "markdown",
   "id": "06e368ba",
   "metadata": {},
   "source": [
    "Bar chart of transport and no"
   ]
  },
  {
   "cell_type": "code",
   "execution_count": 146,
   "id": "dc3a54d2",
   "metadata": {},
   "outputs": [
    {
     "data": {
      "image/png": "[encoded data removed]",
      "text/plain": [
       "<Figure size 640x480 with 1 Axes>"
      ]
     },
     "metadata": {},
     "output_type": "display_data"
    }
   ],
   "source": [
    "impact_mining_sum1=impact_mining_1['Carbon dioxide, fossil', 'tonnes', 'air'].sum()\n",
    "impact_metal_sum1=impact_metal_1['Carbon dioxide, fossil', 'tonnes', 'air'].sum()\n",
    "impact_mining_sum2=impact_mining_2['Carbon dioxide, fossil', 'tonnes', 'air'].sum()\n",
    "impact_metal_sum2=impact_metal_2['Carbon dioxide, fossil', 'tonnes', 'air'].sum()\n",
    "impact_mining_sum3=impact_mining_3['Carbon dioxide, fossil', 'tonnes', 'air'].sum()\n",
    "impact_metal_sum3=impact_metal_3['Carbon dioxide, fossil', 'tonnes', 'air'].sum()\n",
    "\n",
    "\n",
    "impact_mining_sum=[impact_mining_sum1, impact_mining_sum2, impact_mining_sum3]\n",
    "impact_metal_sum=[impact_metal_sum1, impact_metal_sum2, impact_metal_sum3]\n",
    "\n",
    "total_sum=[mining + metal for mining, metal in zip(impact_mining_sum, impact_metal_sum)]\n",
    "labels=['Chain CN', 'Chain DE', 'Chain PL']\n",
    "\n",
    "fig, ax = plt.subplots()\n",
    "bars1=ax.bar(labels, impact_mining_sum, label='Mining', color='blue')\n",
    "bars2=ax.bar(labels, impact_metal_sum, bottom=impact_mining_sum, label='Metallurgy', color='orange')\n",
    "\n",
    "for i, total in enumerate(total_sum):\n",
    "    ax.text(i, total+0.005*max(total_sum), str(round(total, 2)), ha='center', va='bottom', color='black')\n",
    "\n",
    "plt.ylabel('CO2')\n",
    "plt.title('CO2 emissions of copper')\n",
    "plt.show()"
   ]
  },
  {
   "cell_type": "markdown",
   "id": "4acac8f0",
   "metadata": {},
   "source": [
    "# To save the values as TXT (change the name of file if you want)"
   ]
  },
  {
   "cell_type": "code",
   "execution_count": null,
   "id": "3348da64",
   "metadata": {},
   "outputs": [
    {
     "name": "stdout",
     "output_type": "stream",
     "text": [
      "Not saved\n"
     ]
    }
   ],
   "source": [
    "answer2=input(\"Do you want to save in txt files value of enivornmental, social and economic impact? Put y for yes, n for no\").strip().lower()\n",
    "\n",
    "if answer2==\"y\":\n",
    "    impact_wanted.to_csv('Emissions_products.txt', sep='\\t', index=True, header=True)\n",
    "    #M_eq.to_csv('Environmental_impact.txt', sep='\\t', index=True, header=True)\n",
    "    #np.savetxt('M_social.txt',M_social, fmt=\"%s\") #To save the M_social\n",
    "    #np.savetxt('M_economic.txt',M_eco, fmt=\"%s\") #To save the M_economic\n",
    "    print(\"txt files are in the same folder of this file\")\n",
    "elif answer2==\"n\":\n",
    "    print(\"Not saved\")\n",
    "else:\n",
    "    print(\"Error please write y or n\")"
   ]
  }
 ],
 "metadata": {
  "kernelspec": {
   "display_name": "io_bw25",
   "language": "python",
   "name": "python3"
  },
  "language_info": {
   "codemirror_mode": {
    "name": "ipython",
    "version": 3
   },
   "file_extension": ".py",
   "mimetype": "text/x-python",
   "name": "python",
   "nbconvert_exporter": "python",
   "pygments_lexer": "ipython3",
   "version": "3.11.13"
  }
 },
 "nbformat": 4,
 "nbformat_minor": 5
}
